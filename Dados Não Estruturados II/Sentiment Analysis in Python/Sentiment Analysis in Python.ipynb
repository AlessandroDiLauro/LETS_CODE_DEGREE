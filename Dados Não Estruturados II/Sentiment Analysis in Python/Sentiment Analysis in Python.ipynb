{
 "cells": [
  {
   "cell_type": "code",
   "execution_count": 2,
   "id": "d6ba59cb",
   "metadata": {},
   "outputs": [],
   "source": [
    "import pandas as pd\n",
    "import numpy as np"
   ]
  },
  {
   "cell_type": "code",
   "execution_count": 3,
   "id": "c81012ab",
   "metadata": {},
   "outputs": [],
   "source": [
    "movies = pd.read_csv('IMDB_sample.csv', index_col=False)"
   ]
  },
  {
   "cell_type": "code",
   "execution_count": 4,
   "id": "66d2dc30",
   "metadata": {},
   "outputs": [
    {
     "data": {
      "text/html": [
       "<div>\n",
       "<style scoped>\n",
       "    .dataframe tbody tr th:only-of-type {\n",
       "        vertical-align: middle;\n",
       "    }\n",
       "\n",
       "    .dataframe tbody tr th {\n",
       "        vertical-align: top;\n",
       "    }\n",
       "\n",
       "    .dataframe thead th {\n",
       "        text-align: right;\n",
       "    }\n",
       "</style>\n",
       "<table border=\"1\" class=\"dataframe\">\n",
       "  <thead>\n",
       "    <tr style=\"text-align: right;\">\n",
       "      <th></th>\n",
       "      <th>Unnamed: 0</th>\n",
       "      <th>review</th>\n",
       "      <th>label</th>\n",
       "    </tr>\n",
       "  </thead>\n",
       "  <tbody>\n",
       "    <tr>\n",
       "      <th>0</th>\n",
       "      <td>18245</td>\n",
       "      <td>This short spoof can be found on Elite's Mille...</td>\n",
       "      <td>0</td>\n",
       "    </tr>\n",
       "    <tr>\n",
       "      <th>1</th>\n",
       "      <td>19801</td>\n",
       "      <td>A singularly unfunny musical comedy that artif...</td>\n",
       "      <td>0</td>\n",
       "    </tr>\n",
       "    <tr>\n",
       "      <th>2</th>\n",
       "      <td>3222</td>\n",
       "      <td>An excellent series, masterfully acted and dir...</td>\n",
       "      <td>1</td>\n",
       "    </tr>\n",
       "    <tr>\n",
       "      <th>3</th>\n",
       "      <td>6010</td>\n",
       "      <td>The master of movie spectacle Cecil B. De Mill...</td>\n",
       "      <td>1</td>\n",
       "    </tr>\n",
       "    <tr>\n",
       "      <th>4</th>\n",
       "      <td>16355</td>\n",
       "      <td>I was gifted with this movie as it had such a ...</td>\n",
       "      <td>0</td>\n",
       "    </tr>\n",
       "  </tbody>\n",
       "</table>\n",
       "</div>"
      ],
      "text/plain": [
       "   Unnamed: 0                                             review  label\n",
       "0       18245  This short spoof can be found on Elite's Mille...      0\n",
       "1       19801  A singularly unfunny musical comedy that artif...      0\n",
       "2        3222  An excellent series, masterfully acted and dir...      1\n",
       "3        6010  The master of movie spectacle Cecil B. De Mill...      1\n",
       "4       16355  I was gifted with this movie as it had such a ...      0"
      ]
     },
     "execution_count": 4,
     "metadata": {},
     "output_type": "execute_result"
    }
   ],
   "source": [
    "movies.head()"
   ]
  },
  {
   "cell_type": "code",
   "execution_count": 5,
   "id": "541f873c",
   "metadata": {},
   "outputs": [
    {
     "data": {
      "text/plain": [
       "3719"
      ]
     },
     "execution_count": 5,
     "metadata": {},
     "output_type": "execute_result"
    }
   ],
   "source": [
    "movies.label.sum()"
   ]
  },
  {
   "cell_type": "code",
   "execution_count": 6,
   "id": "e09390c0",
   "metadata": {},
   "outputs": [
    {
     "name": "stdout",
     "output_type": "stream",
     "text": [
      "Number of positive and negative reviews:  0    3782\n",
      "1    3719\n",
      "Name: label, dtype: int64\n",
      "Proportion of positive and negative reviews:  0    0.504199\n",
      "1    0.495801\n",
      "Name: label, dtype: float64\n"
     ]
    }
   ],
   "source": [
    "# Find the number of positive and negative reviews\n",
    "print('Number of positive and negative reviews: ', movies.label.value_counts())\n",
    "\n",
    "# Find the proportion of positive and negative reviews\n",
    "print('Proportion of positive and negative reviews: ', movies.label.value_counts() / len(movies))"
   ]
  },
  {
   "cell_type": "code",
   "execution_count": 7,
   "id": "d3f5b153",
   "metadata": {},
   "outputs": [
    {
     "data": {
      "text/plain": [
       "0        667\n",
       "1       2982\n",
       "2        669\n",
       "3        691\n",
       "4       1087\n",
       "        ... \n",
       "7496     633\n",
       "7497     650\n",
       "7498     654\n",
       "7499     918\n",
       "7500     336\n",
       "Name: review, Length: 7501, dtype: int64"
      ]
     },
     "execution_count": 7,
     "metadata": {},
     "output_type": "execute_result"
    }
   ],
   "source": [
    "movies.review.str.len()"
   ]
  },
  {
   "cell_type": "code",
   "execution_count": 8,
   "id": "ded02e43",
   "metadata": {},
   "outputs": [
    {
     "name": "stdout",
     "output_type": "stream",
     "text": [
      "10321\n"
     ]
    }
   ],
   "source": [
    "length_reviews = movies.review.str.len()\n",
    "\n",
    "# How long is the longest review\n",
    "print(max(length_reviews))"
   ]
  },
  {
   "cell_type": "code",
   "execution_count": 9,
   "id": "e2d751ef",
   "metadata": {},
   "outputs": [
    {
     "name": "stdout",
     "output_type": "stream",
     "text": [
      "52\n"
     ]
    }
   ],
   "source": [
    "# How long is the shortest review\n",
    "print(min(length_reviews))"
   ]
  },
  {
   "cell_type": "markdown",
   "id": "5801919a",
   "metadata": {},
   "source": [
    "### Detecting the sentiment"
   ]
  },
  {
   "cell_type": "code",
   "execution_count": 10,
   "id": "170d0f7d",
   "metadata": {},
   "outputs": [],
   "source": [
    "#!pip install textblob"
   ]
  },
  {
   "cell_type": "code",
   "execution_count": 11,
   "id": "40b3d1d4",
   "metadata": {},
   "outputs": [],
   "source": [
    "two_cities = 'It was the best of times, it was the worst of times, it was the age of wisdom, it was the age of foolishness, it was the epoch of belief, it was the epoch of incredulity, it was the season of Light, it was the season of Darkness, it was the spring of hope, it was the winter of despair, we had everything before us, we had nothing before us, we were all going direct to Heaven, we were all going direct the other way – in short, the period was so far like the present period, that some of its noisiest authorities insisted on its being received, for good or for evil, in the superlative degree of comparison only.'"
   ]
  },
  {
   "cell_type": "code",
   "execution_count": 12,
   "id": "bef2294c",
   "metadata": {},
   "outputs": [
    {
     "name": "stdout",
     "output_type": "stream",
     "text": [
      "Sentiment(polarity=0.022916666666666658, subjectivity=0.5895833333333332)\n"
     ]
    }
   ],
   "source": [
    "# Import the required packages\n",
    "from textblob import TextBlob\n",
    "\n",
    "# Create a textblob object  \n",
    "blob_two_cities = TextBlob(two_cities)\n",
    "\n",
    "# Print out the sentiment \n",
    "print(blob_two_cities.sentiment)"
   ]
  },
  {
   "cell_type": "markdown",
   "id": "aa90aa4b",
   "metadata": {},
   "source": [
    "### Comparing the sentiment of two strings"
   ]
  },
  {
   "cell_type": "code",
   "execution_count": 13,
   "id": "26736b5d",
   "metadata": {},
   "outputs": [],
   "source": [
    "annak = 'Happy families are all alike; every unhappy family is unhappy in its own way'"
   ]
  },
  {
   "cell_type": "code",
   "execution_count": 14,
   "id": "8495e271",
   "metadata": {},
   "outputs": [],
   "source": [
    "catcher = \"If you really want to hear about it,the first thing you'll probably want to know is where I was born, and what my lousy childhood was like, and how my parents were occupied and all before they had me, and all that David Copperfield kind of crap, but I don't feel like going into it, if you want to know the truth.\""
   ]
  },
  {
   "cell_type": "code",
   "execution_count": 15,
   "id": "abc69464",
   "metadata": {},
   "outputs": [
    {
     "name": "stdout",
     "output_type": "stream",
     "text": [
      "Sentiment of annak:  Sentiment(polarity=0.05000000000000002, subjectivity=0.95)\n",
      "Sentiment of catcher:  Sentiment(polarity=-0.05, subjectivity=0.5466666666666666)\n"
     ]
    }
   ],
   "source": [
    "# Import the required packages\n",
    "from textblob import TextBlob\n",
    "\n",
    "# Create a textblob object \n",
    "blob_annak = TextBlob(annak)\n",
    "blob_catcher = TextBlob(catcher)\n",
    "\n",
    "# Print out the sentiment   \n",
    "print('Sentiment of annak: ', blob_annak.sentiment)\n",
    "print('Sentiment of catcher: ', blob_catcher.sentiment)"
   ]
  },
  {
   "cell_type": "markdown",
   "id": "955069b6",
   "metadata": {},
   "source": [
    "### What is the sentiment of a movie review?"
   ]
  },
  {
   "cell_type": "code",
   "execution_count": 16,
   "id": "bed84790",
   "metadata": {},
   "outputs": [],
   "source": [
    "titanic = [ rev for rev in movies.review.values if 'Titanic' in rev ]\n"
   ]
  },
  {
   "cell_type": "code",
   "execution_count": 17,
   "id": "5e21fb9c",
   "metadata": {},
   "outputs": [],
   "source": [
    "titanic = titanic[2]"
   ]
  },
  {
   "cell_type": "code",
   "execution_count": 18,
   "id": "64eebadf",
   "metadata": {},
   "outputs": [
    {
     "name": "stdout",
     "output_type": "stream",
     "text": [
      "Sentiment(polarity=0.2077513227513227, subjectivity=0.5231181657848325)\n"
     ]
    }
   ],
   "source": [
    "# Create a textblob object  \n",
    "blob_titanic = TextBlob(titanic)\n",
    "\n",
    "# Print out its sentiment  \n",
    "print(blob_titanic.sentiment)"
   ]
  },
  {
   "cell_type": "markdown",
   "id": "4672e73c",
   "metadata": {},
   "source": [
    "### Word cloud"
   ]
  },
  {
   "cell_type": "code",
   "execution_count": 19,
   "id": "3a868a9e",
   "metadata": {},
   "outputs": [],
   "source": [
    "east_of_eden = 'I remember my childhood names for grasses and secret flowers. I remember where a toad may live and what time the birds awaken in the summer—and what trees and seasons smelled like—how people looked and walked and smelled even. The memory of odors is very rich.'"
   ]
  },
  {
   "cell_type": "code",
   "execution_count": 20,
   "id": "a4ba8c27",
   "metadata": {},
   "outputs": [
    {
     "data": {
      "text/plain": [
       "<function matplotlib.pyplot.show(close=None, block=None)>"
      ]
     },
     "execution_count": 20,
     "metadata": {},
     "output_type": "execute_result"
    },
    {
     "data": {
      "image/png": "[encoded data removed]",
      "text/plain": [
       "<Figure size 432x288 with 1 Axes>"
      ]
     },
     "metadata": {
      "needs_background": "light"
     },
     "output_type": "display_data"
    }
   ],
   "source": [
    "from wordcloud import WordCloud\n",
    "import matplotlib.pyplot as plt\n",
    "\n",
    "# Generate the word cloud from the east_of_eden string\n",
    "cloud_east_of_eden = WordCloud(background_color=\"white\").generate(east_of_eden)\n",
    "# Create a figure of the generated cloud\n",
    "plt.imshow(cloud_east_of_eden, interpolation='bilinear')  \n",
    "plt.axis('off')\n",
    "# Display the figure\n",
    "plt.show\n"
   ]
  },
  {
   "cell_type": "code",
   "execution_count": 21,
   "id": "c8209ae9",
   "metadata": {},
   "outputs": [],
   "source": [
    "illuminated = 'I am not sad, he would repeat to himself over and over, I am not sad. As if he might one day convince himself or convince others -- the only thing worse than being sad is for others to know that you are sad. I am not sad.'"
   ]
  },
  {
   "cell_type": "code",
   "execution_count": 22,
   "id": "a66b56bb",
   "metadata": {},
   "outputs": [
    {
     "data": {
      "text/plain": [
       "<function matplotlib.pyplot.show(close=None, block=None)>"
      ]
     },
     "execution_count": 22,
     "metadata": {},
     "output_type": "execute_result"
    },
    {
     "data": {
      "image/png": "[encoded data removed]",
      "text/plain": [
       "<Figure size 432x288 with 1 Axes>"
      ]
     },
     "metadata": {
      "needs_background": "light"
     },
     "output_type": "display_data"
    }
   ],
   "source": [
    "# Generate the word cloud from the east_of_eden string\n",
    "cloud_east_of_eden = WordCloud(background_color=\"white\").generate(illuminated)\n",
    "# Create a figure of the generated cloud\n",
    "plt.imshow(cloud_east_of_eden, interpolation='bilinear')  \n",
    "plt.axis('off')\n",
    "# Display the figure\n",
    "plt.show"
   ]
  },
  {
   "cell_type": "markdown",
   "id": "7b522e36",
   "metadata": {},
   "source": [
    "### Word Cloud on movie reviews"
   ]
  },
  {
   "cell_type": "code",
   "execution_count": 23,
   "id": "229e0e8a",
   "metadata": {},
   "outputs": [],
   "source": [
    "descriptions = movies[movies.label == 1]['review'][:1].values.tolist()[0]"
   ]
  },
  {
   "cell_type": "code",
   "execution_count": 24,
   "id": "83c3291a",
   "metadata": {},
   "outputs": [
    {
     "data": {
      "text/plain": [
       "669"
      ]
     },
     "execution_count": 24,
     "metadata": {},
     "output_type": "execute_result"
    }
   ],
   "source": [
    "len(descriptions)"
   ]
  },
  {
   "cell_type": "code",
   "execution_count": 25,
   "id": "b0cb1f54",
   "metadata": {},
   "outputs": [],
   "source": [
    "my_stopwords = {'a',\n",
    " 'about',\n",
    " 'above',\n",
    " 'after',\n",
    " 'again',\n",
    " 'against',\n",
    " 'all',\n",
    " 'also',\n",
    " 'am',\n",
    " 'an',\n",
    " 'and',\n",
    " 'any',\n",
    " 'are',\n",
    " \"aren't\",\n",
    " 'as',\n",
    " 'at',\n",
    " 'be',\n",
    " 'because',\n",
    " 'been',\n",
    " 'before',\n",
    " 'being',\n",
    " 'below',\n",
    " 'between',\n",
    " 'both',\n",
    " 'br',\n",
    " 'but',\n",
    " 'by',\n",
    " 'can',\n",
    " \"can't\",\n",
    " 'cannot',\n",
    " 'com',\n",
    " 'could',\n",
    " \"couldn't\",\n",
    " 'did',\n",
    " \"didn't\",\n",
    " 'do',\n",
    " 'does',\n",
    " \"doesn't\",\n",
    " 'doing',\n",
    " \"don't\",\n",
    " 'down',\n",
    " 'during',\n",
    " 'each',\n",
    " 'else',\n",
    " 'ever',\n",
    " 'few',\n",
    " 'film',\n",
    " 'films',\n",
    " 'for',\n",
    " 'from',\n",
    " 'further',\n",
    " 'get',\n",
    " 'had',\n",
    " \"hadn't\",\n",
    " 'has',\n",
    " \"hasn't\",\n",
    " 'have',\n",
    " \"haven't\",\n",
    " 'having',\n",
    " 'he',\n",
    " \"he'd\",\n",
    " \"he'll\",\n",
    " \"he's\",\n",
    " 'hence',\n",
    " 'her',\n",
    " 'here',\n",
    " \"here's\",\n",
    " 'hers',\n",
    " 'herself',\n",
    " 'him',\n",
    " 'himself',\n",
    " 'his',\n",
    " 'how',\n",
    " \"how's\",\n",
    " 'however',\n",
    " 'http',\n",
    " 'i',\n",
    " \"i'd\",\n",
    " \"i'll\",\n",
    " \"i'm\",\n",
    " \"i've\",\n",
    " 'if',\n",
    " 'in',\n",
    " 'into',\n",
    " 'is',\n",
    " \"isn't\",\n",
    " 'it',\n",
    " \"it's\",\n",
    " 'its',\n",
    " 'itself',\n",
    " 'just',\n",
    " 'k',\n",
    " \"let's\",\n",
    " 'like',\n",
    " 'me',\n",
    " 'more',\n",
    " 'most',\n",
    " 'movie',\n",
    " 'movies',\n",
    " \"mustn't\",\n",
    " 'my',\n",
    " 'myself',\n",
    " 'no',\n",
    " 'nor',\n",
    " 'not',\n",
    " 'of',\n",
    " 'off',\n",
    " 'on',\n",
    " 'once',\n",
    " 'only',\n",
    " 'or',\n",
    " 'other',\n",
    " 'otherwise',\n",
    " 'ought',\n",
    " 'our',\n",
    " 'ours',\n",
    " 'ourselves',\n",
    " 'out',\n",
    " 'over',\n",
    " 'own',\n",
    " 'r',\n",
    " 'same',\n",
    " 'shall',\n",
    " \"shan't\",\n",
    " 'she',\n",
    " \"she'd\",\n",
    " \"she'll\",\n",
    " \"she's\",\n",
    " 'should',\n",
    " \"shouldn't\",\n",
    " 'since',\n",
    " 'so',\n",
    " 'some',\n",
    " 'such',\n",
    " 'than',\n",
    " 'that',\n",
    " \"that's\",\n",
    " 'the',\n",
    " 'their',\n",
    " 'theirs',\n",
    " 'them',\n",
    " 'themselves',\n",
    " 'then',\n",
    " 'there',\n",
    " \"there's\",\n",
    " 'therefore',\n",
    " 'these',\n",
    " 'they',\n",
    " \"they'd\",\n",
    " \"they'll\",\n",
    " \"they're\",\n",
    " \"they've\",\n",
    " 'this',\n",
    " 'those',\n",
    " 'through',\n",
    " 'to',\n",
    " 'too',\n",
    " 'under',\n",
    " 'until',\n",
    " 'up',\n",
    " 'very',\n",
    " 'was',\n",
    " \"wasn't\",\n",
    " 'watch',\n",
    " 'we',\n",
    " \"we'd\",\n",
    " \"we'll\",\n",
    " \"we're\",\n",
    " \"we've\",\n",
    " 'were',\n",
    " \"weren't\",\n",
    " 'what',\n",
    " \"what's\",\n",
    " 'when',\n",
    " \"when's\",\n",
    " 'where',\n",
    " \"where's\",\n",
    " 'which',\n",
    " 'while',\n",
    " 'who',\n",
    " \"who's\",\n",
    " 'whom',\n",
    " 'why',\n",
    " \"why's\",\n",
    " 'with',\n",
    " \"won't\",\n",
    " 'would',\n",
    " \"wouldn't\",\n",
    " 'www',\n",
    " 'you',\n",
    " \"you'd\",\n",
    " \"you'll\",\n",
    " \"you're\",\n",
    " \"you've\",\n",
    " 'your',\n",
    " 'yours',\n",
    " 'yourself',\n",
    " 'yourselves'}\n",
    "\n",
    "\n"
   ]
  },
  {
   "cell_type": "code",
   "execution_count": 26,
   "id": "c4989f6a",
   "metadata": {},
   "outputs": [
    {
     "data": {
      "text/plain": [
       "set"
      ]
     },
     "execution_count": 26,
     "metadata": {},
     "output_type": "execute_result"
    }
   ],
   "source": [
    "type(my_stopwords)"
   ]
  },
  {
   "cell_type": "code",
   "execution_count": 27,
   "id": "69200db8",
   "metadata": {},
   "outputs": [
    {
     "data": {
      "image/png": "[encoded data removed]",
      "text/plain": [
       "<Figure size 432x288 with 1 Axes>"
      ]
     },
     "metadata": {
      "needs_background": "light"
     },
     "output_type": "display_data"
    }
   ],
   "source": [
    "# Import the word cloud function \n",
    "from wordcloud import WordCloud \n",
    "\n",
    "# Create and generate a word cloud image\n",
    "my_cloud = WordCloud(background_color='white', stopwords=my_stopwords).generate(descriptions)\n",
    "\n",
    "# Display the generated wordcloud image\n",
    "plt.imshow(my_cloud, interpolation='bilinear') \n",
    "plt.axis(\"off\")\n",
    "\n",
    "# Don't forget to show the final image\n",
    "plt.show()\n"
   ]
  },
  {
   "cell_type": "markdown",
   "id": "a65daa93",
   "metadata": {},
   "source": [
    "### Numeric Features from Reviews"
   ]
  },
  {
   "cell_type": "code",
   "execution_count": 28,
   "id": "0b201a9b",
   "metadata": {},
   "outputs": [
    {
     "name": "stdout",
     "output_type": "stream",
     "text": [
      "[[1 1 1 0 1 0 1 0 0 0 0 0 0]\n",
      " [0 0 0 1 0 1 0 1 1 1 1 2 1]]\n"
     ]
    }
   ],
   "source": [
    "# Import the required function\n",
    "from sklearn.feature_extraction.text import CountVectorizer\n",
    "\n",
    "annak = ['Happy families are all alike;', 'every unhappy family is unhappy in its own way']\n",
    "\n",
    "# Build the vectorizer and fit it\n",
    "anna_vect = CountVectorizer()\n",
    "anna_vect.fit(annak)\n",
    "\n",
    "# Create the bow representation\n",
    "anna_bow = anna_vect.transform(annak)\n",
    "\n",
    "# Print the bag-of-words result \n",
    "print(anna_bow.toarray())"
   ]
  },
  {
   "cell_type": "code",
   "execution_count": 29,
   "id": "40dd58a0",
   "metadata": {},
   "outputs": [],
   "source": [
    "reviews =  pd.read_csv('amazon_reviews_sample.csv')"
   ]
  },
  {
   "cell_type": "code",
   "execution_count": 30,
   "id": "f2250d06",
   "metadata": {},
   "outputs": [],
   "source": [
    "reviews.drop(\"Unnamed: 0\",axis=1, inplace=True)"
   ]
  },
  {
   "cell_type": "code",
   "execution_count": 31,
   "id": "d100d9b2",
   "metadata": {},
   "outputs": [
    {
     "data": {
      "text/html": [
       "<div>\n",
       "<style scoped>\n",
       "    .dataframe tbody tr th:only-of-type {\n",
       "        vertical-align: middle;\n",
       "    }\n",
       "\n",
       "    .dataframe tbody tr th {\n",
       "        vertical-align: top;\n",
       "    }\n",
       "\n",
       "    .dataframe thead th {\n",
       "        text-align: right;\n",
       "    }\n",
       "</style>\n",
       "<table border=\"1\" class=\"dataframe\">\n",
       "  <thead>\n",
       "    <tr style=\"text-align: right;\">\n",
       "      <th></th>\n",
       "      <th>score</th>\n",
       "      <th>review</th>\n",
       "    </tr>\n",
       "  </thead>\n",
       "  <tbody>\n",
       "    <tr>\n",
       "      <th>0</th>\n",
       "      <td>1</td>\n",
       "      <td>Stuning even for the non-gamer: This sound tr...</td>\n",
       "    </tr>\n",
       "    <tr>\n",
       "      <th>1</th>\n",
       "      <td>1</td>\n",
       "      <td>The best soundtrack ever to anything.: I'm re...</td>\n",
       "    </tr>\n",
       "    <tr>\n",
       "      <th>2</th>\n",
       "      <td>1</td>\n",
       "      <td>Amazing!: This soundtrack is my favorite musi...</td>\n",
       "    </tr>\n",
       "    <tr>\n",
       "      <th>3</th>\n",
       "      <td>1</td>\n",
       "      <td>Excellent Soundtrack: I truly like this sound...</td>\n",
       "    </tr>\n",
       "    <tr>\n",
       "      <th>4</th>\n",
       "      <td>1</td>\n",
       "      <td>Remember, Pull Your Jaw Off The Floor After H...</td>\n",
       "    </tr>\n",
       "  </tbody>\n",
       "</table>\n",
       "</div>"
      ],
      "text/plain": [
       "   score                                             review\n",
       "0      1   Stuning even for the non-gamer: This sound tr...\n",
       "1      1   The best soundtrack ever to anything.: I'm re...\n",
       "2      1   Amazing!: This soundtrack is my favorite musi...\n",
       "3      1   Excellent Soundtrack: I truly like this sound...\n",
       "4      1   Remember, Pull Your Jaw Off The Floor After H..."
      ]
     },
     "execution_count": 31,
     "metadata": {},
     "output_type": "execute_result"
    }
   ],
   "source": [
    "reviews.head()"
   ]
  },
  {
   "cell_type": "code",
   "execution_count": 32,
   "id": "bb5b536d",
   "metadata": {},
   "outputs": [
    {
     "name": "stdout",
     "output_type": "stream",
     "text": [
      "   about  after  all  also  am  an  and  any  are  as  ...  what  when  which  \\\n",
      "0      0      0    1     0   0   0    2    0    0   0  ...     0     0      0   \n",
      "1      0      0    0     0   0   0    3    1    1   0  ...     0     0      0   \n",
      "2      0      0    3     0   0   1    4    0    1   1  ...     0     0      1   \n",
      "3      0      0    0     0   0   0    9    0    1   0  ...     0     0      0   \n",
      "4      0      1    0     0   0   0    3    0    1   0  ...     0     0      0   \n",
      "\n",
      "   who  will  with  work  would  you  your  \n",
      "0    2     0     1     0      2    0     1  \n",
      "1    0     0     0     0      1    1     0  \n",
      "2    1     0     0     1      1    2     0  \n",
      "3    0     0     0     0      0    0     0  \n",
      "4    0     0     0     0      0    3     1  \n",
      "\n",
      "[5 rows x 100 columns]\n"
     ]
    }
   ],
   "source": [
    "from sklearn.feature_extraction.text import CountVectorizer \n",
    "\n",
    "# Build the vectorizer, specify max features \n",
    "vect = CountVectorizer(max_features=100)\n",
    "# Fit the vectorizer\n",
    "vect.fit(reviews.review)\n",
    "\n",
    "# Transform the review column\n",
    "X_review = vect.transform(reviews.review)\n",
    "\n",
    "# Create the bow representation\n",
    "X_df=pd.DataFrame(X_review.toarray(), columns=vect.get_feature_names_out())\n",
    "print(X_df.head())"
   ]
  },
  {
   "cell_type": "markdown",
   "id": "7afe858d",
   "metadata": {},
   "source": [
    "### Getting granular with n-grams"
   ]
  },
  {
   "cell_type": "code",
   "execution_count": 33,
   "id": "4cc32644",
   "metadata": {},
   "outputs": [
    {
     "name": "stdout",
     "output_type": "stream",
     "text": [
      "   about  after  all  an  and  and the  are  as  at  be  ...  were  what  \\\n",
      "0      0      0    1   0    2        0    0   0   0   0  ...     0     0   \n",
      "1      0      0    0   0    3        0    1   0   0   1  ...     0     0   \n",
      "2      0      0    3   1    4        1    1   1   0   1  ...     0     0   \n",
      "3      0      0    0   0    9        0    1   0   0   1  ...     0     0   \n",
      "4      0      1    0   0    3        1    1   0   0   1  ...     0     0   \n",
      "\n",
      "   when  which  who  will  with  would  you  your  \n",
      "0     0      0    2     0     1      2    0     1  \n",
      "1     0      0    0     0     0      1    1     0  \n",
      "2     0      1    1     0     0      1    2     0  \n",
      "3     0      0    0     0     0      0    0     0  \n",
      "4     0      0    0     0     0      0    3     1  \n",
      "\n",
      "[5 rows x 100 columns]\n"
     ]
    }
   ],
   "source": [
    "from sklearn.feature_extraction.text import CountVectorizer \n",
    "\n",
    "# Build the vectorizer, specify token sequence and fit\n",
    "vect = CountVectorizer(max_features=100, ngram_range=(1, 2))\n",
    "vect.fit(reviews.review)\n",
    "\n",
    "# Transform the review column\n",
    "X_review = vect.transform(reviews.review)\n",
    "\n",
    "# Create the bow representation\n",
    "X_df = pd.DataFrame(X_review.toarray(), columns=vect.get_feature_names_out())\n",
    "print(X_df.head())"
   ]
  },
  {
   "cell_type": "code",
   "execution_count": 34,
   "id": "3b86ea86",
   "metadata": {},
   "outputs": [
    {
     "name": "stdout",
     "output_type": "stream",
     "text": [
      "<class 'pandas.core.frame.DataFrame'>\n",
      "RangeIndex: 10000 entries, 0 to 9999\n",
      "Data columns (total 100 columns):\n",
      " #   Column     Non-Null Count  Dtype\n",
      "---  ------     --------------  -----\n",
      " 0   about      10000 non-null  int64\n",
      " 1   after      10000 non-null  int64\n",
      " 2   all        10000 non-null  int64\n",
      " 3   an         10000 non-null  int64\n",
      " 4   and        10000 non-null  int64\n",
      " 5   and the    10000 non-null  int64\n",
      " 6   are        10000 non-null  int64\n",
      " 7   as         10000 non-null  int64\n",
      " 8   at         10000 non-null  int64\n",
      " 9   be         10000 non-null  int64\n",
      " 10  because    10000 non-null  int64\n",
      " 11  been       10000 non-null  int64\n",
      " 12  best       10000 non-null  int64\n",
      " 13  better     10000 non-null  int64\n",
      " 14  book       10000 non-null  int64\n",
      " 15  but        10000 non-null  int64\n",
      " 16  buy        10000 non-null  int64\n",
      " 17  by         10000 non-null  int64\n",
      " 18  can        10000 non-null  int64\n",
      " 19  do         10000 non-null  int64\n",
      " 20  don        10000 non-null  int64\n",
      " 21  even       10000 non-null  int64\n",
      " 22  first      10000 non-null  int64\n",
      " 23  for        10000 non-null  int64\n",
      " 24  for the    10000 non-null  int64\n",
      " 25  from       10000 non-null  int64\n",
      " 26  get        10000 non-null  int64\n",
      " 27  good       10000 non-null  int64\n",
      " 28  great      10000 non-null  int64\n",
      " 29  had        10000 non-null  int64\n",
      " 30  has        10000 non-null  int64\n",
      " 31  have       10000 non-null  int64\n",
      " 32  he         10000 non-null  int64\n",
      " 33  her        10000 non-null  int64\n",
      " 34  his        10000 non-null  int64\n",
      " 35  how        10000 non-null  int64\n",
      " 36  if         10000 non-null  int64\n",
      " 37  if you     10000 non-null  int64\n",
      " 38  in         10000 non-null  int64\n",
      " 39  in the     10000 non-null  int64\n",
      " 40  is         10000 non-null  int64\n",
      " 41  it         10000 non-null  int64\n",
      " 42  it is      10000 non-null  int64\n",
      " 43  it was     10000 non-null  int64\n",
      " 44  just       10000 non-null  int64\n",
      " 45  like       10000 non-null  int64\n",
      " 46  love       10000 non-null  int64\n",
      " 47  me         10000 non-null  int64\n",
      " 48  more       10000 non-null  int64\n",
      " 49  movie      10000 non-null  int64\n",
      " 50  much       10000 non-null  int64\n",
      " 51  my         10000 non-null  int64\n",
      " 52  no         10000 non-null  int64\n",
      " 53  not        10000 non-null  int64\n",
      " 54  of         10000 non-null  int64\n",
      " 55  of the     10000 non-null  int64\n",
      " 56  on         10000 non-null  int64\n",
      " 57  on the     10000 non-null  int64\n",
      " 58  one        10000 non-null  int64\n",
      " 59  only       10000 non-null  int64\n",
      " 60  or         10000 non-null  int64\n",
      " 61  other      10000 non-null  int64\n",
      " 62  out        10000 non-null  int64\n",
      " 63  read       10000 non-null  int64\n",
      " 64  really     10000 non-null  int64\n",
      " 65  she        10000 non-null  int64\n",
      " 66  so         10000 non-null  int64\n",
      " 67  some       10000 non-null  int64\n",
      " 68  story      10000 non-null  int64\n",
      " 69  than       10000 non-null  int64\n",
      " 70  that       10000 non-null  int64\n",
      " 71  the        10000 non-null  int64\n",
      " 72  the book   10000 non-null  int64\n",
      " 73  them       10000 non-null  int64\n",
      " 74  there      10000 non-null  int64\n",
      " 75  these      10000 non-null  int64\n",
      " 76  they       10000 non-null  int64\n",
      " 77  this       10000 non-null  int64\n",
      " 78  this book  10000 non-null  int64\n",
      " 79  this is    10000 non-null  int64\n",
      " 80  time       10000 non-null  int64\n",
      " 81  to         10000 non-null  int64\n",
      " 82  to be      10000 non-null  int64\n",
      " 83  to the     10000 non-null  int64\n",
      " 84  too        10000 non-null  int64\n",
      " 85  up         10000 non-null  int64\n",
      " 86  very       10000 non-null  int64\n",
      " 87  was        10000 non-null  int64\n",
      " 88  we         10000 non-null  int64\n",
      " 89  well       10000 non-null  int64\n",
      " 90  were       10000 non-null  int64\n",
      " 91  what       10000 non-null  int64\n",
      " 92  when       10000 non-null  int64\n",
      " 93  which      10000 non-null  int64\n",
      " 94  who        10000 non-null  int64\n",
      " 95  will       10000 non-null  int64\n",
      " 96  with       10000 non-null  int64\n",
      " 97  would      10000 non-null  int64\n",
      " 98  you        10000 non-null  int64\n",
      " 99  your       10000 non-null  int64\n",
      "dtypes: int64(100)\n",
      "memory usage: 7.6 MB\n"
     ]
    }
   ],
   "source": [
    "X_df.info()"
   ]
  },
  {
   "cell_type": "markdown",
   "id": "42b0a5c2",
   "metadata": {},
   "source": [
    "### Size of vocabulary of movies reviews"
   ]
  },
  {
   "cell_type": "code",
   "execution_count": 35,
   "id": "abc34bd3",
   "metadata": {},
   "outputs": [
    {
     "name": "stdout",
     "output_type": "stream",
     "text": [
      "   about  after  all  also  an  and  any  are  as  at  ...  well  were  what  \\\n",
      "0      0      0    0     0   0    1    0    0   2   0  ...     0     0     0   \n",
      "1      0      0    3     1   1   11    0    3   3   4  ...     0     0     1   \n",
      "2      0      1    0     0   1    7    0    1   2   1  ...     0     0     0   \n",
      "3      0      0    0     0   2    1    0    1   2   2  ...     1     0     0   \n",
      "4      0      0    3     0   0    8    0    3   1   0  ...     2     1     0   \n",
      "\n",
      "   when  which  who  will  with  would  you  \n",
      "0     0      0    0     0     1      1    0  \n",
      "1     1      2    0     2     7      2    3  \n",
      "2     0      0    0     0     2      0    0  \n",
      "3     0      0    1     0     0      0    1  \n",
      "4     1      1    0     0     2      0    0  \n",
      "\n",
      "[5 rows x 100 columns]\n"
     ]
    }
   ],
   "source": [
    "from sklearn.feature_extraction.text import CountVectorizer \n",
    "\n",
    "# Build the vectorizer, specify size of vocabulary and fit\n",
    "vect = CountVectorizer(max_features=100)\n",
    "vect.fit(movies.review)\n",
    "\n",
    "# Transform the review column\n",
    "X_review = vect.transform(movies.review)\n",
    "# Create the bow representation\n",
    "X_df = pd.DataFrame(X_review.toarray(), columns=vect.get_feature_names_out())\n",
    "print(X_df.head())"
   ]
  },
  {
   "cell_type": "code",
   "execution_count": 36,
   "id": "735259ac",
   "metadata": {},
   "outputs": [
    {
     "name": "stdout",
     "output_type": "stream",
     "text": [
      "   00  000  000s  007  0080  0083  0093638  00am  00pm  00s  ...  zukovic  \\\n",
      "0   0    0     0    0     0     0        0     0     0    0  ...        0   \n",
      "1   0    0     0    0     0     0        0     0     0    0  ...        0   \n",
      "2   0    0     0    0     0     0        0     0     0    0  ...        0   \n",
      "3   0    0     0    0     0     0        0     0     0    0  ...        0   \n",
      "4   0    0     0    0     0     0        0     0     0    0  ...        0   \n",
      "\n",
      "   zulu  zuniga  zvyagvatsev  zwick  zx81  zy  zzzzzzzzzzzz  zzzzzzzzzzzzz  â½  \n",
      "0     0       0            0      0     0   0             0              0   0  \n",
      "1     0       0            0      0     0   0             0              0   0  \n",
      "2     0       0            0      0     0   0             0              0   0  \n",
      "3     0       0            0      0     0   0             0              0   0  \n",
      "4     0       0            0      0     0   0             0              0   0  \n",
      "\n",
      "[5 rows x 45055 columns]\n"
     ]
    }
   ],
   "source": [
    "# Build and fit the vectorizer\n",
    "vect = CountVectorizer(max_df=200)\n",
    "vect.fit(movies.review)\n",
    "\n",
    "# Transform the review column\n",
    "X_review = vect.transform(movies.review)\n",
    "# Create the bow representation\n",
    "X_df = pd.DataFrame(X_review.toarray(), columns=vect.get_feature_names_out())\n",
    "print(X_df.head())"
   ]
  },
  {
   "cell_type": "code",
   "execution_count": 37,
   "id": "1429cf92",
   "metadata": {},
   "outputs": [
    {
     "name": "stdout",
     "output_type": "stream",
     "text": [
      "   000  10  100  11  12  13  14  15  1950  1980  ...  york  you  young  \\\n",
      "0    0   0    0   0   0   0   0   0     0     0  ...     0    0      0   \n",
      "1    0   1    0   0   0   0   0   0     0     0  ...     0    3      0   \n",
      "2    0   0    0   0   0   0   0   0     0     0  ...     0    0      1   \n",
      "3    0   0    0   0   0   0   0   0     0     0  ...     0    1      1   \n",
      "4    0   1    0   0   0   0   0   0     0     0  ...     0    0      0   \n",
      "\n",
      "   younger  your  yourself  youth  zero  zombie  zombies  \n",
      "0        0     0         0      0     0       0        1  \n",
      "1        0     2         0      0     0       0        0  \n",
      "2        0     0         0      0     0       0        0  \n",
      "3        0     0         0      0     0       0        0  \n",
      "4        1     0         0      0     0       0        0  \n",
      "\n",
      "[5 rows x 2552 columns]\n"
     ]
    }
   ],
   "source": [
    "# Build and fit the vectorizer\n",
    "vect = CountVectorizer(min_df=50)\n",
    "vect.fit(movies.review)\n",
    "\n",
    "# Transform the review column\n",
    "X_review = vect.transform(movies.review)\n",
    "# Create the bow representation\n",
    "X_df = pd.DataFrame(X_review.toarray(), columns=vect.get_feature_names_out())\n",
    "print(X_df.head())"
   ]
  },
  {
   "cell_type": "code",
   "execution_count": 38,
   "id": "8ca108f8",
   "metadata": {},
   "outputs": [
    {
     "name": "stdout",
     "output_type": "stream",
     "text": [
      "   able to  about how  about it  about the  about this  after reading  \\\n",
      "0        0          0         0          0           0              0   \n",
      "1        0          0         0          0           0              0   \n",
      "2        0          0         0          0           0              0   \n",
      "3        0          0         0          0           0              0   \n",
      "4        0          0         0          0           0              0   \n",
      "\n",
      "   after the  again and  ago and  agree with  ...  you think  you to  you ve  \\\n",
      "0          0          0        0           0  ...          0       0       0   \n",
      "1          0          0        0           0  ...          0       0       0   \n",
      "2          0          0        0           0  ...          0       0       2   \n",
      "3          0          0        0           0  ...          0       0       0   \n",
      "4          0          0        0           0  ...          0       0       1   \n",
      "\n",
      "   you want  you will  you won  you would  your money  your own  your time  \n",
      "0         0         0        0          0           0         0          0  \n",
      "1         0         0        0          0           0         0          0  \n",
      "2         0         0        0          0           0         0          0  \n",
      "3         0         0        0          0           0         0          0  \n",
      "4         0         0        0          0           0         0          0  \n",
      "\n",
      "[5 rows x 1000 columns]\n"
     ]
    }
   ],
   "source": [
    "#Import the vectorizer\n",
    "from sklearn.feature_extraction.text import CountVectorizer \n",
    "\n",
    "# Build the vectorizer, specify max features and fit\n",
    "vect = CountVectorizer(max_features=1000, ngram_range=(2, 2), max_df=500)\n",
    "vect.fit(reviews.review)\n",
    "\n",
    "# Transform the review\n",
    "X_review = vect.transform(reviews.review)\n",
    "\n",
    "# Create a DataFrame from the bow representation\n",
    "X_df = pd.DataFrame(X_review.toarray(), columns=vect.get_feature_names_out())\n",
    "print(X_df.head())"
   ]
  },
  {
   "cell_type": "markdown",
   "id": "34bfb72c",
   "metadata": {},
   "source": [
    "### Build new features from text"
   ]
  },
  {
   "cell_type": "code",
   "execution_count": 39,
   "id": "a33c5825",
   "metadata": {},
   "outputs": [],
   "source": [
    "GoT = 'Never forget what you are, for surely the world will not. Make it your strength. Then it can never be your weakness. Armour yourself in it, and it will never be used to hurt you.'"
   ]
  },
  {
   "cell_type": "code",
   "execution_count": 40,
   "id": "eb2d4269",
   "metadata": {},
   "outputs": [
    {
     "name": "stdout",
     "output_type": "stream",
     "text": [
      "['Never', 'forget', 'what', 'you', 'are', ',', 'for', 'surely', 'the', 'world', 'will', 'not', '.', 'Make', 'it', 'your', 'strength', '.', 'Then', 'it', 'can', 'never', 'be', 'your', 'weakness', '.', 'Armour', 'yourself', 'in', 'it', ',', 'and', 'it', 'will', 'never', 'be', 'used', 'to', 'hurt', 'you', '.']\n"
     ]
    }
   ],
   "source": [
    "# Import the required function\n",
    "from nltk import word_tokenize\n",
    "\n",
    "# Transform the GoT string to word tokens\n",
    "print(word_tokenize(GoT))"
   ]
  },
  {
   "cell_type": "code",
   "execution_count": 41,
   "id": "eca9524b",
   "metadata": {},
   "outputs": [],
   "source": [
    "avengers = [\"Cause if we can't protect the Earth, you can be d*** sure we'll avenge it\",\n",
    " 'There was an idea to bring together a group of remarkable people, to see if we could become something more',\n",
    " \"These guys come from legend, Captain. They're basically Gods.\"]"
   ]
  },
  {
   "cell_type": "code",
   "execution_count": 42,
   "id": "5701335e",
   "metadata": {},
   "outputs": [
    {
     "name": "stdout",
     "output_type": "stream",
     "text": [
      "[['Cause', 'if', 'we', 'ca', \"n't\", 'protect', 'the', 'Earth', ',', 'you', 'can', 'be', 'd', '*', '*', '*', 'sure', 'we', \"'ll\", 'avenge', 'it'], ['There', 'was', 'an', 'idea', 'to', 'bring', 'together', 'a', 'group', 'of', 'remarkable', 'people', ',', 'to', 'see', 'if', 'we', 'could', 'become', 'something', 'more'], ['These', 'guys', 'come', 'from', 'legend', ',', 'Captain', '.', 'They', \"'re\", 'basically', 'Gods', '.']]\n"
     ]
    }
   ],
   "source": [
    "# Import the word tokenizing function\n",
    "from nltk import word_tokenize\n",
    "\n",
    "# Tokenize each item in the avengers \n",
    "tokens_avengers = [word_tokenize(item) for item in avengers]\n",
    "\n",
    "print(tokens_avengers)"
   ]
  },
  {
   "cell_type": "markdown",
   "id": "02231baa",
   "metadata": {},
   "source": [
    "### A feature for the length of a review"
   ]
  },
  {
   "cell_type": "code",
   "execution_count": 43,
   "id": "b2336025",
   "metadata": {},
   "outputs": [
    {
     "name": "stdout",
     "output_type": "stream",
     "text": [
      "['Stuning', 'even', 'for', 'the', 'non-gamer', ':', 'This', 'sound', 'track', 'was', 'beautiful', '!', 'It', 'paints', 'the', 'senery', 'in', 'your', 'mind', 'so', 'well', 'I', 'would', 'recomend', 'it', 'even', 'to', 'people', 'who', 'hate', 'vid', '.', 'game', 'music', '!', 'I', 'have', 'played', 'the', 'game', 'Chrono', 'Cross', 'but', 'out', 'of', 'all', 'of', 'the', 'games', 'I', 'have', 'ever', 'played', 'it', 'has', 'the', 'best', 'music', '!', 'It', 'backs', 'away', 'from', 'crude', 'keyboarding', 'and', 'takes', 'a', 'fresher', 'step', 'with', 'grate', 'guitars', 'and', 'soulful', 'orchestras', '.', 'It', 'would', 'impress', 'anyone', 'who', 'cares', 'to', 'listen', '!', '^_^']\n"
     ]
    }
   ],
   "source": [
    "# Tokenize each item in the review column \n",
    "word_tokens = [word_tokenize(review) for review in reviews.review]\n",
    "\n",
    "# Print out the first item of the word_tokens list\n",
    "print(word_tokens[0])"
   ]
  },
  {
   "cell_type": "code",
   "execution_count": 44,
   "id": "512856c1",
   "metadata": {},
   "outputs": [],
   "source": [
    "# Iterate over the word_tokens list and determine the length of each item\n",
    "len_tokens = [len(word_tokens[i]) for i in range(len(word_tokens))]\n",
    "\n",
    "reviews['n_words'] = len_tokens"
   ]
  },
  {
   "cell_type": "code",
   "execution_count": 45,
   "id": "a0730ad9",
   "metadata": {},
   "outputs": [
    {
     "data": {
      "text/html": [
       "<div>\n",
       "<style scoped>\n",
       "    .dataframe tbody tr th:only-of-type {\n",
       "        vertical-align: middle;\n",
       "    }\n",
       "\n",
       "    .dataframe tbody tr th {\n",
       "        vertical-align: top;\n",
       "    }\n",
       "\n",
       "    .dataframe thead th {\n",
       "        text-align: right;\n",
       "    }\n",
       "</style>\n",
       "<table border=\"1\" class=\"dataframe\">\n",
       "  <thead>\n",
       "    <tr style=\"text-align: right;\">\n",
       "      <th></th>\n",
       "      <th>score</th>\n",
       "      <th>review</th>\n",
       "      <th>n_words</th>\n",
       "    </tr>\n",
       "  </thead>\n",
       "  <tbody>\n",
       "    <tr>\n",
       "      <th>0</th>\n",
       "      <td>1</td>\n",
       "      <td>Stuning even for the non-gamer: This sound tr...</td>\n",
       "      <td>87</td>\n",
       "    </tr>\n",
       "    <tr>\n",
       "      <th>1</th>\n",
       "      <td>1</td>\n",
       "      <td>The best soundtrack ever to anything.: I'm re...</td>\n",
       "      <td>109</td>\n",
       "    </tr>\n",
       "    <tr>\n",
       "      <th>2</th>\n",
       "      <td>1</td>\n",
       "      <td>Amazing!: This soundtrack is my favorite musi...</td>\n",
       "      <td>165</td>\n",
       "    </tr>\n",
       "    <tr>\n",
       "      <th>3</th>\n",
       "      <td>1</td>\n",
       "      <td>Excellent Soundtrack: I truly like this sound...</td>\n",
       "      <td>145</td>\n",
       "    </tr>\n",
       "    <tr>\n",
       "      <th>4</th>\n",
       "      <td>1</td>\n",
       "      <td>Remember, Pull Your Jaw Off The Floor After H...</td>\n",
       "      <td>109</td>\n",
       "    </tr>\n",
       "    <tr>\n",
       "      <th>...</th>\n",
       "      <td>...</td>\n",
       "      <td>...</td>\n",
       "      <td>...</td>\n",
       "    </tr>\n",
       "    <tr>\n",
       "      <th>9995</th>\n",
       "      <td>1</td>\n",
       "      <td>A revelation of life in small town America in...</td>\n",
       "      <td>175</td>\n",
       "    </tr>\n",
       "    <tr>\n",
       "      <th>9996</th>\n",
       "      <td>1</td>\n",
       "      <td>Great biography of a very interesting journal...</td>\n",
       "      <td>153</td>\n",
       "    </tr>\n",
       "    <tr>\n",
       "      <th>9997</th>\n",
       "      <td>0</td>\n",
       "      <td>Interesting Subject; Poor Presentation: You'd...</td>\n",
       "      <td>122</td>\n",
       "    </tr>\n",
       "    <tr>\n",
       "      <th>9998</th>\n",
       "      <td>0</td>\n",
       "      <td>Don't buy: The box looked used and it is obvi...</td>\n",
       "      <td>33</td>\n",
       "    </tr>\n",
       "    <tr>\n",
       "      <th>9999</th>\n",
       "      <td>1</td>\n",
       "      <td>Beautiful Pen and Fast Delivery.: The pen was...</td>\n",
       "      <td>115</td>\n",
       "    </tr>\n",
       "  </tbody>\n",
       "</table>\n",
       "<p>10000 rows × 3 columns</p>\n",
       "</div>"
      ],
      "text/plain": [
       "      score                                             review  n_words\n",
       "0         1   Stuning even for the non-gamer: This sound tr...       87\n",
       "1         1   The best soundtrack ever to anything.: I'm re...      109\n",
       "2         1   Amazing!: This soundtrack is my favorite musi...      165\n",
       "3         1   Excellent Soundtrack: I truly like this sound...      145\n",
       "4         1   Remember, Pull Your Jaw Off The Floor After H...      109\n",
       "...     ...                                                ...      ...\n",
       "9995      1   A revelation of life in small town America in...      175\n",
       "9996      1   Great biography of a very interesting journal...      153\n",
       "9997      0   Interesting Subject; Poor Presentation: You'd...      122\n",
       "9998      0   Don't buy: The box looked used and it is obvi...       33\n",
       "9999      1   Beautiful Pen and Fast Delivery.: The pen was...      115\n",
       "\n",
       "[10000 rows x 3 columns]"
      ]
     },
     "execution_count": 45,
     "metadata": {},
     "output_type": "execute_result"
    }
   ],
   "source": [
    "reviews"
   ]
  },
  {
   "cell_type": "markdown",
   "id": "97bb5e82",
   "metadata": {},
   "source": [
    "### Identify the language of a string"
   ]
  },
  {
   "cell_type": "code",
   "execution_count": 46,
   "id": "b34eb341",
   "metadata": {},
   "outputs": [],
   "source": [
    "#!pip install langdetect"
   ]
  },
  {
   "cell_type": "code",
   "execution_count": 47,
   "id": "08071c4c",
   "metadata": {},
   "outputs": [],
   "source": [
    "foreign = \"L'histoire rendu était fidèle, excellent, et grande.\""
   ]
  },
  {
   "cell_type": "code",
   "execution_count": 48,
   "id": "d4d408c5",
   "metadata": {},
   "outputs": [
    {
     "name": "stdout",
     "output_type": "stream",
     "text": [
      "[fr:0.9999964575820217]\n"
     ]
    }
   ],
   "source": [
    "# Import the language detection function and package\n",
    "from langdetect import detect_langs \n",
    "\n",
    "# Detect the language of the foreign string\n",
    "print(detect_langs(foreign))"
   ]
  },
  {
   "cell_type": "code",
   "execution_count": 49,
   "id": "b0b192a2",
   "metadata": {},
   "outputs": [],
   "source": [
    "sentences = [\"L'histoire rendu était fidèle, excellent, et grande.\",\n",
    " 'Excelente muy recomendable.',\n",
    " 'It had a leak from day one but the return and exchange process was very quick.']"
   ]
  },
  {
   "cell_type": "code",
   "execution_count": 50,
   "id": "f84fe1f2",
   "metadata": {},
   "outputs": [
    {
     "name": "stdout",
     "output_type": "stream",
     "text": [
      "The detected languages are:  [[fr:0.999995301964101], [es:0.8571387123138575, pt:0.14285902486615185], [en:0.9999960983199218]]\n"
     ]
    }
   ],
   "source": [
    "languages = []\n",
    "\n",
    "# Loop over the sentences in the list and detect their language\n",
    "for sentence in sentences:\n",
    "    languages.append(detect_langs(sentence))\n",
    "    \n",
    "print('The detected languages are: ', languages)"
   ]
  },
  {
   "cell_type": "markdown",
   "id": "44c66092",
   "metadata": {},
   "source": [
    "### Language detection of product reviews "
   ]
  },
  {
   "cell_type": "code",
   "execution_count": 51,
   "id": "fb9f4b1c",
   "metadata": {},
   "outputs": [
    {
     "name": "stdout",
     "output_type": "stream",
     "text": [
      "   score                                             review  n_words language\n",
      "0      1   Stuning even for the non-gamer: This sound tr...       87       en\n",
      "1      1   The best soundtrack ever to anything.: I'm re...      109       en\n",
      "2      1   Amazing!: This soundtrack is my favorite musi...      165       en\n",
      "3      1   Excellent Soundtrack: I truly like this sound...      145       en\n",
      "4      1   Remember, Pull Your Jaw Off The Floor After H...      109       en\n"
     ]
    }
   ],
   "source": [
    "languages = []\n",
    "\n",
    "# Loop over the rows of the dataset and append  \n",
    "for row in range(len(reviews)):\n",
    "    languages.append(detect_langs(reviews.iloc[row, 1]))\n",
    "\n",
    "# Clean the list by splitting     \n",
    "languages = [str(lang).split(':')[0][1:] for lang in languages]\n",
    "\n",
    "# Assign the list to a new feature \n",
    "reviews['language'] = languages\n",
    "\n",
    "print(reviews.head())"
   ]
  },
  {
   "cell_type": "code",
   "execution_count": 52,
   "id": "5c8882f0",
   "metadata": {},
   "outputs": [
    {
     "data": {
      "text/html": [
       "<div>\n",
       "<style scoped>\n",
       "    .dataframe tbody tr th:only-of-type {\n",
       "        vertical-align: middle;\n",
       "    }\n",
       "\n",
       "    .dataframe tbody tr th {\n",
       "        vertical-align: top;\n",
       "    }\n",
       "\n",
       "    .dataframe thead th {\n",
       "        text-align: right;\n",
       "    }\n",
       "</style>\n",
       "<table border=\"1\" class=\"dataframe\">\n",
       "  <thead>\n",
       "    <tr style=\"text-align: right;\">\n",
       "      <th></th>\n",
       "      <th>score</th>\n",
       "      <th>review</th>\n",
       "      <th>n_words</th>\n",
       "      <th>language</th>\n",
       "    </tr>\n",
       "  </thead>\n",
       "  <tbody>\n",
       "    <tr>\n",
       "      <th>169</th>\n",
       "      <td>1</td>\n",
       "      <td>Awesume! BEST BLOCKS EVER!: THIS TOY WAS OUR ...</td>\n",
       "      <td>34</td>\n",
       "      <td>de</td>\n",
       "    </tr>\n",
       "    <tr>\n",
       "      <th>881</th>\n",
       "      <td>1</td>\n",
       "      <td>Good read................. ............... .....</td>\n",
       "      <td>38</td>\n",
       "      <td>cy</td>\n",
       "    </tr>\n",
       "    <tr>\n",
       "      <th>1249</th>\n",
       "      <td>1</td>\n",
       "      <td>Il grande ritorno!: E' dai tempi del tour di ...</td>\n",
       "      <td>171</td>\n",
       "      <td>it</td>\n",
       "    </tr>\n",
       "    <tr>\n",
       "      <th>1259</th>\n",
       "      <td>1</td>\n",
       "      <td>La reencarnación vista por un científico: El ...</td>\n",
       "      <td>37</td>\n",
       "      <td>es</td>\n",
       "    </tr>\n",
       "    <tr>\n",
       "      <th>1261</th>\n",
       "      <td>1</td>\n",
       "      <td>Magnifico libro: Brian Weiss ha dejado una ma...</td>\n",
       "      <td>50</td>\n",
       "      <td>es</td>\n",
       "    </tr>\n",
       "    <tr>\n",
       "      <th>1639</th>\n",
       "      <td>1</td>\n",
       "      <td>El libro mas completo que existe para nosotra...</td>\n",
       "      <td>40</td>\n",
       "      <td>es</td>\n",
       "    </tr>\n",
       "    <tr>\n",
       "      <th>1745</th>\n",
       "      <td>1</td>\n",
       "      <td>Excelente!: Una excelente guía para todos aqu...</td>\n",
       "      <td>56</td>\n",
       "      <td>es</td>\n",
       "    </tr>\n",
       "    <tr>\n",
       "      <th>2316</th>\n",
       "      <td>1</td>\n",
       "      <td>Nightwish is unique and rocks for eva: Moi to...</td>\n",
       "      <td>54</td>\n",
       "      <td>fr</td>\n",
       "    </tr>\n",
       "    <tr>\n",
       "      <th>2486</th>\n",
       "      <td>1</td>\n",
       "      <td>Palabras de aliento para tu caminar con Dios:...</td>\n",
       "      <td>86</td>\n",
       "      <td>es</td>\n",
       "    </tr>\n",
       "    <tr>\n",
       "      <th>2760</th>\n",
       "      <td>0</td>\n",
       "      <td>Completement nul: Fait sur commande et ennuya...</td>\n",
       "      <td>23</td>\n",
       "      <td>fr</td>\n",
       "    </tr>\n",
       "    <tr>\n",
       "      <th>2903</th>\n",
       "      <td>1</td>\n",
       "      <td>fabuloso: mil gracias por el producto fabulos...</td>\n",
       "      <td>23</td>\n",
       "      <td>es</td>\n",
       "    </tr>\n",
       "    <tr>\n",
       "      <th>2908</th>\n",
       "      <td>0</td>\n",
       "      <td>Geh: Blah blah, sexy girl, blah blah, fightin...</td>\n",
       "      <td>31</td>\n",
       "      <td>id</td>\n",
       "    </tr>\n",
       "    <tr>\n",
       "      <th>3318</th>\n",
       "      <td>1</td>\n",
       "      <td>Excelentes botas.. excelentes boots: Excelent...</td>\n",
       "      <td>41</td>\n",
       "      <td>es</td>\n",
       "    </tr>\n",
       "    <tr>\n",
       "      <th>3694</th>\n",
       "      <td>0</td>\n",
       "      <td>Why not Spanish ???: Alguien me puede decir p...</td>\n",
       "      <td>112</td>\n",
       "      <td>es</td>\n",
       "    </tr>\n",
       "    <tr>\n",
       "      <th>4144</th>\n",
       "      <td>0</td>\n",
       "      <td>LEAKED FIRST DAY FOR MY GUEST: IT HAD A LEAK ...</td>\n",
       "      <td>30</td>\n",
       "      <td>de</td>\n",
       "    </tr>\n",
       "    <tr>\n",
       "      <th>4820</th>\n",
       "      <td>1</td>\n",
       "      <td>La mejor película de Moore: A mi juicio, esta...</td>\n",
       "      <td>24</td>\n",
       "      <td>es</td>\n",
       "    </tr>\n",
       "    <tr>\n",
       "      <th>4914</th>\n",
       "      <td>0</td>\n",
       "      <td>De la poudre aux yeux: J'ai acheté un Sansa V...</td>\n",
       "      <td>77</td>\n",
       "      <td>fr</td>\n",
       "    </tr>\n",
       "    <tr>\n",
       "      <th>5720</th>\n",
       "      <td>1</td>\n",
       "      <td>C'est magnifique! il y a du vrai dans ce qui'...</td>\n",
       "      <td>117</td>\n",
       "      <td>fr</td>\n",
       "    </tr>\n",
       "    <tr>\n",
       "      <th>5875</th>\n",
       "      <td>1</td>\n",
       "      <td>Erreur: \"Les Triplettes de Belleville\" n'a pa...</td>\n",
       "      <td>37</td>\n",
       "      <td>fr</td>\n",
       "    </tr>\n",
       "    <tr>\n",
       "      <th>5901</th>\n",
       "      <td>1</td>\n",
       "      <td>Buen cargador: Product very good, I am of Ven...</td>\n",
       "      <td>28</td>\n",
       "      <td>es</td>\n",
       "    </tr>\n",
       "    <tr>\n",
       "      <th>6234</th>\n",
       "      <td>1</td>\n",
       "      <td>5+ stars. LO MEJOR DE LO QUE HE LEIDO EN MI V...</td>\n",
       "      <td>149</td>\n",
       "      <td>es</td>\n",
       "    </tr>\n",
       "    <tr>\n",
       "      <th>6631</th>\n",
       "      <td>0</td>\n",
       "      <td>certains bugs viennent tout gacher: le jeu es...</td>\n",
       "      <td>58</td>\n",
       "      <td>fr</td>\n",
       "    </tr>\n",
       "    <tr>\n",
       "      <th>7078</th>\n",
       "      <td>1</td>\n",
       "      <td>Variedad: Bueno tener este album debido a su ...</td>\n",
       "      <td>73</td>\n",
       "      <td>es</td>\n",
       "    </tr>\n",
       "    <tr>\n",
       "      <th>7888</th>\n",
       "      <td>0</td>\n",
       "      <td>Ich weiß ja nicht !: Also ich finde es ja tol...</td>\n",
       "      <td>99</td>\n",
       "      <td>de</td>\n",
       "    </tr>\n",
       "    <tr>\n",
       "      <th>7983</th>\n",
       "      <td>1</td>\n",
       "      <td>1F4T: Cet album est chanté vraiment bien. Jea...</td>\n",
       "      <td>84</td>\n",
       "      <td>fr</td>\n",
       "    </tr>\n",
       "    <tr>\n",
       "      <th>8018</th>\n",
       "      <td>1</td>\n",
       "      <td>Exelente eleccion: Los mejores zapatos de fut...</td>\n",
       "      <td>29</td>\n",
       "      <td>es</td>\n",
       "    </tr>\n",
       "    <tr>\n",
       "      <th>8340</th>\n",
       "      <td>1</td>\n",
       "      <td>Jean de Florette et Manon des sources: bien a...</td>\n",
       "      <td>43</td>\n",
       "      <td>fr</td>\n",
       "    </tr>\n",
       "    <tr>\n",
       "      <th>9265</th>\n",
       "      <td>1</td>\n",
       "      <td>Excelente: Manu es una de los mejores cantant...</td>\n",
       "      <td>53</td>\n",
       "      <td>es</td>\n",
       "    </tr>\n",
       "    <tr>\n",
       "      <th>9422</th>\n",
       "      <td>0</td>\n",
       "      <td>DVD CON PROBLEMAS: ESTE DVD LLEGO EN BUEN TIE...</td>\n",
       "      <td>31</td>\n",
       "      <td>de</td>\n",
       "    </tr>\n",
       "    <tr>\n",
       "      <th>9624</th>\n",
       "      <td>0</td>\n",
       "      <td>baaaaaadddddddd bookkkkkkk: por favor no gast...</td>\n",
       "      <td>81</td>\n",
       "      <td>es</td>\n",
       "    </tr>\n",
       "  </tbody>\n",
       "</table>\n",
       "</div>"
      ],
      "text/plain": [
       "      score                                             review  n_words  \\\n",
       "169       1   Awesume! BEST BLOCKS EVER!: THIS TOY WAS OUR ...       34   \n",
       "881       1   Good read................. ............... .....       38   \n",
       "1249      1   Il grande ritorno!: E' dai tempi del tour di ...      171   \n",
       "1259      1   La reencarnación vista por un científico: El ...       37   \n",
       "1261      1   Magnifico libro: Brian Weiss ha dejado una ma...       50   \n",
       "1639      1   El libro mas completo que existe para nosotra...       40   \n",
       "1745      1   Excelente!: Una excelente guía para todos aqu...       56   \n",
       "2316      1   Nightwish is unique and rocks for eva: Moi to...       54   \n",
       "2486      1   Palabras de aliento para tu caminar con Dios:...       86   \n",
       "2760      0   Completement nul: Fait sur commande et ennuya...       23   \n",
       "2903      1   fabuloso: mil gracias por el producto fabulos...       23   \n",
       "2908      0   Geh: Blah blah, sexy girl, blah blah, fightin...       31   \n",
       "3318      1   Excelentes botas.. excelentes boots: Excelent...       41   \n",
       "3694      0   Why not Spanish ???: Alguien me puede decir p...      112   \n",
       "4144      0   LEAKED FIRST DAY FOR MY GUEST: IT HAD A LEAK ...       30   \n",
       "4820      1   La mejor película de Moore: A mi juicio, esta...       24   \n",
       "4914      0   De la poudre aux yeux: J'ai acheté un Sansa V...       77   \n",
       "5720      1   C'est magnifique! il y a du vrai dans ce qui'...      117   \n",
       "5875      1   Erreur: \"Les Triplettes de Belleville\" n'a pa...       37   \n",
       "5901      1   Buen cargador: Product very good, I am of Ven...       28   \n",
       "6234      1   5+ stars. LO MEJOR DE LO QUE HE LEIDO EN MI V...      149   \n",
       "6631      0   certains bugs viennent tout gacher: le jeu es...       58   \n",
       "7078      1   Variedad: Bueno tener este album debido a su ...       73   \n",
       "7888      0   Ich weiß ja nicht !: Also ich finde es ja tol...       99   \n",
       "7983      1   1F4T: Cet album est chanté vraiment bien. Jea...       84   \n",
       "8018      1   Exelente eleccion: Los mejores zapatos de fut...       29   \n",
       "8340      1   Jean de Florette et Manon des sources: bien a...       43   \n",
       "9265      1   Excelente: Manu es una de los mejores cantant...       53   \n",
       "9422      0   DVD CON PROBLEMAS: ESTE DVD LLEGO EN BUEN TIE...       31   \n",
       "9624      0   baaaaaadddddddd bookkkkkkk: por favor no gast...       81   \n",
       "\n",
       "     language  \n",
       "169        de  \n",
       "881        cy  \n",
       "1249       it  \n",
       "1259       es  \n",
       "1261       es  \n",
       "1639       es  \n",
       "1745       es  \n",
       "2316       fr  \n",
       "2486       es  \n",
       "2760       fr  \n",
       "2903       es  \n",
       "2908       id  \n",
       "3318       es  \n",
       "3694       es  \n",
       "4144       de  \n",
       "4820       es  \n",
       "4914       fr  \n",
       "5720       fr  \n",
       "5875       fr  \n",
       "5901       es  \n",
       "6234       es  \n",
       "6631       fr  \n",
       "7078       es  \n",
       "7888       de  \n",
       "7983       fr  \n",
       "8018       es  \n",
       "8340       fr  \n",
       "9265       es  \n",
       "9422       de  \n",
       "9624       es  "
      ]
     },
     "execution_count": 52,
     "metadata": {},
     "output_type": "execute_result"
    }
   ],
   "source": [
    "reviews[reviews['language'] != 'en']"
   ]
  },
  {
   "cell_type": "markdown",
   "id": "2fbf0add",
   "metadata": {},
   "source": [
    "### Stop words"
   ]
  },
  {
   "cell_type": "code",
   "execution_count": null,
   "id": "ad57fd59",
   "metadata": {},
   "outputs": [],
   "source": []
  },
  {
   "cell_type": "code",
   "execution_count": 53,
   "id": "bf8fc442",
   "metadata": {},
   "outputs": [
    {
     "data": {
      "image/png": "[encoded data removed]",
      "text/plain": [
       "<Figure size 432x288 with 1 Axes>"
      ]
     },
     "metadata": {
      "needs_background": "light"
     },
     "output_type": "display_data"
    }
   ],
   "source": [
    "# Import the word cloud function \n",
    "from wordcloud import WordCloud, STOPWORDS \n",
    "\n",
    "# Create and generate a word cloud image\n",
    "my_cloud = WordCloud(background_color='white').generate(east_of_eden)\n",
    "\n",
    "# Display the generated wordcloud image\n",
    "plt.imshow(my_cloud, interpolation='bilinear') \n",
    "plt.axis(\"off\")\n",
    "\n",
    "# Don't forget to show the final image\n",
    "plt.show()"
   ]
  },
  {
   "cell_type": "code",
   "execution_count": 54,
   "id": "cbfc8333",
   "metadata": {},
   "outputs": [
    {
     "data": {
      "image/png": "[encoded data removed]",
      "text/plain": [
       "<Figure size 432x288 with 1 Axes>"
      ]
     },
     "metadata": {
      "needs_background": "light"
     },
     "output_type": "display_data"
    }
   ],
   "source": [
    "# Define and update the list of stopwords\n",
    "my_stop_words = STOPWORDS.update(['airline', 'airplane'])\n",
    "\n",
    "# Create and generate a word cloud image\n",
    "my_cloud = WordCloud(stopwords=my_stop_words).generate(east_of_eden)\n",
    "\n",
    "# Display the generated wordcloud image\n",
    "plt.imshow(my_cloud, interpolation='bilinear') \n",
    "plt.axis(\"off\")\n",
    "# Don't forget to show the final image\n",
    "plt.show()"
   ]
  },
  {
   "cell_type": "code",
   "execution_count": 55,
   "id": "de57de81",
   "metadata": {},
   "outputs": [],
   "source": [
    "tweets = pd.read_csv('Tweets.csv')"
   ]
  },
  {
   "cell_type": "code",
   "execution_count": 56,
   "id": "db5eb8b8",
   "metadata": {},
   "outputs": [
    {
     "data": {
      "text/html": [
       "<div>\n",
       "<style scoped>\n",
       "    .dataframe tbody tr th:only-of-type {\n",
       "        vertical-align: middle;\n",
       "    }\n",
       "\n",
       "    .dataframe tbody tr th {\n",
       "        vertical-align: top;\n",
       "    }\n",
       "\n",
       "    .dataframe thead th {\n",
       "        text-align: right;\n",
       "    }\n",
       "</style>\n",
       "<table border=\"1\" class=\"dataframe\">\n",
       "  <thead>\n",
       "    <tr style=\"text-align: right;\">\n",
       "      <th></th>\n",
       "      <th>tweet_id</th>\n",
       "      <th>airline_sentiment</th>\n",
       "      <th>airline_sentiment_confidence</th>\n",
       "      <th>negativereason</th>\n",
       "      <th>negativereason_confidence</th>\n",
       "      <th>airline</th>\n",
       "      <th>airline_sentiment_gold</th>\n",
       "      <th>name</th>\n",
       "      <th>negativereason_gold</th>\n",
       "      <th>retweet_count</th>\n",
       "      <th>text</th>\n",
       "      <th>tweet_coord</th>\n",
       "      <th>tweet_created</th>\n",
       "      <th>tweet_location</th>\n",
       "      <th>user_timezone</th>\n",
       "    </tr>\n",
       "  </thead>\n",
       "  <tbody>\n",
       "    <tr>\n",
       "      <th>0</th>\n",
       "      <td>570306133677760513</td>\n",
       "      <td>neutral</td>\n",
       "      <td>1.0000</td>\n",
       "      <td>NaN</td>\n",
       "      <td>NaN</td>\n",
       "      <td>Virgin America</td>\n",
       "      <td>NaN</td>\n",
       "      <td>cairdin</td>\n",
       "      <td>NaN</td>\n",
       "      <td>0</td>\n",
       "      <td>@VirginAmerica What @dhepburn said.</td>\n",
       "      <td>NaN</td>\n",
       "      <td>2015-02-24 11:35:52 -0800</td>\n",
       "      <td>NaN</td>\n",
       "      <td>Eastern Time (US &amp; Canada)</td>\n",
       "    </tr>\n",
       "    <tr>\n",
       "      <th>1</th>\n",
       "      <td>570301130888122368</td>\n",
       "      <td>positive</td>\n",
       "      <td>0.3486</td>\n",
       "      <td>NaN</td>\n",
       "      <td>0.0000</td>\n",
       "      <td>Virgin America</td>\n",
       "      <td>NaN</td>\n",
       "      <td>jnardino</td>\n",
       "      <td>NaN</td>\n",
       "      <td>0</td>\n",
       "      <td>@VirginAmerica plus you've added commercials t...</td>\n",
       "      <td>NaN</td>\n",
       "      <td>2015-02-24 11:15:59 -0800</td>\n",
       "      <td>NaN</td>\n",
       "      <td>Pacific Time (US &amp; Canada)</td>\n",
       "    </tr>\n",
       "    <tr>\n",
       "      <th>2</th>\n",
       "      <td>570301083672813571</td>\n",
       "      <td>neutral</td>\n",
       "      <td>0.6837</td>\n",
       "      <td>NaN</td>\n",
       "      <td>NaN</td>\n",
       "      <td>Virgin America</td>\n",
       "      <td>NaN</td>\n",
       "      <td>yvonnalynn</td>\n",
       "      <td>NaN</td>\n",
       "      <td>0</td>\n",
       "      <td>@VirginAmerica I didn't today... Must mean I n...</td>\n",
       "      <td>NaN</td>\n",
       "      <td>2015-02-24 11:15:48 -0800</td>\n",
       "      <td>Lets Play</td>\n",
       "      <td>Central Time (US &amp; Canada)</td>\n",
       "    </tr>\n",
       "    <tr>\n",
       "      <th>3</th>\n",
       "      <td>570301031407624196</td>\n",
       "      <td>negative</td>\n",
       "      <td>1.0000</td>\n",
       "      <td>Bad Flight</td>\n",
       "      <td>0.7033</td>\n",
       "      <td>Virgin America</td>\n",
       "      <td>NaN</td>\n",
       "      <td>jnardino</td>\n",
       "      <td>NaN</td>\n",
       "      <td>0</td>\n",
       "      <td>@VirginAmerica it's really aggressive to blast...</td>\n",
       "      <td>NaN</td>\n",
       "      <td>2015-02-24 11:15:36 -0800</td>\n",
       "      <td>NaN</td>\n",
       "      <td>Pacific Time (US &amp; Canada)</td>\n",
       "    </tr>\n",
       "    <tr>\n",
       "      <th>4</th>\n",
       "      <td>570300817074462722</td>\n",
       "      <td>negative</td>\n",
       "      <td>1.0000</td>\n",
       "      <td>Can't Tell</td>\n",
       "      <td>1.0000</td>\n",
       "      <td>Virgin America</td>\n",
       "      <td>NaN</td>\n",
       "      <td>jnardino</td>\n",
       "      <td>NaN</td>\n",
       "      <td>0</td>\n",
       "      <td>@VirginAmerica and it's a really big bad thing...</td>\n",
       "      <td>NaN</td>\n",
       "      <td>2015-02-24 11:14:45 -0800</td>\n",
       "      <td>NaN</td>\n",
       "      <td>Pacific Time (US &amp; Canada)</td>\n",
       "    </tr>\n",
       "  </tbody>\n",
       "</table>\n",
       "</div>"
      ],
      "text/plain": [
       "             tweet_id airline_sentiment  airline_sentiment_confidence  \\\n",
       "0  570306133677760513           neutral                        1.0000   \n",
       "1  570301130888122368          positive                        0.3486   \n",
       "2  570301083672813571           neutral                        0.6837   \n",
       "3  570301031407624196          negative                        1.0000   \n",
       "4  570300817074462722          negative                        1.0000   \n",
       "\n",
       "  negativereason  negativereason_confidence         airline  \\\n",
       "0            NaN                        NaN  Virgin America   \n",
       "1            NaN                     0.0000  Virgin America   \n",
       "2            NaN                        NaN  Virgin America   \n",
       "3     Bad Flight                     0.7033  Virgin America   \n",
       "4     Can't Tell                     1.0000  Virgin America   \n",
       "\n",
       "  airline_sentiment_gold        name negativereason_gold  retweet_count  \\\n",
       "0                    NaN     cairdin                 NaN              0   \n",
       "1                    NaN    jnardino                 NaN              0   \n",
       "2                    NaN  yvonnalynn                 NaN              0   \n",
       "3                    NaN    jnardino                 NaN              0   \n",
       "4                    NaN    jnardino                 NaN              0   \n",
       "\n",
       "                                                text tweet_coord  \\\n",
       "0                @VirginAmerica What @dhepburn said.         NaN   \n",
       "1  @VirginAmerica plus you've added commercials t...         NaN   \n",
       "2  @VirginAmerica I didn't today... Must mean I n...         NaN   \n",
       "3  @VirginAmerica it's really aggressive to blast...         NaN   \n",
       "4  @VirginAmerica and it's a really big bad thing...         NaN   \n",
       "\n",
       "               tweet_created tweet_location               user_timezone  \n",
       "0  2015-02-24 11:35:52 -0800            NaN  Eastern Time (US & Canada)  \n",
       "1  2015-02-24 11:15:59 -0800            NaN  Pacific Time (US & Canada)  \n",
       "2  2015-02-24 11:15:48 -0800      Lets Play  Central Time (US & Canada)  \n",
       "3  2015-02-24 11:15:36 -0800            NaN  Pacific Time (US & Canada)  \n",
       "4  2015-02-24 11:14:45 -0800            NaN  Pacific Time (US & Canada)  "
      ]
     },
     "execution_count": 56,
     "metadata": {},
     "output_type": "execute_result"
    }
   ],
   "source": [
    "tweets.head()"
   ]
  },
  {
   "cell_type": "code",
   "execution_count": 57,
   "id": "6977e105",
   "metadata": {},
   "outputs": [
    {
     "name": "stdout",
     "output_type": "stream",
     "text": [
      "<class 'pandas.core.frame.DataFrame'>\n",
      "RangeIndex: 14640 entries, 0 to 14639\n",
      "Data columns (total 15 columns):\n",
      " #   Column                        Non-Null Count  Dtype  \n",
      "---  ------                        --------------  -----  \n",
      " 0   tweet_id                      14640 non-null  int64  \n",
      " 1   airline_sentiment             14640 non-null  object \n",
      " 2   airline_sentiment_confidence  14640 non-null  float64\n",
      " 3   negativereason                9178 non-null   object \n",
      " 4   negativereason_confidence     10522 non-null  float64\n",
      " 5   airline                       14640 non-null  object \n",
      " 6   airline_sentiment_gold        40 non-null     object \n",
      " 7   name                          14640 non-null  object \n",
      " 8   negativereason_gold           32 non-null     object \n",
      " 9   retweet_count                 14640 non-null  int64  \n",
      " 10  text                          14640 non-null  object \n",
      " 11  tweet_coord                   1019 non-null   object \n",
      " 12  tweet_created                 14640 non-null  object \n",
      " 13  tweet_location                9907 non-null   object \n",
      " 14  user_timezone                 9820 non-null   object \n",
      "dtypes: float64(2), int64(2), object(11)\n",
      "memory usage: 1.7+ MB\n"
     ]
    }
   ],
   "source": [
    "tweets.info()"
   ]
  },
  {
   "cell_type": "code",
   "execution_count": 58,
   "id": "79ebadfd",
   "metadata": {},
   "outputs": [
    {
     "data": {
      "text/html": [
       "<div>\n",
       "<style scoped>\n",
       "    .dataframe tbody tr th:only-of-type {\n",
       "        vertical-align: middle;\n",
       "    }\n",
       "\n",
       "    .dataframe tbody tr th {\n",
       "        vertical-align: top;\n",
       "    }\n",
       "\n",
       "    .dataframe thead th {\n",
       "        text-align: right;\n",
       "    }\n",
       "</style>\n",
       "<table border=\"1\" class=\"dataframe\">\n",
       "  <thead>\n",
       "    <tr style=\"text-align: right;\">\n",
       "      <th></th>\n",
       "      <th>00</th>\n",
       "      <th>000</th>\n",
       "      <th>000114</th>\n",
       "      <th>000419</th>\n",
       "      <th>000ft</th>\n",
       "      <th>000lbs</th>\n",
       "      <th>0011</th>\n",
       "      <th>0016</th>\n",
       "      <th>00a</th>\n",
       "      <th>00am</th>\n",
       "      <th>...</th>\n",
       "      <th>zrh_airport</th>\n",
       "      <th>zsdgzydnde</th>\n",
       "      <th>zsuztnaijq</th>\n",
       "      <th>ztrdwv0n4l</th>\n",
       "      <th>zukes</th>\n",
       "      <th>zurich</th>\n",
       "      <th>zv2pt6trk9</th>\n",
       "      <th>zv6cfpohl5</th>\n",
       "      <th>zvfmxnuelj</th>\n",
       "      <th>zzps5ywve2</th>\n",
       "    </tr>\n",
       "  </thead>\n",
       "  <tbody>\n",
       "    <tr>\n",
       "      <th>0</th>\n",
       "      <td>0</td>\n",
       "      <td>0</td>\n",
       "      <td>0</td>\n",
       "      <td>0</td>\n",
       "      <td>0</td>\n",
       "      <td>0</td>\n",
       "      <td>0</td>\n",
       "      <td>0</td>\n",
       "      <td>0</td>\n",
       "      <td>0</td>\n",
       "      <td>...</td>\n",
       "      <td>0</td>\n",
       "      <td>0</td>\n",
       "      <td>0</td>\n",
       "      <td>0</td>\n",
       "      <td>0</td>\n",
       "      <td>0</td>\n",
       "      <td>0</td>\n",
       "      <td>0</td>\n",
       "      <td>0</td>\n",
       "      <td>0</td>\n",
       "    </tr>\n",
       "    <tr>\n",
       "      <th>1</th>\n",
       "      <td>0</td>\n",
       "      <td>0</td>\n",
       "      <td>0</td>\n",
       "      <td>0</td>\n",
       "      <td>0</td>\n",
       "      <td>0</td>\n",
       "      <td>0</td>\n",
       "      <td>0</td>\n",
       "      <td>0</td>\n",
       "      <td>0</td>\n",
       "      <td>...</td>\n",
       "      <td>0</td>\n",
       "      <td>0</td>\n",
       "      <td>0</td>\n",
       "      <td>0</td>\n",
       "      <td>0</td>\n",
       "      <td>0</td>\n",
       "      <td>0</td>\n",
       "      <td>0</td>\n",
       "      <td>0</td>\n",
       "      <td>0</td>\n",
       "    </tr>\n",
       "    <tr>\n",
       "      <th>2</th>\n",
       "      <td>0</td>\n",
       "      <td>0</td>\n",
       "      <td>0</td>\n",
       "      <td>0</td>\n",
       "      <td>0</td>\n",
       "      <td>0</td>\n",
       "      <td>0</td>\n",
       "      <td>0</td>\n",
       "      <td>0</td>\n",
       "      <td>0</td>\n",
       "      <td>...</td>\n",
       "      <td>0</td>\n",
       "      <td>0</td>\n",
       "      <td>0</td>\n",
       "      <td>0</td>\n",
       "      <td>0</td>\n",
       "      <td>0</td>\n",
       "      <td>0</td>\n",
       "      <td>0</td>\n",
       "      <td>0</td>\n",
       "      <td>0</td>\n",
       "    </tr>\n",
       "    <tr>\n",
       "      <th>3</th>\n",
       "      <td>0</td>\n",
       "      <td>0</td>\n",
       "      <td>0</td>\n",
       "      <td>0</td>\n",
       "      <td>0</td>\n",
       "      <td>0</td>\n",
       "      <td>0</td>\n",
       "      <td>0</td>\n",
       "      <td>0</td>\n",
       "      <td>0</td>\n",
       "      <td>...</td>\n",
       "      <td>0</td>\n",
       "      <td>0</td>\n",
       "      <td>0</td>\n",
       "      <td>0</td>\n",
       "      <td>0</td>\n",
       "      <td>0</td>\n",
       "      <td>0</td>\n",
       "      <td>0</td>\n",
       "      <td>0</td>\n",
       "      <td>0</td>\n",
       "    </tr>\n",
       "    <tr>\n",
       "      <th>4</th>\n",
       "      <td>0</td>\n",
       "      <td>0</td>\n",
       "      <td>0</td>\n",
       "      <td>0</td>\n",
       "      <td>0</td>\n",
       "      <td>0</td>\n",
       "      <td>0</td>\n",
       "      <td>0</td>\n",
       "      <td>0</td>\n",
       "      <td>0</td>\n",
       "      <td>...</td>\n",
       "      <td>0</td>\n",
       "      <td>0</td>\n",
       "      <td>0</td>\n",
       "      <td>0</td>\n",
       "      <td>0</td>\n",
       "      <td>0</td>\n",
       "      <td>0</td>\n",
       "      <td>0</td>\n",
       "      <td>0</td>\n",
       "      <td>0</td>\n",
       "    </tr>\n",
       "  </tbody>\n",
       "</table>\n",
       "<p>5 rows × 14768 columns</p>\n",
       "</div>"
      ],
      "text/plain": [
       "   00  000  000114  000419  000ft  000lbs  0011  0016  00a  00am  ...  \\\n",
       "0   0    0       0       0      0       0     0     0    0     0  ...   \n",
       "1   0    0       0       0      0       0     0     0    0     0  ...   \n",
       "2   0    0       0       0      0       0     0     0    0     0  ...   \n",
       "3   0    0       0       0      0       0     0     0    0     0  ...   \n",
       "4   0    0       0       0      0       0     0     0    0     0  ...   \n",
       "\n",
       "   zrh_airport  zsdgzydnde  zsuztnaijq  ztrdwv0n4l  zukes  zurich  zv2pt6trk9  \\\n",
       "0            0           0           0           0      0       0           0   \n",
       "1            0           0           0           0      0       0           0   \n",
       "2            0           0           0           0      0       0           0   \n",
       "3            0           0           0           0      0       0           0   \n",
       "4            0           0           0           0      0       0           0   \n",
       "\n",
       "   zv6cfpohl5  zvfmxnuelj  zzps5ywve2  \n",
       "0           0           0           0  \n",
       "1           0           0           0  \n",
       "2           0           0           0  \n",
       "3           0           0           0  \n",
       "4           0           0           0  \n",
       "\n",
       "[5 rows x 14768 columns]"
      ]
     },
     "execution_count": 58,
     "metadata": {},
     "output_type": "execute_result"
    }
   ],
   "source": [
    "# Import the stop words\n",
    "from sklearn.feature_extraction.text import CountVectorizer, ENGLISH_STOP_WORDS\n",
    "\n",
    "# Define the stop words\n",
    "my_stop_words = ENGLISH_STOP_WORDS.union(['airline', 'airlines', '@'])\n",
    "\n",
    "# Build and fit the vectorizer\n",
    "vect = CountVectorizer(stop_words=my_stop_words)\n",
    "vect.fit(tweets.text)\n",
    "\n",
    "# Create the bow representation\n",
    "X_review = vect.transform(tweets.text)\n",
    "# Create the data frame\n",
    "X_df = pd.DataFrame(X_review.toarray(), columns=vect.get_feature_names_out())\n",
    "X_df.head()"
   ]
  },
  {
   "cell_type": "markdown",
   "id": "bd9dcf9a",
   "metadata": {},
   "source": [
    "### Multiple text columns"
   ]
  },
  {
   "cell_type": "code",
   "execution_count": 59,
   "id": "543e3ce0",
   "metadata": {},
   "outputs": [],
   "source": [
    "tweets_mult = tweets[['airline_sentiment', 'text', 'negativereason']].dropna()"
   ]
  },
  {
   "cell_type": "code",
   "execution_count": 60,
   "id": "207952aa",
   "metadata": {},
   "outputs": [
    {
     "name": "stdout",
     "output_type": "stream",
     "text": [
      "['zira2z3udc' 'zkatcher' 'zkoe6clgiu' 'zl4bvexmcj' 'zombie' 'zone' 'zones'\n",
      " 'zoom' 'zouowgv3q6' 'zrh' 'zukes' 'zurich' 'zv6cfpohl5' 'zvfmxnuelj'\n",
      " 'zzps5ywve2']\n",
      "====================================================================================================\n",
      "['attendant' 'bad' 'booking' 'cancelled' 'complaints' 'customer' 'damaged'\n",
      " 'flight' 'issue' 'late' 'longlines' 'lost' 'luggage' 'problems' 'service'\n",
      " 'tell']\n"
     ]
    }
   ],
   "source": [
    "# Define the stop words\n",
    "my_stop_words = ENGLISH_STOP_WORDS.union(['airline', 'airlines', '@', 'am', 'pm'])\n",
    " \n",
    "# Build and fit the vectorizers\n",
    "vect1 = CountVectorizer(stop_words=my_stop_words)\n",
    "vect2 = CountVectorizer(stop_words=ENGLISH_STOP_WORDS) \n",
    "vect1.fit(tweets_mult.text)\n",
    "vect2.fit(tweets_mult.negativereason)\n",
    "\n",
    "# Print the last 15 features from the first, and all from second vectorizer\n",
    "print(vect1.get_feature_names_out()[-15:])\n",
    "print('='*100)\n",
    "print(vect2.get_feature_names_out())"
   ]
  },
  {
   "cell_type": "markdown",
   "id": "1ae59409",
   "metadata": {},
   "source": [
    "### Capturing a token pattern"
   ]
  },
  {
   "cell_type": "code",
   "execution_count": 61,
   "id": "79ac868b",
   "metadata": {},
   "outputs": [
    {
     "name": "stdout",
     "output_type": "stream",
     "text": [
      "Length of vectorizer:  11893\n"
     ]
    }
   ],
   "source": [
    "# Build and fit the vectorizer\n",
    "vect = CountVectorizer(token_pattern=r'\\b[^\\d\\W][^\\d\\W]+\\b').fit(tweets.text)\n",
    "vect.transform(tweets.text)\n",
    "print('Length of vectorizer: ', len(vect.get_feature_names_out()))"
   ]
  },
  {
   "cell_type": "code",
   "execution_count": 62,
   "id": "8390666a",
   "metadata": {},
   "outputs": [
    {
     "name": "stdout",
     "output_type": "stream",
     "text": [
      "Length of vectorizer 1:  15051\n",
      "Length of vectorizer 2:  643\n"
     ]
    }
   ],
   "source": [
    "# Build the first vectorizer\n",
    "vect1 = CountVectorizer().fit(tweets.text)\n",
    "vect1.transform(tweets.text)\n",
    "\n",
    "# Build the second vectorizer\n",
    "vect2 = CountVectorizer(token_pattern=r'\\b[^\\d\\W][^\\d\\W]').fit(tweets.text)\n",
    "vect2.transform(tweets.text)\n",
    "\n",
    "# Print out the length of each vectorizer\n",
    "print('Length of vectorizer 1: ', len(vect1.get_feature_names_out()))\n",
    "print('Length of vectorizer 2: ', len(vect2.get_feature_names_out()))"
   ]
  },
  {
   "cell_type": "markdown",
   "id": "5664791a",
   "metadata": {},
   "source": [
    "### String operators with the Twitter data"
   ]
  },
  {
   "cell_type": "code",
   "execution_count": 63,
   "id": "a181191a",
   "metadata": {},
   "outputs": [
    {
     "name": "stdout",
     "output_type": "stream",
     "text": [
      "Original tokens:  ['@', 'VirginAmerica', 'What', '@', 'dhepburn', 'said', '.']\n",
      "Cleaned tokens:  ['VirginAmerica', 'What', 'dhepburn', 'said']\n"
     ]
    }
   ],
   "source": [
    "# Import the word tokenizing package\n",
    "from nltk import word_tokenize\n",
    "\n",
    "# Tokenize the text column\n",
    "word_tokens = [word_tokenize(review) for review in tweets.text]\n",
    "print('Original tokens: ', word_tokens[0])\n",
    "\n",
    "# Filter out non-letter characters\n",
    "cleaned_tokens = [[word for word in item if word.isalpha()] for item in word_tokens]\n",
    "print('Cleaned tokens: ', cleaned_tokens[0])"
   ]
  },
  {
   "cell_type": "code",
   "execution_count": 64,
   "id": "292d4fb1",
   "metadata": {},
   "outputs": [
    {
     "name": "stdout",
     "output_type": "stream",
     "text": [
      "Original tokens:  ['@', 'VirginAmerica', 'trying', 'to', 'add', 'my', 'boy', 'Prince', 'to', 'my', 'ressie', '.', 'SF', 'this', 'Thursday', '@', 'VirginAmerica', 'from', 'LAX', 'http', ':', '//t.co/GsB2J3c4gM']\n",
      "====================================================================================================\n",
      "Cleaned tokens:  ['VirginAmerica', 'trying', 'to', 'add', 'my', 'boy', 'Prince', 'to', 'my', 'ressie', 'SF', 'this', 'Thursday', 'VirginAmerica', 'from', 'LAX', 'http']\n"
     ]
    }
   ],
   "source": [
    "print('Original tokens: ', word_tokens[100])\n",
    "print('='*100)\n",
    "print('Cleaned tokens: ', cleaned_tokens[100])"
   ]
  },
  {
   "cell_type": "code",
   "execution_count": 65,
   "id": "e11f9839",
   "metadata": {},
   "outputs": [],
   "source": [
    "tweets_list = [\"@VirginAmerica it's really aggressive to blast obnoxious 'entertainment' in your guests' faces &amp; they have little recourse\",\n",
    " \"@VirginAmerica Hey, first time flyer next week - excited! But I'm having a hard time getting my flights added to my Elevate account. Help?\",\n",
    " '@united Change made in just over 3 hours. For something that should have taken seconds online, I am not thrilled. Loved the agent, though.']"
   ]
  },
  {
   "cell_type": "code",
   "execution_count": 66,
   "id": "13a928e7",
   "metadata": {},
   "outputs": [
    {
     "name": "stdout",
     "output_type": "stream",
     "text": [
      "Last item in alphabetic list:  ['united', 'Change', 'made', 'in', 'just', 'over', 'hours', 'For', 'something', 'that', 'should', 'have', 'taken', 'seconds', 'online', 'I', 'am', 'not', 'thrilled', 'Loved', 'the', 'agent', 'though']\n",
      "====================================================================================================\n",
      "Last item in list of alphanumerics:  ['united', 'Change', 'made', 'in', 'just', 'over', '3', 'hours', 'For', 'something', 'that', 'should', 'have', 'taken', 'seconds', 'online', 'I', 'am', 'not', 'thrilled', 'Loved', 'the', 'agent', 'though']\n",
      "====================================================================================================\n",
      "Last item in the list of digits:  ['3']\n"
     ]
    }
   ],
   "source": [
    "# Create a list of lists, containing the tokens from list_tweets\n",
    "tokens = [word_tokenize(item) for item in tweets_list]\n",
    "\n",
    "# Remove characters and digits , i.e. retain only letters\n",
    "letters = [[word for word in item if word.isalpha()] for item in tokens]\n",
    "# Remove characters, i.e. retain only letters and digits\n",
    "let_digits = [[word for word in item if word.isalnum()] for item in tokens]\n",
    "# Remove letters and characters, retain only digits\n",
    "digits = [[word for word in item if word.isdigit()] for item in tokens]\n",
    "\n",
    "# Print the last item in each list\n",
    "print('Last item in alphabetic list: ', letters[2])\n",
    "print('='*100)\n",
    "print('Last item in list of alphanumerics: ', let_digits[2])\n",
    "print('='*100)\n",
    "print('Last item in the list of digits: ', digits[2])"
   ]
  },
  {
   "cell_type": "markdown",
   "id": "594c19db",
   "metadata": {},
   "source": [
    "### Stemming and lemmatization"
   ]
  },
  {
   "cell_type": "code",
   "execution_count": 67,
   "id": "6ead5b7b",
   "metadata": {},
   "outputs": [],
   "source": [
    "GoT = 'Never forget what you are, for surely the world will not. Make it your strength. Then it can never be your weakness. Armour yourself in it, and it will never be used to hurt you.'"
   ]
  },
  {
   "cell_type": "code",
   "execution_count": 68,
   "id": "71d1b1ca",
   "metadata": {},
   "outputs": [],
   "source": [
    "# Import the required packages from nltk\n",
    "from nltk.stem import PorterStemmer, WordNetLemmatizer\n",
    "from nltk import word_tokenize\n",
    "\n",
    "porter = PorterStemmer()\n",
    "WNlemmatizer = WordNetLemmatizer()\n",
    "\n",
    "# Tokenize the GoT string\n",
    "tokens = word_tokenize(GoT) "
   ]
  },
  {
   "cell_type": "code",
   "execution_count": 69,
   "id": "d21a56e4",
   "metadata": {},
   "outputs": [
    {
     "name": "stdout",
     "output_type": "stream",
     "text": [
      "Time taken for stemming in seconds:  0.0\n",
      "Stemmed tokens:  ['never', 'forget', 'what', 'you', 'are', ',', 'for', 'sure', 'the', 'world', 'will', 'not', '.', 'make', 'it', 'your', 'strength', '.', 'then', 'it', 'can', 'never', 'be', 'your', 'weak', '.', 'armour', 'yourself', 'in', 'it', ',', 'and', 'it', 'will', 'never', 'be', 'use', 'to', 'hurt', 'you', '.']\n"
     ]
    }
   ],
   "source": [
    "import time\n",
    "\n",
    "# Log the start time\n",
    "start_time = time.time()\n",
    "\n",
    "# Build a stemmed list\n",
    "stemmed_tokens = [porter.stem(token) for token in tokens] \n",
    "\n",
    "# Log the end time\n",
    "end_time = time.time()\n",
    "\n",
    "print('Time taken for stemming in seconds: ', end_time - start_time)\n",
    "print('Stemmed tokens: ', stemmed_tokens) "
   ]
  },
  {
   "cell_type": "code",
   "execution_count": 70,
   "id": "c356faa1",
   "metadata": {},
   "outputs": [
    {
     "name": "stdout",
     "output_type": "stream",
     "text": [
      "Time taken for lemmatizing in seconds:  3.039062976837158\n",
      "Lemmatized tokens:  ['Never', 'forget', 'what', 'you', 'are', ',', 'for', 'surely', 'the', 'world', 'will', 'not', '.', 'Make', 'it', 'your', 'strength', '.', 'Then', 'it', 'can', 'never', 'be', 'your', 'weakness', '.', 'Armour', 'yourself', 'in', 'it', ',', 'and', 'it', 'will', 'never', 'be', 'used', 'to', 'hurt', 'you', '.']\n"
     ]
    }
   ],
   "source": [
    "# Log the start time\n",
    "start_time = time.time()\n",
    "\n",
    "# Build a lemmatized list\n",
    "lem_tokens = [WNlemmatizer.lemmatize(token) for token in tokens]\n",
    "\n",
    "# Log the end time\n",
    "end_time = time.time()\n",
    "\n",
    "print('Time taken for lemmatizing in seconds: ', end_time - start_time)\n",
    "print('Lemmatized tokens: ', lem_tokens) "
   ]
  },
  {
   "cell_type": "markdown",
   "id": "ab11ef7e",
   "metadata": {},
   "source": [
    "### Stem Spanish reviews"
   ]
  },
  {
   "cell_type": "code",
   "execution_count": 71,
   "id": "6dc2b5e5",
   "metadata": {},
   "outputs": [],
   "source": [
    "filtered_reviews = reviews[reviews['language'] == 'es']"
   ]
  },
  {
   "cell_type": "code",
   "execution_count": 72,
   "id": "b197aa27",
   "metadata": {},
   "outputs": [
    {
     "data": {
      "text/html": [
       "<div>\n",
       "<style scoped>\n",
       "    .dataframe tbody tr th:only-of-type {\n",
       "        vertical-align: middle;\n",
       "    }\n",
       "\n",
       "    .dataframe tbody tr th {\n",
       "        vertical-align: top;\n",
       "    }\n",
       "\n",
       "    .dataframe thead th {\n",
       "        text-align: right;\n",
       "    }\n",
       "</style>\n",
       "<table border=\"1\" class=\"dataframe\">\n",
       "  <thead>\n",
       "    <tr style=\"text-align: right;\">\n",
       "      <th></th>\n",
       "      <th>score</th>\n",
       "      <th>review</th>\n",
       "      <th>n_words</th>\n",
       "      <th>language</th>\n",
       "    </tr>\n",
       "  </thead>\n",
       "  <tbody>\n",
       "    <tr>\n",
       "      <th>1259</th>\n",
       "      <td>1</td>\n",
       "      <td>La reencarnación vista por un científico: El ...</td>\n",
       "      <td>37</td>\n",
       "      <td>es</td>\n",
       "    </tr>\n",
       "    <tr>\n",
       "      <th>1261</th>\n",
       "      <td>1</td>\n",
       "      <td>Magnifico libro: Brian Weiss ha dejado una ma...</td>\n",
       "      <td>50</td>\n",
       "      <td>es</td>\n",
       "    </tr>\n",
       "    <tr>\n",
       "      <th>1639</th>\n",
       "      <td>1</td>\n",
       "      <td>El libro mas completo que existe para nosotra...</td>\n",
       "      <td>40</td>\n",
       "      <td>es</td>\n",
       "    </tr>\n",
       "    <tr>\n",
       "      <th>1745</th>\n",
       "      <td>1</td>\n",
       "      <td>Excelente!: Una excelente guía para todos aqu...</td>\n",
       "      <td>56</td>\n",
       "      <td>es</td>\n",
       "    </tr>\n",
       "    <tr>\n",
       "      <th>2486</th>\n",
       "      <td>1</td>\n",
       "      <td>Palabras de aliento para tu caminar con Dios:...</td>\n",
       "      <td>86</td>\n",
       "      <td>es</td>\n",
       "    </tr>\n",
       "    <tr>\n",
       "      <th>2903</th>\n",
       "      <td>1</td>\n",
       "      <td>fabuloso: mil gracias por el producto fabulos...</td>\n",
       "      <td>23</td>\n",
       "      <td>es</td>\n",
       "    </tr>\n",
       "    <tr>\n",
       "      <th>3318</th>\n",
       "      <td>1</td>\n",
       "      <td>Excelentes botas.. excelentes boots: Excelent...</td>\n",
       "      <td>41</td>\n",
       "      <td>es</td>\n",
       "    </tr>\n",
       "    <tr>\n",
       "      <th>3694</th>\n",
       "      <td>0</td>\n",
       "      <td>Why not Spanish ???: Alguien me puede decir p...</td>\n",
       "      <td>112</td>\n",
       "      <td>es</td>\n",
       "    </tr>\n",
       "    <tr>\n",
       "      <th>4820</th>\n",
       "      <td>1</td>\n",
       "      <td>La mejor película de Moore: A mi juicio, esta...</td>\n",
       "      <td>24</td>\n",
       "      <td>es</td>\n",
       "    </tr>\n",
       "    <tr>\n",
       "      <th>5901</th>\n",
       "      <td>1</td>\n",
       "      <td>Buen cargador: Product very good, I am of Ven...</td>\n",
       "      <td>28</td>\n",
       "      <td>es</td>\n",
       "    </tr>\n",
       "    <tr>\n",
       "      <th>6234</th>\n",
       "      <td>1</td>\n",
       "      <td>5+ stars. LO MEJOR DE LO QUE HE LEIDO EN MI V...</td>\n",
       "      <td>149</td>\n",
       "      <td>es</td>\n",
       "    </tr>\n",
       "    <tr>\n",
       "      <th>7078</th>\n",
       "      <td>1</td>\n",
       "      <td>Variedad: Bueno tener este album debido a su ...</td>\n",
       "      <td>73</td>\n",
       "      <td>es</td>\n",
       "    </tr>\n",
       "    <tr>\n",
       "      <th>8018</th>\n",
       "      <td>1</td>\n",
       "      <td>Exelente eleccion: Los mejores zapatos de fut...</td>\n",
       "      <td>29</td>\n",
       "      <td>es</td>\n",
       "    </tr>\n",
       "    <tr>\n",
       "      <th>9265</th>\n",
       "      <td>1</td>\n",
       "      <td>Excelente: Manu es una de los mejores cantant...</td>\n",
       "      <td>53</td>\n",
       "      <td>es</td>\n",
       "    </tr>\n",
       "    <tr>\n",
       "      <th>9624</th>\n",
       "      <td>0</td>\n",
       "      <td>baaaaaadddddddd bookkkkkkk: por favor no gast...</td>\n",
       "      <td>81</td>\n",
       "      <td>es</td>\n",
       "    </tr>\n",
       "  </tbody>\n",
       "</table>\n",
       "</div>"
      ],
      "text/plain": [
       "      score                                             review  n_words  \\\n",
       "1259      1   La reencarnación vista por un científico: El ...       37   \n",
       "1261      1   Magnifico libro: Brian Weiss ha dejado una ma...       50   \n",
       "1639      1   El libro mas completo que existe para nosotra...       40   \n",
       "1745      1   Excelente!: Una excelente guía para todos aqu...       56   \n",
       "2486      1   Palabras de aliento para tu caminar con Dios:...       86   \n",
       "2903      1   fabuloso: mil gracias por el producto fabulos...       23   \n",
       "3318      1   Excelentes botas.. excelentes boots: Excelent...       41   \n",
       "3694      0   Why not Spanish ???: Alguien me puede decir p...      112   \n",
       "4820      1   La mejor película de Moore: A mi juicio, esta...       24   \n",
       "5901      1   Buen cargador: Product very good, I am of Ven...       28   \n",
       "6234      1   5+ stars. LO MEJOR DE LO QUE HE LEIDO EN MI V...      149   \n",
       "7078      1   Variedad: Bueno tener este album debido a su ...       73   \n",
       "8018      1   Exelente eleccion: Los mejores zapatos de fut...       29   \n",
       "9265      1   Excelente: Manu es una de los mejores cantant...       53   \n",
       "9624      0   baaaaaadddddddd bookkkkkkk: por favor no gast...       81   \n",
       "\n",
       "     language  \n",
       "1259       es  \n",
       "1261       es  \n",
       "1639       es  \n",
       "1745       es  \n",
       "2486       es  \n",
       "2903       es  \n",
       "3318       es  \n",
       "3694       es  \n",
       "4820       es  \n",
       "5901       es  \n",
       "6234       es  \n",
       "7078       es  \n",
       "8018       es  \n",
       "9265       es  \n",
       "9624       es  "
      ]
     },
     "execution_count": 72,
     "metadata": {},
     "output_type": "execute_result"
    }
   ],
   "source": [
    "filtered_reviews"
   ]
  },
  {
   "cell_type": "code",
   "execution_count": 73,
   "id": "54337c1f",
   "metadata": {},
   "outputs": [
    {
     "name": "stdout",
     "output_type": "stream",
     "text": [
      " La reencarnación vista por un científico: El primer libro del Dr. Weiss sigue siendo un gran libro para todos aquellos a quienes les inquieta el tema de la reencarnación, así no crean en ella.\r\n",
      "\n",
      "['la', 'reencarn', 'vist', 'por', 'un', 'cientif', ':', 'el', 'prim', 'libr', 'del', 'dr.', 'weiss', 'sig', 'siend', 'un', 'gran', 'libr', 'par', 'tod', 'aquell', 'a', 'quien', 'les', 'inquiet', 'el', 'tem', 'de', 'la', 'reencarn', ',', 'asi', 'no', 'cre', 'en', 'ella', '.']\n"
     ]
    }
   ],
   "source": [
    "# Import the required packages\n",
    "from nltk.stem.snowball import SnowballStemmer\n",
    "from nltk import word_tokenize\n",
    "\n",
    "# Import the Spanish SnowballStemmer\n",
    "SpanishStemmer = SnowballStemmer(\"spanish\")\n",
    "\n",
    "# Create a list of tokens\n",
    "tokens = [word_tokenize(review) for review in filtered_reviews.review] \n",
    "# Stem the list of tokens\n",
    "stemmed_tokens = [[SpanishStemmer.stem(word) for word in token] for token in tokens]\n",
    "\n",
    "# Print the first item of the stemmed tokenss\n",
    "print(filtered_reviews.review[1259])\n",
    "print(stemmed_tokens[0])"
   ]
  },
  {
   "cell_type": "markdown",
   "id": "daaa0c21",
   "metadata": {},
   "source": [
    "### Stems from tweets"
   ]
  },
  {
   "cell_type": "code",
   "execution_count": 74,
   "id": "0cb78eae",
   "metadata": {},
   "outputs": [],
   "source": [
    "tweets = tweets.text"
   ]
  },
  {
   "cell_type": "code",
   "execution_count": 75,
   "id": "b74db17b",
   "metadata": {},
   "outputs": [
    {
     "name": "stdout",
     "output_type": "stream",
     "text": [
      "['@', 'virginamerica', 'what', '@', 'dhepburn', 'said', '.']\n"
     ]
    }
   ],
   "source": [
    "# Call the stemmer\n",
    "porter = PorterStemmer()\n",
    "\n",
    "# Transform the array of tweets to tokens\n",
    "tokens = [word_tokenize(word) for word in tweets]\n",
    "# Stem the list of tokens\n",
    "stemmed_tokens = [[porter.stem(word) for word in tweet] for tweet in tokens] \n",
    "# Print the first element of the list\n",
    "print(stemmed_tokens[0])"
   ]
  },
  {
   "cell_type": "markdown",
   "id": "05531a78",
   "metadata": {},
   "source": [
    "### TfIdf: More ways to transform text"
   ]
  },
  {
   "cell_type": "code",
   "execution_count": 76,
   "id": "8653660d",
   "metadata": {},
   "outputs": [
    {
     "name": "stdout",
     "output_type": "stream",
     "text": [
      "[[0.4472136  0.4472136  0.4472136  0.         0.4472136  0.\n",
      "  0.4472136  0.         0.         0.         0.         0.\n",
      "  0.        ]\n",
      " [0.         0.         0.         0.30151134 0.         0.30151134\n",
      "  0.         0.30151134 0.30151134 0.30151134 0.30151134 0.60302269\n",
      "  0.30151134]]\n"
     ]
    }
   ],
   "source": [
    "# Import the required function\n",
    "from sklearn.feature_extraction.text import TfidfVectorizer\n",
    "\n",
    "annak = ['Happy families are all alike;', 'every unhappy family is unhappy in its own way']\n",
    "\n",
    "# Call the vectorizer and fit it\n",
    "anna_vect = TfidfVectorizer().fit(annak)\n",
    "\n",
    "# Create the tfidf representation\n",
    "anna_tfidf = anna_vect.transform(annak)\n",
    "\n",
    "# Print the result \n",
    "print(anna_tfidf.toarray())"
   ]
  },
  {
   "cell_type": "code",
   "execution_count": 77,
   "id": "fdfbb4f7",
   "metadata": {},
   "outputs": [
    {
     "name": "stdout",
     "output_type": "stream",
     "text": [
      "      alike       all       are     every  families    family     happy  \\\n",
      "0  0.447214  0.447214  0.447214  0.000000  0.447214  0.000000  0.447214   \n",
      "1  0.000000  0.000000  0.000000  0.301511  0.000000  0.301511  0.000000   \n",
      "\n",
      "         in        is       its       own   unhappy       way  \n",
      "0  0.000000  0.000000  0.000000  0.000000  0.000000  0.000000  \n",
      "1  0.301511  0.301511  0.301511  0.301511  0.603023  0.301511  \n"
     ]
    }
   ],
   "source": [
    "# Create the bow representation\n",
    "X_df = pd.DataFrame(anna_tfidf.toarray(), columns=anna_vect.get_feature_names_out())\n",
    "print(X_df.head())"
   ]
  },
  {
   "cell_type": "code",
   "execution_count": 78,
   "id": "395b9548",
   "metadata": {},
   "outputs": [],
   "source": [
    "tweets = pd.read_csv('Tweets.csv')"
   ]
  },
  {
   "cell_type": "code",
   "execution_count": 79,
   "id": "3b562db8",
   "metadata": {},
   "outputs": [
    {
     "name": "stdout",
     "output_type": "stream",
     "text": [
      "    aa  agent  airline  airport  americanair       amp  bag  baggage  bags  \\\n",
      "0  0.0    0.0      0.0      0.0          0.0  0.000000  0.0      0.0   0.0   \n",
      "1  0.0    0.0      0.0      0.0          0.0  0.000000  0.0      0.0   0.0   \n",
      "2  0.0    0.0      0.0      0.0          0.0  0.000000  0.0      0.0   0.0   \n",
      "3  0.0    0.0      0.0      0.0          0.0  0.537247  0.0      0.0   0.0   \n",
      "4  0.0    0.0      0.0      0.0          0.0  0.000000  0.0      0.0   0.0   \n",
      "\n",
      "   cancelled  ...        ve  virginamerica  wait  waiting  want  way  weather  \\\n",
      "0        0.0  ...  0.000000       1.000000   0.0      0.0   0.0  0.0      0.0   \n",
      "1        0.0  ...  0.544485       0.531770   0.0      0.0   0.0  0.0      0.0   \n",
      "2        0.0  ...  0.000000       0.407271   0.0      0.0   0.0  0.0      0.0   \n",
      "3        0.0  ...  0.000000       0.559828   0.0      0.0   0.0  0.0      0.0   \n",
      "4        0.0  ...  0.000000       0.663756   0.0      0.0   0.0  0.0      0.0   \n",
      "\n",
      "   work  worst  yes  \n",
      "0   0.0    0.0  0.0  \n",
      "1   0.0    0.0  0.0  \n",
      "2   0.0    0.0  0.0  \n",
      "3   0.0    0.0  0.0  \n",
      "4   0.0    0.0  0.0  \n",
      "\n",
      "[5 rows x 100 columns]\n"
     ]
    }
   ],
   "source": [
    "# Define the vectorizer and specify the arguments\n",
    "my_pattern = r'\\b[^\\d\\W][^\\d\\W]+\\b'\n",
    "vect = TfidfVectorizer(ngram_range=(1, 2), max_features=100, token_pattern=my_pattern, stop_words=ENGLISH_STOP_WORDS).fit(tweets.text)\n",
    "\n",
    "# Transform the vectorizer\n",
    "X_txt = vect.fit_transform(tweets.text)\n",
    "\n",
    "# Transform to a data frame and specify the column names\n",
    "X=pd.DataFrame(X_txt.toarray(), columns=vect.get_feature_names_out())\n",
    "print(X.head())"
   ]
  },
  {
   "cell_type": "markdown",
   "id": "f80eac7b",
   "metadata": {},
   "source": [
    "### Tfidf and a BOW on same data"
   ]
  },
  {
   "cell_type": "code",
   "execution_count": 80,
   "id": "95e4c945",
   "metadata": {},
   "outputs": [
    {
     "name": "stdout",
     "output_type": "stream",
     "text": [
      "Top 5 rows using BOW: \n",
      "    about  after  all  also  am  an  and  any  are  as  ...  what  when  which  \\\n",
      "0      0      0    1     0   0   0    2    0    0   0  ...     0     0      0   \n",
      "1      0      0    0     0   0   0    3    1    1   0  ...     0     0      0   \n",
      "2      0      0    3     0   0   1    4    0    1   1  ...     0     0      1   \n",
      "3      0      0    0     0   0   0    9    0    1   0  ...     0     0      0   \n",
      "4      0      1    0     0   0   0    3    0    1   0  ...     0     0      0   \n",
      "\n",
      "   who  will  with  work  would  you  your  \n",
      "0    2     0     1     0      2    0     1  \n",
      "1    0     0     0     0      1    1     0  \n",
      "2    1     0     0     1      1    2     0  \n",
      "3    0     0     0     0      0    0     0  \n",
      "4    0     0     0     0      0    3     1  \n",
      "\n",
      "[5 rows x 100 columns]\n",
      "Top 5 rows using tfidf: \n",
      "    about     after       all  also   am       an       and       any  \\\n",
      "0    0.0  0.000000  0.138970   0.0  0.0  0.00000  0.140823  0.000000   \n",
      "1    0.0  0.000000  0.000000   0.0  0.0  0.00000  0.191572  0.175388   \n",
      "2    0.0  0.000000  0.285009   0.0  0.0  0.10526  0.192539  0.000000   \n",
      "3    0.0  0.000000  0.000000   0.0  0.0  0.00000  0.554705  0.000000   \n",
      "4    0.0  0.174214  0.000000   0.0  0.0  0.00000  0.197188  0.000000   \n",
      "\n",
      "        are        as  ...  what  when    which       who  will      with  \\\n",
      "0  0.000000  0.000000  ...   0.0   0.0  0.00000  0.351952   0.0  0.113371   \n",
      "1  0.116940  0.000000  ...   0.0   0.0  0.00000  0.000000   0.0  0.000000   \n",
      "2  0.088148  0.090385  ...   0.0   0.0  0.13013  0.120301   0.0  0.000000   \n",
      "3  0.112868  0.000000  ...   0.0   0.0  0.00000  0.000000   0.0  0.000000   \n",
      "4  0.120369  0.000000  ...   0.0   0.0  0.00000  0.000000   0.0  0.000000   \n",
      "\n",
      "       work     would       you      your  \n",
      "0  0.000000  0.306757  0.000000  0.175024  \n",
      "1  0.000000  0.139101  0.106279  0.000000  \n",
      "2  0.139218  0.104853  0.160223  0.000000  \n",
      "3  0.000000  0.000000  0.000000  0.000000  \n",
      "4  0.000000  0.000000  0.328184  0.163385  \n",
      "\n",
      "[5 rows x 100 columns]\n"
     ]
    }
   ],
   "source": [
    " # Build a BOW and tfidf vectorizers from the review column and with max of 100 features\n",
    "vect1 = CountVectorizer(max_features=100).fit(reviews.review)\n",
    "vect2 = TfidfVectorizer(max_features=100).fit(reviews.review) \n",
    "\n",
    "# Transform the vectorizers\n",
    "X1 = vect1.transform(reviews.review)\n",
    "X2 = vect2.transform(reviews.review)\n",
    "# Create DataFrames from the vectorizers \n",
    "X_df1 = pd.DataFrame(X1.toarray(), columns=vect1.get_feature_names_out())\n",
    "X_df2 = pd.DataFrame(X2.toarray(), columns=vect2.get_feature_names_out())\n",
    "print('Top 5 rows using BOW: \\n', X_df1.head())\n",
    "print('Top 5 rows using tfidf: \\n', X_df2.head())"
   ]
  },
  {
   "cell_type": "markdown",
   "id": "6672960a",
   "metadata": {},
   "source": [
    "### Predict the Sentiment"
   ]
  },
  {
   "cell_type": "code",
   "execution_count": 81,
   "id": "86a26be0",
   "metadata": {},
   "outputs": [
    {
     "data": {
      "text/html": [
       "<div>\n",
       "<style scoped>\n",
       "    .dataframe tbody tr th:only-of-type {\n",
       "        vertical-align: middle;\n",
       "    }\n",
       "\n",
       "    .dataframe tbody tr th {\n",
       "        vertical-align: top;\n",
       "    }\n",
       "\n",
       "    .dataframe thead th {\n",
       "        text-align: right;\n",
       "    }\n",
       "</style>\n",
       "<table border=\"1\" class=\"dataframe\">\n",
       "  <thead>\n",
       "    <tr style=\"text-align: right;\">\n",
       "      <th></th>\n",
       "      <th>score</th>\n",
       "      <th>review</th>\n",
       "      <th>n_words</th>\n",
       "      <th>language</th>\n",
       "    </tr>\n",
       "  </thead>\n",
       "  <tbody>\n",
       "    <tr>\n",
       "      <th>0</th>\n",
       "      <td>1</td>\n",
       "      <td>Stuning even for the non-gamer: This sound tr...</td>\n",
       "      <td>87</td>\n",
       "      <td>en</td>\n",
       "    </tr>\n",
       "    <tr>\n",
       "      <th>1</th>\n",
       "      <td>1</td>\n",
       "      <td>The best soundtrack ever to anything.: I'm re...</td>\n",
       "      <td>109</td>\n",
       "      <td>en</td>\n",
       "    </tr>\n",
       "    <tr>\n",
       "      <th>2</th>\n",
       "      <td>1</td>\n",
       "      <td>Amazing!: This soundtrack is my favorite musi...</td>\n",
       "      <td>165</td>\n",
       "      <td>en</td>\n",
       "    </tr>\n",
       "    <tr>\n",
       "      <th>3</th>\n",
       "      <td>1</td>\n",
       "      <td>Excellent Soundtrack: I truly like this sound...</td>\n",
       "      <td>145</td>\n",
       "      <td>en</td>\n",
       "    </tr>\n",
       "    <tr>\n",
       "      <th>4</th>\n",
       "      <td>1</td>\n",
       "      <td>Remember, Pull Your Jaw Off The Floor After H...</td>\n",
       "      <td>109</td>\n",
       "      <td>en</td>\n",
       "    </tr>\n",
       "  </tbody>\n",
       "</table>\n",
       "</div>"
      ],
      "text/plain": [
       "   score                                             review  n_words language\n",
       "0      1   Stuning even for the non-gamer: This sound tr...       87       en\n",
       "1      1   The best soundtrack ever to anything.: I'm re...      109       en\n",
       "2      1   Amazing!: This soundtrack is my favorite musi...      165       en\n",
       "3      1   Excellent Soundtrack: I truly like this sound...      145       en\n",
       "4      1   Remember, Pull Your Jaw Off The Floor After H...      109       en"
      ]
     },
     "execution_count": 81,
     "metadata": {},
     "output_type": "execute_result"
    }
   ],
   "source": [
    "reviews.head()"
   ]
  },
  {
   "cell_type": "code",
   "execution_count": 82,
   "id": "1d74204f",
   "metadata": {},
   "outputs": [
    {
     "name": "stdout",
     "output_type": "stream",
     "text": [
      "<class 'pandas.core.frame.DataFrame'>\n",
      "RangeIndex: 10000 entries, 0 to 9999\n",
      "Data columns (total 4 columns):\n",
      " #   Column    Non-Null Count  Dtype \n",
      "---  ------    --------------  ----- \n",
      " 0   score     10000 non-null  int64 \n",
      " 1   review    10000 non-null  object\n",
      " 2   n_words   10000 non-null  int64 \n",
      " 3   language  10000 non-null  object\n",
      "dtypes: int64(2), object(2)\n",
      "memory usage: 312.6+ KB\n"
     ]
    }
   ],
   "source": [
    "reviews.info()"
   ]
  },
  {
   "cell_type": "markdown",
   "id": "75618968",
   "metadata": {},
   "source": [
    "### Logistic regression of movie reviews"
   ]
  },
  {
   "cell_type": "code",
   "execution_count": 83,
   "id": "f803c2ac",
   "metadata": {},
   "outputs": [],
   "source": [
    "movies = pd.read_csv('IMDB_sample.csv')"
   ]
  },
  {
   "cell_type": "code",
   "execution_count": 84,
   "id": "9b33108f",
   "metadata": {},
   "outputs": [
    {
     "data": {
      "text/html": [
       "<div>\n",
       "<style scoped>\n",
       "    .dataframe tbody tr th:only-of-type {\n",
       "        vertical-align: middle;\n",
       "    }\n",
       "\n",
       "    .dataframe tbody tr th {\n",
       "        vertical-align: top;\n",
       "    }\n",
       "\n",
       "    .dataframe thead th {\n",
       "        text-align: right;\n",
       "    }\n",
       "</style>\n",
       "<table border=\"1\" class=\"dataframe\">\n",
       "  <thead>\n",
       "    <tr style=\"text-align: right;\">\n",
       "      <th></th>\n",
       "      <th>Unnamed: 0</th>\n",
       "      <th>review</th>\n",
       "      <th>label</th>\n",
       "    </tr>\n",
       "  </thead>\n",
       "  <tbody>\n",
       "    <tr>\n",
       "      <th>0</th>\n",
       "      <td>18245</td>\n",
       "      <td>This short spoof can be found on Elite's Mille...</td>\n",
       "      <td>0</td>\n",
       "    </tr>\n",
       "    <tr>\n",
       "      <th>1</th>\n",
       "      <td>19801</td>\n",
       "      <td>A singularly unfunny musical comedy that artif...</td>\n",
       "      <td>0</td>\n",
       "    </tr>\n",
       "    <tr>\n",
       "      <th>2</th>\n",
       "      <td>3222</td>\n",
       "      <td>An excellent series, masterfully acted and dir...</td>\n",
       "      <td>1</td>\n",
       "    </tr>\n",
       "    <tr>\n",
       "      <th>3</th>\n",
       "      <td>6010</td>\n",
       "      <td>The master of movie spectacle Cecil B. De Mill...</td>\n",
       "      <td>1</td>\n",
       "    </tr>\n",
       "    <tr>\n",
       "      <th>4</th>\n",
       "      <td>16355</td>\n",
       "      <td>I was gifted with this movie as it had such a ...</td>\n",
       "      <td>0</td>\n",
       "    </tr>\n",
       "    <tr>\n",
       "      <th>...</th>\n",
       "      <td>...</td>\n",
       "      <td>...</td>\n",
       "      <td>...</td>\n",
       "    </tr>\n",
       "    <tr>\n",
       "      <th>7496</th>\n",
       "      <td>7334</td>\n",
       "      <td>Although this film is somewhat filled with eig...</td>\n",
       "      <td>1</td>\n",
       "    </tr>\n",
       "    <tr>\n",
       "      <th>7497</th>\n",
       "      <td>11638</td>\n",
       "      <td>Bo Derek's beauty and John Derek's revolutiona...</td>\n",
       "      <td>1</td>\n",
       "    </tr>\n",
       "    <tr>\n",
       "      <th>7498</th>\n",
       "      <td>19851</td>\n",
       "      <td>I have seen every episode of this spin off. I ...</td>\n",
       "      <td>0</td>\n",
       "    </tr>\n",
       "    <tr>\n",
       "      <th>7499</th>\n",
       "      <td>8114</td>\n",
       "      <td>A comedy gem. Lots of laugh out loud moments, ...</td>\n",
       "      <td>1</td>\n",
       "    </tr>\n",
       "    <tr>\n",
       "      <th>7500</th>\n",
       "      <td>859</td>\n",
       "      <td>...about the importance of being young, having...</td>\n",
       "      <td>1</td>\n",
       "    </tr>\n",
       "  </tbody>\n",
       "</table>\n",
       "<p>7501 rows × 3 columns</p>\n",
       "</div>"
      ],
      "text/plain": [
       "      Unnamed: 0                                             review  label\n",
       "0          18245  This short spoof can be found on Elite's Mille...      0\n",
       "1          19801  A singularly unfunny musical comedy that artif...      0\n",
       "2           3222  An excellent series, masterfully acted and dir...      1\n",
       "3           6010  The master of movie spectacle Cecil B. De Mill...      1\n",
       "4          16355  I was gifted with this movie as it had such a ...      0\n",
       "...          ...                                                ...    ...\n",
       "7496        7334  Although this film is somewhat filled with eig...      1\n",
       "7497       11638  Bo Derek's beauty and John Derek's revolutiona...      1\n",
       "7498       19851  I have seen every episode of this spin off. I ...      0\n",
       "7499        8114  A comedy gem. Lots of laugh out loud moments, ...      1\n",
       "7500         859  ...about the importance of being young, having...      1\n",
       "\n",
       "[7501 rows x 3 columns]"
      ]
     },
     "execution_count": 84,
     "metadata": {},
     "output_type": "execute_result"
    }
   ],
   "source": [
    "movies"
   ]
  },
  {
   "cell_type": "code",
   "execution_count": 85,
   "id": "84ee0af5",
   "metadata": {},
   "outputs": [],
   "source": [
    "movies.drop(\"Unnamed: 0\",axis=1, inplace=True)"
   ]
  },
  {
   "cell_type": "code",
   "execution_count": 86,
   "id": "5674b910",
   "metadata": {},
   "outputs": [
    {
     "name": "stdout",
     "output_type": "stream",
     "text": [
      "Accuracy of logistic regression:  0.9994667377682975\n"
     ]
    }
   ],
   "source": [
    "# Import the logistic regression\n",
    "from sklearn.linear_model import LogisticRegression\n",
    "\n",
    "# Define the vector of targets and matrix of features\n",
    "y = movies.label\n",
    "X = movies.review\n",
    "\n",
    "count_vectorizer = CountVectorizer()\n",
    "count_train = count_vectorizer.fit_transform(X)\n",
    "\n",
    "# Build a logistic regression model and calculate the accuracy\n",
    "log_reg = LogisticRegression(solver='liblinear').fit(count_train, y)\n",
    "print('Accuracy of logistic regression: ', log_reg.score(count_train, y))"
   ]
  },
  {
   "cell_type": "markdown",
   "id": "92baf531",
   "metadata": {},
   "source": [
    "### Logistic regression using Twitter data"
   ]
  },
  {
   "cell_type": "code",
   "execution_count": 87,
   "id": "565d5d28",
   "metadata": {},
   "outputs": [],
   "source": [
    "from sklearn import preprocessing\n",
    "le = preprocessing.LabelEncoder()"
   ]
  },
  {
   "cell_type": "code",
   "execution_count": 88,
   "id": "5e210c68",
   "metadata": {},
   "outputs": [],
   "source": [
    "from sklearn.metrics import accuracy_score, confusion_matrix"
   ]
  },
  {
   "cell_type": "code",
   "execution_count": 89,
   "id": "c75b35e4",
   "metadata": {},
   "outputs": [
    {
     "data": {
      "text/html": [
       "<div>\n",
       "<style scoped>\n",
       "    .dataframe tbody tr th:only-of-type {\n",
       "        vertical-align: middle;\n",
       "    }\n",
       "\n",
       "    .dataframe tbody tr th {\n",
       "        vertical-align: top;\n",
       "    }\n",
       "\n",
       "    .dataframe thead th {\n",
       "        text-align: right;\n",
       "    }\n",
       "</style>\n",
       "<table border=\"1\" class=\"dataframe\">\n",
       "  <thead>\n",
       "    <tr style=\"text-align: right;\">\n",
       "      <th></th>\n",
       "      <th>tweet_id</th>\n",
       "      <th>airline_sentiment</th>\n",
       "      <th>airline_sentiment_confidence</th>\n",
       "      <th>negativereason</th>\n",
       "      <th>negativereason_confidence</th>\n",
       "      <th>airline</th>\n",
       "      <th>airline_sentiment_gold</th>\n",
       "      <th>name</th>\n",
       "      <th>negativereason_gold</th>\n",
       "      <th>retweet_count</th>\n",
       "      <th>text</th>\n",
       "      <th>tweet_coord</th>\n",
       "      <th>tweet_created</th>\n",
       "      <th>tweet_location</th>\n",
       "      <th>user_timezone</th>\n",
       "    </tr>\n",
       "  </thead>\n",
       "  <tbody>\n",
       "    <tr>\n",
       "      <th>0</th>\n",
       "      <td>570306133677760513</td>\n",
       "      <td>neutral</td>\n",
       "      <td>1.0000</td>\n",
       "      <td>NaN</td>\n",
       "      <td>NaN</td>\n",
       "      <td>Virgin America</td>\n",
       "      <td>NaN</td>\n",
       "      <td>cairdin</td>\n",
       "      <td>NaN</td>\n",
       "      <td>0</td>\n",
       "      <td>@VirginAmerica What @dhepburn said.</td>\n",
       "      <td>NaN</td>\n",
       "      <td>2015-02-24 11:35:52 -0800</td>\n",
       "      <td>NaN</td>\n",
       "      <td>Eastern Time (US &amp; Canada)</td>\n",
       "    </tr>\n",
       "    <tr>\n",
       "      <th>1</th>\n",
       "      <td>570301130888122368</td>\n",
       "      <td>positive</td>\n",
       "      <td>0.3486</td>\n",
       "      <td>NaN</td>\n",
       "      <td>0.0000</td>\n",
       "      <td>Virgin America</td>\n",
       "      <td>NaN</td>\n",
       "      <td>jnardino</td>\n",
       "      <td>NaN</td>\n",
       "      <td>0</td>\n",
       "      <td>@VirginAmerica plus you've added commercials t...</td>\n",
       "      <td>NaN</td>\n",
       "      <td>2015-02-24 11:15:59 -0800</td>\n",
       "      <td>NaN</td>\n",
       "      <td>Pacific Time (US &amp; Canada)</td>\n",
       "    </tr>\n",
       "    <tr>\n",
       "      <th>2</th>\n",
       "      <td>570301083672813571</td>\n",
       "      <td>neutral</td>\n",
       "      <td>0.6837</td>\n",
       "      <td>NaN</td>\n",
       "      <td>NaN</td>\n",
       "      <td>Virgin America</td>\n",
       "      <td>NaN</td>\n",
       "      <td>yvonnalynn</td>\n",
       "      <td>NaN</td>\n",
       "      <td>0</td>\n",
       "      <td>@VirginAmerica I didn't today... Must mean I n...</td>\n",
       "      <td>NaN</td>\n",
       "      <td>2015-02-24 11:15:48 -0800</td>\n",
       "      <td>Lets Play</td>\n",
       "      <td>Central Time (US &amp; Canada)</td>\n",
       "    </tr>\n",
       "    <tr>\n",
       "      <th>3</th>\n",
       "      <td>570301031407624196</td>\n",
       "      <td>negative</td>\n",
       "      <td>1.0000</td>\n",
       "      <td>Bad Flight</td>\n",
       "      <td>0.7033</td>\n",
       "      <td>Virgin America</td>\n",
       "      <td>NaN</td>\n",
       "      <td>jnardino</td>\n",
       "      <td>NaN</td>\n",
       "      <td>0</td>\n",
       "      <td>@VirginAmerica it's really aggressive to blast...</td>\n",
       "      <td>NaN</td>\n",
       "      <td>2015-02-24 11:15:36 -0800</td>\n",
       "      <td>NaN</td>\n",
       "      <td>Pacific Time (US &amp; Canada)</td>\n",
       "    </tr>\n",
       "    <tr>\n",
       "      <th>4</th>\n",
       "      <td>570300817074462722</td>\n",
       "      <td>negative</td>\n",
       "      <td>1.0000</td>\n",
       "      <td>Can't Tell</td>\n",
       "      <td>1.0000</td>\n",
       "      <td>Virgin America</td>\n",
       "      <td>NaN</td>\n",
       "      <td>jnardino</td>\n",
       "      <td>NaN</td>\n",
       "      <td>0</td>\n",
       "      <td>@VirginAmerica and it's a really big bad thing...</td>\n",
       "      <td>NaN</td>\n",
       "      <td>2015-02-24 11:14:45 -0800</td>\n",
       "      <td>NaN</td>\n",
       "      <td>Pacific Time (US &amp; Canada)</td>\n",
       "    </tr>\n",
       "  </tbody>\n",
       "</table>\n",
       "</div>"
      ],
      "text/plain": [
       "             tweet_id airline_sentiment  airline_sentiment_confidence  \\\n",
       "0  570306133677760513           neutral                        1.0000   \n",
       "1  570301130888122368          positive                        0.3486   \n",
       "2  570301083672813571           neutral                        0.6837   \n",
       "3  570301031407624196          negative                        1.0000   \n",
       "4  570300817074462722          negative                        1.0000   \n",
       "\n",
       "  negativereason  negativereason_confidence         airline  \\\n",
       "0            NaN                        NaN  Virgin America   \n",
       "1            NaN                     0.0000  Virgin America   \n",
       "2            NaN                        NaN  Virgin America   \n",
       "3     Bad Flight                     0.7033  Virgin America   \n",
       "4     Can't Tell                     1.0000  Virgin America   \n",
       "\n",
       "  airline_sentiment_gold        name negativereason_gold  retweet_count  \\\n",
       "0                    NaN     cairdin                 NaN              0   \n",
       "1                    NaN    jnardino                 NaN              0   \n",
       "2                    NaN  yvonnalynn                 NaN              0   \n",
       "3                    NaN    jnardino                 NaN              0   \n",
       "4                    NaN    jnardino                 NaN              0   \n",
       "\n",
       "                                                text tweet_coord  \\\n",
       "0                @VirginAmerica What @dhepburn said.         NaN   \n",
       "1  @VirginAmerica plus you've added commercials t...         NaN   \n",
       "2  @VirginAmerica I didn't today... Must mean I n...         NaN   \n",
       "3  @VirginAmerica it's really aggressive to blast...         NaN   \n",
       "4  @VirginAmerica and it's a really big bad thing...         NaN   \n",
       "\n",
       "               tweet_created tweet_location               user_timezone  \n",
       "0  2015-02-24 11:35:52 -0800            NaN  Eastern Time (US & Canada)  \n",
       "1  2015-02-24 11:15:59 -0800            NaN  Pacific Time (US & Canada)  \n",
       "2  2015-02-24 11:15:48 -0800      Lets Play  Central Time (US & Canada)  \n",
       "3  2015-02-24 11:15:36 -0800            NaN  Pacific Time (US & Canada)  \n",
       "4  2015-02-24 11:14:45 -0800            NaN  Pacific Time (US & Canada)  "
      ]
     },
     "execution_count": 89,
     "metadata": {},
     "output_type": "execute_result"
    }
   ],
   "source": [
    "tweets.head()"
   ]
  },
  {
   "cell_type": "code",
   "execution_count": 90,
   "id": "eba5001f",
   "metadata": {},
   "outputs": [],
   "source": [
    "X = tweets.text"
   ]
  },
  {
   "cell_type": "code",
   "execution_count": 91,
   "id": "fc733c85",
   "metadata": {},
   "outputs": [
    {
     "data": {
      "text/plain": [
       "0"
      ]
     },
     "execution_count": 91,
     "metadata": {},
     "output_type": "execute_result"
    }
   ],
   "source": [
    "X.isnull().sum()"
   ]
  },
  {
   "cell_type": "code",
   "execution_count": 92,
   "id": "ed94dc6e",
   "metadata": {},
   "outputs": [],
   "source": [
    "y = le.fit_transform(tweets.airline_sentiment)"
   ]
  },
  {
   "cell_type": "code",
   "execution_count": 93,
   "id": "2a0680cc",
   "metadata": {},
   "outputs": [
    {
     "data": {
      "text/plain": [
       "array([1, 2, 1, ..., 1, 0, 1])"
      ]
     },
     "execution_count": 93,
     "metadata": {},
     "output_type": "execute_result"
    }
   ],
   "source": [
    "y"
   ]
  },
  {
   "cell_type": "code",
   "execution_count": 94,
   "id": "99ef3484",
   "metadata": {},
   "outputs": [
    {
     "name": "stdout",
     "output_type": "stream",
     "text": [
      "Accuracy of logistic regression:  0.8583333333333333\n",
      "Accuracy of logistic regression:  0.8583333333333333\n"
     ]
    }
   ],
   "source": [
    "# Define the vector of targets and matrix of features\n",
    "y = tweets.airline_sentiment\n",
    "X = tweets.text\n",
    "\n",
    "vect = TfidfVectorizer(ngram_range=(1, 2), \n",
    "                       token_pattern=my_pattern)\n",
    "X_vect = vect.fit_transform(X)\n",
    "\n",
    "\n",
    "\n",
    "\n",
    "# Build a logistic regression model and calculate the accuracy\n",
    "log_reg = LogisticRegression(solver='liblinear').fit(X_vect, y)\n",
    "print('Accuracy of logistic regression: ', log_reg.score(X_vect,y))\n",
    "\n",
    "# Create an array of prediction\n",
    "y_predict = log_reg.predict(X_vect)\n",
    "\n",
    "# Print the accuracy using accuracy score\n",
    "print('Accuracy of logistic regression: ', accuracy_score(y, y_predict))"
   ]
  },
  {
   "cell_type": "markdown",
   "id": "7cdd75ab",
   "metadata": {},
   "source": [
    "### Build and assess a model: movies reviews"
   ]
  },
  {
   "cell_type": "code",
   "execution_count": 95,
   "id": "1709fb41",
   "metadata": {},
   "outputs": [
    {
     "name": "stdout",
     "output_type": "stream",
     "text": [
      "Accuracy on train set:  0.9996666666666667\n",
      "Accuracy on test set:  0.8334443704197202\n"
     ]
    }
   ],
   "source": [
    "# Import the required packages\n",
    "from sklearn.linear_model import LogisticRegression\n",
    "from sklearn.model_selection import train_test_split\n",
    "\n",
    "# Define the vector of labels and matrix of features\n",
    "y = movies.label\n",
    "X = count_train\n",
    "\n",
    "# Perform the train-test split\n",
    "X_train, X_test, y_train, y_test = train_test_split(X, y, test_size=0.2, random_state=42)\n",
    "\n",
    "# Build a logistic regression model and print out the accuracy\n",
    "log_reg = LogisticRegression(solver='liblinear').fit(X_train, y_train)\n",
    "print('Accuracy on train set: ', log_reg.score(X_train, y_train))\n",
    "print('Accuracy on test set: ', log_reg.score(X_test, y_test))"
   ]
  },
  {
   "cell_type": "markdown",
   "id": "65245304",
   "metadata": {},
   "source": [
    "### Performance metrics of Twitter data"
   ]
  },
  {
   "cell_type": "code",
   "execution_count": 96,
   "id": "55e27d87",
   "metadata": {},
   "outputs": [
    {
     "name": "stdout",
     "output_type": "stream",
     "text": [
      "Accuracy score test set:  0.7577413479052824\n",
      "Confusion matrix test set: \n",
      " [[0.61338798 0.00933515 0.00409836]\n",
      " [0.1318306  0.07240437 0.00751366]\n",
      " [0.07650273 0.01297814 0.071949  ]]\n"
     ]
    }
   ],
   "source": [
    "# Split the data into training and testing sets\n",
    "y = tweets.airline_sentiment\n",
    "X = X_vect \n",
    "\n",
    "X_train, X_test, y_train, y_test = train_test_split(X, y, test_size=0.3, random_state=123, stratify=y)\n",
    "\n",
    "# Train a logistic regression\n",
    "log_reg = LogisticRegression(solver='liblinear').fit(X_train, y_train)\n",
    "\n",
    "# Make predictions on the test set\n",
    "y_predicted = log_reg.predict(X_test)\n",
    "\n",
    "# Print the performance metrics\n",
    "print('Accuracy score test set: ', accuracy_score(y_test, y_predicted))\n",
    "print('Confusion matrix test set: \\n', confusion_matrix(y_test, y_predicted)/len(y_test))"
   ]
  },
  {
   "cell_type": "markdown",
   "id": "66959675",
   "metadata": {},
   "source": [
    "### Build and assess a model: product reviews data"
   ]
  },
  {
   "cell_type": "code",
   "execution_count": 97,
   "id": "6d7db0a2",
   "metadata": {},
   "outputs": [
    {
     "data": {
      "text/html": [
       "<div>\n",
       "<style scoped>\n",
       "    .dataframe tbody tr th:only-of-type {\n",
       "        vertical-align: middle;\n",
       "    }\n",
       "\n",
       "    .dataframe tbody tr th {\n",
       "        vertical-align: top;\n",
       "    }\n",
       "\n",
       "    .dataframe thead th {\n",
       "        text-align: right;\n",
       "    }\n",
       "</style>\n",
       "<table border=\"1\" class=\"dataframe\">\n",
       "  <thead>\n",
       "    <tr style=\"text-align: right;\">\n",
       "      <th></th>\n",
       "      <th>score</th>\n",
       "      <th>review</th>\n",
       "      <th>n_words</th>\n",
       "      <th>language</th>\n",
       "    </tr>\n",
       "  </thead>\n",
       "  <tbody>\n",
       "    <tr>\n",
       "      <th>0</th>\n",
       "      <td>1</td>\n",
       "      <td>Stuning even for the non-gamer: This sound tr...</td>\n",
       "      <td>87</td>\n",
       "      <td>en</td>\n",
       "    </tr>\n",
       "    <tr>\n",
       "      <th>1</th>\n",
       "      <td>1</td>\n",
       "      <td>The best soundtrack ever to anything.: I'm re...</td>\n",
       "      <td>109</td>\n",
       "      <td>en</td>\n",
       "    </tr>\n",
       "    <tr>\n",
       "      <th>2</th>\n",
       "      <td>1</td>\n",
       "      <td>Amazing!: This soundtrack is my favorite musi...</td>\n",
       "      <td>165</td>\n",
       "      <td>en</td>\n",
       "    </tr>\n",
       "    <tr>\n",
       "      <th>3</th>\n",
       "      <td>1</td>\n",
       "      <td>Excellent Soundtrack: I truly like this sound...</td>\n",
       "      <td>145</td>\n",
       "      <td>en</td>\n",
       "    </tr>\n",
       "    <tr>\n",
       "      <th>4</th>\n",
       "      <td>1</td>\n",
       "      <td>Remember, Pull Your Jaw Off The Floor After H...</td>\n",
       "      <td>109</td>\n",
       "      <td>en</td>\n",
       "    </tr>\n",
       "  </tbody>\n",
       "</table>\n",
       "</div>"
      ],
      "text/plain": [
       "   score                                             review  n_words language\n",
       "0      1   Stuning even for the non-gamer: This sound tr...       87       en\n",
       "1      1   The best soundtrack ever to anything.: I'm re...      109       en\n",
       "2      1   Amazing!: This soundtrack is my favorite musi...      165       en\n",
       "3      1   Excellent Soundtrack: I truly like this sound...      145       en\n",
       "4      1   Remember, Pull Your Jaw Off The Floor After H...      109       en"
      ]
     },
     "execution_count": 97,
     "metadata": {},
     "output_type": "execute_result"
    }
   ],
   "source": [
    "reviews.head()"
   ]
  },
  {
   "cell_type": "code",
   "execution_count": 98,
   "id": "0a31cb30",
   "metadata": {},
   "outputs": [],
   "source": [
    "y = reviews.score\n",
    "X = count_vectorizer.fit_transform(reviews.review)"
   ]
  },
  {
   "cell_type": "code",
   "execution_count": 99,
   "id": "e6f643fc",
   "metadata": {},
   "outputs": [
    {
     "name": "stdout",
     "output_type": "stream",
     "text": [
      "Accuracy score of test data:  0.8613333333333333\n",
      "Confusion matrix of test data: \n",
      " [[0.43966667 0.06633333]\n",
      " [0.07233333 0.42166667]]\n"
     ]
    }
   ],
   "source": [
    "# Split the data into training and testing\n",
    "X_train, X_test, y_train, y_test = train_test_split(X, y, test_size=0.3, random_state=42)\n",
    "\n",
    "# Build a logistic regression\n",
    "log_reg = LogisticRegression(solver='liblinear').fit(X_train,y_train)\n",
    "\n",
    "# Predict the labels \n",
    "y_predict = log_reg.predict(X_test)\n",
    "\n",
    "# Print the performance metrics\n",
    "print('Accuracy score of test data: ', accuracy_score(y_test, y_predict))\n",
    "print('Confusion matrix of test data: \\n', confusion_matrix(y_test, y_predict)/len(y_test))"
   ]
  },
  {
   "cell_type": "markdown",
   "id": "f6c551ed",
   "metadata": {},
   "source": [
    "### Predict probabilities of movie reviews"
   ]
  },
  {
   "cell_type": "code",
   "execution_count": 100,
   "id": "0abfc1cc",
   "metadata": {},
   "outputs": [],
   "source": [
    "y = movies.label\n",
    "X = count_train"
   ]
  },
  {
   "cell_type": "code",
   "execution_count": 101,
   "id": "973d9d6c",
   "metadata": {},
   "outputs": [
    {
     "name": "stdout",
     "output_type": "stream",
     "text": [
      "First 10 predicted probabilities of class 0:  [9.96433362e-01 9.23629199e-01 8.55661767e-02 3.34336666e-04\n",
      " 9.73846228e-01 9.22567314e-01 8.84627435e-02 9.76710645e-01\n",
      " 4.62033689e-01 7.98972665e-03]\n",
      "\n",
      "First 10 predicted probabilities of class 1:  [0.00356664 0.0763708  0.91443382 0.99966566 0.02615377 0.07743269\n",
      " 0.91153726 0.02328935 0.53796631 0.99201027]\n"
     ]
    }
   ],
   "source": [
    "# Split into training and testing\n",
    "X_train, X_test, y_train, y_test = train_test_split(X, y, test_size=0.2, random_state=321)\n",
    "\n",
    "# Train a logistic regression\n",
    "log_reg = LogisticRegression(solver='liblinear').fit(X_train, y_train)\n",
    "\n",
    "# Predict the probability of the 0 class\n",
    "prob_0 = log_reg.predict_proba(X_test)[:, 0]\n",
    "# Predict the probability of the 1 class\n",
    "prob_1 = log_reg.predict_proba(X_test)[:, 1]\n",
    "\n",
    "print(\"First 10 predicted probabilities of class 0: \", prob_0[:10])\n",
    "print()\n",
    "print(\"First 10 predicted probabilities of class 1: \", prob_1[:10])"
   ]
  },
  {
   "cell_type": "markdown",
   "id": "cc044763",
   "metadata": {},
   "source": [
    "### Product reviews with regularization "
   ]
  },
  {
   "cell_type": "code",
   "execution_count": 102,
   "id": "34adf75e",
   "metadata": {},
   "outputs": [
    {
     "name": "stdout",
     "output_type": "stream",
     "text": [
      "Accuracy of model 1:  0.8307794803464357\n",
      "Accuracy of model 2:  0.8001332445036642\n"
     ]
    }
   ],
   "source": [
    "# Split data into training and testing\n",
    "X_train, X_test, y_train, y_test = train_test_split(X, y, test_size=0.2, random_state=123)\n",
    "\n",
    "# Train a logistic regression with regularization of 1000\n",
    "log_reg1 = LogisticRegression(solver='liblinear', C=1000).fit(X_train, y_train)\n",
    "# Train a logistic regression with regularization of 0.001\n",
    "log_reg2 = LogisticRegression(solver='liblinear', C=0.001).fit(X_train, y_train)\n",
    "\n",
    "# Print the accuracies\n",
    "print('Accuracy of model 1: ', log_reg1.score(X_test, y_test))\n",
    "print('Accuracy of model 2: ', log_reg2.score(X_test, y_test))"
   ]
  },
  {
   "cell_type": "markdown",
   "id": "43e5c0d0",
   "metadata": {},
   "source": [
    "### Regularizing models with Twitter data"
   ]
  },
  {
   "cell_type": "code",
   "execution_count": 103,
   "id": "0ce13c74",
   "metadata": {},
   "outputs": [],
   "source": [
    "y = tweets.airline_sentiment\n",
    "X = X_vect\n",
    "# Split data into training and testing\n",
    "X_train, X_test, y_train, y_test = train_test_split(X, y, test_size=0.2, random_state=123)\n"
   ]
  },
  {
   "cell_type": "code",
   "execution_count": 104,
   "id": "2fc5505c",
   "metadata": {},
   "outputs": [
    {
     "name": "stdout",
     "output_type": "stream",
     "text": [
      "Accuracy of model 1:  0.8203551912568307\n",
      "Accuracy of model 2:  0.6584699453551912\n",
      "Confusion matrix of model 1: \n",
      " [[0.59153005 0.02561475 0.01092896]\n",
      " [0.0864071  0.12397541 0.00751366]\n",
      " [0.03346995 0.01571038 0.10484973]]\n",
      "Confusion matrix of model 2: \n",
      " [[0.62636612 0.00102459 0.00068306]\n",
      " [0.20628415 0.00956284 0.00204918]\n",
      " [0.13046448 0.00102459 0.02254098]]\n"
     ]
    }
   ],
   "source": [
    "# Build a logistic regression with regularizarion parameter of 100\n",
    "log_reg1 = LogisticRegression(solver='liblinear', C=100).fit(X_train, y_train)\n",
    "# Build a logistic regression with regularizarion parameter of 0.1\n",
    "log_reg2 = LogisticRegression(solver='liblinear', C=0.1).fit(X_train, y_train)\n",
    "\n",
    "# Predict the labels for each model\n",
    "y_predict1 = log_reg1.predict(X_test)\n",
    "y_predict2 = log_reg2.predict(X_test)\n",
    "\n",
    "# Print performance metrics for each model\n",
    "print('Accuracy of model 1: ', accuracy_score(y_test, y_predict1))\n",
    "print('Accuracy of model 2: ', accuracy_score(y_test, y_predict2))\n",
    "print('Confusion matrix of model 1: \\n' , confusion_matrix(y_test, y_predict1)/len(y_test))\n",
    "print('Confusion matrix of model 2: \\n', confusion_matrix(y_test, y_predict2)/len(y_test))"
   ]
  },
  {
   "cell_type": "markdown",
   "id": "fe619258",
   "metadata": {},
   "source": [
    "### Bringing it all together"
   ]
  },
  {
   "cell_type": "markdown",
   "id": "42e6c77c",
   "metadata": {},
   "source": [
    "#### Step 1: Word cloud and feature creation"
   ]
  },
  {
   "cell_type": "code",
   "execution_count": 105,
   "id": "c11b6e67",
   "metadata": {},
   "outputs": [],
   "source": [
    "reviews = reviews[['score', 'review']]"
   ]
  },
  {
   "cell_type": "code",
   "execution_count": 106,
   "id": "6ce62bbc",
   "metadata": {},
   "outputs": [
    {
     "data": {
      "text/html": [
       "<div>\n",
       "<style scoped>\n",
       "    .dataframe tbody tr th:only-of-type {\n",
       "        vertical-align: middle;\n",
       "    }\n",
       "\n",
       "    .dataframe tbody tr th {\n",
       "        vertical-align: top;\n",
       "    }\n",
       "\n",
       "    .dataframe thead th {\n",
       "        text-align: right;\n",
       "    }\n",
       "</style>\n",
       "<table border=\"1\" class=\"dataframe\">\n",
       "  <thead>\n",
       "    <tr style=\"text-align: right;\">\n",
       "      <th></th>\n",
       "      <th>score</th>\n",
       "      <th>review</th>\n",
       "    </tr>\n",
       "  </thead>\n",
       "  <tbody>\n",
       "    <tr>\n",
       "      <th>0</th>\n",
       "      <td>1</td>\n",
       "      <td>Stuning even for the non-gamer: This sound tr...</td>\n",
       "    </tr>\n",
       "    <tr>\n",
       "      <th>1</th>\n",
       "      <td>1</td>\n",
       "      <td>The best soundtrack ever to anything.: I'm re...</td>\n",
       "    </tr>\n",
       "    <tr>\n",
       "      <th>2</th>\n",
       "      <td>1</td>\n",
       "      <td>Amazing!: This soundtrack is my favorite musi...</td>\n",
       "    </tr>\n",
       "    <tr>\n",
       "      <th>3</th>\n",
       "      <td>1</td>\n",
       "      <td>Excellent Soundtrack: I truly like this sound...</td>\n",
       "    </tr>\n",
       "    <tr>\n",
       "      <th>4</th>\n",
       "      <td>1</td>\n",
       "      <td>Remember, Pull Your Jaw Off The Floor After H...</td>\n",
       "    </tr>\n",
       "  </tbody>\n",
       "</table>\n",
       "</div>"
      ],
      "text/plain": [
       "   score                                             review\n",
       "0      1   Stuning even for the non-gamer: This sound tr...\n",
       "1      1   The best soundtrack ever to anything.: I'm re...\n",
       "2      1   Amazing!: This soundtrack is my favorite musi...\n",
       "3      1   Excellent Soundtrack: I truly like this sound...\n",
       "4      1   Remember, Pull Your Jaw Off The Floor After H..."
      ]
     },
     "execution_count": 106,
     "metadata": {},
     "output_type": "execute_result"
    }
   ],
   "source": [
    "reviews.head()"
   ]
  },
  {
   "cell_type": "code",
   "execution_count": 107,
   "id": "57104aa0",
   "metadata": {},
   "outputs": [],
   "source": [
    "positive_reviews = reviews[reviews['score'] == 1]['review']"
   ]
  },
  {
   "cell_type": "code",
   "execution_count": 108,
   "id": "caa38841",
   "metadata": {},
   "outputs": [
    {
     "data": {
      "text/plain": [
       "0        Stuning even for the non-gamer: This sound tr...\n",
       "1        The best soundtrack ever to anything.: I'm re...\n",
       "2        Amazing!: This soundtrack is my favorite musi...\n",
       "3        Excellent Soundtrack: I truly like this sound...\n",
       "4        Remember, Pull Your Jaw Off The Floor After H...\n",
       "                              ...                        \n",
       "9990     Psychological thriller!: This movie really sc...\n",
       "9991     A little more money than what I expected to s...\n",
       "9995     A revelation of life in small town America in...\n",
       "9996     Great biography of a very interesting journal...\n",
       "9999     Beautiful Pen and Fast Delivery.: The pen was...\n",
       "Name: review, Length: 4903, dtype: object"
      ]
     },
     "execution_count": 108,
     "metadata": {},
     "output_type": "execute_result"
    }
   ],
   "source": [
    "positive_reviews"
   ]
  },
  {
   "cell_type": "code",
   "execution_count": 109,
   "id": "541cba7b",
   "metadata": {},
   "outputs": [
    {
     "data": {
      "image/png": "[encoded data removed]",
      "text/plain": [
       "<Figure size 432x288 with 1 Axes>"
      ]
     },
     "metadata": {
      "needs_background": "light"
     },
     "output_type": "display_data"
    }
   ],
   "source": [
    "# Create and generate a word cloud image\n",
    "cloud_positives = WordCloud(background_color='white').generate(','.join(positive_reviews))\n",
    " \n",
    "# Display the generated wordcloud image\n",
    "plt.imshow(cloud_positives, interpolation='bilinear') \n",
    "plt.axis(\"off\")\n",
    "\n",
    "# Don't forget to show the final image\n",
    "plt.show()"
   ]
  },
  {
   "cell_type": "code",
   "execution_count": 110,
   "id": "be80ccc3",
   "metadata": {},
   "outputs": [],
   "source": [
    "negative_reviews = reviews[reviews['score'] == 0]['review']"
   ]
  },
  {
   "cell_type": "code",
   "execution_count": 111,
   "id": "089397ad",
   "metadata": {},
   "outputs": [
    {
     "data": {
      "text/plain": [
       "6        Buyer beware: This is a self-published book, ...\n",
       "10       The Worst!: A complete waste of time. Typogra...\n",
       "13       Oh please: I guess you have to be a romance n...\n",
       "14       Awful beyond belief!: I feel I have to write ...\n",
       "15       Don't try to fool us with fake reviews.: It's...\n",
       "                              ...                        \n",
       "9992     \"The Silence of the Dummies\": This is overall...\n",
       "9993     Mauled again - killing bears to enrich himsel...\n",
       "9994     Sorry Jim: As a former realtor, Mr. Cole owes...\n",
       "9997     Interesting Subject; Poor Presentation: You'd...\n",
       "9998     Don't buy: The box looked used and it is obvi...\n",
       "Name: review, Length: 5097, dtype: object"
      ]
     },
     "execution_count": 111,
     "metadata": {},
     "output_type": "execute_result"
    }
   ],
   "source": [
    "negative_reviews"
   ]
  },
  {
   "cell_type": "code",
   "execution_count": 112,
   "id": "95453db0",
   "metadata": {},
   "outputs": [
    {
     "data": {
      "image/png": "[encoded data removed]",
      "text/plain": [
       "<Figure size 432x288 with 1 Axes>"
      ]
     },
     "metadata": {
      "needs_background": "light"
     },
     "output_type": "display_data"
    }
   ],
   "source": [
    "# Create and generate a word cloud image\n",
    "cloud_negative = WordCloud(background_color='black').generate(','.join(negative_reviews))\n",
    " \n",
    "# Display the generated wordcloud image\n",
    "plt.imshow(cloud_negative, interpolation='bilinear') \n",
    "plt.axis(\"off\")\n",
    "\n",
    "# Don't forget to show the final image\n",
    "plt.show()"
   ]
  },
  {
   "cell_type": "code",
   "execution_count": 113,
   "id": "923c0676",
   "metadata": {},
   "outputs": [
    {
     "name": "stderr",
     "output_type": "stream",
     "text": [
      "<ipython-input-113-3b00b65553c5>:12: SettingWithCopyWarning: \n",
      "A value is trying to be set on a copy of a slice from a DataFrame.\n",
      "Try using .loc[row_indexer,col_indexer] = value instead\n",
      "\n",
      "See the caveats in the documentation: https://pandas.pydata.org/pandas-docs/stable/user_guide/indexing.html#returning-a-view-versus-a-copy\n",
      "  reviews['n_words'] = len_tokens\n"
     ]
    }
   ],
   "source": [
    "# Tokenize each item in the review column\n",
    "word_tokens = [word_tokenize(review) for review in reviews.review]\n",
    "\n",
    "# Create an empty list to store the length of the reviews\n",
    "len_tokens = []\n",
    "\n",
    "# Iterate over the word_tokens list and determine the length of each item\n",
    "for i in range(len(word_tokens)):\n",
    "     len_tokens.append(len(word_tokens[i]))\n",
    "\n",
    "# Create a new feature for the lengh of each review\n",
    "reviews['n_words'] = len_tokens "
   ]
  },
  {
   "cell_type": "code",
   "execution_count": 114,
   "id": "8abfc0e3",
   "metadata": {},
   "outputs": [
    {
     "data": {
      "text/html": [
       "<div>\n",
       "<style scoped>\n",
       "    .dataframe tbody tr th:only-of-type {\n",
       "        vertical-align: middle;\n",
       "    }\n",
       "\n",
       "    .dataframe tbody tr th {\n",
       "        vertical-align: top;\n",
       "    }\n",
       "\n",
       "    .dataframe thead th {\n",
       "        text-align: right;\n",
       "    }\n",
       "</style>\n",
       "<table border=\"1\" class=\"dataframe\">\n",
       "  <thead>\n",
       "    <tr style=\"text-align: right;\">\n",
       "      <th></th>\n",
       "      <th>score</th>\n",
       "      <th>review</th>\n",
       "      <th>n_words</th>\n",
       "    </tr>\n",
       "  </thead>\n",
       "  <tbody>\n",
       "    <tr>\n",
       "      <th>0</th>\n",
       "      <td>1</td>\n",
       "      <td>Stuning even for the non-gamer: This sound tr...</td>\n",
       "      <td>87</td>\n",
       "    </tr>\n",
       "    <tr>\n",
       "      <th>1</th>\n",
       "      <td>1</td>\n",
       "      <td>The best soundtrack ever to anything.: I'm re...</td>\n",
       "      <td>109</td>\n",
       "    </tr>\n",
       "    <tr>\n",
       "      <th>2</th>\n",
       "      <td>1</td>\n",
       "      <td>Amazing!: This soundtrack is my favorite musi...</td>\n",
       "      <td>165</td>\n",
       "    </tr>\n",
       "    <tr>\n",
       "      <th>3</th>\n",
       "      <td>1</td>\n",
       "      <td>Excellent Soundtrack: I truly like this sound...</td>\n",
       "      <td>145</td>\n",
       "    </tr>\n",
       "    <tr>\n",
       "      <th>4</th>\n",
       "      <td>1</td>\n",
       "      <td>Remember, Pull Your Jaw Off The Floor After H...</td>\n",
       "      <td>109</td>\n",
       "    </tr>\n",
       "    <tr>\n",
       "      <th>...</th>\n",
       "      <td>...</td>\n",
       "      <td>...</td>\n",
       "      <td>...</td>\n",
       "    </tr>\n",
       "    <tr>\n",
       "      <th>9995</th>\n",
       "      <td>1</td>\n",
       "      <td>A revelation of life in small town America in...</td>\n",
       "      <td>175</td>\n",
       "    </tr>\n",
       "    <tr>\n",
       "      <th>9996</th>\n",
       "      <td>1</td>\n",
       "      <td>Great biography of a very interesting journal...</td>\n",
       "      <td>153</td>\n",
       "    </tr>\n",
       "    <tr>\n",
       "      <th>9997</th>\n",
       "      <td>0</td>\n",
       "      <td>Interesting Subject; Poor Presentation: You'd...</td>\n",
       "      <td>122</td>\n",
       "    </tr>\n",
       "    <tr>\n",
       "      <th>9998</th>\n",
       "      <td>0</td>\n",
       "      <td>Don't buy: The box looked used and it is obvi...</td>\n",
       "      <td>33</td>\n",
       "    </tr>\n",
       "    <tr>\n",
       "      <th>9999</th>\n",
       "      <td>1</td>\n",
       "      <td>Beautiful Pen and Fast Delivery.: The pen was...</td>\n",
       "      <td>115</td>\n",
       "    </tr>\n",
       "  </tbody>\n",
       "</table>\n",
       "<p>10000 rows × 3 columns</p>\n",
       "</div>"
      ],
      "text/plain": [
       "      score                                             review  n_words\n",
       "0         1   Stuning even for the non-gamer: This sound tr...       87\n",
       "1         1   The best soundtrack ever to anything.: I'm re...      109\n",
       "2         1   Amazing!: This soundtrack is my favorite musi...      165\n",
       "3         1   Excellent Soundtrack: I truly like this sound...      145\n",
       "4         1   Remember, Pull Your Jaw Off The Floor After H...      109\n",
       "...     ...                                                ...      ...\n",
       "9995      1   A revelation of life in small town America in...      175\n",
       "9996      1   Great biography of a very interesting journal...      153\n",
       "9997      0   Interesting Subject; Poor Presentation: You'd...      122\n",
       "9998      0   Don't buy: The box looked used and it is obvi...       33\n",
       "9999      1   Beautiful Pen and Fast Delivery.: The pen was...      115\n",
       "\n",
       "[10000 rows x 3 columns]"
      ]
     },
     "execution_count": 114,
     "metadata": {},
     "output_type": "execute_result"
    }
   ],
   "source": [
    "reviews"
   ]
  },
  {
   "cell_type": "markdown",
   "id": "3d7e20f7",
   "metadata": {},
   "source": [
    "#### Step 2: Building a vectorizer"
   ]
  },
  {
   "cell_type": "code",
   "execution_count": 115,
   "id": "cb396f83",
   "metadata": {},
   "outputs": [
    {
     "name": "stdout",
     "output_type": "stream",
     "text": [
      "Top 5 rows of the DataFrame: \n",
      "    able  action  actually  ago  album   amazing  amazon  author      away  \\\n",
      "0   0.0     0.0       0.0  0.0    0.0  0.000000     0.0     0.0  0.274041   \n",
      "1   0.0     0.0       0.0  0.0    0.0  0.000000     0.0     0.0  0.000000   \n",
      "2   0.0     0.0       0.0  0.0    0.0  0.382773     0.0     0.0  0.000000   \n",
      "3   0.0     0.0       0.0  0.0    0.0  0.000000     0.0     0.0  0.000000   \n",
      "4   0.0     0.0       0.0  0.0    0.0  0.000000     0.0     0.0  0.000000   \n",
      "\n",
      "   bad  ...      work  works  world  worst     worth  writing  written  wrong  \\\n",
      "0  0.0  ...  0.000000    0.0    0.0    0.0  0.000000      0.0      0.0    0.0   \n",
      "1  0.0  ...  0.000000    0.0    0.0    0.0  0.219408      0.0      0.0    0.0   \n",
      "2  0.0  ...  0.142935    0.0    0.0    0.0  0.160089      0.0      0.0    0.0   \n",
      "3  0.0  ...  0.000000    0.0    0.0    0.0  0.000000      0.0      0.0    0.0   \n",
      "4  0.0  ...  0.000000    0.0    0.0    0.0  0.000000      0.0      0.0    0.0   \n",
      "\n",
      "   year     years  \n",
      "0   0.0  0.000000  \n",
      "1   0.0  0.208885  \n",
      "2   0.0  0.152410  \n",
      "3   0.0  0.000000  \n",
      "4   0.0  0.000000  \n",
      "\n",
      "[5 rows x 200 columns]\n"
     ]
    }
   ],
   "source": [
    "# Import the TfidfVectorizer and default list of English stop words\n",
    "from sklearn.feature_extraction.text import TfidfVectorizer, ENGLISH_STOP_WORDS\n",
    "\n",
    "# Build the vectorizer\n",
    "vect = TfidfVectorizer(stop_words=ENGLISH_STOP_WORDS, ngram_range=(1, 2), max_features=200, token_pattern=r'\\b[^\\d\\W][^\\d\\W]+\\b').fit(reviews.review)\n",
    "# Create sparse matrix from the vectorizer\n",
    "X = vect.transform(reviews.review)\n",
    "\n",
    "# Create a DataFrame\n",
    "reviews_transformed = pd.DataFrame(X.toarray(), columns=vect.get_feature_names_out())\n",
    "print('Top 5 rows of the DataFrame: \\n', reviews_transformed.head())"
   ]
  },
  {
   "cell_type": "markdown",
   "id": "86aaf8b8",
   "metadata": {},
   "source": [
    "### Step 3: Building a classifier"
   ]
  },
  {
   "cell_type": "code",
   "execution_count": 116,
   "id": "a13e3dce",
   "metadata": {},
   "outputs": [
    {
     "data": {
      "text/plain": [
       "((10000, 200), (14640,))"
      ]
     },
     "execution_count": 116,
     "metadata": {},
     "output_type": "execute_result"
    }
   ],
   "source": [
    "X.shape, y.shape"
   ]
  },
  {
   "cell_type": "code",
   "execution_count": 120,
   "id": "8f4dc8f6",
   "metadata": {},
   "outputs": [
    {
     "name": "stdout",
     "output_type": "stream",
     "text": [
      "Accuracy on the test set:  0.789\n",
      "[[0.412 0.114]\n",
      " [0.097 0.377]]\n"
     ]
    }
   ],
   "source": [
    "# Define X and y\n",
    "y = reviews.score\n",
    "\n",
    "# Train/test split\n",
    "X_train, X_test, y_train, y_test = train_test_split(X, y, test_size=0.2, random_state=456)\n",
    "\n",
    "# Train a logistic regression\n",
    "log_reg = LogisticRegression().fit(X_train, y_train)\n",
    "# Predict the labels\n",
    "y_predicted = log_reg.predict(X_test)\n",
    "\n",
    "# Print accuracy score and confusion matrix on test set\n",
    "print('Accuracy on the test set: ', accuracy_score(y_test, y_predicted))\n",
    "print(confusion_matrix(y_test, y_predicted)/len(y_test))"
   ]
  }
 ],
 "metadata": {
  "kernelspec": {
   "display_name": "Python 3",
   "language": "python",
   "name": "python3"
  },
  "language_info": {
   "codemirror_mode": {
    "name": "ipython",
    "version": 3
   },
   "file_extension": ".py",
   "mimetype": "text/x-python",
   "name": "python",
   "nbconvert_exporter": "python",
   "pygments_lexer": "ipython3",
   "version": "3.8.8"
  }
 },
 "nbformat": 4,
 "nbformat_minor": 5
}
