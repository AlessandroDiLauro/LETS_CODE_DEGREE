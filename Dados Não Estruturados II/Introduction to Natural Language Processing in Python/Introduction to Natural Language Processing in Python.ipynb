{
 "cells": [
  {
   "cell_type": "markdown",
   "id": "454f677d",
   "metadata": {},
   "source": [
    "### Regular expressions: re.split() and re.findall()"
   ]
  },
  {
   "cell_type": "code",
   "execution_count": 1,
   "id": "32170c69",
   "metadata": {},
   "outputs": [],
   "source": [
    "import re"
   ]
  },
  {
   "cell_type": "code",
   "execution_count": 2,
   "id": "ee434bc2",
   "metadata": {},
   "outputs": [
    {
     "data": {
      "text/plain": [
       "['Let', 's', 'write', 'RegEx']"
      ]
     },
     "execution_count": 2,
     "metadata": {},
     "output_type": "execute_result"
    }
   ],
   "source": [
    "my_string = \"Let's write RegEx!\"\n",
    "PATTERN = r\"\\w+\"\n",
    "re.findall(PATTERN, my_string)\n"
   ]
  },
  {
   "cell_type": "code",
   "execution_count": 3,
   "id": "b94ccbd1",
   "metadata": {},
   "outputs": [],
   "source": [
    "my_string = \"Let's write RegEx!  Won't that be fun? I sure think so.  Can you find 4 sentences?  Or perhaps, all 19 words?\""
   ]
  },
  {
   "cell_type": "code",
   "execution_count": 4,
   "id": "83a1268e",
   "metadata": {},
   "outputs": [
    {
     "name": "stdout",
     "output_type": "stream",
     "text": [
      "[\"Let's write RegEx\", \"  Won't that be fun\", ' I sure think so', '  Can you find 4 sentences', '  Or perhaps, all 19 words', '']\n",
      "['Let', 'RegEx', 'Won', 'Can', 'Or']\n",
      "[\"Let's\", 'write', 'RegEx!', \"Won't\", 'that', 'be', 'fun?', 'I', 'sure', 'think', 'so.', 'Can', 'you', 'find', '4', 'sentences?', 'Or', 'perhaps,', 'all', '19', 'words?']\n",
      "['4', '19']\n"
     ]
    }
   ],
   "source": [
    "# Write a pattern to match sentence endings: sentence_endings\n",
    "sentence_endings = r\"[.?!]\"\n",
    "\n",
    "# Split my_string on sentence endings and print the result\n",
    "print(re.split(sentence_endings, my_string))\n",
    "\n",
    "# Find all capitalized words in my_string and print the result\n",
    "capitalized_words = r\"[A-Z]\\w+\"\n",
    "print(re.findall(capitalized_words, my_string))\n",
    "\n",
    "# Split my_string on spaces and print the result\n",
    "spaces = r\"\\s+\"\n",
    "print(re.split(spaces, my_string))\n",
    "\n",
    "# Find all digits in my_string and print the result\n",
    "digits = r\"\\d+\"\n",
    "print(re.findall(digits, my_string))\n"
   ]
  },
  {
   "cell_type": "markdown",
   "id": "5b27f7df",
   "metadata": {},
   "source": [
    "### Word tokenization with NLTK"
   ]
  },
  {
   "cell_type": "code",
   "execution_count": 5,
   "id": "8093de5c",
   "metadata": {},
   "outputs": [],
   "source": [
    "scene_one=\"SCENE 1: [wind] [clop clop clop] \\nKING ARTHUR: Whoa there!  [clop clop clop] \\nSOLDIER #1: Halt!  Who goes there? \\nARTHUR: It is I, Arthur, son of Uther Pendragon, from the castle of Camelot.  King of the Britons, defeator of the Saxons, sovereign of all England! \\nSOLDIER #1: Pull the other one! \\nARTHUR: I am, ...  and this is my trusty servant Patsy.  We have ridden the length and breadth of the land in search of knights who will join me in my court at Camelot.  I must speak with your lord and master.\\\\nSOLDIER #1: What?  Ridden on a horse? \\nARTHUR: Yes! \\nSOLDIER #1: You're using coconuts!\\\\nARTHUR: What? \\nSOLDIER #1: You've got two empty halves of coconut and you're bangin' 'em together. \\nARTHUR: So?  We have ridden since the snows of winter covered this land, through the kingdom of Mercea, through-- \\nSOLDIER #1: Where'd you get the coconuts? \\nARTHUR: We found them. \\nSOLDIER #1: Found them?  In Mercea?  The coconut's tropical!\\\\nARTHUR: What do you mean? \\nSOLDIER #1: Well, this is a temperate zone. \\nARTHUR: The swallow may fly south with the sun or the house martin or the plover may seek warmer climes in winter, yet these are not strangers to our land?\\\\nSOLDIER #1: Are you suggesting coconuts migrate? \\nARTHUR: Not at all.  They could be carried. \\nSOLDIER #1: What?  A swallow carrying a coconut? \\nARTHUR: It could grip it by the husk! \\nSOLDIER #1: It's not a question of where he grips it!  It's a simple question of weight ratios!  A five ounce bird could not carry a one pound coconut. \\nARTHUR: Well, it doesn't matter.  Will you go and tell your master that Arthur from the Court of Camelot is here. \\nSOLDIER #1: Listen.  In order to maintain air-speed velocity, a swallow needs to beat its wings forty-three times every second, right? \\nARTHUR: Please! \\nSOLDIER #1: Am I right? \\nARTHUR: I'm not interested! \\nSOLDIER #2: It could be carried by an African swallow! \\nSOLDIER #1: Oh, yeah, an African swallow maybe, but not a European swallow.  That's my point. \\nSOLDIER #2: Oh, yeah, I agree with that.  \\nARTHUR: Will you ask your master if he wants to join my court at Camelot?! \\nSOLDIER #1: But then of course a-- African swallows are non-migratory.\\\\nSOLDIER #2: Oh, yeah... \\nSOLDIER #1: So they couldn't bring a coconut back anyway...  [clop clop clop] \\nSOLDIER #2: Wait a minute!  Supposing two swallows carried it together? \\nSOLDIER #1: No, they'd have to have it on a line. \\nSOLDIER #2: Well, simple!  They'd just use a strand of creeper! nSOLDIER #1: What, held under the dorsal guiding feathers? \\nSOLDIER #2: Well, why not? \\n\\\"\\n\""
   ]
  },
  {
   "cell_type": "code",
   "execution_count": 6,
   "id": "565bc31c",
   "metadata": {},
   "outputs": [
    {
     "data": {
      "text/plain": [
       "'SCENE 1: [wind] [clop clop clop] \\nKING ARTHUR: Whoa there!  [clop clop clop] \\nSOLDIER #1: Halt!  Who goes there? \\nARTHUR: It is I, Arthur, son of Uther Pendragon, from the castle of Camelot.  King of the Britons, defeator of the Saxons, sovereign of all England! \\nSOLDIER #1: Pull the other one! \\nARTHUR: I am, ...  and this is my trusty servant Patsy.  We have ridden the length and breadth of the land in search of knights who will join me in my court at Camelot.  I must speak with your lord and master.\\\\nSOLDIER #1: What?  Ridden on a horse? \\nARTHUR: Yes! \\nSOLDIER #1: You\\'re using coconuts!\\\\nARTHUR: What? \\nSOLDIER #1: You\\'ve got two empty halves of coconut and you\\'re bangin\\' \\'em together. \\nARTHUR: So?  We have ridden since the snows of winter covered this land, through the kingdom of Mercea, through-- \\nSOLDIER #1: Where\\'d you get the coconuts? \\nARTHUR: We found them. \\nSOLDIER #1: Found them?  In Mercea?  The coconut\\'s tropical!\\\\nARTHUR: What do you mean? \\nSOLDIER #1: Well, this is a temperate zone. \\nARTHUR: The swallow may fly south with the sun or the house martin or the plover may seek warmer climes in winter, yet these are not strangers to our land?\\\\nSOLDIER #1: Are you suggesting coconuts migrate? \\nARTHUR: Not at all.  They could be carried. \\nSOLDIER #1: What?  A swallow carrying a coconut? \\nARTHUR: It could grip it by the husk! \\nSOLDIER #1: It\\'s not a question of where he grips it!  It\\'s a simple question of weight ratios!  A five ounce bird could not carry a one pound coconut. \\nARTHUR: Well, it doesn\\'t matter.  Will you go and tell your master that Arthur from the Court of Camelot is here. \\nSOLDIER #1: Listen.  In order to maintain air-speed velocity, a swallow needs to beat its wings forty-three times every second, right? \\nARTHUR: Please! \\nSOLDIER #1: Am I right? \\nARTHUR: I\\'m not interested! \\nSOLDIER #2: It could be carried by an African swallow! \\nSOLDIER #1: Oh, yeah, an African swallow maybe, but not a European swallow.  That\\'s my point. \\nSOLDIER #2: Oh, yeah, I agree with that.  \\nARTHUR: Will you ask your master if he wants to join my court at Camelot?! \\nSOLDIER #1: But then of course a-- African swallows are non-migratory.\\\\nSOLDIER #2: Oh, yeah... \\nSOLDIER #1: So they couldn\\'t bring a coconut back anyway...  [clop clop clop] \\nSOLDIER #2: Wait a minute!  Supposing two swallows carried it together? \\nSOLDIER #1: No, they\\'d have to have it on a line. \\nSOLDIER #2: Well, simple!  They\\'d just use a strand of creeper! nSOLDIER #1: What, held under the dorsal guiding feathers? \\nSOLDIER #2: Well, why not? \\n\"\\n'"
      ]
     },
     "execution_count": 6,
     "metadata": {},
     "output_type": "execute_result"
    }
   ],
   "source": [
    "scene_one"
   ]
  },
  {
   "cell_type": "code",
   "execution_count": 7,
   "id": "5c9f64be",
   "metadata": {},
   "outputs": [],
   "source": [
    "# Import necessary modules\n",
    "from nltk.tokenize import word_tokenize\n",
    "from nltk.tokenize import sent_tokenize\n"
   ]
  },
  {
   "cell_type": "code",
   "execution_count": 8,
   "id": "8e064e2a",
   "metadata": {},
   "outputs": [
    {
     "name": "stdout",
     "output_type": "stream",
     "text": [
      "{'swallow', 'Are', 'KING', 'using', 'mean', 'may', '1', 'with', 'house', '...', 'two', 'breadth', 'martin', 'Am', 'but', 'they', 'Well', '\\\\nSOLDIER', 'it', 'are', 'tell', 'order', 'dorsal', 'Camelot', 'ounce', 'Will', 'castle', 'Britons', 'bird', 'weight', 'lord', 'creeper', 'coconut', 'grip', 'wings', 'velocity', 'at', 'Pendragon', 'together', 'son', 'Please', 'simple', '.', 'line', 'sovereign', 'them', 'snows', 'Whoa', 'kingdom', 'Listen', 'master.\\\\nSOLDIER', 'he', 'knights', 'strangers', 'That', 'question', 'will', 'beat', 'in', 'here', 'your', 'held', 'every', 'non-migratory.\\\\nSOLDIER', 'fly', 'yet', 'does', 'goes', \"n't\", 'But', 'covered', 'European', 'this', 'wind', 'clop', 'winter', 'maintain', 'What', 'minute', 'ridden', 'empty', 'A', 'court', 'carried', 'back', 'No', 'one', 'Where', 'wants', 'Wait', 'climes', 'zone', 'sun', 'horse', \"'re\", 'times', 'ask', 'SCENE', 'Saxons', 'who', 'ARTHUR', 'carrying', 'since', 'The', 'Ridden', 'where', 'of', 'from', 'found', 'through', 'air-speed', \"'s\", 'just', 'is', 'Not', 'yeah', 'by', 'Oh', 'needs', 'under', '#', 'Court', 'there', 'Mercea', \"'d\", 'feathers', 'join', 'my', 'coconuts', 'point', 'Who', 'its', 'They', 'Yes', 'other', 'on', '2', 'trusty', 'course', 'warmer', 'or', 'not', '\\\\nARTHUR', 'tropical', 'that', 'Supposing', 'You', 'King', 'you', 'guiding', 'grips', '--', 'interested', 'Pull', 'speak', \"'ve\", 'the', 'use', 'all', 'bring', 'halves', 'anyway', 'could', 'forty-three', 'Uther', 'length', 'do', 'maybe', 'suggesting', 'search', 'go', 'a', 'carry', 'In', 'So', 'Found', 'defeator', 'pound', 'get', 'second', 'must', 'swallows', 'an', '!', 'seek', 'agree', 'nSOLDIER', ',', 'matter', 'if', 'master', \"'\", 'England', 'Patsy', 'temperate', 'to', '?', 'migrate', 'our', 'me', 'It', 'plover', 'Arthur', ':', 'right', 'SOLDIER', 'strand', 'am', 'I', 'servant', 'husk', 'bangin', 'ratios', \"'m\", 'why', 'five', 'got', 'south', \"''\", ']', 'We', '[', 'be', 'and', 'then', 'Halt', 'these', 'African', 'land', \"'em\", 'have'}\n"
     ]
    }
   ],
   "source": [
    "# Split scene_one into sentences: sentences\n",
    "sentences = sent_tokenize(scene_one)\n",
    "\n",
    "# Use word_tokenize to tokenize the fourth sentence: tokenized_sent\n",
    "tokenized_sent = word_tokenize(sentences[3])\n",
    "\n",
    "# Make a set of unique tokens in the entire scene: unique_tokens\n",
    "unique_tokens = set(word_tokenize(scene_one))\n",
    "\n",
    "# Print the unique tokens result\n",
    "print(unique_tokens)"
   ]
  },
  {
   "cell_type": "code",
   "execution_count": 9,
   "id": "4a1be181",
   "metadata": {},
   "outputs": [],
   "source": [
    "import urllib.request\n",
    "from bs4 import BeautifulSoup"
   ]
  },
  {
   "cell_type": "code",
   "execution_count": 10,
   "id": "722083c7",
   "metadata": {},
   "outputs": [],
   "source": [
    "response = urllib.request.urlopen('https://assets.datacamp.com/production/repositories/932/datasets/4921d0bf6a73fd645f49f528faf74a871bb3a0e9/grail.txt')\n",
    "html = response.read()"
   ]
  },
  {
   "cell_type": "code",
   "execution_count": 11,
   "id": "7e557877",
   "metadata": {},
   "outputs": [],
   "source": [
    "soup = BeautifulSoup(html, 'html.parser')\n",
    "scene_one = soup.get_text()"
   ]
  },
  {
   "cell_type": "code",
   "execution_count": 12,
   "id": "915edba4",
   "metadata": {},
   "outputs": [
    {
     "data": {
      "text/plain": [
       "\"SCENE 1: [wind] [clop clop clop] \\nKING ARTHUR: Whoa there!  [clop clop clop] \\nSOLDIER #1: Halt!  Who goes there?\\nARTHUR: It is I, Arthur, son of Uther Pendragon, from the castle of Camelot.  King of the Britons, defeator of the Saxons, sovereign of all England!\\nSOLDIER #1: Pull the other one!\\nARTHUR: I am, ...  and this is my trusty servant Patsy.  We have ridden the length and breadth of the land in search of knights who will join me in my court at Camelot.  I must speak with your lord and master.\\nSOLDIER #1: What?  Ridden on a horse?\\nARTHUR: Yes!\\nSOLDIER #1: You're using coconuts!\\nARTHUR: What?\\nSOLDIER #1: You've got two empty halves of coconut and you're bangin' 'em together.\\nARTHUR: So?  We have ridden since the snows of winter covered this land, through the kingdom of Mercea, through--\\nSOLDIER #1: Where'd you get the coconuts?\\nARTHUR: We found them.\\nSOLDIER #1: Found them?  In Mercea?  The coconut's tropical!\\nARTHUR: What do you mean?\\nSOLDIER #1: Well, this is a temperate zone.\\nARTHUR: The swallow may fly south with the sun or the house martin or the plover may seek warmer climes in winter, yet these are not strangers to our land?\\nSOLDIER #1: Are you suggesting coconuts migrate?\\nARTHUR: Not at all.  They could be carried.\\nSOLDIER #1: What?  A swallow carrying a coconut?\\nARTHUR: It could grip it by the husk!\\nSOLDIER #1: It's not a question of where he grips it!  It's a simple question of weight ratios!  A five ounce bird could not carry a one pound coconut.\\nARTHUR: Well, it doesn't matter.  Will you go and tell your master that Arthur from the Court of Camelot is here.\\nSOLDIER #1: Listen.  In order to maintain air-speed velocity, a swallow needs to beat its wings forty-three times every second, right?\\nARTHUR: Please!\\nSOLDIER #1: Am I right?\\nARTHUR: I'm not interested!\\nSOLDIER #2: It could be carried by an African swallow!\\nSOLDIER #1: Oh, yeah, an African swallow maybe, but not a European swallow.  That's my point.\\nSOLDIER #2: Oh, yeah, I agree with that.\\nARTHUR: Will you ask your master if he wants to join my court at Camelot?!\\nSOLDIER #1: But then of course a-- African swallows are non-migratory.\\nSOLDIER #2: Oh, yeah...\\nSOLDIER #1: So they couldn't bring a coconut back anyway...  [clop clop clop] \\nSOLDIER #2: Wait a minute!  Supposing two swallows carried it together?\\nSOLDIER #1: No, they'd have to have it on a line.\\nSOLDIER #2: Well, simple!  They'd just use a strand of creeper!\\nSOLDIER #1: What, held under the dorsal guiding feathers?\\nSOLDIER #2: Well, why not?\\nSCENE 2: [thud] [clang] \\nCART-MASTER: Bring out your dead!  [clang] Bring out your dead!  [clang] Bring out your dead!  [clang] Bring out your dead!  [clang] Bring out your dead!  [cough cough...] [clang] [... cough cough] Bring out your dead!  [clang] Bring out your dead!  [clang] Bring out your dead!  Ninepence.  [clang] Bring out your dead!  [clang] Bring out your dead!  [clang] Bring out...  [rewr!] ... your dead!  [rewr!] [clang] Bring out your dead!\\nCUSTOMER: Here's one.\\nCART-MASTER: Ninepence.\\nDEAD PERSON: I'm not dead!\\nCART-MASTER: What?\\nCUSTOMER: Nothing.  Here's your ninepence.\\nDEAD PERSON: I'm not dead!\\nCART-MASTER: 'Ere.  He says he's not dead!\\nCUSTOMER: Yes he is.\\nDEAD PERSON: I'm not!\\nCART-MASTER: He isn't?\\nCUSTOMER: Well, he will be soon.  He's very ill.\\nDEAD PERSON: I'm getting better!  \\nCUSTOMER: No you're not.  You'll be stone dead in a moment.\\nCART-MASTER: Oh, I can't take him like that.  It's against regulations.\\nDEAD PERSON: I don't want to go on the cart!\\nCUSTOMER: Oh, don't be such a baby.\\nCART-MASTER: I can't take him.\\nDEAD PERSON: I feel fine!\\nCUSTOMER: Well, do us a favor.\\nCART-MASTER: I can't.\\nCUSTOMER: Well, can you hang around a couple of minutes?  He won't be long.\\nCART-MASTER: No, I've got to go to the Robinson's.  They've lost nine today.\\nCUSTOMER: Well, when's your next round?\\nCART-MASTER: Thursday.\\nDEAD PERSON: I think I'll go for a walk.\\nCUSTOMER: You're not fooling anyone you know.  Look, isn't there something you can do?\\nDEAD PERSON: [singing] I feel happy...  I feel happy.  [whop] \\nCUSTOMER: Ah, thanks very much.\\nCART-MASTER: Not at all.  See you on Thursday.\\nCUSTOMER: Right.  All right.  [howl] [clop clop clop] Who's that then?\\nCART-MASTER: I dunno.  Must be a king.\\nCUSTOMER: Why?\\nCART-MASTER: He hasn't got shit all over him.\\nSCENE 3: [thud] [King Arthur music] [thud thud thud] [King Arthur music stops] \\nARTHUR: Old woman!\\nDENNIS: Man!\\nARTHUR: Man.  Sorry.  What knight live in that castle over there?\\nDENNIS: I'm thirty-seven.\\nARTHUR: I-- what?\\nDENNIS: I'm thirty-seven.  I'm not old.\\nARTHUR: Well, I can't just call you 'Man'.\\nDENNIS: Well, you could say 'Dennis'.\\nARTHUR: Well, I didn't know you were called 'Dennis'.\\nDENNIS: Well, you didn't bother to find out, did you?\\nARTHUR: I did say 'sorry' about the 'old woman', but from the behind you looked--\\nDENNIS: What I object to is that you automatically treat me like an inferior!\\nARTHUR: Well, I am king!\\nDENNIS: Oh king, eh, very nice.  And how d'you get that, eh?  By exploiting the workers!  By 'anging on to outdated imperialist dogma which perpetuates the economic and social differences in our society.  If there's ever going to be any progress with the--\\nWOMAN: Dennis, there's some lovely filth down here.  Oh!  How d'you do?\\nARTHUR: How do you do, good lady.  I am Arthur, King of the Britons.  Who's castle is that?\\nWOMAN: King of the who?\\nARTHUR: The Britons.\\nWOMAN: Who are the Britons?\\nARTHUR: Well, we all are.  We are all Britons, and I am your king.\\nWOMAN: I didn't know we had a king.  I thought we were an autonomous collective.\\nDENNIS: You're fooling yourself.  We're living in a dictatorship.  A self-perpetuating autocracy in which the working classes--\\nWOMAN: Oh, there you go, bringing class into it again.\\nDENNIS: That's what it's all about.  If only people would hear of--\\nARTHUR: Please, please good people.  I am in haste.  Who lives in that castle?\\nWOMAN: No one live there.\\nARTHUR: Then who is your lord?\\nWOMAN: We don't have a lord.\\nARTHUR: What?\\nDENNIS: I told you.  We're an anarcho-syndicalist commune.  We take it in turns to act as a sort of executive officer for the week.\\nARTHUR: Yes.\\nDENNIS: But all the decision of that officer have to be ratified at a special bi-weekly meeting--\\nARTHUR: Yes, I see.\\nDENNIS: By a simple majority in the case of purely internal affairs,--\\nARTHUR: Be quiet!\\nDENNIS: But by a two-thirds majority in the case of more major--\\nARTHUR: Be quiet!  I order you to be quiet!\\nWOMAN: Order, eh?  Who does he think he is?  Heh.\\nARTHUR: I am your king!\\nWOMAN: Well, I didn't vote for you.\\nARTHUR: You don't vote for kings.\\nWOMAN: Well, how did you become king then?\\nARTHUR: The Lady of the Lake, ... [angels sing] ... her arm clad in the purest shimmering samite, held aloft Excalibur from the bosom of the water signifying by Divine Providence that I, Arthur, was to carry Excalibur. [singing stops] That is why I am your king!\\nDENNIS: Listen, strange women lying in ponds distributing swords is no basis for a system of government.  Supreme executive power derives from a mandate from the masses, not from some farcical aquatic ceremony.\\nARTHUR: Be quiet!\\nDENNIS: Well, but you can't expect to wield supreme executive power just 'cause some watery tart threw a sword at you!\\nARTHUR: Shut up!\\nDENNIS: I mean, if I went 'round saying I was an emperor just because some moistened bint had lobbed a scimitar at me, they'd put me away!\\nARTHUR: Shut up, will you.  Shut up!\\nDENNIS: Ah, now we see the violence inherent in the system.\\nARTHUR: Shut up!\\nDENNIS: Oh!  Come and see the violence inherent in the system!  Help, help!  I'm being repressed!\\nARTHUR: Bloody peasant!\\nDENNIS: Oh, what a give-away.  Did you hear that?  Did you hear that, eh?  That's what I'm on about.  Did you see him repressing me?  You saw it, didn't you\\nSCENE 4: [King Arthur music] [music stops] \\nBLACK KNIGHT: Aaagh!  [King Arthur music] [music stops] \\nBLACK KNIGHT: Aaagh!\\nGREEN KNIGHT: Ooh! [King Arthur music] [music stops] [stab] \\nBLACK KNIGHT: Aagh!\\nGREEN KNIGHT: Oh! [King Arthur music] Ooh! [music stops] \\nBLACK KNIGHT: Aaagh! [clang] \\nBLACK KNIGHT and GREEN KNIGHT: Agh!, oh!, etc.\\nGREEN KNIGHT: Aaaaaah!  Aaaaaaaaah! [woosh] [BLACK KNIGHT kills GREEN KNIGHT] [thud] [scrape] \\nBLACK KNIGHT: Umm! [clop clop clop] \\nARTHUR: You fight with the strength of many men, Sir Knight. [pause] I am Arthur, King of the Britons. [pause] I seek the finest and the bravest knights in the land to join me in my court at Camelot. [pause] You have proved yourself worthy.  Will you join me? [pause] You make me sad.  So be it.  Come, Patsy.\\nBLACK KNIGHT: None shall pass.\\nARTHUR: What?\\nBLACK KNIGHT: None shall pass.\\nARTHUR: I have no quarrel with you, good Sir Knight, but I must cross this bridge.\\nBLACK KNIGHT: Then you shall die.\\nARTHUR: I command you, as King of the Britons, to stand aside!\\nBLACK KNIGHT: I move for no man.\\nARTHUR: So be it!\\nARTHUR and BLACK KNIGHT: Aaah!, hiyaah!, etc. [ARTHUR chops the BLACK KNIGHT's left arm off] \\nARTHUR: Now stand aside, worthy adversary.\\nBLACK KNIGHT: 'Tis but a scratch.\\nARTHUR: A scratch?  Your arm's off!\\nBLACK KNIGHT: No, it isn't.\\nARTHUR: Well, what's that then?\\nBLACK KNIGHT: I've had worse.\\nARTHUR: You liar!\\nBLACK KNIGHT: Come on, you pansy! [clang] Huyah! [clang] Hiyaah! [clang] Aaaaaaaah! [ARTHUR chops the BLACK KNIGHT's right arm off] \\nARTHUR: Victory is mine! [kneeling] We thank Thee Lord, that in Thy mer--\\nBLACK KNIGHT: Hah! [clunk] Come on then.\\nARTHUR: What?\\nBLACK KNIGHT: Have at you! [kick] \\nARTHUR: Eh.  You are indeed brave, Sir Knight, but the fight is mine.\\nBLACK KNIGHT: Oh, had enough, eh?\\nARTHUR: Look, you stupid bastard.  You've got no arms left.\\nBLACK KNIGHT: Yes I have.\\nARTHUR: Look!\\nBLACK KNIGHT: Just a flesh wound. [kick] \\nARTHUR: Look, stop that.\\nBLACK KNIGHT: Chicken! [kick] Chickennn!\\nARTHUR: Look, I'll have your leg. [kick] Right! [whop] [ARTHUR chops the BLACK KNIGHT's right leg off] \\nBLACK KNIGHT: Right.  I'll do you for that!\\nARTHUR: You'll what?\\nBLACK KNIGHT: Come here!\\nARTHUR: What are you going to do, bleed on me?\\nBLACK KNIGHT: I'm invincible!\\nARTHUR: You're a looney.\\nBLACK KNIGHT: The Black Knight always triumphs!  Have at you!  Come on then. [whop] [ARTHUR chops the BLACK KNIGHT's last leg off] \\nBLACK KNIGHT: Ooh.  All right, we'll call it a draw.\\nARTHUR: Come, Patsy.\\nBLACK KNIGHT: Oh.  Oh, I see.  Running away, eh?  You yellow bastards!  Come back here and take what's coming to you.  I'll bite your legs off\\nSCENE 5:\\nMONKS: [chanting] Pie Iesu domine, dona eis requiem. [bonk] Pie Iesu domine, ... [bonk] ... dona eis requiem. [bonk] Pie Iesu domine, ... [bonk] ... dona eis requiem.\\nCROWD: A witch!  A witch! [bonk] A witch!  A witch!\\nMONKS: [chanting] Pie Iesu domine...\\nCROWD: A witch!  A witch!  A witch!  A witch!  We've found a witch!  A witch!  A witch!  A witch!  A witch!  We've got a witch!  A witch!  A witch!  Burn her!  Burn her!  Burn her!  We've found a witch!  We've found a witch!  A witch!  A witch!  A witch!\\nVILLAGER #1: We have found a witch.  May we burn her?\\nCROWD: Burn her!  Burn!  Burn her!  Burn her!\\nBEDEVERE: How do you know she is a witch?\\nVILLAGER #2: She looks like one.\\nCROWD: Right!  Yeah!  Yeah!\\nBEDEVERE: Bring her forward.\\nWITCH: I'm not a witch.  I'm not a witch.\\nBEDEVERE: Uh, but you are dressed as one.\\nWITCH: They dressed me up like this.\\nCROWD: Augh, we didn't!  We didn't...\\nWITCH: And this isn't my nose.  It's a false one.\\nBEDEVERE: Well?\\nVILLAGER #1: Well, we did do the nose.\\nBEDEVERE: The nose?\\nVILLAGER #1: And the hat, but she is a witch!\\nVILLAGER #2: Yeah!\\nCROWD: We burn her!  Right!  Yeaaah!  Yeaah!\\nBEDEVERE: Did you dress her up like this?\\nVILLAGER #1: No!\\nVILLAGER #2 and 3: No.  No.\\nVILLAGER #2: No.\\nVILLAGER #1: No.\\nVILLAGERS #2 and #3: No.\\nVILLAGER #1: Yes.\\nVILLAGER #2: Yes.\\nVILLAGER #1: Yes.  Yeah, a bit.\\nVILLAGER #3: A bit.\\nVILLAGERS #1 and #2: A bit.\\nVILLAGER #3: A bit.\\nVILLAGER #1: She has got a wart.\\nRANDOM: [cough] \\nBEDEVERE: What makes you think she is a witch?\\nVILLAGER #3: Well, she turned me into a newt.\\nBEDEVERE: A newt?\\nVILLAGER #3: I got better.\\nVILLAGER #2: Burn her anyway!\\nVILLAGER #1: Burn!\\nCROWD: Burn her!  Burn!  Burn her! ...\\nBEDEVERE: Quiet!  Quiet!  Quiet!  Quiet!  There are ways of telling whether she is a witch.\\nVILLAGER #1: Are there?\\nVILLAGER #2: Ah?\\nVILLAGER #1: What are they?\\nCROWD: Tell us!  Tell us! ...\\nBEDEVERE: Tell me, what do you do with witches?\\nVILLAGER #2: Burn!\\nVILLAGER #1: Burn!\\nCROWD: Burn!  Burn them up!  Burn! ...\\nBEDEVERE: And what do you burn apart from witches?\\nVILLAGER #1: More witches!\\nVILLAGER #3: Shh!\\nVILLAGER #2: Wood!\\nBEDEVERE: So, why do witches burn? [pause] \\nVILLAGER #3: B--...  'cause they're made of...  wood?\\nBEDEVERE: Good!  Heh heh.\\nCROWD: Oh yeah.  Oh.\\nBEDEVERE: So, how do we tell whether she is made of wood?\\nVILLAGER #1: Build a bridge out of her.\\nBEDEVERE: Ah, but can you not also make bridges out of stone?\\nVILLAGER #1: Oh, yeah.\\nRANDOM: Oh, yeah.  True.  Uhh...\\nBEDEVERE: Does wood sink in water?\\nVILLAGER #1: No.  No.\\nVILLAGER #2: No, it floats!  It floats!\\nVILLAGER #1: Throw her into the pond!\\nCROWD: The pond!  Throw her into the pond!\\nBEDEVERE: What also floats in water?\\nVILLAGER #1: Bread!\\nVILLAGER #2: Apples!\\nVILLAGER #3: Uh, very small rocks!\\nVILLAGER #1: Cider!\\nVILLAGER #2: Uh, gra-- gravy!\\nVILLAGER #1: Cherries!\\nVILLAGER #2: Mud!\\nVILLAGER #3: Churches!  Churches!\\nVILLAGER #2: Lead!  Lead!\\nARTHUR: A duck!\\nCROWD: Oooh.\\nBEDEVERE: Exactly.  So, logically...\\nVILLAGER #1: If...  she...  weighs...  the same as a duck, ...  she's made of wood.\\nBEDEVERE: And therefore?\\nVILLAGER #2: A witch!\\nVILLAGER #1: A witch!\\nCROWD: A witch!  A witch! ...\\nVILLAGER #4: Here is a duck.  Use this duck. [quack quack quack] \\nBEDEVERE: We shall use my largest scales.\\nCROWD: Ohh!  Ohh!  Burn the witch!  Burn the witch!  Burn her!  Burn her!  Burn her!  Burn her!  Burn her!  Burn her!  Burn her!  Ahh!  Ahh...\\nBEDEVERE: Right.  Remove the supports! [whop] [clunk] [creak] \\nCROWD: A witch!  A witch!  A witch!\\nWITCH: It's a fair cop.\\nVILLAGER #3: Burn her!\\nCROWD: Burn her!  Burn her!  Burn her!  Burn!  Burn! ...\\nBEDEVERE: Who are you who are so wise in the ways of science?\\nARTHUR: I am Arthur, King of the Britons.\\nBEDEVERE: My liege!\\nARTHUR: Good Sir Knight, will you come with me to Camelot, and join us at the Round Table?\\nBEDEVERE: My liege!  I would be honored.\\nARTHUR: What is your name?\\nBEDEVERE: Bedevere, my liege.\\nARTHUR: Then I dub you Sir Bedevere, Knight of the Round Table\\nNARRATOR: The wise Sir Bedevere was the first to join King Arthur's knights, but other illustrious names were soon to follow: Sir Lancelot the Brave; Sir Gallahad the Pure; and Sir Robin the-not-quite-so-brave-as-Sir-Lancelot, who had nearly fought the Dragon of Angnor, who had nearly stood up to the vicious Chicken of Bristol, and who had personally wet himself at the Battle of Badon Hill; and the aptly named Sir Not-appearing-in-this-film.  Together they formed a band whose names and deeds were to be retold throughout the centuries: the Knights of the Round Table\\nSCENE 6: [clop clop clop] \\nSIR BEDEVERE: And that, my liege, is how we know the earth to be banana-shaped.\\nARTHUR: This new learning amazes me, Sir Bedevere.  Explain again how sheep's bladders may be employed to prevent earthquakes.\\nBEDEVERE: Oh, certainly, sir.\\nSIR LAUNCELOT: Look, my liege! [trumpets] \\nARTHUR: Camelot!\\nSIR GALAHAD: Camelot!\\nLAUNCELOT: Camelot!\\nPATSY: It's only a model.\\nARTHUR: Shh!  Knights, I bid you welcome to your new home.  Let us ride... to...  Camelot! [in medieval hall] \\nKNIGHTS: [singing] We're knights of the round table.  We dance when e'er we're able.  We do routines and chorus scenes With footwork impeccable.  We dine well here in Camelot.  We eat ham and jam and spam a lot [dancing] We're knights of the Round Table. Our shows are formidable, But many times we're given rhymes That are quite unsingable. We're opera mad in Camelot. We sing from the diaphragm a lot [in dungeon] \\nPRISONER: [clap clap clap clap] [in medieval hall] \\nKNIGHTS: [tap-dancing] In war we're tough and able, Quite indefatigable.  Between our quests we sequin vests and impersonate Clark Gable.  It's a busy life in Camelot.\\nMAN: I have to push the pram a lot [outdoors] \\nARTHUR: Well, on second thought, let's not go to Camelot.  It is a silly place.\\nKNIGHTS: Right.  Right\\nSCENE 7: [clop clop clop] [boom boom] [angels sing] \\nGOD: Arthur!  Arthur, King of the Britons!  Oh, don't grovel! [singing stops] One thing I can't stand, it's people groveling.\\nARTHUR: Sorry. [boom] \\nGOD: And don't apologise.  Every time I try to talk to someone it's 'sorry this' and 'forgive me that' and 'I'm not worthy'. [boom] What are you doing now?!\\nARTHUR: I'm averting my eyes, O Lord.\\nGOD: Well, don't.  It's like those miserable Psalms-- they're so depressing. Now knock it off!\\nARTHUR: Yes, Lord.\\nGOD: Right!  Arthur, King of the Britons, your Knights of the Round Table shall have a task to make them an example in these dark times.\\nARTHUR: Good idea, O Lord!\\nGOD: 'Course it's a good idea!  Behold! [angels sing] Arthur, this is the Holy Grail.  Look well, Arthur, for it is your sacred task to seek this grail.  That is your purpose, Arthur...  the quest for the Holy Grail. [boom] [singing stops] \\nLAUNCELOT: A blessing!  A blessing from the Lord!\\nGALAHAD: God be praised\\nSCENE 8: [King Arthur music] [clop clop clop] \\nARTHUR: Halt! [horn] Hallo! [pause] Hallo!\\nFRENCH GUARD: Allo!  Who is eet?\\nARTHUR: It is King Arthur, and these are my Knights of the Round Table.  Who's castle is this?\\nFRENCH GUARD: This is the castle of my master Guy de Loimbard.\\nARTHUR: Go and tell your master that we have been charged by God with a sacred quest.  If he will give us food and shelter for the night he can join us in our quest for the Holy Grail.\\nFRENCH GUARD: Well, I'll ask him, but I don't think he'll be very keen.  Uh, he's already got one, you see?\\nARTHUR: What?\\nGALAHAD: He says they've already got one!\\nARTHUR: Are you sure he's got one?\\nFRENCH GUARD: Oh, yes, it's very nice-a.  (I told him we already got one.)\\nARTHUR: Well, u-- um, can we come up and have a look?\\nFRENCH GUARD: Of course not!  You are English types-a!\\nARTHUR: Well, what are you then?\\nFRENCH GUARD: I'm French!  Why do think I have this outrageous accent, you silly king-a?!\\nGALAHAD: What are you doing in England?\\nFRENCH GUARD: Mind your own business!\\nARTHUR: If you will not show us the Grail, we shall take your castle by force!\\nFRENCH GUARD: You don't frighten us, English pig-dogs!  Go and boil your bottom, sons of a silly person.  I blow my nose at you, so-called Arthur King, you and all your silly English k-nnnnniggets.  Thpppppt!  Thppt! Thppt!\\nGALAHAD: What a strange person.\\nARTHUR: Now look here, my good man--\\nFRENCH GUARD: I don't wanna talk to you no more, you empty headed animal food trough wiper!  I fart in your general direction!  You mother was a hamster and your father smelt of elderberries!\\nGALAHAD: Is there someone else up there we could talk to?\\nFRENCH GUARD: No, now go away or I shall taunt you a second time-a! [sniff] \\nARTHUR: Now, this is your last chance.  I've been more than reasonable.\\nFRENCH GUARD: (Fetchez la vache.)\\nOTHER FRENCH GUARD: Quoi?\\nFRENCH GUARD: (Fetchez la vache!) [mooo] \\nARTHUR: If you do not agree to my commands, then I shall-- [twong] [mooooooo] Jesus Christ!\\nKNIGHTS: Christ! [thud] Ah!  Ohh!\\nARTHUR: Right!  Charge!\\nKNIGHTS: Charge! [mayhem] \\nFRENCH GUARD: Hey, this one is for your mother!  There you go. [mayhem] \\nFRENCH GUARD: And this one's for your dad!\\nARTHUR: Run away!\\nKNIGHTS: Run away!\\nFRENCH GUARD: Thppppt!\\nFRENCH GUARDS: [taunting] \\nLAUNCELOT: Fiends!  I'll tear them apart!\\nARTHUR: No, no.  No, no.\\nBEDEVERE: Sir!  I have a plan, sir. [later] [wind] [saw saw saw saw saw saw saw saw saw saw saw saw saw saw saw saw] [clunk] [bang] [rewr!] [squeak squeak squeak squeak squeak squeak squeak squeak squeak squeak] [rrrr rrrr rrrr] [drilllll] [sawwwww] [clunk] [crash] [clang] [squeak squeak squeak squeak squeak...] [creak] \\nFRENCH GUARDS: [whispering] C'est un lapin, lapin de bois.  Quoi?  Un cadeau.  What?  A present.  Oh, un cadeau.  Oui, oui.  Hurry.  What?  Let's go.  Oh. On y va.  Bon magne.  Over here... [squeak squeak squeak squeak squeak...] [clllank] \\nARTHUR: What happens now?\\nBEDEVERE: Well, now, uh, Launcelot, Galahad, and I, uh, wait until nightfall, and then leap out of the rabbit, taking the French, uh, by surprise.  Not only by surprise, but totally unarmed!\\nARTHUR: Who leaps out?\\nBEDEVERE: U-- u-- uh, Launcelot, Galahad, and I.  Uh, leap out of the rabbit, uh, and uh...\\nARTHUR: Ohh.\\nBEDEVERE: Oh.  Um, l-- look, i-- i-- if we built this large wooden badger-- [clank] [twong] \\nARTHUR: Run away!\\nKNIGHTS: Run away!  Run away!  Run away!  Run away!  Run away!  Run away!  Run away! [CRASH] \\nFRENCH GUARDS: Oh, haw haw haw haw!  Haw!  Haw haw heh..\\nSCENE 9: [clack] \\nVOICE: Picture for Schools, take eight.\\nDIRECTOR: Action!\\nHISTORIAN: Defeat at the castle seems to have utterly disheartened King Arthur.  The ferocity of the French taunting took him completely by surprise, and Arthur became convinced that a new strategy was required if the quest for the Holy Grail were to be brought to a successful conclusion.  Arthur, having consulted his closest knights, decided that they should separate, and search for the Grail individually. [clop clop clop] Now, this is what they did: Launcelot--\\nKNIGHT: Aaaah! [slash] [KNIGHT kills HISTORIAN] \\nHISTORIAN'S WIFE: Frank\\nSCENE 10: [trumpets] \\nNARRATOR: The Tale of Sir Robin.  So each of the knights went their separate ways.  Sir Robin rode north, through the dark forest of Ewing, accompanied by his favorite minstrels.\\nMINSTREL: [singing] Bravely bold Sir Robin, rode forth from Camelot.  He was not afraid to die, O brave Sir Robin.  He was not at all afraid to be killed in nasty ways.  Brave, brave, brave, brave Sir Robin!  He was not in the least bit scared to be mashed into a pulp, Or to have his eyes gouged out, and his elbows broken.  To have his kneecaps split, and his body burned away, And his limbs all hacked and mangled, brave Sir Robin!\\nHis head smashed in and his heart cut out, And his liver removed and his bowels unplugged, And his nostrils raped and his bottom burned off, And his pen--\\nSIR ROBIN: That's-- that's, uh-- that's enough music for now, lads.  Heh.  Looks like there's dirty work afoot.\\nDENNIS: Anarcho-syndicalism is a way of preserving freedom.\\nWOMAN: Oh, Dennis, forget about freedom.  We haven't got enough mud.\\nALL HEADS: Halt!  Who art thou?\\nMINSTREL: [singing] He is brave Sir Robin, brave Sir Robin, who--\\nROBIN: Shut up!  Um, n-- n-- n-- nobody really, I'm j-- j-- j-- ju-- just um, just passing through.\\nALL HEADS: What do you want?\\nMINSTREL: [singing] To fight and--\\nROBIN: Shut up!  Um, oo, a-- nothing, nothing really.  I, uh, j-- j-- just--just to um, just to p-- pass through, good Sir Knight.\\nALL HEADS: I'm afraid not!\\nROBIN: Ah.  W-- well, actually I-- I am a Knight of the Round Table.\\nALL HEADS: You're a Knight of the Round Table?\\nROBIN: I am.\\nLEFT HEAD: In that case I shall have to kill you.\\nMIDDLE HEAD: Shall I?\\nRIGHT HEAD: Oh, I don't think so.\\nMIDDLE HEAD: Well, what do I think?\\nLEFT HEAD: I think kill him.\\nRIGHT HEAD: Oh, let's be nice to him.\\nLEFT HEAD: Oh shut up.\\nROBIN: Perhaps I could--\\nLEFT HEAD: And you.  Oh, quick!  Get the sword out.  I want to cut his headoff!\\nRIGHT HEAD: Oh, cut your own head off!\\nMIDDLE HEAD: Yes, do us all a favor!\\nLEFT HEAD: What?\\nRIGHT HEAD: Yapping on all the time.\\nMIDDLE HEAD: You're lucky.  You're not next to him.\\nLEFT HEAD: What do you mean?\\nMIDDLE HEAD: You snore!\\nLEFT HEAD: Oh, I don't.  Anyway, you've got bad breath.\\nMIDDLE HEAD: Well it's only because you don't brush my teeth.\\nRIGHT HEAD: Oh stop bitching and let's go have tea.\\nLEFT HEAD: Oh, all right.  All right.  All right.  We'll kill him first and then have tea and biscuits.\\nMIDDLE HEAD: Yes.\\nRIGHT HEAD: Oh, not biscuits.\\nLEFT HEAD: All right.  All right, not biscuits, but let's kill him anyway.\\nALL HEADS: Right!\\nMIDDLE HEAD: He buggered off.\\nRIGHT HEAD: So he has.  He's scarper\\nMINSTREL: [singing] Brave Sir Robin ran away.\\nROBIN: No!\\nMINSTREL: [singing] Bravely ran away away.\\nROBIN: I didn't!\\nMINSTREL: [singing] When danger reared its ugly head, he bravely turned his tail and fled.\\nROBIN: No!\\nMINSTREL: [singing] Yes, brave Sir Robin turned about\\nROBIN: I didn't!\\nMINSTREL: [singing] And gallantly he chickened out, bravely taking to his feet.\\nROBIN: I never did!\\nMINSTREL: [singing] He beat a very brave retreat.\\nROBIN: All lies!\\nMINSTREL: [singing] Bravest of the brave, Sir Robin.\\nROBIN: I never\\nCARTOON MONKS: [chanting] Pie Iesu domine, dona eis requiem.\\nCARTOON CHARACTER: Heh heh heeh ooh... [twang] \\nCARTOON MONKS: [chanting] Pie Iesu domine, ...\\nCARTOON CHARACTERS: Wayy! [splash] Ho ho.  Woa, wayy! [twang] [splash] Heh heh heh heh ho!  Heh heh heh!\\nCARTOON MONKS: [chanting] ... dona eis requiem.\\nCARTOON CHARACTER: Wayy! [twang] Wayy! [twang] \\nVOICE: [whispering] Forgive me for asking.\\nCARTOON CHARACTER: Oh!  Oooo\\nSCENE 11: [trumpets] \\nNARRATOR: The Tale of Sir Galahad. [boom] [wind] [howl] [howl] [boom] [angels singing] [howl] [boom] [howl] [boom] [pound pound pound] \\nGALAHAD: Open the door!  Open the door! [pound pound pound] In the name of King Arthur, open the door! [squeak] [thump] [squeak] [boom] \\nGIRLS: Hello!\\nZOOT: Welcome gentle Sir Knight.  Welcome to the Castle Anthrax.\\nGALAHAD: The Castle Anthrax?\\nZOOT: Yes.  Oh, it's not a very good name is it?  Oh, but we are nice and we will attend to your every, every need!\\nGALAHAD: You are the keepers of the Holy Grail?\\nZOOT: The what?\\nGALAHAD: The Grail.  It is here.\\nZOOT: Oh, but you are tired, and you must rest awhile.  Midget!  Crapper!\\nMIDGET and CRAPPER: Yes, O Zoot?\\nZOOT: Prepare a bed for our guest.\\nMIDGET and CRAPPER: Oh thank you!  Thank you!  Thank you!  Thank you!  Thank you!  Thank you! ...\\nZOOT: Away, away varletesses.  The beds here are warm and soft, and very, very big.\\nGALAHAD: Well, look, I-- I-- uh--\\nZOOT: What is your name, handsome knight?\\nGALAHAD: Sir Galahad...  the Chaste.\\nZOOT: Mine is Zoot.  Just Zoot.  Oh, but come.\\nGALAHAD: Look, please!  In God's name, show me the Grail!\\nZOOT: Oh, you have suffered much.  You are delirious.\\nGALAHAD: No, look.  I have seen it!  It is here, in this--\\nZOOT: Sir Galahad!  You would not be so ungallant as to refuse our hospitality.\\nGALAHAD: Well, I-- I-- uh--\\nZOOT: Oh, I am afraid our life must seem very dull and quiet compared to yours.  We are but eight score young blondes and brunettes, all between sixteen and nineteen-and-a-half, cut off in this castle with no one to protect us.  Oooh.  It is a lonely life: bathing, dressing, undressing, making exciting underwear.  We are just not used to handsome knights.  Nay.  Nay.  Come.  Come.  You may lie here.  Oh, but you are wounded!\\nGALAHAD: No, no-- it's-- it's nothing.\\nZOOT: Oh, you must see the doctors immediately!  No, no, please!  Lie down. [clap clap] \\nPIGLET: Well, what seems to be the trouble?\\nGALAHAD: They're doctors?!\\nZOOT: Uh, they have a basic medical training, yes.\\nGALAHAD: B-- but--\\nZOOT: Oh, come, come.  You must try to rest.  Doctor Piglet!  Doctor Winston!  Practice your art.\\nWINSTON: Try to relax.\\nGALAHAD: Are you sure that's absolutely necessary?\\nPIGLET: We must examine you.\\nGALAHAD: There's nothing wrong with that!\\nPIGLET: Please.  We are doctors.\\nGALAHAD: Look!  This cannot be.  I am sworn to chastity.\\nPIGLET: Back to your bed!  At once!\\nGALAHAD: Torment me no longer.  I have seen the Grail!\\nPIGLET: There's no grail here.\\nGALAHAD: I have seen it!  I have seen it! [clank] I have seen--\\nGIRLS: Hello.\\nGALAHAD: Oh.\\nGIRLS: Hello.  Hello.  Hello.  Hello.  Hello.  Hello.  Hello.  Hello.  Hello.  Hello.  Hello.  Hello.  Hello.  Hello.  Hello.  Hello.  Hello.  Hello.  Hello.  Hello.  Hello.  Hello.  Hello.\\nGALAHAD: Zoot!\\nDINGO: No, I am Zoot's identical twin sister, Dingo.\\nGALAHAD: Oh, well, excuse me, I--\\nDINGO: Where are you going?\\nGALAHAD: I seek the Grail!  I have seen it, here in this castle!\\nDINGO: Oh no.  Oh, no!  Bad, bad Zoot!\\nGALAHAD: Well, what is it?\\nDINGO: Oh, wicked, bad, naughty Zoot!  She has been setting alight to our beacon, which, I have just remembered, is grail-shaped.  It's not the first time we've had this problem.\\nGALAHAD: It's not the real Grail?\\nDINGO: Oh, wicked, bad, naughty, evil Zoot!  She is a bad person and must pay the penalty.  Do you think this scene should have been cut?  We were so worried when the boys were writing it, but now, we're glad.  It's better than some of the previous scenes, I think.\\nLEFT HEAD: At least ours was better visually.\\nDENNIS: Well, at least ours was committed.  It wasn't just a string of pussy jokes.\\nOLD MAN: Get on with it.\\nTIM THE ENCHANTER: Yes, get on with it!\\nARMY OF KNIGHTS: Yes, get on with it!\\nDINGO: Oh, I am enjoying this scene.\\nGOD: Get on with it!\\nDINGO: [sigh] Oh, wicked, wicked Zoot.  Oh, she is a naughty person, and she must pay the penalty.  And here in Castle Anthrax, we have but one punishment for setting alight the grail-shaped beacon.  You must tie her down on a bed and spank her.\\nGIRLS: A spanking!  A spanking!\\nDINGO: You must spank her well.  And after you have spanked her, you may deal with her as you like.  And then, spank me.\\nAMAZING: And spank me.\\nSTUNNER: And me.\\nLOVELY: And me.\\nDINGO: Yes, yes, you must give us all a good spanking!\\nGIRLS: A spanking!  A spanking!  There is going to be a spanking tonight!\\nDINGO: And after the spanking, the oral sex.\\nGIRLS: The oral sex!  The oral sex!\\nGALAHAD: Well, I could stay a bit longer.\\nLAUNCELOT: Sir Galahad!\\nGALAHAD: Oh, hello.\\nLAUNCELOT: Quick!\\nGALAHAD: What?\\nLAUNCELOT: Quick!\\nGALAHAD: Why?\\nLAUNCELOT: You are in great peril!\\nDINGO: No he isn't.\\nLAUNCELOT: Silence, foul temptress!\\nGALAHAD: You know, she's got a point.\\nLAUNCELOT: Come on!  We will cover your escape!\\nGALAHAD: Look, I'm fine!\\nLAUNCELOT: Come on!\\nGIRLS: Sir Galahad!\\nGALAHAD: No.  Look, I can tackle this lot single-handed!\\nDINGO: Yes!  Let him tackle us single-handed!\\nGIRLS: Yes!  Let him tackle us single-handed!\\nLAUNCELOT: No, Sir Galahad.  Come on!\\nGALAHAD: No!  Really!  Honestly, I can cope.  I can handle this lot easily.\\nDINGO: Oh, yes.  Let him handle us easily.\\nGIRLS: Yes.  Let him handle us easily.\\nLAUNCELOT: No.  Quick!  Quick!\\nGALAHAD: Please!  I can defeat them!  There's only a hundred-and-fifty of them!\\nDINGO: Yes, yes!  He will beat us easily!  We haven't a chance.\\nGIRLS: We haven't a chance.  He will beat us easily... [boom] \\nDINGO: Oh, shit.\\nLAUNCELOT: We were in the nick of time.  You were in great peril.\\nGALAHAD: I don't think I was.\\nLAUNCELOT: Yes you were.  You were in terrible peril.\\nGALAHAD: Look, let me go back in there and face the peril.\\nLAUNCELOT: No, it's too perilous.\\nGALAHAD: Look, it's my duty as a knight to sample as much peril as I can.\\nLAUNCELOT: No, we've got to find the Holy Grail.  Come on!\\nGALAHAD: Oh, let me have just a little bit of peril?\\nLAUNCELOT: No.  It's unhealthy.\\nGALAHAD: I bet you're gay.\\nLAUNCELOT: No I'm not\\nNARRATOR: Sir Launcelot had saved Sir Galahad from almost certain temptation, but they were still no nearer the Grail.  Meanwhile, King Arthur and Sir Bedevere, not more than a swallow's flight away, had discovered something.  Oh, that's an unladen swallow's flight, obviously.  I mean, they were more than two laden swallows' flights away-- four, really, if they had a coconut on a line between them.  I mean, if the birds were walking and dragging--\\nCROWD: Get on with it!\\nNARRATOR: Oh, anyway.  On to scene twenty-four, which is a smashing scene with some lovely acting, in which Arthur discovers a vital clue, and in which there aren't any swallows, although I think you can hear a starling-- oooh\\nSCENE 12:\\nOLD MAN: Heh, hee ha ha hee hee!  Hee hee hee ha ha ha...\\nARTHUR: And this enchanter of whom you speak, he has seen the Grail?\\nOLD MAN: ... Ha ha ha ha!  Heh, hee ha ha hee!  Ha hee ha!  Ha ha ha ha...\\nARTHUR: Where does he live?\\nOLD MAN: ... Heh heh heh heh...\\nARTHUR: Old man, where does he live?\\nOLD MAN: ... Hee ha ha ha.  He knows of a cave, a cave which no man has entered.\\nARTHUR: And the Grail.  The Grail is there?\\nOLD MAN: There is much danger, for beyond the cave lies the Gorge of Eternal Peril, which no man has ever crossed.\\nARTHUR: But the Grail!  Where is the Grail?!\\nOLD MAN: Seek you the Bridge of Death.\\nARTHUR: The Bridge of Death, which leads to the Grail?\\nOLD MAN: Heh, hee hee hee hee!  Ha ha ha ha ha!  Hee ha ha..\\nSCENE 13: [spooky music] [music stops] \\nHEAD KNIGHT OF NI: Ni!\\nKNIGHTS OF NI: Ni!  Ni!  Ni!  Ni!  Ni!\\nARTHUR: Who are you?\\nHEAD KNIGHT: We are the Knights Who Say...  'Ni'!\\nRANDOM: Ni!\\nARTHUR: No!  Not the Knights Who Say 'Ni'!\\nHEAD KNIGHT: The same!\\nBEDEVERE: Who are they?\\nHEAD KNIGHT: We are the keepers of the sacred words: Ni, Peng, and Neee-wom!\\nRANDOM: Neee-wom!\\nARTHUR: Those who hear them seldom live to tell the tale!\\nHEAD KNIGHT: The Knights Who Say 'Ni' demand a sacrifice!\\nARTHUR: Knights of Ni, we are but simple travellers who seek the enchanter who lives beyond these woods.\\nHEAD KNIGHT: Ni!\\nKNIGHTS OF NI: Ni!  Ni!  Ni!  Ni!  Ni! ...\\nARTHUR: Ow!  Ow!  Ow!  Agh!\\nHEAD KNIGHT: We shall say 'ni' again to you if you do not appease us.\\nARTHUR: Well, what is it you want?\\nHEAD KNIGHT: We want...  a shrubbery! [dramatic chord] \\nARTHUR: A what?\\nKNIGHTS OF NI: Ni!  Ni!  Ni!  Ni!\\nARTHUR and PARTY: Ow!  Oh!\\nARTHUR: Please, please!  No more!  We will find you a shrubbery.\\nHEAD KNIGHT: You must return here with a shrubbery or else you will never pass through this wood alive!\\nARTHUR: O Knights of Ni, you are just and fair, and we will return with a shrubbery.\\nHEAD KNIGHT: One that looks nice.\\nARTHUR: Of course.\\nHEAD KNIGHT: And not too expensive.\\nARTHUR: Yes.\\nHEAD KNIGHT: Now...  go [trumpets] \\nCARTOON CHARACTER: Hmm hmm-- [boom] Oh!  Great scott!  Hm.  Hmm. [boom] Hm!  Hmm.  [mumble mumble mumble] [boom] [mumble mumble mumble] [boom] [mumble mumble mumble] [boom] [mumble mumble mumble] [boom] [mumble mumble mumble] [boom] [mumble mumble mumble] [boom] [mumble mumble mumble] [boom] [mumble mumble mumble] [boom] Ohh! [crash] [mumble mumble mumble] [boom] \\nSUN: Ay, up!  Thsss. [boom] Ayy, up! [boom] Thsss. [boom] Ayy, up!\\nCARTOON CHARACTER: Stop that!  Stop that! [boom] \\nSUN: Ay, up!\\nCARTOON CHARACTER: Stop that! [boom] Look on!  Clear off!  Go on!  Go away!  Go away!  Go away!  And you!  Clear off!  [sniff] \\nSUN: [mumble mumble mumble] [bells] \\nCARTOON CHARACTER: Hah.  Bloody weather\\nSCENE 14:\\nNARRATOR: The Tale of Sir Launcelot.\\nFATHER: One day, lad, all this will be yours!\\nPRINCE HERBERT: What, the curtains?\\nFATHER: No.  Not the curtains, lad.  All that you can see, stretched out over the hills and valleys of this land!  This'll be your kingdom, lad.\\nHERBERT: But Mother--\\nFATHER: Father, lad.  Father.\\nHERBERT: B-- b-- but Father, I don't want any of that.\\nFATHER: Listen, lad.  I built this kingdom up from nothing.  When I started here, all there was was swamp.  Other kings said I was daft to build a castle on a swamp, but I built it all the same, just to show 'em.  It sank into the swamp.  So, I built a second one.  That sank into the swamp.  So I built a third one.  That burned down, fell over, then sank into the swamp.  But the fourth one...  stayed up!  And that's what you're gonna get, lad: the strongest castle in these islands.\\nHERBERT: But I don't want any of that.  I'd rather--\\nFATHER: Rather what?!\\nHERBERT: I'd rather... [music] ... just...  sing!\\nFATHER: Stop that!  Stop that!  You're not going into a song while I'm here.  Now listen, lad.  In twenty minutes you're getting married to a girl whose father owns the biggest tracts of open land in Britain.\\nHERBERT: B-- but I don't want land.\\nFATHER: Listen, Alice,--\\nHERBERT: Herbert.\\nFATHER: 'Erbert.  We live in a bloody swamp.  We need all the land we can get.\\nHERBERT: But-- but I don't like her.\\nFATHER: Don't like her?!  What's wrong with her?!  She's beautiful.  She's rich.  She's got huge...  tracts o' land.\\nHERBERT: I know, but I want the-- the girl that I marry to have...  [music] ... a certain...  special...  something!\\nFATHER: Cut that out!  Cut that out!  Look, you're marrying Princess Lucky, so you'd better get used to the idea! [smack] Guards!  Make sure the Prince doesn't leave this room until I come and get him.\\nGUARD #1: Not to leave the room even if you come and get him.\\nGUARD #2: Hic!\\nFATHER: No, no.  Until I come and get him.\\nGUARD #1: Until you come and get him, we're not to enter the room.\\nFATHER: No, no.  No.  You stay in the room and make sure he doesn't leave.\\nGUARD #1: And you'll come and get him.\\nGUARD #2: Hic!\\nFATHER: Right.\\nGUARD #1: We don't need to do anything, apart from just stop him entering the room.\\nFATHER: No, no.  Leaving the room.\\nGUARD #1: Leaving the room.  Yes. [sniff] \\nFATHER: All right?\\nGUARD #1: Right.\\nGUARD #2: Hic!\\nFATHER: Right.\\nGUARD #1: Oh, if-- if-- if-- uhh-- if-- if-- w-- ehh-- i-- if-- if we--\\nFATHER: Yes?  What is it?\\nGUARD #1: Oh, i-- if-- i-- oh--\\nFATHER: Look, it's quite simple.\\nGUARD #1: Uh...\\nFATHER: You just stay here, and make sure 'e doesn't leave the room.  Alright?\\nGUARD #2: Hic!\\nFATHER: Right.\\nGUARD #1: Oh, I remember.  Uhh, can he leave the room with us?\\nFATHER: N-- no no.  No.  You just keep him in here, and make sure he--\\nGUARD #1: Oh, yes.  We'll keep him in here, obviously.  But if he had to leave and we were with him--\\nFATHER: No, no, no, no.  Just keep him in here--\\nGUARD #1: Until you, or anyone else--\\nFATHER: No, not anyone else.  Just me.\\nGUARD #1: Just you.\\nGUARD #2: Hic!\\nFATHER: Get back.\\nGUARD #1: Get back.\\nFATHER: All right?\\nGUARD #1: Right.  We'll stay here until you get back.\\nGUARD #2: Hic!\\nFATHER: And, uh, make sure he doesn't leave.\\nGUARD #1: What?\\nFATHER: Make sure 'e doesn't leave.\\nGUARD #1: The Prince?\\nFATHER: Yes.  Make sure 'e doesn't leave.\\nGUARD #1: Oh, yes, of course.  \\nGUARD #2: Hic!\\nGUARD #1: Ah.  I thought you meant him.  You know, it seemed a bit daft me havin' to guard him when he's a guard.\\nFATHER: Is that clear?\\nGUARD #2: Hic!\\nGUARD #1: Oh, quite clear.  No problems.\\nFATHER: Right.  Where are you going?\\nGUARD #1: We're coming with you.\\nFATHER: No, no.  I want you to stay here and make sure 'e doesn't leave.\\nGUARD #1: Oh, I see.  Right.\\nHERBERT: But Father!\\nFATHER: Shut your noise, you!  And get that suit on! [music] And no singing!\\nGUARD #2: Hic!\\nFATHER: Oh, go and get a glass of water. [clank] [scribble scribble scribble fold fold] [twong]\\nSCENE 15:\\nLAUNCELOT: Well taken, Concorde!\\nCONCORDE: Thank you, sir!  Most kind.\\nLAUNCELOT: And again!  Over we go!  Good.  Steady!  And now, the big one!  Uuh!  Come on, Concorde! [thwonk] \\nCONCORDE: Message for you, sir. [fwump] \\nLAUNCELOT: Concorde!  Concorde!  Speak to me!  'To whoever finds this note: I have been imprisoned by my father, who wishes me to marry against my will.  Please, please, please come and rescue me.  I am in the Tall Tower of Swamp Castle.' At last!  A call!  A cry of distress!  This could be the sign that leads us to the Holy Grail!  Brave, brave Concorde, you shall not have died in vain!\\nCONCORDE: Uh, I'm-- I'm not quite dead, sir.\\nLAUNCELOT: Well, you shall not have been mortally wounded in vain!\\nCONCORDE: I-- I-- I think I c-- I could pull through, sir.\\nLAUNCELOT: Oh, I see.\\nCONCORDE: Actually, I think I'm all right to come with you, sir--\\nLAUNCELOT: No, no, sweet Concorde!  Stay here!  I will send help as soon as I have accomplished a daring and heroic rescue in my own particular...  [sigh] \\nCONCORDE: Idiom, sir?\\nLAUNCELOT: Idiom!\\nCONCORDE: No, I feel fine, actually, sir.\\nLAUNCELOT: Farewell, sweet Concorde!\\nCONCORDE: I'll, um, I'll just stay here then.  Shall I, sir?  Yeah\\nSCENE 16: [inside castle] \\nPRINCESS LUCKY and GIRLS: [giggle giggle giggle] [outside castle] \\nGUEST: 'Morning!\\nSENTRY #1: 'Morning.\\nSENTRY #2: Oooh.\\nSENTRY #1: [ptoo] \\nLAUNCELOT: Ha ha!  Hiyya!\\nSENTRY #2: Hey!\\nLAUNCELOT: Hiyya!, Ha!, etc.\\nPRINCESS LUCKY and GIRLS: [giggle giggle giggle] \\nLAUNCELOT: Ha ha!  Huy!\\nGUESTS: Uuh!  Aaah!\\nLAUNCELOT: Ha ha!  And take this!  Aah!  Hiyah!  Aah!  Aaah!  Hyy!  Hya!  Hiyya!  Ha! ...\\nGUARD #1: Now, you're not allowed to enter the room-- aaugh!\\nLAUNCELOT: O fair one, behold your humble servant Sir Launcelot of Camelot.  I have come to take y-- Oh, I'm terribly sorry.\\nHERBERT: You got my note!\\nLAUNCELOT: Uh, well, I-- I got a-- a note.\\nHERBERT: You've come to rescue me!\\nLAUNCELOT: Uh, well, no.  You see, I hadn't--\\nHERBERT: I knew someone would.  I knew that somewhere out there...  [music] \\nLAUNCELOT: Well, I--\\nHERBERT: ... there must be...  someone...\\nFATHER: Stop that!  Stop that!  Stop it!  Stop it!  Who are you?\\nHERBERT: I'm your son!\\nFATHER: No, not you.\\nLAUNCELOT: Uh, I am Sir Launcelot, sir.\\nHERBERT: He's come to rescue me, Father.\\nLAUNCELOT: Well, let's not jump to conclusions.\\nFATHER: Did you kill all those guards?\\nLAUNCELOT: Uh...  Oh, yes.  Sorry.\\nFATHER: They cost fifty pounds each!\\nLAUNCELOT: Well, I'm awfully sorry.  Um, I really can explain everything.\\nHERBERT: Don't be afraid of him, Sir Launcelot.  I've got a rope all ready.\\nFATHER: You killed eight wedding guests in all!\\nLAUNCELOT: Well, uh, you see, the thing is, I thought your son was a lady.\\nFATHER: I can understand that.\\nHERBERT: Hurry, Sir Launcelot!  Hurry!\\nFATHER: Shut up!  You only killed the bride's father, that's all!\\nLAUNCELOT: Well, I really didn't mean to...\\nFATHER: Didn't mean to?!  You put your sword right through his head!\\nLAUNCELOT: Oh, dear.  Is he all right?\\nFATHER: You even kicked the bride in the chest!  This is going to cost me a fortune!\\nLAUNCELOT: Well, I can explain.  I was in the forest, um, riding north from Camelot, when I got this note, you see--\\nFATHER: Camelot?  Are you from, uh, Camelot?\\nHERBERT: Hurry, Sir Launcelot!\\nLAUNCELOT: Uh, I am a Knight of King Arthur, sir.\\nFATHER: Very nice castle, Camelot.  Uh, very good pig country...\\nLAUNCELOT: Is it?\\nHERBERT: Hurry!  I'm ready!\\nFATHER: Would you, uh, like to come and have a drink?\\nLAUNCELOT: Well, that-- that's, uh, awfully nice of you, ...\\nHERBERT: I am ready!\\nLAUNCELOT: ... um, I mean to be so understanding. [thonk] Um, ... [woosh] \\nHERBERT: Oooh!\\nLAUNCELOT: ... I'm afraid when I'm in this idiom, I sometimes get a bit, uh, sort of carried away.\\nFATHER: Oh, don't worry about that.\\nHERBERT: Oooh! [splat] \\nSCENE 17:\\nGUESTS: [crying] \\nFATHER: Well, this is the main hall.  We're going to have all this knocked through, and made into one big, uh, living room.\\nGUEST: There he is!\\nFATHER: Oh, bloody hell.\\nLAUNCELOT: Ha ha ha!  Hey!  Ha ha!\\nFATHER: Hold it!  Stop it!  Hold it!  Hold it!  Hold it!  Hold it!  Hold it!  Please!\\nLAUNCELOT: Sorry.  Sorry.  You see what I mean?  I just get carried away.  I'm really most awfully sorry.  Sorry!  Sorry, everyone.\\nGUEST #1: He's killed the best man!\\nGUESTS: [yelling] \\nFATHER: Hold it!  Hold it!  Please!  Hold it!  This is Sir Launcelot from the Court of Camelot, a very brave and influential knight, and my special guest here today.\\nLAUNCELOT: Hello.\\nGUEST: He killed my auntie!\\nGUESTS: [yelling] \\nFATHER: Please!  Please!  This is supposed to be a happy occasion!  Let's not bicker and argue about who killed who.  We are here today to witness the union of two young people in the joyful bond of the holy wedlock.  Unfortunately, one of them, my son Herbert, has just fallen to his death.\\nGUESTS: Oh!  Oh no!\\nFATHER: But I don't want to think I've not lost a son, so much as...  gained a daughter! [clap clap clap] For, since the tragic death of her father--\\nGUEST #2: He's not quite dead!\\nFATHER: Since the near fatal wounding of her father--\\nGUEST #2: He's getting better!\\nFATHER: For, since her own father, who, when he seemed about to recover, suddenly felt the icy hand of death upon him.\\nBRIDE'S FATHER: Uugh!\\nGUEST #2: Oh, he's died!\\nFATHER: And I want his only daughter to look upon me as her old dad, in a very real, and legally binding sense. [clap clap clap] And I feel sure that the merger-- er, the union between the Princess and the brave, but dangerous, Sir Launcelot of Camelot--\\nLAUNCELOT: What?\\nGUEST #2: Look!  The dead Prince!\\nGUESTS: Oooh!  The dead Prince!\\nCONCORDE: He's not quite dead.\\nHERBERT: No, I feel much better.\\nFATHER: You fell out of the Tall Tower, you creep!\\nHERBERT: No, I was saved at the last minute.\\nFATHER: How?!\\nHERBERT: Well, I'll tell you. [music] \\nFATHER: Not like that!  Not like that!  No!  Stop it!\\nGUESTS: [singing] He's going to tell!  He's going to tell! ...\\nFATHER: Shut uuup!\\nGUESTS: [singing] He's going to tell! ...\\nFATHER: Shut up!\\nGUESTS: [singing] He's going to tell! ...\\nFATHER: Shut up!\\nGUESTS: [singing] He's going to tell! ...\\nFATHER: Not like that!\\nGUESTS: [singing] He's going to tell!  He's going to tell!  He's going to tell!  He's going to tell! ...\\nCONCORDE: Quickly, sir!\\nGUESTS: [singing] He's going to tell! ...\\nCONCORDE: Come this way!\\nGUESTS: [singing] He's going to tell!  He's going to tell! ...\\nLAUNCELOT: No!  It's not right for my idiom!\\nGUESTS: [singing] He's going to tell about his great escape...\\nLAUNCELOT: I must escape more...  [sigh] \\nGUESTS: [singing] Oh, he fell a long, long way...\\nCONCORDE: Dramatically, sir?\\nLAUNCELOT: Dramatically!\\nGUESTS: [singing] But he's here with us today...\\nLAUNCELOT: Heee!  Hoa! [crash] Hoo!\\nGUESTS: [singing] What a wonderful escape!\\nLAUNCELOT: Excuse me.  Could, uh-- could somebody give me a push, please\\nSCENE 18: [King Arthur music] [clop clop clop] [rewr!  rewr!  rewr!  rewr!  rewr!  rewr!] \\nARTHUR: Old crone! [rewr!] [music stops] Is there anywhere in this town where we could buy a shrubbery? [dramatic chord] \\nOLD CRONE: Who sent you?\\nARTHUR: The Knights Who Say 'Ni'.\\nCRONE: Aggh!  No!  Never!  We have no shrubberies here.\\nARTHUR: If you do not tell us where we can buy a shrubbery, my friend and I will say...  we will say...  'ni'.\\nCRONE: Agh!  Do your worst!\\nARTHUR: Very well!  If you will not assist us voluntarily, ...  ni!\\nCRONE: No!  Never!  No shrubberies!\\nARTHUR: Ni!\\nCRONE: [cough] \\nBEDEVERE: Nu!\\nARTHUR: No, no, no, no...\\nBEDEVERE: Nu!\\nARTHUR: No, it's not that, it's 'ni'.\\nBEDEVERE: Nu!\\nARTHUR: No, no-- 'ni'.  You're not doing it properly.  No.\\nBEDEVERE: Ni!\\nARTHUR and BEDEVERE: Ni!\\nARTHUR: That's it.  That's it.  You've got it.\\nARTHUR and BEDEVERE: Ni!\\nCRONE: Ohh!\\nBEDEVERE: Ni!\\nARTHUR: Ni!\\nCRONE: Agh!\\nBEDEVERE: Ni!\\nARTHUR: Ni!\\nBEDEVERE: Ni!\\nARTHUR: Ni!\\nBEDEVERE: Ni!\\nROGER THE SHRUBBER: Are you saying 'ni' to that old woman?\\nARTHUR: Erm, yes.\\nROGER: Oh, what sad times are these when passing ruffians can 'ni' at will to old ladies.  There is a pestilence upon this land.  Nothing is sacred. Even those who arrange and design shrubberies are under considerable economic stress at this period in history.\\nARTHUR: Did you say 'shrubberies'?\\nROGER: Yes.  Shrubberies are my trade.  I am a shrubber.  My name is Roger the Shrubber.  I arrange, design, and sell shrubberies.\\nBEDEVERE: Ni!\\nARTHUR: No!  No, no, no!  No\\nSCENE 19:\\nARTHUR: O Knights of Ni, we have brought you your shrubbery.  May we go now?\\nHEAD KNIGHT: It is a good shrubbery.  I like the laurels particularly.  But there is one small problem.\\nARTHUR: What is that?\\nHEAD KNIGHT: We are now...  no longer the Knights Who Say 'Ni'.\\nKNIGHTS OF NI: Ni!  Shh!\\nHEAD KNIGHT: Shh!  We are now the Knights Who Say 'Ecky-ecky-ecky-ecky-pikang-zoop-boing-goodem-zoo-owli-zhiv'.\\nRANDOM: Ni!\\nHEAD KNIGHT: Therefore, we must give you a test.\\nARTHUR: What is this test, O Knights of-- Knights Who 'Til Recently Said 'Ni'?\\nHEAD KNIGHT: Firstly, you must find...  another shrubbery! [dramatic chord] \\nARTHUR: Not another shrubbery!\\nRANDOM: Ni!\\nHEAD KNIGHT: Then, when you have found the shrubbery, you must place it here beside this shrubbery, only slightly higher so you get the two-level effect with a little path running down the middle.\\nKNIGHTS OF NI: A path!  A path!  A path!  Ni!  Shh!  Ni!  Ni!  Ni!  Shh!  Shh! ...\\nHEAD KNIGHT: Then, when you have found the shrubbery, you must cut down the mightiest tree in the forest...  with...  a herring! [dramatic chord] \\nARTHUR: We shall do no such thing!\\nHEAD KNIGHT: Oh, please!\\nARTHUR: Cut down a tree with a herring?  It can't be done.\\nKNIGHTS OF NI: Aaaugh!  Aaaugh!\\nHEAD KNIGHT: Augh!  Ohh!  Don't say that word.\\nARTHUR: What word?\\nHEAD KNIGHT: I cannot tell, suffice to say is one of the words the Knights of Ni cannot hear.\\nARTHUR: How can we not say the word if you don't tell us what it is?\\nKNIGHTS OF NI: Aaaaugh!\\nHEAD KNIGHT: You said it again!\\nARTHUR: What, 'is'?\\nKNIGHTS OF NI: Agh!  No, not 'is'.\\nHEAD KNIGHT: No, not 'is'.  You wouldn't get vary far in life not saying 'is'.\\nKNIGHTS OF NI: No, not 'is'.  Not 'is'.\\nBEDEVERE: My liege, it's Sir Robin!\\nMINSTREL: [singing] Packing it in and packing it up, And sneaking away and buggering up, And chickening out and pissing off home, Yes, bravely he is throwing in the sponge.\\nARTHUR: Sir Robin!\\nROBIN: My liege!  It's good to see you.\\nHEAD KNIGHT: Now he's said the word!  \\nARTHUR: Surely you've not given up your quest for the Holy Grail?\\nMINSTREL: [singing] He is sneaking away and buggering up--\\nROBIN: Shut up!  No, no.  No.  Far from it.\\nHEAD KNIGHT: He said the word again!\\nKNIGHTS OF NI: Aaaaugh!\\nROBIN: I was looking for it.\\nKNIGHTS OF NI: Aaaaugh!\\nROBIN: Uh, here-- here in this forest.\\nARTHUR: No, it is far from this place.\\nKNIGHTS OF NI: Aaaaugh!\\nHEAD KNIGHT: Aaaaugh!  Stop saying the word!  The word...\\nARTHUR: Oh, stop it!\\nKNIGHTS OF NI: ... we cannot hear!\\nHEAD KNIGHT: Ow!  He said it again!\\nARTHUR: Patsy!\\nHEAD KNIGHT: Wait!  I said it!  I said it! [clop clop clop] Ooh!  I said it again!  And there again!  That's three 'it's!  Ohh!\\nKNIGHTS OF NI: Aaaaugh\\nNARRATOR: And so, Arthur and Bedevere and Sir Robin set out on their search to find the enchanter of whom the old man had spoken in scene twenty-four.  Beyond the forest they met Launcelot and Galahad, and there was much rejoicing.\\nKNIGHTS: Yay!  Yay! [woosh] \\nNARRATOR: In the frozen land of Nador, they were forced to eat Robin's minstrels.\\nMINSTREL: [high-pitched] Get back!  Eee!\\nNARRATOR: And there was much rejoicing.\\nKNIGHTS: Yay!\\nNARRATOR: A year passed.\\nCARTOON CHARACTER: [shivering] \\nNARRATOR: Winter changed into Spring.\\nCARTOON CHARACTER: Mmm, nice.\\nNARRATOR: Spring changed into Summer.\\nCARTOON CHARACTER: Oh.  Ahh.\\nNARRATOR: Summer changed back into Winter.\\nCARTOON CHARACTER: Oh?\\nNARRATOR: And Winter gave Spring and Summer a miss and went straight on into Autumn.\\nCARTOON CHARACTER: Aah. [snap] Oh!  Waa!\\nNARRATOR: Until one day..\\nSCENE 20: [King Arthur music] [clop clop clop] [music stops] [boom] \\nKNIGHTS: Eh.  Oh.  See it?  Oh.  Oh.\\nARTHUR: Knights!  Forward! [boom boom boom boom boom] [squeak] [boom boom boom boom] What manner of man are you that can summon up fire without flint or tinder?\\nTIM THE ENCHANTER: I...  am an enchanter.\\nARTHUR: By what name are you known?\\nTIM: There are some who call me...  Tim?\\nARTHUR: Greetings, Tim the Enchanter.\\nTIM: Greetings, King Arthur!\\nARTHUR: You know my name?\\nTIM: I do. [zoosh] You seek the Holy Grail!\\nARTHUR: That is our quest.  You know much that is hidden, O Tim.\\nTIM: Quite. [pweeng boom] [clap clap clap] \\nROBIN: Oh.\\nARTHUR: Yes, we're-- we're looking for the Holy Grail.  Our quest is to find the Holy Grail.\\nKNIGHTS: Yeah.  Yes.  It is.  It is.  Yeah.  Yup.  Yup.  Hm.\\nARTHUR: And so we're-- we're-- we're-- we're looking for it.\\nBEDEVERE: Yes, we are.\\nGALAHAD: Yeah.  \\nROBIN: We are.  We are.\\nBEDEVERE: We have been for some time.\\nROBIN: Ages.\\nBEDEVERE: Umhm.\\nARTHUR: Uh-- uh, so, uh, anything that you could do to, uh-- to help, would be...  very...  helpful.\\nGALAHAD: Look, can you tell us where-- [boom] \\nARTHUR: Fine.  Um, I don't want to waste any more of your time, but, uh, I don't suppose you could, uh, tell us where we might find a, um-- find a, uh-- a, um-- a, uh--\\nTIM: A what...?\\nARTHUR: A g-- a-- a g-- a g-- a-- a g--\\nTIM: A grail?!\\nARTHUR: Yes, I think so.\\nROBIN: Y-- y-- yes.\\nARTHUR: Yes.\\nGALAHAD: Yup.\\nKNIGHTS: That's it...\\nTIM: Yes!\\nROBIN: Oh.\\nARTHUR: Oh.  Thank you.\\nROBIN: Ahh.\\nGALAHAD: Oh.  Fine.\\nARTHUR: Thank you.\\nROBIN: Splendid.\\nKNIGHTS: Aah... [boom pweeng boom boom] \\nARTHUR: Look, um, you're a busy man, uh--\\nTIM: Yes, I can help you find the Holy Grail.\\nKNIGHTS: Oh, thank you.  Oh...\\nTIM: To the north there lies a cave-- the cave of Caerbannog-- wherein, carved in mystic runes upon the very living rock, the last words of Olfin Bedwere of Rheged... [boom] ... make plain the last resting place of the most Holy Grail.\\nARTHUR: Where could we find this cave, O Tim?\\nTIM: Follow.  But!  Follow only if ye be men of valor, for the entrance to this cave is guarded by a creature so foul, so cruel that no man yet has fought with it and lived!  Bones of full fifty men lie strewn about its lair.  So, brave knights, if you do doubt your courage or your strength, come no further, for death awaits you all with nasty, big, pointy teeth.\\nARTHUR: What an eccentric performance\\nSCENE 21: [clop clop clop] [whinny whinny] \\nGALAHAD: They're nervous, sire.\\nARTHUR: Then we'd best leave them here and carry on on foot.  Dis-mount!\\nTIM: Behold the cave of Caerbannog!\\nARTHUR: Right!  Keep me covered.\\nGALAHAD: What with?\\nARTHUR: W-- just keep me covered.\\nTIM: Too late! [dramatic chord] \\nARTHUR: What?\\nTIM: There he is!\\nARTHUR: Where?\\nTIM: There!\\nARTHUR: What, behind the rabbit?\\nTIM: It is the rabbit!\\nARTHUR: You silly sod!\\nTIM: What?\\nARTHUR: You got us all worked up!\\nTIM: Well, that's no ordinary rabbit.\\nARTHUR: Ohh.\\nTIM: That's the most foul, cruel, and bad-tempered rodent you ever set eyes on.\\nROBIN: You tit!  I soiled my armor I was so scared!\\nTIM: Look, that rabbit's got a vicious streak a mile wide; it's a killer!\\nGALAHAD: Get stuffed!\\nTIM: He'll do you up a treat mate!\\nGALAHAD: Oh, yeah?\\nROBIN: You mangy scots git!\\nTIM: I'm warning you!\\nROBIN: What's he do, nibble your bum?\\nTIM: He's got huge, sharp-- eh-- he can leap about-- look at the bones!\\nARTHUR: Go on, Bors.  Chop his head off!\\nBORS: Right!  Silly little bleeder.  One rabbit stew comin' right up!\\nTIM: Look! [squeak] \\nBORS: Aaaugh! [dramatic chord] [clunk] \\nARTHUR: Jesus Christ!\\nTIM: I warned you!\\nROBIN: I done it again!\\nTIM: I warned you, but did you listen to me?  Oh, no, you knew it all, didn't you?  Oh, it's just a harmless little bunny, isn't it?  Well, it's always the same.  I always tell them--\\nARTHUR: Oh, shut up!\\nTIM: Do they listen to me?\\nARTHUR: Right!\\nTIM: Oh, no...\\nKNIGHTS: Charge! [squeak squeak squeak] \\nKNIGHTS: Aaaaugh!, Aaaugh!, etc.\\nARTHUR: Run away!  Run away!\\nKNIGHTS: Run away!  Run away! ...\\nTIM: Ha ha ha ha!  Ha haw haw!  Ha!  Ha ha!\\nARTHUR: Right.  How many did we lose?\\nLAUNCELOT: Gawain.\\nGALAHAD: Ector.\\nARTHUR: And Bors.  That's five.\\nGALAHAD: Three, sir.\\nARTHUR: Three.  Three.  And we'd better not risk another frontal assault.  That rabbit's dynamite.\\nROBIN: Would it help to confuse it if we run away more?\\nARTHUR: Oh, shut up and go and change your armor.\\nGALAHAD: Let us taunt it!  It may become so cross that it will make a mistake.\\nARTHUR: Like what?\\nGALAHAD: Well...  ooh.\\nLAUNCELOT: Have we got bows?\\nARTHUR: No.\\nLAUNCELOT: We have the Holy Hand Grenade.\\nARTHUR: Yes, of course!  The Holy Hand Grenade of Antioch!  'Tis one of the sacred relics Brother Maynard carries with him!  Brother Maynard!  Bring up the Holy Hand Grenade!\\nMONKS: [chanting] Pie Iesu domine, dona eis requiem.  Pie Iesu domine, donaeis requiem.  Pie Iesu domine, dona eis requiem.  Pie Iesu domine, dona eisrequiem.\\nARTHUR: How does it, um-- how does it work?\\nLAUNCELOT: I know not, my liege.\\nARTHUR: Consult the Book of Armaments!\\nBROTHER MAYNARD: Armaments, Chapter Two, verses Nine to Twenty-one.\\nSECOND BROTHER: And Saint Attila raised the hand grenade up on high, saying,'O Lord, bless this thy hand grenade that with it thou mayest blow thine enemies to tiny bits, in thy mercy.' And the Lord did grin, and the people did feast upon the lambs and sloths and carp and anchovies and orangutans and breakfast cereals and fruit bats and large chu--\\nMAYNARD: Skip a bit, Brother.\\nSECOND BROTHER: And the Lord spake, saying, 'First shalt thou take out the Holy Pin.  Then, shalt thou count to three, no more, no less.  Three shalt be the number thou shalt count, and the number of the counting shall be three.  Four shalt thou not count, nor either count thou two, excepting that thou then proceed to three.  Five is right out.  Once the number three, being the third number, be reached, then lobbest thou thy Holy Hand Grenade of Antioch towards thy foe, who, being naughty in my sight, shall snuff it.'\\nMAYNARD: Amen.\\nKNIGHTS: Amen.\\nARTHUR: Right!  One...  two...  five!\\nGALAHAD: Three, sir!\\nARTHUR: Three! [angels sing] [boom] \\nSCENE 22:\\nARTHUR: There!  Look!\\nLAUNCELOT: What does it say?\\nGALAHAD: What language is that?\\nARTHUR: Brother Maynard!  You are a scholar.\\nMAYNARD: It's Aramaic!\\nGALAHAD: Of course!  Joseph of Arimathea!\\nLAUNCELOT: 'Course!\\nARTHUR: What does it say?\\nMAYNARD: It reads, 'Here may be found the last words of Joseph of Arimathea.  He who is valiant and pure of spirit may find the Holy Grail in the Castle of uuggggggh'.\\nARTHUR: What?\\nMAYNARD: '...  the Castle of uuggggggh'.\\nBEDEVERE: What is that?\\nMAYNARD: He must have died while carving it.\\nLAUNCELOT: Oh, come on!\\nMAYNARD: Well, that's what it says.\\nARTHUR: Look, if he was dying, he wouldn't bother to carve 'aaggggh'.  He'd just say it!\\nMAYNARD: Well, that's what's carved in the rock!\\nGALAHAD: Perhaps he was dictating.\\nARTHUR: Oh, shut up.  Well, does it say anything else?\\nMAYNARD: No.  Just, 'uuggggggh'.\\nLAUNCELOT: Aauuggghhh.\\nARTHUR: Aaauggh.\\nBEDEVERE: Do you suppose he meant the Camaaaaaargue?\\nGALAHAD: Where's that?\\nBEDEVERE: France, I think.\\nLAUNCELOT: Isn't there a Saint Aauuuves in Cornwall?\\nARTHUR: No, that's Saint Ives.\\nLAUNCELOT: Oh, yes.  Saint Iiiives.\\nKNIGHTS: Iiiiives.\\nBEDEVERE: Oooohoohohooo!\\nLAUNCELOT: No, no.  'Aauuuuugh', at the back of the throat.  Aauuugh.\\nBEDEVERE: N-- no.  No, no, no, no.  'Oooooooh', in surprise and alarm.\\nLAUNCELOT: Oh, you mean sort of a 'aaaah'!\\nBEDEVERE: Yes, but I-- aaaaaah!\\nARTHUR: Oooh!\\nGALAHAD: My God! [dramatic chord] [roar] \\nMAYNARD: It's the legendary Black Beast of Aaauugh! [Black Beast of Aaauugh eats BROTHER MAYNARD] \\nBEDEVERE: That's it!  That's it!\\nARTHUR: Run away!\\nKNIGHTS: Run away! [roar] Run away!  Run awaaay!  Run awaaaaay! [roar] Keep running! [boom] [roar] Shh!  Shh!  Shh!  Shh!  Shh!  Shh!  Shh!  Shh! ...\\nBEDEVERE: We've lost him. [roar] \\nKNIGHTS: Aagh!\\nNARRATOR: As the horrendous Black Beast lunged forward, escape for Arthur and his knights seemed hopeless, when suddenly, the animator suffered a fatal heart attack.\\nANIMATOR: Ulk! [thump] \\nNARRATOR: The cartoon peril was no more.  The quest for Holy Grail could continue.\\nSCENE 23: [gurgle] \\nGALAHAD: There it is!\\nARTHUR: The Bridge of Death!\\nROBIN: Oh, great.\\nARTHUR: Look!  There's the old man from scene twenty-four!\\nBEDEVERE: What is he doing here?\\nARTHUR: He is the keeper of the Bridge of Death.  He asks each traveller five questions--\\nGALAHAD: Three questions.\\nARTHUR: Three questions.  He who answers the five questions--\\nGALAHAD: Three questions.\\nARTHUR: Three questions may cross in safety.\\nROBIN: What if you get a question wrong?\\nARTHUR: Then you are cast into the Gorge of Eternal Peril.\\nROBIN: Oh, I won't go.\\nGALAHAD: Who's going to answer the questions?\\nARTHUR: Sir Robin!\\nROBIN: Yes?\\nARTHUR: Brave Sir Robin, you go.\\nROBIN: Hey!  I've got a great idea.  Why doesn't Launcelot go?\\nLAUNCELOT: Yes.  Let me go, my liege.  I will take him single-handed.  I shall make a feint to the north-east that s--\\nARTHUR: No, no.  No.  Hang on!  Hang on!  Hang on!  Just answer the five questions--\\nGALAHAD: Three questions.\\nARTHUR: Three questions as best you can.  And we shall watch...  and pray.\\nLAUNCELOT: I understand, my liege.\\nARTHUR: Good luck, brave Sir Launcelot.  God be with you.\\nBRIDGEKEEPER: Stop!  Who would cross the Bridge of Death must answer me these questions three, ere the other side he see.\\nLAUNCELOT: Ask me the questions, bridgekeeper.  I am not afraid.\\nBRIDGEKEEPER: What is your name?\\nLAUNCELOT: My name is Sir Launcelot of Camelot.\\nBRIDGEKEEPER: What is your quest?\\nLAUNCELOT: To seek the Holy Grail.\\nBRIDGEKEEPER: What is your favorite color?\\nLAUNCELOT: Blue.\\nBRIDGEKEEPER: Right.  Off you go.\\nLAUNCELOT: Oh, thank you.  Thank you very much.\\nROBIN: That's easy!\\nBRIDGEKEEPER: Stop!  Who approacheth the Bridge of Death must answer me these questions three, ere the other side he see.\\nROBIN: Ask me the questions, bridgekeeper.  I'm not afraid.\\nBRIDGEKEEPER: What is your name?\\nROBIN: Sir Robin of Camelot.\\nBRIDGEKEEPER: What is your quest?\\nROBIN: To seek the Holy Grail.\\nBRIDGEKEEPER: What is the capital of Assyria?\\nROBIN: I don't know that!  Auuuuuuuugh!\\nBRIDGEKEEPER: Stop!  What is your name?\\nGALAHAD: Sir Galahad of Camelot.\\nBRIDGEKEEPER: What is your quest?\\nGALAHAD: I seek the Grail.\\nBRIDGEKEEPER: What is your favorite color?\\nGALAHAD: Blue.  No yel-- auuuuuuuugh!\\nBRIDGEKEEPER: Hee hee heh.  Stop!  What is your name?\\nARTHUR: It is Arthur, King of the Britons.\\nBRIDGEKEEPER: What is your quest?\\nARTHUR: To seek the Holy Grail.\\nBRIDGEKEEPER: What is the air-speed velocity of an unladen swallow?\\nARTHUR: What do you mean?  An African or European swallow?\\nBRIDGEKEEPER: Huh?  I-- I don't know that!  Auuuuuuuugh!\\nBEDEVERE: How do know so much about swallows?\\nARTHUR: Well, you have to know these things when you're a king, you know. [suspenseful music] [music suddenly stops] [intermission] [suspenseful music resumes]\\nSCENE 24:\\nARTHUR: Launcelot!  Launcelot!  Launcelot!\\nBEDEVERE: Launcelot!  Launcelot!\\nARTHUR: Launcelot! [police radio] Launcelot!\\nBEDEVERE: Launcelot!  Launcelot! [angels sing] [singing stops] [ethereal music] \\nARTHUR: The Castle Aaagh.  Our quest is at an end!  God be praised!  Almighty God, we thank Thee that Thou hast vouchsafed to us the most holy-- [twong] [baaaa] Jesus Christ! [thud] \\nFRENCH GUARD: Allo, dappy English k-niggets and Monsieur Arthur King, who has the brain of a duck, you know.  So, we French fellows outwit you a second time!\\nARTHUR: How dare you profane this place with your presence!  I command you, in the name of the Knights of Camelot, to open the doors of this sacred castle, to which God Himself has guided us!\\nFRENCH GUARD: How you English say, 'I one more time, mac, unclog my nose in your direction', sons of a window-dresser!  So, you think you could out-clever us French folk with your silly knees-bent running about advancing behaviour?!  I wave my private parts at your aunties, you cheesy lot of second hand electric donkey-bottom biters.\\nARTHUR: In the name of the Lord, we demand entrance to this sacred castle!\\nFRENCH GUARD: No chance, English bed-wetting types.  I burst my pimples at you and call your door-opening request a silly thing, you tiny-brained wipers of other people's bottoms!\\nARTHUR: If you do not open this door, we shall take this castle by force! [splat] In the name of God and the glory of our-- [splat] \\nFRENCH GUARDS: [laughing] \\nARTHUR: Agh.  Right!  That settles it!\\nFRENCH GUARD: Yes, depart a lot at this time, and cut the approaching any more or we fire arrows at the tops of your heads and make castanets out of your testicles already!  Ha ha haaa ha!\\nARTHUR: Walk away.  Just ignore them.\\nFRENCH GUARD: And now, remain gone, illegitimate-faced bugger-folk!  And, if you think you got a nasty taunting this time, you ain't heard nothing yet, dappy English k-nnniggets!  Thpppt!\\nFRENCH GUARDS: [taunting] \\nARTHUR: We shall attack at once!\\nBEDEVERE: Yes, my liege!\\nARTHUR: Stand by for attack! [exciting music] [music stops] [silence] French persons!\\nFRENCH GUARDS: [taunting] ... Dappy! ...\\nARTHUR: Today the blood of many a valiant knight shall be avenged.  In the name of God, ...\\nFRENCH GUARDS: Hoo hoo!  Ohh, ha ha ha ha ha! ...\\nARTHUR: ... we shall not stop our fight 'til each one of you lies dead, and the Holy Grail returns to those whom God has chosen!\\nFRENCH GUARDS: ... Ha ha ha! ...\\nARTHUR: Charge!\\nARMY OF KNIGHTS: Hooray! [police siren] \\nHISTORIAN'S WIFE: Yes.  They're the ones.  I'm sure.\\nINSPECTOR: Come on.  Anybody armed must go too.\\nOFFICER #1: All right.  Come on.  Back.\\nHISTORIAN'S WIFE: Get that one.\\nOFFICER #1: Back.  Right away.  Just...  pull it off.  Come on.  Come along.\\nINSPECTOR: Put this man in the van.\\nOFFICER #1: Clear off.  Come on.\\nBEDEVERE: With whom?\\nINSPECTOR: Which one?\\nOFFICER #1: Oh-- this one.\\nINSPECTOR: Come on.  Put him in the van.\\nOFFICER #2: Get a blanket.\\nOFFICER #1: We have no hospital.\\nRANDOM: Ahh. [squeak] \\nRANDOM: Ooh.\\nOFFICER #1: Come on.  Back.  Riiight back.  Come on!\\nOFFICER #2: Run along!  Run along!\\nOFFICER #1: Pull that off.  My, that's an offensive weapon, that is.\\nOFFICER #2: Come on.  Back with 'em.  Back.  Right.  Come along.\\nINSPECTOR: Everything? [squeak] \\nOFFICER #1: All right, sonny.  That's enough.  Just pack that in. [crash] \\nCAMERAMAN: Christ!\\n\""
      ]
     },
     "execution_count": 12,
     "metadata": {},
     "output_type": "execute_result"
    }
   ],
   "source": [
    "scene_one"
   ]
  },
  {
   "cell_type": "code",
   "execution_count": 13,
   "id": "a1e27b25",
   "metadata": {},
   "outputs": [
    {
     "name": "stdout",
     "output_type": "stream",
     "text": [
      "{'Are', 'dungeon', 'Lucky', 'being', '...', 'king-a', 'Really', 'rock', 'imperialist', 'indefatigable', 'fire', 'sure', 'Explain', 'into', 'sweet', 'somewhere', 'many', 'things', 'Other', 'Now', 'wood', 'Pendragon', 'rocks', 'oooh', 'wicked', 'three', 'brunettes', 's', 'clank', 'mightiest', 'apologise', 'snows', 'thud', 'place', 'than', 'perilous', 'show', 'about', 'Anarcho-syndicalism', 'outrageous', 'pulp', 'Herbert', 'great', 'rest', 'Those', 'nasty', 'bosom', 'one', 'year', 'Aramaic', 'forest', 'imprisoned', 'Sorry', 'Auuuuuuuugh', 'Hiyaah', 'Greetings', 'tired', 'necessary', 'Umhm', 'name', 'said', 'well', 'Guards', 'bridges', 'Hmm', 'lair', '11', 'afoot', 'move', 'distress', 'majority', '2', 'plain', 'fold', 'Ask', 'retold', 'WITCH', 'Welcome', 'help', 'guards', 'string', 'grips', 'wedding', 'castanets', 'fight', 'private', 'Olfin', 'anyway', 'tart', 'sniff', 'quiet', 'resumes', 'body', 'time', 'cough', 'terribly', 'used', 'Heee', 'Fine', 'bottom', 'get', 'matter', 'straight', 'same', 'police', 'Holy', 'if', 'CRAPPER', 'ehh', 'ruffians', 'his', 'verses', 'strategy', 'earthquakes', 'finest', 'jump', 'sod', 'Aaaah', 'blanket', 'ratios', 'bang', 'hee', 'Robinson', 'Aaah', 'Too', 'Thursday', 'easy', 'doubt', 'sorry', 'dressed', 'when', 'kneecaps', 'temptation', 'clue', 'then', 'Apples', 'tonight', 'Man', 'wayy', 'for', 'Woa', 'moment', 'SENTRY', 'Am', 'successful', 'afraid', 'cave', 'WIFE', \"'round\", 'turns', 'distributing', 'their', 'snore', 'safety', 'Aah', 'sister', 'uh', 'inferior', 'Practice', 'line', 'lived', 'meeting', 'he', 'Iiiiives', 'hospital', 'dogma', 'nobody', 'LEFT', 'Hurry', 'large', 'git', 'how', 'Gable', 'Far', 'setting', 'tiny', 'THE', 'Picture', 'Shrubberies', 'shows', 'Ay', 'buy', 'settles', \"'is\", 'creature', 'wound', 'minute', 'find', 'ridden', 'horn', 'shelter', 'yours', 'having', 'knight', 'Message', 'horse', 'occasion', 'entering', 'ham', 'still', 'Today', 'particularly', 'masses', 'differences', 'aside', 'arrange', 'Action', '9', 'holy', 'sank', 'my', 'PATSY', 'far', 'high-pitched', 'Eternal', 'understanding', 'warmer', 'KNIGHTS', 'sneaking', 'country', 'went', 'seems', 'Stay', 'Like', 'daughter', 'Five', 'use', 'Winston', 'between', 'nervous', 'Do', 'signifying', 'burn', 'look', 'Oooo', 'gurgle', '!', 'There', 'pussy', 'Aaauugh', 'talk', 'too', 'legs', \"'\", 'On', 'surprise', 'Ayy', 'pestilence', 'eh', 'Hoa', 'Prince', 'thine', 'animal', 'looked', 'smashing', 'try', 'Most', 'clllank', 'taken', 'sawwwww', 'path', 'witness', 'long', 'lapin', 'icy', 'With', 'able', 'hamster', 'bells', 'Recently', 'averting', 'table', 'repressing', 'Halt', 'Uh', 'Old', 'swallow', 'van', 'history', 'carving', 'Will', 'quick', 'Sir', 'dare', 'act', 'live', 'finds', 'expect', 'way', 'Prepare', 'vicious', 'j', 'knights', 'towards', 'na', 'ROBIN', 'your', 'foot', 'previous', 'rodent', 'war', 'lost', 'formidable', 'Un', 'BROTHER', 'busy', 'Looks', 'A', 'properly', \"'Oooooooh\", 'siren', 'another', 'cruel', 'high', 'Thpppt', \"'forgive\", \"'re\", 'vote', 'mer', 'threw', 'found', 'cost', 'shrubber', 'air-speed', 'HEADS', 'heads', 'legendary', 'Remove', 'domine', 'Firstly', 'Court', \"'ni\", 'k-nnniggets', 'carries', 'Once', 'trumpets', 'Good', 'Cornwall', 'knock', 'They', 'trade', 'week', 'largest', 'person', 'indeed', 'You', 'islands', 'dancing', 'vary', 'strongest', 'follow', 'Chapter', 'aquatic', 'forget', 'BRIDE', 'AMAZING', 'For', 'go', 'a', ';', 'Found', 'ferocity', 'rabbit', 'agree', 'Hold', 'Tower', 'Huyah', 'broken', 'our', 'Ow', 'dictatorship', 'strand', 'color', 'seem', 'looking', 'why', 'ere', 'eet', 'work', 'himself', 'eight', 'got', \"'Ni\", 'mandate', 'soft', 'Hic', 'ZOOT', 'electric', 'fallen', 'creak', 'beside', 'Aagh', \"'aaaah\", 'took', 'grenade', 'draw', 'tough', 'tell', 'are', 'problems', '18', 'woman', 'lord', 'gone', 'coconut', 'Put', 'binding', 'Pie', 'As', 'drink', 'because', 'behind', 'twin', 'put', 'Monsieur', 'vests', \"'old\", 'pimples', 'gra', 'breath', 'Dappy', 'protect', 'CUSTOMER', 'tracts', 'fly', 'types-a', 'stayed', 'feel', 'pause', 'any', 'Running', 'Aaagh', 'maintain', 'earth', 'hundred-and-fifty', 'autonomous', 'cope', 'sort', 'Wait', 'scots', 'stood', 'stand', 'Enchanter', 'SCENE', 'happens', 'him', 'eats', 'Torment', 'two-level', 'Aaaugh', 'handle', 'need', 'under', '#', \"'d\", 'suffice', 'blessing', 'absolutely', 'B', 'coconuts', 'certainly', 'point', 'society', 'Great', 'purest', 'sloths', 'ai', 'WOMAN', 'Pull', 'Burn', 'changed', 'all', 'formed', 'awaaay', 'therefore', 'chorus', 'whop', 'saw', 'Ages', 'spirit', 'sheep', 'MAYNARD', 'Oooh', 'make', 'logically', 'sir', 'spank', 'Over', 'Tale', 'spam', 'badger', 'Clark', 'strange', 'Hooray', 'And', 'Forward', 'Run', 'words', '19', 'doctors', 'third', 'false', 'Seek', 'bi-weekly', 'k-nnnnniggets', 'single-handed', 'lads', 'identical', 'Nu', 'call', 'can', 'perpetuates', 'Tell', 'sample', 'Britons', 'her', 'magne', 'scarper', 'least', 'Dennis', 'mean', 'twong', 'scott', 'supposed', 'merger', 'with', 'tap-dancing', 'Peng', 'voluntarily', 'presence', 'Quickly', 'dorsal', 'types', 'see', 'order', 'also', 'passing', 'assist', 'Tall', 'hast', 'stab', 'Hey', '24', 'strength', 'wave', 'His', 'committed', 'la', \"'cause\", 'running', 'Thpppppt', 'king', 'known', 'clang', 'nightfall', 'weapon', 'reads', 'night', 'wipers', 'explain', 'Speak', 'court', 'BRIDGEKEEPER', 'such', 'MIDGET', 'bois', 'Shut', 'Said', '13', 'mother', 'Dingo', 'sigh', 'system', 'lovely', 'scimitar', 'band', 'nor', 'Cut', 'yeah', \"'it\", 'Spring', 'Perhaps', 'Ulk', 'joyful', 'wrong', 'medical', 'Shh', 'Off', 'let', 'lobbest', 'knew', 'die', 'waste', 'very', 'miserable', 'guiding', '--', 'mangled', 'wonderful', 'LAUNCELOT', 'forty-three', 'ENCHANTER', 'dress', 'request', 'vain', 'Churches', 'luck', 'second', 'Just', 'Meanwhile', 'Shall', 'Could', 'better', 'seldom', 'later', 'silence', 'pure', 'ride', 'Guy', 'purely', 'Summer', 'sad', 'window-dresser', 'less', 'going', 'Lead', 'um', 'basis', 'taunting', 'considerable', 'OTHER', 'TIM', 'these', 'headed', '1', 'apart', 'bint', 'bravest', 'accompanied', 'pay', 'hat', 'clack', 'yourself', 'brought', 'Aauuuves', 'basic', 'around', 'whom', 'run', 'attend', 'Beyond', 'lose', \"'Man\", 'against', 'wait', 'clad', 'weighs', 'Aaaaaaaah', 'answer', 'soiled', '7', 'suddenly', 'dappy', 'throwing', 'This', 'visually', 'yet', 'couple', 'spooky', 'radio', 'Hello', 'made', 'unplugged', '10', 'Build', 'aptly', 'empty', 'stops', 'Where', 'Swamp', 'did', 'birds', 'freedom', 'wounding', 'sink', 'carved', 'end', 'totally', 'change', 'clap', 'PRINCESS', 'union', 'beyond', 'One', 'problem', \"'aaggggh\", 'Steady', 'power', 'undressing', 'by', 'lying', 'bet', 'foul', 'writing', 'upon', 'sharp', 'nick', 'round', 'somebody', 'emperor', 'other', 'Providence', 'started', 'U', 'internal', 'face', 'Oooohoohohooo', 'gentle', 'easily', 'wart', 'Riiight', 'nearly', 'tit', 'ANIMATOR', 'scribble', 'Everything', 'alight', 'alive', 'discovers', 'must', 'heroic', 'an', 'aunties', 'BEDEVERE', 'dynamite', 'Knights', 'valleys', 'Hiyah', 'hello', 'present', 'keeper', 'learning', 'ethereal', 'asking', 'approaching', 'girl', 'without', 'She', 'kings', 'travellers', 'derives', 'bed-wetting', 'wet', 'Piglet', 'Badon', 'walk', 'appease', 'fatal', 'Loimbard', 'ours', 'Beast', 'some', 'ni', 'Exactly', 'forth', 'breadth', 'Amen', 'lunged', 'repressed', 'breakfast', 'bunny', 'full', 'Unfortunately', 'inherent', 'young', 'Of', 'bleed', 'yes', 'weight', 'Ewing', 'knows', 'worse', 'Ector', 'flights', 'hang', 'bugger-folk', 'curtains', 'e', 'vouchsafed', 'sequin', 'scales', 'Actually', 'fought', 'bid', 'coming', 'inside', 'bats', 'sacrifice', 'Therefore', 'excuse', \"'shrubberies\", 'clunk', 'required', 'ill.', 'outdated', 'covered', 'forward', 'parts', 'wherein', 'blow', 'What', 'send', 'Pin', 'Aaaaugh', 'completely', 'chest', 'Victory', 'saying', 'bows', 'whispering', 'mystic', 'Ahh', 'might', 'Try', 'near', 'again', 'Aaaaaah', 'lambs', 'quack', 'Let', 'Does', 'old', 'bladders', 'Nador', 'kill', 'argue', 'Who', 'model', 'Anthrax', 'dark', 'cut', 'Three', 'cop', 'that', \"'Here\", 'tinder', 'grail-shaped', 'mooo', 'dub', 'SUN', \"'Dennis\", '16', 'split', 'Surely', 'each', 'halves', 'force', 'do', 'Fetchez', 'fwump', 'chickened', 'Hang', \"'Morning\", 'dead', 'defeator', 'relax', 'risk', 'clear', 'warned', ',', 'hidden', 'bloody', 'word', 'main', 'day', 'like', 'general', 'smack', 'plover', ')', 'cart', 'charged', 'longer', 'acting', 'Say', 'ways', 'headoff', 'Bring', 'throat', 'rrrr', '[', 'Ives', 'CART-MASTER', 'glad', 'rejoicing', 'last', 'bring', 'bad', 'tail', 'give', 'government', 'scenes', 'door', 'sent', 'Splendid', 'Peril', 'guest', 'Bon', 'most', 'ounce', 'testicles', 'became', 'Roger', 'Joseph', 'which', 'Why', 'questions', 'mine', 'take', 'Quite', 'mistake', 'watery', 'outwit', 'return', 'should', 'kingdom', 'Listen', 'thou', 'Yeaah', 'Um', 'valiant', 'noise', 'dunno', 'own', 'crash', 'giggle', 'GUEST', 'feast', 'mac', 'class', 'Hallo', 'beacon', 'Midget', 'told', 'humble', 'non-migratory', 'dine', 'carp', 'bridge', 'unhealthy', 'Packing', 'arm', 'pointy', '6', 'whinny', 'everything', 'Jesus', 'Ni', 'naughty', 'boil', 'tackle', 'When', 'courage', 'where', 'scrape', '8', 'nineteen-and-a-half', 'ho', 'leaps', 'Blue', 'Oh', 'there', 'mad', 'test', 'bones', 'un', 'attack', 'ca', 'its', 'Nine', 'Yes', 'ALL', 'HISTORIAN', 'Anyway', 'MINSTREL', 'spanking', 'wishes', 'keep', 'Come', 'idea', \"'uuggggggh\", 'intermission', 'Death', 'OLD', 'Saint', 'forced', 'scholar', 'So', 'pound', 'treat', 'Silly', 'mumble', 'wo', 'saved', 'note', 'ROGER', 'seemed', 'executive', 'Crapper', 'felt', 'temperate', 'Thppt', 'really', 'thought', 'starling', 'dona', 'spoken', 'bite', 'Ooh', 'Caerbannog', 'exploiting', 'Mother', 'Keep', 'purpose', 'pond', 'only', 'tree', 'Mmm', 'biscuits', 'harmless', 'Mine', 'runes', 'retreat', 'Twenty-one', 'special', 'Haw', 'whoever', 'remember', 'biters', 'PRINCE', 'Thank', 'sons', 'stupid', 'ptoo', 'elbows', 'dragging', 'riding', 'say', 'two', 'art', 'creep', 'feint', 'tragic', 'martin', '4', 'real', 'side', 'deal', 'uhh', 'entrance', 'bird', 'gained', 'summon', 'nothing', 'Please', 'Order', 'compared', 'lives', 'Gorge', 'dressing', 'Iiiives', 'That', 'discovered', 'in', 'bowels', 'Grail', 'laurels', \"e'er\", 'bother', 'goes', 'burned', 'foe', \"n't\", 'By', 'outside', 'teeth', 'this', 'shimmering', 'wind', 'Defeat', 'smashed', 'See', 'whether', 'back', \"'til\", 'requiem', 'lobbed', 'RANDOM', 'lad', 'pissing', 'as', 'g', 'times', 'ask', 'supports', 'Fiends', 'Saxons', 'orangutans', 'carrying', 'violence', 'shut', 'Ridden', 'bathing', 'hall', 'CHARACTER', 'Ho', 'effect', 'Ohh', 'O', 'Launcelot', 'ran', 'Pure', 'join', 'danger', 'thump', 'terrible', 'anchovies', 'eccentric', 'preserving', 'awaaaaay', 'va.', 'rhymes', 'SHRUBBER', 'Walk', 'watch', 'sword', 'smelt', 'know', 'gouged', 'unarmed', 'sex', 'glory', 'haste', 'dull', 'death', 'Mind', 'direction', 'Chaste', 'pansy', 'bonk', 'Waa', 'thy', 'removed', 'me', 'Alright', 'meant', 'am', 'accent', 'GREEN', 'marrying', 'away', 'Shrubber', 'actually', 'late', 'stone', 'leap', \"d'you\", 'bringing', 'land', 'buggered', 'dear', 'closest', 'stuffed', 'Farewell', 'walking', 'training', 'house', 'STUNNER', 'Or', 'snuff', 'hoo', 'Charge', 'Thppppt', 'Clear', 'CHARACTERS', 'warning', 'anarcho-syndicalist', 'water', 'bleeder', 'witches', 'up', 'Grenade', 'here', 'object', 'understand', 'life', 'trouble', 'France', 'Aggh', 'fair', 'Quoi', \"'anging\", 'autocracy', 'bravely', 'Stand', 'laden', 'sun', 'ones', 'Huy', 'pram', 'sworn', 'The', 'daft', 'hills', 'unsingable', 'until', 'enough', 'Throw', '17', 'lies', 'ladies', 'Thou', 'Lady', 'sing', 'Chicken', 'killer', 'best', 'He', 'commands', 'peasant', 'howl', 'out-clever', 'idiom', 'sell', 'ha', 'tale', 'Supposing', 'crossed', '23', '5', 'Neee-wom', 'Bedevere', 'quests', 'Agh', 'interested', 'advancing', 'answers', 'kills', 'outdoors', 'mortally', 'Consult', 'PARTY', 'OFFICER', 'fourth', 'Behold', 'certain', 'My', 'frozen', 'regulations', 'huge', 'grail', 'small', 'dramatic', 'DINGO', 'command', 'reached', 'quest', 'kind', 'aaaaaah', 'y', 'CONCORDE', 'Aauuugh', 'Battle', 'punishment', 'sacred', 'Patsy', 'WINSTON', 'Make', 'evil', 'nine', 'lie', 'SOLDIER', 'sense', 'sixteen', 'Stop', 'doors', 'peril', 'sire', 'gay', 'getting', 'minutes', 'Bad', 'glass', 'language', 'limbs', 'thanks', 'Camaaaaaargue', 'yel', 'o', 'counting', 'rescue', 'scared', 'KNIGHT', \"'em\", 'cereals', 'Brother', 'jam', 'shall', 'eat', 'lady', 'Ha', 'Psalms', 'continue', 'Camelot', 'helpful', 'weather', 'Did', 'silly', 'yellow', 'Aaauggh', 'filth', 'rewr', 'Gawain', 'Dragon', 'quite', 'hopeless', 'example', 'simple', 'Doctor', 'Y', 'Silence', 'enemies', 'DENNIS', 'them', 'Concorde', 'big', 'angels', 'deeds', 'cross', 'N', 'Which', 'left', 'influential', 'leave', 'pull', 'Winter', 'named', 'honored', 'woosh', 'European', 'fine', 'reared', 'Dramatically', 'worthy', 'thwonk', 'frontal', 'roar', 'Get', 'suppose', 'Angnor', 'True', 'already', 'vital', 'who', 'Uuh', 'rope', 'Cider', 'At', 'looks', 'through', 'fled', 'ceremony', '22', 'BLACK', 'telling', 'auuuuuuuugh', 'Open', 'delirious', 'GUARDS', 'crone', 'mate', 'feathers', 'owns', 'Thsss', 'uuup', 'conclusion', 'says', 'trusty', 'unladen', 'Father', 'Maynard', 'Divine', 'ratified', 'chord', '(', 'remembered', 'yelling', 'build', 'hell', 'bad-tempered', 'dirty', 'died', 'PERSON', 'Nothing', 'design', 'down', 'elderberries', 'bits', 'illegitimate-faced', 'maybe', '12', 'cheesy', 'whose', 'workers', 'food', 'pass', 'England', 'obviously', 'CROWD', '?', 'Back', 'MIDDLE', 'persons', 'after', 'hiyaah', 'ye', 'oo', 'wounded', 'DIRECTOR', 'mangy', 'mercy', \"'Ere\", 'welcome', 'case', 'worried', '15', 'African', 'have', 'CAMERAMAN', 'shit', 'KING', 'brain', 'Thee', 'open', 'dance', 'Hah', 'nibble', 'offensive', 'period', 'blood', 'HEAD', 'Mud', 'pray', 'living', 'at', 'employed', 'sometimes', 'together', 'escape', 'leads', 'progress', 'conclusions', 'armed', 'profane', 'sovereign', 'wooden', 'rode', 'Forgive', 'Thy', 'next', 'floats', 'stay', 'Follow', 'affairs', 'behold', 'Uugh', 'chu', 'does', 'Our', 'But', 'valor', 'task', 'varletesses', 'clop', 'soon', \"'Ecky-ecky-ecky-ecky-pikang-zoop-boing-goodem-zoo-owli-zhiv\", 'strewn', 'Armaments', 'awhile', 'arrows', 'friend', 'banana-shaped', 'Hm', 'built', 'hacked', 'enjoying', 'nostrils', 'wiper', 'An', 'since', 'hospitality', 'Hill', 'awfully', 'eyes', \"'s\", 'pounds', 'had', 'VILLAGERS', 'everyone', 'throughout', 'working', 'u', 'carve', 'kicked', 'Then', 'moistened', 'Go', 'on', 'impeccable', 'mayhem', 'gallantly', 'or', 'haaa', 'Bors', 'fell', 'King', 'avenged', 'kick', 'north', 'SECOND', 'asks', 'Between', 'Chop', 'SIR', 'so-called', 'the', 'newt', 'knees-bent', 'Hyy', 'makes', 'Anybody', 'could', 'Not-appearing-in-this-film', 'Zoot', 'Christ', \"'S\", 'herring', 'search', 'Iesu', 'Bridge', 'approacheth', 'Together', 'become', 'separate', 'warm', 'ungallant', 'master', 'flight', 'Is', 'enchanter', 'shrubberies', 'confuse', 'were', \"'sorry\", 'If', 'Arthur', ':', 'Britain', 'I', 'pig-dogs', 'consulted', 'crying', 'Since', 'cast', 'south', ']', 'Never', 'stress', 'n', 'FATHER', 'middle', 'feet', 'woods', 'Bloody', 'someone', 'although', 'what', 'push', 'personally', 'lot', 'fortune', 'they', 'lonely', 'always', 'chanting', 'trough', 'was', 'now', 'velocity', \"C'est\", 'tops', 'Heh', 'decided', 'worst', 'shivering', 'lucky', 'Hya', 'grovel', 'taunt', 'blondes', 'b', 'strangers', 'has', 'OF', 'beat', 'guests', 'er', 'zoosh', 'squeak', 'cry', 'Excuse', 'fruit', 'Yapping', 'boys', 'marry', 'thirty-seven', 'uuggggggh', 'May', 'fellows', 'No', 'stop', 'Oui', 'demand', 'thonk', 'married', 'climes', 'zone', 'music', 'defeat', 'door-opening', 'Dis-mount', 'self-perpetuating', 'thank', 'Yeah', 'heart', 'slash', 'from', 'bum', 'bastard', 'witch', 'tea', 'is', 'Not', 'rich', 'relics', 'burst', 'worry', 'thing', 'How', 'bridgekeeper', 'off', 'want', 'she', 'spanked', 'give-away', '14', 'man', 'illustrious', 'laughing', 'economic', 'Lie', 'nose', 'diaphragm', 'Yeaaah', 'Nay', 'chops', 'LUCKY', 'please', 'suspenseful', 'twenty-four', 'Uther', 'sign', 'carry', 'In', 'today', 'pig', 'singing', 'fifty', 'think', 'Yup', 'dictating', 'hmm', 'to', 'folk', 'Lord', 'Have', 'MAN', 'praised', 'ignore', 'None', 'right', 'either', 'c', 'hear', 'looney', 'automatically', 'Robin', 'packing', 'bangin', 'wan', 'recover', 'Allo', 'business', \"'m\", 'individually', 'twenty', \"'Til\", 'women', 'auntie', 'song', 'ordinary', 'gon', 'Four', 'fooling', 'killed', 'using', 'dad', 'performance', 'heard', 'Bravest', 'worked', 'Hoo', 'men', 'we', 'come', 'raised', 'fart', 'two-thirds', 'French', 'favorite', 'PRISONER', 'castle', 'p', 'MONKS', 'w', 'wings', 'returns', 'Alice', 'GUESTS', 'Arimathea', 'classes', 'son', 'Rheged', 'bold', 'heeh', 'havin', 'score', 'refuse', 'remain', 'good', 'Ninepence', 'prevent', 'given', 'Frank', 'bicker', 'adversary', 'doing', 'CRONE', 'north-east', 'Eh', 'dying', 'duck', 'i', 'Leaving', 'GUARD', 'depart', 'bitching', 'oral', 'gave', 'Chickennn', 'carried', 'pen', 'almost', 'once', 'footwork', 'Cherries', 'Would', 'utterly', 'science', 'guarded', 'grin', 'minstrels', 'time-a', 'Use', 'NARRATOR', 'Idiom', 'horrendous', 'alarm', 'examine', 'beautiful', 'Every', 'ooh', 'bride', 'shalt', 'chosen', 'jokes', 'Be', 'quarrel', 'Uhh', 'over', 'course', 'biggest', 'chastity', 'baaaa', 'Away', 'traveller', 'INSPECTOR', 'de', 'Bread', 'people', 'favor', 'the-not-quite-so-brave-as-Sir-Lancelot', '3', 'length', 'CARTOON', 'suggesting', 'raped', 'Schools', 'Castle', 'seek', 'Honestly', 'wise', 'Erm', 'set', 'no', 'migrate', 'temptress', 'unclog', 'It', 'happy', 'NI', 'bastards', 'enter', 'proved', 'Wayy', 'bless', 'out', \"'Course\", 'entered', 'ever', 'We', 'be', 'buggering', 'Yay', 'sight', 'reasonable', 'Huh', 'plan', 'amazes', 'may', '21', 'wedlock', 'Eee', 'it', 'cover', 'Must', 'Bravely', 'Attila', 'Supreme', 'mud', 'grip', 'tear', 'awaits', 'aaugh', 'drilllll', 'W', 'us', 'Even', '.', 'town', \"'T\", 'snap', 'FRENCH', 'ninepence', 'stew', 'head', 'Wood', 'Lancelot', 'Bristol', 'so', 'question', 'will', 'expensive', 'making', \"'Aauuuuugh\", 'leg', 'been', 'Knight', 'wield', 'depressing', 'names', 'convinced', 'swamp', 'donkey-bottom', 'etc', 'chance', 'Excalibur', 'winter', \"'First\", \"'To\", 'capital', 'boom', 'oh', 'wants', 'keepers', 'further', 'father', 'Antioch', 'Hee', 'gravy', 'supreme', 'along', 'more', 'ARMY', 'streak', 'armor', 'English', 'liar', 'duty', 'tie', 'just', 'called', 'higher', 'pweeng', 'GIRLS', 'Two', 'suit', 'ugly', 'God', 'splat', 'bit', 'anyone', 'GALAHAD', 'not', 'cartoon', 'you', 'handsome', 'else', 'samite', 'triumphs', 'proceed', \"'ve\", 'pack', 'l', 'LOVELY', 'beds', 'GOD', 'never', 'anywhere', 'baby', 'even', 'twang', 'sonny', 'mooooooo', 'disheartened', 'met', 'mile', 'bottoms', 'centuries', 'resting', 'comin', 'social', 'servant', 'husk', 'oui', 'four', 'Skip', 'suffered', \"'ll\", 'nice-a', 'DEAD', 'All', 'new', 'liver', 'bond', 'cadeau', 'Bones', 'Quiet', 'Quick', \"'Erbert\", 'brave', 'flint', 'but', 'nearer', 'Well', 'Table', 'major', 'opera', 'creeper', 'much', 'groveling', 'Gallahad', 'Book', 'knocked', 'stretched', 'miss', 'animator', '20', 'seen', 'PIGLET', 'Whoa', 'ponds', 'sponge', 'keen', 'Tim', 'behaviour', 'particular', 'daring', 'donaeis', 'frighten', 'accomplished', 'scratch', 'arms', 'Hiyya', 'held', 'Hand', 'done', 'every', 'BORS', 'Princess', 'Help', 'eis', 'passed', 'Himself', 'k-niggets', 'Aauuggghhh', 'spake', 'Black', 'listen', 'chickening', 'CRASH', 'rather', 'tiny-brained', 'immediately', 'Very', 'medieval', 'count', '..', 'HERBERT', 'Brave', 'mayest', 'farcical', 'ARTHUR', 'excepting', 'bed', 'decision', 'turned', 'those', 'shrubbery', 'of', 'taking', 'room', 'haw', 'while', 'mashed', 'To', 'legally', 'needs', 'Round', 'ju', 'Galahad', 'Mercea', 'eisrequiem', 'exciting', 'Bedwere', 'heh', 'something', 'Here', 'splash', 'hand', 'commune', 'Look', 'allowed', 'first', 'tropical', 'VILLAGER', 'little', 'underwear', 'collective', 'wide', 'guided', 'speak', 'invincible', 'guard', 'manner', 'nice', 'flesh', 'vache', 'Almighty', 'Augh', 'Until', 'number', 'dangerous', 'swallows', 'Aaaaaaaaah', 'liege', 'impersonate', 'brush', 'Ah', 'Rather', 'aloft', 'scene', 'VOICE', 'Assyria', 'routines', 'Autumn', 'More', 'officer', 'assault', 'would', 'kneeling', 'Right', 'swords', 'Your', 'RIGHT', 'slightly', 'and', 'home', 'penalty', 'anything', 'ready', 'Lake', 'five', 'Umm'}\n"
     ]
    }
   ],
   "source": [
    "# Split scene_one into sentences: sentences\n",
    "sentences = sent_tokenize(scene_one)\n",
    "\n",
    "# Use word_tokenize to tokenize the fourth sentence: tokenized_sent\n",
    "tokenized_sent = word_tokenize(sentences[3])\n",
    "\n",
    "# Make a set of unique tokens in the entire scene: unique_tokens\n",
    "unique_tokens = set(word_tokenize(scene_one))\n",
    "\n",
    "# Print the unique tokens result\n",
    "print(unique_tokens)"
   ]
  },
  {
   "cell_type": "markdown",
   "id": "c2524988",
   "metadata": {},
   "source": [
    "### More regex with re.search()"
   ]
  },
  {
   "cell_type": "code",
   "execution_count": 14,
   "id": "491f5c7e",
   "metadata": {},
   "outputs": [
    {
     "name": "stdout",
     "output_type": "stream",
     "text": [
      "580 588\n"
     ]
    }
   ],
   "source": [
    "# Search for the first occurrence of \"coconuts\" in scene_one: match\n",
    "match = re.search(\"coconuts\", scene_one)\n",
    "\n",
    "# Print the start and end indexes of match\n",
    "print(match.start(), match.end())"
   ]
  },
  {
   "cell_type": "code",
   "execution_count": 15,
   "id": "b46ac895",
   "metadata": {},
   "outputs": [
    {
     "data": {
      "text/plain": [
       "<re.Match object; span=(580, 588), match='coconuts'>"
      ]
     },
     "execution_count": 15,
     "metadata": {},
     "output_type": "execute_result"
    }
   ],
   "source": [
    "match"
   ]
  },
  {
   "cell_type": "code",
   "execution_count": 16,
   "id": "31e85dfa",
   "metadata": {},
   "outputs": [
    {
     "name": "stdout",
     "output_type": "stream",
     "text": [
      "<re.Match object; span=(9, 32), match='[wind] [clop clop clop]'>\n"
     ]
    }
   ],
   "source": [
    "# Write a regular expression to search for anything in square brackets: pattern1\n",
    "pattern1 = r\"\\[.*\\]\"\n",
    "\n",
    "# Use re.search to find the first text in square brackets\n",
    "print(re.search(pattern1, scene_one))"
   ]
  },
  {
   "cell_type": "code",
   "execution_count": 17,
   "id": "4a8bb61f",
   "metadata": {},
   "outputs": [
    {
     "name": "stdout",
     "output_type": "stream",
     "text": [
      "<re.Match object; span=(0, 7), match='ARTHUR:'>\n"
     ]
    }
   ],
   "source": [
    "# Find the script notation at the beginning of the fourth sentence and print it\n",
    "pattern2 = r\"[\\w\\s]+:\"\n",
    "print(re.match(pattern2, sentences[3]))"
   ]
  },
  {
   "cell_type": "markdown",
   "id": "646fcee4",
   "metadata": {},
   "source": [
    "### Advanced tokenization with NLTK and regex"
   ]
  },
  {
   "cell_type": "code",
   "execution_count": 18,
   "id": "1b998e5a",
   "metadata": {},
   "outputs": [],
   "source": [
    "# Import the necessary modules\n",
    "from nltk.tokenize import regexp_tokenize\n",
    "from nltk.tokenize import TweetTokenizer"
   ]
  },
  {
   "cell_type": "code",
   "execution_count": 19,
   "id": "1bd228bc",
   "metadata": {},
   "outputs": [],
   "source": [
    "my_string = \"SOLDIER #1: Found them? In Mercea? The coconut's tropical!\""
   ]
  },
  {
   "cell_type": "code",
   "execution_count": 20,
   "id": "3a7b30fd",
   "metadata": {},
   "outputs": [],
   "source": [
    "pattern_1 = r\"(\\w+|\\?|!)\"\n",
    "pattern_2 = r\"(\\w+|#\\d|\\?|!)\"\n",
    "pattern_3 = r\"(#\\d\\w+\\?!)\"\n",
    "pattern_4 = r\"\\s+\""
   ]
  },
  {
   "cell_type": "code",
   "execution_count": 21,
   "id": "5d67b1b9",
   "metadata": {},
   "outputs": [
    {
     "data": {
      "text/plain": [
       "['SOLDIER',\n",
       " '#1',\n",
       " 'Found',\n",
       " 'them',\n",
       " '?',\n",
       " 'In',\n",
       " 'Mercea',\n",
       " '?',\n",
       " 'The',\n",
       " 'coconut',\n",
       " 's',\n",
       " 'tropical',\n",
       " '!']"
      ]
     },
     "execution_count": 21,
     "metadata": {},
     "output_type": "execute_result"
    }
   ],
   "source": [
    "regexp_tokenize(my_string, pattern_2)"
   ]
  },
  {
   "cell_type": "code",
   "execution_count": 22,
   "id": "275c973b",
   "metadata": {},
   "outputs": [],
   "source": [
    "tweets = ['This is the best #nlp exercise ive found online! #python',\n",
    " '#NLP is super fun! <3 #learning',\n",
    " 'Thanks @datacamp :) #nlp #python']"
   ]
  },
  {
   "cell_type": "code",
   "execution_count": 23,
   "id": "9bf0859a",
   "metadata": {},
   "outputs": [
    {
     "name": "stdout",
     "output_type": "stream",
     "text": [
      "['#nlp', '#python']\n"
     ]
    }
   ],
   "source": [
    "# Import the necessary modules\n",
    "from nltk.tokenize import regexp_tokenize\n",
    "from nltk.tokenize import TweetTokenizer\n",
    "# Define a regex pattern to find hashtags: pattern1\n",
    "pattern1 = r\"#\\w+\"\n",
    "# Use the pattern on the first tweet in the tweets list\n",
    "hashtags = regexp_tokenize(tweets[0], pattern1)\n",
    "print(hashtags)"
   ]
  },
  {
   "cell_type": "code",
   "execution_count": 24,
   "id": "592459d1",
   "metadata": {},
   "outputs": [
    {
     "name": "stdout",
     "output_type": "stream",
     "text": [
      "['@datacamp', '#nlp', '#python']\n"
     ]
    }
   ],
   "source": [
    "# Write a pattern that matches both mentions (@) and hashtags\n",
    "pattern2 = r\"([#|@]\\w+)\"\n",
    "# Use the pattern on the last tweet in the tweets list\n",
    "mentions_hashtags = regexp_tokenize(tweets[-1], pattern2)\n",
    "print(mentions_hashtags)"
   ]
  },
  {
   "cell_type": "code",
   "execution_count": 25,
   "id": "6db90445",
   "metadata": {},
   "outputs": [
    {
     "name": "stdout",
     "output_type": "stream",
     "text": [
      "[['This', 'is', 'the', 'best', '#nlp', 'exercise', 'ive', 'found', 'online', '!', '#python'], ['#NLP', 'is', 'super', 'fun', '!', '<3', '#learning'], ['Thanks', '@datacamp', ':)', '#nlp', '#python']]\n"
     ]
    }
   ],
   "source": [
    "# Use the TweetTokenizer to tokenize all tweets into one list\n",
    "tknzr = TweetTokenizer()\n",
    "all_tokens = [tknzr.tokenize(t) for t in tweets]\n",
    "print(all_tokens)"
   ]
  },
  {
   "cell_type": "code",
   "execution_count": 26,
   "id": "c5b342e1",
   "metadata": {},
   "outputs": [],
   "source": [
    "german_text = 'Wann gehen wir Pizza essen? 🍕 Und fährst du mit Über? 🚕'"
   ]
  },
  {
   "cell_type": "code",
   "execution_count": 27,
   "id": "8171708c",
   "metadata": {},
   "outputs": [
    {
     "name": "stdout",
     "output_type": "stream",
     "text": [
      "['Wann', 'gehen', 'wir', 'Pizza', 'essen', '?', '🍕', 'Und', 'fährst', 'du', 'mit', 'Über', '?', '🚕']\n",
      "['Wann', 'Pizza', 'Und', 'Über']\n",
      "['🍕', '🚕']\n"
     ]
    }
   ],
   "source": [
    "# Tokenize and print all words in german_text\n",
    "all_words = word_tokenize(german_text)\n",
    "print(all_words)\n",
    "\n",
    "# Tokenize and print only capital words\n",
    "capital_words = r\"[A-ZÜ]\\w+\"\n",
    "print(regexp_tokenize(german_text, capital_words))\n",
    "\n",
    "# Tokenize and print only emoji\n",
    "emoji = \"['\\U0001F300-\\U0001F5FF'|'\\U0001F600-\\U0001F64F'|'\\U0001F680-\\U0001F6FF'|'\\u2600-\\u26FF\\u2700-\\u27BF']\"\n",
    "print(regexp_tokenize(german_text, emoji))"
   ]
  },
  {
   "cell_type": "markdown",
   "id": "cfba9bca",
   "metadata": {},
   "source": [
    "### Charting word length with NLTK"
   ]
  },
  {
   "cell_type": "code",
   "execution_count": 28,
   "id": "198a7a73",
   "metadata": {},
   "outputs": [],
   "source": [
    "import matplotlib.pyplot as plt"
   ]
  },
  {
   "cell_type": "code",
   "execution_count": 29,
   "id": "2f2f45ce",
   "metadata": {},
   "outputs": [],
   "source": [
    "holy_grail = scene_one"
   ]
  },
  {
   "cell_type": "code",
   "execution_count": 30,
   "id": "959ff7e3",
   "metadata": {},
   "outputs": [
    {
     "data": {
      "image/png": "[encoded data removed]",
      "text/plain": [
       "<Figure size 432x288 with 1 Axes>"
      ]
     },
     "metadata": {
      "needs_background": "light"
     },
     "output_type": "display_data"
    }
   ],
   "source": [
    "# Split the script into lines: lines\n",
    "lines = holy_grail.split('\\n')\n",
    "\n",
    "# Replace all script lines for speaker\n",
    "pattern = \"[A-Z]{2,}(\\s)?(#\\d)?([A-Z]{2,})?:\"\n",
    "lines = [re.sub(pattern, '', l) for l in lines]\n",
    "\n",
    "# Tokenize each line: tokenized_lines\n",
    "tokenized_lines = [regexp_tokenize(s, \"\\w+\") for s in lines]\n",
    "\n",
    "# Make a frequency list of lengths: line_num_words\n",
    "line_num_words = [len(t_line) for t_line in tokenized_lines]\n",
    "\n",
    "# Plot a histogram of the line lengths\n",
    "plt.hist(line_num_words)\n",
    "\n",
    "# Show the plot\n",
    "plt.show()"
   ]
  },
  {
   "cell_type": "markdown",
   "id": "90a7551e",
   "metadata": {},
   "source": [
    "### Building a Counter with bag-of-words"
   ]
  },
  {
   "cell_type": "code",
   "execution_count": 31,
   "id": "07b6a36d",
   "metadata": {},
   "outputs": [],
   "source": [
    "from collections import Counter"
   ]
  },
  {
   "cell_type": "code",
   "execution_count": 32,
   "id": "30f2064d",
   "metadata": {},
   "outputs": [],
   "source": [
    "with open('wiki_text_debugging.txt') as f:\n",
    "    article = f.readlines()"
   ]
  },
  {
   "cell_type": "code",
   "execution_count": 33,
   "id": "8a1d114c",
   "metadata": {},
   "outputs": [],
   "source": [
    "article = ' '.join(article)"
   ]
  },
  {
   "cell_type": "code",
   "execution_count": 34,
   "id": "e62cde93",
   "metadata": {},
   "outputs": [
    {
     "data": {
      "text/plain": [
       "str"
      ]
     },
     "execution_count": 34,
     "metadata": {},
     "output_type": "execute_result"
    }
   ],
   "source": [
    "type(article)"
   ]
  },
  {
   "cell_type": "code",
   "execution_count": 35,
   "id": "5b17a3d6",
   "metadata": {},
   "outputs": [],
   "source": [
    "f.close()"
   ]
  },
  {
   "cell_type": "code",
   "execution_count": 36,
   "id": "cbf72202",
   "metadata": {},
   "outputs": [
    {
     "name": "stdout",
     "output_type": "stream",
     "text": [
      "[(',', 151), ('the', 150), ('.', 89), ('of', 81), (\"''\", 66), ('to', 63), ('a', 60), ('``', 47), ('in', 44), ('and', 41)]\n"
     ]
    }
   ],
   "source": [
    "# Import Counter\n",
    "from collections import Counter\n",
    "\n",
    "# Tokenize the article: tokens\n",
    "tokens = word_tokenize(article)\n",
    "\n",
    "# Convert the tokens into lowercase: lower_tokens\n",
    "lower_tokens = [t.lower() for t in tokens]\n",
    "\n",
    "# Create a Counter with the lowercase tokens: bow_simple\n",
    "bow_simple = Counter(lower_tokens)\n",
    "\n",
    "# Print the 10 most common tokens\n",
    "print(bow_simple.most_common(10))\n"
   ]
  },
  {
   "cell_type": "markdown",
   "id": "c537434b",
   "metadata": {},
   "source": [
    "### Text preprocessing "
   ]
  },
  {
   "cell_type": "code",
   "execution_count": 37,
   "id": "3a5c6864",
   "metadata": {},
   "outputs": [],
   "source": [
    "from nltk.corpus import stopwords"
   ]
  },
  {
   "cell_type": "code",
   "execution_count": 38,
   "id": "1adb8c8e",
   "metadata": {},
   "outputs": [
    {
     "data": {
      "text/plain": [
       "<WordListCorpusReader in 'C:\\\\Users\\\\Usuario\\\\AppData\\\\Roaming\\\\nltk_data\\\\corpora\\\\stopwords'>"
      ]
     },
     "execution_count": 38,
     "metadata": {},
     "output_type": "execute_result"
    }
   ],
   "source": [
    "stopwords"
   ]
  },
  {
   "cell_type": "code",
   "execution_count": 39,
   "id": "f37ea3d2",
   "metadata": {},
   "outputs": [],
   "source": [
    "english_stops = stopwords.words('english')"
   ]
  },
  {
   "cell_type": "code",
   "execution_count": 40,
   "id": "6bd72f92",
   "metadata": {},
   "outputs": [
    {
     "name": "stdout",
     "output_type": "stream",
     "text": [
      "[('debugging', 40), ('system', 25), ('bug', 17), ('software', 16), ('problem', 15), ('tool', 15), ('computer', 14), ('process', 13), ('term', 13), ('debugger', 13)]\n"
     ]
    }
   ],
   "source": [
    "# Import WordNetLemmatizer\n",
    "from nltk.stem import WordNetLemmatizer\n",
    "\n",
    "# Retain alphabetic words: alpha_only\n",
    "alpha_only = [t for t in lower_tokens if t.isalpha()]\n",
    "\n",
    "# Remove all stop words: no_stops\n",
    "no_stops = [t for t in alpha_only if t not in english_stops]\n",
    "\n",
    "# Instantiate the WordNetLemmatizer\n",
    "wordnet_lemmatizer = WordNetLemmatizer()\n",
    "\n",
    "# Lemmatize all tokens into a new list: lemmatized\n",
    "lemmatized = [wordnet_lemmatizer.lemmatize(t) for t in no_stops]\n",
    "\n",
    "# Create the bag-of-words: bow\n",
    "bow = Counter(lemmatized)\n",
    "\n",
    "# Print the 10 most common tokens\n",
    "print(bow.most_common(10))\n"
   ]
  },
  {
   "cell_type": "markdown",
   "id": "65e36d41",
   "metadata": {},
   "source": [
    "### Creating and querying a corpus with gensim"
   ]
  },
  {
   "cell_type": "code",
   "execution_count": 41,
   "id": "7d83d90b",
   "metadata": {},
   "outputs": [],
   "source": [
    "lista = []"
   ]
  },
  {
   "cell_type": "code",
   "execution_count": 42,
   "id": "0604b45e",
   "metadata": {},
   "outputs": [],
   "source": [
    "def preprocess(string):\n",
    "    ###\n",
    "    # Deixa apenas elementos alfanuméricos\n",
    "    string = re.sub(r\"[^a-zA-Z0-9]+\", ' ', string)\n",
    "    ###\n",
    "    # deixa todas as palavras minúsculas\n",
    "    string = string.lower()\n",
    "    ###\n",
    "    # tokenização\n",
    "    words = word_tokenize(string)\n",
    "    ###\n",
    "    # Remove Stopwords\n",
    "    filtered_words = [word for word in words if word not in english_stops]\n",
    "    \n",
    "    return filtered_words"
   ]
  },
  {
   "cell_type": "code",
   "execution_count": 43,
   "id": "f2ed148a",
   "metadata": {},
   "outputs": [
    {
     "name": "stdout",
     "output_type": "stream",
     "text": [
      "Wikipedia articles\\wiki_text_bug.txt\n",
      "Wikipedia articles\\wiki_text_computer.txt\n",
      "Wikipedia articles\\wiki_text_crash.txt\n",
      "Wikipedia articles\\wiki_text_debugger.txt\n",
      "Wikipedia articles\\wiki_text_debugging.txt\n",
      "Wikipedia articles\\wiki_text_exception.txt\n",
      "Wikipedia articles\\wiki_text_hopper.txt\n",
      "Wikipedia articles\\wiki_text_language.txt\n",
      "Wikipedia articles\\wiki_text_malware.txt\n",
      "Wikipedia articles\\wiki_text_program.txt\n",
      "Wikipedia articles\\wiki_text_reversing.txt\n",
      "Wikipedia articles\\wiki_text_software.txt\n"
     ]
    }
   ],
   "source": [
    "# import required module\n",
    "import os\n",
    "# assign directory\n",
    "directory = 'Wikipedia articles'\n",
    " \n",
    "# iterate over files in\n",
    "# that directory\n",
    "for filename in os.listdir(directory):\n",
    "    f = os.path.join(directory, filename)\n",
    "    # checking if it is a file\n",
    "    if os.path.isfile(f):\n",
    "        print(f)"
   ]
  },
  {
   "cell_type": "code",
   "execution_count": 44,
   "id": "bfe7a7fb",
   "metadata": {},
   "outputs": [],
   "source": [
    "with open('Wikipedia articles\\wiki_text_bug.txt') as f:\n",
    "        article = f.readlines()\n",
    "        article = ' '.join(article)\n",
    "lista.append(preprocess(article))"
   ]
  },
  {
   "cell_type": "code",
   "execution_count": 45,
   "id": "997d1f8b",
   "metadata": {},
   "outputs": [],
   "source": [
    "with open('Wikipedia articles\\wiki_text_crash.txt') as f:\n",
    "        article = f.readlines()\n",
    "        article = ' '.join(article)\n",
    "lista.append(preprocess(article))"
   ]
  },
  {
   "cell_type": "code",
   "execution_count": 46,
   "id": "fe1aa06c",
   "metadata": {},
   "outputs": [],
   "source": [
    "with open('Wikipedia articles\\wiki_text_debugger.txt') as f:\n",
    "        article = f.readlines()\n",
    "        article = ' '.join(article)\n",
    "lista.append(preprocess(article))"
   ]
  },
  {
   "cell_type": "code",
   "execution_count": 47,
   "id": "b8671d39",
   "metadata": {},
   "outputs": [
    {
     "data": {
      "text/plain": [
       "3"
      ]
     },
     "execution_count": 47,
     "metadata": {},
     "output_type": "execute_result"
    }
   ],
   "source": [
    "len(lista)"
   ]
  },
  {
   "cell_type": "code",
   "execution_count": 48,
   "id": "f952fc1c",
   "metadata": {},
   "outputs": [],
   "source": [
    "#!pip install gensim"
   ]
  },
  {
   "cell_type": "code",
   "execution_count": 49,
   "id": "ec3afcb6",
   "metadata": {},
   "outputs": [],
   "source": [
    "from gensim.corpora.dictionary import Dictionary"
   ]
  },
  {
   "cell_type": "code",
   "execution_count": 50,
   "id": "366b06a2",
   "metadata": {},
   "outputs": [],
   "source": [
    "articles = lista"
   ]
  },
  {
   "cell_type": "code",
   "execution_count": 51,
   "id": "4760d2f5",
   "metadata": {},
   "outputs": [
    {
     "name": "stdout",
     "output_type": "stream",
     "text": [
      "computer\n",
      "[(0, 2), (8, 4), (12, 1), (52, 2), (63, 1), (66, 1), (68, 1), (69, 2), (70, 7), (87, 1)]\n"
     ]
    }
   ],
   "source": [
    "# Import Dictionary\n",
    "from gensim.corpora.dictionary import Dictionary\n",
    "\n",
    "# Create a Dictionary from the articles: dictionary\n",
    "dictionary = Dictionary(articles)\n",
    "\n",
    "# Select the id for \"computer\": computer_id\n",
    "computer_id = dictionary.token2id.get(\"computer\")\n",
    "\n",
    "# Use computer_id with the dictionary to print the word\n",
    "print(dictionary.get(computer_id))\n",
    "\n",
    "# Create a MmCorpus: corpus\n",
    "corpus = [dictionary.doc2bow(article) for article in articles]\n",
    "\n",
    "# Print the first 10 word ids with their frequency counts from the fifth document\n",
    "print(corpus[2][:10])\n"
   ]
  },
  {
   "cell_type": "markdown",
   "id": "c1316082",
   "metadata": {},
   "source": [
    "### Gensim bag-of-words"
   ]
  },
  {
   "cell_type": "code",
   "execution_count": 52,
   "id": "ba0a35de",
   "metadata": {},
   "outputs": [
    {
     "data": {
      "text/plain": [
       "3"
      ]
     },
     "execution_count": 52,
     "metadata": {},
     "output_type": "execute_result"
    }
   ],
   "source": [
    "len(corpus)"
   ]
  },
  {
   "cell_type": "code",
   "execution_count": 53,
   "id": "5577832d",
   "metadata": {},
   "outputs": [],
   "source": [
    "from collections import defaultdict\n",
    "import itertools"
   ]
  },
  {
   "cell_type": "code",
   "execution_count": 54,
   "id": "74e17427",
   "metadata": {
    "scrolled": true
   },
   "outputs": [
    {
     "name": "stdout",
     "output_type": "stream",
     "text": [
      "bug 79\n",
      "bugs 65\n",
      "software 59\n",
      "may 46\n",
      "computer 44\n"
     ]
    }
   ],
   "source": [
    "# Save the fifth document: doc\n",
    "doc = corpus[0]\n",
    "\n",
    "# Sort the doc for frequency: bow_doc\n",
    "bow_doc = sorted(doc, key=lambda w: w[1], reverse=True)\n",
    "\n",
    "# Print the top 5 words of the document alongside the count\n",
    "for word_id, word_count in bow_doc[:5]:\n",
    "    print(dictionary.get(word_id), word_count)\n",
    "    \n",
    "# Create the defaultdict: total_word_count\n",
    "total_word_count = defaultdict(int)\n",
    "for word_id, word_count in itertools.chain.from_iterable(corpus):\n",
    "    total_word_count[word_id] += word_count"
   ]
  },
  {
   "cell_type": "code",
   "execution_count": 55,
   "id": "2ee62452",
   "metadata": {},
   "outputs": [
    {
     "name": "stdout",
     "output_type": "stream",
     "text": [
      "bug 85\n",
      "software 78\n",
      "bugs 69\n",
      "computer 61\n",
      "code 56\n"
     ]
    }
   ],
   "source": [
    "# Create a sorted list from the defaultdict: sorted_word_count\n",
    "sorted_word_count = sorted(total_word_count.items(), key=lambda w: w[1], reverse=True) \n",
    "\n",
    "# Print the top 5 words across all documents alongside the count\n",
    "for word_id, word_count in sorted_word_count[:5]:\n",
    "    print(dictionary.get(word_id), word_count)"
   ]
  },
  {
   "cell_type": "markdown",
   "id": "c821a63f",
   "metadata": {},
   "source": [
    "### Tf-idf with Wikipedia"
   ]
  },
  {
   "cell_type": "code",
   "execution_count": 56,
   "id": "0b82b721",
   "metadata": {},
   "outputs": [],
   "source": [
    "from gensim.models.tfidfmodel import TfidfModel"
   ]
  },
  {
   "cell_type": "code",
   "execution_count": 57,
   "id": "cc75447e",
   "metadata": {},
   "outputs": [
    {
     "name": "stdout",
     "output_type": "stream",
     "text": [
      "[(0, 0.04639825899808869), (1, 0.010476383887864212), (2, 0.010476383887864212), (3, 0.031429151663592635), (4, 0.010476383887864212)]\n",
      "name 0.19905129386942003\n",
      "priority 0.19905129386942003\n",
      "archive 0.15714575831796318\n",
      "severity 0.15714575831796318\n",
      "kildall 0.14666937443009898\n"
     ]
    }
   ],
   "source": [
    "# Create a new TfidfModel using the corpus: tfidf\n",
    "tfidf = TfidfModel(corpus)\n",
    "\n",
    "# Calculate the tfidf weights of doc: tfidf_weights\n",
    "tfidf_weights = tfidf[doc]\n",
    "\n",
    "# Print the first five weights\n",
    "print(tfidf_weights[:5])\n",
    "\n",
    "# Sort the weights from highest to lowest: sorted_tfidf_weights\n",
    "sorted_tfidf_weights = sorted(tfidf_weights, key=lambda w: w[1], reverse=True)\n",
    "\n",
    "# Print the top 5 weighted words\n",
    "for term_id, weight in sorted_tfidf_weights[:5]:\n",
    "    print(dictionary.get(term_id), weight)"
   ]
  },
  {
   "cell_type": "markdown",
   "id": "e9c34ee3",
   "metadata": {},
   "source": [
    "### Named-entity recognition"
   ]
  },
  {
   "cell_type": "code",
   "execution_count": 58,
   "id": "baa13e09",
   "metadata": {},
   "outputs": [],
   "source": [
    "import nltk\n",
    "#nltk.download('averaged_perceptron_tagger')\n",
    "#nltk.download('maxent_ne_chunker')\n",
    "#nltk.download('words')"
   ]
  },
  {
   "cell_type": "code",
   "execution_count": 59,
   "id": "e01de09b",
   "metadata": {},
   "outputs": [],
   "source": [
    "from nltk import pos_tag"
   ]
  },
  {
   "cell_type": "code",
   "execution_count": 60,
   "id": "e4612079",
   "metadata": {},
   "outputs": [],
   "source": [
    "with open('Wikipedia articles\\wiki_text_software.txt') as f:\n",
    "        article = f.readlines()\n",
    "        article = ' '.join(article)"
   ]
  },
  {
   "cell_type": "code",
   "execution_count": 61,
   "id": "812da625",
   "metadata": {},
   "outputs": [
    {
     "name": "stdout",
     "output_type": "stream",
     "text": [
      "(NE User/NNP)\n",
      "(NE Personal/NNP)\n",
      "(NE Computer/NNP)\n",
      "(NE Computer/NNP)\n",
      "(NE Software/NNP)\n",
      "(NE Computer/NNP)\n",
      "(NE Machine/NNP)\n",
      "(NE CPU/NNP)\n",
      "(NE Software/NN)\n",
      "(NE Ada/NNP Lovelace/NNP)\n",
      "(NE Analytical/NNP Engine/NNP)\n",
      "(NE Alan/NNP Turing/NNP)\n",
      "(NE Computer/NNP)\n",
      "(NE Mississippi/NNP)\n",
      "(NE System/NNP)\n",
      "(NE Malware/NNP)\n",
      "(NE Microsoft/NNP Office/NNP)\n",
      "(NE Tablet/NNP)\n",
      "(NE Ubuntu/NNP Touch/NNP)\n",
      "(NE JavaScript/NNP)\n",
      "(NE Software/NNP)\n",
      "(NE JavaScript/NNP)\n",
      "(NE ActionScript/NNP)\n",
      "(NE Adobe/NNP Flash/NNP)\n",
      "(NE Server/NNP)\n",
      "(NE PHP/NNP)\n",
      "(NE Java/NNP)\n",
      "(NE Embedded/NNP)\n",
      "(NE Microcode/NNP)\n",
      "(NE Software/NNP)\n",
      "(NE Software/NNP)\n",
      "(NE IDEs/NNP)\n",
      "(NE Software/NNP)\n",
      "(NE Platform/NNP)\n",
      "(NE Platform/NNP)\n",
      "(NE Platform/NNP)\n",
      "(NE Application/NN)\n",
      "(NE Typical/JJ)\n",
      "(NE Application/NNP)\n",
      "(NE User/NNP)\n",
      "(NE Data/NNP)\n",
      "(NE CPU/NNP)\n",
      "(NE Microsoft/NNP Office/NNP)\n",
      "(NE Microsoft/NNP Windows/NNP)\n",
      "(NE Linux/NNP)\n",
      "(NE Software/NNP)\n",
      "(NE Lubarsky/NNP)\n",
      "(NE Waterfall/NNP)\n",
      "(NE Software/NN)\n",
      "(NE NASA/NNP)\n",
      "(NE NASA/NNP)\n",
      "(NE Open/NNP)\n",
      "(NE Software/NN)\n",
      "(NE AOP/NNP)\n",
      "(NE AOP/NNP)\n",
      "(NE United/NNP States/NNPS)\n",
      "(NE American/JJ)\n",
      "(NE Design/NN)\n",
      "(NE Microsoft/NNP Word/NNP)\n",
      "(NE Microsoft/NNP Notepad/NNP)\n",
      "(NE Software/NNP)\n",
      "(NE Eclipse/NNP)\n",
      "(NE IntelliJ/NNP)\n",
      "(NE Microsoft/NNP Visual/NNP Studio/NNP)\n",
      "(NE API/NNP)\n",
      "(NE JavaBeans/NNPS)\n",
      "(NE APIs/NNP)\n",
      "(NE Framework/NNP)\n",
      "(NE GUI/NNP)\n",
      "(NE Microsoft/NNP Word/NNP)\n",
      "(NE Windows/NNP Communication/NNP Foundation/NNP)\n",
      "(NE API/NNP)\n",
      "(NE Microsoft/NNP Windows/NNP)\n",
      "(NE APIs/NNP)\n",
      "(NE APIs/NNP)\n",
      "(NE Oracle/NNP)\n",
      "(NE Microsoft/NNP)\n",
      "(NE Data/NNP)\n",
      "(NE Computer/NNP)\n",
      "(NE Engelhardt/NNP)\n",
      "(NE Sebastian/JJ)\n",
      "(NE Optimum/NNP Economic/NNP Paradigm/NNP)\n",
      "(NE Spaced/NNP)\n",
      "(NE Hacker/NNP)\n",
      "(NE Industry/NN)\n",
      "(NE Software/NN)\n",
      "(NE Bill/NNP Gates/NNP)\n",
      "(NE Microsoft/NNP)\n",
      "(NE Microsoft/NNP)\n",
      "(NE Microsoft/NNP Windows/NNP)\n",
      "(NE Microsoft/NNP)\n",
      "(NE Free/NNP Software/NNP Foundation/NNP)\n",
      "(NE GNU/NNP Project/NNP)\n",
      "(NE Mozilla/NNP Foundation/NNP)\n",
      "(NE Software/NNP)\n",
      "(NE W3C/NNP)\n",
      "(NE IETF/NNP)\n",
      "(NE XML/NNP)\n",
      "(NE HTTP/NNP)\n",
      "(NE HTML/NNP)\n",
      "(NE Oracle/NNP Corporation|Oracle/NNP)\n",
      "(NE Novell/NNP)\n",
      "(NE SAP/NNP)\n",
      "(NE Symantec/NNP)\n",
      "(NE Adobe/NNP Systems/NNP)\n",
      "(NE Corel/NNP)\n",
      "(NE See/NNP)\n",
      "(NE Software/NNP)\n",
      "(NE Software/NNP)\n"
     ]
    }
   ],
   "source": [
    "# Tokenize the article into sentences: sentences\n",
    "sentences = sent_tokenize(article)\n",
    "\n",
    "# Tokenize each sentence into words: token_sentences\n",
    "token_sentences = [word_tokenize(sent) for sent in sentences]\n",
    "\n",
    "# Tag each tokenized sentence into parts of speech: pos_sentences\n",
    "pos_sentences = [nltk.pos_tag(sent) for sent in token_sentences] \n",
    "\n",
    "# Create the named entity chunks: chunked_sentences\n",
    "chunked_sentences = nltk.ne_chunk_sents(pos_sentences, binary=True)\n",
    "\n",
    "# Test for stems of the tree with 'NE' tags\n",
    "for sent in chunked_sentences:\n",
    "    for chunk in sent:\n",
    "        if hasattr(chunk, \"label\") and chunk.label() == \"NE\":\n",
    "            print(chunk)\n"
   ]
  },
  {
   "cell_type": "markdown",
   "id": "73b379bb",
   "metadata": {},
   "source": [
    "### Charting practice"
   ]
  },
  {
   "cell_type": "code",
   "execution_count": 62,
   "id": "1a1bc392",
   "metadata": {},
   "outputs": [],
   "source": [
    "# Create the named entity chunks: chunked_sentences\n",
    "chunked_sentences = nltk.ne_chunk_sents(pos_sentences)"
   ]
  },
  {
   "cell_type": "code",
   "execution_count": 63,
   "id": "ee8836a7",
   "metadata": {},
   "outputs": [
    {
     "data": {
      "image/png": "[encoded data removed]",
      "text/plain": [
       "<Figure size 432x288 with 1 Axes>"
      ]
     },
     "metadata": {},
     "output_type": "display_data"
    }
   ],
   "source": [
    "# Create the defaultdict: ner_categories\n",
    "ner_categories = defaultdict(int)\n",
    "\n",
    "# Create the nested for loop\n",
    "for sent in chunked_sentences:\n",
    "    for chunk in sent:\n",
    "        if hasattr(chunk, 'label'):\n",
    "            ner_categories[chunk.label()] += 1\n",
    "            \n",
    "# Create a list from the dictionary keys for the chart labels: labels\n",
    "labels = list(ner_categories.keys())\n",
    "\n",
    "# Create a list of the values: values\n",
    "values = [ner_categories.get(v) for v in labels]\n",
    "\n",
    "# Create the pie chart\n",
    "plt.pie(values, labels=labels, autopct='%1.1f%%', startangle=140)\n",
    "\n",
    "# Display the chart\n",
    "plt.show()"
   ]
  },
  {
   "cell_type": "markdown",
   "id": "fc5b0fbd",
   "metadata": {},
   "source": [
    "### Introduction to SpaCy"
   ]
  },
  {
   "cell_type": "markdown",
   "id": "2cb48444",
   "metadata": {},
   "source": [
    "#### Comparing NLTK with spaCy NER"
   ]
  },
  {
   "cell_type": "code",
   "execution_count": 64,
   "id": "c49e6b23",
   "metadata": {},
   "outputs": [],
   "source": [
    "#! python -m spacy download en_core_web_sm"
   ]
  },
  {
   "cell_type": "code",
   "execution_count": 65,
   "id": "85661bd8",
   "metadata": {},
   "outputs": [
    {
     "name": "stdout",
     "output_type": "stream",
     "text": [
      "ORG Personal\n",
      "NORP Computer\n",
      "PERSON Library\n",
      "ORG Data\n",
      "ORG Software\n",
      "ORG CPU\n",
      "CARDINAL one\n",
      "PERSON Interpreter\n",
      "PERSON computing)|interpreter\n",
      "CARDINAL two\n",
      "ORG Assembly\n",
      "PERSON Ada Lovelace\n",
      "DATE the 19th century\n",
      "ORDINAL first\n",
      "PERSON Alan Turing\n",
      "DATE 1935\n",
      "PERSON Turing\n",
      "DATE 1946\n",
      "ORDINAL first\n",
      "ORG use=\n",
      "PERSON web/20010530092843\n",
      "ORG The University of Mississippi}} System\n",
      "CARDINAL at least one\n",
      "CARDINAL at least one\n",
      "CARDINAL at least one\n",
      "CARDINAL more than one\n",
      "PERSON Malware\n",
      "ORG execution=\n",
      "  Desktop\n",
      "ORG Microsoft Office\n",
      "PERSON Tablet\n",
      "PERSON Ubuntu Touch\n",
      "ORG JavaScript\n",
      "ORG JavaScript\n",
      "ORG ActionScript\n",
      "ORG Adobe Flash\n",
      "PERSON PHP\n",
      "PERSON Java\n",
      "ORG JavaScript\n",
      "DATE November 2013\n",
      "PERSON Microcode\n",
      "ORG Software maintenance|maintain\n",
      "ORG Software\n",
      "CARDINAL one\n",
      "CARDINAL at least one\n",
      "ORG IDE\n",
      "ORG IDE\n",
      "ORG IDE\n",
      "CARDINAL three\n",
      "CARDINAL one\n",
      "ORG CPU\n",
      "GPE Sequential\n",
      "CARDINAL one\n",
      "CARDINAL more than one\n",
      "WORK_OF_ART Paste\n",
      "DATE June 2007\n",
      "ORG Microsoft Office\n",
      "ORG Microsoft Windows and Linux\n",
      "ORG Software\n",
      "ORG rarelyâ€”if\n",
      "CARDINAL at least one\n",
      "ORG Lubarsky's Law).<ref\n",
      "ORG Waterfall\n",
      "ORG NASA\n",
      "ORG NASA\n",
      "ORG NASA\n",
      "CARDINAL two\n",
      "ORG Software\n",
      "CARDINAL One\n",
      "ORG Aspect-Oriented Programming\n",
      "ORG AOP\n",
      "ORG AOP\n",
      "GPE the United States\n",
      "NORP American\n",
      "ORG Microsoft\n",
      "FAC Microsoft Notepad\n",
      "ORG IDE\n",
      "PRODUCT Eclipse\n",
      "ORG Microsoft Visual Studio\n",
      "ORG API\n",
      "NORP JavaBeans\n",
      "PERSON Spring\n",
      "ORG Windows Forms\n",
      "ORG GUI\n",
      "ORG Microsoft Word\n",
      "ORG Windows Communication Foundation\n",
      "ORG API\n",
      "ORG Microsoft Windows\n",
      "ORG Microsoft\n",
      "PERSON Library\n",
      "MONEY 2012}}{{cite journal|author\n",
      "PERSON Engelhardt\n",
      "PERSON Sebastian |year=2008|url=\n",
      "WORK_OF_ART =The Economic Properties\n",
      "CARDINAL 2008â€“045.}}{{cite\n",
      "WORK_OF_ART The Optimum Economic Paradigm\n",
      "PERSON Dan |last=\n",
      "WORK_OF_ART Hacker\n",
      "PERSON Hacker\n",
      "PERSON Bill Gates\n",
      "ORG Microsoft\n",
      "DATE 2009\n",
      "ORG Microsoft\n",
      "ORG Microsoft Windows and\n",
      "ORG Microsoft Office\n",
      "ORG the Free Software Foundation\n",
      "ORG GNU Project and Mozilla Foundation\n",
      "ORG Software\n",
      "ORG XML\n",
      "ORG HTTP\n",
      "ORG Oracle Corporation|Oracle\n",
      "GPE Novell\n",
      "GPE SAP AG|SAP\n",
      "ORG Adobe Systems\n",
      "GPE Corel\n"
     ]
    }
   ],
   "source": [
    "# Import spacy\n",
    "import spacy\n",
    "\n",
    "# Instantiate the English model: nlp\n",
    "nlp = spacy.load(\"en_core_web_sm\")\n",
    "\n",
    "# Create a new document: doc\n",
    "doc = nlp(article)\n",
    "\n",
    "# Print all of the found entities and their labels\n",
    "for ent in doc.ents:\n",
    "    print(ent.label_, ent.text)\n"
   ]
  },
  {
   "cell_type": "markdown",
   "id": "2a69aad6",
   "metadata": {},
   "source": [
    "### Multilingual NER with polyglot"
   ]
  },
  {
   "cell_type": "code",
   "execution_count": 66,
   "id": "f19bfc5d",
   "metadata": {},
   "outputs": [],
   "source": [
    "#conda install -c syllabs_admin polyglot"
   ]
  },
  {
   "cell_type": "code",
   "execution_count": 67,
   "id": "d217f0d4",
   "metadata": {},
   "outputs": [],
   "source": [
    "article = \"\\ufeffédition abonné\\r\\n\\r\\n\\r\\nDans une tribune au « Monde », l’universitaire Charles Cuvelliez estime que le fantasme d’un remplacement de l’homme par l’algorithme et le robot repose sur un malentendu.\\r\\n\\r\\n\\r\\nLe Monde | 10.05.2017 à 06h44 • Mis à jour le 10.05.2017 à 09h47 | Par Charles Cuvelliez (Professeur à l’Ecole polytechnique de l'université libre de Bruxelles)\\r\\n\\r\\n\\r\\nTRIBUNE. L’usage morbide, par certains, de Facebook Live a amené son fondateur à annoncer précipitamment le recrutement de 3 000 modérateurs supplémentaires. Il est vrai que l’intelligence artificielle (IA) est bien en peine de reconnaître des contenus violents, surtout diffusés en direct.\\r\\n\\r\\n\\r\\nLe quotidien affreux de ces modérateurs, contraints de visionner des horreurs à longueur de journée, mériterait pourtant qu’on les remplace vite par des machines !\\r\\n\\r\\n\\r\\nL’IA ne peut pas tout, mais là où elle peut beaucoup, on la maudit, accusée de détruire nos emplois, de remplacer la convivialité humaine. Ce débat repose sur un malentendu.\\r\\n\\r\\n\\r\\nIl vient d’une définition de l’IA qui n’a, dans la réalité, jamais pu être mise en pratique : en 1955, elle était vue comme la création de programmes informatiques qui, quoi qu’on leur confie, le feraient un jour mieux que les humains. On pensait que toute caractéristique de l’intelligence humaine pourrait un jour être si précisément décrite qu’il suffirait d’une machine pour la simuler. Ce n’est pas vrai.\\r\\n\\r\\n\\r\\nAngoisses infondées\\r\\n\\r\\n\\r\\nComme le dit un récent Livre blanc sur la question (Pourquoi il ne faut pas avoir peur de l’Intelligence arti\\xadficielle, Julien Maldonato, Deloitte, mars 2017), rien ne pourra remplacer un humain dans sa globalité.\\r\\n\\r\\n\\r\\nL’IA, c’est de l’apprentissage automatique doté d’un processus d’ajustement de modèles statistiques à des masses de données, explique l’auteur. Il s’agit d’un apprentissage sur des paramètres pour lesquels une vision humaine n’explique pas pourquoi ils marchent si bien dans un contexte donné.\\r\\n\\r\\n\\r\\nC’est aussi ce que dit le rapport de l’Office parlementaire d’évaluation des choix scientifiques et technologiques (« Pour une intelligence artificielle maîtrisée, utile et démystifiée », 29 mars 2017), pour qui ce côté « boîte noire » explique des angoisses infondées. Ethiquement, se fonder sur l’IA pour des tâches critiques sans bien comprendre le comment...\""
   ]
  },
  {
   "cell_type": "code",
   "execution_count": 68,
   "id": "973685a5",
   "metadata": {},
   "outputs": [],
   "source": [
    "#import polyglot"
   ]
  },
  {
   "cell_type": "code",
   "execution_count": 69,
   "id": "06ee3b20",
   "metadata": {},
   "outputs": [],
   "source": [
    "#from polyglot.text import Text"
   ]
  },
  {
   "cell_type": "code",
   "execution_count": null,
   "id": "0f71c4d1",
   "metadata": {},
   "outputs": [],
   "source": []
  },
  {
   "cell_type": "code",
   "execution_count": null,
   "id": "10a5c103",
   "metadata": {},
   "outputs": [],
   "source": []
  },
  {
   "cell_type": "markdown",
   "id": "aa6041ae",
   "metadata": {},
   "source": [
    "### Classifying spam using supervised learning with NLP"
   ]
  },
  {
   "cell_type": "markdown",
   "id": "1665a875",
   "metadata": {},
   "source": [
    "#### Building word count vectors with scikit-learn"
   ]
  },
  {
   "cell_type": "code",
   "execution_count": 70,
   "id": "9e151d4b",
   "metadata": {},
   "outputs": [],
   "source": [
    "# Import the necessary modules\n",
    "import pandas as pd\n",
    "import numpy as np\n",
    "from sklearn import preprocessing\n",
    "le = preprocessing.LabelEncoder()\n",
    "from sklearn.feature_extraction.text import CountVectorizer\n",
    "from sklearn.model_selection import train_test_split\n",
    "from sklearn.feature_extraction.text import TfidfVectorizer\n",
    "from nltk.stem import PorterStemmer"
   ]
  },
  {
   "cell_type": "code",
   "execution_count": 71,
   "id": "6e9211fd",
   "metadata": {},
   "outputs": [],
   "source": [
    "sw_english = set(stopwords.words('english'))\n",
    "stemmer = PorterStemmer()"
   ]
  },
  {
   "cell_type": "code",
   "execution_count": 72,
   "id": "41edd150",
   "metadata": {},
   "outputs": [],
   "source": [
    "def preprocess(string):\n",
    "    ###\n",
    "    # Deixa apenas elementos alfanuméricos\n",
    "    string = re.sub(r\"[^a-zA-Z0-9]+\", ' ', string)\n",
    "    ###\n",
    "    # deixa todas as palavras minúsculas\n",
    "    string = string.lower()\n",
    "    ###\n",
    "    # tokenização\n",
    "    words = word_tokenize(string)\n",
    "    ###\n",
    "    # Remove Stopwords\n",
    "    filtered_words = [word for word in words if word not in sw_english]\n",
    "\n",
    "    # Aplica o Stemming\n",
    "    stem_words = []\n",
    "    for w in filtered_words:\n",
    "        s_words = stemmer.stem(w)\n",
    "        stem_words.append(s_words)\n",
    "    ###\n",
    "    # Retorna a lista de palavras pré-processadas\n",
    "    return stem_words"
   ]
  },
  {
   "cell_type": "code",
   "execution_count": 73,
   "id": "907cab52",
   "metadata": {},
   "outputs": [],
   "source": [
    "def clf_metrics(modelo, X, y, cutoff=0.5, label_metrica=\"\", print_plot=True):\n",
    "    \n",
    "    proba_1 = nb_classifier.predict_proba(X)[:, 1]\n",
    "    y_pred = np.where(proba_1 >= cutoff, 1, 0)\n",
    "    \n",
    "    if print_plot:\n",
    "        \n",
    "        print(f\"Métricas de avaliação de {label_metrica}\")\n",
    "    \n",
    "        metrics.ConfusionMatrixDisplay.from_predictions(y, y_pred)\n",
    "        plt.show()\n",
    "    \n",
    "        print(metrics.classification_report(y, y_pred))\n",
    "    \n",
    "    return metrics.classification_report(y, y_pred, output_dict=True)"
   ]
  },
  {
   "cell_type": "code",
   "execution_count": 74,
   "id": "230b9527",
   "metadata": {},
   "outputs": [],
   "source": [
    "df = pd.read_csv('SMSSpamCollection', sep='\\t', names=['label', 'message'])"
   ]
  },
  {
   "cell_type": "code",
   "execution_count": 75,
   "id": "34956048",
   "metadata": {},
   "outputs": [],
   "source": [
    "y = df['label']\n",
    "y = le.fit_transform(y)"
   ]
  },
  {
   "cell_type": "code",
   "execution_count": 76,
   "id": "7ad9cc12",
   "metadata": {},
   "outputs": [],
   "source": [
    "df[\"filtered_words\"] = df['message'].apply(lambda x: preprocess(x))\n",
    "df['join_words'] =  df['filtered_words'].apply(lambda x: ' '.join(x))"
   ]
  },
  {
   "cell_type": "code",
   "execution_count": 77,
   "id": "0ed05865",
   "metadata": {},
   "outputs": [
    {
     "data": {
      "text/html": [
       "<div>\n",
       "<style scoped>\n",
       "    .dataframe tbody tr th:only-of-type {\n",
       "        vertical-align: middle;\n",
       "    }\n",
       "\n",
       "    .dataframe tbody tr th {\n",
       "        vertical-align: top;\n",
       "    }\n",
       "\n",
       "    .dataframe thead th {\n",
       "        text-align: right;\n",
       "    }\n",
       "</style>\n",
       "<table border=\"1\" class=\"dataframe\">\n",
       "  <thead>\n",
       "    <tr style=\"text-align: right;\">\n",
       "      <th></th>\n",
       "      <th>label</th>\n",
       "      <th>message</th>\n",
       "      <th>filtered_words</th>\n",
       "      <th>join_words</th>\n",
       "    </tr>\n",
       "  </thead>\n",
       "  <tbody>\n",
       "    <tr>\n",
       "      <th>0</th>\n",
       "      <td>ham</td>\n",
       "      <td>Go until jurong point, crazy.. Available only ...</td>\n",
       "      <td>[go, jurong, point, crazi, avail, bugi, n, gre...</td>\n",
       "      <td>go jurong point crazi avail bugi n great world...</td>\n",
       "    </tr>\n",
       "    <tr>\n",
       "      <th>1</th>\n",
       "      <td>ham</td>\n",
       "      <td>Ok lar... Joking wif u oni...</td>\n",
       "      <td>[ok, lar, joke, wif, u, oni]</td>\n",
       "      <td>ok lar joke wif u oni</td>\n",
       "    </tr>\n",
       "    <tr>\n",
       "      <th>2</th>\n",
       "      <td>spam</td>\n",
       "      <td>Free entry in 2 a wkly comp to win FA Cup fina...</td>\n",
       "      <td>[free, entri, 2, wkli, comp, win, fa, cup, fin...</td>\n",
       "      <td>free entri 2 wkli comp win fa cup final tkt 21...</td>\n",
       "    </tr>\n",
       "    <tr>\n",
       "      <th>3</th>\n",
       "      <td>ham</td>\n",
       "      <td>U dun say so early hor... U c already then say...</td>\n",
       "      <td>[u, dun, say, earli, hor, u, c, alreadi, say]</td>\n",
       "      <td>u dun say earli hor u c alreadi say</td>\n",
       "    </tr>\n",
       "    <tr>\n",
       "      <th>4</th>\n",
       "      <td>ham</td>\n",
       "      <td>Nah I don't think he goes to usf, he lives aro...</td>\n",
       "      <td>[nah, think, goe, usf, live, around, though]</td>\n",
       "      <td>nah think goe usf live around though</td>\n",
       "    </tr>\n",
       "    <tr>\n",
       "      <th>...</th>\n",
       "      <td>...</td>\n",
       "      <td>...</td>\n",
       "      <td>...</td>\n",
       "      <td>...</td>\n",
       "    </tr>\n",
       "    <tr>\n",
       "      <th>5567</th>\n",
       "      <td>spam</td>\n",
       "      <td>This is the 2nd time we have tried 2 contact u...</td>\n",
       "      <td>[2nd, time, tri, 2, contact, u, u, 750, pound,...</td>\n",
       "      <td>2nd time tri 2 contact u u 750 pound prize 2 c...</td>\n",
       "    </tr>\n",
       "    <tr>\n",
       "      <th>5568</th>\n",
       "      <td>ham</td>\n",
       "      <td>Will ü b going to esplanade fr home?</td>\n",
       "      <td>[b, go, esplanad, fr, home]</td>\n",
       "      <td>b go esplanad fr home</td>\n",
       "    </tr>\n",
       "    <tr>\n",
       "      <th>5569</th>\n",
       "      <td>ham</td>\n",
       "      <td>Pity, * was in mood for that. So...any other s...</td>\n",
       "      <td>[piti, mood, suggest]</td>\n",
       "      <td>piti mood suggest</td>\n",
       "    </tr>\n",
       "    <tr>\n",
       "      <th>5570</th>\n",
       "      <td>ham</td>\n",
       "      <td>The guy did some bitching but I acted like i'd...</td>\n",
       "      <td>[guy, bitch, act, like, interest, buy, someth,...</td>\n",
       "      <td>guy bitch act like interest buy someth els nex...</td>\n",
       "    </tr>\n",
       "    <tr>\n",
       "      <th>5571</th>\n",
       "      <td>ham</td>\n",
       "      <td>Rofl. Its true to its name</td>\n",
       "      <td>[rofl, true, name]</td>\n",
       "      <td>rofl true name</td>\n",
       "    </tr>\n",
       "  </tbody>\n",
       "</table>\n",
       "<p>5572 rows × 4 columns</p>\n",
       "</div>"
      ],
      "text/plain": [
       "     label                                            message  \\\n",
       "0      ham  Go until jurong point, crazy.. Available only ...   \n",
       "1      ham                      Ok lar... Joking wif u oni...   \n",
       "2     spam  Free entry in 2 a wkly comp to win FA Cup fina...   \n",
       "3      ham  U dun say so early hor... U c already then say...   \n",
       "4      ham  Nah I don't think he goes to usf, he lives aro...   \n",
       "...    ...                                                ...   \n",
       "5567  spam  This is the 2nd time we have tried 2 contact u...   \n",
       "5568   ham               Will ü b going to esplanade fr home?   \n",
       "5569   ham  Pity, * was in mood for that. So...any other s...   \n",
       "5570   ham  The guy did some bitching but I acted like i'd...   \n",
       "5571   ham                         Rofl. Its true to its name   \n",
       "\n",
       "                                         filtered_words  \\\n",
       "0     [go, jurong, point, crazi, avail, bugi, n, gre...   \n",
       "1                          [ok, lar, joke, wif, u, oni]   \n",
       "2     [free, entri, 2, wkli, comp, win, fa, cup, fin...   \n",
       "3         [u, dun, say, earli, hor, u, c, alreadi, say]   \n",
       "4          [nah, think, goe, usf, live, around, though]   \n",
       "...                                                 ...   \n",
       "5567  [2nd, time, tri, 2, contact, u, u, 750, pound,...   \n",
       "5568                        [b, go, esplanad, fr, home]   \n",
       "5569                              [piti, mood, suggest]   \n",
       "5570  [guy, bitch, act, like, interest, buy, someth,...   \n",
       "5571                                 [rofl, true, name]   \n",
       "\n",
       "                                             join_words  \n",
       "0     go jurong point crazi avail bugi n great world...  \n",
       "1                                 ok lar joke wif u oni  \n",
       "2     free entri 2 wkli comp win fa cup final tkt 21...  \n",
       "3                   u dun say earli hor u c alreadi say  \n",
       "4                  nah think goe usf live around though  \n",
       "...                                                 ...  \n",
       "5567  2nd time tri 2 contact u u 750 pound prize 2 c...  \n",
       "5568                              b go esplanad fr home  \n",
       "5569                                  piti mood suggest  \n",
       "5570  guy bitch act like interest buy someth els nex...  \n",
       "5571                                     rofl true name  \n",
       "\n",
       "[5572 rows x 4 columns]"
      ]
     },
     "execution_count": 77,
     "metadata": {},
     "output_type": "execute_result"
    }
   ],
   "source": [
    "df"
   ]
  },
  {
   "cell_type": "code",
   "execution_count": 78,
   "id": "6e43b865",
   "metadata": {},
   "outputs": [],
   "source": [
    "X = df['message']"
   ]
  },
  {
   "cell_type": "code",
   "execution_count": 79,
   "id": "eddc0301",
   "metadata": {},
   "outputs": [],
   "source": [
    "X_train, X_test, y_train, y_test = train_test_split(X, y, test_size=0.3, random_state=42, shuffle=True)"
   ]
  },
  {
   "cell_type": "code",
   "execution_count": 80,
   "id": "28fc203c",
   "metadata": {},
   "outputs": [
    {
     "name": "stdout",
     "output_type": "stream",
     "text": [
      "['00' '000' '000pes' '008704050406' '0089' '0121' '01223585236'\n",
      " '01223585334' '02' '0207']\n"
     ]
    }
   ],
   "source": [
    "# Initialize a CountVectorizer object: count_vectorizer\n",
    "count_vectorizer = CountVectorizer(stop_words=\"english\")\n",
    "\n",
    "# Transform the training data using only the 'text' column values: count_train \n",
    "count_train = count_vectorizer.fit_transform(X_train)\n",
    "\n",
    "# Transform the test data using only the 'text' column values: count_test \n",
    "count_test = count_vectorizer.transform(X_test)\n",
    "\n",
    "# Print the first 10 features of the count_vectorizer\n",
    "print(count_vectorizer.get_feature_names_out()[:10])"
   ]
  },
  {
   "cell_type": "markdown",
   "id": "941374a5",
   "metadata": {},
   "source": [
    "### TfidfVectorizer for text classification"
   ]
  },
  {
   "cell_type": "code",
   "execution_count": 81,
   "id": "ba18e511",
   "metadata": {},
   "outputs": [
    {
     "name": "stdout",
     "output_type": "stream",
     "text": [
      "['00' '000' '000pes' '008704050406' '0089' '0121' '01223585236'\n",
      " '01223585334' '02' '0207']\n",
      "[[0. 0. 0. ... 0. 0. 0.]\n",
      " [0. 0. 0. ... 0. 0. 0.]\n",
      " [0. 0. 0. ... 0. 0. 0.]\n",
      " [0. 0. 0. ... 0. 0. 0.]\n",
      " [0. 0. 0. ... 0. 0. 0.]]\n"
     ]
    }
   ],
   "source": [
    "# Initialize a TfidfVectorizer object: tfidf_vectorizer\n",
    "tfidf_vectorizer = TfidfVectorizer(stop_words=\"english\", max_df=0.7)\n",
    "\n",
    "# Transform the training data: tfidf_train \n",
    "tfidf_train = tfidf_vectorizer.fit_transform(X_train)\n",
    "\n",
    "# Transform the test data: tfidf_test \n",
    "tfidf_test = tfidf_vectorizer.transform(X_test)\n",
    "\n",
    "# Print the first 10 features\n",
    "print(tfidf_vectorizer.get_feature_names_out()[:10])\n",
    "\n",
    "# Print the first 5 vectors of the tfidf training data\n",
    "print(tfidf_train.A[:5])\n"
   ]
  },
  {
   "cell_type": "code",
   "execution_count": 82,
   "id": "f55c4b26",
   "metadata": {},
   "outputs": [
    {
     "data": {
      "text/plain": [
       "numpy.ndarray"
      ]
     },
     "execution_count": 82,
     "metadata": {},
     "output_type": "execute_result"
    }
   ],
   "source": [
    "type(tfidf_train.A)"
   ]
  },
  {
   "cell_type": "code",
   "execution_count": 83,
   "id": "9847bbad",
   "metadata": {},
   "outputs": [
    {
     "name": "stdout",
     "output_type": "stream",
     "text": [
      "   00  000  000pes  008704050406  0089  0121  01223585236  01223585334  02  \\\n",
      "0   0    0       0             0     0     0            0            0   0   \n",
      "1   0    0       0             0     0     0            0            0   0   \n",
      "2   0    0       0             0     0     0            0            0   0   \n",
      "3   0    0       0             0     0     0            0            0   0   \n",
      "4   0    0       0             0     0     0            0            0   0   \n",
      "\n",
      "   0207  ...  zed  zeros  zhong  zindgi  zoe  zogtorius  zoom  zouk  zyada  èn  \n",
      "0     0  ...    0      0      0       0    0          0     0     0      0   0  \n",
      "1     0  ...    0      0      0       0    0          0     0     0      0   0  \n",
      "2     0  ...    0      0      0       0    0          0     0     0      0   0  \n",
      "3     0  ...    0      0      0       0    0          0     0     0      0   0  \n",
      "4     0  ...    0      0      0       0    0          0     0     0      0   0  \n",
      "\n",
      "[5 rows x 7004 columns]\n",
      "    00  000  000pes  008704050406  0089  0121  01223585236  01223585334   02  \\\n",
      "0  0.0  0.0     0.0           0.0   0.0   0.0          0.0          0.0  0.0   \n",
      "1  0.0  0.0     0.0           0.0   0.0   0.0          0.0          0.0  0.0   \n",
      "2  0.0  0.0     0.0           0.0   0.0   0.0          0.0          0.0  0.0   \n",
      "3  0.0  0.0     0.0           0.0   0.0   0.0          0.0          0.0  0.0   \n",
      "4  0.0  0.0     0.0           0.0   0.0   0.0          0.0          0.0  0.0   \n",
      "\n",
      "   0207  ...  zed  zeros  zhong  zindgi  zoe  zogtorius  zoom  zouk  zyada  \\\n",
      "0   0.0  ...  0.0    0.0    0.0     0.0  0.0        0.0   0.0   0.0    0.0   \n",
      "1   0.0  ...  0.0    0.0    0.0     0.0  0.0        0.0   0.0   0.0    0.0   \n",
      "2   0.0  ...  0.0    0.0    0.0     0.0  0.0        0.0   0.0   0.0    0.0   \n",
      "3   0.0  ...  0.0    0.0    0.0     0.0  0.0        0.0   0.0   0.0    0.0   \n",
      "4   0.0  ...  0.0    0.0    0.0     0.0  0.0        0.0   0.0   0.0    0.0   \n",
      "\n",
      "    èn  \n",
      "0  0.0  \n",
      "1  0.0  \n",
      "2  0.0  \n",
      "3  0.0  \n",
      "4  0.0  \n",
      "\n",
      "[5 rows x 7004 columns]\n",
      "set()\n",
      "False\n"
     ]
    }
   ],
   "source": [
    "# Create the CountVectorizer DataFrame: count_df\n",
    "count_df = pd.DataFrame(count_train.A, columns=count_vectorizer.get_feature_names_out())\n",
    "\n",
    "# Create the TfidfVectorizer DataFrame: tfidf_df\n",
    "tfidf_df = pd.DataFrame(tfidf_train.A, columns=tfidf_vectorizer.get_feature_names_out())\n",
    "\n",
    "# Print the head of count_df\n",
    "print(count_df.head())\n",
    "\n",
    "# Print the head of tfidf_df\n",
    "print(tfidf_df.head())\n",
    "\n",
    "# Calculate the difference in columns: difference\n",
    "difference = set(tfidf_df.columns) - set(count_df.columns)\n",
    "print(difference)\n",
    "\n",
    "# Check whether the DataFrames are equal\n",
    "print(count_df.equals(tfidf_df))\n"
   ]
  },
  {
   "cell_type": "markdown",
   "id": "216264bf",
   "metadata": {},
   "source": [
    "### Training and testing the \"fake news\" model with CountVectorizer"
   ]
  },
  {
   "cell_type": "code",
   "execution_count": 84,
   "id": "716f2682",
   "metadata": {},
   "outputs": [
    {
     "name": "stdout",
     "output_type": "stream",
     "text": [
      "0.9874401913875598\n",
      "[[1438   10]\n",
      " [  11  213]]\n"
     ]
    }
   ],
   "source": [
    "# Import the necessary modules\n",
    "from sklearn import metrics\n",
    "from sklearn.naive_bayes import MultinomialNB\n",
    "\n",
    "# Instantiate a Multinomial Naive Bayes classifier: nb_classifier\n",
    "nb_classifier = MultinomialNB()\n",
    "\n",
    "# Fit the classifier to the training data\n",
    "nb_classifier.fit(count_train, y_train)\n",
    "\n",
    "# Create the predicted tags: pred\n",
    "pred = nb_classifier.predict(count_test)\n",
    "\n",
    "# Calculate the accuracy score: score\n",
    "score = metrics.accuracy_score(y_test, pred)\n",
    "print(score)\n",
    "\n",
    "# Calculate the confusion matrix: cm\n",
    "cm = metrics.confusion_matrix(y_test, pred)\n",
    "print(cm)\n"
   ]
  },
  {
   "cell_type": "code",
   "execution_count": 85,
   "id": "c9e8b588",
   "metadata": {},
   "outputs": [
    {
     "name": "stdout",
     "output_type": "stream",
     "text": [
      "\n",
      "################################################################################\n",
      "                         Modelo logit com cutoff = 0.1                          \n",
      "################################################################################\n",
      "\n",
      "Métricas de avaliação de teste\n"
     ]
    },
    {
     "data": {
      "image/png": "[encoded data removed]",
      "text/plain": [
       "<Figure size 432x288 with 2 Axes>"
      ]
     },
     "metadata": {
      "needs_background": "light"
     },
     "output_type": "display_data"
    },
    {
     "name": "stdout",
     "output_type": "stream",
     "text": [
      "              precision    recall  f1-score   support\n",
      "\n",
      "           0       0.99      0.94      0.96      1448\n",
      "           1       0.70      0.97      0.81       224\n",
      "\n",
      "    accuracy                           0.94      1672\n",
      "   macro avg       0.85      0.95      0.89      1672\n",
      "weighted avg       0.96      0.94      0.94      1672\n",
      "\n",
      "\n",
      "################################################################################\n",
      "                 Modelo logit com cutoff = 0.15000000000000002                  \n",
      "################################################################################\n",
      "\n",
      "Métricas de avaliação de teste\n"
     ]
    },
    {
     "data": {
      "image/png": "[encoded data removed]",
      "text/plain": [
       "<Figure size 432x288 with 2 Axes>"
      ]
     },
     "metadata": {
      "needs_background": "light"
     },
     "output_type": "display_data"
    },
    {
     "name": "stdout",
     "output_type": "stream",
     "text": [
      "              precision    recall  f1-score   support\n",
      "\n",
      "           0       1.00      0.98      0.99      1448\n",
      "           1       0.86      0.97      0.91       224\n",
      "\n",
      "    accuracy                           0.97      1672\n",
      "   macro avg       0.93      0.97      0.95      1672\n",
      "weighted avg       0.98      0.97      0.98      1672\n",
      "\n",
      "\n",
      "################################################################################\n",
      "                 Modelo logit com cutoff = 0.20000000000000004                  \n",
      "################################################################################\n",
      "\n",
      "Métricas de avaliação de teste\n"
     ]
    },
    {
     "data": {
      "image/png": "[encoded data removed]",
      "text/plain": [
       "<Figure size 432x288 with 2 Axes>"
      ]
     },
     "metadata": {
      "needs_background": "light"
     },
     "output_type": "display_data"
    },
    {
     "name": "stdout",
     "output_type": "stream",
     "text": [
      "              precision    recall  f1-score   support\n",
      "\n",
      "           0       0.99      0.98      0.99      1448\n",
      "           1       0.89      0.96      0.93       224\n",
      "\n",
      "    accuracy                           0.98      1672\n",
      "   macro avg       0.94      0.97      0.96      1672\n",
      "weighted avg       0.98      0.98      0.98      1672\n",
      "\n",
      "\n",
      "################################################################################\n",
      "                 Modelo logit com cutoff = 0.25000000000000006                  \n",
      "################################################################################\n",
      "\n",
      "Métricas de avaliação de teste\n"
     ]
    },
    {
     "data": {
      "image/png": "[encoded data removed]",
      "text/plain": [
       "<Figure size 432x288 with 2 Axes>"
      ]
     },
     "metadata": {
      "needs_background": "light"
     },
     "output_type": "display_data"
    },
    {
     "name": "stdout",
     "output_type": "stream",
     "text": [
      "              precision    recall  f1-score   support\n",
      "\n",
      "           0       0.99      0.99      0.99      1448\n",
      "           1       0.91      0.96      0.94       224\n",
      "\n",
      "    accuracy                           0.98      1672\n",
      "   macro avg       0.95      0.97      0.96      1672\n",
      "weighted avg       0.98      0.98      0.98      1672\n",
      "\n",
      "\n",
      "################################################################################\n",
      "                 Modelo logit com cutoff = 0.30000000000000004                  \n",
      "################################################################################\n",
      "\n",
      "Métricas de avaliação de teste\n"
     ]
    },
    {
     "data": {
      "image/png": "[encoded data removed]",
      "text/plain": [
       "<Figure size 432x288 with 2 Axes>"
      ]
     },
     "metadata": {
      "needs_background": "light"
     },
     "output_type": "display_data"
    },
    {
     "name": "stdout",
     "output_type": "stream",
     "text": [
      "              precision    recall  f1-score   support\n",
      "\n",
      "           0       0.99      0.99      0.99      1448\n",
      "           1       0.94      0.96      0.95       224\n",
      "\n",
      "    accuracy                           0.99      1672\n",
      "   macro avg       0.97      0.98      0.97      1672\n",
      "weighted avg       0.99      0.99      0.99      1672\n",
      "\n",
      "\n",
      "################################################################################\n",
      "                  Modelo logit com cutoff = 0.3500000000000001                  \n",
      "################################################################################\n",
      "\n",
      "Métricas de avaliação de teste\n"
     ]
    },
    {
     "data": {
      "image/png": "[encoded data removed]",
      "text/plain": [
       "<Figure size 432x288 with 2 Axes>"
      ]
     },
     "metadata": {
      "needs_background": "light"
     },
     "output_type": "display_data"
    },
    {
     "name": "stdout",
     "output_type": "stream",
     "text": [
      "              precision    recall  f1-score   support\n",
      "\n",
      "           0       0.99      0.99      0.99      1448\n",
      "           1       0.94      0.96      0.95       224\n",
      "\n",
      "    accuracy                           0.99      1672\n",
      "   macro avg       0.97      0.98      0.97      1672\n",
      "weighted avg       0.99      0.99      0.99      1672\n",
      "\n",
      "\n",
      "################################################################################\n",
      "                 Modelo logit com cutoff = 0.40000000000000013                  \n",
      "################################################################################\n",
      "\n",
      "Métricas de avaliação de teste\n"
     ]
    },
    {
     "data": {
      "image/png": "[encoded data removed]",
      "text/plain": [
       "<Figure size 432x288 with 2 Axes>"
      ]
     },
     "metadata": {
      "needs_background": "light"
     },
     "output_type": "display_data"
    },
    {
     "name": "stdout",
     "output_type": "stream",
     "text": [
      "              precision    recall  f1-score   support\n",
      "\n",
      "           0       0.99      0.99      0.99      1448\n",
      "           1       0.94      0.96      0.95       224\n",
      "\n",
      "    accuracy                           0.99      1672\n",
      "   macro avg       0.97      0.97      0.97      1672\n",
      "weighted avg       0.99      0.99      0.99      1672\n",
      "\n",
      "\n",
      "################################################################################\n",
      "                 Modelo logit com cutoff = 0.45000000000000007                  \n",
      "################################################################################\n",
      "\n",
      "Métricas de avaliação de teste\n"
     ]
    },
    {
     "data": {
      "image/png": "[encoded data removed]",
      "text/plain": [
       "<Figure size 432x288 with 2 Axes>"
      ]
     },
     "metadata": {
      "needs_background": "light"
     },
     "output_type": "display_data"
    },
    {
     "name": "stdout",
     "output_type": "stream",
     "text": [
      "              precision    recall  f1-score   support\n",
      "\n",
      "           0       0.99      0.99      0.99      1448\n",
      "           1       0.95      0.95      0.95       224\n",
      "\n",
      "    accuracy                           0.99      1672\n",
      "   macro avg       0.97      0.97      0.97      1672\n",
      "weighted avg       0.99      0.99      0.99      1672\n",
      "\n",
      "\n",
      "################################################################################\n",
      "                  Modelo logit com cutoff = 0.5000000000000001                  \n",
      "################################################################################\n",
      "\n",
      "Métricas de avaliação de teste\n"
     ]
    },
    {
     "data": {
      "image/png": "[encoded data removed]",
      "text/plain": [
       "<Figure size 432x288 with 2 Axes>"
      ]
     },
     "metadata": {
      "needs_background": "light"
     },
     "output_type": "display_data"
    },
    {
     "name": "stdout",
     "output_type": "stream",
     "text": [
      "              precision    recall  f1-score   support\n",
      "\n",
      "           0       0.99      0.99      0.99      1448\n",
      "           1       0.96      0.95      0.95       224\n",
      "\n",
      "    accuracy                           0.99      1672\n",
      "   macro avg       0.97      0.97      0.97      1672\n",
      "weighted avg       0.99      0.99      0.99      1672\n",
      "\n",
      "\n",
      "################################################################################\n",
      "                  Modelo logit com cutoff = 0.5500000000000002                  \n",
      "################################################################################\n",
      "\n",
      "Métricas de avaliação de teste\n"
     ]
    },
    {
     "data": {
      "image/png": "[encoded data removed]",
      "text/plain": [
       "<Figure size 432x288 with 2 Axes>"
      ]
     },
     "metadata": {
      "needs_background": "light"
     },
     "output_type": "display_data"
    },
    {
     "name": "stdout",
     "output_type": "stream",
     "text": [
      "              precision    recall  f1-score   support\n",
      "\n",
      "           0       0.99      1.00      0.99      1448\n",
      "           1       0.97      0.95      0.96       224\n",
      "\n",
      "    accuracy                           0.99      1672\n",
      "   macro avg       0.98      0.97      0.98      1672\n",
      "weighted avg       0.99      0.99      0.99      1672\n",
      "\n",
      "\n",
      "################################################################################\n",
      "                  Modelo logit com cutoff = 0.6000000000000002                  \n",
      "################################################################################\n",
      "\n",
      "Métricas de avaliação de teste\n"
     ]
    },
    {
     "data": {
      "image/png": "[encoded data removed]",
      "text/plain": [
       "<Figure size 432x288 with 2 Axes>"
      ]
     },
     "metadata": {
      "needs_background": "light"
     },
     "output_type": "display_data"
    },
    {
     "name": "stdout",
     "output_type": "stream",
     "text": [
      "              precision    recall  f1-score   support\n",
      "\n",
      "           0       0.99      1.00      1.00      1448\n",
      "           1       0.99      0.95      0.97       224\n",
      "\n",
      "    accuracy                           0.99      1672\n",
      "   macro avg       0.99      0.97      0.98      1672\n",
      "weighted avg       0.99      0.99      0.99      1672\n",
      "\n",
      "\n",
      "################################################################################\n",
      "                  Modelo logit com cutoff = 0.6500000000000001                  \n",
      "################################################################################\n",
      "\n",
      "Métricas de avaliação de teste\n"
     ]
    },
    {
     "data": {
      "image/png": "[encoded data removed]",
      "text/plain": [
       "<Figure size 432x288 with 2 Axes>"
      ]
     },
     "metadata": {
      "needs_background": "light"
     },
     "output_type": "display_data"
    },
    {
     "name": "stdout",
     "output_type": "stream",
     "text": [
      "              precision    recall  f1-score   support\n",
      "\n",
      "           0       0.99      1.00      1.00      1448\n",
      "           1       0.99      0.95      0.97       224\n",
      "\n",
      "    accuracy                           0.99      1672\n",
      "   macro avg       0.99      0.97      0.98      1672\n",
      "weighted avg       0.99      0.99      0.99      1672\n",
      "\n",
      "\n",
      "################################################################################\n",
      "                  Modelo logit com cutoff = 0.7000000000000002                  \n",
      "################################################################################\n",
      "\n",
      "Métricas de avaliação de teste\n"
     ]
    },
    {
     "data": {
      "image/png": "[encoded data removed]",
      "text/plain": [
       "<Figure size 432x288 with 2 Axes>"
      ]
     },
     "metadata": {
      "needs_background": "light"
     },
     "output_type": "display_data"
    },
    {
     "name": "stdout",
     "output_type": "stream",
     "text": [
      "              precision    recall  f1-score   support\n",
      "\n",
      "           0       0.99      1.00      0.99      1448\n",
      "           1       0.99      0.94      0.96       224\n",
      "\n",
      "    accuracy                           0.99      1672\n",
      "   macro avg       0.99      0.97      0.98      1672\n",
      "weighted avg       0.99      0.99      0.99      1672\n",
      "\n",
      "\n",
      "################################################################################\n",
      "                  Modelo logit com cutoff = 0.7500000000000002                  \n",
      "################################################################################\n",
      "\n",
      "Métricas de avaliação de teste\n"
     ]
    },
    {
     "data": {
      "image/png": "[encoded data removed]",
      "text/plain": [
       "<Figure size 432x288 with 2 Axes>"
      ]
     },
     "metadata": {
      "needs_background": "light"
     },
     "output_type": "display_data"
    },
    {
     "name": "stdout",
     "output_type": "stream",
     "text": [
      "              precision    recall  f1-score   support\n",
      "\n",
      "           0       0.99      1.00      0.99      1448\n",
      "           1       0.99      0.94      0.96       224\n",
      "\n",
      "    accuracy                           0.99      1672\n",
      "   macro avg       0.99      0.97      0.98      1672\n",
      "weighted avg       0.99      0.99      0.99      1672\n",
      "\n",
      "\n",
      "################################################################################\n",
      "                  Modelo logit com cutoff = 0.8000000000000002                  \n",
      "################################################################################\n",
      "\n",
      "Métricas de avaliação de teste\n"
     ]
    },
    {
     "data": {
      "image/png": "[encoded data removed]",
      "text/plain": [
       "<Figure size 432x288 with 2 Axes>"
      ]
     },
     "metadata": {
      "needs_background": "light"
     },
     "output_type": "display_data"
    },
    {
     "name": "stdout",
     "output_type": "stream",
     "text": [
      "              precision    recall  f1-score   support\n",
      "\n",
      "           0       0.99      1.00      0.99      1448\n",
      "           1       0.99      0.94      0.96       224\n",
      "\n",
      "    accuracy                           0.99      1672\n",
      "   macro avg       0.99      0.97      0.98      1672\n",
      "weighted avg       0.99      0.99      0.99      1672\n",
      "\n",
      "\n",
      "################################################################################\n",
      "                  Modelo logit com cutoff = 0.8500000000000002                  \n",
      "################################################################################\n",
      "\n",
      "Métricas de avaliação de teste\n"
     ]
    },
    {
     "data": {
      "image/png": "[encoded data removed]",
      "text/plain": [
       "<Figure size 432x288 with 2 Axes>"
      ]
     },
     "metadata": {
      "needs_background": "light"
     },
     "output_type": "display_data"
    },
    {
     "name": "stdout",
     "output_type": "stream",
     "text": [
      "              precision    recall  f1-score   support\n",
      "\n",
      "           0       0.99      1.00      0.99      1448\n",
      "           1       0.99      0.94      0.96       224\n",
      "\n",
      "    accuracy                           0.99      1672\n",
      "   macro avg       0.99      0.97      0.98      1672\n",
      "weighted avg       0.99      0.99      0.99      1672\n",
      "\n",
      "\n",
      "################################################################################\n",
      "                  Modelo logit com cutoff = 0.9000000000000002                  \n",
      "################################################################################\n",
      "\n",
      "Métricas de avaliação de teste\n"
     ]
    },
    {
     "data": {
      "image/png": "[encoded data removed]",
      "text/plain": [
       "<Figure size 432x288 with 2 Axes>"
      ]
     },
     "metadata": {
      "needs_background": "light"
     },
     "output_type": "display_data"
    },
    {
     "name": "stdout",
     "output_type": "stream",
     "text": [
      "              precision    recall  f1-score   support\n",
      "\n",
      "           0       0.99      1.00      0.99      1448\n",
      "           1       0.99      0.93      0.96       224\n",
      "\n",
      "    accuracy                           0.99      1672\n",
      "   macro avg       0.99      0.96      0.98      1672\n",
      "weighted avg       0.99      0.99      0.99      1672\n",
      "\n",
      "\n",
      "################################################################################\n",
      "                  Modelo logit com cutoff = 0.9500000000000003                  \n",
      "################################################################################\n",
      "\n",
      "Métricas de avaliação de teste\n"
     ]
    },
    {
     "data": {
      "image/png": "[encoded data removed]",
      "text/plain": [
       "<Figure size 432x288 with 2 Axes>"
      ]
     },
     "metadata": {
      "needs_background": "light"
     },
     "output_type": "display_data"
    },
    {
     "name": "stdout",
     "output_type": "stream",
     "text": [
      "              precision    recall  f1-score   support\n",
      "\n",
      "           0       0.99      1.00      0.99      1448\n",
      "           1       1.00      0.92      0.96       224\n",
      "\n",
      "    accuracy                           0.99      1672\n",
      "   macro avg       0.99      0.96      0.98      1672\n",
      "weighted avg       0.99      0.99      0.99      1672\n",
      "\n"
     ]
    }
   ],
   "source": [
    "# começamos com dois dfs vazios, e vamos preenchendo abaixo\n",
    "# (com os concats)\n",
    "df_results_train = pd.DataFrame()\n",
    "df_results_test = pd.DataFrame()\n",
    "\n",
    "cutoff_list = np.arange(0.1, 1, 0.05)\n",
    "\n",
    "for cutoff in cutoff_list:\n",
    "    \n",
    "    print()\n",
    "    print(\"#\"*80)\n",
    "    print(f\"Modelo logit com cutoff = {cutoff}\".center(80))\n",
    "    print(\"#\"*80)\n",
    "    print()\n",
    "    \n",
    "    # ============================================\n",
    "    \n",
    "    cr_train = clf_metrics(nb_classifier, count_train, y_train, label_metrica=\"treino\", cutoff=cutoff, print_plot=False)\n",
    "    df_cr_train = pd.DataFrame(cr_train)\n",
    "\n",
    "    # o .iloc[:-1, :] é pra excluir o \"support\" (pode trazer tb caso queira)\n",
    "    df_melt = df_cr_train.iloc[:-1, :].reset_index(drop=False).melt(id_vars='index', var_name=\"type\")\n",
    "    df_melt['cutoff'] = cutoff\n",
    "\n",
    "    # corrigindo os dados de acurácia\n",
    "    accuracy = df_melt.query(\"type == 'accuracy'\").copy()\n",
    "    accuracy[\"index\"] = \"accuracy\"\n",
    "\n",
    "    df_melt = df_melt.drop(index=accuracy.index)\n",
    "    df_melt = pd.concat([df_melt, accuracy.iloc[[0], :]]).reset_index(drop=False)\n",
    "\n",
    "    # pivotando\n",
    "    df_pivot = df_melt.pivot(columns=['type', 'index'], values='value', index='cutoff')\n",
    "    \n",
    "    df_results_train = pd.concat([df_results_train, df_pivot])\n",
    "            \n",
    "    # ============================================\n",
    "    \n",
    "    cr_test = clf_metrics(nb_classifier, count_test, y_test, label_metrica=\"teste\", cutoff=cutoff)\n",
    "    df_cr_test = pd.DataFrame(cr_test)\n",
    "    \n",
    "    # o .iloc[:-1, :] é pra excluir o \"support\" (pode trazer tb caso queira)\n",
    "    df_melt = df_cr_test.iloc[:-1, :].reset_index(drop=False).melt(id_vars='index', var_name=\"type\")\n",
    "    df_melt['cutoff'] = cutoff\n",
    "\n",
    "    # corrigindo os dados de acurácia\n",
    "    accuracy = df_melt.query(\"type == 'accuracy'\").copy()\n",
    "    accuracy[\"index\"] = \"accuracy\"\n",
    "\n",
    "    df_melt = df_melt.drop(index=accuracy.index)\n",
    "    df_melt = pd.concat([df_melt, accuracy.iloc[[0], :]]).reset_index(drop=False)\n",
    "\n",
    "    # pivotando\n",
    "    df_pivot = df_melt.pivot(columns=['type', 'index'], values='value', index='cutoff')\n",
    "    \n",
    "    df_results_test = pd.concat([df_results_test, df_pivot])\n",
    "    \n",
    "    # ============================================"
   ]
  },
  {
   "cell_type": "code",
   "execution_count": 86,
   "id": "7670c875",
   "metadata": {},
   "outputs": [
    {
     "data": {
      "text/html": [
       "<div>\n",
       "<style scoped>\n",
       "    .dataframe tbody tr th:only-of-type {\n",
       "        vertical-align: middle;\n",
       "    }\n",
       "\n",
       "    .dataframe tbody tr th {\n",
       "        vertical-align: top;\n",
       "    }\n",
       "\n",
       "    .dataframe thead tr th {\n",
       "        text-align: left;\n",
       "    }\n",
       "\n",
       "    .dataframe thead tr:last-of-type th {\n",
       "        text-align: right;\n",
       "    }\n",
       "</style>\n",
       "<table border=\"1\" class=\"dataframe\">\n",
       "  <thead>\n",
       "    <tr>\n",
       "      <th>type</th>\n",
       "      <th colspan=\"3\" halign=\"left\">0</th>\n",
       "      <th colspan=\"3\" halign=\"left\">1</th>\n",
       "      <th colspan=\"3\" halign=\"left\">macro avg</th>\n",
       "      <th colspan=\"3\" halign=\"left\">weighted avg</th>\n",
       "      <th>accuracy</th>\n",
       "    </tr>\n",
       "    <tr>\n",
       "      <th>index</th>\n",
       "      <th>precision</th>\n",
       "      <th>recall</th>\n",
       "      <th>f1-score</th>\n",
       "      <th>precision</th>\n",
       "      <th>recall</th>\n",
       "      <th>f1-score</th>\n",
       "      <th>precision</th>\n",
       "      <th>recall</th>\n",
       "      <th>f1-score</th>\n",
       "      <th>precision</th>\n",
       "      <th>recall</th>\n",
       "      <th>f1-score</th>\n",
       "      <th>accuracy</th>\n",
       "    </tr>\n",
       "    <tr>\n",
       "      <th>cutoff</th>\n",
       "      <th></th>\n",
       "      <th></th>\n",
       "      <th></th>\n",
       "      <th></th>\n",
       "      <th></th>\n",
       "      <th></th>\n",
       "      <th></th>\n",
       "      <th></th>\n",
       "      <th></th>\n",
       "      <th></th>\n",
       "      <th></th>\n",
       "      <th></th>\n",
       "      <th></th>\n",
       "    </tr>\n",
       "  </thead>\n",
       "  <tbody>\n",
       "    <tr>\n",
       "      <th>0.60</th>\n",
       "      <td>0.992445</td>\n",
       "      <td>0.997928</td>\n",
       "      <td>0.995179</td>\n",
       "      <td>0.986111</td>\n",
       "      <td>0.950893</td>\n",
       "      <td>0.968182</td>\n",
       "      <td>0.989278</td>\n",
       "      <td>0.974411</td>\n",
       "      <td>0.981680</td>\n",
       "      <td>0.991596</td>\n",
       "      <td>0.991627</td>\n",
       "      <td>0.991562</td>\n",
       "      <td>0.991627</td>\n",
       "    </tr>\n",
       "    <tr>\n",
       "      <th>0.65</th>\n",
       "      <td>0.992445</td>\n",
       "      <td>0.997928</td>\n",
       "      <td>0.995179</td>\n",
       "      <td>0.986111</td>\n",
       "      <td>0.950893</td>\n",
       "      <td>0.968182</td>\n",
       "      <td>0.989278</td>\n",
       "      <td>0.974411</td>\n",
       "      <td>0.981680</td>\n",
       "      <td>0.991596</td>\n",
       "      <td>0.991627</td>\n",
       "      <td>0.991562</td>\n",
       "      <td>0.991627</td>\n",
       "    </tr>\n",
       "    <tr>\n",
       "      <th>0.80</th>\n",
       "      <td>0.991084</td>\n",
       "      <td>0.997928</td>\n",
       "      <td>0.994494</td>\n",
       "      <td>0.985981</td>\n",
       "      <td>0.941964</td>\n",
       "      <td>0.963470</td>\n",
       "      <td>0.988532</td>\n",
       "      <td>0.969946</td>\n",
       "      <td>0.978982</td>\n",
       "      <td>0.990400</td>\n",
       "      <td>0.990431</td>\n",
       "      <td>0.990338</td>\n",
       "      <td>0.990431</td>\n",
       "    </tr>\n",
       "    <tr>\n",
       "      <th>0.75</th>\n",
       "      <td>0.991084</td>\n",
       "      <td>0.997928</td>\n",
       "      <td>0.994494</td>\n",
       "      <td>0.985981</td>\n",
       "      <td>0.941964</td>\n",
       "      <td>0.963470</td>\n",
       "      <td>0.988532</td>\n",
       "      <td>0.969946</td>\n",
       "      <td>0.978982</td>\n",
       "      <td>0.990400</td>\n",
       "      <td>0.990431</td>\n",
       "      <td>0.990338</td>\n",
       "      <td>0.990431</td>\n",
       "    </tr>\n",
       "    <tr>\n",
       "      <th>0.70</th>\n",
       "      <td>0.991084</td>\n",
       "      <td>0.997928</td>\n",
       "      <td>0.994494</td>\n",
       "      <td>0.985981</td>\n",
       "      <td>0.941964</td>\n",
       "      <td>0.963470</td>\n",
       "      <td>0.988532</td>\n",
       "      <td>0.969946</td>\n",
       "      <td>0.978982</td>\n",
       "      <td>0.990400</td>\n",
       "      <td>0.990431</td>\n",
       "      <td>0.990338</td>\n",
       "      <td>0.990431</td>\n",
       "    </tr>\n",
       "    <tr>\n",
       "      <th>0.55</th>\n",
       "      <td>0.992429</td>\n",
       "      <td>0.995856</td>\n",
       "      <td>0.994140</td>\n",
       "      <td>0.972603</td>\n",
       "      <td>0.950893</td>\n",
       "      <td>0.961625</td>\n",
       "      <td>0.982516</td>\n",
       "      <td>0.973375</td>\n",
       "      <td>0.977883</td>\n",
       "      <td>0.989773</td>\n",
       "      <td>0.989833</td>\n",
       "      <td>0.989784</td>\n",
       "      <td>0.989833</td>\n",
       "    </tr>\n",
       "    <tr>\n",
       "      <th>0.85</th>\n",
       "      <td>0.990404</td>\n",
       "      <td>0.997928</td>\n",
       "      <td>0.994152</td>\n",
       "      <td>0.985915</td>\n",
       "      <td>0.937500</td>\n",
       "      <td>0.961098</td>\n",
       "      <td>0.988160</td>\n",
       "      <td>0.967714</td>\n",
       "      <td>0.977625</td>\n",
       "      <td>0.989803</td>\n",
       "      <td>0.989833</td>\n",
       "      <td>0.989724</td>\n",
       "      <td>0.989833</td>\n",
       "    </tr>\n",
       "    <tr>\n",
       "      <th>0.90</th>\n",
       "      <td>0.989056</td>\n",
       "      <td>0.998619</td>\n",
       "      <td>0.993814</td>\n",
       "      <td>0.990476</td>\n",
       "      <td>0.928571</td>\n",
       "      <td>0.958525</td>\n",
       "      <td>0.989766</td>\n",
       "      <td>0.963595</td>\n",
       "      <td>0.976170</td>\n",
       "      <td>0.989246</td>\n",
       "      <td>0.989234</td>\n",
       "      <td>0.989087</td>\n",
       "      <td>0.989234</td>\n",
       "    </tr>\n",
       "    <tr>\n",
       "      <th>0.95</th>\n",
       "      <td>0.988388</td>\n",
       "      <td>0.999309</td>\n",
       "      <td>0.993819</td>\n",
       "      <td>0.995192</td>\n",
       "      <td>0.924107</td>\n",
       "      <td>0.958333</td>\n",
       "      <td>0.991790</td>\n",
       "      <td>0.961708</td>\n",
       "      <td>0.976076</td>\n",
       "      <td>0.989300</td>\n",
       "      <td>0.989234</td>\n",
       "      <td>0.989065</td>\n",
       "      <td>0.989234</td>\n",
       "    </tr>\n",
       "    <tr>\n",
       "      <th>0.50</th>\n",
       "      <td>0.992409</td>\n",
       "      <td>0.993094</td>\n",
       "      <td>0.992751</td>\n",
       "      <td>0.955157</td>\n",
       "      <td>0.950893</td>\n",
       "      <td>0.953020</td>\n",
       "      <td>0.973783</td>\n",
       "      <td>0.971993</td>\n",
       "      <td>0.972886</td>\n",
       "      <td>0.987418</td>\n",
       "      <td>0.987440</td>\n",
       "      <td>0.987428</td>\n",
       "      <td>0.987440</td>\n",
       "    </tr>\n",
       "    <tr>\n",
       "      <th>0.35</th>\n",
       "      <td>0.993767</td>\n",
       "      <td>0.991022</td>\n",
       "      <td>0.992393</td>\n",
       "      <td>0.942982</td>\n",
       "      <td>0.959821</td>\n",
       "      <td>0.951327</td>\n",
       "      <td>0.968375</td>\n",
       "      <td>0.975422</td>\n",
       "      <td>0.971860</td>\n",
       "      <td>0.986964</td>\n",
       "      <td>0.986842</td>\n",
       "      <td>0.986891</td>\n",
       "      <td>0.986842</td>\n",
       "    </tr>\n",
       "    <tr>\n",
       "      <th>0.45</th>\n",
       "      <td>0.992403</td>\n",
       "      <td>0.992403</td>\n",
       "      <td>0.992403</td>\n",
       "      <td>0.950893</td>\n",
       "      <td>0.950893</td>\n",
       "      <td>0.950893</td>\n",
       "      <td>0.971648</td>\n",
       "      <td>0.971648</td>\n",
       "      <td>0.971648</td>\n",
       "      <td>0.986842</td>\n",
       "      <td>0.986842</td>\n",
       "      <td>0.986842</td>\n",
       "      <td>0.986842</td>\n",
       "    </tr>\n",
       "    <tr>\n",
       "      <th>0.30</th>\n",
       "      <td>0.993763</td>\n",
       "      <td>0.990331</td>\n",
       "      <td>0.992044</td>\n",
       "      <td>0.938865</td>\n",
       "      <td>0.959821</td>\n",
       "      <td>0.949227</td>\n",
       "      <td>0.966314</td>\n",
       "      <td>0.975076</td>\n",
       "      <td>0.970636</td>\n",
       "      <td>0.986408</td>\n",
       "      <td>0.986244</td>\n",
       "      <td>0.986308</td>\n",
       "      <td>0.986244</td>\n",
       "    </tr>\n",
       "    <tr>\n",
       "      <th>0.40</th>\n",
       "      <td>0.993080</td>\n",
       "      <td>0.991022</td>\n",
       "      <td>0.992050</td>\n",
       "      <td>0.942731</td>\n",
       "      <td>0.955357</td>\n",
       "      <td>0.949002</td>\n",
       "      <td>0.967905</td>\n",
       "      <td>0.973190</td>\n",
       "      <td>0.970526</td>\n",
       "      <td>0.986334</td>\n",
       "      <td>0.986244</td>\n",
       "      <td>0.986283</td>\n",
       "      <td>0.986244</td>\n",
       "    </tr>\n",
       "    <tr>\n",
       "      <th>0.25</th>\n",
       "      <td>0.994425</td>\n",
       "      <td>0.985497</td>\n",
       "      <td>0.989941</td>\n",
       "      <td>0.911392</td>\n",
       "      <td>0.964286</td>\n",
       "      <td>0.937093</td>\n",
       "      <td>0.952909</td>\n",
       "      <td>0.974891</td>\n",
       "      <td>0.963517</td>\n",
       "      <td>0.983301</td>\n",
       "      <td>0.982656</td>\n",
       "      <td>0.982861</td>\n",
       "      <td>0.982656</td>\n",
       "    </tr>\n",
       "    <tr>\n",
       "      <th>0.20</th>\n",
       "      <td>0.994406</td>\n",
       "      <td>0.982044</td>\n",
       "      <td>0.988186</td>\n",
       "      <td>0.892562</td>\n",
       "      <td>0.964286</td>\n",
       "      <td>0.927039</td>\n",
       "      <td>0.943484</td>\n",
       "      <td>0.973165</td>\n",
       "      <td>0.957612</td>\n",
       "      <td>0.980761</td>\n",
       "      <td>0.979665</td>\n",
       "      <td>0.979994</td>\n",
       "      <td>0.979665</td>\n",
       "    </tr>\n",
       "    <tr>\n",
       "      <th>0.15</th>\n",
       "      <td>0.995070</td>\n",
       "      <td>0.975829</td>\n",
       "      <td>0.985356</td>\n",
       "      <td>0.861111</td>\n",
       "      <td>0.968750</td>\n",
       "      <td>0.911765</td>\n",
       "      <td>0.928091</td>\n",
       "      <td>0.972289</td>\n",
       "      <td>0.948560</td>\n",
       "      <td>0.977124</td>\n",
       "      <td>0.974880</td>\n",
       "      <td>0.975497</td>\n",
       "      <td>0.974880</td>\n",
       "    </tr>\n",
       "    <tr>\n",
       "      <th>0.10</th>\n",
       "      <td>0.994864</td>\n",
       "      <td>0.936464</td>\n",
       "      <td>0.964781</td>\n",
       "      <td>0.702265</td>\n",
       "      <td>0.968750</td>\n",
       "      <td>0.814259</td>\n",
       "      <td>0.848565</td>\n",
       "      <td>0.952607</td>\n",
       "      <td>0.889520</td>\n",
       "      <td>0.955664</td>\n",
       "      <td>0.940789</td>\n",
       "      <td>0.944616</td>\n",
       "      <td>0.940789</td>\n",
       "    </tr>\n",
       "  </tbody>\n",
       "</table>\n",
       "</div>"
      ],
      "text/plain": [
       "type           0                             1                     macro avg  \\\n",
       "index  precision    recall  f1-score precision    recall  f1-score precision   \n",
       "cutoff                                                                         \n",
       "0.60    0.992445  0.997928  0.995179  0.986111  0.950893  0.968182  0.989278   \n",
       "0.65    0.992445  0.997928  0.995179  0.986111  0.950893  0.968182  0.989278   \n",
       "0.80    0.991084  0.997928  0.994494  0.985981  0.941964  0.963470  0.988532   \n",
       "0.75    0.991084  0.997928  0.994494  0.985981  0.941964  0.963470  0.988532   \n",
       "0.70    0.991084  0.997928  0.994494  0.985981  0.941964  0.963470  0.988532   \n",
       "0.55    0.992429  0.995856  0.994140  0.972603  0.950893  0.961625  0.982516   \n",
       "0.85    0.990404  0.997928  0.994152  0.985915  0.937500  0.961098  0.988160   \n",
       "0.90    0.989056  0.998619  0.993814  0.990476  0.928571  0.958525  0.989766   \n",
       "0.95    0.988388  0.999309  0.993819  0.995192  0.924107  0.958333  0.991790   \n",
       "0.50    0.992409  0.993094  0.992751  0.955157  0.950893  0.953020  0.973783   \n",
       "0.35    0.993767  0.991022  0.992393  0.942982  0.959821  0.951327  0.968375   \n",
       "0.45    0.992403  0.992403  0.992403  0.950893  0.950893  0.950893  0.971648   \n",
       "0.30    0.993763  0.990331  0.992044  0.938865  0.959821  0.949227  0.966314   \n",
       "0.40    0.993080  0.991022  0.992050  0.942731  0.955357  0.949002  0.967905   \n",
       "0.25    0.994425  0.985497  0.989941  0.911392  0.964286  0.937093  0.952909   \n",
       "0.20    0.994406  0.982044  0.988186  0.892562  0.964286  0.927039  0.943484   \n",
       "0.15    0.995070  0.975829  0.985356  0.861111  0.968750  0.911765  0.928091   \n",
       "0.10    0.994864  0.936464  0.964781  0.702265  0.968750  0.814259  0.848565   \n",
       "\n",
       "type                       weighted avg                      accuracy  \n",
       "index     recall  f1-score    precision    recall  f1-score  accuracy  \n",
       "cutoff                                                                 \n",
       "0.60    0.974411  0.981680     0.991596  0.991627  0.991562  0.991627  \n",
       "0.65    0.974411  0.981680     0.991596  0.991627  0.991562  0.991627  \n",
       "0.80    0.969946  0.978982     0.990400  0.990431  0.990338  0.990431  \n",
       "0.75    0.969946  0.978982     0.990400  0.990431  0.990338  0.990431  \n",
       "0.70    0.969946  0.978982     0.990400  0.990431  0.990338  0.990431  \n",
       "0.55    0.973375  0.977883     0.989773  0.989833  0.989784  0.989833  \n",
       "0.85    0.967714  0.977625     0.989803  0.989833  0.989724  0.989833  \n",
       "0.90    0.963595  0.976170     0.989246  0.989234  0.989087  0.989234  \n",
       "0.95    0.961708  0.976076     0.989300  0.989234  0.989065  0.989234  \n",
       "0.50    0.971993  0.972886     0.987418  0.987440  0.987428  0.987440  \n",
       "0.35    0.975422  0.971860     0.986964  0.986842  0.986891  0.986842  \n",
       "0.45    0.971648  0.971648     0.986842  0.986842  0.986842  0.986842  \n",
       "0.30    0.975076  0.970636     0.986408  0.986244  0.986308  0.986244  \n",
       "0.40    0.973190  0.970526     0.986334  0.986244  0.986283  0.986244  \n",
       "0.25    0.974891  0.963517     0.983301  0.982656  0.982861  0.982656  \n",
       "0.20    0.973165  0.957612     0.980761  0.979665  0.979994  0.979665  \n",
       "0.15    0.972289  0.948560     0.977124  0.974880  0.975497  0.974880  \n",
       "0.10    0.952607  0.889520     0.955664  0.940789  0.944616  0.940789  "
      ]
     },
     "execution_count": 86,
     "metadata": {},
     "output_type": "execute_result"
    }
   ],
   "source": [
    "df_results_test.sort_values(('1', 'f1-score'), ascending=False)"
   ]
  },
  {
   "cell_type": "markdown",
   "id": "91d7d118",
   "metadata": {},
   "source": [
    "### Training and testing the \"fake news\" model with TfidfVectorizer"
   ]
  },
  {
   "cell_type": "code",
   "execution_count": 132,
   "id": "083b666b",
   "metadata": {},
   "outputs": [
    {
     "name": "stdout",
     "output_type": "stream",
     "text": [
      "0.972488038277512\n",
      "[[1447    1]\n",
      " [  45  179]]\n"
     ]
    }
   ],
   "source": [
    "# Create a Multinomial Naive Bayes classifier: nb_classifier\n",
    "nb_classifier = MultinomialNB()\n",
    "\n",
    "# Fit the classifier to the training data\n",
    "nb_classifier.fit(tfidf_train, y_train)\n",
    "\n",
    "# Create the predicted tags: pred\n",
    "pred = nb_classifier.predict(tfidf_test)\n",
    "\n",
    "# Calculate the accuracy score: score\n",
    "score = metrics.accuracy_score(y_test, pred)\n",
    "print(score)\n",
    "\n",
    "# Calculate the confusion matrix: cm\n",
    "cm = metrics.confusion_matrix(y_test, pred)\n",
    "print(cm)"
   ]
  },
  {
   "cell_type": "code",
   "execution_count": 134,
   "id": "0b0dd9f8",
   "metadata": {},
   "outputs": [
    {
     "name": "stdout",
     "output_type": "stream",
     "text": [
      "\n",
      "################################################################################\n",
      "                         Modelo logit com cutoff = 0.1                          \n",
      "################################################################################\n",
      "\n",
      "Métricas de avaliação de teste\n"
     ]
    },
    {
     "data": {
      "image/png": "[encoded data removed]",
      "text/plain": [
       "<Figure size 432x288 with 2 Axes>"
      ]
     },
     "metadata": {
      "needs_background": "light"
     },
     "output_type": "display_data"
    },
    {
     "name": "stdout",
     "output_type": "stream",
     "text": [
      "              precision    recall  f1-score   support\n",
      "\n",
      "           0       0.99      0.92      0.96      1448\n",
      "           1       0.66      0.97      0.78       224\n",
      "\n",
      "    accuracy                           0.93      1672\n",
      "   macro avg       0.83      0.95      0.87      1672\n",
      "weighted avg       0.95      0.93      0.93      1672\n",
      "\n",
      "\n",
      "################################################################################\n",
      "                 Modelo logit com cutoff = 0.15000000000000002                  \n",
      "################################################################################\n",
      "\n",
      "Métricas de avaliação de teste\n"
     ]
    },
    {
     "data": {
      "image/png": "[encoded data removed]",
      "text/plain": [
       "<Figure size 432x288 with 2 Axes>"
      ]
     },
     "metadata": {
      "needs_background": "light"
     },
     "output_type": "display_data"
    },
    {
     "name": "stdout",
     "output_type": "stream",
     "text": [
      "              precision    recall  f1-score   support\n",
      "\n",
      "           0       0.99      0.98      0.99      1448\n",
      "           1       0.87      0.95      0.91       224\n",
      "\n",
      "    accuracy                           0.97      1672\n",
      "   macro avg       0.93      0.96      0.95      1672\n",
      "weighted avg       0.98      0.97      0.97      1672\n",
      "\n",
      "\n",
      "################################################################################\n",
      "                 Modelo logit com cutoff = 0.20000000000000004                  \n",
      "################################################################################\n",
      "\n",
      "Métricas de avaliação de teste\n"
     ]
    },
    {
     "data": {
      "image/png": "[encoded data removed]",
      "text/plain": [
       "<Figure size 432x288 with 2 Axes>"
      ]
     },
     "metadata": {
      "needs_background": "light"
     },
     "output_type": "display_data"
    },
    {
     "name": "stdout",
     "output_type": "stream",
     "text": [
      "              precision    recall  f1-score   support\n",
      "\n",
      "           0       0.99      0.99      0.99      1448\n",
      "           1       0.94      0.93      0.93       224\n",
      "\n",
      "    accuracy                           0.98      1672\n",
      "   macro avg       0.97      0.96      0.96      1672\n",
      "weighted avg       0.98      0.98      0.98      1672\n",
      "\n",
      "\n",
      "################################################################################\n",
      "                 Modelo logit com cutoff = 0.25000000000000006                  \n",
      "################################################################################\n",
      "\n",
      "Métricas de avaliação de teste\n"
     ]
    },
    {
     "data": {
      "image/png": "[encoded data removed]",
      "text/plain": [
       "<Figure size 432x288 with 2 Axes>"
      ]
     },
     "metadata": {
      "needs_background": "light"
     },
     "output_type": "display_data"
    },
    {
     "name": "stdout",
     "output_type": "stream",
     "text": [
      "              precision    recall  f1-score   support\n",
      "\n",
      "           0       0.99      0.99      0.99      1448\n",
      "           1       0.96      0.91      0.93       224\n",
      "\n",
      "    accuracy                           0.98      1672\n",
      "   macro avg       0.97      0.95      0.96      1672\n",
      "weighted avg       0.98      0.98      0.98      1672\n",
      "\n",
      "\n",
      "################################################################################\n",
      "                 Modelo logit com cutoff = 0.30000000000000004                  \n",
      "################################################################################\n",
      "\n",
      "Métricas de avaliação de teste\n"
     ]
    },
    {
     "data": {
      "image/png": "[encoded data removed]",
      "text/plain": [
       "<Figure size 432x288 with 2 Axes>"
      ]
     },
     "metadata": {
      "needs_background": "light"
     },
     "output_type": "display_data"
    },
    {
     "name": "stdout",
     "output_type": "stream",
     "text": [
      "              precision    recall  f1-score   support\n",
      "\n",
      "           0       0.98      0.99      0.99      1448\n",
      "           1       0.96      0.89      0.93       224\n",
      "\n",
      "    accuracy                           0.98      1672\n",
      "   macro avg       0.97      0.94      0.96      1672\n",
      "weighted avg       0.98      0.98      0.98      1672\n",
      "\n",
      "\n",
      "################################################################################\n",
      "                  Modelo logit com cutoff = 0.3500000000000001                  \n",
      "################################################################################\n",
      "\n",
      "Métricas de avaliação de teste\n"
     ]
    },
    {
     "data": {
      "image/png": "[encoded data removed]",
      "text/plain": [
       "<Figure size 432x288 with 2 Axes>"
      ]
     },
     "metadata": {
      "needs_background": "light"
     },
     "output_type": "display_data"
    },
    {
     "name": "stdout",
     "output_type": "stream",
     "text": [
      "              precision    recall  f1-score   support\n",
      "\n",
      "           0       0.98      1.00      0.99      1448\n",
      "           1       0.98      0.88      0.93       224\n",
      "\n",
      "    accuracy                           0.98      1672\n",
      "   macro avg       0.98      0.94      0.96      1672\n",
      "weighted avg       0.98      0.98      0.98      1672\n",
      "\n",
      "\n",
      "################################################################################\n",
      "                 Modelo logit com cutoff = 0.40000000000000013                  \n",
      "################################################################################\n",
      "\n",
      "Métricas de avaliação de teste\n"
     ]
    },
    {
     "data": {
      "image/png": "[encoded data removed]",
      "text/plain": [
       "<Figure size 432x288 with 2 Axes>"
      ]
     },
     "metadata": {
      "needs_background": "light"
     },
     "output_type": "display_data"
    },
    {
     "name": "stdout",
     "output_type": "stream",
     "text": [
      "              precision    recall  f1-score   support\n",
      "\n",
      "           0       0.98      1.00      0.99      1448\n",
      "           1       0.99      0.87      0.93       224\n",
      "\n",
      "    accuracy                           0.98      1672\n",
      "   macro avg       0.99      0.93      0.96      1672\n",
      "weighted avg       0.98      0.98      0.98      1672\n",
      "\n",
      "\n",
      "################################################################################\n",
      "                 Modelo logit com cutoff = 0.45000000000000007                  \n",
      "################################################################################\n",
      "\n",
      "Métricas de avaliação de teste\n"
     ]
    },
    {
     "data": {
      "image/png": "[encoded data removed]",
      "text/plain": [
       "<Figure size 432x288 with 2 Axes>"
      ]
     },
     "metadata": {
      "needs_background": "light"
     },
     "output_type": "display_data"
    },
    {
     "name": "stdout",
     "output_type": "stream",
     "text": [
      "              precision    recall  f1-score   support\n",
      "\n",
      "           0       0.98      1.00      0.99      1448\n",
      "           1       0.99      0.84      0.91       224\n",
      "\n",
      "    accuracy                           0.98      1672\n",
      "   macro avg       0.98      0.92      0.95      1672\n",
      "weighted avg       0.98      0.98      0.98      1672\n",
      "\n",
      "\n",
      "################################################################################\n",
      "                  Modelo logit com cutoff = 0.5000000000000001                  \n",
      "################################################################################\n",
      "\n",
      "Métricas de avaliação de teste\n"
     ]
    },
    {
     "data": {
      "image/png": "[encoded data removed]",
      "text/plain": [
       "<Figure size 432x288 with 2 Axes>"
      ]
     },
     "metadata": {
      "needs_background": "light"
     },
     "output_type": "display_data"
    },
    {
     "name": "stdout",
     "output_type": "stream",
     "text": [
      "              precision    recall  f1-score   support\n",
      "\n",
      "           0       0.97      1.00      0.98      1448\n",
      "           1       0.99      0.80      0.89       224\n",
      "\n",
      "    accuracy                           0.97      1672\n",
      "   macro avg       0.98      0.90      0.94      1672\n",
      "weighted avg       0.97      0.97      0.97      1672\n",
      "\n",
      "\n",
      "################################################################################\n",
      "                  Modelo logit com cutoff = 0.5500000000000002                  \n",
      "################################################################################\n",
      "\n",
      "Métricas de avaliação de teste\n"
     ]
    },
    {
     "data": {
      "image/png": "[encoded data removed]",
      "text/plain": [
       "<Figure size 432x288 with 2 Axes>"
      ]
     },
     "metadata": {
      "needs_background": "light"
     },
     "output_type": "display_data"
    },
    {
     "name": "stdout",
     "output_type": "stream",
     "text": [
      "              precision    recall  f1-score   support\n",
      "\n",
      "           0       0.97      1.00      0.98      1448\n",
      "           1       1.00      0.77      0.87       224\n",
      "\n",
      "    accuracy                           0.97      1672\n",
      "   macro avg       0.98      0.89      0.93      1672\n",
      "weighted avg       0.97      0.97      0.97      1672\n",
      "\n",
      "\n",
      "################################################################################\n",
      "                  Modelo logit com cutoff = 0.6000000000000002                  \n",
      "################################################################################\n",
      "\n",
      "Métricas de avaliação de teste\n"
     ]
    },
    {
     "data": {
      "image/png": "[encoded data removed]",
      "text/plain": [
       "<Figure size 432x288 with 2 Axes>"
      ]
     },
     "metadata": {
      "needs_background": "light"
     },
     "output_type": "display_data"
    },
    {
     "name": "stdout",
     "output_type": "stream",
     "text": [
      "              precision    recall  f1-score   support\n",
      "\n",
      "           0       0.96      1.00      0.98      1448\n",
      "           1       1.00      0.75      0.85       224\n",
      "\n",
      "    accuracy                           0.97      1672\n",
      "   macro avg       0.98      0.87      0.92      1672\n",
      "weighted avg       0.97      0.97      0.96      1672\n",
      "\n",
      "\n",
      "################################################################################\n",
      "                  Modelo logit com cutoff = 0.6500000000000001                  \n",
      "################################################################################\n",
      "\n",
      "Métricas de avaliação de teste\n"
     ]
    },
    {
     "data": {
      "image/png": "[encoded data removed]",
      "text/plain": [
       "<Figure size 432x288 with 2 Axes>"
      ]
     },
     "metadata": {
      "needs_background": "light"
     },
     "output_type": "display_data"
    },
    {
     "name": "stdout",
     "output_type": "stream",
     "text": [
      "              precision    recall  f1-score   support\n",
      "\n",
      "           0       0.96      1.00      0.98      1448\n",
      "           1       1.00      0.71      0.83       224\n",
      "\n",
      "    accuracy                           0.96      1672\n",
      "   macro avg       0.98      0.85      0.90      1672\n",
      "weighted avg       0.96      0.96      0.96      1672\n",
      "\n",
      "\n",
      "################################################################################\n",
      "                  Modelo logit com cutoff = 0.7000000000000002                  \n",
      "################################################################################\n",
      "\n",
      "Métricas de avaliação de teste\n"
     ]
    },
    {
     "data": {
      "image/png": "[encoded data removed]",
      "text/plain": [
       "<Figure size 432x288 with 2 Axes>"
      ]
     },
     "metadata": {
      "needs_background": "light"
     },
     "output_type": "display_data"
    },
    {
     "name": "stdout",
     "output_type": "stream",
     "text": [
      "              precision    recall  f1-score   support\n",
      "\n",
      "           0       0.95      1.00      0.98      1448\n",
      "           1       1.00      0.67      0.80       224\n",
      "\n",
      "    accuracy                           0.96      1672\n",
      "   macro avg       0.98      0.83      0.89      1672\n",
      "weighted avg       0.96      0.96      0.95      1672\n",
      "\n",
      "\n",
      "################################################################################\n",
      "                  Modelo logit com cutoff = 0.7500000000000002                  \n",
      "################################################################################\n",
      "\n",
      "Métricas de avaliação de teste\n"
     ]
    },
    {
     "data": {
      "image/png": "[encoded data removed]",
      "text/plain": [
       "<Figure size 432x288 with 2 Axes>"
      ]
     },
     "metadata": {
      "needs_background": "light"
     },
     "output_type": "display_data"
    },
    {
     "name": "stdout",
     "output_type": "stream",
     "text": [
      "              precision    recall  f1-score   support\n",
      "\n",
      "           0       0.95      1.00      0.97      1448\n",
      "           1       1.00      0.63      0.77       224\n",
      "\n",
      "    accuracy                           0.95      1672\n",
      "   macro avg       0.97      0.81      0.87      1672\n",
      "weighted avg       0.95      0.95      0.95      1672\n",
      "\n",
      "\n",
      "################################################################################\n",
      "                  Modelo logit com cutoff = 0.8000000000000002                  \n",
      "################################################################################\n",
      "\n",
      "Métricas de avaliação de teste\n"
     ]
    },
    {
     "data": {
      "image/png": "[encoded data removed]",
      "text/plain": [
       "<Figure size 432x288 with 2 Axes>"
      ]
     },
     "metadata": {
      "needs_background": "light"
     },
     "output_type": "display_data"
    },
    {
     "name": "stdout",
     "output_type": "stream",
     "text": [
      "              precision    recall  f1-score   support\n",
      "\n",
      "           0       0.94      1.00      0.97      1448\n",
      "           1       1.00      0.58      0.73       224\n",
      "\n",
      "    accuracy                           0.94      1672\n",
      "   macro avg       0.97      0.79      0.85      1672\n",
      "weighted avg       0.95      0.94      0.94      1672\n",
      "\n",
      "\n",
      "################################################################################\n",
      "                  Modelo logit com cutoff = 0.8500000000000002                  \n",
      "################################################################################\n",
      "\n",
      "Métricas de avaliação de teste\n"
     ]
    },
    {
     "data": {
      "image/png": "[encoded data removed]",
      "text/plain": [
       "<Figure size 432x288 with 2 Axes>"
      ]
     },
     "metadata": {
      "needs_background": "light"
     },
     "output_type": "display_data"
    },
    {
     "name": "stdout",
     "output_type": "stream",
     "text": [
      "              precision    recall  f1-score   support\n",
      "\n",
      "           0       0.93      1.00      0.96      1448\n",
      "           1       1.00      0.50      0.67       224\n",
      "\n",
      "    accuracy                           0.93      1672\n",
      "   macro avg       0.96      0.75      0.82      1672\n",
      "weighted avg       0.94      0.93      0.92      1672\n",
      "\n",
      "\n",
      "################################################################################\n",
      "                  Modelo logit com cutoff = 0.9000000000000002                  \n",
      "################################################################################\n",
      "\n",
      "Métricas de avaliação de teste\n"
     ]
    },
    {
     "data": {
      "image/png": "[encoded data removed]",
      "text/plain": [
       "<Figure size 432x288 with 2 Axes>"
      ]
     },
     "metadata": {
      "needs_background": "light"
     },
     "output_type": "display_data"
    },
    {
     "name": "stdout",
     "output_type": "stream",
     "text": [
      "              precision    recall  f1-score   support\n",
      "\n",
      "           0       0.92      1.00      0.96      1448\n",
      "           1       1.00      0.42      0.59       224\n",
      "\n",
      "    accuracy                           0.92      1672\n",
      "   macro avg       0.96      0.71      0.77      1672\n",
      "weighted avg       0.93      0.92      0.91      1672\n",
      "\n",
      "\n",
      "################################################################################\n",
      "                  Modelo logit com cutoff = 0.9500000000000003                  \n",
      "################################################################################\n",
      "\n",
      "Métricas de avaliação de teste\n"
     ]
    },
    {
     "data": {
      "image/png": "[encoded data removed]",
      "text/plain": [
       "<Figure size 432x288 with 2 Axes>"
      ]
     },
     "metadata": {
      "needs_background": "light"
     },
     "output_type": "display_data"
    },
    {
     "name": "stdout",
     "output_type": "stream",
     "text": [
      "              precision    recall  f1-score   support\n",
      "\n",
      "           0       0.90      1.00      0.95      1448\n",
      "           1       1.00      0.29      0.44       224\n",
      "\n",
      "    accuracy                           0.90      1672\n",
      "   macro avg       0.95      0.64      0.70      1672\n",
      "weighted avg       0.91      0.90      0.88      1672\n",
      "\n"
     ]
    }
   ],
   "source": [
    "# começamos com dois dfs vazios, e vamos preenchendo abaixo\n",
    "# (com os concats)\n",
    "df_results_train = pd.DataFrame()\n",
    "df_results_test = pd.DataFrame()\n",
    "\n",
    "cutoff_list = np.arange(0.1, 1, 0.05)\n",
    "\n",
    "for cutoff in cutoff_list:\n",
    "    \n",
    "    print()\n",
    "    print(\"#\"*80)\n",
    "    print(f\"Modelo logit com cutoff = {cutoff}\".center(80))\n",
    "    print(\"#\"*80)\n",
    "    print()\n",
    "    \n",
    "    # ============================================\n",
    "    \n",
    "    cr_train = clf_metrics(nb_classifier, tfidf_train, y_train, label_metrica=\"treino\", cutoff=cutoff, print_plot=False)\n",
    "    df_cr_train = pd.DataFrame(cr_train)\n",
    "\n",
    "    # o .iloc[:-1, :] é pra excluir o \"support\" (pode trazer tb caso queira)\n",
    "    df_melt = df_cr_train.iloc[:-1, :].reset_index(drop=False).melt(id_vars='index', var_name=\"type\")\n",
    "    df_melt['cutoff'] = cutoff\n",
    "\n",
    "    # corrigindo os dados de acurácia\n",
    "    accuracy = df_melt.query(\"type == 'accuracy'\").copy()\n",
    "    accuracy[\"index\"] = \"accuracy\"\n",
    "\n",
    "    df_melt = df_melt.drop(index=accuracy.index)\n",
    "    df_melt = pd.concat([df_melt, accuracy.iloc[[0], :]]).reset_index(drop=False)\n",
    "\n",
    "    # pivotando\n",
    "    df_pivot = df_melt.pivot(columns=['type', 'index'], values='value', index='cutoff')\n",
    "    \n",
    "    df_results_train = pd.concat([df_results_train, df_pivot])\n",
    "            \n",
    "    # ============================================\n",
    "    \n",
    "    cr_test = clf_metrics(nb_classifier, tfidf_test, y_test, label_metrica=\"teste\", cutoff=cutoff)\n",
    "    df_cr_test = pd.DataFrame(cr_test)\n",
    "    \n",
    "    # o .iloc[:-1, :] é pra excluir o \"support\" (pode trazer tb caso queira)\n",
    "    df_melt = df_cr_test.iloc[:-1, :].reset_index(drop=False).melt(id_vars='index', var_name=\"type\")\n",
    "    df_melt['cutoff'] = cutoff\n",
    "\n",
    "    # corrigindo os dados de acurácia\n",
    "    accuracy = df_melt.query(\"type == 'accuracy'\").copy()\n",
    "    accuracy[\"index\"] = \"accuracy\"\n",
    "\n",
    "    df_melt = df_melt.drop(index=accuracy.index)\n",
    "    df_melt = pd.concat([df_melt, accuracy.iloc[[0], :]]).reset_index(drop=False)\n",
    "\n",
    "    # pivotando\n",
    "    df_pivot = df_melt.pivot(columns=['type', 'index'], values='value', index='cutoff')\n",
    "    \n",
    "    df_results_test = pd.concat([df_results_test, df_pivot])\n",
    "    \n",
    "    # ============================================"
   ]
  },
  {
   "cell_type": "code",
   "execution_count": 135,
   "id": "ffb16d13",
   "metadata": {},
   "outputs": [
    {
     "data": {
      "text/html": [
       "<div>\n",
       "<style scoped>\n",
       "    .dataframe tbody tr th:only-of-type {\n",
       "        vertical-align: middle;\n",
       "    }\n",
       "\n",
       "    .dataframe tbody tr th {\n",
       "        vertical-align: top;\n",
       "    }\n",
       "\n",
       "    .dataframe thead tr th {\n",
       "        text-align: left;\n",
       "    }\n",
       "\n",
       "    .dataframe thead tr:last-of-type th {\n",
       "        text-align: right;\n",
       "    }\n",
       "</style>\n",
       "<table border=\"1\" class=\"dataframe\">\n",
       "  <thead>\n",
       "    <tr>\n",
       "      <th>type</th>\n",
       "      <th colspan=\"3\" halign=\"left\">0</th>\n",
       "      <th colspan=\"3\" halign=\"left\">1</th>\n",
       "      <th colspan=\"3\" halign=\"left\">macro avg</th>\n",
       "      <th colspan=\"3\" halign=\"left\">weighted avg</th>\n",
       "      <th>accuracy</th>\n",
       "    </tr>\n",
       "    <tr>\n",
       "      <th>index</th>\n",
       "      <th>precision</th>\n",
       "      <th>recall</th>\n",
       "      <th>f1-score</th>\n",
       "      <th>precision</th>\n",
       "      <th>recall</th>\n",
       "      <th>f1-score</th>\n",
       "      <th>precision</th>\n",
       "      <th>recall</th>\n",
       "      <th>f1-score</th>\n",
       "      <th>precision</th>\n",
       "      <th>recall</th>\n",
       "      <th>f1-score</th>\n",
       "      <th>accuracy</th>\n",
       "    </tr>\n",
       "    <tr>\n",
       "      <th>cutoff</th>\n",
       "      <th></th>\n",
       "      <th></th>\n",
       "      <th></th>\n",
       "      <th></th>\n",
       "      <th></th>\n",
       "      <th></th>\n",
       "      <th></th>\n",
       "      <th></th>\n",
       "      <th></th>\n",
       "      <th></th>\n",
       "      <th></th>\n",
       "      <th></th>\n",
       "      <th></th>\n",
       "    </tr>\n",
       "  </thead>\n",
       "  <tbody>\n",
       "    <tr>\n",
       "      <th>0.20</th>\n",
       "      <td>0.988973</td>\n",
       "      <td>0.991022</td>\n",
       "      <td>0.989997</td>\n",
       "      <td>0.941176</td>\n",
       "      <td>0.928571</td>\n",
       "      <td>0.934831</td>\n",
       "      <td>0.965075</td>\n",
       "      <td>0.959797</td>\n",
       "      <td>0.962414</td>\n",
       "      <td>0.982570</td>\n",
       "      <td>0.982656</td>\n",
       "      <td>0.982606</td>\n",
       "      <td>0.982656</td>\n",
       "    </tr>\n",
       "    <tr>\n",
       "      <th>0.25</th>\n",
       "      <td>0.986292</td>\n",
       "      <td>0.993785</td>\n",
       "      <td>0.990024</td>\n",
       "      <td>0.957746</td>\n",
       "      <td>0.910714</td>\n",
       "      <td>0.933638</td>\n",
       "      <td>0.972019</td>\n",
       "      <td>0.952249</td>\n",
       "      <td>0.961831</td>\n",
       "      <td>0.982468</td>\n",
       "      <td>0.982656</td>\n",
       "      <td>0.982470</td>\n",
       "      <td>0.982656</td>\n",
       "    </tr>\n",
       "    <tr>\n",
       "      <th>0.35</th>\n",
       "      <td>0.981658</td>\n",
       "      <td>0.997928</td>\n",
       "      <td>0.989726</td>\n",
       "      <td>0.985000</td>\n",
       "      <td>0.879464</td>\n",
       "      <td>0.929245</td>\n",
       "      <td>0.983329</td>\n",
       "      <td>0.938696</td>\n",
       "      <td>0.959486</td>\n",
       "      <td>0.982105</td>\n",
       "      <td>0.982057</td>\n",
       "      <td>0.981623</td>\n",
       "      <td>0.982057</td>\n",
       "    </tr>\n",
       "    <tr>\n",
       "      <th>0.40</th>\n",
       "      <td>0.980339</td>\n",
       "      <td>0.998619</td>\n",
       "      <td>0.989394</td>\n",
       "      <td>0.989848</td>\n",
       "      <td>0.870536</td>\n",
       "      <td>0.926366</td>\n",
       "      <td>0.985093</td>\n",
       "      <td>0.934577</td>\n",
       "      <td>0.957880</td>\n",
       "      <td>0.981613</td>\n",
       "      <td>0.981459</td>\n",
       "      <td>0.980950</td>\n",
       "      <td>0.981459</td>\n",
       "    </tr>\n",
       "    <tr>\n",
       "      <th>0.30</th>\n",
       "      <td>0.983607</td>\n",
       "      <td>0.994475</td>\n",
       "      <td>0.989011</td>\n",
       "      <td>0.961538</td>\n",
       "      <td>0.892857</td>\n",
       "      <td>0.925926</td>\n",
       "      <td>0.972573</td>\n",
       "      <td>0.943666</td>\n",
       "      <td>0.957468</td>\n",
       "      <td>0.980650</td>\n",
       "      <td>0.980861</td>\n",
       "      <td>0.980559</td>\n",
       "      <td>0.980861</td>\n",
       "    </tr>\n",
       "    <tr>\n",
       "      <th>0.15</th>\n",
       "      <td>0.992292</td>\n",
       "      <td>0.977901</td>\n",
       "      <td>0.985043</td>\n",
       "      <td>0.869388</td>\n",
       "      <td>0.950893</td>\n",
       "      <td>0.908316</td>\n",
       "      <td>0.930840</td>\n",
       "      <td>0.964397</td>\n",
       "      <td>0.946680</td>\n",
       "      <td>0.975826</td>\n",
       "      <td>0.974282</td>\n",
       "      <td>0.974764</td>\n",
       "      <td>0.974282</td>\n",
       "    </tr>\n",
       "    <tr>\n",
       "      <th>0.45</th>\n",
       "      <td>0.975709</td>\n",
       "      <td>0.998619</td>\n",
       "      <td>0.987031</td>\n",
       "      <td>0.989474</td>\n",
       "      <td>0.839286</td>\n",
       "      <td>0.908213</td>\n",
       "      <td>0.982591</td>\n",
       "      <td>0.918952</td>\n",
       "      <td>0.947622</td>\n",
       "      <td>0.977553</td>\n",
       "      <td>0.977273</td>\n",
       "      <td>0.976471</td>\n",
       "      <td>0.977273</td>\n",
       "    </tr>\n",
       "    <tr>\n",
       "      <th>0.50</th>\n",
       "      <td>0.969839</td>\n",
       "      <td>0.999309</td>\n",
       "      <td>0.984354</td>\n",
       "      <td>0.994444</td>\n",
       "      <td>0.799107</td>\n",
       "      <td>0.886139</td>\n",
       "      <td>0.982142</td>\n",
       "      <td>0.899208</td>\n",
       "      <td>0.935246</td>\n",
       "      <td>0.973136</td>\n",
       "      <td>0.972488</td>\n",
       "      <td>0.971196</td>\n",
       "      <td>0.972488</td>\n",
       "    </tr>\n",
       "    <tr>\n",
       "      <th>0.55</th>\n",
       "      <td>0.965977</td>\n",
       "      <td>1.000000</td>\n",
       "      <td>0.982694</td>\n",
       "      <td>1.000000</td>\n",
       "      <td>0.772321</td>\n",
       "      <td>0.871537</td>\n",
       "      <td>0.982989</td>\n",
       "      <td>0.886161</td>\n",
       "      <td>0.927115</td>\n",
       "      <td>0.970535</td>\n",
       "      <td>0.969498</td>\n",
       "      <td>0.967802</td>\n",
       "      <td>0.969498</td>\n",
       "    </tr>\n",
       "    <tr>\n",
       "      <th>0.60</th>\n",
       "      <td>0.962126</td>\n",
       "      <td>1.000000</td>\n",
       "      <td>0.980698</td>\n",
       "      <td>1.000000</td>\n",
       "      <td>0.745536</td>\n",
       "      <td>0.854220</td>\n",
       "      <td>0.981063</td>\n",
       "      <td>0.872768</td>\n",
       "      <td>0.917459</td>\n",
       "      <td>0.967200</td>\n",
       "      <td>0.965909</td>\n",
       "      <td>0.963753</td>\n",
       "      <td>0.965909</td>\n",
       "    </tr>\n",
       "    <tr>\n",
       "      <th>0.65</th>\n",
       "      <td>0.956407</td>\n",
       "      <td>1.000000</td>\n",
       "      <td>0.977718</td>\n",
       "      <td>1.000000</td>\n",
       "      <td>0.705357</td>\n",
       "      <td>0.827225</td>\n",
       "      <td>0.978203</td>\n",
       "      <td>0.852679</td>\n",
       "      <td>0.902471</td>\n",
       "      <td>0.962247</td>\n",
       "      <td>0.960526</td>\n",
       "      <td>0.957556</td>\n",
       "      <td>0.960526</td>\n",
       "    </tr>\n",
       "    <tr>\n",
       "      <th>0.70</th>\n",
       "      <td>0.951380</td>\n",
       "      <td>1.000000</td>\n",
       "      <td>0.975084</td>\n",
       "      <td>1.000000</td>\n",
       "      <td>0.669643</td>\n",
       "      <td>0.802139</td>\n",
       "      <td>0.975690</td>\n",
       "      <td>0.834821</td>\n",
       "      <td>0.888612</td>\n",
       "      <td>0.957893</td>\n",
       "      <td>0.955742</td>\n",
       "      <td>0.951914</td>\n",
       "      <td>0.955742</td>\n",
       "    </tr>\n",
       "    <tr>\n",
       "      <th>0.10</th>\n",
       "      <td>0.994780</td>\n",
       "      <td>0.921271</td>\n",
       "      <td>0.956615</td>\n",
       "      <td>0.655589</td>\n",
       "      <td>0.968750</td>\n",
       "      <td>0.781982</td>\n",
       "      <td>0.825185</td>\n",
       "      <td>0.945010</td>\n",
       "      <td>0.869299</td>\n",
       "      <td>0.949338</td>\n",
       "      <td>0.927632</td>\n",
       "      <td>0.933219</td>\n",
       "      <td>0.927632</td>\n",
       "    </tr>\n",
       "    <tr>\n",
       "      <th>0.75</th>\n",
       "      <td>0.945787</td>\n",
       "      <td>1.000000</td>\n",
       "      <td>0.972138</td>\n",
       "      <td>1.000000</td>\n",
       "      <td>0.629464</td>\n",
       "      <td>0.772603</td>\n",
       "      <td>0.972894</td>\n",
       "      <td>0.814732</td>\n",
       "      <td>0.872371</td>\n",
       "      <td>0.953050</td>\n",
       "      <td>0.950359</td>\n",
       "      <td>0.945406</td>\n",
       "      <td>0.950359</td>\n",
       "    </tr>\n",
       "    <tr>\n",
       "      <th>0.80</th>\n",
       "      <td>0.939040</td>\n",
       "      <td>1.000000</td>\n",
       "      <td>0.968562</td>\n",
       "      <td>1.000000</td>\n",
       "      <td>0.580357</td>\n",
       "      <td>0.734463</td>\n",
       "      <td>0.969520</td>\n",
       "      <td>0.790179</td>\n",
       "      <td>0.851513</td>\n",
       "      <td>0.947207</td>\n",
       "      <td>0.943780</td>\n",
       "      <td>0.937199</td>\n",
       "      <td>0.943780</td>\n",
       "    </tr>\n",
       "    <tr>\n",
       "      <th>0.85</th>\n",
       "      <td>0.928801</td>\n",
       "      <td>1.000000</td>\n",
       "      <td>0.963086</td>\n",
       "      <td>1.000000</td>\n",
       "      <td>0.504464</td>\n",
       "      <td>0.670623</td>\n",
       "      <td>0.964400</td>\n",
       "      <td>0.752232</td>\n",
       "      <td>0.816855</td>\n",
       "      <td>0.938339</td>\n",
       "      <td>0.933612</td>\n",
       "      <td>0.923904</td>\n",
       "      <td>0.933612</td>\n",
       "    </tr>\n",
       "    <tr>\n",
       "      <th>0.90</th>\n",
       "      <td>0.917617</td>\n",
       "      <td>1.000000</td>\n",
       "      <td>0.957039</td>\n",
       "      <td>1.000000</td>\n",
       "      <td>0.419643</td>\n",
       "      <td>0.591195</td>\n",
       "      <td>0.958809</td>\n",
       "      <td>0.709821</td>\n",
       "      <td>0.774117</td>\n",
       "      <td>0.928654</td>\n",
       "      <td>0.922249</td>\n",
       "      <td>0.908026</td>\n",
       "      <td>0.922249</td>\n",
       "    </tr>\n",
       "    <tr>\n",
       "      <th>0.95</th>\n",
       "      <td>0.900498</td>\n",
       "      <td>1.000000</td>\n",
       "      <td>0.947644</td>\n",
       "      <td>1.000000</td>\n",
       "      <td>0.285714</td>\n",
       "      <td>0.444444</td>\n",
       "      <td>0.950249</td>\n",
       "      <td>0.642857</td>\n",
       "      <td>0.696044</td>\n",
       "      <td>0.913828</td>\n",
       "      <td>0.904306</td>\n",
       "      <td>0.880230</td>\n",
       "      <td>0.904306</td>\n",
       "    </tr>\n",
       "  </tbody>\n",
       "</table>\n",
       "</div>"
      ],
      "text/plain": [
       "type           0                             1                     macro avg  \\\n",
       "index  precision    recall  f1-score precision    recall  f1-score precision   \n",
       "cutoff                                                                         \n",
       "0.20    0.988973  0.991022  0.989997  0.941176  0.928571  0.934831  0.965075   \n",
       "0.25    0.986292  0.993785  0.990024  0.957746  0.910714  0.933638  0.972019   \n",
       "0.35    0.981658  0.997928  0.989726  0.985000  0.879464  0.929245  0.983329   \n",
       "0.40    0.980339  0.998619  0.989394  0.989848  0.870536  0.926366  0.985093   \n",
       "0.30    0.983607  0.994475  0.989011  0.961538  0.892857  0.925926  0.972573   \n",
       "0.15    0.992292  0.977901  0.985043  0.869388  0.950893  0.908316  0.930840   \n",
       "0.45    0.975709  0.998619  0.987031  0.989474  0.839286  0.908213  0.982591   \n",
       "0.50    0.969839  0.999309  0.984354  0.994444  0.799107  0.886139  0.982142   \n",
       "0.55    0.965977  1.000000  0.982694  1.000000  0.772321  0.871537  0.982989   \n",
       "0.60    0.962126  1.000000  0.980698  1.000000  0.745536  0.854220  0.981063   \n",
       "0.65    0.956407  1.000000  0.977718  1.000000  0.705357  0.827225  0.978203   \n",
       "0.70    0.951380  1.000000  0.975084  1.000000  0.669643  0.802139  0.975690   \n",
       "0.10    0.994780  0.921271  0.956615  0.655589  0.968750  0.781982  0.825185   \n",
       "0.75    0.945787  1.000000  0.972138  1.000000  0.629464  0.772603  0.972894   \n",
       "0.80    0.939040  1.000000  0.968562  1.000000  0.580357  0.734463  0.969520   \n",
       "0.85    0.928801  1.000000  0.963086  1.000000  0.504464  0.670623  0.964400   \n",
       "0.90    0.917617  1.000000  0.957039  1.000000  0.419643  0.591195  0.958809   \n",
       "0.95    0.900498  1.000000  0.947644  1.000000  0.285714  0.444444  0.950249   \n",
       "\n",
       "type                       weighted avg                      accuracy  \n",
       "index     recall  f1-score    precision    recall  f1-score  accuracy  \n",
       "cutoff                                                                 \n",
       "0.20    0.959797  0.962414     0.982570  0.982656  0.982606  0.982656  \n",
       "0.25    0.952249  0.961831     0.982468  0.982656  0.982470  0.982656  \n",
       "0.35    0.938696  0.959486     0.982105  0.982057  0.981623  0.982057  \n",
       "0.40    0.934577  0.957880     0.981613  0.981459  0.980950  0.981459  \n",
       "0.30    0.943666  0.957468     0.980650  0.980861  0.980559  0.980861  \n",
       "0.15    0.964397  0.946680     0.975826  0.974282  0.974764  0.974282  \n",
       "0.45    0.918952  0.947622     0.977553  0.977273  0.976471  0.977273  \n",
       "0.50    0.899208  0.935246     0.973136  0.972488  0.971196  0.972488  \n",
       "0.55    0.886161  0.927115     0.970535  0.969498  0.967802  0.969498  \n",
       "0.60    0.872768  0.917459     0.967200  0.965909  0.963753  0.965909  \n",
       "0.65    0.852679  0.902471     0.962247  0.960526  0.957556  0.960526  \n",
       "0.70    0.834821  0.888612     0.957893  0.955742  0.951914  0.955742  \n",
       "0.10    0.945010  0.869299     0.949338  0.927632  0.933219  0.927632  \n",
       "0.75    0.814732  0.872371     0.953050  0.950359  0.945406  0.950359  \n",
       "0.80    0.790179  0.851513     0.947207  0.943780  0.937199  0.943780  \n",
       "0.85    0.752232  0.816855     0.938339  0.933612  0.923904  0.933612  \n",
       "0.90    0.709821  0.774117     0.928654  0.922249  0.908026  0.922249  \n",
       "0.95    0.642857  0.696044     0.913828  0.904306  0.880230  0.904306  "
      ]
     },
     "execution_count": 135,
     "metadata": {},
     "output_type": "execute_result"
    }
   ],
   "source": [
    "df_results_test.sort_values(('1', 'f1-score'), ascending=False)"
   ]
  },
  {
   "cell_type": "markdown",
   "id": "a37aad92",
   "metadata": {},
   "source": [
    "### Improving  model"
   ]
  },
  {
   "cell_type": "code",
   "execution_count": 138,
   "id": "f8be18cc",
   "metadata": {},
   "outputs": [
    {
     "name": "stdout",
     "output_type": "stream",
     "text": [
      "Alpha:  0.1\n",
      "Score:  0.9856459330143541\n",
      "\n",
      "Alpha:  0.15000000000000002\n",
      "Score:  0.9874401913875598\n",
      "\n",
      "Alpha:  0.20000000000000004\n",
      "Score:  0.9868421052631579\n",
      "\n",
      "Alpha:  0.25000000000000006\n",
      "Score:  0.986244019138756\n",
      "\n",
      "Alpha:  0.30000000000000004\n",
      "Score:  0.986244019138756\n",
      "\n",
      "Alpha:  0.3500000000000001\n",
      "Score:  0.9844497607655502\n",
      "\n",
      "Alpha:  0.40000000000000013\n",
      "Score:  0.9844497607655502\n",
      "\n",
      "Alpha:  0.45000000000000007\n",
      "Score:  0.9832535885167464\n",
      "\n",
      "Alpha:  0.5000000000000001\n",
      "Score:  0.9826555023923444\n",
      "\n",
      "Alpha:  0.5500000000000002\n",
      "Score:  0.9826555023923444\n",
      "\n",
      "Alpha:  0.6000000000000002\n",
      "Score:  0.9820574162679426\n",
      "\n",
      "Alpha:  0.6500000000000001\n",
      "Score:  0.9820574162679426\n",
      "\n",
      "Alpha:  0.7000000000000002\n",
      "Score:  0.9814593301435407\n",
      "\n",
      "Alpha:  0.7500000000000002\n",
      "Score:  0.9814593301435407\n",
      "\n",
      "Alpha:  0.8000000000000002\n",
      "Score:  0.9808612440191388\n",
      "\n",
      "Alpha:  0.8500000000000002\n",
      "Score:  0.9778708133971292\n",
      "\n",
      "Alpha:  0.9000000000000002\n",
      "Score:  0.9772727272727273\n",
      "\n",
      "Alpha:  0.9500000000000003\n",
      "Score:  0.9748803827751196\n",
      "\n"
     ]
    }
   ],
   "source": [
    "# Create the list of alphas: alphas\n",
    "alphas = np.arange(0.1,1,.05)\n",
    "\n",
    "# Define train_and_predict()\n",
    "def train_and_predict(alpha):\n",
    "    # Instantiate the classifier: nb_classifier\n",
    "    nb_classifier = MultinomialNB(alpha=alpha)\n",
    "    # Fit to the training data\n",
    "    nb_classifier.fit(tfidf_train, y_train)\n",
    "    # Predict the labels: pred\n",
    "    pred = nb_classifier.predict(tfidf_test)\n",
    "    # Compute accuracy: score\n",
    "    score = metrics.accuracy_score(y_test, pred)\n",
    "    return score\n",
    "\n",
    "# Iterate over the alphas and print the corresponding score\n",
    "for alpha in alphas:\n",
    "    print('Alpha: ', alpha)\n",
    "    print('Score: ', train_and_predict(alpha))\n",
    "    print()\n"
   ]
  },
  {
   "cell_type": "markdown",
   "id": "839e5219",
   "metadata": {},
   "source": [
    "### Inspecting your model"
   ]
  },
  {
   "cell_type": "code",
   "execution_count": 140,
   "id": "b6fe8f27",
   "metadata": {},
   "outputs": [
    {
     "name": "stdout",
     "output_type": "stream",
     "text": [
      "0 [(-9.099892152892778, '000pes'), (-9.099892152892778, '1030'), (-9.099892152892778, '1120'), (-9.099892152892778, '116'), (-9.099892152892778, '1205'), (-9.099892152892778, '128'), (-9.099892152892778, '130'), (-9.099892152892778, '140'), (-9.099892152892778, '1405'), (-9.099892152892778, '15'), (-9.099892152892778, '1680'), (-9.099892152892778, '180'), (-9.099892152892778, '1843'), (-9.099892152892778, '1apple'), (-9.099892152892778, '1cup'), (-9.099892152892778, '1hr'), (-9.099892152892778, '1im'), (-9.099892152892778, '1lemon'), (-9.099892152892778, '1mega'), (-9.099892152892778, '1thing')]\n",
      "1 [(-6.900352022907024, 'tone'), (-6.8808566604580275, '50'), (-6.85483346684675, 'urgent'), (-6.838402817580841, 'win'), (-6.824466738589042, '150p'), (-6.819538010326303, 'nokia'), (-6.808660799521875, 'uk'), (-6.728802042693488, 'won'), (-6.719296813568356, 'cash'), (-6.638441446134595, 'prize'), (-6.629883996132534, 'new'), (-6.525923563411286, 'www'), (-6.514932995147068, 'ur'), (-6.4565158235093545, 'claim'), (-6.405902415852644, 'reply'), (-6.3960915244581, 'stop'), (-6.33382235896478, 'text'), (-6.304991167901536, 'mobile'), (-6.231848473043751, 'txt'), (-5.803486942025787, 'free')]\n"
     ]
    }
   ],
   "source": [
    "# Get the class labels: class_labels\n",
    "class_labels = nb_classifier.classes_\n",
    "\n",
    "# Extract the features: feature_names\n",
    "feature_names = tfidf_vectorizer.get_feature_names_out()\n",
    "\n",
    "# Zip the feature names together with the coefficient array and sort by weights: feat_with_weights\n",
    "feat_with_weights = sorted(zip(nb_classifier.coef_[0], feature_names))\n",
    "\n",
    "# Print the first class label and the top 20 feat_with_weights entries\n",
    "print(class_labels[0], feat_with_weights[:20])\n",
    "\n",
    "# Print the second class label and the bottom 20 feat_with_weights entries\n",
    "print(class_labels[1], feat_with_weights[-20:])\n"
   ]
  },
  {
   "cell_type": "code",
   "execution_count": null,
   "id": "71b60fbf",
   "metadata": {},
   "outputs": [],
   "source": []
  },
  {
   "cell_type": "code",
   "execution_count": null,
   "id": "4650552e",
   "metadata": {},
   "outputs": [],
   "source": []
  },
  {
   "cell_type": "code",
   "execution_count": null,
   "id": "45676206",
   "metadata": {},
   "outputs": [],
   "source": []
  },
  {
   "cell_type": "code",
   "execution_count": null,
   "id": "00973b86",
   "metadata": {},
   "outputs": [],
   "source": []
  },
  {
   "cell_type": "code",
   "execution_count": null,
   "id": "1e344c13",
   "metadata": {},
   "outputs": [],
   "source": []
  },
  {
   "cell_type": "code",
   "execution_count": null,
   "id": "ec8b8105",
   "metadata": {},
   "outputs": [],
   "source": []
  },
  {
   "cell_type": "code",
   "execution_count": null,
   "id": "7ce59952",
   "metadata": {},
   "outputs": [],
   "source": []
  },
  {
   "cell_type": "code",
   "execution_count": null,
   "id": "7b738ae9",
   "metadata": {},
   "outputs": [],
   "source": []
  },
  {
   "cell_type": "code",
   "execution_count": null,
   "id": "fac4e83c",
   "metadata": {},
   "outputs": [],
   "source": []
  },
  {
   "cell_type": "code",
   "execution_count": null,
   "id": "5ae0e4ea",
   "metadata": {},
   "outputs": [],
   "source": []
  },
  {
   "cell_type": "code",
   "execution_count": null,
   "id": "fee4365a",
   "metadata": {},
   "outputs": [],
   "source": []
  },
  {
   "cell_type": "code",
   "execution_count": null,
   "id": "7fd2e0dc",
   "metadata": {},
   "outputs": [],
   "source": []
  },
  {
   "cell_type": "code",
   "execution_count": null,
   "id": "38bc4904",
   "metadata": {},
   "outputs": [],
   "source": []
  },
  {
   "cell_type": "code",
   "execution_count": null,
   "id": "e93b32fe",
   "metadata": {},
   "outputs": [],
   "source": []
  },
  {
   "cell_type": "code",
   "execution_count": null,
   "id": "77f5ebf4",
   "metadata": {},
   "outputs": [],
   "source": []
  },
  {
   "cell_type": "code",
   "execution_count": null,
   "id": "1e8fcc2d",
   "metadata": {},
   "outputs": [],
   "source": []
  },
  {
   "cell_type": "code",
   "execution_count": null,
   "id": "cf5f5511",
   "metadata": {},
   "outputs": [],
   "source": []
  },
  {
   "cell_type": "code",
   "execution_count": null,
   "id": "c5751ca5",
   "metadata": {},
   "outputs": [],
   "source": []
  },
  {
   "cell_type": "code",
   "execution_count": null,
   "id": "e4f47a8a",
   "metadata": {},
   "outputs": [],
   "source": []
  },
  {
   "cell_type": "code",
   "execution_count": null,
   "id": "90da10fd",
   "metadata": {},
   "outputs": [],
   "source": []
  },
  {
   "cell_type": "code",
   "execution_count": 87,
   "id": "6b20d317",
   "metadata": {},
   "outputs": [],
   "source": [
    "from gensim.models import Word2Vec"
   ]
  },
  {
   "cell_type": "code",
   "execution_count": 112,
   "id": "f6bbe3da",
   "metadata": {},
   "outputs": [],
   "source": [
    "model = Word2Vec(df.filtered_words, min_count=2, seed=42)"
   ]
  },
  {
   "cell_type": "code",
   "execution_count": 114,
   "id": "19107d6b",
   "metadata": {},
   "outputs": [
    {
     "data": {
      "text/plain": [
       "0       [go, jurong, point, crazi, avail, bugi, n, gre...\n",
       "1                            [ok, lar, joke, wif, u, oni]\n",
       "2       [free, entri, 2, wkli, comp, win, fa, cup, fin...\n",
       "3           [u, dun, say, earli, hor, u, c, alreadi, say]\n",
       "4            [nah, think, goe, usf, live, around, though]\n",
       "                              ...                        \n",
       "5567    [2nd, time, tri, 2, contact, u, u, 750, pound,...\n",
       "5568                          [b, go, esplanad, fr, home]\n",
       "5569                                [piti, mood, suggest]\n",
       "5570    [guy, bitch, act, like, interest, buy, someth,...\n",
       "5571                                   [rofl, true, name]\n",
       "Name: filtered_words, Length: 5572, dtype: object"
      ]
     },
     "execution_count": 114,
     "metadata": {},
     "output_type": "execute_result"
    }
   ],
   "source": [
    "df.filtered_words"
   ]
  },
  {
   "cell_type": "code",
   "execution_count": null,
   "id": "cb523bf6",
   "metadata": {},
   "outputs": [],
   "source": []
  },
  {
   "cell_type": "code",
   "execution_count": 113,
   "id": "34bd43ab",
   "metadata": {},
   "outputs": [
    {
     "data": {
      "text/plain": [
       "[('2', 0.999763011932373),\n",
       " ('today', 0.9997591376304626),\n",
       " ('n', 0.9997584819793701),\n",
       " ('back', 0.9997507929801941),\n",
       " ('got', 0.9997477531433105),\n",
       " ('get', 0.9997464418411255),\n",
       " ('thing', 0.9997432231903076),\n",
       " ('amp', 0.9997358322143555),\n",
       " ('even', 0.9997336864471436),\n",
       " ('give', 0.9997304677963257)]"
      ]
     },
     "execution_count": 113,
     "metadata": {},
     "output_type": "execute_result"
    }
   ],
   "source": [
    "model.wv.most_similar('buy')"
   ]
  },
  {
   "cell_type": "code",
   "execution_count": 115,
   "id": "a48dce08",
   "metadata": {},
   "outputs": [],
   "source": [
    "clean_tokens_http =[]\n",
    "\n",
    "\n",
    "for lista in list(df.filtered_words):\n",
    "    for token in lista: \n",
    "        clean_tokens_http.append(token)"
   ]
  },
  {
   "cell_type": "code",
   "execution_count": 116,
   "id": "6d50d3bd",
   "metadata": {},
   "outputs": [
    {
     "data": {
      "text/plain": [
       "['go',\n",
       " 'jurong',\n",
       " 'point',\n",
       " 'crazi',\n",
       " 'avail',\n",
       " 'bugi',\n",
       " 'n',\n",
       " 'great',\n",
       " 'world',\n",
       " 'la',\n",
       " 'e',\n",
       " 'buffet',\n",
       " 'cine',\n",
       " 'got',\n",
       " 'amor',\n",
       " 'wat',\n",
       " 'ok',\n",
       " 'lar',\n",
       " 'joke',\n",
       " 'wif',\n",
       " 'u',\n",
       " 'oni',\n",
       " 'free',\n",
       " 'entri',\n",
       " '2',\n",
       " 'wkli',\n",
       " 'comp',\n",
       " 'win',\n",
       " 'fa',\n",
       " 'cup',\n",
       " 'final',\n",
       " 'tkt',\n",
       " '21st',\n",
       " 'may',\n",
       " '2005',\n",
       " 'text',\n",
       " 'fa',\n",
       " '87121',\n",
       " 'receiv',\n",
       " 'entri',\n",
       " 'question',\n",
       " 'std',\n",
       " 'txt',\n",
       " 'rate',\n",
       " 'c',\n",
       " 'appli',\n",
       " '08452810075over18',\n",
       " 'u',\n",
       " 'dun',\n",
       " 'say',\n",
       " 'earli',\n",
       " 'hor',\n",
       " 'u',\n",
       " 'c',\n",
       " 'alreadi',\n",
       " 'say',\n",
       " 'nah',\n",
       " 'think',\n",
       " 'goe',\n",
       " 'usf',\n",
       " 'live',\n",
       " 'around',\n",
       " 'though',\n",
       " 'freemsg',\n",
       " 'hey',\n",
       " 'darl',\n",
       " '3',\n",
       " 'week',\n",
       " 'word',\n",
       " 'back',\n",
       " 'like',\n",
       " 'fun',\n",
       " 'still',\n",
       " 'tb',\n",
       " 'ok',\n",
       " 'xxx',\n",
       " 'std',\n",
       " 'chg',\n",
       " 'send',\n",
       " '1',\n",
       " '50',\n",
       " 'rcv',\n",
       " 'even',\n",
       " 'brother',\n",
       " 'like',\n",
       " 'speak',\n",
       " 'treat',\n",
       " 'like',\n",
       " 'aid',\n",
       " 'patent',\n",
       " 'per',\n",
       " 'request',\n",
       " 'mell',\n",
       " 'mell',\n",
       " 'oru',\n",
       " 'minnaminungint',\n",
       " 'nurungu',\n",
       " 'vettam',\n",
       " 'set',\n",
       " 'callertun',\n",
       " 'caller',\n",
       " 'press',\n",
       " '9',\n",
       " 'copi',\n",
       " 'friend',\n",
       " 'callertun',\n",
       " 'winner',\n",
       " 'valu',\n",
       " 'network',\n",
       " 'custom',\n",
       " 'select',\n",
       " 'receivea',\n",
       " '900',\n",
       " 'prize',\n",
       " 'reward',\n",
       " 'claim',\n",
       " 'call',\n",
       " '09061701461',\n",
       " 'claim',\n",
       " 'code',\n",
       " 'kl341',\n",
       " 'valid',\n",
       " '12',\n",
       " 'hour',\n",
       " 'mobil',\n",
       " '11',\n",
       " 'month',\n",
       " 'u',\n",
       " 'r',\n",
       " 'entitl',\n",
       " 'updat',\n",
       " 'latest',\n",
       " 'colour',\n",
       " 'mobil',\n",
       " 'camera',\n",
       " 'free',\n",
       " 'call',\n",
       " 'mobil',\n",
       " 'updat',\n",
       " 'co',\n",
       " 'free',\n",
       " '08002986030',\n",
       " 'gon',\n",
       " 'na',\n",
       " 'home',\n",
       " 'soon',\n",
       " 'want',\n",
       " 'talk',\n",
       " 'stuff',\n",
       " 'anymor',\n",
       " 'tonight',\n",
       " 'k',\n",
       " 'cri',\n",
       " 'enough',\n",
       " 'today',\n",
       " 'six',\n",
       " 'chanc',\n",
       " 'win',\n",
       " 'cash',\n",
       " '100',\n",
       " '20',\n",
       " '000',\n",
       " 'pound',\n",
       " 'txt',\n",
       " 'csh11',\n",
       " 'send',\n",
       " '87575',\n",
       " 'cost',\n",
       " '150p',\n",
       " 'day',\n",
       " '6day',\n",
       " '16',\n",
       " 'tsandc',\n",
       " 'appli',\n",
       " 'repli',\n",
       " 'hl',\n",
       " '4',\n",
       " 'info',\n",
       " 'urgent',\n",
       " '1',\n",
       " 'week',\n",
       " 'free',\n",
       " 'membership',\n",
       " '100',\n",
       " '000',\n",
       " 'prize',\n",
       " 'jackpot',\n",
       " 'txt',\n",
       " 'word',\n",
       " 'claim',\n",
       " '81010',\n",
       " 'c',\n",
       " 'www',\n",
       " 'dbuk',\n",
       " 'net',\n",
       " 'lccltd',\n",
       " 'pobox',\n",
       " '4403ldnw1a7rw18',\n",
       " 'search',\n",
       " 'right',\n",
       " 'word',\n",
       " 'thank',\n",
       " 'breather',\n",
       " 'promis',\n",
       " 'wont',\n",
       " 'take',\n",
       " 'help',\n",
       " 'grant',\n",
       " 'fulfil',\n",
       " 'promis',\n",
       " 'wonder',\n",
       " 'bless',\n",
       " 'time',\n",
       " 'date',\n",
       " 'sunday',\n",
       " 'xxxmobilemovieclub',\n",
       " 'use',\n",
       " 'credit',\n",
       " 'click',\n",
       " 'wap',\n",
       " 'link',\n",
       " 'next',\n",
       " 'txt',\n",
       " 'messag',\n",
       " 'click',\n",
       " 'http',\n",
       " 'wap',\n",
       " 'xxxmobilemovieclub',\n",
       " 'com',\n",
       " 'n',\n",
       " 'qjkgighjjgcbl',\n",
       " 'oh',\n",
       " 'k',\n",
       " 'watch',\n",
       " 'eh',\n",
       " 'u',\n",
       " 'rememb',\n",
       " '2',\n",
       " 'spell',\n",
       " 'name',\n",
       " 'ye',\n",
       " 'v',\n",
       " 'naughti',\n",
       " 'make',\n",
       " 'v',\n",
       " 'wet',\n",
       " 'fine',\n",
       " 'way',\n",
       " 'u',\n",
       " 'feel',\n",
       " 'way',\n",
       " 'gota',\n",
       " 'b',\n",
       " 'england',\n",
       " 'v',\n",
       " 'macedonia',\n",
       " 'dont',\n",
       " 'miss',\n",
       " 'goal',\n",
       " 'team',\n",
       " 'news',\n",
       " 'txt',\n",
       " 'ur',\n",
       " 'nation',\n",
       " 'team',\n",
       " '87077',\n",
       " 'eg',\n",
       " 'england',\n",
       " '87077',\n",
       " 'tri',\n",
       " 'wale',\n",
       " 'scotland',\n",
       " '4txt',\n",
       " '1',\n",
       " '20',\n",
       " 'poboxox36504w45wq',\n",
       " '16',\n",
       " 'serious',\n",
       " 'spell',\n",
       " 'name',\n",
       " 'go',\n",
       " 'tri',\n",
       " '2',\n",
       " 'month',\n",
       " 'ha',\n",
       " 'ha',\n",
       " 'joke',\n",
       " 'pay',\n",
       " 'first',\n",
       " 'lar',\n",
       " 'da',\n",
       " 'stock',\n",
       " 'comin',\n",
       " 'aft',\n",
       " 'finish',\n",
       " 'lunch',\n",
       " 'go',\n",
       " 'str',\n",
       " 'lor',\n",
       " 'ard',\n",
       " '3',\n",
       " 'smth',\n",
       " 'lor',\n",
       " 'u',\n",
       " 'finish',\n",
       " 'ur',\n",
       " 'lunch',\n",
       " 'alreadi',\n",
       " 'ffffffffff',\n",
       " 'alright',\n",
       " 'way',\n",
       " 'meet',\n",
       " 'sooner',\n",
       " 'forc',\n",
       " 'eat',\n",
       " 'slice',\n",
       " 'realli',\n",
       " 'hungri',\n",
       " 'tho',\n",
       " 'suck',\n",
       " 'mark',\n",
       " 'get',\n",
       " 'worri',\n",
       " 'know',\n",
       " 'sick',\n",
       " 'turn',\n",
       " 'pizza',\n",
       " 'lol',\n",
       " 'lol',\n",
       " 'alway',\n",
       " 'convinc',\n",
       " 'catch',\n",
       " 'bu',\n",
       " 'fri',\n",
       " 'egg',\n",
       " 'make',\n",
       " 'tea',\n",
       " 'eat',\n",
       " 'mom',\n",
       " 'left',\n",
       " 'dinner',\n",
       " 'feel',\n",
       " 'love',\n",
       " 'back',\n",
       " 'amp',\n",
       " 'pack',\n",
       " 'car',\n",
       " 'let',\n",
       " 'know',\n",
       " 'room',\n",
       " 'ahhh',\n",
       " 'work',\n",
       " 'vagu',\n",
       " 'rememb',\n",
       " 'feel',\n",
       " 'like',\n",
       " 'lol',\n",
       " 'wait',\n",
       " 'still',\n",
       " 'clear',\n",
       " 'sure',\n",
       " 'sarcast',\n",
       " 'x',\n",
       " 'want',\n",
       " 'live',\n",
       " 'us',\n",
       " 'yeah',\n",
       " 'got',\n",
       " '2',\n",
       " 'v',\n",
       " 'apologet',\n",
       " 'n',\n",
       " 'fallen',\n",
       " 'actin',\n",
       " 'like',\n",
       " 'spoilt',\n",
       " 'child',\n",
       " 'got',\n",
       " 'caught',\n",
       " 'till',\n",
       " '2',\n",
       " 'go',\n",
       " 'badli',\n",
       " 'cheer',\n",
       " 'k',\n",
       " 'tell',\n",
       " 'anyth',\n",
       " 'fear',\n",
       " 'faint',\n",
       " 'housework',\n",
       " 'quick',\n",
       " 'cuppa',\n",
       " 'thank',\n",
       " 'subscript',\n",
       " 'rington',\n",
       " 'uk',\n",
       " 'mobil',\n",
       " 'charg',\n",
       " '5',\n",
       " 'month',\n",
       " 'pleas',\n",
       " 'confirm',\n",
       " 'repli',\n",
       " 'ye',\n",
       " 'repli',\n",
       " 'charg',\n",
       " 'yup',\n",
       " 'ok',\n",
       " 'go',\n",
       " 'home',\n",
       " 'look',\n",
       " 'time',\n",
       " 'msg',\n",
       " 'xuhui',\n",
       " 'go',\n",
       " 'learn',\n",
       " '2nd',\n",
       " 'may',\n",
       " 'lesson',\n",
       " '8am',\n",
       " 'oop',\n",
       " 'let',\n",
       " 'know',\n",
       " 'roommat',\n",
       " 'done',\n",
       " 'see',\n",
       " 'letter',\n",
       " 'b',\n",
       " 'car',\n",
       " 'anyth',\n",
       " 'lor',\n",
       " 'u',\n",
       " 'decid',\n",
       " 'hello',\n",
       " 'saturday',\n",
       " 'go',\n",
       " 'text',\n",
       " 'see',\n",
       " 'decid',\n",
       " 'anyth',\n",
       " 'tomo',\n",
       " 'tri',\n",
       " 'invit',\n",
       " 'anyth',\n",
       " 'pl',\n",
       " 'go',\n",
       " 'ahead',\n",
       " 'watt',\n",
       " 'want',\n",
       " 'sure',\n",
       " 'great',\n",
       " 'weekend',\n",
       " 'abiola',\n",
       " 'forget',\n",
       " 'tell',\n",
       " 'want',\n",
       " 'need',\n",
       " 'crave',\n",
       " 'love',\n",
       " 'sweet',\n",
       " 'arabian',\n",
       " 'steed',\n",
       " 'mmmmmm',\n",
       " 'yummi',\n",
       " '07732584351',\n",
       " 'rodger',\n",
       " 'burn',\n",
       " 'msg',\n",
       " 'tri',\n",
       " 'call',\n",
       " 'repli',\n",
       " 'sm',\n",
       " 'free',\n",
       " 'nokia',\n",
       " 'mobil',\n",
       " 'free',\n",
       " 'camcord',\n",
       " 'pleas',\n",
       " 'call',\n",
       " '08000930705',\n",
       " 'deliveri',\n",
       " 'tomorrow',\n",
       " 'see',\n",
       " 'great',\n",
       " 'hope',\n",
       " 'like',\n",
       " 'man',\n",
       " 'well',\n",
       " 'endow',\n",
       " 'lt',\n",
       " 'gt',\n",
       " 'inch',\n",
       " 'call',\n",
       " 'messag',\n",
       " 'miss',\n",
       " 'call',\n",
       " 'get',\n",
       " 'hep',\n",
       " 'b',\n",
       " 'immunis',\n",
       " 'nigeria',\n",
       " 'fair',\n",
       " 'enough',\n",
       " 'anyth',\n",
       " 'go',\n",
       " 'yeah',\n",
       " 'hope',\n",
       " 'tyler',\n",
       " 'could',\n",
       " 'mayb',\n",
       " 'ask',\n",
       " 'around',\n",
       " 'bit',\n",
       " 'u',\n",
       " 'know',\n",
       " 'stubborn',\n",
       " 'even',\n",
       " 'want',\n",
       " 'go',\n",
       " 'hospit',\n",
       " 'kept',\n",
       " 'tell',\n",
       " 'mark',\n",
       " 'weak',\n",
       " 'sucker',\n",
       " 'hospit',\n",
       " 'weak',\n",
       " 'sucker',\n",
       " 'think',\n",
       " 'first',\n",
       " 'time',\n",
       " 'saw',\n",
       " 'class',\n",
       " 'gram',\n",
       " 'usual',\n",
       " 'run',\n",
       " 'like',\n",
       " 'lt',\n",
       " 'gt',\n",
       " 'half',\n",
       " 'eighth',\n",
       " 'smarter',\n",
       " 'though',\n",
       " 'get',\n",
       " 'almost',\n",
       " 'whole',\n",
       " 'second',\n",
       " 'gram',\n",
       " 'lt',\n",
       " 'gt',\n",
       " 'k',\n",
       " 'fyi',\n",
       " 'x',\n",
       " 'ride',\n",
       " 'earli',\n",
       " 'tomorrow',\n",
       " 'morn',\n",
       " 'crash',\n",
       " 'place',\n",
       " 'tonight',\n",
       " 'wow',\n",
       " 'never',\n",
       " 'realiz',\n",
       " 'embarass',\n",
       " 'accomod',\n",
       " 'thought',\n",
       " 'like',\n",
       " 'sinc',\n",
       " 'best',\n",
       " 'could',\n",
       " 'alway',\n",
       " 'seem',\n",
       " 'happi',\n",
       " 'cave',\n",
       " 'sorri',\n",
       " 'give',\n",
       " 'sorri',\n",
       " 'offer',\n",
       " 'sorri',\n",
       " 'room',\n",
       " 'embarass',\n",
       " 'sm',\n",
       " 'ac',\n",
       " 'sptv',\n",
       " 'new',\n",
       " 'jersey',\n",
       " 'devil',\n",
       " 'detroit',\n",
       " 'red',\n",
       " 'wing',\n",
       " 'play',\n",
       " 'ice',\n",
       " 'hockey',\n",
       " 'correct',\n",
       " 'incorrect',\n",
       " 'end',\n",
       " 'repli',\n",
       " 'end',\n",
       " 'sptv',\n",
       " 'know',\n",
       " 'mallika',\n",
       " 'sherawat',\n",
       " 'yesterday',\n",
       " 'find',\n",
       " 'lt',\n",
       " 'url',\n",
       " 'gt',\n",
       " 'congrat',\n",
       " '1',\n",
       " 'year',\n",
       " 'special',\n",
       " 'cinema',\n",
       " 'pass',\n",
       " '2',\n",
       " 'call',\n",
       " '09061209465',\n",
       " 'c',\n",
       " 'suprman',\n",
       " 'v',\n",
       " 'matrix3',\n",
       " 'starwars3',\n",
       " 'etc',\n",
       " '4',\n",
       " 'free',\n",
       " 'bx420',\n",
       " 'ip4',\n",
       " '5we',\n",
       " '150pm',\n",
       " 'dont',\n",
       " 'miss',\n",
       " 'sorri',\n",
       " 'call',\n",
       " 'later',\n",
       " 'meet',\n",
       " 'tell',\n",
       " 'reach',\n",
       " 'ye',\n",
       " 'gauti',\n",
       " 'sehwag',\n",
       " 'odi',\n",
       " 'seri',\n",
       " 'gon',\n",
       " 'na',\n",
       " 'pick',\n",
       " '1',\n",
       " 'burger',\n",
       " 'way',\n",
       " 'home',\n",
       " 'even',\n",
       " 'move',\n",
       " 'pain',\n",
       " 'kill',\n",
       " 'ha',\n",
       " 'ha',\n",
       " 'ha',\n",
       " 'good',\n",
       " 'joke',\n",
       " 'girl',\n",
       " 'situat',\n",
       " 'seeker',\n",
       " 'part',\n",
       " 'check',\n",
       " 'iq',\n",
       " 'sorri',\n",
       " 'roommat',\n",
       " 'took',\n",
       " 'forev',\n",
       " 'ok',\n",
       " 'come',\n",
       " 'ok',\n",
       " 'lar',\n",
       " 'doubl',\n",
       " 'check',\n",
       " 'wif',\n",
       " 'da',\n",
       " 'hair',\n",
       " 'dresser',\n",
       " 'alreadi',\n",
       " 'said',\n",
       " 'wun',\n",
       " 'cut',\n",
       " 'v',\n",
       " 'short',\n",
       " 'said',\n",
       " 'cut',\n",
       " 'look',\n",
       " 'nice',\n",
       " 'valu',\n",
       " 'custom',\n",
       " 'pleas',\n",
       " 'advis',\n",
       " 'follow',\n",
       " 'recent',\n",
       " 'review',\n",
       " 'mob',\n",
       " 'award',\n",
       " '1500',\n",
       " 'bonu',\n",
       " 'prize',\n",
       " 'call',\n",
       " '09066364589',\n",
       " 'today',\n",
       " 'song',\n",
       " 'dedic',\n",
       " 'day',\n",
       " 'song',\n",
       " 'u',\n",
       " 'dedic',\n",
       " 'send',\n",
       " 'ur',\n",
       " 'valuabl',\n",
       " 'frnd',\n",
       " 'first',\n",
       " 'rpli',\n",
       " 'urgent',\n",
       " 'ur',\n",
       " 'award',\n",
       " 'complimentari',\n",
       " 'trip',\n",
       " 'eurodisinc',\n",
       " 'trav',\n",
       " 'aco',\n",
       " 'entry41',\n",
       " '1000',\n",
       " 'claim',\n",
       " 'txt',\n",
       " 'di',\n",
       " '87121',\n",
       " '18',\n",
       " '6',\n",
       " '1',\n",
       " '50',\n",
       " 'morefrmmob',\n",
       " 'shracomorsglsuplt',\n",
       " '10',\n",
       " 'ls1',\n",
       " '3aj',\n",
       " 'hear',\n",
       " 'new',\n",
       " 'divorc',\n",
       " 'barbi',\n",
       " 'come',\n",
       " 'ken',\n",
       " 'stuff',\n",
       " 'plane',\n",
       " 'give',\n",
       " 'month',\n",
       " 'end',\n",
       " 'wah',\n",
       " 'lucki',\n",
       " 'man',\n",
       " 'save',\n",
       " 'money',\n",
       " 'hee',\n",
       " 'finish',\n",
       " 'class',\n",
       " 'hi',\n",
       " 'babe',\n",
       " 'im',\n",
       " 'home',\n",
       " 'wan',\n",
       " 'na',\n",
       " 'someth',\n",
       " 'xx',\n",
       " 'k',\n",
       " 'k',\n",
       " 'perform',\n",
       " 'u',\n",
       " 'call',\n",
       " 'wait',\n",
       " 'machan',\n",
       " 'call',\n",
       " 'free',\n",
       " 'that',\n",
       " 'cool',\n",
       " 'gentleman',\n",
       " 'treat',\n",
       " 'digniti',\n",
       " 'respect',\n",
       " 'like',\n",
       " 'peopl',\n",
       " 'much',\n",
       " 'shi',\n",
       " 'pa',\n",
       " 'oper',\n",
       " 'lt',\n",
       " 'gt',\n",
       " 'still',\n",
       " 'look',\n",
       " 'job',\n",
       " 'much',\n",
       " 'ta',\n",
       " 'earn',\n",
       " 'sorri',\n",
       " 'call',\n",
       " 'later',\n",
       " 'k',\n",
       " 'call',\n",
       " 'ah',\n",
       " 'ok',\n",
       " 'way',\n",
       " 'home',\n",
       " 'hi',\n",
       " 'hi',\n",
       " 'place',\n",
       " 'man',\n",
       " 'yup',\n",
       " 'next',\n",
       " 'stop',\n",
       " 'call',\n",
       " 'later',\n",
       " 'network',\n",
       " 'urgnt',\n",
       " 'sm',\n",
       " 'real',\n",
       " 'u',\n",
       " 'get',\n",
       " 'yo',\n",
       " 'need',\n",
       " '2',\n",
       " 'ticket',\n",
       " 'one',\n",
       " 'jacket',\n",
       " 'done',\n",
       " 'alreadi',\n",
       " 'use',\n",
       " 'multi',\n",
       " 'ye',\n",
       " 'start',\n",
       " 'send',\n",
       " 'request',\n",
       " 'make',\n",
       " 'pain',\n",
       " 'came',\n",
       " 'back',\n",
       " 'back',\n",
       " 'bed',\n",
       " 'doubl',\n",
       " 'coin',\n",
       " 'factori',\n",
       " 'got',\n",
       " 'ta',\n",
       " 'cash',\n",
       " 'nitro',\n",
       " 'realli',\n",
       " 'still',\n",
       " 'tonight',\n",
       " 'babe',\n",
       " 'ela',\n",
       " 'kano',\n",
       " 'il',\n",
       " 'download',\n",
       " 'come',\n",
       " 'wen',\n",
       " 'ur',\n",
       " 'free',\n",
       " 'yeah',\n",
       " 'stand',\n",
       " 'close',\n",
       " 'tho',\n",
       " 'catch',\n",
       " 'someth',\n",
       " 'sorri',\n",
       " 'pain',\n",
       " 'ok',\n",
       " 'meet',\n",
       " 'anoth',\n",
       " 'night',\n",
       " 'spent',\n",
       " 'late',\n",
       " 'afternoon',\n",
       " 'casualti',\n",
       " 'mean',\n",
       " 'done',\n",
       " 'stuff42moro',\n",
       " 'includ',\n",
       " 'time',\n",
       " 'sheet',\n",
       " 'sorri',\n",
       " 'smile',\n",
       " 'pleasur',\n",
       " 'smile',\n",
       " 'pain',\n",
       " 'smile',\n",
       " 'troubl',\n",
       " 'pour',\n",
       " 'like',\n",
       " 'rain',\n",
       " 'smile',\n",
       " 'sum1',\n",
       " 'hurt',\n",
       " 'u',\n",
       " 'smile',\n",
       " 'becoz',\n",
       " 'someon',\n",
       " 'still',\n",
       " 'love',\n",
       " 'see',\n",
       " 'u',\n",
       " 'smile',\n",
       " 'pleas',\n",
       " 'call',\n",
       " 'custom',\n",
       " 'servic',\n",
       " 'repres',\n",
       " '0800',\n",
       " '169',\n",
       " '6031',\n",
       " '10am',\n",
       " '9pm',\n",
       " 'guarante',\n",
       " '1000',\n",
       " 'cash',\n",
       " '5000',\n",
       " 'prize',\n",
       " 'havent',\n",
       " 'plan',\n",
       " 'buy',\n",
       " 'later',\n",
       " 'check',\n",
       " 'alreadi',\n",
       " 'lido',\n",
       " 'got',\n",
       " '530',\n",
       " 'show',\n",
       " 'e',\n",
       " 'afternoon',\n",
       " 'u',\n",
       " 'finish',\n",
       " 'work',\n",
       " 'alreadi',\n",
       " 'free',\n",
       " 'rington',\n",
       " 'wait',\n",
       " 'collect',\n",
       " 'simpli',\n",
       " 'text',\n",
       " 'password',\n",
       " 'mix',\n",
       " '85069',\n",
       " 'verifi',\n",
       " 'get',\n",
       " 'usher',\n",
       " 'britney',\n",
       " 'fml',\n",
       " 'po',\n",
       " 'box',\n",
       " '5249',\n",
       " 'mk17',\n",
       " '92h',\n",
       " '450ppw',\n",
       " '16',\n",
       " 'watch',\n",
       " 'telugu',\n",
       " 'movi',\n",
       " 'wat',\n",
       " 'abt',\n",
       " 'u',\n",
       " 'see',\n",
       " 'finish',\n",
       " 'load',\n",
       " 'loan',\n",
       " 'pay',\n",
       " 'hi',\n",
       " 'wk',\n",
       " 'ok',\n",
       " 'hol',\n",
       " 'ye',\n",
       " 'bit',\n",
       " 'run',\n",
       " 'forgot',\n",
       " 'hairdress',\n",
       " 'appoint',\n",
       " 'four',\n",
       " 'need',\n",
       " 'get',\n",
       " 'home',\n",
       " 'n',\n",
       " 'shower',\n",
       " 'beforehand',\n",
       " 'caus',\n",
       " 'prob',\n",
       " 'u',\n",
       " 'see',\n",
       " 'cup',\n",
       " 'coffe',\n",
       " 'anim',\n",
       " 'pleas',\n",
       " 'text',\n",
       " 'anymor',\n",
       " 'noth',\n",
       " 'els',\n",
       " 'say',\n",
       " 'okay',\n",
       " 'name',\n",
       " 'ur',\n",
       " 'price',\n",
       " 'long',\n",
       " 'legal',\n",
       " 'wen',\n",
       " ...]"
      ]
     },
     "execution_count": 116,
     "metadata": {},
     "output_type": "execute_result"
    }
   ],
   "source": [
    "clean_tokens_http"
   ]
  },
  {
   "cell_type": "code",
   "execution_count": 117,
   "id": "d1dcaaeb",
   "metadata": {},
   "outputs": [],
   "source": [
    "freq = nltk.FreqDist(clean_tokens_http)"
   ]
  },
  {
   "cell_type": "code",
   "execution_count": 118,
   "id": "fefc7ca2",
   "metadata": {},
   "outputs": [
    {
     "data": {
      "text/plain": [
       "FreqDist({'u': 1207, 'call': 679, '2': 533, 'go': 456, 'get': 452, 'ur': 391, '4': 327, 'gt': 318, 'lt': 316, 'come': 304, ...})"
      ]
     },
     "execution_count": 118,
     "metadata": {},
     "output_type": "execute_result"
    }
   ],
   "source": [
    "freq"
   ]
  },
  {
   "cell_type": "code",
   "execution_count": null,
   "id": "76447f16",
   "metadata": {},
   "outputs": [],
   "source": []
  },
  {
   "cell_type": "code",
   "execution_count": null,
   "id": "1143a580",
   "metadata": {},
   "outputs": [],
   "source": []
  },
  {
   "cell_type": "code",
   "execution_count": 120,
   "id": "eaec0dbe",
   "metadata": {},
   "outputs": [],
   "source": [
    "filter_spam = df[df.label =='spam']['filtered_words']"
   ]
  },
  {
   "cell_type": "code",
   "execution_count": 125,
   "id": "91627dd5",
   "metadata": {},
   "outputs": [],
   "source": [
    "model = Word2Vec(filter_spam, min_count=1, seed=42)"
   ]
  },
  {
   "cell_type": "code",
   "execution_count": 126,
   "id": "19ed2ee2",
   "metadata": {},
   "outputs": [],
   "source": [
    "clean_tokens =[]\n",
    "\n",
    "\n",
    "for lista in list(filter_spam):\n",
    "    for token in lista: \n",
    "        clean_tokens.append(token)"
   ]
  },
  {
   "cell_type": "code",
   "execution_count": 127,
   "id": "2b782e1a",
   "metadata": {},
   "outputs": [],
   "source": [
    "freq = nltk.FreqDist(clean_tokens)"
   ]
  },
  {
   "cell_type": "code",
   "execution_count": 128,
   "id": "45dc0455",
   "metadata": {},
   "outputs": [
    {
     "data": {
      "text/plain": [
       "FreqDist({'call': 379, 'free': 224, '2': 207, 'txt': 176, 'u': 174, 'text': 145, 'ur': 144, 'mobil': 139, '4': 137, 'stop': 123, ...})"
      ]
     },
     "execution_count": 128,
     "metadata": {},
     "output_type": "execute_result"
    }
   ],
   "source": [
    "freq"
   ]
  },
  {
   "cell_type": "code",
   "execution_count": 130,
   "id": "3d9b95f8",
   "metadata": {},
   "outputs": [
    {
     "data": {
      "text/plain": [
       "[('2', 0.997266411781311),\n",
       " ('4', 0.9970743656158447),\n",
       " ('free', 0.9969432950019836),\n",
       " ('u', 0.9965457320213318),\n",
       " ('ur', 0.9961932301521301),\n",
       " ('text', 0.9961759448051453),\n",
       " ('txt', 0.9961605668067932),\n",
       " ('prize', 0.9961009621620178),\n",
       " ('claim', 0.9956868886947632),\n",
       " ('stop', 0.9954303503036499),\n",
       " ('repli', 0.9953081607818604),\n",
       " ('1', 0.9952924251556396),\n",
       " ('collect', 0.9950177073478699),\n",
       " ('send', 0.9948785901069641),\n",
       " ('get', 0.9947742223739624),\n",
       " ('mobil', 0.9946592450141907),\n",
       " ('tone', 0.9945681095123291),\n",
       " ('week', 0.994530439376831),\n",
       " ('min', 0.9945171475410461),\n",
       " ('www', 0.9944557547569275)]"
      ]
     },
     "execution_count": 130,
     "metadata": {},
     "output_type": "execute_result"
    }
   ],
   "source": [
    "model.wv.most_similar('call', topn=20 )"
   ]
  },
  {
   "cell_type": "code",
   "execution_count": 131,
   "id": "5e611463",
   "metadata": {},
   "outputs": [
    {
     "data": {
      "text/plain": [
       "[('call', 0.9969434142112732),\n",
       " ('2', 0.9958651065826416),\n",
       " ('4', 0.9958562254905701),\n",
       " ('claim', 0.9953762888908386),\n",
       " ('u', 0.9953739643096924),\n",
       " ('ur', 0.9950772523880005),\n",
       " ('txt', 0.994768500328064),\n",
       " ('text', 0.994647741317749),\n",
       " ('get', 0.9942792057991028),\n",
       " ('phone', 0.99411940574646),\n",
       " ('1', 0.9941042065620422),\n",
       " ('stop', 0.9940942525863647),\n",
       " ('prize', 0.9938188195228577),\n",
       " ('uk', 0.9937303066253662),\n",
       " ('repli', 0.9936937093734741),\n",
       " ('min', 0.9935436844825745),\n",
       " ('collect', 0.9933876395225525),\n",
       " ('per', 0.9933790564537048),\n",
       " ('send', 0.9933596849441528),\n",
       " ('mobil', 0.9932364821434021)]"
      ]
     },
     "execution_count": 131,
     "metadata": {},
     "output_type": "execute_result"
    }
   ],
   "source": [
    "model.wv.most_similar('free', topn=20 )"
   ]
  },
  {
   "cell_type": "code",
   "execution_count": null,
   "id": "94933d93",
   "metadata": {},
   "outputs": [],
   "source": []
  },
  {
   "cell_type": "code",
   "execution_count": null,
   "id": "82b9e21a",
   "metadata": {},
   "outputs": [],
   "source": []
  },
  {
   "cell_type": "code",
   "execution_count": 102,
   "id": "7f805ef9",
   "metadata": {},
   "outputs": [],
   "source": [
    "filter_ham = df[df.label =='ham']['filtered_words']"
   ]
  },
  {
   "cell_type": "code",
   "execution_count": 103,
   "id": "afba24bb",
   "metadata": {},
   "outputs": [],
   "source": [
    "model = Word2Vec(list(filter_ham), min_count=1, seed=42)"
   ]
  },
  {
   "cell_type": "code",
   "execution_count": 104,
   "id": "c654644f",
   "metadata": {},
   "outputs": [],
   "source": [
    "clean_tokens_spam =[]\n",
    "\n",
    "\n",
    "for lista in list(filter_ham):\n",
    "    for token in lista: \n",
    "        clean_tokens_spam.append(token)"
   ]
  },
  {
   "cell_type": "code",
   "execution_count": 105,
   "id": "9593338f",
   "metadata": {},
   "outputs": [
    {
     "data": {
      "text/plain": [
       "FreqDist({'u': 1033, 'go': 421, 'get': 362, '2': 326, 'gt': 318, 'lt': 316, 'call': 300, 'come': 299, 'ok': 288, 'love': 256, ...})"
      ]
     },
     "execution_count": 105,
     "metadata": {},
     "output_type": "execute_result"
    }
   ],
   "source": [
    "freq = nltk.FreqDist(clean_tokens_spam)\n",
    "freq"
   ]
  },
  {
   "cell_type": "code",
   "execution_count": 106,
   "id": "04fce911",
   "metadata": {},
   "outputs": [
    {
     "data": {
      "text/plain": [
       "[('go', 0.9998384714126587),\n",
       " ('n', 0.9998153448104858),\n",
       " ('one', 0.9998070597648621),\n",
       " ('get', 0.9997990131378174),\n",
       " ('2', 0.9997970461845398),\n",
       " ('got', 0.9997948408126831),\n",
       " ('make', 0.9997819066047668),\n",
       " ('4', 0.9997790455818176),\n",
       " ('want', 0.9997763633728027),\n",
       " ('time', 0.9997748732566833),\n",
       " ('thing', 0.999770998954773),\n",
       " ('like', 0.9997612833976746),\n",
       " ('ur', 0.9997605681419373),\n",
       " ('need', 0.999754786491394),\n",
       " ('back', 0.9997484683990479),\n",
       " ('come', 0.999741792678833),\n",
       " ('co', 0.9997378587722778),\n",
       " ('say', 0.9997358322143555),\n",
       " ('e', 0.999728798866272),\n",
       " ('think', 0.9997243285179138)]"
      ]
     },
     "execution_count": 106,
     "metadata": {},
     "output_type": "execute_result"
    }
   ],
   "source": [
    "model.wv.most_similar('u', topn=20 )"
   ]
  },
  {
   "cell_type": "code",
   "execution_count": 108,
   "id": "f3db8068",
   "metadata": {},
   "outputs": [
    {
     "data": {
      "text/plain": [
       "[('n', 0.9998593330383301),\n",
       " ('u', 0.9998385310173035),\n",
       " ('get', 0.999821126461029),\n",
       " ('4', 0.9998192191123962),\n",
       " ('one', 0.999817430973053),\n",
       " ('got', 0.9998031258583069),\n",
       " ('want', 0.9998027086257935),\n",
       " ('2', 0.9998016953468323),\n",
       " ('tell', 0.999791145324707),\n",
       " ('thing', 0.9997910261154175),\n",
       " ('say', 0.9997875690460205),\n",
       " ('make', 0.9997782707214355),\n",
       " ('know', 0.9997715353965759),\n",
       " ('like', 0.9997682571411133),\n",
       " ('e', 0.9997677206993103),\n",
       " ('come', 0.9997610449790955),\n",
       " ('need', 0.9997586011886597),\n",
       " ('work', 0.9997571110725403),\n",
       " ('co', 0.9997566938400269),\n",
       " ('place', 0.9997539520263672)]"
      ]
     },
     "execution_count": 108,
     "metadata": {},
     "output_type": "execute_result"
    }
   ],
   "source": [
    "model.wv.most_similar('go', topn=20 )"
   ]
  },
  {
   "cell_type": "code",
   "execution_count": null,
   "id": "ef65a91e",
   "metadata": {},
   "outputs": [],
   "source": []
  }
 ],
 "metadata": {
  "kernelspec": {
   "display_name": "Python 3",
   "language": "python",
   "name": "python3"
  },
  "language_info": {
   "codemirror_mode": {
    "name": "ipython",
    "version": 3
   },
   "file_extension": ".py",
   "mimetype": "text/x-python",
   "name": "python",
   "nbconvert_exporter": "python",
   "pygments_lexer": "ipython3",
   "version": "3.8.8"
  }
 },
 "nbformat": 4,
 "nbformat_minor": 5
}
