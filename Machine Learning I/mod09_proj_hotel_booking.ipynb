{
 "cells": [
  {
   "cell_type": "markdown",
   "metadata": {
    "cell_id": "465efb66fe8c46658822a24be7c0619f",
    "deepnote_cell_height": 418.078125,
    "deepnote_cell_type": "markdown",
    "tags": []
   },
   "source": [
    "## Pontos esperados:\n",
    "1) Apresente as características do conjunto de dados fornecido, destacando sua visão geral acerca do conjunto de dados e tecendo críticas e comentários.;\n",
    "2) Faça uma análise detalhada das variáveis numéricas e categóricas da base de dados, discutindo sua distribuição e outras características relevantes;\n",
    "3) Limpeza de dados: Considere a avaliação da existência de valores ausentes e de possíveis outliers, discutindo como estes podem ser tratados ou eliminados;\n",
    "4) Feature engineering: Quais variáveis você poderia criar para enriquecer a análise?\n",
    "5) Enriquecimento da base: Inclua qualquer outra informação/análise que achar importante.\n",
    "6) Que outras bases externas ou internas voce buscaria para enriquecer as análises?\n",
    "7) Quais os pré-processamentos aplicados e o porquê.\n",
    "8) Quais modelos escolhidos e o porquê da escolha desses modelos.\n",
    "9) Quais outras melhorias poderiam ser feitas tanto nos dados quanto em relação à modelagem?\n",
    "10) Quais métricas foram escolhidas e o porquê."
   ]
  },
  {
   "cell_type": "markdown",
   "metadata": {
    "cell_id": "73249043120c4e138f4206c939435d78",
    "deepnote_cell_height": 70,
    "deepnote_cell_type": "markdown",
    "tags": []
   },
   "source": [
    "## [Hotel Booking Prediction](https://www.kaggle.com/datasets/jessemostipak/hotel-booking-demand)"
   ]
  },
  {
   "cell_type": "markdown",
   "metadata": {
    "cell_id": "972283f99e734be0a1bdd9d84001aff6",
    "deepnote_cell_height": 1035.625,
    "deepnote_cell_type": "markdown",
    "tags": []
   },
   "source": [
    "1. hotel :(H1 = Resort Hotel or H2 = City Hotel).\n",
    "\n",
    "2. is_canceled Value: showing if the booking had been cancelled (1) or not (0).\n",
    "\n",
    "3. lead_time: Number of days that elapsed between the entering date of the booking into the PMS and the arrival date.\n",
    "\n",
    "4. arrival_date_year: Year of arrival date.\n",
    "\n",
    "5. arrival_date_month: The months in which guests are coming.\n",
    "\n",
    "6. arrival_date_week_number: Week number of year for arrival date.\n",
    "\n",
    "7. arrival_date_day_of_month: Which day of the months guest is arriving.\n",
    "\n",
    "8. stays_in_weekend_nights: Number of weekend stay at night (Saturday or Sunday) the guest stayed or booked to stay at the hotel.\n",
    "\n",
    "9. stays_in_week_nights: Number of weekdays stay at night (Monday to Friday) in the hotel.\n",
    "\n",
    "10. adults: Number of adults.\n",
    "\n",
    "11. children: Number of children.\n",
    "\n",
    "12. babies: Number of babies.\n",
    "\n",
    "13. meal: Type of meal booked.\n",
    "\n",
    "14. country: Country of origin.\n",
    "\n",
    "15. market_segment: Through which channel hotels were booked.\n",
    "\n",
    "16. distribution_channel: Booking distribution channel.\n",
    "\n",
    "17. is_repeated_guest: The values indicating if the booking name was from a repeated guest (1) or not (0).\n",
    "\n",
    "18. previous_cancellations: Show if the repeated guest has cancelled the booking before.\n",
    "\n",
    "19. previous_bookings_not_canceled: Show if the repeated guest has not cancelled the booking before.\n",
    "\n",
    "20. reserved_room_type: Code of room type reserved. Code is presented instead of designation for anonymity reasons.\n",
    "\n",
    "21. assigned_room_type: Code for the type of room assigned to the booking. Code is presented instead of designation for anonymity reasons.\n",
    "\n",
    "22. booking_changes: How many times did booking changes happen.\n",
    "\n",
    "23. deposit_type: Indication on if the customer deposited something to confirm the booking.\n",
    "\n",
    "24. agent: If the booking happens through agents or not.\n",
    "\n",
    "25. company: If the booking happens through companies, the company ID that made the booking or responsible for paying the booking.\n",
    "\n",
    "26. days_in_waiting_list: Number of days the booking was on the waiting list before the confirmation to the customer.\n",
    "\n",
    "27. customer_type: Booking type like Transient – Transient-Party – Contract – Group.\n",
    "\n",
    "28. adr: Average Daily Rates that described via way of means of dividing the sum of all accommodations transactions using entire numbers of staying nights.\n",
    "\n",
    "29. required_car_parking_spaces: How many parking areas are necessary for the customers.\n",
    "\n",
    "30. total_of_special_requests: Total unique requests from consumers.\n",
    "\n",
    "31. reservation_status: The last status of reservation, assuming one of three categories: Canceled – booking was cancelled by the customer; Check-Out\n",
    "\n",
    "32. reservation_status_date: The last status date."
   ]
  },
  {
   "cell_type": "markdown",
   "metadata": {
    "cell_id": "ab2f9f4d88bf4ce887c1462cfb04dad7",
    "deepnote_cell_height": 83,
    "deepnote_cell_type": "markdown",
    "tags": []
   },
   "source": [
    "---  \n",
    "# EDA"
   ]
  },
  {
   "cell_type": "code",
   "execution_count": 1,
   "metadata": {
    "cell_id": "6e19b90b639a4a34a628fe5bacafb1e0",
    "deepnote_cell_height": 135,
    "deepnote_cell_type": "code",
    "deepnote_to_be_reexecuted": false,
    "execution_millis": 6870,
    "execution_start": 1653163064947,
    "source_hash": "24b26b86",
    "tags": []
   },
   "outputs": [],
   "source": [
    "import pandas as pd\n",
    "import numpy as np\n",
    "import matplotlib.pyplot as plt\n",
    "import seaborn as sns"
   ]
  },
  {
   "cell_type": "code",
   "execution_count": 3,
   "metadata": {
    "cell_id": "f6f2de9765bb4f08b5c601a5990042d8",
    "deepnote_cell_height": 430,
    "deepnote_cell_type": "code",
    "deepnote_to_be_reexecuted": false,
    "execution_millis": 2219,
    "execution_start": 1653163071851,
    "source_hash": "1e70b8c2",
    "tags": []
   },
   "outputs": [
    {
     "data": {
      "text/html": [
       "<div>\n",
       "<style scoped>\n",
       "    .dataframe tbody tr th:only-of-type {\n",
       "        vertical-align: middle;\n",
       "    }\n",
       "\n",
       "    .dataframe tbody tr th {\n",
       "        vertical-align: top;\n",
       "    }\n",
       "\n",
       "    .dataframe thead th {\n",
       "        text-align: right;\n",
       "    }\n",
       "</style>\n",
       "<table border=\"1\" class=\"dataframe\">\n",
       "  <thead>\n",
       "    <tr style=\"text-align: right;\">\n",
       "      <th></th>\n",
       "      <th>hotel</th>\n",
       "      <th>is_canceled</th>\n",
       "      <th>lead_time</th>\n",
       "      <th>arrival_date_year</th>\n",
       "      <th>arrival_date_month</th>\n",
       "      <th>arrival_date_week_number</th>\n",
       "      <th>arrival_date_day_of_month</th>\n",
       "      <th>stays_in_weekend_nights</th>\n",
       "      <th>stays_in_week_nights</th>\n",
       "      <th>adults</th>\n",
       "      <th>...</th>\n",
       "      <th>deposit_type</th>\n",
       "      <th>agent</th>\n",
       "      <th>company</th>\n",
       "      <th>days_in_waiting_list</th>\n",
       "      <th>customer_type</th>\n",
       "      <th>adr</th>\n",
       "      <th>required_car_parking_spaces</th>\n",
       "      <th>total_of_special_requests</th>\n",
       "      <th>reservation_status</th>\n",
       "      <th>reservation_status_date</th>\n",
       "    </tr>\n",
       "  </thead>\n",
       "  <tbody>\n",
       "    <tr>\n",
       "      <th>0</th>\n",
       "      <td>Resort Hotel</td>\n",
       "      <td>0</td>\n",
       "      <td>342</td>\n",
       "      <td>2015</td>\n",
       "      <td>July</td>\n",
       "      <td>27</td>\n",
       "      <td>1</td>\n",
       "      <td>0</td>\n",
       "      <td>0</td>\n",
       "      <td>2</td>\n",
       "      <td>...</td>\n",
       "      <td>No Deposit</td>\n",
       "      <td>NaN</td>\n",
       "      <td>NaN</td>\n",
       "      <td>0</td>\n",
       "      <td>Transient</td>\n",
       "      <td>0.0</td>\n",
       "      <td>0</td>\n",
       "      <td>0</td>\n",
       "      <td>Check-Out</td>\n",
       "      <td>2015-07-01</td>\n",
       "    </tr>\n",
       "    <tr>\n",
       "      <th>1</th>\n",
       "      <td>Resort Hotel</td>\n",
       "      <td>0</td>\n",
       "      <td>737</td>\n",
       "      <td>2015</td>\n",
       "      <td>July</td>\n",
       "      <td>27</td>\n",
       "      <td>1</td>\n",
       "      <td>0</td>\n",
       "      <td>0</td>\n",
       "      <td>2</td>\n",
       "      <td>...</td>\n",
       "      <td>No Deposit</td>\n",
       "      <td>NaN</td>\n",
       "      <td>NaN</td>\n",
       "      <td>0</td>\n",
       "      <td>Transient</td>\n",
       "      <td>0.0</td>\n",
       "      <td>0</td>\n",
       "      <td>0</td>\n",
       "      <td>Check-Out</td>\n",
       "      <td>2015-07-01</td>\n",
       "    </tr>\n",
       "    <tr>\n",
       "      <th>2</th>\n",
       "      <td>Resort Hotel</td>\n",
       "      <td>0</td>\n",
       "      <td>7</td>\n",
       "      <td>2015</td>\n",
       "      <td>July</td>\n",
       "      <td>27</td>\n",
       "      <td>1</td>\n",
       "      <td>0</td>\n",
       "      <td>1</td>\n",
       "      <td>1</td>\n",
       "      <td>...</td>\n",
       "      <td>No Deposit</td>\n",
       "      <td>NaN</td>\n",
       "      <td>NaN</td>\n",
       "      <td>0</td>\n",
       "      <td>Transient</td>\n",
       "      <td>75.0</td>\n",
       "      <td>0</td>\n",
       "      <td>0</td>\n",
       "      <td>Check-Out</td>\n",
       "      <td>2015-07-02</td>\n",
       "    </tr>\n",
       "    <tr>\n",
       "      <th>3</th>\n",
       "      <td>Resort Hotel</td>\n",
       "      <td>0</td>\n",
       "      <td>13</td>\n",
       "      <td>2015</td>\n",
       "      <td>July</td>\n",
       "      <td>27</td>\n",
       "      <td>1</td>\n",
       "      <td>0</td>\n",
       "      <td>1</td>\n",
       "      <td>1</td>\n",
       "      <td>...</td>\n",
       "      <td>No Deposit</td>\n",
       "      <td>304.0</td>\n",
       "      <td>NaN</td>\n",
       "      <td>0</td>\n",
       "      <td>Transient</td>\n",
       "      <td>75.0</td>\n",
       "      <td>0</td>\n",
       "      <td>0</td>\n",
       "      <td>Check-Out</td>\n",
       "      <td>2015-07-02</td>\n",
       "    </tr>\n",
       "    <tr>\n",
       "      <th>4</th>\n",
       "      <td>Resort Hotel</td>\n",
       "      <td>0</td>\n",
       "      <td>14</td>\n",
       "      <td>2015</td>\n",
       "      <td>July</td>\n",
       "      <td>27</td>\n",
       "      <td>1</td>\n",
       "      <td>0</td>\n",
       "      <td>2</td>\n",
       "      <td>2</td>\n",
       "      <td>...</td>\n",
       "      <td>No Deposit</td>\n",
       "      <td>240.0</td>\n",
       "      <td>NaN</td>\n",
       "      <td>0</td>\n",
       "      <td>Transient</td>\n",
       "      <td>98.0</td>\n",
       "      <td>0</td>\n",
       "      <td>1</td>\n",
       "      <td>Check-Out</td>\n",
       "      <td>2015-07-03</td>\n",
       "    </tr>\n",
       "  </tbody>\n",
       "</table>\n",
       "<p>5 rows × 32 columns</p>\n",
       "</div>"
      ],
      "text/plain": [
       "          hotel  is_canceled  lead_time  arrival_date_year arrival_date_month  \\\n",
       "0  Resort Hotel            0        342               2015               July   \n",
       "1  Resort Hotel            0        737               2015               July   \n",
       "2  Resort Hotel            0          7               2015               July   \n",
       "3  Resort Hotel            0         13               2015               July   \n",
       "4  Resort Hotel            0         14               2015               July   \n",
       "\n",
       "   arrival_date_week_number  arrival_date_day_of_month  \\\n",
       "0                        27                          1   \n",
       "1                        27                          1   \n",
       "2                        27                          1   \n",
       "3                        27                          1   \n",
       "4                        27                          1   \n",
       "\n",
       "   stays_in_weekend_nights  stays_in_week_nights  adults  ...  deposit_type  \\\n",
       "0                        0                     0       2  ...    No Deposit   \n",
       "1                        0                     0       2  ...    No Deposit   \n",
       "2                        0                     1       1  ...    No Deposit   \n",
       "3                        0                     1       1  ...    No Deposit   \n",
       "4                        0                     2       2  ...    No Deposit   \n",
       "\n",
       "   agent company days_in_waiting_list customer_type   adr  \\\n",
       "0    NaN     NaN                    0     Transient   0.0   \n",
       "1    NaN     NaN                    0     Transient   0.0   \n",
       "2    NaN     NaN                    0     Transient  75.0   \n",
       "3  304.0     NaN                    0     Transient  75.0   \n",
       "4  240.0     NaN                    0     Transient  98.0   \n",
       "\n",
       "   required_car_parking_spaces  total_of_special_requests  reservation_status  \\\n",
       "0                            0                          0           Check-Out   \n",
       "1                            0                          0           Check-Out   \n",
       "2                            0                          0           Check-Out   \n",
       "3                            0                          0           Check-Out   \n",
       "4                            0                          1           Check-Out   \n",
       "\n",
       "  reservation_status_date  \n",
       "0              2015-07-01  \n",
       "1              2015-07-01  \n",
       "2              2015-07-02  \n",
       "3              2015-07-02  \n",
       "4              2015-07-03  \n",
       "\n",
       "[5 rows x 32 columns]"
      ]
     },
     "execution_count": 3,
     "metadata": {},
     "output_type": "execute_result"
    }
   ],
   "source": [
    "df = pd.read_csv('hotel_bookings.csv')\n",
    "df.head()"
   ]
  },
  {
   "cell_type": "code",
   "execution_count": 4,
   "metadata": {
    "cell_id": "c9fb22b042244f098c7f332eef0efd99",
    "deepnote_cell_height": 701,
    "deepnote_cell_type": "code",
    "deepnote_to_be_reexecuted": false,
    "execution_millis": 293,
    "execution_start": 1653163073594,
    "source_hash": "de1e323c",
    "tags": []
   },
   "outputs": [
    {
     "name": "stdout",
     "output_type": "stream",
     "text": [
      "<class 'pandas.core.frame.DataFrame'>\n",
      "RangeIndex: 119390 entries, 0 to 119389\n",
      "Data columns (total 32 columns):\n",
      " #   Column                          Non-Null Count   Dtype  \n",
      "---  ------                          --------------   -----  \n",
      " 0   hotel                           119390 non-null  object \n",
      " 1   is_canceled                     119390 non-null  int64  \n",
      " 2   lead_time                       119390 non-null  int64  \n",
      " 3   arrival_date_year               119390 non-null  int64  \n",
      " 4   arrival_date_month              119390 non-null  object \n",
      " 5   arrival_date_week_number        119390 non-null  int64  \n",
      " 6   arrival_date_day_of_month       119390 non-null  int64  \n",
      " 7   stays_in_weekend_nights         119390 non-null  int64  \n",
      " 8   stays_in_week_nights            119390 non-null  int64  \n",
      " 9   adults                          119390 non-null  int64  \n",
      " 10  children                        119386 non-null  float64\n",
      " 11  babies                          119390 non-null  int64  \n",
      " 12  meal                            119390 non-null  object \n",
      " 13  country                         118902 non-null  object \n",
      " 14  market_segment                  119390 non-null  object \n",
      " 15  distribution_channel            119390 non-null  object \n",
      " 16  is_repeated_guest               119390 non-null  int64  \n",
      " 17  previous_cancellations          119390 non-null  int64  \n",
      " 18  previous_bookings_not_canceled  119390 non-null  int64  \n",
      " 19  reserved_room_type              119390 non-null  object \n",
      " 20  assigned_room_type              119390 non-null  object \n",
      " 21  booking_changes                 119390 non-null  int64  \n",
      " 22  deposit_type                    119390 non-null  object \n",
      " 23  agent                           103050 non-null  float64\n",
      " 24  company                         6797 non-null    float64\n",
      " 25  days_in_waiting_list            119390 non-null  int64  \n",
      " 26  customer_type                   119390 non-null  object \n",
      " 27  adr                             119390 non-null  float64\n",
      " 28  required_car_parking_spaces     119390 non-null  int64  \n",
      " 29  total_of_special_requests       119390 non-null  int64  \n",
      " 30  reservation_status              119390 non-null  object \n",
      " 31  reservation_status_date         119390 non-null  object \n",
      "dtypes: float64(4), int64(16), object(12)\n",
      "memory usage: 29.1+ MB\n"
     ]
    }
   ],
   "source": [
    "df.info()"
   ]
  },
  {
   "cell_type": "code",
   "execution_count": 5,
   "metadata": {
    "cell_id": "0a8c51fb88234b8b98ce5ee4905ba225",
    "deepnote_cell_height": 405,
    "deepnote_cell_type": "code",
    "deepnote_to_be_reexecuted": false,
    "execution_millis": 1,
    "execution_start": 1653163073943,
    "source_hash": "9dd9336a",
    "tags": []
   },
   "outputs": [],
   "source": [
    "col_cat = ['hotel', 'meal', 'country', 'market_segment', 'distribution_channel',\n",
    "           'reserved_room_type', 'assigned_room_type', 'deposit_type', \n",
    "           'customer_type', 'reservation_status']\n",
    "\n",
    "col_num = ['lead_time', 'stays_in_weekend_nights', 'stays_in_week_nights',\n",
    "           'adults', 'children', 'babies', 'is_repeated_guest', 'is_canceled',\n",
    "           'previous_cancellations', 'previous_bookings_not_canceled',\n",
    "           'booking_changes', 'days_in_waiting_list', 'adr', \n",
    "           'required_car_parking_spaces', 'total_of_special_requests']\n",
    "\n",
    "# criar colunas ##############################################################\n",
    "# cat = 'dt_season', 'dt_arrival_quarter', 'dt_arrival_week_month'\n",
    "# num = 'stays_in_total', 'guest_total', 'previous_bookings_total', 'is_vacation_period', 'is_weekend'\n",
    "\n",
    "# não usadas #################################################################\n",
    "# 'arrival_date_year', 'arrival_date_month', 'arrival_date_week_number', \n",
    "# 'arrival_date_day_of_month', 'arrival_date_full', 'reservation_status_date'\n",
    "# IDs = 'agent', 'company'\n"
   ]
  },
  {
   "cell_type": "code",
   "execution_count": 6,
   "metadata": {
    "cell_id": "2f4ebd1f29864985bcfbfba47493397d",
    "deepnote_cell_height": 135,
    "deepnote_cell_type": "code",
    "deepnote_to_be_reexecuted": false,
    "execution_millis": 67,
    "execution_start": 1653163074008,
    "source_hash": "8b122096",
    "tags": []
   },
   "outputs": [],
   "source": [
    "df.arrival_date_month = pd.Categorical(df.arrival_date_month, \n",
    "                      categories=['January', 'February', 'March', 'April', 'May', 'June',\n",
    "                                  'July', 'August', 'September', 'October', 'November', 'December'],\n",
    "                      ordered=True)"
   ]
  },
  {
   "cell_type": "code",
   "execution_count": 7,
   "metadata": {
    "cell_id": "d9b31aa73e9543b9b006531c4b41813d",
    "deepnote_cell_height": 924,
    "deepnote_cell_type": "code",
    "deepnote_output_heights": [
     611
    ],
    "deepnote_to_be_reexecuted": false,
    "execution_millis": 45515,
    "execution_start": 1653163074134,
    "source_hash": "ee9a33ec",
    "tags": []
   },
   "outputs": [
    {
     "data": {
      "image/png": "[encoded data removed]",
      "text/plain": [
       "<Figure size 1224x1656 with 15 Axes>"
      ]
     },
     "metadata": {
      "needs_background": "light"
     },
     "output_type": "display_data"
    }
   ],
   "source": [
    "# Analisar variáveis numéricas\n",
    "c = 3\n",
    "l = -(- len(col_num) //c)\n",
    "\n",
    "f, axes = plt.subplots(l, c, figsize=(17,23)) \n",
    "y=0\n",
    "for name in col_num:\n",
    "    i, j = divmod(y, c)\n",
    "    sns.histplot(data=df, x=name, ax=axes[i, j])\n",
    "    y+=1\n",
    "\n",
    "plt.tight_layout()\n",
    "plt.show()"
   ]
  },
  {
   "cell_type": "code",
   "execution_count": null,
   "metadata": {
    "cell_id": "3f614f313be24c7eb891e4ec5dbc2e51",
    "deepnote_cell_height": 942,
    "deepnote_cell_type": "code",
    "deepnote_output_heights": [
     611
    ],
    "deepnote_to_be_reexecuted": false,
    "execution_millis": 22124,
    "execution_start": 1653163119711,
    "source_hash": "7f1a7824",
    "tags": []
   },
   "outputs": [],
   "source": [
    "# Análisar variáveis categóricas\n",
    "c = 3\n",
    "l = -(- len(col_cat) //c)\n",
    "\n",
    "f, axes = plt.subplots(l, c, figsize=(17,23)) \n",
    "y=0\n",
    "for name in col_cat:\n",
    "    i, j = divmod(y, c)\n",
    "    #sns.catplot(data=df, x=name, kind='count', ax=axes[i, j])\n",
    "    df[name].value_counts().plot(kind='bar',title = name, ax=axes[i, j])\n",
    "    y+=1\n",
    "\n",
    "plt.tight_layout()\n",
    "plt.show()"
   ]
  },
  {
   "cell_type": "markdown",
   "metadata": {
    "cell_id": "b9c584a8c89b472ea6b8629f0552e31a",
    "deepnote_cell_height": 83,
    "deepnote_cell_type": "markdown",
    "tags": []
   },
   "source": [
    "---  \n",
    "# Feature Engineering"
   ]
  },
  {
   "cell_type": "markdown",
   "metadata": {
    "cell_id": "b74ec9e167404fb0b1dd8679d61e9d41",
    "deepnote_cell_height": 1126.453125,
    "deepnote_cell_type": "markdown",
    "tags": []
   },
   "source": [
    "- __Split:__ \n",
    "    - Train-test split\n",
    "\n",
    "- __Cleaning:__\n",
    "    - dropar columnas que não fazem sentido\n",
    "    - remover duplicados\n",
    "    - remover linhas baseado em algum critério de filtro\n",
    "    - remover outliers\n",
    "    - remover valores errados\n",
    "    - mudar os datatypes (str, int, float)\n",
    "    - marcar missings como NAN\n",
    "\n",
    "**A etapa de limpeza dos dados deve vir antes de imputar valores missing e do one-hot-encoding**.\n",
    "\n",
    "- __Imputing Missing Values:__ <br>\n",
    "    - SimpleImputer (média, media, moda)\n",
    "    - KNNImputer\n",
    "    - IterativeImputer\n",
    "\n",
    "__O Imputing deve ser feito ANTES do One-Hot-Encoding__ (tanto que ele não aceita valores nans).\n",
    "\n",
    "- __Transform features:__ \n",
    "    - Features Categóricas: <br>\n",
    "        - OrdinalEncoder <br>\n",
    "        - LabelEncoder <br>\n",
    "        - One-Hot-Encoding <br>\n",
    "    - Features Numéricas:\n",
    "        - Binarizer\n",
    "        - KBinsDiscretizer\n",
    "        - MinMaxScale\n",
    "        - StandardScale\n",
    "        - RobustScale\n",
    "\n",
    "Os dados nans e tipos de colunas devem ter sido tratados antes desse processo.\n",
    "\n",
    "- __Feature Engineering:__\n",
    "    - PolynomialFeatures\n",
    "    - PowerTransformer\n",
    "    - Agregação de Features\n",
    "\n",
    "- __Feature Selection:__\n",
    "    - Univariate statistical tests\n",
    "    - Recursive Feature Elimination (RFE)\n",
    "    - Mutual_info_classif\n",
    "    - Variance inflation factor (VIF)"
   ]
  },
  {
   "cell_type": "code",
   "execution_count": 9,
   "metadata": {},
   "outputs": [],
   "source": [
    "# drop columns\n",
    "# ------------------------------------------------------------------------------------------------------------------\n",
    "df_clean = df.drop(columns=['reservation_status_date', 'company', 'arrival_date_week_number', 'reservation_status',\n",
    "                            'arrival_date_year', 'arrival_date_day_of_month', 'arrival_date_week_number'])\n",
    "\n",
    "# ajustar children \n",
    "# ------------------------------------------------------------------------------------------------------------------\n",
    "df_clean['children'].fillna(0, inplace=True)\n",
    "df_clean['children'] = pd.to_numeric(df_clean['children'], errors='coerce')\n",
    "\n",
    "# top5 countries\n",
    "# ------------------------------------------------------------------------------------------------------------------\n",
    "top5_country = list(df_clean['country'].value_counts()[:5].index)\n",
    "df_clean['country'] = df_clean.country.where(df.country.isin(top5_country), 'OTHERS')\n",
    "\n",
    "# top5 agents\n",
    "# ------------------------------------------------------------------------------------------------------------------\n",
    "top5_agent = list(df_clean['agent'].value_counts()[:5].index)\n",
    "df_clean['agent'] = df_clean.country.where(df.country.isin(top5_agent), 'OTHERS')\n",
    "\n",
    "df_features = df_clean.copy()\n",
    "\n",
    "# total guests\n",
    "# ------------------------------------------------------------------------------------------------------------------\n",
    "df_features['total_guests'] = df_features['children'] + df_features['babies'] + df_features['adults']\n",
    "df_features.drop(columns=['children', 'babies', 'adults'], inplace=True)\n",
    "df_features['total_guests'] = df_features['total_guests'].apply(np.int64)\n",
    "\n",
    "# stays_in_total\n",
    "# ------------------------------------------------------------------------------------------------------------------\n",
    "df_features['stayes_in_total'] = df_features[\"stays_in_weekend_nights\"] + df_features[\"stays_in_week_nights\"]\n",
    "df_features.drop(columns=['stays_in_weekend_nights', 'stays_in_week_nights'], inplace=True)\n",
    "\n",
    "# cancellation_rate\n",
    "# ------------------------------------------------------------------------------------------------------------------\n",
    "df_features['cancellation_rate'] = df_features[\"previous_cancellations\"] / (df_features[\"previous_cancellations\"] + df_features[\"previous_bookings_not_canceled\"])\n",
    "df_features['cancellation_rate'].replace(np.nan, 0, inplace=True)\n",
    "df_features.drop(columns=['previous_cancellations', 'previous_bookings_not_canceled'], inplace=True)\n",
    "\n",
    "# assigned_as_reserved\n",
    "# ------------------------------------------------------------------------------------------------------------------\n",
    "df_features['assigned_as_reserved'] = (df_features[\"assigned_room_type\"] == df_features[\"reserved_room_type\"])*1\n",
    "df_features.drop(columns=['assigned_room_type', 'reserved_room_type'], inplace=True)"
   ]
  },
  {
   "cell_type": "code",
   "execution_count": 13,
   "metadata": {},
   "outputs": [],
   "source": [
    "cat_cols = ['hotel', 'arrival_date_month', 'meal', 'country', 'market_segment', 'agent',\n",
    "            'distribution_channel', 'deposit_type', 'customer_type']\n",
    "\n",
    "num_cols = ['lead_time', 'is_repeated_guest', 'booking_changes', 'days_in_waiting_list', 'adr', 'assigned_as_reserved',\n",
    "           'required_car_parking_spaces', 'total_of_special_requests', 'total_guests', 'stayes_in_total', 'cancellation_rate']\n",
    "\n",
    "target = ['is_canceled']"
   ]
  },
  {
   "cell_type": "code",
   "execution_count": 14,
   "metadata": {
    "cell_id": "54ecde6d9a0d4a96b7b3a703950898a8",
    "deepnote_cell_height": 648,
    "deepnote_cell_type": "code",
    "deepnote_output_heights": [
     371
    ],
    "deepnote_to_be_reexecuted": false,
    "execution_millis": 1482,
    "execution_start": 1653163584886,
    "source_hash": "eeffbab3",
    "tags": []
   },
   "outputs": [
    {
     "data": {
      "image/png": "[encoded data removed]",
      "text/plain": [
       "<Figure size 576x432 with 1 Axes>"
      ]
     },
     "metadata": {
      "needs_background": "light"
     },
     "output_type": "display_data"
    }
   ],
   "source": [
    "cor = df_features[num_cols].corrwith(df_features.is_canceled).reset_index().rename(columns={'index':'col', 0:'corr'})\n",
    "cor.sort_values(by='corr', key=abs, ascending=False, inplace=True)\n",
    "\n",
    "plt.figure(figsize=(8,6))\n",
    "sns.barplot(data=cor, y='col', x='corr', color='#3F5D7D').set(xlabel='')\n",
    "plt.xlim([-1,1])\n",
    "plt.title(f'Correlation with {target[0]}')\n",
    "plt.xticks(np.arange(-1, 1.01, step=0.1), fontsize=7)\n",
    "plt.grid(True, axis='y', color='#CCCCCC', linestyle='--')\n",
    "plt.grid(True, axis='x', color='#CCCCCC', linestyle=':')\n",
    "plt.axvline(x=0, color='k');"
   ]
  },
  {
   "cell_type": "code",
   "execution_count": 15,
   "metadata": {
    "cell_id": "d91dfdb3d57f48f3ae3f69094abb752b",
    "deepnote_cell_height": 832.1875,
    "deepnote_cell_type": "code",
    "deepnote_output_heights": [
     21.1875,
     611
    ],
    "deepnote_to_be_reexecuted": false,
    "execution_millis": 4056,
    "execution_start": 1653163596681,
    "source_hash": "338ca05e",
    "tags": []
   },
   "outputs": [
    {
     "data": {
      "text/plain": [
       "<AxesSubplot:>"
      ]
     },
     "execution_count": 15,
     "metadata": {},
     "output_type": "execute_result"
    },
    {
     "data": {
      "image/png": "[encoded data removed]",
      "text/plain": [
       "<Figure size 720x720 with 2 Axes>"
      ]
     },
     "metadata": {
      "needs_background": "light"
     },
     "output_type": "display_data"
    }
   ],
   "source": [
    "mask = np.triu(np.ones_like(df_features[num_cols].corr(), dtype='bool'))\n",
    "\n",
    "fig, ax = plt.subplots(figsize=(10,10))\n",
    "sns.heatmap(df_features[num_cols].corr(), annot = True, fmt='.1g', vmin=-1, vmax=1, center= 0,\n",
    "            cmap= 'RdYlBu', square=True, linewidths=.5, mask=mask)"
   ]
  },
  {
   "cell_type": "markdown",
   "metadata": {
    "cell_id": "72b4ad437add42579e59b87828f9d5a2",
    "deepnote_cell_height": 83,
    "deepnote_cell_type": "markdown",
    "tags": []
   },
   "source": [
    "---  \n",
    "# Models"
   ]
  },
  {
   "cell_type": "code",
   "execution_count": 16,
   "metadata": {
    "cell_id": "f828390bd52148979cc5f5933a9b57a6",
    "deepnote_cell_height": 430,
    "deepnote_cell_type": "code",
    "deepnote_to_be_reexecuted": false,
    "execution_millis": 377,
    "execution_start": 1653163142830,
    "source_hash": "9b9ea922",
    "tags": []
   },
   "outputs": [
    {
     "data": {
      "text/html": [
       "<div>\n",
       "<style scoped>\n",
       "    .dataframe tbody tr th:only-of-type {\n",
       "        vertical-align: middle;\n",
       "    }\n",
       "\n",
       "    .dataframe tbody tr th {\n",
       "        vertical-align: top;\n",
       "    }\n",
       "\n",
       "    .dataframe thead th {\n",
       "        text-align: right;\n",
       "    }\n",
       "</style>\n",
       "<table border=\"1\" class=\"dataframe\">\n",
       "  <thead>\n",
       "    <tr style=\"text-align: right;\">\n",
       "      <th></th>\n",
       "      <th>hotel</th>\n",
       "      <th>is_canceled</th>\n",
       "      <th>lead_time</th>\n",
       "      <th>arrival_date_month</th>\n",
       "      <th>meal</th>\n",
       "      <th>country</th>\n",
       "      <th>market_segment</th>\n",
       "      <th>distribution_channel</th>\n",
       "      <th>is_repeated_guest</th>\n",
       "      <th>booking_changes</th>\n",
       "      <th>...</th>\n",
       "      <th>agent</th>\n",
       "      <th>days_in_waiting_list</th>\n",
       "      <th>customer_type</th>\n",
       "      <th>adr</th>\n",
       "      <th>required_car_parking_spaces</th>\n",
       "      <th>total_of_special_requests</th>\n",
       "      <th>total_guests</th>\n",
       "      <th>stayes_in_total</th>\n",
       "      <th>cancellation_rate</th>\n",
       "      <th>assigned_as_reserved</th>\n",
       "    </tr>\n",
       "  </thead>\n",
       "  <tbody>\n",
       "    <tr>\n",
       "      <th>0</th>\n",
       "      <td>Resort Hotel</td>\n",
       "      <td>0</td>\n",
       "      <td>342</td>\n",
       "      <td>July</td>\n",
       "      <td>BB</td>\n",
       "      <td>PRT</td>\n",
       "      <td>Direct</td>\n",
       "      <td>Direct</td>\n",
       "      <td>0</td>\n",
       "      <td>3</td>\n",
       "      <td>...</td>\n",
       "      <td>OTHERS</td>\n",
       "      <td>0</td>\n",
       "      <td>Transient</td>\n",
       "      <td>0.0</td>\n",
       "      <td>0</td>\n",
       "      <td>0</td>\n",
       "      <td>2</td>\n",
       "      <td>0</td>\n",
       "      <td>0.0</td>\n",
       "      <td>1</td>\n",
       "    </tr>\n",
       "    <tr>\n",
       "      <th>1</th>\n",
       "      <td>Resort Hotel</td>\n",
       "      <td>0</td>\n",
       "      <td>737</td>\n",
       "      <td>July</td>\n",
       "      <td>BB</td>\n",
       "      <td>PRT</td>\n",
       "      <td>Direct</td>\n",
       "      <td>Direct</td>\n",
       "      <td>0</td>\n",
       "      <td>4</td>\n",
       "      <td>...</td>\n",
       "      <td>OTHERS</td>\n",
       "      <td>0</td>\n",
       "      <td>Transient</td>\n",
       "      <td>0.0</td>\n",
       "      <td>0</td>\n",
       "      <td>0</td>\n",
       "      <td>2</td>\n",
       "      <td>0</td>\n",
       "      <td>0.0</td>\n",
       "      <td>1</td>\n",
       "    </tr>\n",
       "    <tr>\n",
       "      <th>2</th>\n",
       "      <td>Resort Hotel</td>\n",
       "      <td>0</td>\n",
       "      <td>7</td>\n",
       "      <td>July</td>\n",
       "      <td>BB</td>\n",
       "      <td>GBR</td>\n",
       "      <td>Direct</td>\n",
       "      <td>Direct</td>\n",
       "      <td>0</td>\n",
       "      <td>0</td>\n",
       "      <td>...</td>\n",
       "      <td>OTHERS</td>\n",
       "      <td>0</td>\n",
       "      <td>Transient</td>\n",
       "      <td>75.0</td>\n",
       "      <td>0</td>\n",
       "      <td>0</td>\n",
       "      <td>1</td>\n",
       "      <td>1</td>\n",
       "      <td>0.0</td>\n",
       "      <td>0</td>\n",
       "    </tr>\n",
       "    <tr>\n",
       "      <th>3</th>\n",
       "      <td>Resort Hotel</td>\n",
       "      <td>0</td>\n",
       "      <td>13</td>\n",
       "      <td>July</td>\n",
       "      <td>BB</td>\n",
       "      <td>GBR</td>\n",
       "      <td>Corporate</td>\n",
       "      <td>Corporate</td>\n",
       "      <td>0</td>\n",
       "      <td>0</td>\n",
       "      <td>...</td>\n",
       "      <td>OTHERS</td>\n",
       "      <td>0</td>\n",
       "      <td>Transient</td>\n",
       "      <td>75.0</td>\n",
       "      <td>0</td>\n",
       "      <td>0</td>\n",
       "      <td>1</td>\n",
       "      <td>1</td>\n",
       "      <td>0.0</td>\n",
       "      <td>1</td>\n",
       "    </tr>\n",
       "    <tr>\n",
       "      <th>4</th>\n",
       "      <td>Resort Hotel</td>\n",
       "      <td>0</td>\n",
       "      <td>14</td>\n",
       "      <td>July</td>\n",
       "      <td>BB</td>\n",
       "      <td>GBR</td>\n",
       "      <td>Online TA</td>\n",
       "      <td>TA/TO</td>\n",
       "      <td>0</td>\n",
       "      <td>0</td>\n",
       "      <td>...</td>\n",
       "      <td>OTHERS</td>\n",
       "      <td>0</td>\n",
       "      <td>Transient</td>\n",
       "      <td>98.0</td>\n",
       "      <td>0</td>\n",
       "      <td>1</td>\n",
       "      <td>2</td>\n",
       "      <td>2</td>\n",
       "      <td>0.0</td>\n",
       "      <td>1</td>\n",
       "    </tr>\n",
       "  </tbody>\n",
       "</table>\n",
       "<p>5 rows × 21 columns</p>\n",
       "</div>"
      ],
      "text/plain": [
       "          hotel  is_canceled  lead_time arrival_date_month meal country  \\\n",
       "0  Resort Hotel            0        342               July   BB     PRT   \n",
       "1  Resort Hotel            0        737               July   BB     PRT   \n",
       "2  Resort Hotel            0          7               July   BB     GBR   \n",
       "3  Resort Hotel            0         13               July   BB     GBR   \n",
       "4  Resort Hotel            0         14               July   BB     GBR   \n",
       "\n",
       "  market_segment distribution_channel  is_repeated_guest  booking_changes  \\\n",
       "0         Direct               Direct                  0                3   \n",
       "1         Direct               Direct                  0                4   \n",
       "2         Direct               Direct                  0                0   \n",
       "3      Corporate            Corporate                  0                0   \n",
       "4      Online TA                TA/TO                  0                0   \n",
       "\n",
       "   ...   agent days_in_waiting_list  customer_type   adr  \\\n",
       "0  ...  OTHERS                    0      Transient   0.0   \n",
       "1  ...  OTHERS                    0      Transient   0.0   \n",
       "2  ...  OTHERS                    0      Transient  75.0   \n",
       "3  ...  OTHERS                    0      Transient  75.0   \n",
       "4  ...  OTHERS                    0      Transient  98.0   \n",
       "\n",
       "   required_car_parking_spaces  total_of_special_requests  total_guests  \\\n",
       "0                            0                          0             2   \n",
       "1                            0                          0             2   \n",
       "2                            0                          0             1   \n",
       "3                            0                          0             1   \n",
       "4                            0                          1             2   \n",
       "\n",
       "   stayes_in_total  cancellation_rate  assigned_as_reserved  \n",
       "0                0                0.0                     1  \n",
       "1                0                0.0                     1  \n",
       "2                1                0.0                     0  \n",
       "3                1                0.0                     1  \n",
       "4                2                0.0                     1  \n",
       "\n",
       "[5 rows x 21 columns]"
      ]
     },
     "execution_count": 16,
     "metadata": {},
     "output_type": "execute_result"
    }
   ],
   "source": [
    "df = df_features.copy()\n",
    "df.head()"
   ]
  },
  {
   "cell_type": "code",
   "execution_count": 28,
   "metadata": {
    "cell_id": "f035603d9a3f43249869448625f3e325",
    "deepnote_cell_height": 171,
    "deepnote_cell_type": "code",
    "deepnote_to_be_reexecuted": false,
    "execution_millis": 528,
    "execution_start": 1653163143221,
    "owner_user_id": "a4fd71bb-d0a0-4688-ba22-2f7fc1bea96b",
    "source_hash": "5fc4e067",
    "tags": []
   },
   "outputs": [],
   "source": [
    "from sklearn.model_selection import train_test_split\n",
    "\n",
    "X = df.drop(columns=['is_canceled'])\n",
    "y = df['is_canceled']\n",
    "\n",
    "X_train, X_test, y_train, y_test = train_test_split(X, y, test_size=0.2, random_state=42)"
   ]
  },
  {
   "cell_type": "code",
   "execution_count": 18,
   "metadata": {},
   "outputs": [],
   "source": [
    "from sklearn.impute import SimpleImputer\n",
    "from sklearn.preprocessing import StandardScaler\n",
    "from sklearn.neighbors import KNeighborsRegressor\n",
    "from sklearn.metrics import mean_squared_error, mean_absolute_error, f1_score\n",
    "from sklearn.preprocessing import OneHotEncoder\n"
   ]
  },
  {
   "cell_type": "code",
   "execution_count": 19,
   "metadata": {},
   "outputs": [],
   "source": [
    "from imblearn.pipeline import Pipeline as pp\n",
    "from sklearn.preprocessing import MinMaxScaler"
   ]
  },
  {
   "cell_type": "code",
   "execution_count": 20,
   "metadata": {},
   "outputs": [],
   "source": [
    "from sklearn.model_selection import GridSearchCV, RandomizedSearchCV"
   ]
  },
  {
   "cell_type": "code",
   "execution_count": 21,
   "metadata": {},
   "outputs": [],
   "source": [
    "from sklearn.linear_model import LogisticRegression"
   ]
  },
  {
   "cell_type": "code",
   "execution_count": 22,
   "metadata": {},
   "outputs": [],
   "source": [
    "from imblearn.over_sampling import SMOTENC"
   ]
  },
  {
   "cell_type": "code",
   "execution_count": 24,
   "metadata": {},
   "outputs": [],
   "source": [
    "from sklearn.compose import ColumnTransformer"
   ]
  },
  {
   "cell_type": "code",
   "execution_count": 43,
   "metadata": {},
   "outputs": [],
   "source": [
    " from sklearn.model_selection import KFold"
   ]
  },
  {
   "cell_type": "code",
   "execution_count": 33,
   "metadata": {},
   "outputs": [],
   "source": [
    "categorical_features = np.array([i for i,x in enumerate(X_train.columns) if x in cat_cols])"
   ]
  },
  {
   "cell_type": "code",
   "execution_count": 34,
   "metadata": {},
   "outputs": [
    {
     "data": {
      "text/plain": [
       "array([ 0,  2,  3,  4,  5,  6,  9, 10, 12])"
      ]
     },
     "execution_count": 34,
     "metadata": {},
     "output_type": "execute_result"
    }
   ],
   "source": [
    "categorical_features"
   ]
  },
  {
   "cell_type": "code",
   "execution_count": 51,
   "metadata": {},
   "outputs": [],
   "source": [
    "# Criando pipeline das variáveis categóricas\n",
    "cat_pipe = pp([\n",
    "    ('ohe', OneHotEncoder(drop='first', sparse=False, handle_unknown='ignore'))\n",
    "])\n",
    "\n",
    "num_pipe = pp([\n",
    "    ('scaler', MinMaxScaler())    \n",
    "])\n",
    "\n",
    "# Para termos no modelo tanto as variáveis categóricas quanto as numéricas\n",
    "preprocessor = ColumnTransformer([\n",
    "    ('cat', cat_pipe, cat_cols),\n",
    "    ('num', num_pipe, num_cols)\n",
    "], remainder='passthrough')\n",
    "\n",
    "# Criando pipeline final\n",
    "pipe = pp([\n",
    "    ('over', SMOTENC(random_state=42, categorical_features=categorical_features)),\n",
    "    ('preprocessor', preprocessor),\n",
    "    ('model', LogisticRegression(random_state=42))\n",
    "])\n",
    "\n",
    "# Tunando hiperparâmetros com 3-fold cross-validation e pipelines\n",
    "penalty = ['l1', 'l2', 'elasticnet', 'none']\n",
    "dual = [True, False]\n",
    "C = np.arange(0.5, 1, 0.25)\n",
    "l1_ratio = np.arange(0.5, 1, 0.10)\n",
    "solver = ['saga', 'liblinear']\n",
    "\n",
    "\n",
    "\n",
    "parameters = {'model__penalty' : ['l1', 'l2', 'elasticnet', 'none'],\n",
    "              'model__dual' : dual , \n",
    "              'model__C': C, \n",
    "              'model__l1_ratio' :l1_ratio, \n",
    "              'model__solver': solver   }\n",
    "\n",
    "kfold = KFold(n_splits=3, shuffle=True, random_state=42)\n",
    "#grid = GridSearchCV(pipe, param_grid=parameters, cv=kfold, scoring='f1', n_jobs=2)\n",
    "grid = RandomizedSearchCV(pipe, param_distributions=parameters, cv=kfold, scoring='f1', n_jobs=-1, verbose=2)\n",
    "#grid.fit(x_train[importance_pipe], y_train)"
   ]
  },
  {
   "cell_type": "code",
   "execution_count": 52,
   "metadata": {
    "scrolled": true
   },
   "outputs": [
    {
     "name": "stdout",
     "output_type": "stream",
     "text": [
      "Fitting 3 folds for each of 10 candidates, totalling 30 fits\n"
     ]
    },
    {
     "name": "stderr",
     "output_type": "stream",
     "text": [
      "C:\\Users\\Usuario\\anaconda3\\lib\\site-packages\\sklearn\\model_selection\\_validation.py:372: FitFailedWarning: \n",
      "28 fits failed out of a total of 30.\n",
      "The score on these train-test partitions for these parameters will be set to nan.\n",
      "If these failures are not expected, you can try to debug them by setting error_score='raise'.\n",
      "\n",
      "Below are more details about the failures:\n",
      "--------------------------------------------------------------------------------\n",
      "10 fits failed with the following error:\n",
      "Traceback (most recent call last):\n",
      "  File \"C:\\Users\\Usuario\\anaconda3\\lib\\site-packages\\sklearn\\model_selection\\_validation.py\", line 680, in _fit_and_score\n",
      "    estimator.fit(X_train, y_train, **fit_params)\n",
      "  File \"C:\\Users\\Usuario\\anaconda3\\lib\\site-packages\\imblearn\\pipeline.py\", line 268, in fit\n",
      "    Xt, yt = self._fit(X, y, **fit_params_steps)\n",
      "  File \"C:\\Users\\Usuario\\anaconda3\\lib\\site-packages\\imblearn\\pipeline.py\", line 226, in _fit\n",
      "    X, y, fitted_transformer = fit_resample_one_cached(\n",
      "  File \"C:\\Users\\Usuario\\anaconda3\\lib\\site-packages\\joblib\\memory.py\", line 352, in __call__\n",
      "    return self.func(*args, **kwargs)\n",
      "  File \"C:\\Users\\Usuario\\anaconda3\\lib\\site-packages\\imblearn\\pipeline.py\", line 394, in _fit_resample_one\n",
      "    X_res, y_res = sampler.fit_resample(X, y, **fit_params)\n",
      "  File \"C:\\Users\\Usuario\\anaconda3\\lib\\site-packages\\imblearn\\base.py\", line 83, in fit_resample\n",
      "    output = self._fit_resample(X, y)\n",
      "  File \"C:\\Users\\Usuario\\anaconda3\\lib\\site-packages\\imblearn\\over_sampling\\_smote\\base.py\", line 533, in _fit_resample\n",
      "    X_resampled, y_resampled = super()._fit_resample(X_encoded, y)\n",
      "  File \"C:\\Users\\Usuario\\anaconda3\\lib\\site-packages\\imblearn\\over_sampling\\_smote\\base.py\", line 324, in _fit_resample\n",
      "    nns = self.nn_k_.kneighbors(X_class, return_distance=False)[:, 1:]\n",
      "  File \"C:\\Users\\Usuario\\anaconda3\\lib\\site-packages\\sklearn\\neighbors\\_base.py\", line 752, in kneighbors\n",
      "    chunked_results = list(\n",
      "  File \"C:\\Users\\Usuario\\anaconda3\\lib\\site-packages\\sklearn\\metrics\\pairwise.py\", line 1717, in pairwise_distances_chunked\n",
      "    D_chunk = pairwise_distances(X_chunk, Y, metric=metric, n_jobs=n_jobs, **kwds)\n",
      "  File \"C:\\Users\\Usuario\\anaconda3\\lib\\site-packages\\sklearn\\metrics\\pairwise.py\", line 1889, in pairwise_distances\n",
      "    return _parallel_pairwise(X, Y, func, n_jobs, **kwds)\n",
      "  File \"C:\\Users\\Usuario\\anaconda3\\lib\\site-packages\\sklearn\\metrics\\pairwise.py\", line 1430, in _parallel_pairwise\n",
      "    return func(X, Y, **kwds)\n",
      "  File \"C:\\Users\\Usuario\\anaconda3\\lib\\site-packages\\sklearn\\metrics\\pairwise.py\", line 330, in euclidean_distances\n",
      "    return _euclidean_distances(X, Y, X_norm_squared, Y_norm_squared, squared)\n",
      "  File \"C:\\Users\\Usuario\\anaconda3\\lib\\site-packages\\sklearn\\metrics\\pairwise.py\", line 371, in _euclidean_distances\n",
      "    distances = -2 * safe_sparse_dot(X, Y.T, dense_output=True)\n",
      "  File \"C:\\Users\\Usuario\\anaconda3\\lib\\site-packages\\sklearn\\utils\\extmath.py\", line 161, in safe_sparse_dot\n",
      "    return ret.toarray()\n",
      "  File \"C:\\Users\\Usuario\\anaconda3\\lib\\site-packages\\scipy\\sparse\\compressed.py\", line 1031, in toarray\n",
      "    out = self._process_toarray_args(order, out)\n",
      "  File \"C:\\Users\\Usuario\\anaconda3\\lib\\site-packages\\scipy\\sparse\\base.py\", line 1202, in _process_toarray_args\n",
      "    return np.zeros(self.shape, dtype=self.dtype, order=order)\n",
      "numpy.core._exceptions._ArrayMemoryError: Unable to allocate 1.00 GiB for an array with shape (5698, 23553) and data type float64\n",
      "\n",
      "--------------------------------------------------------------------------------\n",
      "8 fits failed with the following error:\n",
      "Traceback (most recent call last):\n",
      "  File \"C:\\Users\\Usuario\\anaconda3\\lib\\site-packages\\sklearn\\model_selection\\_validation.py\", line 680, in _fit_and_score\n",
      "    estimator.fit(X_train, y_train, **fit_params)\n",
      "  File \"C:\\Users\\Usuario\\anaconda3\\lib\\site-packages\\imblearn\\pipeline.py\", line 268, in fit\n",
      "    Xt, yt = self._fit(X, y, **fit_params_steps)\n",
      "  File \"C:\\Users\\Usuario\\anaconda3\\lib\\site-packages\\imblearn\\pipeline.py\", line 226, in _fit\n",
      "    X, y, fitted_transformer = fit_resample_one_cached(\n",
      "  File \"C:\\Users\\Usuario\\anaconda3\\lib\\site-packages\\joblib\\memory.py\", line 352, in __call__\n",
      "    return self.func(*args, **kwargs)\n",
      "  File \"C:\\Users\\Usuario\\anaconda3\\lib\\site-packages\\imblearn\\pipeline.py\", line 394, in _fit_resample_one\n",
      "    X_res, y_res = sampler.fit_resample(X, y, **fit_params)\n",
      "  File \"C:\\Users\\Usuario\\anaconda3\\lib\\site-packages\\imblearn\\base.py\", line 83, in fit_resample\n",
      "    output = self._fit_resample(X, y)\n",
      "  File \"C:\\Users\\Usuario\\anaconda3\\lib\\site-packages\\imblearn\\over_sampling\\_smote\\base.py\", line 533, in _fit_resample\n",
      "    X_resampled, y_resampled = super()._fit_resample(X_encoded, y)\n",
      "  File \"C:\\Users\\Usuario\\anaconda3\\lib\\site-packages\\imblearn\\over_sampling\\_smote\\base.py\", line 324, in _fit_resample\n",
      "    nns = self.nn_k_.kneighbors(X_class, return_distance=False)[:, 1:]\n",
      "  File \"C:\\Users\\Usuario\\anaconda3\\lib\\site-packages\\sklearn\\neighbors\\_base.py\", line 752, in kneighbors\n",
      "    chunked_results = list(\n",
      "  File \"C:\\Users\\Usuario\\anaconda3\\lib\\site-packages\\sklearn\\metrics\\pairwise.py\", line 1717, in pairwise_distances_chunked\n",
      "    D_chunk = pairwise_distances(X_chunk, Y, metric=metric, n_jobs=n_jobs, **kwds)\n",
      "  File \"C:\\Users\\Usuario\\anaconda3\\lib\\site-packages\\sklearn\\metrics\\pairwise.py\", line 1889, in pairwise_distances\n",
      "    return _parallel_pairwise(X, Y, func, n_jobs, **kwds)\n",
      "  File \"C:\\Users\\Usuario\\anaconda3\\lib\\site-packages\\sklearn\\metrics\\pairwise.py\", line 1430, in _parallel_pairwise\n",
      "    return func(X, Y, **kwds)\n",
      "  File \"C:\\Users\\Usuario\\anaconda3\\lib\\site-packages\\sklearn\\metrics\\pairwise.py\", line 330, in euclidean_distances\n",
      "    return _euclidean_distances(X, Y, X_norm_squared, Y_norm_squared, squared)\n",
      "  File \"C:\\Users\\Usuario\\anaconda3\\lib\\site-packages\\sklearn\\metrics\\pairwise.py\", line 371, in _euclidean_distances\n",
      "    distances = -2 * safe_sparse_dot(X, Y.T, dense_output=True)\n",
      "  File \"C:\\Users\\Usuario\\anaconda3\\lib\\site-packages\\sklearn\\utils\\extmath.py\", line 161, in safe_sparse_dot\n",
      "    return ret.toarray()\n",
      "  File \"C:\\Users\\Usuario\\anaconda3\\lib\\site-packages\\scipy\\sparse\\compressed.py\", line 1031, in toarray\n",
      "    out = self._process_toarray_args(order, out)\n",
      "  File \"C:\\Users\\Usuario\\anaconda3\\lib\\site-packages\\scipy\\sparse\\base.py\", line 1202, in _process_toarray_args\n",
      "    return np.zeros(self.shape, dtype=self.dtype, order=order)\n",
      "numpy.core._exceptions._ArrayMemoryError: Unable to allocate 1.00 GiB for an array with shape (5716, 23477) and data type float64\n",
      "\n",
      "--------------------------------------------------------------------------------\n",
      "8 fits failed with the following error:\n",
      "Traceback (most recent call last):\n",
      "  File \"C:\\Users\\Usuario\\anaconda3\\lib\\site-packages\\sklearn\\model_selection\\_validation.py\", line 680, in _fit_and_score\n",
      "    estimator.fit(X_train, y_train, **fit_params)\n",
      "  File \"C:\\Users\\Usuario\\anaconda3\\lib\\site-packages\\imblearn\\pipeline.py\", line 268, in fit\n",
      "    Xt, yt = self._fit(X, y, **fit_params_steps)\n",
      "  File \"C:\\Users\\Usuario\\anaconda3\\lib\\site-packages\\imblearn\\pipeline.py\", line 226, in _fit\n",
      "    X, y, fitted_transformer = fit_resample_one_cached(\n",
      "  File \"C:\\Users\\Usuario\\anaconda3\\lib\\site-packages\\joblib\\memory.py\", line 352, in __call__\n",
      "    return self.func(*args, **kwargs)\n",
      "  File \"C:\\Users\\Usuario\\anaconda3\\lib\\site-packages\\imblearn\\pipeline.py\", line 394, in _fit_resample_one\n",
      "    X_res, y_res = sampler.fit_resample(X, y, **fit_params)\n",
      "  File \"C:\\Users\\Usuario\\anaconda3\\lib\\site-packages\\imblearn\\base.py\", line 83, in fit_resample\n",
      "    output = self._fit_resample(X, y)\n",
      "  File \"C:\\Users\\Usuario\\anaconda3\\lib\\site-packages\\imblearn\\over_sampling\\_smote\\base.py\", line 533, in _fit_resample\n",
      "    X_resampled, y_resampled = super()._fit_resample(X_encoded, y)\n",
      "  File \"C:\\Users\\Usuario\\anaconda3\\lib\\site-packages\\imblearn\\over_sampling\\_smote\\base.py\", line 324, in _fit_resample\n",
      "    nns = self.nn_k_.kneighbors(X_class, return_distance=False)[:, 1:]\n",
      "  File \"C:\\Users\\Usuario\\anaconda3\\lib\\site-packages\\sklearn\\neighbors\\_base.py\", line 752, in kneighbors\n",
      "    chunked_results = list(\n",
      "  File \"C:\\Users\\Usuario\\anaconda3\\lib\\site-packages\\sklearn\\metrics\\pairwise.py\", line 1717, in pairwise_distances_chunked\n",
      "    D_chunk = pairwise_distances(X_chunk, Y, metric=metric, n_jobs=n_jobs, **kwds)\n",
      "  File \"C:\\Users\\Usuario\\anaconda3\\lib\\site-packages\\sklearn\\metrics\\pairwise.py\", line 1889, in pairwise_distances\n",
      "    return _parallel_pairwise(X, Y, func, n_jobs, **kwds)\n",
      "  File \"C:\\Users\\Usuario\\anaconda3\\lib\\site-packages\\sklearn\\metrics\\pairwise.py\", line 1430, in _parallel_pairwise\n",
      "    return func(X, Y, **kwds)\n",
      "  File \"C:\\Users\\Usuario\\anaconda3\\lib\\site-packages\\sklearn\\metrics\\pairwise.py\", line 330, in euclidean_distances\n",
      "    return _euclidean_distances(X, Y, X_norm_squared, Y_norm_squared, squared)\n",
      "  File \"C:\\Users\\Usuario\\anaconda3\\lib\\site-packages\\sklearn\\metrics\\pairwise.py\", line 371, in _euclidean_distances\n",
      "    distances = -2 * safe_sparse_dot(X, Y.T, dense_output=True)\n",
      "  File \"C:\\Users\\Usuario\\anaconda3\\lib\\site-packages\\sklearn\\utils\\extmath.py\", line 161, in safe_sparse_dot\n",
      "    return ret.toarray()\n",
      "  File \"C:\\Users\\Usuario\\anaconda3\\lib\\site-packages\\scipy\\sparse\\compressed.py\", line 1031, in toarray\n",
      "    out = self._process_toarray_args(order, out)\n",
      "  File \"C:\\Users\\Usuario\\anaconda3\\lib\\site-packages\\scipy\\sparse\\base.py\", line 1202, in _process_toarray_args\n",
      "    return np.zeros(self.shape, dtype=self.dtype, order=order)\n",
      "numpy.core._exceptions._ArrayMemoryError: Unable to allocate 1.00 GiB for an array with shape (5717, 23476) and data type float64\n",
      "\n",
      "--------------------------------------------------------------------------------\n",
      "2 fits failed with the following error:\n",
      "Traceback (most recent call last):\n",
      "  File \"C:\\Users\\Usuario\\anaconda3\\lib\\site-packages\\sklearn\\model_selection\\_validation.py\", line 680, in _fit_and_score\n",
      "    estimator.fit(X_train, y_train, **fit_params)\n",
      "  File \"C:\\Users\\Usuario\\anaconda3\\lib\\site-packages\\imblearn\\pipeline.py\", line 272, in fit\n",
      "    self._final_estimator.fit(Xt, yt, **fit_params_last_step)\n",
      "  File \"C:\\Users\\Usuario\\anaconda3\\lib\\site-packages\\sklearn\\linear_model\\_logistic.py\", line 1461, in fit\n",
      "    solver = _check_solver(self.solver, self.penalty, self.dual)\n",
      "  File \"C:\\Users\\Usuario\\anaconda3\\lib\\site-packages\\sklearn\\linear_model\\_logistic.py\", line 452, in _check_solver\n",
      "    raise ValueError(\n",
      "ValueError: Solver saga supports only dual=False, got dual=True\n",
      "\n",
      "  warnings.warn(some_fits_failed_message, FitFailedWarning)\n",
      "C:\\Users\\Usuario\\anaconda3\\lib\\site-packages\\sklearn\\model_selection\\_search.py:969: UserWarning: One or more of the test scores are non-finite: [nan nan nan nan nan nan nan nan nan nan]\n",
      "  warnings.warn(\n"
     ]
    },
    {
     "name": "stderr",
     "output_type": "stream",
     "text": [
      "C:\\Users\\Usuario\\anaconda3\\lib\\site-packages\\sklearn\\linear_model\\_logistic.py:1476: UserWarning: l1_ratio parameter is only used when penalty is 'elasticnet'. Got (penalty=l1)\n",
      "  warnings.warn(\n"
     ]
    },
    {
     "data": {
      "text/plain": [
       "RandomizedSearchCV(cv=KFold(n_splits=3, random_state=42, shuffle=True),\n",
       "                   estimator=Pipeline(steps=[('over',\n",
       "                                              SMOTENC(categorical_features=array([ 0,  2,  3,  4,  5,  6,  9, 10, 12]),\n",
       "                                                      random_state=42)),\n",
       "                                             ('preprocessor',\n",
       "                                              ColumnTransformer(remainder='passthrough',\n",
       "                                                                transformers=[('cat',\n",
       "                                                                               Pipeline(steps=[('ohe',\n",
       "                                                                                                OneHotEncoder(drop='first',\n",
       "                                                                                                              handle_unknown='ignore',\n",
       "                                                                                                              sparse=False))]),\n",
       "                                                                               [...\n",
       "                                                                                'total_guests',\n",
       "                                                                                'stayes_in_total',\n",
       "                                                                                'cancellation_rate'])])),\n",
       "                                             ('model',\n",
       "                                              LogisticRegression(random_state=42))]),\n",
       "                   n_jobs=-1,\n",
       "                   param_distributions={'model__C': array([0.5 , 0.75]),\n",
       "                                        'model__dual': [True, False],\n",
       "                                        'model__l1_ratio': array([0.5, 0.6, 0.7, 0.8, 0.9]),\n",
       "                                        'model__penalty': ['l1', 'l2',\n",
       "                                                           'elasticnet',\n",
       "                                                           'none'],\n",
       "                                        'model__solver': ['saga', 'liblinear']},\n",
       "                   scoring='f1', verbose=2)"
      ]
     },
     "execution_count": 52,
     "metadata": {},
     "output_type": "execute_result"
    }
   ],
   "source": [
    "grid.fit(X_train, y_train)"
   ]
  },
  {
   "cell_type": "code",
   "execution_count": 53,
   "metadata": {},
   "outputs": [
    {
     "data": {
      "text/plain": [
       "{'model__solver': 'liblinear',\n",
       " 'model__penalty': 'l1',\n",
       " 'model__l1_ratio': 0.5,\n",
       " 'model__dual': False,\n",
       " 'model__C': 0.5}"
      ]
     },
     "execution_count": 53,
     "metadata": {},
     "output_type": "execute_result"
    }
   ],
   "source": [
    "grid.best_params_"
   ]
  },
  {
   "cell_type": "code",
   "execution_count": 55,
   "metadata": {},
   "outputs": [],
   "source": [
    "best_model = grid.best_estimator_"
   ]
  },
  {
   "cell_type": "code",
   "execution_count": 59,
   "metadata": {},
   "outputs": [],
   "source": [
    "y_pred = best_model.predict(X_test)"
   ]
  },
  {
   "cell_type": "code",
   "execution_count": 61,
   "metadata": {},
   "outputs": [
    {
     "name": "stdout",
     "output_type": "stream",
     "text": [
      "Classification Report : \n",
      "              precision    recall  f1-score   support\n",
      "\n",
      "           0       0.86      0.84      0.85     14907\n",
      "           1       0.75      0.78      0.76      8971\n",
      "\n",
      "    accuracy                           0.82     23878\n",
      "   macro avg       0.80      0.81      0.81     23878\n",
      "weighted avg       0.82      0.82      0.82     23878\n",
      "\n"
     ]
    }
   ],
   "source": [
    "clf_report = classification_report(y_test, y_pred)\n",
    "print(f\"Classification Report : \\n{clf_report}\")"
   ]
  },
  {
   "cell_type": "code",
   "execution_count": 62,
   "metadata": {},
   "outputs": [],
   "source": [
    "y_pred_train = best_model.predict(X_train)"
   ]
  },
  {
   "cell_type": "code",
   "execution_count": 64,
   "metadata": {},
   "outputs": [
    {
     "name": "stdout",
     "output_type": "stream",
     "text": [
      "Classification Report : \n",
      "              precision    recall  f1-score   support\n",
      "\n",
      "           0       0.86      0.83      0.85     60259\n",
      "           1       0.73      0.76      0.75     35253\n",
      "\n",
      "    accuracy                           0.81     95512\n",
      "   macro avg       0.79      0.80      0.80     95512\n",
      "weighted avg       0.81      0.81      0.81     95512\n",
      "\n"
     ]
    }
   ],
   "source": [
    "clf_report = classification_report(y_train, y_pred_train)\n",
    "print(f\"Classification Report : \\n{clf_report}\")"
   ]
  },
  {
   "cell_type": "code",
   "execution_count": null,
   "metadata": {},
   "outputs": [],
   "source": []
  },
  {
   "cell_type": "code",
   "execution_count": 36,
   "metadata": {},
   "outputs": [
    {
     "name": "stderr",
     "output_type": "stream",
     "text": [
      "C:\\Users\\Usuario\\anaconda3\\lib\\site-packages\\sklearn\\linear_model\\_logistic.py:814: ConvergenceWarning: lbfgs failed to converge (status=1):\n",
      "STOP: TOTAL NO. of ITERATIONS REACHED LIMIT.\n",
      "\n",
      "Increase the number of iterations (max_iter) or scale the data as shown in:\n",
      "    https://scikit-learn.org/stable/modules/preprocessing.html\n",
      "Please also refer to the documentation for alternative solver options:\n",
      "    https://scikit-learn.org/stable/modules/linear_model.html#logistic-regression\n",
      "  n_iter_i = _check_optimize_result(\n"
     ]
    },
    {
     "data": {
      "text/plain": [
       "Pipeline(steps=[('over',\n",
       "                 SMOTENC(categorical_features=array([ 0,  2,  3,  4,  5,  6,  9, 10, 12]),\n",
       "                         random_state=42)),\n",
       "                ('preprocessor',\n",
       "                 ColumnTransformer(remainder='passthrough',\n",
       "                                   transformers=[('cat',\n",
       "                                                  Pipeline(steps=[('ohe',\n",
       "                                                                   OneHotEncoder(drop='first',\n",
       "                                                                                 handle_unknown='ignore',\n",
       "                                                                                 sparse=False))]),\n",
       "                                                  ['hotel',\n",
       "                                                   'arrival_date_month', 'meal',\n",
       "                                                   'country', 'market_segment',\n",
       "                                                   'agent',\n",
       "                                                   'distrib...\n",
       "                                                   'deposit_type',\n",
       "                                                   'customer_type']),\n",
       "                                                 ('num',\n",
       "                                                  Pipeline(steps=[('scaler',\n",
       "                                                                   MinMaxScaler())]),\n",
       "                                                  ['lead_time',\n",
       "                                                   'is_repeated_guest',\n",
       "                                                   'booking_changes',\n",
       "                                                   'days_in_waiting_list',\n",
       "                                                   'adr',\n",
       "                                                   'assigned_as_reserved',\n",
       "                                                   'required_car_parking_spaces',\n",
       "                                                   'total_of_special_requests',\n",
       "                                                   'total_guests',\n",
       "                                                   'stayes_in_total',\n",
       "                                                   'cancellation_rate'])])),\n",
       "                ('model', LogisticRegression(random_state=42))])"
      ]
     },
     "execution_count": 36,
     "metadata": {},
     "output_type": "execute_result"
    }
   ],
   "source": [
    "pipe.fit(X_train,y_train)"
   ]
  },
  {
   "cell_type": "code",
   "execution_count": 38,
   "metadata": {},
   "outputs": [],
   "source": [
    "y_pred = pipe.predict(X_test)"
   ]
  },
  {
   "cell_type": "code",
   "execution_count": 40,
   "metadata": {},
   "outputs": [],
   "source": [
    "from sklearn.metrics import classification_report"
   ]
  },
  {
   "cell_type": "code",
   "execution_count": 41,
   "metadata": {},
   "outputs": [
    {
     "name": "stdout",
     "output_type": "stream",
     "text": [
      "Classification Report : \n",
      "              precision    recall  f1-score   support\n",
      "\n",
      "           0       0.86      0.84      0.85     14907\n",
      "           1       0.75      0.77      0.76      8971\n",
      "\n",
      "    accuracy                           0.82     23878\n",
      "   macro avg       0.80      0.81      0.80     23878\n",
      "weighted avg       0.82      0.82      0.82     23878\n",
      "\n"
     ]
    }
   ],
   "source": [
    "clf_report = classification_report(y_test, y_pred)\n",
    "print(f\"Classification Report : \\n{clf_report}\")"
   ]
  },
  {
   "cell_type": "code",
   "execution_count": null,
   "metadata": {},
   "outputs": [],
   "source": []
  }
 ],
 "metadata": {
  "deepnote": {},
  "deepnote_execution_queue": [],
  "deepnote_notebook_id": "66bfdd90-3ddb-4590-8cca-dafc6e63546c",
  "kernelspec": {
   "display_name": "Python 3",
   "language": "python",
   "name": "python3"
  },
  "language_info": {
   "codemirror_mode": {
    "name": "ipython",
    "version": 3
   },
   "file_extension": ".py",
   "mimetype": "text/x-python",
   "name": "python",
   "nbconvert_exporter": "python",
   "pygments_lexer": "ipython3",
   "version": "3.8.8"
  }
 },
 "nbformat": 4,
 "nbformat_minor": 2
}
