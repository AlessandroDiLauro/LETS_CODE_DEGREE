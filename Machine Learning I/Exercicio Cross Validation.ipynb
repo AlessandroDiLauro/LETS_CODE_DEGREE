{
 "cells": [
  {
   "cell_type": "code",
   "execution_count": 65,
   "id": "db916715",
   "metadata": {},
   "outputs": [],
   "source": [
    "# house_prices\n",
    "# instanciar o Kfold\n",
    "\n",
    "# instanciar modelo 1 -> Elasticnet alpha=1.3\n",
    "\n",
    "#rodam cross_validate\n",
    "\n",
    "# instanciar modelo 2 -> Elasticnet alpha=1.5\n",
    "\n",
    "#rodam cross_validate\n",
    "\n",
    "# instanciar modelo 3 -> Elasticnet alpha=0.9\n",
    "\n",
    "#rodam cross_validate\n",
    "\n",
    "\n",
    "\n",
    "#comparar metrica de erro entre modelo 1, 2 e 3 e escolher o melhor"
   ]
  },
  {
   "cell_type": "code",
   "execution_count": 66,
   "id": "d6255ab3",
   "metadata": {},
   "outputs": [
    {
     "name": "stdout",
     "output_type": "stream",
     "text": [
      "The autoreload extension is already loaded. To reload it, use:\n",
      "  %reload_ext autoreload\n"
     ]
    }
   ],
   "source": [
    "%load_ext autoreload\n",
    "%autoreload 2"
   ]
  },
  {
   "cell_type": "code",
   "execution_count": 67,
   "id": "08572b69",
   "metadata": {},
   "outputs": [],
   "source": [
    "from ml_utils import *"
   ]
  },
  {
   "cell_type": "code",
   "execution_count": 68,
   "id": "e0871b80",
   "metadata": {},
   "outputs": [],
   "source": [
    "import numpy as np\n",
    "import pandas as pd\n",
    "\n",
    "import matplotlib.pyplot as plt\n",
    "import seaborn as sns"
   ]
  },
  {
   "cell_type": "code",
   "execution_count": 69,
   "id": "1b5b6e7c",
   "metadata": {},
   "outputs": [],
   "source": [
    "from sklearn.model_selection import KFold, cross_val_score, StratifiedKFold"
   ]
  },
  {
   "cell_type": "code",
   "execution_count": 70,
   "id": "6121bb3f",
   "metadata": {},
   "outputs": [],
   "source": [
    "from sklearn.model_selection import cross_validate"
   ]
  },
  {
   "cell_type": "code",
   "execution_count": 71,
   "id": "6826f3fd",
   "metadata": {},
   "outputs": [
    {
     "data": {
      "text/html": [
       "<div>\n",
       "<style scoped>\n",
       "    .dataframe tbody tr th:only-of-type {\n",
       "        vertical-align: middle;\n",
       "    }\n",
       "\n",
       "    .dataframe tbody tr th {\n",
       "        vertical-align: top;\n",
       "    }\n",
       "\n",
       "    .dataframe thead th {\n",
       "        text-align: right;\n",
       "    }\n",
       "</style>\n",
       "<table border=\"1\" class=\"dataframe\">\n",
       "  <thead>\n",
       "    <tr style=\"text-align: right;\">\n",
       "      <th></th>\n",
       "      <th>Id</th>\n",
       "      <th>MSSubClass</th>\n",
       "      <th>MSZoning</th>\n",
       "      <th>LotFrontage</th>\n",
       "      <th>LotArea</th>\n",
       "      <th>Street</th>\n",
       "      <th>Alley</th>\n",
       "      <th>LotShape</th>\n",
       "      <th>LandContour</th>\n",
       "      <th>Utilities</th>\n",
       "      <th>...</th>\n",
       "      <th>PoolArea</th>\n",
       "      <th>PoolQC</th>\n",
       "      <th>Fence</th>\n",
       "      <th>MiscFeature</th>\n",
       "      <th>MiscVal</th>\n",
       "      <th>MoSold</th>\n",
       "      <th>YrSold</th>\n",
       "      <th>SaleType</th>\n",
       "      <th>SaleCondition</th>\n",
       "      <th>SalePrice</th>\n",
       "    </tr>\n",
       "  </thead>\n",
       "  <tbody>\n",
       "    <tr>\n",
       "      <th>0</th>\n",
       "      <td>1</td>\n",
       "      <td>60</td>\n",
       "      <td>RL</td>\n",
       "      <td>65.0</td>\n",
       "      <td>8450</td>\n",
       "      <td>Pave</td>\n",
       "      <td>NaN</td>\n",
       "      <td>Reg</td>\n",
       "      <td>Lvl</td>\n",
       "      <td>AllPub</td>\n",
       "      <td>...</td>\n",
       "      <td>0</td>\n",
       "      <td>NaN</td>\n",
       "      <td>NaN</td>\n",
       "      <td>NaN</td>\n",
       "      <td>0</td>\n",
       "      <td>2</td>\n",
       "      <td>2008</td>\n",
       "      <td>WD</td>\n",
       "      <td>Normal</td>\n",
       "      <td>208500</td>\n",
       "    </tr>\n",
       "    <tr>\n",
       "      <th>1</th>\n",
       "      <td>2</td>\n",
       "      <td>20</td>\n",
       "      <td>RL</td>\n",
       "      <td>80.0</td>\n",
       "      <td>9600</td>\n",
       "      <td>Pave</td>\n",
       "      <td>NaN</td>\n",
       "      <td>Reg</td>\n",
       "      <td>Lvl</td>\n",
       "      <td>AllPub</td>\n",
       "      <td>...</td>\n",
       "      <td>0</td>\n",
       "      <td>NaN</td>\n",
       "      <td>NaN</td>\n",
       "      <td>NaN</td>\n",
       "      <td>0</td>\n",
       "      <td>5</td>\n",
       "      <td>2007</td>\n",
       "      <td>WD</td>\n",
       "      <td>Normal</td>\n",
       "      <td>181500</td>\n",
       "    </tr>\n",
       "    <tr>\n",
       "      <th>2</th>\n",
       "      <td>3</td>\n",
       "      <td>60</td>\n",
       "      <td>RL</td>\n",
       "      <td>68.0</td>\n",
       "      <td>11250</td>\n",
       "      <td>Pave</td>\n",
       "      <td>NaN</td>\n",
       "      <td>IR1</td>\n",
       "      <td>Lvl</td>\n",
       "      <td>AllPub</td>\n",
       "      <td>...</td>\n",
       "      <td>0</td>\n",
       "      <td>NaN</td>\n",
       "      <td>NaN</td>\n",
       "      <td>NaN</td>\n",
       "      <td>0</td>\n",
       "      <td>9</td>\n",
       "      <td>2008</td>\n",
       "      <td>WD</td>\n",
       "      <td>Normal</td>\n",
       "      <td>223500</td>\n",
       "    </tr>\n",
       "    <tr>\n",
       "      <th>3</th>\n",
       "      <td>4</td>\n",
       "      <td>70</td>\n",
       "      <td>RL</td>\n",
       "      <td>60.0</td>\n",
       "      <td>9550</td>\n",
       "      <td>Pave</td>\n",
       "      <td>NaN</td>\n",
       "      <td>IR1</td>\n",
       "      <td>Lvl</td>\n",
       "      <td>AllPub</td>\n",
       "      <td>...</td>\n",
       "      <td>0</td>\n",
       "      <td>NaN</td>\n",
       "      <td>NaN</td>\n",
       "      <td>NaN</td>\n",
       "      <td>0</td>\n",
       "      <td>2</td>\n",
       "      <td>2006</td>\n",
       "      <td>WD</td>\n",
       "      <td>Abnorml</td>\n",
       "      <td>140000</td>\n",
       "    </tr>\n",
       "    <tr>\n",
       "      <th>4</th>\n",
       "      <td>5</td>\n",
       "      <td>60</td>\n",
       "      <td>RL</td>\n",
       "      <td>84.0</td>\n",
       "      <td>14260</td>\n",
       "      <td>Pave</td>\n",
       "      <td>NaN</td>\n",
       "      <td>IR1</td>\n",
       "      <td>Lvl</td>\n",
       "      <td>AllPub</td>\n",
       "      <td>...</td>\n",
       "      <td>0</td>\n",
       "      <td>NaN</td>\n",
       "      <td>NaN</td>\n",
       "      <td>NaN</td>\n",
       "      <td>0</td>\n",
       "      <td>12</td>\n",
       "      <td>2008</td>\n",
       "      <td>WD</td>\n",
       "      <td>Normal</td>\n",
       "      <td>250000</td>\n",
       "    </tr>\n",
       "  </tbody>\n",
       "</table>\n",
       "<p>5 rows × 81 columns</p>\n",
       "</div>"
      ],
      "text/plain": [
       "   Id  MSSubClass MSZoning  LotFrontage  LotArea Street Alley LotShape  \\\n",
       "0   1          60       RL         65.0     8450   Pave   NaN      Reg   \n",
       "1   2          20       RL         80.0     9600   Pave   NaN      Reg   \n",
       "2   3          60       RL         68.0    11250   Pave   NaN      IR1   \n",
       "3   4          70       RL         60.0     9550   Pave   NaN      IR1   \n",
       "4   5          60       RL         84.0    14260   Pave   NaN      IR1   \n",
       "\n",
       "  LandContour Utilities  ... PoolArea PoolQC Fence MiscFeature MiscVal MoSold  \\\n",
       "0         Lvl    AllPub  ...        0    NaN   NaN         NaN       0      2   \n",
       "1         Lvl    AllPub  ...        0    NaN   NaN         NaN       0      5   \n",
       "2         Lvl    AllPub  ...        0    NaN   NaN         NaN       0      9   \n",
       "3         Lvl    AllPub  ...        0    NaN   NaN         NaN       0      2   \n",
       "4         Lvl    AllPub  ...        0    NaN   NaN         NaN       0     12   \n",
       "\n",
       "  YrSold  SaleType  SaleCondition  SalePrice  \n",
       "0   2008        WD         Normal     208500  \n",
       "1   2007        WD         Normal     181500  \n",
       "2   2008        WD         Normal     223500  \n",
       "3   2006        WD        Abnorml     140000  \n",
       "4   2008        WD         Normal     250000  \n",
       "\n",
       "[5 rows x 81 columns]"
      ]
     },
     "execution_count": 71,
     "metadata": {},
     "output_type": "execute_result"
    }
   ],
   "source": [
    "df = pd.read_csv('house_prices.csv')\n",
    "df.head()"
   ]
  },
  {
   "cell_type": "code",
   "execution_count": 72,
   "id": "134150e1",
   "metadata": {},
   "outputs": [],
   "source": [
    "X = df.drop(columns=[\"Id\", \"SalePrice\"])\n",
    "y = df[\"SalePrice\"]\n",
    "\n",
    "X_train, X_test, y_train, y_test = train_test_split(X, y, test_size=0.2, random_state=42)"
   ]
  },
  {
   "cell_type": "code",
   "execution_count": 73,
   "id": "c6b545c9",
   "metadata": {},
   "outputs": [],
   "source": [
    "X_train_model = X_train.select_dtypes(include=np.number).dropna(axis=\"columns\")\n",
    "X_test_model = X_test.loc[:, X_train_model.columns]"
   ]
  },
  {
   "cell_type": "markdown",
   "id": "d682bae6",
   "metadata": {},
   "source": [
    "## Overfitting"
   ]
  },
  {
   "cell_type": "code",
   "execution_count": 74,
   "id": "6f200e9f",
   "metadata": {},
   "outputs": [],
   "source": [
    "pf = PolynomialFeatures(degree=2, include_bias=False).fit(X_train_model)\n",
    "        \n",
    "X_train = pf.transform(X_train_model)\n",
    "X_test = pf.transform(X_test_model)"
   ]
  },
  {
   "cell_type": "code",
   "execution_count": 75,
   "id": "37df84f6",
   "metadata": {
    "scrolled": false
   },
   "outputs": [
    {
     "name": "stdout",
     "output_type": "stream",
     "text": [
      "\n",
      "Métricas de avaliação (dados de treino):\n",
      "\n",
      "R^2: 0.96\n",
      "MAE: 10528.16\n",
      "RMSE: 14982.18\n",
      "MAPE: 6.41%\n",
      "\n",
      "Distribuição dos resíduos de treino:\n",
      "\n",
      "count    1.168000e+03\n",
      "mean    -7.466911e-07\n",
      "std      1.498859e+04\n",
      "min     -1.085426e+05\n",
      "25%     -8.016138e+03\n",
      "50%      4.929192e-01\n",
      "75%      8.172938e+03\n",
      "max      9.457485e+04\n",
      "Name: SalePrice, dtype: float64\n",
      "\n",
      "##################################################\n",
      "\n",
      "Métricas de avaliação (dados de teste):\n",
      "\n",
      "R^2: 0.65\n",
      "MAE: 27307.25\n",
      "RMSE: 51512.62\n",
      "MAPE: 17.82%\n",
      "\n",
      "Distribuição dos resíduos de teste:\n",
      "\n",
      "count       292.000000\n",
      "mean       1248.446923\n",
      "std       51585.897163\n",
      "min     -353345.126807\n",
      "25%      -13377.276551\n",
      "50%        1166.358874\n",
      "75%       15438.545932\n",
      "max      318725.834764\n",
      "Name: SalePrice, dtype: float64\n"
     ]
    },
    {
     "data": {
      "text/plain": [
       "LinearRegression()"
      ]
     },
     "execution_count": 75,
     "metadata": {},
     "output_type": "execute_result"
    }
   ],
   "source": [
    "reg_lin_pt1_pt2(X_train, y_train, X_test, y_test, \n",
    "                    plot=False, scale_mms=False, \n",
    "                    train_metrics=True, dist_resids=True)"
   ]
  },
  {
   "cell_type": "markdown",
   "id": "cc2ca24f",
   "metadata": {},
   "source": [
    "## Linear Regression Regularization"
   ]
  },
  {
   "cell_type": "code",
   "execution_count": 76,
   "id": "0d134885",
   "metadata": {},
   "outputs": [
    {
     "name": "stdout",
     "output_type": "stream",
     "text": [
      "Modelo com espaço de features transformado!\n",
      "\n",
      "Número de features original: 33\n",
      "Número de features após o transformer: 7139\n",
      "\n",
      "==================================================\n",
      "\n",
      "Métricas de avaliação (dados de treino):\n",
      "\n",
      "R^2: 0.93\n",
      "MAE: 14550.68\n",
      "RMSE: 20633.57\n",
      "MAPE: 8.53%\n",
      "\n",
      "##################################################\n",
      "\n",
      "Métricas de avaliação (dados de teste):\n",
      "\n",
      "R^2: 0.89\n",
      "MAE: 18155.80\n",
      "RMSE: 28770.64\n",
      "MAPE: 10.80%\n"
     ]
    },
    {
     "data": {
      "text/plain": [
       "(Lasso(alpha=50, max_iter=2000),\n",
       " {'r2': 0.9286209087963528,\n",
       "  'mae': 14550.675382250174,\n",
       "  'rmse': 20633.56938453419,\n",
       "  'mape': 0.0853363302936373},\n",
       " {'r2': 0.8920841444764087,\n",
       "  'mae': 18155.79649067913,\n",
       "  'rmse': 28770.641542962192,\n",
       "  'mape': 0.10798075175270948})"
      ]
     },
     "execution_count": 76,
     "metadata": {},
     "output_type": "execute_result"
    }
   ],
   "source": [
    "reg_lin_poly_features_regularized(X_train_model, y_train, X_test_model, y_test, \n",
    "                    \n",
    "                                      deg=3,\n",
    "                                      type_regularization=\"l1\", alpha=50,\n",
    "                                      iter_max=2000,\n",
    "                                      plot=False, scale_mms=False, \n",
    "                                      train_metrics=True, \n",
    "                                      dist_resids=False,\n",
    "                                      plot_model=False)"
   ]
  },
  {
   "cell_type": "markdown",
   "id": "004926e4",
   "metadata": {},
   "source": [
    "## CV"
   ]
  },
  {
   "cell_type": "code",
   "execution_count": 82,
   "id": "8a756644",
   "metadata": {},
   "outputs": [
    {
     "name": "stdout",
     "output_type": "stream",
     "text": [
      "[0.83998994 0.80074845 0.75857116 0.54436684 0.8197479  0.85153284]\n",
      "0.7691595216372491\n",
      "0.10488344439945024\n"
     ]
    }
   ],
   "source": [
    "# Create a KFold object\n",
    "kf = KFold(n_splits=6, shuffle=True, random_state=42)\n",
    "\n",
    "\n",
    "\n",
    "# Compute 6-fold cross-validation scores\n",
    "cv_scores = cross_val_score(LinearRegression(), X_train_model, y_train, cv=kf, scoring='r2')\n",
    "\n",
    "# Print scores\n",
    "print(cv_scores)\n",
    "print(np.mean(cv_scores))\n",
    "print(np.std(cv_scores))"
   ]
  },
  {
   "cell_type": "code",
   "execution_count": 84,
   "id": "bf2eb3c0",
   "metadata": {},
   "outputs": [
    {
     "name": "stdout",
     "output_type": "stream",
     "text": [
      "[0.84047638 0.8196953  0.79673866 0.46485044 0.82073895 0.70433942]\n",
      "0.7411398582512079\n",
      "0.13112084751796865\n"
     ]
    },
    {
     "name": "stderr",
     "output_type": "stream",
     "text": [
      "C:\\Users\\Usuario\\anaconda3\\lib\\site-packages\\sklearn\\model_selection\\_split.py:676: UserWarning: The least populated class in y has only 1 members, which is less than n_splits=6.\n",
      "  warnings.warn(\n"
     ]
    }
   ],
   "source": [
    "kfS = StratifiedKFold(n_splits=6, shuffle=True, random_state=42)\n",
    "\n",
    "\n",
    "\n",
    "# Compute 6-fold cross-validation scores\n",
    "cv_scores = cross_val_score(LinearRegression(), X_train_model, y_train, cv=kfS, scoring='r2')\n",
    "\n",
    "# Print scores\n",
    "print(cv_scores)\n",
    "print(np.mean(cv_scores))\n",
    "print(np.std(cv_scores))"
   ]
  },
  {
   "cell_type": "code",
   "execution_count": 85,
   "id": "6bd9d6df",
   "metadata": {},
   "outputs": [
    {
     "name": "stdout",
     "output_type": "stream",
     "text": [
      "[0.84000095 0.80076615 0.75857942 0.54432932 0.8197902  0.85154347]\n",
      "0.7691682523044889\n",
      "0.1049036258473521\n"
     ]
    }
   ],
   "source": [
    "# Compute 6-fold cross-validation scores\n",
    "cv_scores = cross_val_score(Lasso(alpha=1.3), X_train_model, y_train, cv=kf, scoring='r2')\n",
    "\n",
    "# Print scores\n",
    "print(cv_scores)\n",
    "print(np.mean(cv_scores))\n",
    "print(np.std(cv_scores))"
   ]
  },
  {
   "cell_type": "code",
   "execution_count": 80,
   "id": "ebc2fc3e",
   "metadata": {},
   "outputs": [
    {
     "name": "stdout",
     "output_type": "stream",
     "text": [
      "[0.83430496 0.73615063 0.61880309 0.80546939 0.84405008]\n",
      "0.7677556309274033\n",
      "0.08349577169211327\n"
     ]
    }
   ],
   "source": [
    "cv_scores = cross_val_score(Lasso(alpha=1.5), X_train_model, y_train, cv=kf, scoring='r2')\n",
    "\n",
    "# Print scores\n",
    "print(cv_scores)\n",
    "print(np.mean(cv_scores))\n",
    "print(np.std(cv_scores))"
   ]
  },
  {
   "cell_type": "code",
   "execution_count": 81,
   "id": "fd5eb084",
   "metadata": {},
   "outputs": [
    {
     "name": "stdout",
     "output_type": "stream",
     "text": [
      "[0.83430254 0.73614259 0.61881535 0.80545882 0.84403548]\n",
      "0.7677509575393584\n",
      "0.08348799927971876\n"
     ]
    }
   ],
   "source": [
    "cv_scores = cross_val_score(Lasso(alpha=.9), X_train_model, y_train, cv=kf, scoring='r2')\n",
    "\n",
    "# Print scores\n",
    "print(cv_scores)\n",
    "print(np.mean(cv_scores))\n",
    "print(np.std(cv_scores))"
   ]
  },
  {
   "cell_type": "code",
   "execution_count": 86,
   "id": "0ef34d8e",
   "metadata": {},
   "outputs": [
    {
     "name": "stderr",
     "output_type": "stream",
     "text": [
      "C:\\Users\\Usuario\\anaconda3\\lib\\site-packages\\sklearn\\linear_model\\_coordinate_descent.py:647: ConvergenceWarning: Objective did not converge. You might want to increase the number of iterations, check the scale of the features or consider increasing regularisation. Duality gap: 6.850e+11, tolerance: 5.852e+08\n",
      "  model = cd_fast.enet_coordinate_descent(\n",
      "C:\\Users\\Usuario\\anaconda3\\lib\\site-packages\\sklearn\\linear_model\\_coordinate_descent.py:647: ConvergenceWarning: Objective did not converge. You might want to increase the number of iterations, check the scale of the features or consider increasing regularisation. Duality gap: 6.383e+11, tolerance: 5.617e+08\n",
      "  model = cd_fast.enet_coordinate_descent(\n",
      "C:\\Users\\Usuario\\anaconda3\\lib\\site-packages\\sklearn\\linear_model\\_coordinate_descent.py:647: ConvergenceWarning: Objective did not converge. You might want to increase the number of iterations, check the scale of the features or consider increasing regularisation. Duality gap: 6.463e+11, tolerance: 5.893e+08\n",
      "  model = cd_fast.enet_coordinate_descent(\n",
      "C:\\Users\\Usuario\\anaconda3\\lib\\site-packages\\sklearn\\linear_model\\_coordinate_descent.py:647: ConvergenceWarning: Objective did not converge. You might want to increase the number of iterations, check the scale of the features or consider increasing regularisation. Duality gap: 5.121e+11, tolerance: 5.743e+08\n",
      "  model = cd_fast.enet_coordinate_descent(\n",
      "C:\\Users\\Usuario\\anaconda3\\lib\\site-packages\\sklearn\\linear_model\\_coordinate_descent.py:647: ConvergenceWarning: Objective did not converge. You might want to increase the number of iterations, check the scale of the features or consider increasing regularisation. Duality gap: 6.676e+11, tolerance: 5.819e+08\n",
      "  model = cd_fast.enet_coordinate_descent(\n",
      "C:\\Users\\Usuario\\anaconda3\\lib\\site-packages\\sklearn\\linear_model\\_coordinate_descent.py:647: ConvergenceWarning: Objective did not converge. You might want to increase the number of iterations, check the scale of the features or consider increasing regularisation. Duality gap: 6.946e+11, tolerance: 5.908e+08\n",
      "  model = cd_fast.enet_coordinate_descent(\n"
     ]
    },
    {
     "name": "stdout",
     "output_type": "stream",
     "text": [
      "[0.83431837 0.79445308 0.75008546 0.49625996 0.81193814 0.8521986 ]\n",
      "0.7565422676688812\n",
      "0.12075716613785131\n"
     ]
    }
   ],
   "source": [
    "kf = KFold(n_splits=6, shuffle=True, random_state=42)\n",
    "\n",
    "\n",
    "\n",
    "# Compute 6-fold cross-validation scores\n",
    "cv_scores = cross_val_score(ElasticNet(alpha=1.3), X_train_model, y_train, cv=kf, scoring='r2')\n",
    "\n",
    "# Print scores\n",
    "print(cv_scores)\n",
    "print(np.mean(cv_scores))\n",
    "print(np.std(cv_scores))"
   ]
  },
  {
   "cell_type": "code",
   "execution_count": 87,
   "id": "107e545b",
   "metadata": {},
   "outputs": [
    {
     "name": "stderr",
     "output_type": "stream",
     "text": [
      "C:\\Users\\Usuario\\anaconda3\\lib\\site-packages\\sklearn\\linear_model\\_coordinate_descent.py:647: ConvergenceWarning: Objective did not converge. You might want to increase the number of iterations, check the scale of the features or consider increasing regularisation. Duality gap: 6.922e+11, tolerance: 5.852e+08\n",
      "  model = cd_fast.enet_coordinate_descent(\n",
      "C:\\Users\\Usuario\\anaconda3\\lib\\site-packages\\sklearn\\linear_model\\_coordinate_descent.py:647: ConvergenceWarning: Objective did not converge. You might want to increase the number of iterations, check the scale of the features or consider increasing regularisation. Duality gap: 6.453e+11, tolerance: 5.617e+08\n",
      "  model = cd_fast.enet_coordinate_descent(\n",
      "C:\\Users\\Usuario\\anaconda3\\lib\\site-packages\\sklearn\\linear_model\\_coordinate_descent.py:647: ConvergenceWarning: Objective did not converge. You might want to increase the number of iterations, check the scale of the features or consider increasing regularisation. Duality gap: 6.530e+11, tolerance: 5.893e+08\n",
      "  model = cd_fast.enet_coordinate_descent(\n",
      "C:\\Users\\Usuario\\anaconda3\\lib\\site-packages\\sklearn\\linear_model\\_coordinate_descent.py:647: ConvergenceWarning: Objective did not converge. You might want to increase the number of iterations, check the scale of the features or consider increasing regularisation. Duality gap: 5.174e+11, tolerance: 5.743e+08\n",
      "  model = cd_fast.enet_coordinate_descent(\n",
      "C:\\Users\\Usuario\\anaconda3\\lib\\site-packages\\sklearn\\linear_model\\_coordinate_descent.py:647: ConvergenceWarning: Objective did not converge. You might want to increase the number of iterations, check the scale of the features or consider increasing regularisation. Duality gap: 6.742e+11, tolerance: 5.819e+08\n",
      "  model = cd_fast.enet_coordinate_descent(\n",
      "C:\\Users\\Usuario\\anaconda3\\lib\\site-packages\\sklearn\\linear_model\\_coordinate_descent.py:647: ConvergenceWarning: Objective did not converge. You might want to increase the number of iterations, check the scale of the features or consider increasing regularisation. Duality gap: 7.020e+11, tolerance: 5.908e+08\n",
      "  model = cd_fast.enet_coordinate_descent(\n"
     ]
    },
    {
     "name": "stdout",
     "output_type": "stream",
     "text": [
      "[0.83263808 0.79285448 0.74776959 0.49165029 0.80931303 0.85083475]\n",
      "0.7541767042451766\n",
      "0.12178951691582524\n"
     ]
    }
   ],
   "source": [
    "kf = KFold(n_splits=6, shuffle=True, random_state=42)\n",
    "\n",
    "\n",
    "\n",
    "# Compute 6-fold cross-validation scores\n",
    "cv_scores = cross_val_score(ElasticNet(alpha=1.5), X_train_model, y_train, cv=kf, scoring='r2')\n",
    "\n",
    "# Print scores\n",
    "print(cv_scores)\n",
    "print(np.mean(cv_scores))\n",
    "print(np.std(cv_scores))"
   ]
  },
  {
   "cell_type": "code",
   "execution_count": 88,
   "id": "d3d11782",
   "metadata": {},
   "outputs": [
    {
     "name": "stderr",
     "output_type": "stream",
     "text": [
      "C:\\Users\\Usuario\\anaconda3\\lib\\site-packages\\sklearn\\linear_model\\_coordinate_descent.py:647: ConvergenceWarning: Objective did not converge. You might want to increase the number of iterations, check the scale of the features or consider increasing regularisation. Duality gap: 6.670e+11, tolerance: 5.852e+08\n",
      "  model = cd_fast.enet_coordinate_descent(\n",
      "C:\\Users\\Usuario\\anaconda3\\lib\\site-packages\\sklearn\\linear_model\\_coordinate_descent.py:647: ConvergenceWarning: Objective did not converge. You might want to increase the number of iterations, check the scale of the features or consider increasing regularisation. Duality gap: 6.205e+11, tolerance: 5.617e+08\n",
      "  model = cd_fast.enet_coordinate_descent(\n",
      "C:\\Users\\Usuario\\anaconda3\\lib\\site-packages\\sklearn\\linear_model\\_coordinate_descent.py:647: ConvergenceWarning: Objective did not converge. You might want to increase the number of iterations, check the scale of the features or consider increasing regularisation. Duality gap: 6.292e+11, tolerance: 5.893e+08\n",
      "  model = cd_fast.enet_coordinate_descent(\n",
      "C:\\Users\\Usuario\\anaconda3\\lib\\site-packages\\sklearn\\linear_model\\_coordinate_descent.py:647: ConvergenceWarning: Objective did not converge. You might want to increase the number of iterations, check the scale of the features or consider increasing regularisation. Duality gap: 4.989e+11, tolerance: 5.743e+08\n",
      "  model = cd_fast.enet_coordinate_descent(\n",
      "C:\\Users\\Usuario\\anaconda3\\lib\\site-packages\\sklearn\\linear_model\\_coordinate_descent.py:647: ConvergenceWarning: Objective did not converge. You might want to increase the number of iterations, check the scale of the features or consider increasing regularisation. Duality gap: 6.508e+11, tolerance: 5.819e+08\n",
      "  model = cd_fast.enet_coordinate_descent(\n",
      "C:\\Users\\Usuario\\anaconda3\\lib\\site-packages\\sklearn\\linear_model\\_coordinate_descent.py:647: ConvergenceWarning: Objective did not converge. You might want to increase the number of iterations, check the scale of the features or consider increasing regularisation. Duality gap: 6.761e+11, tolerance: 5.908e+08\n",
      "  model = cd_fast.enet_coordinate_descent(\n"
     ]
    },
    {
     "name": "stdout",
     "output_type": "stream",
     "text": [
      "[0.83788533 0.7978817  0.75503977 0.50721193 0.81763265 0.85493491]\n",
      "0.761764382838618\n",
      "0.11814048375859391\n"
     ]
    }
   ],
   "source": [
    "kf = KFold(n_splits=6, shuffle=True, random_state=42)\n",
    "\n",
    "\n",
    "\n",
    "# Compute 6-fold cross-validation scores\n",
    "cv_scores = cross_val_score(ElasticNet(alpha=.9), X_train_model, y_train, cv=kf, scoring='r2')\n",
    "\n",
    "# Print scores\n",
    "print(cv_scores)\n",
    "print(np.mean(cv_scores))\n",
    "print(np.std(cv_scores))"
   ]
  },
  {
   "cell_type": "code",
   "execution_count": null,
   "id": "2cb93338",
   "metadata": {},
   "outputs": [],
   "source": []
  }
 ],
 "metadata": {
  "kernelspec": {
   "display_name": "Python 3",
   "language": "python",
   "name": "python3"
  },
  "language_info": {
   "codemirror_mode": {
    "name": "ipython",
    "version": 3
   },
   "file_extension": ".py",
   "mimetype": "text/x-python",
   "name": "python",
   "nbconvert_exporter": "python",
   "pygments_lexer": "ipython3",
   "version": "3.8.8"
  }
 },
 "nbformat": 4,
 "nbformat_minor": 5
}
