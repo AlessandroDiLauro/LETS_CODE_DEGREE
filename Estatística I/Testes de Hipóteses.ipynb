{
 "cells": [
  {
   "cell_type": "code",
   "execution_count": 1,
   "id": "d786020a",
   "metadata": {},
   "outputs": [],
   "source": [
    "from scipy.stats import norm\n",
    "from scipy.stats import t\n",
    "import numpy as np\n",
    "import matplotlib.pyplot as plt\n",
    "\n",
    "import numpy as np\n",
    "import pandas as pd\n",
    "import matplotlib.pyplot as plt\n",
    "import seaborn as sns\n",
    "from scipy.stats import norm\n"
   ]
  },
  {
   "cell_type": "markdown",
   "id": "b80b9ebb",
   "metadata": {},
   "source": [
    "Um fabricante de refrigerante anunciou que o índice de cafeína do seu refrigerante de cola é igual a 35mg por lata. Um laboratório realizou 20 análises do índice de cafeína obtendo os resultados (37, 34, 36, 37, 35, 32, 30, 35, 34, 36, 39, 38, 34, 35, 31, 30, 33, 35, 36, 31). Sabe-se que o índice de cafeína do refrigerante de cola dessa marca se distribui normalmente com variância igual a 4. Responda respectivamente a conclusão sobre o teste e o valor crítico para este teste com nível de significância de 5%? Utilize da suposição que queremos identificar se a média de cafeína caso não seja 35mg, seja maior que esse valor (caso unicaudal do teste)"
   ]
  },
  {
   "cell_type": "code",
   "execution_count": 2,
   "id": "0dccead6",
   "metadata": {},
   "outputs": [],
   "source": [
    "from statsmodels.stats.weightstats import DescrStatsW"
   ]
  },
  {
   "cell_type": "code",
   "execution_count": 3,
   "id": "e825a067",
   "metadata": {},
   "outputs": [],
   "source": [
    "df = pd.DataFrame({'mg' : [37, 34, 36, 37, 35, 32, 30, 35, 34, 36, 39, 38, 34, 35, 31, 30, 33, 35, 36, 31]})"
   ]
  },
  {
   "cell_type": "code",
   "execution_count": 4,
   "id": "17ca072a",
   "metadata": {},
   "outputs": [
    {
     "data": {
      "text/html": [
       "<div>\n",
       "<style scoped>\n",
       "    .dataframe tbody tr th:only-of-type {\n",
       "        vertical-align: middle;\n",
       "    }\n",
       "\n",
       "    .dataframe tbody tr th {\n",
       "        vertical-align: top;\n",
       "    }\n",
       "\n",
       "    .dataframe thead th {\n",
       "        text-align: right;\n",
       "    }\n",
       "</style>\n",
       "<table border=\"1\" class=\"dataframe\">\n",
       "  <thead>\n",
       "    <tr style=\"text-align: right;\">\n",
       "      <th></th>\n",
       "      <th>mg</th>\n",
       "    </tr>\n",
       "  </thead>\n",
       "  <tbody>\n",
       "    <tr>\n",
       "      <th>0</th>\n",
       "      <td>37</td>\n",
       "    </tr>\n",
       "    <tr>\n",
       "      <th>1</th>\n",
       "      <td>34</td>\n",
       "    </tr>\n",
       "    <tr>\n",
       "      <th>2</th>\n",
       "      <td>36</td>\n",
       "    </tr>\n",
       "    <tr>\n",
       "      <th>3</th>\n",
       "      <td>37</td>\n",
       "    </tr>\n",
       "    <tr>\n",
       "      <th>4</th>\n",
       "      <td>35</td>\n",
       "    </tr>\n",
       "    <tr>\n",
       "      <th>5</th>\n",
       "      <td>32</td>\n",
       "    </tr>\n",
       "    <tr>\n",
       "      <th>6</th>\n",
       "      <td>30</td>\n",
       "    </tr>\n",
       "    <tr>\n",
       "      <th>7</th>\n",
       "      <td>35</td>\n",
       "    </tr>\n",
       "    <tr>\n",
       "      <th>8</th>\n",
       "      <td>34</td>\n",
       "    </tr>\n",
       "    <tr>\n",
       "      <th>9</th>\n",
       "      <td>36</td>\n",
       "    </tr>\n",
       "    <tr>\n",
       "      <th>10</th>\n",
       "      <td>39</td>\n",
       "    </tr>\n",
       "    <tr>\n",
       "      <th>11</th>\n",
       "      <td>38</td>\n",
       "    </tr>\n",
       "    <tr>\n",
       "      <th>12</th>\n",
       "      <td>34</td>\n",
       "    </tr>\n",
       "    <tr>\n",
       "      <th>13</th>\n",
       "      <td>35</td>\n",
       "    </tr>\n",
       "    <tr>\n",
       "      <th>14</th>\n",
       "      <td>31</td>\n",
       "    </tr>\n",
       "    <tr>\n",
       "      <th>15</th>\n",
       "      <td>30</td>\n",
       "    </tr>\n",
       "    <tr>\n",
       "      <th>16</th>\n",
       "      <td>33</td>\n",
       "    </tr>\n",
       "    <tr>\n",
       "      <th>17</th>\n",
       "      <td>35</td>\n",
       "    </tr>\n",
       "    <tr>\n",
       "      <th>18</th>\n",
       "      <td>36</td>\n",
       "    </tr>\n",
       "    <tr>\n",
       "      <th>19</th>\n",
       "      <td>31</td>\n",
       "    </tr>\n",
       "  </tbody>\n",
       "</table>\n",
       "</div>"
      ],
      "text/plain": [
       "    mg\n",
       "0   37\n",
       "1   34\n",
       "2   36\n",
       "3   37\n",
       "4   35\n",
       "5   32\n",
       "6   30\n",
       "7   35\n",
       "8   34\n",
       "9   36\n",
       "10  39\n",
       "11  38\n",
       "12  34\n",
       "13  35\n",
       "14  31\n",
       "15  30\n",
       "16  33\n",
       "17  35\n",
       "18  36\n",
       "19  31"
      ]
     },
     "execution_count": 4,
     "metadata": {},
     "output_type": "execute_result"
    }
   ],
   "source": [
    "df\n"
   ]
  },
  {
   "cell_type": "code",
   "execution_count": 5,
   "id": "da81491d",
   "metadata": {},
   "outputs": [
    {
     "data": {
      "text/plain": [
       "20"
      ]
     },
     "execution_count": 5,
     "metadata": {},
     "output_type": "execute_result"
    }
   ],
   "source": [
    "n = len(df)\n",
    "n"
   ]
  },
  {
   "cell_type": "code",
   "execution_count": 6,
   "id": "04a4d2cf",
   "metadata": {},
   "outputs": [
    {
     "data": {
      "text/plain": [
       "mg    34.4\n",
       "dtype: float64"
      ]
     },
     "execution_count": 6,
     "metadata": {},
     "output_type": "execute_result"
    }
   ],
   "source": [
    "media_amostra = df.mean()\n",
    "media_amostra"
   ]
  },
  {
   "cell_type": "code",
   "execution_count": 7,
   "id": "a6738f53",
   "metadata": {},
   "outputs": [
    {
     "data": {
      "text/plain": [
       "mg    2.583347\n",
       "dtype: float64"
      ]
     },
     "execution_count": 7,
     "metadata": {},
     "output_type": "execute_result"
    }
   ],
   "source": [
    "desvio_amostra = df.std()\n",
    "desvio_amostra"
   ]
  },
  {
   "cell_type": "code",
   "execution_count": 8,
   "id": "d1f99f30",
   "metadata": {},
   "outputs": [],
   "source": [
    "\n",
    "graus_de_liberdade = n - 1\n",
    "u0 = 35\n",
    "sigma = np.sqrt(4)\n",
    "erro = sigma/np.sqrt(n)"
   ]
  },
  {
   "cell_type": "code",
   "execution_count": 9,
   "id": "f20b9768",
   "metadata": {},
   "outputs": [],
   "source": [
    "confianca = 0.95\n",
    "alpha = 0.05"
   ]
  },
  {
   "cell_type": "code",
   "execution_count": 10,
   "id": "81b231a3",
   "metadata": {},
   "outputs": [],
   "source": [
    "from scipy.stats import t as t_student"
   ]
  },
  {
   "cell_type": "code",
   "execution_count": 11,
   "id": "da26b659",
   "metadata": {},
   "outputs": [
    {
     "data": {
      "text/plain": [
       "1.7291328115213678"
      ]
     },
     "execution_count": 11,
     "metadata": {},
     "output_type": "execute_result"
    }
   ],
   "source": [
    "t_alpha = t_student.isf(alpha, df=19)\n",
    "t_alpha"
   ]
  },
  {
   "cell_type": "code",
   "execution_count": 12,
   "id": "266145ec",
   "metadata": {},
   "outputs": [
    {
     "data": {
      "text/plain": [
       "mg   -1.038684\n",
       "dtype: float64"
      ]
     },
     "execution_count": 12,
     "metadata": {},
     "output_type": "execute_result"
    }
   ],
   "source": [
    "t = (media_amostra - u0) / (desvio_amostra/np.sqrt(n))\n",
    "t"
   ]
  },
  {
   "cell_type": "code",
   "execution_count": 13,
   "id": "dde41f9d",
   "metadata": {},
   "outputs": [
    {
     "data": {
      "text/plain": [
       "mg    True\n",
       "dtype: bool"
      ]
     },
     "execution_count": 13,
     "metadata": {},
     "output_type": "execute_result"
    }
   ],
   "source": [
    "t <= t_alpha"
   ]
  },
  {
   "cell_type": "code",
   "execution_count": 14,
   "id": "9a8aac34",
   "metadata": {},
   "outputs": [
    {
     "data": {
      "text/plain": [
       "array([0.84400486])"
      ]
     },
     "execution_count": 14,
     "metadata": {},
     "output_type": "execute_result"
    }
   ],
   "source": [
    "pvalue = t_student.sf(t, df=graus_de_liberdade)\n",
    "pvalue\n",
    "\n",
    "#pvalue = t_student.cdf(-t, df=graus_de_liberdade)*2\n",
    "#pvalue"
   ]
  },
  {
   "cell_type": "code",
   "execution_count": 15,
   "id": "5bd5dcdf",
   "metadata": {},
   "outputs": [
    {
     "data": {
      "text/plain": [
       "array([ True])"
      ]
     },
     "execution_count": 15,
     "metadata": {},
     "output_type": "execute_result"
    }
   ],
   "source": [
    "pvalue > alpha"
   ]
  },
  {
   "cell_type": "code",
   "execution_count": 16,
   "id": "c875aaa1",
   "metadata": {},
   "outputs": [],
   "source": [
    "teste = DescrStatsW(df['mg'])"
   ]
  },
  {
   "cell_type": "code",
   "execution_count": 17,
   "id": "7b6f48c9",
   "metadata": {},
   "outputs": [],
   "source": [
    "teste = DescrStatsW(df['mg'])"
   ]
  },
  {
   "cell_type": "code",
   "execution_count": 18,
   "id": "a3c3a80d",
   "metadata": {},
   "outputs": [
    {
     "data": {
      "text/plain": [
       "(-1.0386839525631981, 0.8440048606579256, 19.0)"
      ]
     },
     "execution_count": 18,
     "metadata": {},
     "output_type": "execute_result"
    }
   ],
   "source": [
    "teste.ttest_mean(value=u0, alternative='larger')"
   ]
  },
  {
   "cell_type": "code",
   "execution_count": 19,
   "id": "66603c58",
   "metadata": {},
   "outputs": [
    {
     "data": {
      "text/plain": [
       "0.8440048606579256"
      ]
     },
     "execution_count": 19,
     "metadata": {},
     "output_type": "execute_result"
    }
   ],
   "source": [
    "teste.ttest_mean(value=u0, alternative='larger')[1]"
   ]
  },
  {
   "cell_type": "code",
   "execution_count": 20,
   "id": "7ba5eec0",
   "metadata": {},
   "outputs": [
    {
     "data": {
      "text/plain": [
       "34.22670829826258"
      ]
     },
     "execution_count": 20,
     "metadata": {},
     "output_type": "execute_result"
    }
   ],
   "source": [
    "minimo = t_student.ppf(alpha, loc=35, scale=erro, df=19)\n",
    "minimo"
   ]
  },
  {
   "cell_type": "code",
   "execution_count": 21,
   "id": "204f29b7",
   "metadata": {},
   "outputs": [
    {
     "data": {
      "text/plain": [
       "35.77329170173742"
      ]
     },
     "execution_count": 21,
     "metadata": {},
     "output_type": "execute_result"
    }
   ],
   "source": [
    "maximo = t_student.ppf(1-alpha, loc=35, scale=erro, df=19)\n",
    "maximo"
   ]
  },
  {
   "cell_type": "code",
   "execution_count": 22,
   "id": "ca8d0951",
   "metadata": {},
   "outputs": [
    {
     "data": {
      "text/plain": [
       "True"
      ]
     },
     "execution_count": 22,
     "metadata": {},
     "output_type": "execute_result"
    }
   ],
   "source": [
    "minimo < float(media_amostra) and float(media_amostra) < maximo"
   ]
  },
  {
   "cell_type": "code",
   "execution_count": 23,
   "id": "630a2641",
   "metadata": {},
   "outputs": [],
   "source": [
    "from scipy.stats import t as t_student"
   ]
  },
  {
   "cell_type": "code",
   "execution_count": null,
   "id": "ff32933b",
   "metadata": {},
   "outputs": [],
   "source": []
  },
  {
   "cell_type": "code",
   "execution_count": 24,
   "id": "bc9ae5a9",
   "metadata": {},
   "outputs": [],
   "source": [
    "def new_data(media , sigma, z ):\n",
    "    X = media + sigma * z\n",
    "    return X"
   ]
  },
  {
   "cell_type": "code",
   "execution_count": 25,
   "id": "ea66c432",
   "metadata": {},
   "outputs": [
    {
     "data": {
      "text/plain": [
       "1.6448536269514729"
      ]
     },
     "execution_count": 25,
     "metadata": {},
     "output_type": "execute_result"
    }
   ],
   "source": [
    "z_alpha = norm.isf(.05)\n",
    "z_alpha"
   ]
  },
  {
   "cell_type": "code",
   "execution_count": 26,
   "id": "ce8b6190",
   "metadata": {},
   "outputs": [],
   "source": [
    "#z = (media_amostra - u0) / (sigma / np.sqrt(n))\n",
    "#z"
   ]
  },
  {
   "cell_type": "code",
   "execution_count": 27,
   "id": "00b1e90a",
   "metadata": {},
   "outputs": [
    {
     "data": {
      "text/plain": [
       "mg   -1.038684\n",
       "dtype: float64"
      ]
     },
     "execution_count": 27,
     "metadata": {},
     "output_type": "execute_result"
    }
   ],
   "source": [
    "z = (media_amostra - u0) / (desvio_amostra / np.sqrt(n))\n",
    "z"
   ]
  },
  {
   "cell_type": "code",
   "execution_count": 35,
   "id": "94cc673c",
   "metadata": {},
   "outputs": [
    {
     "data": {
      "text/plain": [
       "35.77329170173742"
      ]
     },
     "execution_count": 35,
     "metadata": {},
     "output_type": "execute_result"
    }
   ],
   "source": [
    "#x_critico = new_data(35,erro,z_alpha) ou x(data maximo)\n",
    "x_critico = new_data(35,erro,t_alpha)\n",
    "x_critico"
   ]
  },
  {
   "cell_type": "code",
   "execution_count": 29,
   "id": "87676454",
   "metadata": {},
   "outputs": [
    {
     "data": {
      "text/plain": [
       "34.26439909541988"
      ]
     },
     "execution_count": 29,
     "metadata": {},
     "output_type": "execute_result"
    }
   ],
   "source": [
    "minimo = norm.ppf(alpha, loc=35, scale=erro)\n",
    "minimo"
   ]
  },
  {
   "cell_type": "code",
   "execution_count": 30,
   "id": "bea63916",
   "metadata": {},
   "outputs": [
    {
     "data": {
      "text/plain": [
       "array([0.85052413])"
      ]
     },
     "execution_count": 30,
     "metadata": {},
     "output_type": "execute_result"
    }
   ],
   "source": [
    "pvalue = norm.sf(z)\n",
    "pvalue"
   ]
  },
  {
   "cell_type": "code",
   "execution_count": 31,
   "id": "f1ea8e99",
   "metadata": {},
   "outputs": [],
   "source": [
    "from statsmodels.stats.weightstats import ztest"
   ]
  },
  {
   "cell_type": "code",
   "execution_count": 32,
   "id": "18861104",
   "metadata": {},
   "outputs": [
    {
     "data": {
      "text/plain": [
       "(-1.0386839525631981, 0.8505241265705443)"
      ]
     },
     "execution_count": 32,
     "metadata": {},
     "output_type": "execute_result"
    }
   ],
   "source": [
    "ztest(x1=df['mg'], value=u0, alternative='larger')"
   ]
  },
  {
   "cell_type": "code",
   "execution_count": 33,
   "id": "0cef10c1",
   "metadata": {},
   "outputs": [],
   "source": [
    "teste = DescrStatsW(df['mg'])"
   ]
  },
  {
   "cell_type": "code",
   "execution_count": 34,
   "id": "00435b83",
   "metadata": {},
   "outputs": [
    {
     "data": {
      "text/plain": [
       "(-1.0386839525631981, 0.8505241265705443)"
      ]
     },
     "execution_count": 34,
     "metadata": {},
     "output_type": "execute_result"
    }
   ],
   "source": [
    "teste.ztest_mean(value=u0 ,alternative='larger' )"
   ]
  },
  {
   "cell_type": "code",
   "execution_count": null,
   "id": "f7f60f3e",
   "metadata": {},
   "outputs": [],
   "source": []
  }
 ],
 "metadata": {
  "kernelspec": {
   "display_name": "Python 3",
   "language": "python",
   "name": "python3"
  },
  "language_info": {
   "codemirror_mode": {
    "name": "ipython",
    "version": 3
   },
   "file_extension": ".py",
   "mimetype": "text/x-python",
   "name": "python",
   "nbconvert_exporter": "python",
   "pygments_lexer": "ipython3",
   "version": "3.8.8"
  }
 },
 "nbformat": 4,
 "nbformat_minor": 5
}
