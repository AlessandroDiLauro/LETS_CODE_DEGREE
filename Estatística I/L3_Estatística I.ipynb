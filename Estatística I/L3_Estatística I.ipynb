{
 "cells": [
  {
   "cell_type": "markdown",
   "id": "615f2026",
   "metadata": {
    "id": "615f2026"
   },
   "source": [
    "# Exercícios - Estatística"
   ]
  },
  {
   "cell_type": "code",
   "execution_count": 1,
   "id": "0e93f872",
   "metadata": {
    "id": "0e93f872"
   },
   "outputs": [],
   "source": [
    "# Importação das bibliotecas\n",
    "import numpy as np\n",
    "import pandas as pd\n",
    "import matplotlib.pyplot as plt\n",
    "import seaborn as sns\n",
    "import random\n",
    "from scipy import stats\n",
    "import statistics\n",
    "from scipy.stats import norm"
   ]
  },
  {
   "cell_type": "markdown",
   "id": "b3fd867e",
   "metadata": {
    "id": "b3fd867e"
   },
   "source": [
    "### Questão 1"
   ]
  },
  {
   "cell_type": "markdown",
   "id": "1a47d0ed",
   "metadata": {
    "id": "1a47d0ed"
   },
   "source": [
    "Uma relação bem importante entre uma população e uma amostra, é que uma amostra pode ser significativa daquela população (ou seja, podemos inferir que a média e variância da amostra será bem próximo do valor real da população), isto quando essa amostra for grande o suficiente para isso. Vamos fazer algumas simulações utilizando o _Python_ para testar esses conceitos, resolvendo os itens a seguir:\n",
    "\n",
    "__A)__ Crie uma lista com número aleatórios entre 20 e 50 e que essa lista contenha 1 milhão de elementos;\n",
    "\n",
    "__B)__ Calcule a média e a variância para essa lista;\n",
    "\n",
    "__C)__ Faça amostra aleatórias de diversos tamanhos (10, 100, 1.000 e 10.000 elementos) e calcule as mesmas métricas que o item anterior, para avaliar o conceito proposto no enunciado"
   ]
  },
  {
   "cell_type": "code",
   "execution_count": 2,
   "id": "6b6c7428",
   "metadata": {},
   "outputs": [
    {
     "name": "stdout",
     "output_type": "stream",
     "text": [
      "Media : 34.492802\n",
      "Variança : 74.98580618879599\n",
      "Variança : 74.98582\n"
     ]
    }
   ],
   "source": [
    "from statistics import variance\n",
    "pop = np.random.randint(low = 20,high=50,size=1000000)\n",
    "print('Media :',np.mean(pop))\n",
    "print('Variança :',np.std(pop)**2)\n",
    "print('Variança :',np.var(pop, dtype = np.float32))"
   ]
  },
  {
   "cell_type": "code",
   "execution_count": 3,
   "id": "74b83147",
   "metadata": {},
   "outputs": [
    {
     "name": "stdout",
     "output_type": "stream",
     "text": [
      "Media : 32.8\n",
      "Variança : 39.36000000000001\n",
      "Variança : 39.359997\n"
     ]
    }
   ],
   "source": [
    "#amostra_10 \n",
    "amostra_10 = np.random.choice(pop, size=10)\n",
    "print('Media :',np.mean(amostra_10))\n",
    "print('Variança :',np.std(amostra_10)**2)\n",
    "print('Variança :',np.var(amostra_10, dtype = np.float32))"
   ]
  },
  {
   "cell_type": "code",
   "execution_count": 4,
   "id": "9f3721f4",
   "metadata": {},
   "outputs": [
    {
     "name": "stdout",
     "output_type": "stream",
     "text": [
      "Media : 34.07\n",
      "Variança : 84.3251\n",
      "Variança : 84.325096\n"
     ]
    }
   ],
   "source": [
    "#amostra_100 \n",
    "amostra_100 = np.random.choice(pop, size=100)\n",
    "print('Media :',np.mean(amostra_100))\n",
    "print('Variança :',np.std(amostra_100)**2)\n",
    "print('Variança :',np.var(amostra_100, dtype = np.float32))"
   ]
  },
  {
   "cell_type": "code",
   "execution_count": 5,
   "id": "a9dd4c0a",
   "metadata": {},
   "outputs": [
    {
     "name": "stdout",
     "output_type": "stream",
     "text": [
      "Media : 34.941\n",
      "Variança : 73.36751900000002\n",
      "Variança : 73.367516\n"
     ]
    }
   ],
   "source": [
    "#amostra_1000 \n",
    "amostra_1000 = np.random.choice(pop, size=1000)\n",
    "print('Media :',np.mean(amostra_1000))\n",
    "print('Variança :',np.std(amostra_1000)**2)\n",
    "print('Variança :',np.var(amostra_1000, dtype = np.float32))"
   ]
  },
  {
   "cell_type": "code",
   "execution_count": 6,
   "id": "58fe75f6",
   "metadata": {},
   "outputs": [
    {
     "name": "stdout",
     "output_type": "stream",
     "text": [
      "Media : 34.4915\n",
      "Variança : 75.77152775000002\n",
      "Variança : 75.77152\n"
     ]
    }
   ],
   "source": [
    "#amostra_10000 \n",
    "amostra_10000 = np.random.choice(pop, size=10000)\n",
    "print('Media :',np.mean(amostra_10000))\n",
    "print('Variança :',np.std(amostra_10000)**2)\n",
    "print('Variança :',np.var(amostra_10000, dtype = np.float32))"
   ]
  },
  {
   "cell_type": "code",
   "execution_count": 7,
   "id": "dcc905a3",
   "metadata": {},
   "outputs": [
    {
     "data": {
      "text/html": [
       "<div>\n",
       "<style scoped>\n",
       "    .dataframe tbody tr th:only-of-type {\n",
       "        vertical-align: middle;\n",
       "    }\n",
       "\n",
       "    .dataframe tbody tr th {\n",
       "        vertical-align: top;\n",
       "    }\n",
       "\n",
       "    .dataframe thead th {\n",
       "        text-align: right;\n",
       "    }\n",
       "</style>\n",
       "<table border=\"1\" class=\"dataframe\">\n",
       "  <thead>\n",
       "    <tr style=\"text-align: right;\">\n",
       "      <th></th>\n",
       "      <th>Amostra</th>\n",
       "      <th>type</th>\n",
       "    </tr>\n",
       "  </thead>\n",
       "  <tbody>\n",
       "    <tr>\n",
       "      <th>0</th>\n",
       "      <td>32.000</td>\n",
       "      <td>Data</td>\n",
       "    </tr>\n",
       "    <tr>\n",
       "      <th>1</th>\n",
       "      <td>20.000</td>\n",
       "      <td>Data</td>\n",
       "    </tr>\n",
       "    <tr>\n",
       "      <th>2</th>\n",
       "      <td>49.000</td>\n",
       "      <td>Data</td>\n",
       "    </tr>\n",
       "    <tr>\n",
       "      <th>3</th>\n",
       "      <td>45.000</td>\n",
       "      <td>Data</td>\n",
       "    </tr>\n",
       "    <tr>\n",
       "      <th>4</th>\n",
       "      <td>47.000</td>\n",
       "      <td>Data</td>\n",
       "    </tr>\n",
       "    <tr>\n",
       "      <th>...</th>\n",
       "      <td>...</td>\n",
       "      <td>...</td>\n",
       "    </tr>\n",
       "    <tr>\n",
       "      <th>7995</th>\n",
       "      <td>34.949</td>\n",
       "      <td>Mean of 1000</td>\n",
       "    </tr>\n",
       "    <tr>\n",
       "      <th>7996</th>\n",
       "      <td>35.010</td>\n",
       "      <td>Mean of 1000</td>\n",
       "    </tr>\n",
       "    <tr>\n",
       "      <th>7997</th>\n",
       "      <td>35.055</td>\n",
       "      <td>Mean of 1000</td>\n",
       "    </tr>\n",
       "    <tr>\n",
       "      <th>7998</th>\n",
       "      <td>34.892</td>\n",
       "      <td>Mean of 1000</td>\n",
       "    </tr>\n",
       "    <tr>\n",
       "      <th>7999</th>\n",
       "      <td>34.983</td>\n",
       "      <td>Mean of 1000</td>\n",
       "    </tr>\n",
       "  </tbody>\n",
       "</table>\n",
       "<p>8000 rows × 2 columns</p>\n",
       "</div>"
      ],
      "text/plain": [
       "      Amostra          type\n",
       "0      32.000          Data\n",
       "1      20.000          Data\n",
       "2      49.000          Data\n",
       "3      45.000          Data\n",
       "4      47.000          Data\n",
       "...       ...           ...\n",
       "7995   34.949  Mean of 1000\n",
       "7996   35.010  Mean of 1000\n",
       "7997   35.055  Mean of 1000\n",
       "7998   34.892  Mean of 1000\n",
       "7999   34.983  Mean of 1000\n",
       "\n",
       "[8000 rows x 2 columns]"
      ]
     },
     "execution_count": 7,
     "metadata": {},
     "output_type": "execute_result"
    }
   ],
   "source": [
    "pop_data = pd.DataFrame({\n",
    "    'Amostra': np.random.choice(pop, size=2000),\n",
    "    'type': 'Data',\n",
    "})\n",
    "\n",
    "amostra_10_data  = pd.DataFrame({\n",
    "    'Amostra': [pop_data['Amostra'].sample(10).mean() for _ in range(2000)],\n",
    "    'type': 'Mean of 10',\n",
    "})\n",
    "\n",
    "amostra_100_data  = pd.DataFrame({\n",
    "    'Amostra': [pop_data['Amostra'].sample(100).mean() for _ in range(2000)],\n",
    "    'type': 'Mean of 100',\n",
    "})\n",
    "\n",
    "amostra_1000_data  = pd.DataFrame({\n",
    "    'Amostra': [pop_data['Amostra'].sample(1000).mean() for _ in range(2000)],\n",
    "    'type': 'Mean of 1000',\n",
    "})\n",
    "\n",
    "\n",
    "\n",
    "\n",
    "results = pd.concat([pop_data, amostra_10_data, amostra_100_data, amostra_1000_data])\n",
    "results.reset_index(drop=True, inplace=True)\n",
    "results"
   ]
  },
  {
   "cell_type": "code",
   "execution_count": 8,
   "id": "bea7b305",
   "metadata": {},
   "outputs": [
    {
     "data": {
      "text/html": [
       "<div>\n",
       "<style scoped>\n",
       "    .dataframe tbody tr th:only-of-type {\n",
       "        vertical-align: middle;\n",
       "    }\n",
       "\n",
       "    .dataframe tbody tr th {\n",
       "        vertical-align: top;\n",
       "    }\n",
       "\n",
       "    .dataframe thead th {\n",
       "        text-align: right;\n",
       "    }\n",
       "</style>\n",
       "<table border=\"1\" class=\"dataframe\">\n",
       "  <thead>\n",
       "    <tr style=\"text-align: right;\">\n",
       "      <th></th>\n",
       "      <th>Amostra</th>\n",
       "    </tr>\n",
       "    <tr>\n",
       "      <th>type</th>\n",
       "      <th></th>\n",
       "    </tr>\n",
       "  </thead>\n",
       "  <tbody>\n",
       "    <tr>\n",
       "      <th>Data</th>\n",
       "      <td>34.916500</td>\n",
       "    </tr>\n",
       "    <tr>\n",
       "      <th>Mean of 10</th>\n",
       "      <td>34.941850</td>\n",
       "    </tr>\n",
       "    <tr>\n",
       "      <th>Mean of 100</th>\n",
       "      <td>34.919530</td>\n",
       "    </tr>\n",
       "    <tr>\n",
       "      <th>Mean of 1000</th>\n",
       "      <td>34.919259</td>\n",
       "    </tr>\n",
       "  </tbody>\n",
       "</table>\n",
       "</div>"
      ],
      "text/plain": [
       "                Amostra\n",
       "type                   \n",
       "Data          34.916500\n",
       "Mean of 10    34.941850\n",
       "Mean of 100   34.919530\n",
       "Mean of 1000  34.919259"
      ]
     },
     "execution_count": 8,
     "metadata": {},
     "output_type": "execute_result"
    }
   ],
   "source": [
    "results.groupby(['type'])[['Amostra']].mean()"
   ]
  },
  {
   "cell_type": "code",
   "execution_count": 9,
   "id": "cdb2dc73",
   "metadata": {},
   "outputs": [
    {
     "data": {
      "image/png": "[encoded data removed]",
      "text/plain": [
       "<Figure size 288x576 with 4 Axes>"
      ]
     },
     "metadata": {
      "needs_background": "light"
     },
     "output_type": "display_data"
    }
   ],
   "source": [
    "g = sns.FacetGrid(results, col='type', col_wrap=1, \n",
    "                  height=2, aspect=2)\n",
    "g.map(plt.hist, 'Amostra', range=[0, 100], bins=40)\n",
    "g.set_axis_labels('Amostra', 'Count')\n",
    "g.set_titles('{col_name}')\n",
    "\n",
    "plt.tight_layout()\n",
    "plt.show()"
   ]
  },
  {
   "cell_type": "markdown",
   "id": "3502aea3",
   "metadata": {
    "id": "3502aea3"
   },
   "source": [
    "### Questão 2"
   ]
  },
  {
   "cell_type": "markdown",
   "id": "97416ea6",
   "metadata": {
    "id": "97416ea6"
   },
   "source": [
    "Neste exercício vamos demonstrar a importância de uma amostragem estratificada quando temos grupos significantes dentro da população. Faça os seguintes itens:\n",
    "\n",
    "__A)__ Crie 3 listas de números aleatórios sendo elas:\n",
    "    - uma lista com números aleatórios entre 40 e 50 contendo 10.000 elementos;\n",
    "    - uma lista com números aleatórios entre 10 e 20 contendo 6.000 elementos;\n",
    "    - uma lista com números aleatórios entre 80 e 90 contendo 4.000 elementos.\n",
    "    \n",
    "__B)__ Calcule a média e a variância para cada uma das 3 listas;\n",
    "\n",
    "__C)__ Calcule a média e a variância para a população, onde a população seja as 3 listas juntas;\n",
    "\n",
    "__Dica.:__ Neste caso, temos que trabalhar com média e variância ponderada!\n",
    "\n",
    "__D)__ Una as 3 listas em uma só e retire uma amostra de 1% da lista resultante. Calcule a média e a variância para esta amostra;\n",
    "\n",
    "__E)__ Por fim, faça uma amostra estratificada da seguinte forma: faça uma amostra aleatória de 1% de cada uma das 3 listas e em seguida calcule a média e a variância para a amostra estratificada (será necessário utilizar a média e variância ponderada!).\n",
    "\n",
    "__F)__ Compare o resultado das métricas para a amostra e a amostra estratificada com o valor das métricas da população."
   ]
  },
  {
   "cell_type": "code",
   "execution_count": 10,
   "id": "119245b9",
   "metadata": {
    "id": "119245b9"
   },
   "outputs": [],
   "source": [
    "# a)\n",
    "pop1 = np.random.randint(low = 40,high=50,size=10000)\n",
    "pop2 = np.random.randint(low = 10,high=20,size= 6000)\n",
    "pop3 = np.random.randint(low = 80,high=90,size= 4000)"
   ]
  },
  {
   "cell_type": "code",
   "execution_count": 11,
   "id": "3dfd1ad9",
   "metadata": {},
   "outputs": [
    {
     "data": {
      "text/plain": [
       "array([45, 44, 42, ..., 44, 45, 46])"
      ]
     },
     "execution_count": 11,
     "metadata": {},
     "output_type": "execute_result"
    }
   ],
   "source": [
    "pop1"
   ]
  },
  {
   "cell_type": "code",
   "execution_count": 12,
   "id": "2445b967",
   "metadata": {},
   "outputs": [],
   "source": [
    "# b)"
   ]
  },
  {
   "cell_type": "code",
   "execution_count": 13,
   "id": "e9d88206",
   "metadata": {},
   "outputs": [
    {
     "name": "stdout",
     "output_type": "stream",
     "text": [
      "Media1 : 44.48\n",
      "Variança1 : 8.141400000000003\n",
      "Variança1 : 8.1414\n"
     ]
    }
   ],
   "source": [
    "print('Media1 :',np.mean(pop1))\n",
    "print('Variança1 :',np.std(pop1)**2)\n",
    "print('Variança1 :',np.var(pop1, dtype = np.float32))"
   ]
  },
  {
   "cell_type": "code",
   "execution_count": 14,
   "id": "505e0185",
   "metadata": {},
   "outputs": [
    {
     "name": "stdout",
     "output_type": "stream",
     "text": [
      "Media2 : 14.514833333333334\n",
      "Variança2 : 8.25344663888889\n",
      "Variança2 : 8.253447\n"
     ]
    }
   ],
   "source": [
    "print('Media2 :',np.mean(pop2))\n",
    "print('Variança2 :',np.std(pop2)**2)\n",
    "print('Variança2 :',np.var(pop2, dtype = np.float32))"
   ]
  },
  {
   "cell_type": "code",
   "execution_count": 15,
   "id": "3097008d",
   "metadata": {},
   "outputs": [
    {
     "name": "stdout",
     "output_type": "stream",
     "text": [
      "Media3 : 84.4305\n",
      "Variança3 : 8.33616975\n",
      "Variança3 : 8.33617\n"
     ]
    }
   ],
   "source": [
    "print('Media3 :',np.mean(pop3))\n",
    "print('Variança3 :',np.std(pop3)**2)\n",
    "print('Variança3 :',np.var(pop3, dtype = np.float32))"
   ]
  },
  {
   "cell_type": "code",
   "execution_count": 16,
   "id": "b49193e5",
   "metadata": {},
   "outputs": [],
   "source": [
    "# c)"
   ]
  },
  {
   "cell_type": "code",
   "execution_count": 17,
   "id": "14a3de4c",
   "metadata": {},
   "outputs": [],
   "source": [
    "results = pd.concat([pd.DataFrame({'value': pop1 , 'wt' : [.5]*10000}, index = ['05']*10000), \n",
    "                     pd.DataFrame({'value': pop2 , 'wt' : [.3]*6000}, index = ['03']*6000), \n",
    "                     pd.DataFrame({'value': pop3 , 'wt' : [.2]*4000}, index = ['02']*4000)])"
   ]
  },
  {
   "cell_type": "code",
   "execution_count": 18,
   "id": "c2ff01aa",
   "metadata": {},
   "outputs": [
    {
     "data": {
      "text/html": [
       "<div>\n",
       "<style scoped>\n",
       "    .dataframe tbody tr th:only-of-type {\n",
       "        vertical-align: middle;\n",
       "    }\n",
       "\n",
       "    .dataframe tbody tr th {\n",
       "        vertical-align: top;\n",
       "    }\n",
       "\n",
       "    .dataframe thead th {\n",
       "        text-align: right;\n",
       "    }\n",
       "</style>\n",
       "<table border=\"1\" class=\"dataframe\">\n",
       "  <thead>\n",
       "    <tr style=\"text-align: right;\">\n",
       "      <th></th>\n",
       "      <th>value</th>\n",
       "      <th>wt</th>\n",
       "    </tr>\n",
       "  </thead>\n",
       "  <tbody>\n",
       "    <tr>\n",
       "      <th>05</th>\n",
       "      <td>45</td>\n",
       "      <td>0.5</td>\n",
       "    </tr>\n",
       "    <tr>\n",
       "      <th>05</th>\n",
       "      <td>44</td>\n",
       "      <td>0.5</td>\n",
       "    </tr>\n",
       "    <tr>\n",
       "      <th>05</th>\n",
       "      <td>42</td>\n",
       "      <td>0.5</td>\n",
       "    </tr>\n",
       "    <tr>\n",
       "      <th>05</th>\n",
       "      <td>43</td>\n",
       "      <td>0.5</td>\n",
       "    </tr>\n",
       "    <tr>\n",
       "      <th>05</th>\n",
       "      <td>47</td>\n",
       "      <td>0.5</td>\n",
       "    </tr>\n",
       "    <tr>\n",
       "      <th>...</th>\n",
       "      <td>...</td>\n",
       "      <td>...</td>\n",
       "    </tr>\n",
       "    <tr>\n",
       "      <th>02</th>\n",
       "      <td>83</td>\n",
       "      <td>0.2</td>\n",
       "    </tr>\n",
       "    <tr>\n",
       "      <th>02</th>\n",
       "      <td>84</td>\n",
       "      <td>0.2</td>\n",
       "    </tr>\n",
       "    <tr>\n",
       "      <th>02</th>\n",
       "      <td>83</td>\n",
       "      <td>0.2</td>\n",
       "    </tr>\n",
       "    <tr>\n",
       "      <th>02</th>\n",
       "      <td>88</td>\n",
       "      <td>0.2</td>\n",
       "    </tr>\n",
       "    <tr>\n",
       "      <th>02</th>\n",
       "      <td>84</td>\n",
       "      <td>0.2</td>\n",
       "    </tr>\n",
       "  </tbody>\n",
       "</table>\n",
       "<p>20000 rows × 2 columns</p>\n",
       "</div>"
      ],
      "text/plain": [
       "    value   wt\n",
       "05     45  0.5\n",
       "05     44  0.5\n",
       "05     42  0.5\n",
       "05     43  0.5\n",
       "05     47  0.5\n",
       "..    ...  ...\n",
       "02     83  0.2\n",
       "02     84  0.2\n",
       "02     83  0.2\n",
       "02     88  0.2\n",
       "02     84  0.2\n",
       "\n",
       "[20000 rows x 2 columns]"
      ]
     },
     "execution_count": 18,
     "metadata": {},
     "output_type": "execute_result"
    }
   ],
   "source": [
    "results"
   ]
  },
  {
   "cell_type": "code",
   "execution_count": 19,
   "id": "818918ac",
   "metadata": {},
   "outputs": [],
   "source": [
    "#media ponderada\n",
    "def weighted_average(dataframe, value, weight):\n",
    "    val = dataframe[value]\n",
    "    wt = dataframe[weight]\n",
    "    return (val * wt).sum() / wt.sum()\n",
    " "
   ]
  },
  {
   "cell_type": "code",
   "execution_count": 20,
   "id": "6363b610",
   "metadata": {},
   "outputs": [
    {
     "data": {
      "text/plain": [
       "41.58830263157895"
      ]
     },
     "execution_count": 20,
     "metadata": {},
     "output_type": "execute_result"
    }
   ],
   "source": [
    "weighted_average(results, 'value', 'wt')"
   ]
  },
  {
   "cell_type": "code",
   "execution_count": 21,
   "id": "397544bc",
   "metadata": {},
   "outputs": [],
   "source": [
    "from statsmodels.stats.weightstats import DescrStatsW"
   ]
  },
  {
   "cell_type": "code",
   "execution_count": 51,
   "id": "8fce214f",
   "metadata": {},
   "outputs": [
    {
     "data": {
      "text/plain": [
       "380.5442479410378"
      ]
     },
     "execution_count": 51,
     "metadata": {},
     "output_type": "execute_result"
    }
   ],
   "source": [
    "#Variança ponderada\n",
    "DescrStatsW(data=results['value'], weights=results['wt'], ddof=1).var"
   ]
  },
  {
   "cell_type": "code",
   "execution_count": 23,
   "id": "997bdcf1",
   "metadata": {},
   "outputs": [],
   "source": [
    "# c)"
   ]
  },
  {
   "cell_type": "code",
   "execution_count": 24,
   "id": "5c681e99",
   "metadata": {},
   "outputs": [
    {
     "data": {
      "text/plain": [
       "41.86"
      ]
     },
     "execution_count": 24,
     "metadata": {},
     "output_type": "execute_result"
    }
   ],
   "source": [
    "percent_1 = results.sample(200)\n",
    "percent_1['value'].mean()"
   ]
  },
  {
   "cell_type": "code",
   "execution_count": 25,
   "id": "19e0ad1e",
   "metadata": {},
   "outputs": [
    {
     "data": {
      "text/plain": [
       "40.55774278215224"
      ]
     },
     "execution_count": 25,
     "metadata": {},
     "output_type": "execute_result"
    }
   ],
   "source": [
    "#Media ponderada\n",
    "weighted_average(percent_1, 'value', 'wt')"
   ]
  },
  {
   "cell_type": "code",
   "execution_count": 26,
   "id": "43b6282b",
   "metadata": {},
   "outputs": [
    {
     "data": {
      "text/plain": [
       "579.4104000000001"
      ]
     },
     "execution_count": 26,
     "metadata": {},
     "output_type": "execute_result"
    }
   ],
   "source": [
    "np.var(list(percent_1['value']), dtype = np.float64)"
   ]
  },
  {
   "cell_type": "code",
   "execution_count": 27,
   "id": "3c4b7bc6",
   "metadata": {},
   "outputs": [
    {
     "data": {
      "text/plain": [
       "378.63026504998044"
      ]
     },
     "execution_count": 27,
     "metadata": {},
     "output_type": "execute_result"
    }
   ],
   "source": [
    "#Variança ponderada\n",
    "DescrStatsW(data=percent_1['value'], weights=percent_1['wt'], ddof=1).var"
   ]
  },
  {
   "cell_type": "code",
   "execution_count": 28,
   "id": "8c23ef92",
   "metadata": {},
   "outputs": [
    {
     "data": {
      "text/plain": [
       "582.3220100502512"
      ]
     },
     "execution_count": 28,
     "metadata": {},
     "output_type": "execute_result"
    }
   ],
   "source": [
    "DescrStatsW(data=percent_1['value'], ddof=1).var"
   ]
  },
  {
   "cell_type": "code",
   "execution_count": 29,
   "id": "41d8bfd2",
   "metadata": {},
   "outputs": [],
   "source": [
    "# d)"
   ]
  },
  {
   "cell_type": "markdown",
   "id": "2e3a7b3a",
   "metadata": {
    "id": "2e3a7b3a"
   },
   "source": [
    "### Questão 3"
   ]
  },
  {
   "cell_type": "markdown",
   "id": "8d8b9db9",
   "metadata": {
    "id": "8d8b9db9"
   },
   "source": [
    " Uma máquina de sorvete está regulada de modo a servir uma média de 120g por casquinha. Se a quantidade servida por casquinha seguir uma distribuição normal com desvio padrão de 18g, determine a porcentagem de casquinhas que conterão mais de 150g de sorvete."
   ]
  },
  {
   "cell_type": "code",
   "execution_count": 30,
   "id": "3b3ff14e",
   "metadata": {
    "id": "3b3ff14e"
   },
   "outputs": [
    {
     "data": {
      "text/plain": [
       "0.047790352272814696"
      ]
     },
     "execution_count": 30,
     "metadata": {},
     "output_type": "execute_result"
    }
   ],
   "source": [
    "1 - stats.norm.cdf(150, loc=120, scale=18)"
   ]
  },
  {
   "cell_type": "markdown",
   "id": "18951732",
   "metadata": {
    "id": "18951732"
   },
   "source": [
    "### Questão 4"
   ]
  },
  {
   "cell_type": "markdown",
   "id": "91d33a4a",
   "metadata": {
    "id": "91d33a4a"
   },
   "source": [
    "O peso médio de 500 estudantes do sexo masculino de uma determinada universidade é 71 Kg e o desvio padrão é 5,3 Kg. Admitindo que os pesos são normalmente distribuídos, determine a porcentagem de estudantes que pesam entre 65 e 72,5 kg"
   ]
  },
  {
   "cell_type": "code",
   "execution_count": 31,
   "id": "9dcf53ee",
   "metadata": {
    "id": "9dcf53ee"
   },
   "outputs": [
    {
     "data": {
      "text/plain": [
       "0.5458248535031971"
      ]
     },
     "execution_count": 31,
     "metadata": {},
     "output_type": "execute_result"
    }
   ],
   "source": [
    "stats.norm.cdf(72.5, loc=71, scale=5.3) - stats.norm.cdf(65, loc=73, scale=5.3)"
   ]
  },
  {
   "cell_type": "markdown",
   "id": "49a54c36",
   "metadata": {
    "id": "49a54c36"
   },
   "source": [
    "### Questão 5"
   ]
  },
  {
   "cell_type": "markdown",
   "id": "ad7af421",
   "metadata": {
    "id": "ad7af421"
   },
   "source": [
    "Uma fábrica anuncia que o índice de cafeína em um refrigerante de uma dada marca é igual a 20 mg por lata. Um laboratório realiza 20 análises do índice obtendo: 22, 19, 21, 22, 20, 18, 27, 20, 21, 19, 20, 22, 17, 20, 21,18, 25, 16, 20, 21. Sabe-se que o índice de cafeína do refrigerante dessa marca se distribui normalmente com variância 4 mg$^2$. Pode-se aceitar a afirmação do fabricante, ao nível de 5%?"
   ]
  },
  {
   "cell_type": "code",
   "execution_count": 32,
   "id": "46281c0d",
   "metadata": {
    "id": "46281c0d"
   },
   "outputs": [],
   "source": [
    "df = pd.DataFrame({'mg' : [22,19,21,22,20,18,27,20,21,19,20,22,17,20,21,18,25,16,20,21]})"
   ]
  },
  {
   "cell_type": "code",
   "execution_count": 33,
   "id": "2a1322b6",
   "metadata": {},
   "outputs": [],
   "source": [
    "n = len(df)"
   ]
  },
  {
   "cell_type": "code",
   "execution_count": 34,
   "id": "8acf52e3",
   "metadata": {},
   "outputs": [
    {
     "data": {
      "text/html": [
       "<div>\n",
       "<style scoped>\n",
       "    .dataframe tbody tr th:only-of-type {\n",
       "        vertical-align: middle;\n",
       "    }\n",
       "\n",
       "    .dataframe tbody tr th {\n",
       "        vertical-align: top;\n",
       "    }\n",
       "\n",
       "    .dataframe thead th {\n",
       "        text-align: right;\n",
       "    }\n",
       "</style>\n",
       "<table border=\"1\" class=\"dataframe\">\n",
       "  <thead>\n",
       "    <tr style=\"text-align: right;\">\n",
       "      <th></th>\n",
       "      <th>mg</th>\n",
       "    </tr>\n",
       "  </thead>\n",
       "  <tbody>\n",
       "    <tr>\n",
       "      <th>0</th>\n",
       "      <td>22</td>\n",
       "    </tr>\n",
       "    <tr>\n",
       "      <th>1</th>\n",
       "      <td>19</td>\n",
       "    </tr>\n",
       "    <tr>\n",
       "      <th>2</th>\n",
       "      <td>21</td>\n",
       "    </tr>\n",
       "    <tr>\n",
       "      <th>3</th>\n",
       "      <td>22</td>\n",
       "    </tr>\n",
       "    <tr>\n",
       "      <th>4</th>\n",
       "      <td>20</td>\n",
       "    </tr>\n",
       "    <tr>\n",
       "      <th>5</th>\n",
       "      <td>18</td>\n",
       "    </tr>\n",
       "    <tr>\n",
       "      <th>6</th>\n",
       "      <td>27</td>\n",
       "    </tr>\n",
       "    <tr>\n",
       "      <th>7</th>\n",
       "      <td>20</td>\n",
       "    </tr>\n",
       "    <tr>\n",
       "      <th>8</th>\n",
       "      <td>21</td>\n",
       "    </tr>\n",
       "    <tr>\n",
       "      <th>9</th>\n",
       "      <td>19</td>\n",
       "    </tr>\n",
       "    <tr>\n",
       "      <th>10</th>\n",
       "      <td>20</td>\n",
       "    </tr>\n",
       "    <tr>\n",
       "      <th>11</th>\n",
       "      <td>22</td>\n",
       "    </tr>\n",
       "    <tr>\n",
       "      <th>12</th>\n",
       "      <td>17</td>\n",
       "    </tr>\n",
       "    <tr>\n",
       "      <th>13</th>\n",
       "      <td>20</td>\n",
       "    </tr>\n",
       "    <tr>\n",
       "      <th>14</th>\n",
       "      <td>21</td>\n",
       "    </tr>\n",
       "    <tr>\n",
       "      <th>15</th>\n",
       "      <td>18</td>\n",
       "    </tr>\n",
       "    <tr>\n",
       "      <th>16</th>\n",
       "      <td>25</td>\n",
       "    </tr>\n",
       "    <tr>\n",
       "      <th>17</th>\n",
       "      <td>16</td>\n",
       "    </tr>\n",
       "    <tr>\n",
       "      <th>18</th>\n",
       "      <td>20</td>\n",
       "    </tr>\n",
       "    <tr>\n",
       "      <th>19</th>\n",
       "      <td>21</td>\n",
       "    </tr>\n",
       "  </tbody>\n",
       "</table>\n",
       "</div>"
      ],
      "text/plain": [
       "    mg\n",
       "0   22\n",
       "1   19\n",
       "2   21\n",
       "3   22\n",
       "4   20\n",
       "5   18\n",
       "6   27\n",
       "7   20\n",
       "8   21\n",
       "9   19\n",
       "10  20\n",
       "11  22\n",
       "12  17\n",
       "13  20\n",
       "14  21\n",
       "15  18\n",
       "16  25\n",
       "17  16\n",
       "18  20\n",
       "19  21"
      ]
     },
     "execution_count": 34,
     "metadata": {},
     "output_type": "execute_result"
    }
   ],
   "source": [
    "df"
   ]
  },
  {
   "cell_type": "code",
   "execution_count": 35,
   "id": "5b1edc67",
   "metadata": {},
   "outputs": [
    {
     "data": {
      "text/plain": [
       "mg    20.45\n",
       "dtype: float64"
      ]
     },
     "execution_count": 35,
     "metadata": {},
     "output_type": "execute_result"
    }
   ],
   "source": [
    "media_amostra = df.mean()\n",
    "media_amostra"
   ]
  },
  {
   "cell_type": "code",
   "execution_count": 36,
   "id": "03e3e6be",
   "metadata": {},
   "outputs": [
    {
     "data": {
      "text/plain": [
       "mg    2.523052\n",
       "dtype: float64"
      ]
     },
     "execution_count": 36,
     "metadata": {},
     "output_type": "execute_result"
    }
   ],
   "source": [
    "desvio_amostra = df.std()\n",
    "desvio_amostra"
   ]
  },
  {
   "cell_type": "code",
   "execution_count": 37,
   "id": "b6501b6a",
   "metadata": {},
   "outputs": [],
   "source": [
    "n = 20\n",
    "graus_de_liberdade = n - 1\n",
    "u0 = 20\n",
    "sigma = np.sqrt(4)\n",
    "erro = sigma/np.sqrt(n)"
   ]
  },
  {
   "cell_type": "code",
   "execution_count": 38,
   "id": "5f78c895",
   "metadata": {},
   "outputs": [],
   "source": [
    "confianca = 0.95\n",
    "alpha = 0.05"
   ]
  },
  {
   "cell_type": "code",
   "execution_count": 39,
   "id": "457b7052",
   "metadata": {},
   "outputs": [],
   "source": [
    "from scipy.stats import t as t_student"
   ]
  },
  {
   "cell_type": "code",
   "execution_count": 40,
   "id": "8e6eb8bb",
   "metadata": {},
   "outputs": [
    {
     "data": {
      "text/plain": [
       "-2.0930240544082634"
      ]
     },
     "execution_count": 40,
     "metadata": {},
     "output_type": "execute_result"
    }
   ],
   "source": [
    "t_alpha = t_student.ppf(alpha/2, df=19)\n",
    "t_alpha"
   ]
  },
  {
   "cell_type": "code",
   "execution_count": 41,
   "id": "c96dcb8e",
   "metadata": {},
   "outputs": [
    {
     "data": {
      "text/plain": [
       "mg    0.79763\n",
       "dtype: float64"
      ]
     },
     "execution_count": 41,
     "metadata": {},
     "output_type": "execute_result"
    }
   ],
   "source": [
    "t = (media_amostra - u0) / (desvio_amostra/np.sqrt(n))\n",
    "t"
   ]
  },
  {
   "cell_type": "code",
   "execution_count": 42,
   "id": "8d34d647",
   "metadata": {},
   "outputs": [
    {
     "data": {
      "text/plain": [
       "mg    False\n",
       "dtype: bool"
      ]
     },
     "execution_count": 42,
     "metadata": {},
     "output_type": "execute_result"
    }
   ],
   "source": [
    "t <= t_alpha"
   ]
  },
  {
   "cell_type": "code",
   "execution_count": 43,
   "id": "827915bd",
   "metadata": {},
   "outputs": [
    {
     "data": {
      "text/plain": [
       "array([0.43494125])"
      ]
     },
     "execution_count": 43,
     "metadata": {},
     "output_type": "execute_result"
    }
   ],
   "source": [
    "pvalue = t_student.sf(t, df=graus_de_liberdade)*2\n",
    "pvalue\n",
    "\n",
    "#pvalue = t_student.cdf(-t, df=graus_de_liberdade)*2\n",
    "#pvalue"
   ]
  },
  {
   "cell_type": "code",
   "execution_count": 44,
   "id": "ba8531a4",
   "metadata": {},
   "outputs": [
    {
     "data": {
      "text/plain": [
       "array([ True])"
      ]
     },
     "execution_count": 44,
     "metadata": {},
     "output_type": "execute_result"
    }
   ],
   "source": [
    "pvalue > alpha"
   ]
  },
  {
   "cell_type": "code",
   "execution_count": 45,
   "id": "575bf741",
   "metadata": {},
   "outputs": [],
   "source": [
    "teste = DescrStatsW(df['mg'])"
   ]
  },
  {
   "cell_type": "code",
   "execution_count": 46,
   "id": "b431ae8f",
   "metadata": {},
   "outputs": [
    {
     "data": {
      "text/plain": [
       "(0.7976298084234648, 0.43494125482486135, 19.0)"
      ]
     },
     "execution_count": 46,
     "metadata": {},
     "output_type": "execute_result"
    }
   ],
   "source": [
    "teste.ttest_mean(value=u0, alternative='two-sided')"
   ]
  },
  {
   "cell_type": "code",
   "execution_count": 47,
   "id": "f01d427c",
   "metadata": {},
   "outputs": [
    {
     "data": {
      "text/plain": [
       "0.43494125482486135"
      ]
     },
     "execution_count": 47,
     "metadata": {},
     "output_type": "execute_result"
    }
   ],
   "source": [
    "teste.ttest_mean(value=u0, alternative='larger')[1]*2"
   ]
  },
  {
   "cell_type": "code",
   "execution_count": null,
   "id": "67a1d6f3",
   "metadata": {},
   "outputs": [],
   "source": []
  },
  {
   "cell_type": "code",
   "execution_count": 48,
   "id": "adb77fdb",
   "metadata": {},
   "outputs": [
    {
     "data": {
      "text/plain": [
       "20.93602881283982"
      ]
     },
     "execution_count": 48,
     "metadata": {},
     "output_type": "execute_result"
    }
   ],
   "source": [
    "maximo = t_student.ppf(1-alpha/2, loc=20, scale=erro, df=19)\n",
    "maximo"
   ]
  },
  {
   "cell_type": "code",
   "execution_count": 49,
   "id": "1211a291",
   "metadata": {},
   "outputs": [
    {
     "data": {
      "text/plain": [
       "19.06397118716018"
      ]
     },
     "execution_count": 49,
     "metadata": {},
     "output_type": "execute_result"
    }
   ],
   "source": [
    "minimo = t_student.ppf(alpha/2, loc=20, scale=erro, df=19)\n",
    "minimo"
   ]
  },
  {
   "cell_type": "code",
   "execution_count": 50,
   "id": "217863e0",
   "metadata": {},
   "outputs": [
    {
     "data": {
      "text/plain": [
       "True"
      ]
     },
     "execution_count": 50,
     "metadata": {},
     "output_type": "execute_result"
    }
   ],
   "source": [
    "minimo < float(media_amostra) and float(media_amostra) < maximo"
   ]
  },
  {
   "cell_type": "code",
   "execution_count": null,
   "id": "241f1c65",
   "metadata": {},
   "outputs": [],
   "source": []
  }
 ],
 "metadata": {
  "colab": {
   "name": "L3 - Estatística II.ipynb",
   "provenance": []
  },
  "kernelspec": {
   "display_name": "Python 3",
   "language": "python",
   "name": "python3"
  },
  "language_info": {
   "codemirror_mode": {
    "name": "ipython",
    "version": 3
   },
   "file_extension": ".py",
   "mimetype": "text/x-python",
   "name": "python",
   "nbconvert_exporter": "python",
   "pygments_lexer": "ipython3",
   "version": "3.8.8"
  },
  "varInspector": {
   "cols": {
    "lenName": 16,
    "lenType": 16,
    "lenVar": 40
   },
   "kernels_config": {
    "python": {
     "delete_cmd_postfix": "",
     "delete_cmd_prefix": "del ",
     "library": "var_list.py",
     "varRefreshCmd": "print(var_dic_list())"
    },
    "r": {
     "delete_cmd_postfix": ") ",
     "delete_cmd_prefix": "rm(",
     "library": "var_list.r",
     "varRefreshCmd": "cat(var_dic_list()) "
    }
   },
   "types_to_exclude": [
    "module",
    "function",
    "builtin_function_or_method",
    "instance",
    "_Feature"
   ],
   "window_display": false
  }
 },
 "nbformat": 4,
 "nbformat_minor": 5
}
