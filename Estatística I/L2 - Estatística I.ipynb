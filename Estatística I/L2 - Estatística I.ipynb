{
 "cells": [
  {
   "cell_type": "markdown",
   "id": "ab3dfefb",
   "metadata": {},
   "source": [
    "# Exercícios - Probabilidade"
   ]
  },
  {
   "cell_type": "markdown",
   "id": "65123c45",
   "metadata": {},
   "source": [
    "### Questão 1"
   ]
  },
  {
   "cell_type": "markdown",
   "id": "f36953b8",
   "metadata": {},
   "source": [
    "Um teste para COVID-19 possui uma taxa de 5% de falso positivo e 1% de falso negativo, ou seja, em 5% dos não-infectados acusa como infectados, e em 1% dos infectados acusa como não infectados. Sabendo que atualmente 1% da população está infectada, calcule a probabilidade de um paciente cujo teste apontou positivo estar realmente infectado."
   ]
  },
  {
   "cell_type": "code",
   "execution_count": 1,
   "id": "67ca9eb5",
   "metadata": {},
   "outputs": [],
   "source": [
    "#Bibliotecas utilizadas\n",
    "import matplotlib.pyplot as plt\n",
    "import seaborn as sns\n",
    "import numpy as np\n",
    "import math\n",
    "from scipy import stats\n",
    "import pandas as pd"
   ]
  },
  {
   "cell_type": "code",
   "execution_count": 2,
   "id": "0f8a1054",
   "metadata": {},
   "outputs": [
    {
     "data": {
      "text/plain": [
       "0.16666666666666669"
      ]
     },
     "execution_count": 2,
     "metadata": {},
     "output_type": "execute_result"
    }
   ],
   "source": [
    "a = 0.01\n",
    "a_ = 0.99\n",
    "b_a = 0.99\n",
    "b_a_ = 0.05\n",
    "(a*b_a) / ((a*b_a) + (a_*b_a_))"
   ]
  },
  {
   "cell_type": "markdown",
   "id": "e273b3cf",
   "metadata": {},
   "source": [
    "Um certo vírus infecta uma em\n",
    "cada 200 pessoas. Um teste usado para detectar o vírus\n",
    "em uma pessoa dá positivo 80% das vezes quando a pessoa tem o vírus e 5% das vezes quando a pessoa não\n",
    "tem o vírus. (Este resultado de 5% é chamado de falso\n",
    "positivo.) Seja A o evento “a pessoa está infectada” e B\n",
    "o evento “o teste dá positivo”.\n",
    "(a) Usando o teorema de Bayes, se o teste dá positivo, determine a probabilidade de a pessoa estar\n",
    "infectada.\n",
    "(b) Usando o teorema de Bayes, se o teste dá negativo, determine a probabilidade de a pessoa não estar\n",
    "infectada"
   ]
  },
  {
   "cell_type": "code",
   "execution_count": 3,
   "id": "34652fe3",
   "metadata": {},
   "outputs": [
    {
     "data": {
      "text/plain": [
       "0.07441860465116279"
      ]
     },
     "execution_count": 3,
     "metadata": {},
     "output_type": "execute_result"
    }
   ],
   "source": [
    "# (a)\n",
    "\n",
    "a = 1/200\n",
    "a_ = 1 - a\n",
    "b_a = 0.8 \n",
    "b_a_ = 0.05\n",
    "(a*b_a) / ((a*b_a) + (a_*b_a_))"
   ]
  },
  {
   "cell_type": "code",
   "execution_count": 4,
   "id": "d6e739b1",
   "metadata": {},
   "outputs": [
    {
     "data": {
      "text/plain": [
       "0.9989431968295905"
      ]
     },
     "execution_count": 4,
     "metadata": {},
     "output_type": "execute_result"
    }
   ],
   "source": [
    "# (b)\n",
    "\n",
    "a = 1 - 1/200\n",
    "a_ = 1/200\n",
    "b_a = 0.95 \n",
    "b_a_ = 0.2\n",
    "(a*b_a) / ((a*b_a) + (a_*b_a_))"
   ]
  },
  {
   "cell_type": "markdown",
   "id": "e1e8b03b",
   "metadata": {},
   "source": [
    "### Questão 2"
   ]
  },
  {
   "cell_type": "markdown",
   "id": "9b42655a",
   "metadata": {},
   "source": [
    "A probabilidade de dado honesto é conhecido e igual a $1/6$, mas quando vamos testar isso com um dado físico, não necessariamente vai cair uma vez cada face do dado (se eu lançar ele 6 vezes). A ideia é que conforme fazermos vários testes a tendência é que a probabilidade de cada face irá convergir pro valor esperado. \n",
    "\n",
    "Vamos testar este conceito utilizando da programação seguintes os itens abaixo:]\n",
    "\n",
    "__A)__ Desenvolva uma função que receba um valor n, onde n é a quantidade de elementos e o objetivo da função é retorna uma _Series_ com n elementos sendo esses elementos números variando de 1 e 6;\n",
    "\n",
    "__B)__ Teste a função para n igual a 10, 100, 1.000, 10.000 e 100.000 casos e para cada um deles calcule a proporção de vezes que aparece cada número;\n",
    "\n",
    "__DIca.:__ utilize a função do _Pandas_ `.value_counts`\n",
    "\n",
    "__C)__ O que podermos dizer sobre a afirmação do enunciado, a tendência é que as probabilidades irâo convergir para $1/6$?"
   ]
  },
  {
   "cell_type": "code",
   "execution_count": 5,
   "id": "200494e5",
   "metadata": {},
   "outputs": [],
   "source": [
    "import numpy as np\n",
    "import pandas as pd\n",
    "def dado(n):\n",
    "\n",
    "    v_10 = pd.DataFrame(np.random.randint(1,7,size=n))\n",
    "    freq_table = pd.concat([v_10.value_counts(),\n",
    "                        round(v_10.value_counts(normalize = True),3),\n",
    "                        round(v_10.value_counts(normalize = True),3)* 100,\n",
    "                        (round(v_10.value_counts(normalize = True),3)* 100).cumsum()],\n",
    "                       axis = 1,\n",
    "                       keys = (\"freq\", \"freq_relativa\", 'freq_percentual', 'freq_acumulada' ), names=['Resultado vezes'])\n",
    "    return freq_table\n"
   ]
  },
  {
   "cell_type": "code",
   "execution_count": 6,
   "id": "a1b57bd7",
   "metadata": {},
   "outputs": [
    {
     "data": {
      "text/html": [
       "<div>\n",
       "<style scoped>\n",
       "    .dataframe tbody tr th:only-of-type {\n",
       "        vertical-align: middle;\n",
       "    }\n",
       "\n",
       "    .dataframe tbody tr th {\n",
       "        vertical-align: top;\n",
       "    }\n",
       "\n",
       "    .dataframe thead th {\n",
       "        text-align: right;\n",
       "    }\n",
       "</style>\n",
       "<table border=\"1\" class=\"dataframe\">\n",
       "  <thead>\n",
       "    <tr style=\"text-align: right;\">\n",
       "      <th>Resultado vezes</th>\n",
       "      <th>freq</th>\n",
       "      <th>freq_relativa</th>\n",
       "      <th>freq_percentual</th>\n",
       "      <th>freq_acumulada</th>\n",
       "    </tr>\n",
       "    <tr>\n",
       "      <th>0</th>\n",
       "      <th></th>\n",
       "      <th></th>\n",
       "      <th></th>\n",
       "      <th></th>\n",
       "    </tr>\n",
       "  </thead>\n",
       "  <tbody>\n",
       "    <tr>\n",
       "      <th>2</th>\n",
       "      <td>170</td>\n",
       "      <td>0.170</td>\n",
       "      <td>17.0</td>\n",
       "      <td>17.0</td>\n",
       "    </tr>\n",
       "    <tr>\n",
       "      <th>6</th>\n",
       "      <td>170</td>\n",
       "      <td>0.170</td>\n",
       "      <td>17.0</td>\n",
       "      <td>34.0</td>\n",
       "    </tr>\n",
       "    <tr>\n",
       "      <th>5</th>\n",
       "      <td>169</td>\n",
       "      <td>0.169</td>\n",
       "      <td>16.9</td>\n",
       "      <td>50.9</td>\n",
       "    </tr>\n",
       "    <tr>\n",
       "      <th>1</th>\n",
       "      <td>167</td>\n",
       "      <td>0.167</td>\n",
       "      <td>16.7</td>\n",
       "      <td>67.6</td>\n",
       "    </tr>\n",
       "    <tr>\n",
       "      <th>4</th>\n",
       "      <td>165</td>\n",
       "      <td>0.165</td>\n",
       "      <td>16.5</td>\n",
       "      <td>84.1</td>\n",
       "    </tr>\n",
       "    <tr>\n",
       "      <th>3</th>\n",
       "      <td>159</td>\n",
       "      <td>0.159</td>\n",
       "      <td>15.9</td>\n",
       "      <td>100.0</td>\n",
       "    </tr>\n",
       "  </tbody>\n",
       "</table>\n",
       "</div>"
      ],
      "text/plain": [
       "Resultado vezes  freq  freq_relativa  freq_percentual  freq_acumulada\n",
       "0                                                                    \n",
       "2                 170          0.170             17.0            17.0\n",
       "6                 170          0.170             17.0            34.0\n",
       "5                 169          0.169             16.9            50.9\n",
       "1                 167          0.167             16.7            67.6\n",
       "4                 165          0.165             16.5            84.1\n",
       "3                 159          0.159             15.9           100.0"
      ]
     },
     "execution_count": 6,
     "metadata": {},
     "output_type": "execute_result"
    }
   ],
   "source": [
    "dado(1000)"
   ]
  },
  {
   "cell_type": "code",
   "execution_count": 7,
   "id": "03feb298",
   "metadata": {},
   "outputs": [],
   "source": [
    "def conta_face_dado(n):\n",
    "    '''n [list]: how many times to play dice\n",
    "    '''\n",
    "    df = pd.DataFrame(index=[1,2,3,4,5,6])\n",
    "    for i in n:\n",
    "        temp = pd.DataFrame({'amostra':np.random.randint(low=1, high=7, size=i)})\n",
    "        df[i] = temp['amostra'].value_counts(normalize=True).sort_index()*100\n",
    "\n",
    "    return df"
   ]
  },
  {
   "cell_type": "code",
   "execution_count": 8,
   "id": "6090f921",
   "metadata": {},
   "outputs": [],
   "source": [
    "def prob_dado(n):\n",
    "    lista = []\n",
    "    for i in range(n):\n",
    "        x = 1+ randint(0,n) % 6\n",
    "        lista.append(x)\n",
    "    return pd.Series(lista)"
   ]
  },
  {
   "cell_type": "markdown",
   "id": "8ed593e2",
   "metadata": {},
   "source": [
    "### Questão 3"
   ]
  },
  {
   "cell_type": "markdown",
   "id": "f9102e3c",
   "metadata": {},
   "source": [
    "Na casa de Luiza e Rafael tem um pote de balas de diferentes cores. Certo dia a mamãe deles contou quantas balas tinha de cada uma das cores:\n",
    "\n",
    "- 14 balas azuis;\n",
    "- 22 balas vermelhas;\n",
    "- 17 balas amarelas.\n",
    "\n",
    "A mamãe deles deixou que cada um pegasse 3 balas começando pela Luiza e depois o Rafael. Dado isso resolva os item abaixo:\n",
    "\n",
    "__A)__ Qual a probabilidade da Luiza pegar uma bala de cada na ordem da contagem e o Rafael pegar 2 azuis e uma vermelha, dado que é um evento sem reposição?\n",
    "\n",
    "__B)__ Luiza decidiu ficar só com a bala amarela e devolveu as demais para o pote antes que o Rafael pegasse suas balas. Como que ficaria a probabilidade para o Rafael agora?"
   ]
  },
  {
   "cell_type": "code",
   "execution_count": 9,
   "id": "8567d548",
   "metadata": {},
   "outputs": [
    {
     "data": {
      "text/plain": [
       "53"
      ]
     },
     "execution_count": 9,
     "metadata": {},
     "output_type": "execute_result"
    }
   ],
   "source": [
    "14+22+17"
   ]
  },
  {
   "cell_type": "code",
   "execution_count": 10,
   "id": "e8808e25",
   "metadata": {},
   "outputs": [
    {
     "data": {
      "text/plain": [
       "0.03725205611998065"
      ]
     },
     "execution_count": 10,
     "metadata": {},
     "output_type": "execute_result"
    }
   ],
   "source": [
    "14/53 * 22/52 * 17/51"
   ]
  },
  {
   "cell_type": "code",
   "execution_count": 11,
   "id": "72c67450",
   "metadata": {},
   "outputs": [
    {
     "data": {
      "text/plain": [
       "0.027857142857142858"
      ]
     },
     "execution_count": 11,
     "metadata": {},
     "output_type": "execute_result"
    }
   ],
   "source": [
    "13/50 * 12/49 * 21/48"
   ]
  },
  {
   "cell_type": "code",
   "execution_count": 12,
   "id": "f322d402",
   "metadata": {},
   "outputs": [
    {
     "data": {
      "text/plain": [
       "0.030196078431372553"
      ]
     },
     "execution_count": 12,
     "metadata": {},
     "output_type": "execute_result"
    }
   ],
   "source": [
    "14/52 * 13/51 * 22/50"
   ]
  },
  {
   "cell_type": "markdown",
   "id": "efcd759a",
   "metadata": {},
   "source": [
    "### Questão 4"
   ]
  },
  {
   "cell_type": "markdown",
   "id": "8180ee4e",
   "metadata": {},
   "source": [
    "Um programa de computador gera uma pontuação aleatória para cada usuário, sendo que:\n",
    "\n",
    "- Em 1/2 dos casos, gera 0.5;\n",
    "- Em 1/4 dos casos, gera 0.25;\n",
    "- Em 1/8 dos casos, gera 0.125.\n",
    "\n",
    "E essa lógica segue assim por diante. Resolva os itens a seguir:\n",
    "\n",
    "__A)__ Calcule o __valor esperado__ utilizando apenas os 3 primeiros casos;\n",
    "\n",
    "__B)__ Faça um _loop_ para calcular o __valor esperado__ para 100 casos e avalie se só com os 3 primeiros casos temos uma boa aproximação ou não."
   ]
  },
  {
   "cell_type": "code",
   "execution_count": 13,
   "id": "f1f8bbe4",
   "metadata": {},
   "outputs": [
    {
     "name": "stdout",
     "output_type": "stream",
     "text": [
      "Esperança =  0.328125\n",
      "Var(X) = 0.021453857421875\n",
      "Var(X) = 0.034912109375\n",
      "Dp(X) =0.19\n"
     ]
    }
   ],
   "source": [
    "#Calculando a Esperança e a variância\n",
    "\n",
    "p = [1/2, 1/4, 1/8]\n",
    "\n",
    "X = [0.5, 0.25, 0.125]\n",
    "\n",
    "#Calculando a esperança de X\n",
    "esperanca = 0\n",
    "for i in range(len(X)):\n",
    "    esperanca += p[i]*X[i]\n",
    "\n",
    "print(f'Esperança =  {esperanca}')\n",
    "\n",
    "#Calculando a variância de X\n",
    "#Primeira maneira    \n",
    "variancia = 0\n",
    "for i in range(len(X)):\n",
    "    variancia += p[i]*(X[i] - esperanca)**2\n",
    "\n",
    "print(f'Var(X) = {variancia}')\n",
    "\n",
    "#Segunda maneira\n",
    "variancia = 0\n",
    "ex2 = 0\n",
    "for i in range(len(X)):\n",
    "    ex2 += p[i]*(X[i])**2\n",
    "\n",
    "variancia = ex2 - (esperanca)**2\n",
    "print(f'Var(X) = {variancia}')\n",
    "print(f'Dp(X) ={np.sqrt(variancia):.2f}')"
   ]
  },
  {
   "cell_type": "code",
   "execution_count": 14,
   "id": "a480807b",
   "metadata": {},
   "outputs": [
    {
     "data": {
      "text/plain": [
       "(0.875, 0.875)"
      ]
     },
     "execution_count": 14,
     "metadata": {},
     "output_type": "execute_result"
    }
   ],
   "source": [
    "sum(p), sum(X)"
   ]
  },
  {
   "cell_type": "code",
   "execution_count": 15,
   "id": "3b7946d8",
   "metadata": {},
   "outputs": [
    {
     "name": "stdout",
     "output_type": "stream",
     "text": [
      "Esperança =  0.3333333333333333\n",
      "Var(X) = 0.03174603174603174\n",
      "Var(X) = 0.031746031746031744\n",
      "Dp(X) =0.18\n"
     ]
    }
   ],
   "source": [
    "list_p =[]\n",
    "list_x = []\n",
    "#x = 0.5\n",
    "for i in range(1,100):\n",
    "    list_p.append(1/2**i)\n",
    "    list_x.append(0.5**i)\n",
    "p = list_p\n",
    "\n",
    "X = list_x\n",
    "\n",
    "#Calculando a esperança de X\n",
    "esperanca = 0\n",
    "for i in range(len(X)):\n",
    "    esperanca += p[i]*X[i]\n",
    "\n",
    "print(f'Esperança =  {esperanca}')\n",
    "\n",
    "#Calculando a variância de X\n",
    "#Primeira maneira    \n",
    "variancia = 0\n",
    "for i in range(len(X)):\n",
    "    variancia += p[i]*(X[i] - esperanca)**2\n",
    "\n",
    "print(f'Var(X) = {variancia}')\n",
    "\n",
    "#Segunda maneira\n",
    "variancia = 0\n",
    "ex2 = 0\n",
    "for i in range(len(X)):\n",
    "    ex2 += p[i]*(X[i])**2\n",
    "\n",
    "variancia = ex2 - (esperanca)**2\n",
    "print(f'Var(X) = {variancia}')\n",
    "print(f'Dp(X) ={np.sqrt(variancia):.2f}')"
   ]
  },
  {
   "cell_type": "code",
   "execution_count": 16,
   "id": "f78465aa",
   "metadata": {},
   "outputs": [
    {
     "data": {
      "image/png": "[encoded data removed]",
      "text/plain": [
       "<Figure size 432x288 with 1 Axes>"
      ]
     },
     "metadata": {
      "needs_background": "light"
     },
     "output_type": "display_data"
    }
   ],
   "source": [
    "plt.bar(x= list_x, height=list_p)\n",
    "plt.title('Distribuição de Probabilidade do lançamento de 2 moedas simultaneamente')\n",
    "plt.ylabel(r'$P(X=x_i)$')\n",
    "plt.xlabel(r'$x_i$')\n",
    "plt.xticks([0,1,2])\n",
    "plt.yticks([1/4,1/2])\n",
    "plt.grid()\n",
    "plt.show()"
   ]
  },
  {
   "cell_type": "code",
   "execution_count": 17,
   "id": "f6b42b04",
   "metadata": {},
   "outputs": [
    {
     "data": {
      "text/plain": [
       "1.0"
      ]
     },
     "execution_count": 17,
     "metadata": {},
     "output_type": "execute_result"
    }
   ],
   "source": [
    "sum(list_x)"
   ]
  },
  {
   "cell_type": "code",
   "execution_count": 18,
   "id": "e39c6d88",
   "metadata": {},
   "outputs": [
    {
     "data": {
      "text/plain": [
       "1.0"
      ]
     },
     "execution_count": 18,
     "metadata": {},
     "output_type": "execute_result"
    }
   ],
   "source": [
    "sum(list_p)"
   ]
  },
  {
   "cell_type": "code",
   "execution_count": 19,
   "id": "fee58a37",
   "metadata": {},
   "outputs": [
    {
     "data": {
      "text/plain": [
       "0.010101010101010102"
      ]
     },
     "execution_count": 19,
     "metadata": {},
     "output_type": "execute_result"
    }
   ],
   "source": [
    "np.mean(list_x)"
   ]
  },
  {
   "cell_type": "code",
   "execution_count": 20,
   "id": "61d8684f",
   "metadata": {},
   "outputs": [
    {
     "data": {
      "text/plain": [
       "0.05713994191406444"
      ]
     },
     "execution_count": 20,
     "metadata": {},
     "output_type": "execute_result"
    }
   ],
   "source": [
    "np.std(list_x)"
   ]
  },
  {
   "cell_type": "code",
   "execution_count": 21,
   "id": "4d504718",
   "metadata": {},
   "outputs": [
    {
     "data": {
      "text/plain": [
       "99"
      ]
     },
     "execution_count": 21,
     "metadata": {},
     "output_type": "execute_result"
    }
   ],
   "source": [
    "len(np.unique(list_x))"
   ]
  },
  {
   "cell_type": "code",
   "execution_count": 22,
   "id": "de762435",
   "metadata": {},
   "outputs": [],
   "source": [
    "df = pd.DataFrame(list_x)"
   ]
  },
  {
   "cell_type": "code",
   "execution_count": 23,
   "id": "0312947a",
   "metadata": {},
   "outputs": [
    {
     "data": {
      "text/html": [
       "<div>\n",
       "<style scoped>\n",
       "    .dataframe tbody tr th:only-of-type {\n",
       "        vertical-align: middle;\n",
       "    }\n",
       "\n",
       "    .dataframe tbody tr th {\n",
       "        vertical-align: top;\n",
       "    }\n",
       "\n",
       "    .dataframe thead th {\n",
       "        text-align: right;\n",
       "    }\n",
       "</style>\n",
       "<table border=\"1\" class=\"dataframe\">\n",
       "  <thead>\n",
       "    <tr style=\"text-align: right;\">\n",
       "      <th></th>\n",
       "      <th>0</th>\n",
       "    </tr>\n",
       "  </thead>\n",
       "  <tbody>\n",
       "    <tr>\n",
       "      <th>count</th>\n",
       "      <td>9.900000e+01</td>\n",
       "    </tr>\n",
       "    <tr>\n",
       "      <th>mean</th>\n",
       "      <td>1.010101e-02</td>\n",
       "    </tr>\n",
       "    <tr>\n",
       "      <th>std</th>\n",
       "      <td>5.743073e-02</td>\n",
       "    </tr>\n",
       "    <tr>\n",
       "      <th>min</th>\n",
       "      <td>1.577722e-30</td>\n",
       "    </tr>\n",
       "    <tr>\n",
       "      <th>25%</th>\n",
       "      <td>3.970467e-23</td>\n",
       "    </tr>\n",
       "    <tr>\n",
       "      <th>50%</th>\n",
       "      <td>8.881784e-16</td>\n",
       "    </tr>\n",
       "    <tr>\n",
       "      <th>75%</th>\n",
       "      <td>2.235174e-08</td>\n",
       "    </tr>\n",
       "    <tr>\n",
       "      <th>max</th>\n",
       "      <td>5.000000e-01</td>\n",
       "    </tr>\n",
       "  </tbody>\n",
       "</table>\n",
       "</div>"
      ],
      "text/plain": [
       "                  0\n",
       "count  9.900000e+01\n",
       "mean   1.010101e-02\n",
       "std    5.743073e-02\n",
       "min    1.577722e-30\n",
       "25%    3.970467e-23\n",
       "50%    8.881784e-16\n",
       "75%    2.235174e-08\n",
       "max    5.000000e-01"
      ]
     },
     "execution_count": 23,
     "metadata": {},
     "output_type": "execute_result"
    }
   ],
   "source": [
    "df.describe()"
   ]
  },
  {
   "cell_type": "code",
   "execution_count": 24,
   "id": "0b8dcf63",
   "metadata": {},
   "outputs": [
    {
     "data": {
      "text/plain": [
       "1.577722e-30    1\n",
       "2.980232e-08    1\n",
       "7.450581e-09    1\n",
       "3.725290e-09    1\n",
       "1.862645e-09    1\n",
       "               ..\n",
       "1.694066e-21    1\n",
       "8.470329e-22    1\n",
       "4.235165e-22    1\n",
       "2.117582e-22    1\n",
       "5.000000e-01    1\n",
       "Length: 99, dtype: int64"
      ]
     },
     "execution_count": 24,
     "metadata": {},
     "output_type": "execute_result"
    }
   ],
   "source": [
    "df.value_counts()"
   ]
  },
  {
   "cell_type": "code",
   "execution_count": 25,
   "id": "eea7221a",
   "metadata": {},
   "outputs": [
    {
     "data": {
      "image/png": "[encoded data removed]",
      "text/plain": [
       "<Figure size 432x288 with 1 Axes>"
      ]
     },
     "metadata": {
      "needs_background": "light"
     },
     "output_type": "display_data"
    }
   ],
   "source": [
    "plt.bar(x=list_x, height=list_x)\n",
    "plt.title('Distribuição de Probabilidade do lançamento de 2 moedas simultaneamente')\n",
    "plt.ylabel('Probabilidade')\n",
    "plt.xlabel('Variável Aleatória')\n",
    "plt.show()"
   ]
  },
  {
   "cell_type": "code",
   "execution_count": 26,
   "id": "dab7ba92",
   "metadata": {},
   "outputs": [
    {
     "data": {
      "image/png": "[encoded data removed]",
      "text/plain": [
       "<Figure size 432x288 with 1 Axes>"
      ]
     },
     "metadata": {
      "needs_background": "light"
     },
     "output_type": "display_data"
    }
   ],
   "source": [
    "x = np.linspace(0.5, 1.577722e-30, 300)\n",
    "\n",
    "mu = 0.010101010101010102 #média\n",
    "sigma = 0.05713994191406444 #desvio padrão\n",
    "# usando o scipy\n",
    "y = stats.norm(loc=mu, scale=sigma).pdf(x) #probability density function (pdf)\n",
    "\n",
    "plt.plot(x, y)\n",
    "\n",
    "plt.show()"
   ]
  },
  {
   "cell_type": "code",
   "execution_count": 27,
   "id": "9ce980f7",
   "metadata": {},
   "outputs": [
    {
     "data": {
      "image/png": "[encoded data removed]",
      "text/plain": [
       "<Figure size 360x360 with 1 Axes>"
      ]
     },
     "metadata": {
      "needs_background": "light"
     },
     "output_type": "display_data"
    }
   ],
   "source": [
    "# utilizando o seaborn\n",
    "\n",
    "N = 300 #número de pontos a serem escolhidos aleatoriamente\n",
    "amostra_normal = np.random.normal(0.0, 0.5,N) \n",
    "\n",
    "sns.displot(amostra_normal, kde=True)\n",
    "plt.show()"
   ]
  },
  {
   "cell_type": "code",
   "execution_count": null,
   "id": "455b889a",
   "metadata": {},
   "outputs": [],
   "source": []
  },
  {
   "cell_type": "code",
   "execution_count": 28,
   "id": "8ceafc52",
   "metadata": {},
   "outputs": [
    {
     "data": {
      "image/png": "[encoded data removed]",
      "text/plain": [
       "<Figure size 432x288 with 1 Axes>"
      ]
     },
     "metadata": {
      "needs_background": "light"
     },
     "output_type": "display_data"
    }
   ],
   "source": [
    "# sample_from_exp_dist.py\n",
    "# import the module\n",
    "import random\n",
    "import matplotlib.pyplot as plt\n",
    "import math\n",
    "import numpy as np\n",
    "import scipy.stats as stats\n",
    "random.seed(54312)\n",
    "\n",
    "# select the sample size you want to take\n",
    "sample_size = 3\n",
    "# select the number of sample mean you want to simulate\n",
    "calc_means = 10000\n",
    "\n",
    "mean_list = []\n",
    "\n",
    "# run our loop and collect a sample\n",
    "for j in range(calc_means):\n",
    "    # initialize the variables to track our results\n",
    "    sample_list = []\n",
    "    for i in range(sample_size):\n",
    "        draw = np.random.exponential(1)\n",
    "        sample_list.append(draw)\n",
    "    sample_mean = sum(sample_list) / sample_size\n",
    "    mean_list.append(sample_mean)\n",
    "\n",
    "# create a histogram of our sample and compare it to what the CLT says it should be\n",
    "n, bins, patches = plt.hist(mean_list, math.floor(math.sqrt(calc_means)), density=True, facecolor='g', alpha=0.75)\n",
    "plt.grid(True)\n",
    "mu = 1\n",
    "sigma = 1 / (math.sqrt(sample_size))\n",
    "x = np.linspace(mu - 3 * sigma, mu + 3 * sigma, 100)\n",
    "plt.plot(x, stats.norm.pdf(x, mu, sigma))\n",
    "plt.show()"
   ]
  },
  {
   "cell_type": "code",
   "execution_count": null,
   "id": "10020d58",
   "metadata": {},
   "outputs": [],
   "source": []
  },
  {
   "cell_type": "code",
   "execution_count": null,
   "id": "13bba3af",
   "metadata": {},
   "outputs": [],
   "source": []
  },
  {
   "cell_type": "markdown",
   "id": "57a9dba0",
   "metadata": {},
   "source": [
    "### Questão 5"
   ]
  },
  {
   "cell_type": "markdown",
   "id": "03ce87d4",
   "metadata": {},
   "source": [
    "Em um programa de auditório, havia 3 portas (A, B, C), dentro da qual uma continha um prêmio. O participante escolheu a porta A e antes de abrir a porta o apresentador abriu a porta C, na qual não havia nada. O participante aumentará a probabilidade de acertar a porta caso mude a escolha dele da porta A para a B?"
   ]
  },
  {
   "cell_type": "markdown",
   "id": "6dadc724",
   "metadata": {},
   "source": [
    "Sim!"
   ]
  },
  {
   "cell_type": "code",
   "execution_count": null,
   "id": "7b8fddeb",
   "metadata": {},
   "outputs": [],
   "source": []
  }
 ],
 "metadata": {
  "kernelspec": {
   "display_name": "Python 3",
   "language": "python",
   "name": "python3"
  },
  "language_info": {
   "codemirror_mode": {
    "name": "ipython",
    "version": 3
   },
   "file_extension": ".py",
   "mimetype": "text/x-python",
   "name": "python",
   "nbconvert_exporter": "python",
   "pygments_lexer": "ipython3",
   "version": "3.8.8"
  },
  "varInspector": {
   "cols": {
    "lenName": 16,
    "lenType": 16,
    "lenVar": 40
   },
   "kernels_config": {
    "python": {
     "delete_cmd_postfix": "",
     "delete_cmd_prefix": "del ",
     "library": "var_list.py",
     "varRefreshCmd": "print(var_dic_list())"
    },
    "r": {
     "delete_cmd_postfix": ") ",
     "delete_cmd_prefix": "rm(",
     "library": "var_list.r",
     "varRefreshCmd": "cat(var_dic_list()) "
    }
   },
   "types_to_exclude": [
    "module",
    "function",
    "builtin_function_or_method",
    "instance",
    "_Feature"
   ],
   "window_display": false
  }
 },
 "nbformat": 4,
 "nbformat_minor": 5
}
