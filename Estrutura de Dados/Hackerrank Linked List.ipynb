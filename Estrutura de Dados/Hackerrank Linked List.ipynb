{
 "cells": [
  {
   "cell_type": "markdown",
   "id": "fc59da0e",
   "metadata": {},
   "source": [
    "Print the Elements of a Linked List"
   ]
  },
  {
   "cell_type": "code",
   "execution_count": 87,
   "id": "0961fc92",
   "metadata": {},
   "outputs": [],
   "source": [
    "class SinglyLinkedListNode:\n",
    "    def __init__(self, node_data):\n",
    "        self.data = node_data\n",
    "        self.next = None\n",
    "\n",
    "class SinglyLinkedList:\n",
    "    def __init__(self):\n",
    "        self.head = None\n",
    "        self.tail = None\n",
    "\n",
    "    def insert_node(self, node_data):\n",
    "        node = SinglyLinkedListNode(node_data)\n",
    "\n",
    "        if not self.head:\n",
    "            self.head = node\n",
    "        else:\n",
    "            self.tail.next = node\n",
    "\n",
    "\n",
    "        self.tail = node\n",
    "        \n",
    "        \n",
    "        \n",
    "def printLinkedList(head):\n",
    "    temp = head\n",
    "    while (temp.next != None):\n",
    "        print(temp.data)\n",
    "        temp = temp.next\n",
    "    print(temp.data)  "
   ]
  },
  {
   "cell_type": "code",
   "execution_count": 88,
   "id": "4aaf5310",
   "metadata": {
    "collapsed": true
   },
   "outputs": [
    {
     "ename": "AttributeError",
     "evalue": "'NoneType' object has no attribute 'data'",
     "output_type": "error",
     "traceback": [
      "\u001b[1;31m---------------------------------------------------------------------------\u001b[0m",
      "\u001b[1;31mAttributeError\u001b[0m                            Traceback (most recent call last)",
      "\u001b[1;32m<ipython-input-88-014545e7fdef>\u001b[0m in \u001b[0;36m<module>\u001b[1;34m\u001b[0m\n\u001b[1;32m----> 1\u001b[1;33m \u001b[0mprint\u001b[0m\u001b[1;33m(\u001b[0m\u001b[0ml\u001b[0m\u001b[1;33m.\u001b[0m\u001b[0mtail\u001b[0m\u001b[1;33m.\u001b[0m\u001b[0mnext\u001b[0m\u001b[1;33m.\u001b[0m\u001b[0mdata\u001b[0m\u001b[1;33m)\u001b[0m\u001b[1;33m\u001b[0m\u001b[1;33m\u001b[0m\u001b[0m\n\u001b[0m",
      "\u001b[1;31mAttributeError\u001b[0m: 'NoneType' object has no attribute 'data'"
     ]
    }
   ],
   "source": [
    "print(l.tail.next.data)"
   ]
  },
  {
   "cell_type": "code",
   "execution_count": 89,
   "id": "34f0906b",
   "metadata": {},
   "outputs": [],
   "source": [
    "l = SinglyLinkedList()"
   ]
  },
  {
   "cell_type": "code",
   "execution_count": 90,
   "id": "fe3d3645",
   "metadata": {},
   "outputs": [],
   "source": [
    "l.insert_node(16)"
   ]
  },
  {
   "cell_type": "code",
   "execution_count": 91,
   "id": "e8f574ff",
   "metadata": {},
   "outputs": [],
   "source": [
    "l.insert_node(24)"
   ]
  },
  {
   "cell_type": "code",
   "execution_count": 93,
   "id": "7fa3d8f6",
   "metadata": {},
   "outputs": [
    {
     "name": "stdout",
     "output_type": "stream",
     "text": [
      "16\n",
      "24\n"
     ]
    }
   ],
   "source": [
    "printLinkedList(l.head)"
   ]
  },
  {
   "cell_type": "code",
   "execution_count": 92,
   "id": "197ececc",
   "metadata": {},
   "outputs": [
    {
     "data": {
      "text/plain": [
       "<__main__.SinglyLinkedListNode at 0x2a2cd0421c0>"
      ]
     },
     "execution_count": 92,
     "metadata": {},
     "output_type": "execute_result"
    }
   ],
   "source": [
    "l.head"
   ]
  },
  {
   "cell_type": "markdown",
   "id": "7d097f78",
   "metadata": {},
   "source": [
    "Insert a node at the head of a linked list"
   ]
  },
  {
   "cell_type": "code",
   "execution_count": 1,
   "id": "dc4a66a5",
   "metadata": {},
   "outputs": [],
   "source": [
    "class SinglyLinkedListNode:\n",
    "    def __init__(self, node_data):\n",
    "        self.data = node_data\n",
    "        self.next = None\n",
    "\n",
    "    def __repr__(self):\n",
    "        return '%s => %s' % (self.data, self.next)   \n",
    "        \n",
    "class SinglyLinkedList:\n",
    "    def __init__(self):\n",
    "        self.head = None\n",
    "        self.tail = None\n",
    "        \n",
    "        \n",
    "    def __repr__(self):\n",
    "        return \"%s\" % (self.head)   \n",
    "        \n",
    "\n",
    "def print_singly_linked_list(node, sep, fptr):\n",
    "    while node:\n",
    "        fptr.write(str(node.data))\n",
    "\n",
    "        node = node.next\n",
    "\n",
    "        if node:\n",
    "            fptr.write(sep)"
   ]
  },
  {
   "cell_type": "code",
   "execution_count": 11,
   "id": "3547e875",
   "metadata": {},
   "outputs": [],
   "source": [
    "def insertNodeAtHead(llist, data):\n",
    "    # Write your code here\n",
    "    node = SinglyLinkedListNode(data)\n",
    "    if llist:\n",
    "        node.next = llist\n",
    "    return node"
   ]
  },
  {
   "cell_type": "code",
   "execution_count": 25,
   "id": "15f3fbd2",
   "metadata": {},
   "outputs": [],
   "source": [
    "l = SinglyLinkedList()\n",
    "l.head = 0"
   ]
  },
  {
   "cell_type": "code",
   "execution_count": 26,
   "id": "fd0a00d7",
   "metadata": {},
   "outputs": [
    {
     "data": {
      "text/plain": [
       "1 => None"
      ]
     },
     "execution_count": 26,
     "metadata": {},
     "output_type": "execute_result"
    }
   ],
   "source": [
    "insertNodeAtHead(l.head, 1)"
   ]
  },
  {
   "cell_type": "code",
   "execution_count": 23,
   "id": "0bbb4840",
   "metadata": {},
   "outputs": [
    {
     "data": {
      "text/plain": [
       "2 => 1"
      ]
     },
     "execution_count": 23,
     "metadata": {},
     "output_type": "execute_result"
    }
   ],
   "source": [
    "insertNodeAtHead(1, 2)"
   ]
  },
  {
   "cell_type": "code",
   "execution_count": 24,
   "id": "3cde966e",
   "metadata": {},
   "outputs": [
    {
     "data": {
      "text/plain": [
       "3 => 2"
      ]
     },
     "execution_count": 24,
     "metadata": {},
     "output_type": "execute_result"
    }
   ],
   "source": [
    "insertNodeAtHead(2, 3)"
   ]
  },
  {
   "cell_type": "code",
   "execution_count": 27,
   "id": "7b71230f",
   "metadata": {},
   "outputs": [
    {
     "data": {
      "text/plain": [
       "0"
      ]
     },
     "execution_count": 27,
     "metadata": {},
     "output_type": "execute_result"
    }
   ],
   "source": [
    "l"
   ]
  },
  {
   "cell_type": "markdown",
   "id": "c22adff9",
   "metadata": {},
   "source": [
    "Insert a Node at the Tail of a Linked List"
   ]
  },
  {
   "cell_type": "code",
   "execution_count": 20,
   "id": "8765a1e9",
   "metadata": {},
   "outputs": [],
   "source": [
    "class SinglyLinkedListNode:\n",
    "    def __init__(self, node_data):\n",
    "        self.data = node_data\n",
    "        self.next = None\n",
    "\n",
    "class SinglyLinkedList:\n",
    "    def __init__(self):\n",
    "        self.head = None\n",
    "\n",
    "def print_singly_linked_list(node, sep, fptr):\n",
    "    while node:\n",
    "        fptr.write(str(node.data))\n",
    "\n",
    "        node = node.next\n",
    "\n",
    "        if node:\n",
    "            fptr.write(sep)"
   ]
  },
  {
   "cell_type": "code",
   "execution_count": 21,
   "id": "64941132",
   "metadata": {},
   "outputs": [],
   "source": [
    "def Insert(head, data):\n",
    "    if head is None:\n",
    "        return SinglyLinkedListNode(data)\n",
    "    pnt = head\n",
    "    while pnt.next:\n",
    "        pnt = pnt.next\n",
    "    pnt.next = SinglyLinkedListNode(data)\n",
    "    return head"
   ]
  },
  {
   "cell_type": "code",
   "execution_count": 22,
   "id": "e7059cc3",
   "metadata": {},
   "outputs": [],
   "source": [
    "l = SinglyLinkedList()"
   ]
  },
  {
   "cell_type": "code",
   "execution_count": 23,
   "id": "47e83fd7",
   "metadata": {},
   "outputs": [
    {
     "data": {
      "text/plain": [
       "<__main__.SinglyLinkedListNode at 0x23f4a4b0460>"
      ]
     },
     "execution_count": 23,
     "metadata": {},
     "output_type": "execute_result"
    }
   ],
   "source": [
    "Insert(l.head,1)"
   ]
  },
  {
   "cell_type": "code",
   "execution_count": 24,
   "id": "72ebb3e9",
   "metadata": {
    "collapsed": true
   },
   "outputs": [
    {
     "data": {
      "text/plain": [
       "<__main__.SinglyLinkedListNode at 0x23f4a4be130>"
      ]
     },
     "execution_count": 24,
     "metadata": {},
     "output_type": "execute_result"
    }
   ],
   "source": [
    "Insert(l.head,2)"
   ]
  },
  {
   "cell_type": "markdown",
   "id": "3d7923e5",
   "metadata": {},
   "source": [
    "Insert a node at a specific position in a linked list"
   ]
  },
  {
   "cell_type": "code",
   "execution_count": 29,
   "id": "c4c59478",
   "metadata": {},
   "outputs": [],
   "source": [
    "class SinglyLinkedListNode:\n",
    "    def __init__(self, node_data):\n",
    "        self.data = node_data\n",
    "        self.next = None\n",
    "\n",
    "        \n",
    "    def __repr__(self):\n",
    "        return '%s => %s' % (self.data, self.next)    \n",
    "        \n",
    "class SinglyLinkedList:\n",
    "    def __init__(self):\n",
    "        self.head = None\n",
    "        self.tail = None\n",
    "        \n",
    "        \n",
    "    def __repr__(self):\n",
    "        return \"%s\" % (self.head)\n",
    "        \n",
    "\n",
    "    def insert_node(self, node_data):\n",
    "        node = SinglyLinkedListNode(node_data)\n",
    "\n",
    "        if not self.head:\n",
    "            self.head = node\n",
    "        else:\n",
    "            self.tail.next = node\n",
    "\n",
    "\n",
    "        self.tail = node\n",
    "\n",
    "def print_singly_linked_list(node, sep, fptr):\n",
    "    while node:\n",
    "        fptr.write(str(node.data))\n",
    "\n",
    "        node = node.next\n",
    "\n",
    "        if node:\n",
    "            fptr.write(sep)"
   ]
  },
  {
   "cell_type": "code",
   "execution_count": 30,
   "id": "aef23160",
   "metadata": {},
   "outputs": [],
   "source": [
    "def insertNodeAtPosition(llist, data, position):\n",
    "    head = llist\n",
    "    if (position < 0):       \n",
    "        print(\"Invalid position!\")\n",
    "    \n",
    "    if position == 0:\n",
    "        newNode = SinglyLinkedListNode(data)\n",
    "        newNode.next = llist\n",
    "        head = newNode\n",
    "    \n",
    "    else:\n",
    "       \n",
    "        # Keep looping until the position is zero\n",
    "        while (position != -1):          \n",
    "            position -= 1\n",
    "  \n",
    "            if (position == 0):\n",
    "  \n",
    "               # adding Node at required position\n",
    "               newNode = SinglyLinkedListNode(data)\n",
    " \n",
    "               # Making the new Node to point to\n",
    "               # the old Node at the same position\n",
    "               newNode.next = llist.next\n",
    " \n",
    "               # Replacing headNode with new Node\n",
    "               # to the old Node to point to the new Node\n",
    "               llist.next = newNode\n",
    "               break \n",
    "                \n",
    "            llist = llist.next\n",
    "            if llist == None:\n",
    "                break\n",
    "                \n",
    "        if position != 0:\n",
    "              print(\"position out of range\")       \n",
    "    return head       \n",
    "    "
   ]
  },
  {
   "cell_type": "code",
   "execution_count": 31,
   "id": "43758dc6",
   "metadata": {},
   "outputs": [],
   "source": [
    "l = SinglyLinkedList()"
   ]
  },
  {
   "cell_type": "code",
   "execution_count": 32,
   "id": "bbf609eb",
   "metadata": {},
   "outputs": [],
   "source": [
    "l.insert_node(4)"
   ]
  },
  {
   "cell_type": "code",
   "execution_count": 33,
   "id": "c1831702",
   "metadata": {},
   "outputs": [
    {
     "data": {
      "text/plain": [
       "4 => None"
      ]
     },
     "execution_count": 33,
     "metadata": {},
     "output_type": "execute_result"
    }
   ],
   "source": [
    "l"
   ]
  },
  {
   "cell_type": "code",
   "execution_count": 35,
   "id": "6800d694",
   "metadata": {},
   "outputs": [
    {
     "name": "stdout",
     "output_type": "stream",
     "text": [
      "position out of range\n"
     ]
    },
    {
     "data": {
      "text/plain": [
       "4 => None"
      ]
     },
     "execution_count": 35,
     "metadata": {},
     "output_type": "execute_result"
    }
   ],
   "source": [
    "insertNodeAtPosition(l.head,4,4)"
   ]
  },
  {
   "cell_type": "markdown",
   "id": "b914d572",
   "metadata": {},
   "source": [
    "Print in Reverse"
   ]
  },
  {
   "cell_type": "code",
   "execution_count": 45,
   "id": "c42f1296",
   "metadata": {},
   "outputs": [
    {
     "name": "stdout",
     "output_type": "stream",
     "text": [
      "4 3 2 1 "
     ]
    }
   ],
   "source": [
    "class Node: \n",
    "      \n",
    "    # Constructor to initialize\n",
    "    # the node object \n",
    "    def __init__(self, data): \n",
    "          \n",
    "        self.data = data \n",
    "        self.next = None\n",
    "\n",
    "class LinkedList: \n",
    "      \n",
    "    # Function to initialize head \n",
    "    def __init__(self): \n",
    "        self.head = None\n",
    "      \n",
    "    # Recursive function to print \n",
    "    # linked list in reverse order\n",
    "    def printrev(self, temp):\n",
    "          \n",
    "        if temp:\n",
    "            self.printrev(temp.next)\n",
    "            print(temp.data, end = ' ')\n",
    "        else:\n",
    "            return\n",
    "          \n",
    "    # Function to insert a new node \n",
    "    # at the beginning \n",
    "    def push(self, new_data): \n",
    "          \n",
    "        new_node = Node(new_data) \n",
    "        new_node.next = self.head \n",
    "        self.head = new_node \n",
    "  \n",
    "# Driver code\n",
    "llist = LinkedList() \n",
    "  \n",
    "llist.push(4) \n",
    "llist.push(3) \n",
    "llist.push(2) \n",
    "llist.push(1) \n",
    "  \n",
    "llist.printrev(llist.head)"
   ]
  },
  {
   "cell_type": "code",
   "execution_count": 52,
   "id": "79e747d3",
   "metadata": {},
   "outputs": [],
   "source": [
    "class SinglyLinkedListNode:\n",
    "    def __init__(self, node_data):\n",
    "        self.data = node_data\n",
    "        self.next = None\n",
    "\n",
    "class SinglyLinkedList:\n",
    "    def __init__(self):\n",
    "        self.head = None\n",
    "        self.tail = None\n",
    "\n",
    "    def insert_node(self, node_data):\n",
    "        node = SinglyLinkedListNode(node_data)\n",
    "\n",
    "        if not self.head:\n",
    "            self.head = node\n",
    "        else:\n",
    "            self.tail.next = node\n",
    "\n",
    "\n",
    "        self.tail = node\n",
    "\n",
    "def print_singly_linked_list(node, sep):\n",
    "    while node:\n",
    "        print(node.data, end='')\n",
    "\n",
    "        node = node.next\n",
    "\n",
    "        if node:\n",
    "            print(sep, end='')"
   ]
  },
  {
   "cell_type": "code",
   "execution_count": null,
   "id": "6dea7d76",
   "metadata": {},
   "outputs": [],
   "source": [
    "def reversePrint(llist):\n",
    "    if llist:\n",
    "        reversePrint(llist.next)\n",
    "        print(llist.data, end = ' ')\n",
    "    else:\n",
    "        return"
   ]
  },
  {
   "cell_type": "code",
   "execution_count": null,
   "id": "59e68f2f",
   "metadata": {},
   "outputs": [],
   "source": [
    "def reversePrint(llist)"
   ]
  },
  {
   "cell_type": "markdown",
   "id": "6321f47c",
   "metadata": {},
   "source": [
    "Delete a Node"
   ]
  },
  {
   "cell_type": "code",
   "execution_count": 6,
   "id": "4e6cffef",
   "metadata": {},
   "outputs": [],
   "source": [
    "class SinglyLinkedListNode:\n",
    "    def __init__(self, node_data):\n",
    "        self.data = node_data\n",
    "        self.next = None\n",
    "\n",
    "class SinglyLinkedList:\n",
    "    def __init__(self):\n",
    "        self.head = None\n",
    "        self.tail = None\n",
    "\n",
    "    def insert_node(self, node_data):\n",
    "        node = SinglyLinkedListNode(node_data)\n",
    "\n",
    "        if not self.head:\n",
    "            self.head = node\n",
    "        else:\n",
    "            self.tail.next = node\n",
    "\n",
    "\n",
    "        self.tail = node\n",
    "\n",
    "def print_singly_linked_list(node, sep, fptr):\n",
    "    while node:\n",
    "        fptr.write(str(node.data))\n",
    "\n",
    "        node = node.next\n",
    "\n",
    "        if node:\n",
    "            fptr.write(sep)"
   ]
  },
  {
   "cell_type": "code",
   "execution_count": 7,
   "id": "2943fe8a",
   "metadata": {},
   "outputs": [],
   "source": [
    "def deleteNode(llist, position):\n",
    "    # If linked list is empty\n",
    "        if llist == None:\n",
    "            return \n",
    "  \n",
    "        # Store head node\n",
    "        temp = llist\n",
    "  \n",
    "        # If head needs to be removed\n",
    "        if position == 0:\n",
    "            llist = temp.next\n",
    "            temp = None\n",
    "            return \n",
    "  \n",
    "        # Find previous node of the node to be deleted\n",
    "        for i in range(position -1 ):\n",
    "            temp = temp.next\n",
    "            if temp is None:\n",
    "                break\n",
    "  \n",
    "        # If position is more than number of nodes\n",
    "        if temp is None:\n",
    "            return \n",
    "        if temp.next is None:\n",
    "            return \n",
    "  \n",
    "        # Node temp.next is the node to be deleted\n",
    "        # store pointer to the next of node to be deleted\n",
    "        next = temp.next.next\n",
    "  \n",
    "        # Unlink the node from linked list\n",
    "        temp.next = None\n",
    "  \n",
    "        temp.next = next \n",
    "    \n",
    "    "
   ]
  },
  {
   "cell_type": "code",
   "execution_count": 8,
   "id": "e6a58e21",
   "metadata": {},
   "outputs": [],
   "source": [
    "l = SinglyLinkedList()"
   ]
  },
  {
   "cell_type": "code",
   "execution_count": 23,
   "id": "722fbe1b",
   "metadata": {},
   "outputs": [],
   "source": [
    "l.insert_node(5)"
   ]
  },
  {
   "cell_type": "code",
   "execution_count": 29,
   "id": "b4a12be5",
   "metadata": {},
   "outputs": [],
   "source": [
    "deleteNode(l.head, 3)"
   ]
  },
  {
   "cell_type": "code",
   "execution_count": 31,
   "id": "e63e33b5",
   "metadata": {
    "collapsed": true
   },
   "outputs": [
    {
     "ename": "AttributeError",
     "evalue": "'NoneType' object has no attribute 'data'",
     "output_type": "error",
     "traceback": [
      "\u001b[1;31m---------------------------------------------------------------------------\u001b[0m",
      "\u001b[1;31mAttributeError\u001b[0m                            Traceback (most recent call last)",
      "\u001b[1;32m<ipython-input-31-c78a0f0bf117>\u001b[0m in \u001b[0;36m<module>\u001b[1;34m\u001b[0m\n\u001b[1;32m----> 1\u001b[1;33m \u001b[0ml\u001b[0m\u001b[1;33m.\u001b[0m\u001b[0mhead\u001b[0m\u001b[1;33m.\u001b[0m\u001b[0mnext\u001b[0m\u001b[1;33m.\u001b[0m\u001b[0mnext\u001b[0m\u001b[1;33m.\u001b[0m\u001b[0mnext\u001b[0m\u001b[1;33m.\u001b[0m\u001b[0mdata\u001b[0m\u001b[1;33m\u001b[0m\u001b[1;33m\u001b[0m\u001b[0m\n\u001b[0m",
      "\u001b[1;31mAttributeError\u001b[0m: 'NoneType' object has no attribute 'data'"
     ]
    }
   ],
   "source": [
    "l.head.next.next.next.data"
   ]
  },
  {
   "cell_type": "code",
   "execution_count": 4,
   "id": "e0414cbd",
   "metadata": {},
   "outputs": [
    {
     "name": "stdout",
     "output_type": "stream",
     "text": [
      "Created Linked List: \n",
      " 8 \n",
      " 2 \n",
      " 3 \n",
      " 1 \n",
      " 7 \n",
      "\n",
      "Linked List after Deletion at position 4: \n",
      " 8 \n",
      " 2 \n",
      " 3 \n",
      " 1 \n"
     ]
    }
   ],
   "source": [
    "class Node:\n",
    "  \n",
    "    # Constructor to initialize the node object\n",
    "    def __init__(self, data):\n",
    "        self.data = data\n",
    "        self.next = None\n",
    "  \n",
    "class LinkedList:\n",
    "  \n",
    "    # Constructor to initialize head\n",
    "    def __init__(self):\n",
    "        self.head = None\n",
    "  \n",
    "    # Function to insert a new node at the beginning\n",
    "    def push(self, new_data):\n",
    "        new_node = Node(new_data)\n",
    "        new_node.next = self.head\n",
    "        self.head = new_node\n",
    "  \n",
    "    # Given a reference to the head of a list \n",
    "    # and a position, delete the node at a given position\n",
    "    def deleteNode(self, position):\n",
    "  \n",
    "        # If linked list is empty\n",
    "        if self.head == None:\n",
    "            return \n",
    "  \n",
    "        # Store head node\n",
    "        temp = self.head\n",
    "  \n",
    "        # If head needs to be removed\n",
    "        if position == 0:\n",
    "            self.head = temp.next\n",
    "            temp = None\n",
    "            return \n",
    "  \n",
    "        # Find previous node of the node to be deleted\n",
    "        for i in range(position -1 ):\n",
    "            temp = temp.next\n",
    "            if temp is None:\n",
    "                break\n",
    "  \n",
    "        # If position is more than number of nodes\n",
    "        if temp is None:\n",
    "            return \n",
    "        if temp.next is None:\n",
    "            return \n",
    "  \n",
    "        # Node temp.next is the node to be deleted\n",
    "        # store pointer to the next of node to be deleted\n",
    "        next = temp.next.next\n",
    "  \n",
    "        # Unlink the node from linked list\n",
    "        temp.next = None\n",
    "  \n",
    "        temp.next = next \n",
    "  \n",
    "  \n",
    "    # Utility function to print the linked LinkedList\n",
    "    def printList(self):\n",
    "        temp = self.head\n",
    "        while(temp):\n",
    "            print (\" %d \" %(temp.data))\n",
    "            temp = temp.next\n",
    "  \n",
    "  \n",
    "# Driver program to test above function\n",
    "llist = LinkedList()\n",
    "llist.push(7)\n",
    "llist.push(1)\n",
    "llist.push(3)\n",
    "llist.push(2)\n",
    "llist.push(8)\n",
    "  \n",
    "print (\"Created Linked List: \")\n",
    "llist.printList()\n",
    "llist.deleteNode(4)\n",
    "print (\"\\nLinked List after Deletion at position 4: \")\n",
    "llist.printList()\n",
    "  \n",
    "# This code is contributed by Nikhil Kumar Singh(nickzuck_007)"
   ]
  },
  {
   "cell_type": "code",
   "execution_count": null,
   "id": "2aa6ee01",
   "metadata": {},
   "outputs": [],
   "source": [
    "Compare two linked lists"
   ]
  },
  {
   "cell_type": "code",
   "execution_count": 1,
   "id": "0c1f99db",
   "metadata": {},
   "outputs": [],
   "source": [
    "class SinglyLinkedListNode:\n",
    "    def __init__(self, node_data):\n",
    "        self.data = node_data\n",
    "        self.next = None\n",
    "\n",
    "class SinglyLinkedList:\n",
    "    def __init__(self):\n",
    "        self.head = None\n",
    "        self.tail = None\n",
    "\n",
    "    def insert_node(self, node_data):\n",
    "        node = SinglyLinkedListNode(node_data)\n",
    "\n",
    "        if not self.head:\n",
    "            self.head = node\n",
    "        else:\n",
    "            self.tail.next = node\n",
    "\n",
    "\n",
    "        self.tail = node\n",
    "\n",
    "def print_singly_linked_list(node, sep, fptr):\n",
    "    while node:\n",
    "        fptr.write(str(node.data))\n",
    "\n",
    "        node = node.next\n",
    "\n",
    "        if node:\n",
    "            fptr.write(sep)"
   ]
  },
  {
   "cell_type": "code",
   "execution_count": 2,
   "id": "39dd0967",
   "metadata": {},
   "outputs": [],
   "source": [
    "def areIdentical(llist1, llist2):\n",
    "        a = llist1\n",
    "        b = llist2\n",
    "        while (a != None and b != None):\n",
    "            if (a.data != b.data):\n",
    "                return 0\n",
    " \n",
    "            # If we reach here, then a and b\n",
    "            # are not null and their data is\n",
    "            # same, so move to next nodes\n",
    "            # in both lists\n",
    "            a = a.next\n",
    "            b = b.next\n",
    " \n",
    "        # If linked lists are identical,\n",
    "        # then 'a' and 'b' must be null\n",
    "        # at this point.\n",
    "        if a == None and b == None:\n",
    "            return 1"
   ]
  },
  {
   "cell_type": "markdown",
   "id": "c342f258",
   "metadata": {},
   "source": [
    "Get Node Value"
   ]
  },
  {
   "cell_type": "code",
   "execution_count": 3,
   "id": "b4924a7f",
   "metadata": {},
   "outputs": [],
   "source": [
    "class SinglyLinkedListNode:\n",
    "    def __init__(self, node_data):\n",
    "        self.data = node_data\n",
    "        self.next = None\n",
    "\n",
    "class SinglyLinkedList:\n",
    "    def __init__(self):\n",
    "        self.head = None\n",
    "        self.tail = None\n",
    "\n",
    "    def insert_node(self, node_data):\n",
    "        node = SinglyLinkedListNode(node_data)\n",
    "\n",
    "        if not self.head:\n",
    "            self.head = node\n",
    "        else:\n",
    "            self.tail.next = node\n",
    "\n",
    "\n",
    "        self.tail = node\n",
    "\n",
    "def print_singly_linked_list(node, sep, fptr):\n",
    "    while node:\n",
    "        fptr.write(str(node.data))\n",
    "\n",
    "        node = node.next\n",
    "\n",
    "        if node:\n",
    "            fptr.write(sep)"
   ]
  },
  {
   "cell_type": "code",
   "execution_count": 4,
   "id": "8b61eb29",
   "metadata": {},
   "outputs": [],
   "source": [
    "def GetNode(head, position):\n",
    "    nums = []\n",
    "    current = head\n",
    "    \n",
    "    # First find tail of list as length is unknown\n",
    "    while current != None:\n",
    "        nums.append(current.data)\n",
    "        current = current.next\n",
    "    \n",
    "    # Return value of item at given position\n",
    "    return nums[ len( nums ) - position - 1 ]"
   ]
  },
  {
   "cell_type": "code",
   "execution_count": 5,
   "id": "3cfb720d",
   "metadata": {},
   "outputs": [],
   "source": [
    "l = SinglyLinkedList()"
   ]
  },
  {
   "cell_type": "code",
   "execution_count": 10,
   "id": "62fa2cbd",
   "metadata": {},
   "outputs": [],
   "source": [
    "l.insert_node(5)"
   ]
  },
  {
   "cell_type": "code",
   "execution_count": 12,
   "id": "40912a80",
   "metadata": {},
   "outputs": [
    {
     "data": {
      "text/plain": [
       "4"
      ]
     },
     "execution_count": 12,
     "metadata": {},
     "output_type": "execute_result"
    }
   ],
   "source": [
    "GetNode(l.head, 2\n",
    "       )"
   ]
  },
  {
   "cell_type": "markdown",
   "id": "ae5a10fb",
   "metadata": {},
   "source": [
    "Merge two sorted linked lists"
   ]
  },
  {
   "cell_type": "code",
   "execution_count": 21,
   "id": "f7aa889a",
   "metadata": {},
   "outputs": [],
   "source": [
    "\n",
    "#recursion\n",
    "def mergeLists(head1, head2):\n",
    " \n",
    "    # create a temp node NULL\n",
    "    temp = None\n",
    " \n",
    "    # List1 is empty then return List2\n",
    "    if head1 is None:\n",
    "        return head2\n",
    " \n",
    "    # if List2 is empty then return List1\n",
    "    if head2 is None:\n",
    "        return head1\n",
    " \n",
    "    # If List1's data is smaller or\n",
    "    # equal to List2's data\n",
    "    if head1.data <= head2.data:\n",
    " \n",
    "        # assign temp to List1's data\n",
    "        temp = head1\n",
    " \n",
    "        # Again check List1's data is smaller or equal List2's\n",
    "        # data and call mergeLists function.\n",
    "        temp.next = mergeLists(head1.next, head2)\n",
    "         \n",
    "    else:\n",
    "        # If List2's data is greater than or equal List1's\n",
    "        # data assign temp to head2\n",
    "        temp = head2\n",
    " \n",
    "        # Again check List2's data is greater or equal List's\n",
    "        # data and call mergeLists function.\n",
    "        temp.next = mergeLists(head1, head2.next)\n",
    " \n",
    "    # return the temp list.\n",
    "    return temp"
   ]
  },
  {
   "cell_type": "code",
   "execution_count": 13,
   "id": "4fd9b848",
   "metadata": {},
   "outputs": [
    {
     "data": {
      "text/plain": [
       "<__main__.SinglyLinkedList at 0x2def8ebe0d0>"
      ]
     },
     "execution_count": 13,
     "metadata": {},
     "output_type": "execute_result"
    }
   ],
   "source": [
    "l"
   ]
  },
  {
   "cell_type": "code",
   "execution_count": 14,
   "id": "eadaf2b1",
   "metadata": {},
   "outputs": [],
   "source": [
    "l2 = SinglyLinkedList()"
   ]
  },
  {
   "cell_type": "code",
   "execution_count": 19,
   "id": "c0a26592",
   "metadata": {},
   "outputs": [],
   "source": [
    "l2.insert_node(9)"
   ]
  },
  {
   "cell_type": "code",
   "execution_count": 22,
   "id": "dd5942b1",
   "metadata": {},
   "outputs": [
    {
     "data": {
      "text/plain": [
       "<__main__.SinglyLinkedListNode at 0x2def8ebe820>"
      ]
     },
     "execution_count": 22,
     "metadata": {},
     "output_type": "execute_result"
    }
   ],
   "source": [
    "mergeLists(l.head, l2.head)"
   ]
  },
  {
   "cell_type": "code",
   "execution_count": 26,
   "id": "ec7e28c1",
   "metadata": {},
   "outputs": [
    {
     "data": {
      "text/plain": [
       "1"
      ]
     },
     "execution_count": 26,
     "metadata": {},
     "output_type": "execute_result"
    }
   ],
   "source": [
    "l.head.data"
   ]
  },
  {
   "cell_type": "code",
   "execution_count": 27,
   "id": "70df0c1a",
   "metadata": {},
   "outputs": [],
   "source": [
    "\n",
    "#Using Dummy Nodes\n",
    "def mergeLists(head1, head2):\n",
    " \n",
    "    # A dummy node to store the result\n",
    "    dummyNode = SinglyLinkedListNode(0)\n",
    " \n",
    "    # Tail stores the last node\n",
    "    tail = dummyNode\n",
    "    while True:\n",
    " \n",
    "        # If any of the list gets completely empty\n",
    "        # directly join all the elements of the other list\n",
    "        if head1 is None:\n",
    "            tail.next = head2\n",
    "            break\n",
    "        if head2 is None:\n",
    "            tail.next = head1\n",
    "            break\n",
    " \n",
    "        # Compare the data of the lists and whichever is smaller is\n",
    "        # appended to the last of the merged list and the head is changed\n",
    "        if head1.data <= head2.data:\n",
    "            tail.next = head1\n",
    "            head1 = head1.next\n",
    "        else:\n",
    "            tail.next = head2\n",
    "            head2 = head2.next\n",
    " \n",
    "        # Advance the tail\n",
    "        tail = tail.next\n",
    " \n",
    "    # Returns the head of the merged list\n",
    "    return dummyNode.next"
   ]
  },
  {
   "cell_type": "markdown",
   "id": "9065c0e9",
   "metadata": {},
   "source": [
    "Reverse a linked list"
   ]
  },
  {
   "cell_type": "code",
   "execution_count": null,
   "id": "3d5b935e",
   "metadata": {},
   "outputs": [],
   "source": [
    "def reverseLLUsingStack(self, head):\n",
    "        \n",
    "        # Initialise the variables\n",
    "        stack, temp = [], head\n",
    "         \n",
    "        while temp:\n",
    "            stack.append(temp)\n",
    "            temp = temp.next\n",
    " \n",
    "        head = temp = stack.pop()\n",
    "         \n",
    "        # Untill stack is not\n",
    "        # empty\n",
    "        while len(stack) > 0:\n",
    "            elem = stack.pop()\n",
    "            temp.next = elem\n",
    "            temp = elem\n",
    " \n",
    "        elem.next = None\n",
    "        return head"
   ]
  },
  {
   "cell_type": "code",
   "execution_count": 77,
   "id": "576a1c30",
   "metadata": {},
   "outputs": [],
   "source": [
    "def matchingStrings(strings, queries):\n",
    "    # Write your code here\n",
    "    lista = []\n",
    "    \n",
    "    dic = {}\n",
    "    for i in queries:\n",
    "        dic[i] = 0\n",
    "    \n",
    "    for i in queries:\n",
    "        for i_ in strings:\n",
    "            if i == i_:\n",
    "                dic[i_] += 1            \n",
    "    \n",
    "    for i in dic:\n",
    "        lista.append(dic[i])\n",
    "    \n",
    "    return lista            "
   ]
  },
  {
   "cell_type": "code",
   "execution_count": 1,
   "id": "7e54e825",
   "metadata": {},
   "outputs": [],
   "source": [
    "def matchingStrings(strings, queries):\n",
    "    # Write your code here\n",
    "    lista = []\n",
    "    queries = set(queries)\n",
    "   \n",
    "    \n",
    "    for i in queries:\n",
    "        for i_ in strings:\n",
    "            if i == i_:\n",
    "                lista.append(i)\n",
    "    \n",
    "                \n",
    "    for i in queries:\n",
    "        if i not in lista:\n",
    "            lista.append(0)\n",
    "    \n",
    "    return lista            "
   ]
  },
  {
   "cell_type": "code",
   "execution_count": 14,
   "id": "f417f16a",
   "metadata": {},
   "outputs": [],
   "source": [
    "def matchingStrings(strings, queries):\n",
    "    # Write your code here\n",
    "    \n",
    "    lista = [0]*len(queries)\n",
    "    print(lista)\n",
    "    \n",
    "    for i,c in enumerate(queries):\n",
    "        for i_ in strings:\n",
    "            if c == i_:\n",
    "                lista[i] += 1\n",
    "    \n",
    "    return lista "
   ]
  },
  {
   "cell_type": "code",
   "execution_count": 17,
   "id": "67c09f5d",
   "metadata": {},
   "outputs": [
    {
     "name": "stdout",
     "output_type": "stream",
     "text": [
      "[0, 0, 0, 0, 0]\n"
     ]
    },
    {
     "data": {
      "text/plain": [
       "[2, 0, 1, 0, 0]"
      ]
     },
     "execution_count": 17,
     "metadata": {},
     "output_type": "execute_result"
    }
   ],
   "source": [
    "matchingStrings(['ab', 'ab', 'abc'], ['ab', 'bc', 'abc','bc','gv'])"
   ]
  },
  {
   "cell_type": "code",
   "execution_count": 20,
   "id": "4c4ededa",
   "metadata": {},
   "outputs": [
    {
     "name": "stdout",
     "output_type": "stream",
     "text": [
      "38 17 \n",
      "26 14 \n"
     ]
    }
   ],
   "source": [
    "matriz_a = [[1,7], [2,4]]\n",
    "matriz_b = [[3,3], [5,2]]\n",
    "mult = [[0, 0], [0, 0]]\n",
    "\n",
    "for i in range(0, 2):\n",
    "    for j in range(0, 2):\n",
    "        prod_esc = 0\n",
    "        for k in range(0, 2):\n",
    "            prod_esc += matriz_a[i][k] * matriz_b[k][j]\n",
    "        mult[i][j] = prod_esc\n",
    "\n",
    "for i in range(0, 2):\n",
    "    for j in range(0, 2):\n",
    "        print(f'{mult[i][j]} ', end='')\n",
    "    print()"
   ]
  },
  {
   "cell_type": "code",
   "execution_count": null,
   "id": "562f2ad3",
   "metadata": {},
   "outputs": [],
   "source": []
  }
 ],
 "metadata": {
  "kernelspec": {
   "display_name": "Python 3",
   "language": "python",
   "name": "python3"
  },
  "language_info": {
   "codemirror_mode": {
    "name": "ipython",
    "version": 3
   },
   "file_extension": ".py",
   "mimetype": "text/x-python",
   "name": "python",
   "nbconvert_exporter": "python",
   "pygments_lexer": "ipython3",
   "version": "3.8.8"
  }
 },
 "nbformat": 4,
 "nbformat_minor": 5
}
