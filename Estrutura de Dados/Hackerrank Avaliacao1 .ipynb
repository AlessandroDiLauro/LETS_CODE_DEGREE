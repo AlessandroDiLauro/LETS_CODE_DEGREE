{
 "cells": [
  {
   "cell_type": "markdown",
   "id": "116ed681",
   "metadata": {},
   "source": [
    "\n",
    "Birthday Cake Candles"
   ]
  },
  {
   "cell_type": "code",
   "execution_count": 1,
   "id": "a776872e",
   "metadata": {},
   "outputs": [],
   "source": [
    "can = [3,2,3,3]\n"
   ]
  },
  {
   "cell_type": "code",
   "execution_count": 2,
   "id": "df280532",
   "metadata": {},
   "outputs": [],
   "source": [
    "def birthdayCakeCandles(candles):\n",
    "    maximo = max(candles)\n",
    "    count = 0\n",
    "    for candle in candles:\n",
    "        if candle == maximo:\n",
    "            count += 1\n",
    "    return count        \n",
    "        "
   ]
  },
  {
   "cell_type": "code",
   "execution_count": 3,
   "id": "dd78c1c2",
   "metadata": {},
   "outputs": [
    {
     "data": {
      "text/plain": [
       "3"
      ]
     },
     "execution_count": 3,
     "metadata": {},
     "output_type": "execute_result"
    }
   ],
   "source": [
    "birthdayCakeCandles(can)"
   ]
  },
  {
   "cell_type": "markdown",
   "id": "0af4ae88",
   "metadata": {},
   "source": [
    "Staircase"
   ]
  },
  {
   "cell_type": "code",
   "execution_count": 4,
   "id": "1883e6f5",
   "metadata": {},
   "outputs": [],
   "source": [
    "def staircase(n):\n",
    "    for i in range(1, n + 1):\n",
    "        print(' ' * (n - i) + '#' * i)"
   ]
  },
  {
   "cell_type": "code",
   "execution_count": 5,
   "id": "66815d3e",
   "metadata": {},
   "outputs": [
    {
     "name": "stdout",
     "output_type": "stream",
     "text": [
      "   #\n",
      "  ##\n",
      " ###\n",
      "####\n"
     ]
    }
   ],
   "source": [
    "staircase(4)"
   ]
  },
  {
   "cell_type": "markdown",
   "id": "a4523402",
   "metadata": {},
   "source": [
    "Time Conversion"
   ]
  },
  {
   "cell_type": "code",
   "execution_count": 6,
   "id": "6d7fb3fe",
   "metadata": {},
   "outputs": [],
   "source": [
    "def timeConversion(s):\n",
    "    time = s.strip().split(\":\")\n",
    "    if s[-2:] == \"PM\":\n",
    "        if time[0] != \"12\":\n",
    "            time[0] = str(int(time[0])+12)\n",
    "    else:\n",
    "        if time[0] == \"12\":\n",
    "            time[0] = \"00\"\n",
    "    return str((':'.join(time))[:-2])\n",
    " \n",
    "   "
   ]
  },
  {
   "cell_type": "code",
   "execution_count": 7,
   "id": "43a9e02b",
   "metadata": {},
   "outputs": [],
   "source": [
    "time = '12:01:00AM'"
   ]
  },
  {
   "cell_type": "code",
   "execution_count": 8,
   "id": "6b4f1edd",
   "metadata": {},
   "outputs": [
    {
     "data": {
      "text/plain": [
       "'00:01:00'"
      ]
     },
     "execution_count": 8,
     "metadata": {},
     "output_type": "execute_result"
    }
   ],
   "source": [
    "timeConversion(time)"
   ]
  },
  {
   "cell_type": "code",
   "execution_count": 9,
   "id": "3f6dd6ca",
   "metadata": {},
   "outputs": [],
   "source": [
    "def timeConversion(s):\n",
    "    is_pm = 'PM' in s\n",
    "    time_list = list(map(int, s[:-2].split(':')))\n",
    "    print(time_list)\n",
    "    if is_pm and time_list[0] < 12:\n",
    "        time_list[0] += 12\n",
    "\n",
    "    if not is_pm and time_list[0] == 12:\n",
    "        time_list[0] = 0\n",
    "\n",
    "    print(':'.join(map(lambda x: str(x).rjust(2, '0'), time_list)))\n",
    "    \n",
    "    "
   ]
  },
  {
   "cell_type": "code",
   "execution_count": 10,
   "id": "2e582068",
   "metadata": {},
   "outputs": [
    {
     "name": "stdout",
     "output_type": "stream",
     "text": [
      "[12, 1, 0]\n",
      "00:01:00\n"
     ]
    }
   ],
   "source": [
    "timeConversion(time)"
   ]
  },
  {
   "cell_type": "code",
   "execution_count": null,
   "id": "8fe9ef75",
   "metadata": {},
   "outputs": [],
   "source": []
  }
 ],
 "metadata": {
  "kernelspec": {
   "display_name": "Python 3",
   "language": "python",
   "name": "python3"
  },
  "language_info": {
   "codemirror_mode": {
    "name": "ipython",
    "version": 3
   },
   "file_extension": ".py",
   "mimetype": "text/x-python",
   "name": "python",
   "nbconvert_exporter": "python",
   "pygments_lexer": "ipython3",
   "version": "3.8.8"
  }
 },
 "nbformat": 4,
 "nbformat_minor": 5
}
