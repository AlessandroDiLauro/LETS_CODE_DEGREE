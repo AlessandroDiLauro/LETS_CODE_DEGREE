{
 "cells": [
  {
   "cell_type": "code",
   "execution_count": 16,
   "id": "c6593e37",
   "metadata": {},
   "outputs": [
    {
     "name": "stdout",
     "output_type": "stream",
     "text": [
      "São parentes.\n"
     ]
    }
   ],
   "source": [
    "class Pilha:\n",
    "    \"\"\"permite a criação de uma pilha\"\"\"\n",
    "\n",
    "    def __init__(self):\n",
    "        self.itens = []\n",
    "\n",
    "    def __repr__(self):\n",
    "        return str(self.itens)\n",
    "\n",
    "    def empilha(self, valor):\n",
    "        \"\"\" adiciona itens a pilha \"\"\"\n",
    "\n",
    "        self.itens.append(valor)\n",
    "\n",
    "    def desempilha(self):\n",
    "        assert self.itens, \"Erro: pilha vazia.\"\n",
    "\n",
    "        # modifica o valor do topo\n",
    "        return self.itens.pop()\n",
    "\n",
    "    def busca(self, alvo):\n",
    "        \"\"\" busca por um alvo na pilha \"\"\"\n",
    "\n",
    "        # enquanto houver itens na pilha\n",
    "        while self.itens:\n",
    "\n",
    "            # desempilhe o último item\n",
    "            atual = self.desempilha()\n",
    "\n",
    "            # verifique se corresponde ao alvo\n",
    "            if atual == alvo:\n",
    "                return True  # se sim, retorne verdade\n",
    "            else:\n",
    "                continue  # se nao, reinicie o laço while\n",
    "\n",
    "        return False  # caso os itens na pilha acabem, retorne falso\n",
    "\n",
    "\n",
    "\n",
    "    # cria um novo objeto do tipo Pilha\n",
    "familia = Pilha()\n",
    "\n",
    "    # adicionando membros da família\n",
    "familia.empilha(\"Miguel Silva de Castro\")\n",
    "familia.empilha(\"José de Castro\")\n",
    "familia.empilha(\"Eugênio de Castro\")\n",
    "familia.empilha(\"Pedro Paulo de Castro\")\n",
    "\n",
    "    # sabemos que são primos, mas queremos testar se o sistema os encontra\n",
    "alvo = \"José de Castro\"\n",
    "\n",
    "parentes = familia.busca(alvo)\n",
    "\n",
    "if parentes:\n",
    "    print(\"São parentes.\")\n",
    "else:\n",
    "    print(\"Não são parentes.\")\n",
    "\n",
    "\n",
    "\n",
    "\n"
   ]
  },
  {
   "cell_type": "code",
   "execution_count": 17,
   "id": "07ed47c7",
   "metadata": {},
   "outputs": [
    {
     "data": {
      "text/plain": [
       "'Miguel Silva de Castro'"
      ]
     },
     "execution_count": 17,
     "metadata": {},
     "output_type": "execute_result"
    }
   ],
   "source": [
    "familia.itens[0]"
   ]
  },
  {
   "cell_type": "code",
   "execution_count": 18,
   "id": "fd3e471d",
   "metadata": {},
   "outputs": [],
   "source": [
    "familia = Pilha()\n",
    "\n",
    "    # adicionando membros da família\n",
    "familia.empilha(\"Miguel Silva de Castro\")\n",
    "familia.empilha(\"José de Castro\")\n",
    "familia.empilha(\"Eugênio de Castro\")\n",
    "familia.empilha(\"Pedro Paulo de Castro\")"
   ]
  },
  {
   "cell_type": "code",
   "execution_count": 19,
   "id": "76953e98",
   "metadata": {},
   "outputs": [
    {
     "data": {
      "text/plain": [
       "'Pedro Paulo de Castro'"
      ]
     },
     "execution_count": 19,
     "metadata": {},
     "output_type": "execute_result"
    }
   ],
   "source": [
    "familia.desempilha()"
   ]
  },
  {
   "cell_type": "code",
   "execution_count": 20,
   "id": "7d0ce649",
   "metadata": {},
   "outputs": [
    {
     "data": {
      "text/plain": [
       "['Miguel Silva de Castro', 'José de Castro', 'Eugênio de Castro']"
      ]
     },
     "execution_count": 20,
     "metadata": {},
     "output_type": "execute_result"
    }
   ],
   "source": [
    "familia"
   ]
  },
  {
   "cell_type": "code",
   "execution_count": 21,
   "id": "3f38c1c8",
   "metadata": {},
   "outputs": [
    {
     "name": "stdout",
     "output_type": "stream",
     "text": [
      "deque(['abacate', 'bola', 'cachorro'])\n",
      "deque(['abacate', 'bola', 'cachorro', 'dado'])\n",
      "deque(['bola', 'cachorro', 'dado'])\n"
     ]
    }
   ],
   "source": [
    "from collections import deque\n",
    "\n",
    "# usa deque para criar uma fila\n",
    "fila = deque([\"abacate\", \"bola\", \"cachorro\"])\n",
    "print(fila)  # deque(['abacate', 'bola', 'cachorro'])\n",
    "\n",
    "# adicionando um novo elemento\n",
    "fila.append(\"dado\") \n",
    "print(fila)  # deque(['abacate', 'bola', 'cachorro', 'dado'])\n",
    "\n",
    "# Remove o primeiro elemento adicionado à fila.\n",
    "fila.popleft()\n",
    "print(fila)  # deque(['bola', 'cachorro', 'dado'])\n"
   ]
  },
  {
   "cell_type": "code",
   "execution_count": 22,
   "id": "3c688778",
   "metadata": {},
   "outputs": [],
   "source": [
    "class Item:\n",
    "    \n",
    "    def __init__(self, valor=None, anterior=None):\n",
    "        self.valor = valor\n",
    "        self.anterior = anterior\n",
    "    def __repr__(self):\n",
    "        return \"%s\\n%s\"% (self.valor, self.anterior)\n",
    "\n",
    "class Pilha:\n",
    "  \n",
    "    def __init__(self):\n",
    "        self.topo = None\n",
    "    def __repr__(self):\n",
    "        return \"TOPO\\n%s\\nRODAPÉ\" % (self.topo)\n",
    "    \n",
    "    def push (self, valor):\n",
    "    # Cria um novo objeto Item\n",
    "        item_novo = Item(valor)\n",
    "    # o anterior passa a ser o antigo topo\n",
    "        item_novo.anterior = self.topo\n",
    "    # o topo da pilha passa a ser o item novo\n",
    "        self.topo = item_novo\n",
    "        \n",
    "    def pop (self):\n",
    "        assert self.topo, \"Erro: pilha vazia.\"\n",
    "    # modifica o valor do topo\n",
    "        self.topo = self.topo.anterior    \n",
    "\n"
   ]
  },
  {
   "cell_type": "code",
   "execution_count": 23,
   "id": "55200a6f",
   "metadata": {},
   "outputs": [],
   "source": [
    "def main():\n",
    "  # cria um novo objeto do tipo Pilha\n",
    "    pilha = Pilha()\n",
    "  # Vamos inserir alguns valores\n",
    "    pilha.push('a')\n",
    "    pilha.push('b')\n",
    "    pilha.push('c')\n",
    "    pilha.push('d')\n",
    "    print(pilha)"
   ]
  },
  {
   "cell_type": "code",
   "execution_count": 24,
   "id": "111174b1",
   "metadata": {},
   "outputs": [
    {
     "name": "stdout",
     "output_type": "stream",
     "text": [
      "TOPO\n",
      "d\n",
      "c\n",
      "b\n",
      "a\n",
      "None\n",
      "RODAPÉ\n"
     ]
    }
   ],
   "source": [
    "main()"
   ]
  },
  {
   "cell_type": "code",
   "execution_count": 25,
   "id": "be824abc",
   "metadata": {},
   "outputs": [],
   "source": [
    "class Item:\n",
    "    def __init__(self, node, next_ = None):\n",
    "        self.data = node\n",
    "        self.next = next_\n",
    "    \n",
    "    def __repr__(self):\n",
    "        return \"%s, %s\" % (self.data, self.next)\n",
    "    \n",
    "class Fifo:\n",
    "    def __init__(self):\n",
    "        self.head = None\n",
    "        self.tail = None\n",
    "        \n",
    "    def __repr__(self):\n",
    "        return str(self.head)\n",
    "    \n",
    "    \n",
    "    def push(self, new):\n",
    "        \n",
    "        new_node = Item(new)\n",
    "        \n",
    "        if self.head:\n",
    "            self.tail.next = new_node\n",
    "            self.tail = new_node\n",
    "            \n",
    "        else:\n",
    "            self.head = new_node\n",
    "            self.tail = new_node\n",
    "            \n",
    "    def pop(self):\n",
    "        \n",
    "        self.head = self.head.next\n",
    "        \n",
    "        \n",
    "def main():\n",
    "    \"\"\" função principal \"\"\"\n",
    "    # instancia uma nova fila\n",
    "    fila = Fifo()\n",
    "\n",
    "    # adicionando itens\n",
    "    fila.push(3)\n",
    "    fila.push(2)\n",
    "    fila.push(1)\n",
    "    \n",
    "    \n",
    "\n",
    "    print(fila)  # 1, 2, 3, None\n",
    "\n",
    "    # removendo itens\n",
    "    fila.pop()\n",
    "    print(fila)  # 2, 3, None\n",
    "\n",
    "    fila.pop()\n",
    "    print(fila)  # 3, None           \n",
    "    \n",
    "    \n"
   ]
  },
  {
   "cell_type": "code",
   "execution_count": 26,
   "id": "65207241",
   "metadata": {},
   "outputs": [
    {
     "name": "stdout",
     "output_type": "stream",
     "text": [
      "3, 2, 1, None\n",
      "2, 1, None\n",
      "1, None\n"
     ]
    }
   ],
   "source": [
    "if __name__ == \"__main__\":\n",
    "    main()"
   ]
  },
  {
   "cell_type": "code",
   "execution_count": 27,
   "id": "81c75bd7",
   "metadata": {},
   "outputs": [
    {
     "name": "stdout",
     "output_type": "stream",
     "text": [
      "1, 2, 3, None\n",
      "2, 3, None\n",
      "3, None\n",
      "None\n"
     ]
    }
   ],
   "source": [
    "class Item:\n",
    "    \"\"\" insere um item em uma lista \"\"\"\n",
    "\n",
    "    def __init__(self, valor=None, proximo=None):\n",
    "        self.valor = valor\n",
    "        self.proximo = proximo\n",
    "\n",
    "    def __repr__(self):\n",
    "        return \"%s, %s\" % (self.valor, self.proximo)\n",
    "\n",
    "\n",
    "class Fila:\n",
    "    \"\"\" Constroi uma fila usando listas encadeadas \"\"\"\n",
    "\n",
    "    def __init__(self):\n",
    "        self.primeiro = None\n",
    "        self.ultimo = None\n",
    "\n",
    "    def __repr__(self):\n",
    "        return str(self.primeiro)\n",
    "\n",
    "    def push(self, valor):\n",
    "        \"\"\" adiciona itens a fila \"\"\"\n",
    "        item = Item(valor)\n",
    "\n",
    "        # verifica se existe um item na lista\n",
    "        if self.primeiro:\n",
    "            # o valor proximo do ultimo item atual recebe o valor atual de item\n",
    "            self.ultimo.proximo = item\n",
    "            self.ultimo = item  # a seguir todo objeto item recebe o item atual\n",
    "        # se a lista estiver vazia, então:\n",
    "        else:\n",
    "            self.primeiro = item  # o item atual se torna o primeiro item\n",
    "            self.ultimo = item  # o item atual também se torna o último item\n",
    "\n",
    "    def pop(self):\n",
    "        \"\"\" remove itens da fila \"\"\"\n",
    "\n",
    "        self.primeiro = self.primeiro.proximo\n",
    "\n",
    "\n",
    "def main():\n",
    "    \"\"\" função principal \"\"\"\n",
    "    # instancia uma nova fila\n",
    "    fila = Fila()\n",
    "\n",
    "    # adicionando itens\n",
    "    fila.push(1)\n",
    "    fila.push(2)\n",
    "    fila.push(3)\n",
    "\n",
    "    print(fila)  # 1, 2, 3, None\n",
    "\n",
    "    # removendo itens\n",
    "    fila.pop()\n",
    "    print(fila)  # 2, 3, None\n",
    "\n",
    "    fila.pop()\n",
    "    print(fila)  # 3, None\n",
    "    \n",
    "    fila.pop()\n",
    "    print(fila) \n",
    "\n",
    "\n",
    "# executa a função principal\n",
    "if __name__ == \"__main__\":\n",
    "    main()"
   ]
  }
 ],
 "metadata": {
  "kernelspec": {
   "display_name": "Python 3",
   "language": "python",
   "name": "python3"
  },
  "language_info": {
   "codemirror_mode": {
    "name": "ipython",
    "version": 3
   },
   "file_extension": ".py",
   "mimetype": "text/x-python",
   "name": "python",
   "nbconvert_exporter": "python",
   "pygments_lexer": "ipython3",
   "version": "3.8.8"
  }
 },
 "nbformat": 4,
 "nbformat_minor": 5
}
