{
 "cells": [
  {
   "cell_type": "markdown",
   "id": "ba734d3d",
   "metadata": {},
   "source": [
    "GRAFOS"
   ]
  },
  {
   "cell_type": "code",
   "execution_count": 20,
   "id": "61e88e1a",
   "metadata": {},
   "outputs": [],
   "source": [
    "myDict = { k:[] for k in range(0,9)}"
   ]
  },
  {
   "cell_type": "code",
   "execution_count": 21,
   "id": "372fe90d",
   "metadata": {},
   "outputs": [
    {
     "data": {
      "text/plain": [
       "{0: [], 1: [], 2: [], 3: [], 4: [], 5: [], 6: [], 7: [], 8: []}"
      ]
     },
     "execution_count": 21,
     "metadata": {},
     "output_type": "execute_result"
    }
   ],
   "source": [
    "myDict"
   ]
  },
  {
   "cell_type": "code",
   "execution_count": 22,
   "id": "84c53764",
   "metadata": {},
   "outputs": [],
   "source": [
    "myDict[3].append(2)"
   ]
  },
  {
   "cell_type": "code",
   "execution_count": 23,
   "id": "63e53acd",
   "metadata": {},
   "outputs": [
    {
     "name": "stdout",
     "output_type": "stream",
     "text": [
      "Grafo1 :\n",
      " {0: [1, 4], 1: [5, 7], 2: [3], 3: [], 4: [2], 5: [6], 6: [], 7: [8], 8: [], 9: [], 10: [11], 11: []}\n",
      "\n",
      "Grafo2 :\n",
      " {0: [1], 1: [2], 2: [], 3: [4], 4: [3], 5: [6], 6: [8], 7: [9], 8: [], 9: [10], 10: []}\n",
      "\n",
      "Grafo3 :\n",
      " {0: [1], 1: [2], 2: [], 3: [4], 4: [3], 5: [6], 6: [8], 7: [9], 8: [], 9: [10], 10: []}\n",
      "\n"
     ]
    }
   ],
   "source": [
    "with open('input-exe-2-grafos.txt','r') as f:\n",
    "    quantidade = int(f.readline())\n",
    "    rep = 1\n",
    "    lista_grafos = []\n",
    "    \n",
    "\n",
    "    while rep <= quantidade:\n",
    "        \n",
    "        vert_edge = f.readline().strip().split(' ')\n",
    "        \n",
    "        verts = int(vert_edge[0])\n",
    "        edges = int(vert_edge[1])\n",
    "    \n",
    "        grafo = {k:[] for k in range(0,verts)}\n",
    "        \n",
    "        i = 1\n",
    "        \n",
    "        while i <= edges:\n",
    "            vert_edge = f.readline().strip().split(' ')\n",
    "            vert = int(vert_edge[0])\n",
    "            edge = int(vert_edge[1])\n",
    "                 \n",
    "            grafo[vert].append(edge)    \n",
    "            \n",
    "            i+= 1\n",
    "        \n",
    "        lista_grafos.append(grafo)\n",
    "        rep += 1\n",
    "        grafo = {}\n",
    "        \n",
    "\n",
    "for i,c in enumerate(lista_grafos):\n",
    "    print(f'Grafo{i+1} :\\n {c}')\n",
    "    print()\n",
    "       "
   ]
  },
  {
   "cell_type": "markdown",
   "id": "ea99efc5",
   "metadata": {},
   "source": [
    "Matriz de Adjacências"
   ]
  },
  {
   "cell_type": "code",
   "execution_count": 24,
   "id": "594a2647",
   "metadata": {
    "scrolled": true
   },
   "outputs": [
    {
     "data": {
      "text/plain": [
       "[{0: [1, 4],\n",
       "  1: [5, 7],\n",
       "  2: [3],\n",
       "  3: [],\n",
       "  4: [2],\n",
       "  5: [6],\n",
       "  6: [],\n",
       "  7: [8],\n",
       "  8: [],\n",
       "  9: [],\n",
       "  10: [11],\n",
       "  11: []},\n",
       " {0: [1],\n",
       "  1: [2],\n",
       "  2: [],\n",
       "  3: [4],\n",
       "  4: [3],\n",
       "  5: [6],\n",
       "  6: [8],\n",
       "  7: [9],\n",
       "  8: [],\n",
       "  9: [10],\n",
       "  10: []},\n",
       " {0: [1],\n",
       "  1: [2],\n",
       "  2: [],\n",
       "  3: [4],\n",
       "  4: [3],\n",
       "  5: [6],\n",
       "  6: [8],\n",
       "  7: [9],\n",
       "  8: [],\n",
       "  9: [10],\n",
       "  10: []}]"
      ]
     },
     "execution_count": 24,
     "metadata": {},
     "output_type": "execute_result"
    }
   ],
   "source": [
    "lista_grafos"
   ]
  },
  {
   "cell_type": "code",
   "execution_count": 25,
   "id": "ed12fec0",
   "metadata": {},
   "outputs": [
    {
     "data": {
      "text/plain": [
       "{}"
      ]
     },
     "execution_count": 25,
     "metadata": {},
     "output_type": "execute_result"
    }
   ],
   "source": [
    "grafo"
   ]
  },
  {
   "cell_type": "code",
   "execution_count": 26,
   "id": "87edb897",
   "metadata": {},
   "outputs": [
    {
     "data": {
      "text/plain": [
       "[]"
      ]
     },
     "execution_count": 26,
     "metadata": {},
     "output_type": "execute_result"
    }
   ],
   "source": [
    "# lets create a matrix out of the graph above\n",
    "matrix_elements = sorted(grafo.keys()) \n",
    "cols = rows = len(matrix_elements)\n",
    "\n",
    "# create an empty matrix with the size of the graph\n",
    "adjacency_matrix = [[0 for x in range(rows)] for y in range(cols)]\n",
    "adjacency_matrix"
   ]
  },
  {
   "cell_type": "code",
   "execution_count": 27,
   "id": "5472a740",
   "metadata": {},
   "outputs": [],
   "source": [
    "grafo = myDict\n"
   ]
  },
  {
   "cell_type": "code",
   "execution_count": 28,
   "id": "0f3b678f",
   "metadata": {},
   "outputs": [
    {
     "data": {
      "text/plain": [
       "[]"
      ]
     },
     "execution_count": 28,
     "metadata": {},
     "output_type": "execute_result"
    }
   ],
   "source": [
    "edges_list = []\n",
    "for key in matrix_elements: \n",
    "    for neighbor in grafo[key]: \n",
    "        edges_list.append((key, neighbor))\n",
    "edges_list"
   ]
  },
  {
   "cell_type": "code",
   "execution_count": 29,
   "id": "390bd26b",
   "metadata": {},
   "outputs": [
    {
     "data": {
      "text/plain": [
       "[]"
      ]
     },
     "execution_count": 29,
     "metadata": {},
     "output_type": "execute_result"
    }
   ],
   "source": [
    "for edge in edges_list:     \n",
    "    index_of_first_vertex = matrix_elements.index(edge[0]) \n",
    "    index_of_second_vertex = matrix_elements.index(edge[1]) \n",
    "    adjacency_matrix[index_of_first_vertex][index_of_second_vertex] = 1 \n",
    "adjacency_matrix"
   ]
  },
  {
   "cell_type": "code",
   "execution_count": 30,
   "id": "a949bf24",
   "metadata": {},
   "outputs": [
    {
     "data": {
      "text/plain": [
       "{0: [], 1: [], 2: [], 3: [2], 4: [], 5: [], 6: [], 7: [], 8: []}"
      ]
     },
     "execution_count": 30,
     "metadata": {},
     "output_type": "execute_result"
    }
   ],
   "source": [
    "grafo"
   ]
  },
  {
   "cell_type": "markdown",
   "id": "e6e67d98",
   "metadata": {},
   "source": [
    "Matriz de Adjacências POO"
   ]
  },
  {
   "cell_type": "code",
   "execution_count": 31,
   "id": "9e544d9c",
   "metadata": {},
   "outputs": [],
   "source": [
    "class GraphAM:\n",
    "    def __init__(self, n):\n",
    "        self.adj = [[0]* n for _ in range(n)]\n",
    "\n",
    "    def __repr__(self):\n",
    "        return str('\\n'.join([str(line) for line in self.adj]))\n",
    "\n",
    "    def add_arrow(self, a, b, weight=1):\n",
    "        self.adj[a][b] = weight\n",
    "\n",
    "    def add_edge(self, a, b, weight=1):\n",
    "        self.add_arrow(a, b, weight)\n",
    "        self.add_arrow(b, a, weight)\n",
    "\n",
    "    def remove_arrow(self, a, b):\n",
    "        self.adj[a][b] = 0\n",
    "\n",
    "    def remove_edge(self, a, b):\n",
    "        self.remove_arrow(a, b)\n",
    "        self.remove_arrow(b, a)\n",
    "\n",
    "    def get_neighbors(self, a, get_weights=False):\n",
    "        if get_weights:\n",
    "            return [(i, v) for i, v in enumerate(self.adj[a]) if v]\n",
    "        return [i for i, v in enumerate(self.adj[a]) if v]\n",
    "\n",
    "    def __len__(self):\n",
    "        return len(self.adj)\n",
    "    def __len__(self):\n",
    "        return len(self.adj)"
   ]
  },
  {
   "cell_type": "code",
   "execution_count": 32,
   "id": "4ceb365b",
   "metadata": {},
   "outputs": [],
   "source": [
    "g =  GraphAM(4)"
   ]
  },
  {
   "cell_type": "code",
   "execution_count": 33,
   "id": "a8cdf239",
   "metadata": {},
   "outputs": [
    {
     "data": {
      "text/plain": [
       "[0, 0, 0, 0]\n",
       "[0, 0, 0, 0]\n",
       "[0, 0, 0, 0]\n",
       "[0, 0, 0, 0]"
      ]
     },
     "execution_count": 33,
     "metadata": {},
     "output_type": "execute_result"
    }
   ],
   "source": [
    "g"
   ]
  },
  {
   "cell_type": "code",
   "execution_count": 34,
   "id": "2b257734",
   "metadata": {},
   "outputs": [
    {
     "data": {
      "text/plain": [
       "[0, 0, 0, 0]\n",
       "[0, 0, 0, 0]\n",
       "[0, 0, 0, 0]\n",
       "[0, 0, 0, 0]"
      ]
     },
     "execution_count": 34,
     "metadata": {},
     "output_type": "execute_result"
    }
   ],
   "source": [
    "g"
   ]
  },
  {
   "cell_type": "code",
   "execution_count": 35,
   "id": "fdf00f13",
   "metadata": {},
   "outputs": [],
   "source": [
    "g.add_arrow(0,3)"
   ]
  },
  {
   "cell_type": "code",
   "execution_count": 36,
   "id": "d6edd6b5",
   "metadata": {},
   "outputs": [],
   "source": [
    "g.remove_arrow(0, 3)"
   ]
  },
  {
   "cell_type": "code",
   "execution_count": 37,
   "id": "78321c04",
   "metadata": {},
   "outputs": [
    {
     "name": "stdout",
     "output_type": "stream",
     "text": [
      "Grafo1 :\n",
      "[0, 1, 0, 0, 1, 0, 0, 0, 0, 0, 0, 0]\n",
      "[1, 0, 0, 0, 0, 1, 0, 1, 0, 0, 0, 0]\n",
      "[0, 0, 0, 1, 1, 0, 0, 0, 0, 0, 0, 0]\n",
      "[0, 0, 1, 0, 0, 0, 0, 0, 0, 0, 0, 0]\n",
      "[1, 0, 1, 0, 0, 0, 0, 0, 0, 0, 0, 0]\n",
      "[0, 1, 0, 0, 0, 0, 1, 0, 0, 0, 0, 0]\n",
      "[0, 0, 0, 0, 0, 1, 0, 0, 0, 0, 0, 0]\n",
      "[0, 1, 0, 0, 0, 0, 0, 0, 1, 0, 0, 0]\n",
      "[0, 0, 0, 0, 0, 0, 0, 1, 0, 0, 0, 0]\n",
      "[0, 0, 0, 0, 0, 0, 0, 0, 0, 0, 0, 0]\n",
      "[0, 0, 0, 0, 0, 0, 0, 0, 0, 0, 0, 1]\n",
      "[0, 0, 0, 0, 0, 0, 0, 0, 0, 0, 1, 0]\n",
      "\n",
      "Grafo2 :\n",
      "[0, 1, 0, 0, 0, 0, 0, 0, 0, 0, 0]\n",
      "[1, 0, 1, 0, 0, 0, 0, 0, 0, 0, 0]\n",
      "[0, 1, 0, 0, 0, 0, 0, 0, 0, 0, 0]\n",
      "[0, 0, 0, 0, 1, 0, 0, 0, 0, 0, 0]\n",
      "[0, 0, 0, 1, 0, 0, 0, 0, 0, 0, 0]\n",
      "[0, 0, 0, 0, 0, 0, 1, 0, 0, 0, 0]\n",
      "[0, 0, 0, 0, 0, 1, 0, 0, 1, 0, 0]\n",
      "[0, 0, 0, 0, 0, 0, 0, 0, 0, 1, 0]\n",
      "[0, 0, 0, 0, 0, 0, 1, 0, 0, 0, 0]\n",
      "[0, 0, 0, 0, 0, 0, 0, 1, 0, 0, 1]\n",
      "[0, 0, 0, 0, 0, 0, 0, 0, 0, 1, 0]\n",
      "\n",
      "Grafo3 :\n",
      "[0, 1, 0, 0, 0, 0, 0, 0, 0, 0, 0]\n",
      "[1, 0, 1, 0, 0, 0, 0, 0, 0, 0, 0]\n",
      "[0, 1, 0, 0, 0, 0, 0, 0, 0, 0, 0]\n",
      "[0, 0, 0, 0, 1, 0, 0, 0, 0, 0, 0]\n",
      "[0, 0, 0, 1, 0, 0, 0, 0, 0, 0, 0]\n",
      "[0, 0, 0, 0, 0, 0, 1, 0, 0, 0, 0]\n",
      "[0, 0, 0, 0, 0, 1, 0, 0, 1, 0, 0]\n",
      "[0, 0, 0, 0, 0, 0, 0, 0, 0, 1, 0]\n",
      "[0, 0, 0, 0, 0, 0, 1, 0, 0, 0, 0]\n",
      "[0, 0, 0, 0, 0, 0, 0, 1, 0, 0, 1]\n",
      "[0, 0, 0, 0, 0, 0, 0, 0, 0, 1, 0]\n",
      "\n"
     ]
    }
   ],
   "source": [
    "with open('input-exe-2-grafos.txt','r') as f:\n",
    "    quantidade = int(f.readline())\n",
    "    rep = 1\n",
    "    lista_grafos = []\n",
    "    \n",
    "\n",
    "    while rep <= quantidade:\n",
    "        \n",
    "        vert_edge = f.readline().strip().split(' ')\n",
    "        \n",
    "        verts = int(vert_edge[0])\n",
    "        edges = int(vert_edge[1])\n",
    "    \n",
    "        grafo = GraphAM(verts)\n",
    "        \n",
    "        i = 1\n",
    "        \n",
    "        while i <= edges:\n",
    "            vert_edge = f.readline().strip().split(' ')\n",
    "            vert = int(vert_edge[0])\n",
    "            edge = int(vert_edge[1])\n",
    "                 \n",
    "            grafo.add_edge(vert,edge)    \n",
    "            \n",
    "            i+= 1\n",
    "        \n",
    "        lista_grafos.append(grafo)\n",
    "        rep += 1\n",
    "        grafo = {}\n",
    "\n",
    "        \n",
    "for i,c in enumerate(lista_grafos):\n",
    "    print(f'Grafo{i+1} :\\n{c}')\n",
    "    print()        \n",
    "    "
   ]
  },
  {
   "cell_type": "code",
   "execution_count": 38,
   "id": "9de2113c",
   "metadata": {},
   "outputs": [
    {
     "data": {
      "text/plain": [
       "12"
      ]
     },
     "execution_count": 38,
     "metadata": {},
     "output_type": "execute_result"
    }
   ],
   "source": [
    "lista_grafos[0].__len__()"
   ]
  },
  {
   "cell_type": "code",
   "execution_count": 39,
   "id": "a2d2620b",
   "metadata": {},
   "outputs": [
    {
     "name": "stdout",
     "output_type": "stream",
     "text": [
      "[0, 1, 0, 1, 0, 0, 0, 0]\n",
      "[1, 0, 1, 0, 0, 0, 0, 0]\n",
      "[0, 1, 0, 0, 0, 0, 0, 0]\n",
      "[1, 0, 0, 0, 1, 1, 0, 0]\n",
      "[0, 0, 0, 1, 0, 1, 0, 1]\n",
      "[0, 0, 0, 1, 1, 0, 1, 1]\n",
      "[0, 0, 0, 0, 0, 1, 0, 1]\n",
      "[0, 0, 0, 0, 1, 1, 1, 0]\n"
     ]
    }
   ],
   "source": [
    "g = GraphAM(8)\n",
    "g.add_edge(0, 1)\n",
    "g.add_edge(0, 3)\n",
    "g.add_edge(1, 2)\n",
    "g.add_edge(3, 4)\n",
    "g.add_edge(3, 5)\n",
    "g.add_edge(4, 5)\n",
    "g.add_edge(4, 7)\n",
    "g.add_edge(5, 6)\n",
    "g.add_edge(5, 7)\n",
    "g.add_edge(6, 7)\n",
    "print(g)"
   ]
  },
  {
   "cell_type": "code",
   "execution_count": 40,
   "id": "f99b76cd",
   "metadata": {},
   "outputs": [
    {
     "data": {
      "text/plain": [
       "[0, 1, 0, 1, 0, 0, 0, 0]\n",
       "[1, 0, 1, 0, 0, 0, 0, 0]\n",
       "[0, 1, 0, 0, 0, 0, 0, 0]\n",
       "[1, 0, 0, 0, 1, 1, 0, 0]\n",
       "[0, 0, 0, 1, 0, 1, 0, 1]\n",
       "[0, 0, 0, 1, 1, 0, 1, 1]\n",
       "[0, 0, 0, 0, 0, 1, 0, 1]\n",
       "[0, 0, 0, 0, 1, 1, 1, 0]"
      ]
     },
     "execution_count": 40,
     "metadata": {},
     "output_type": "execute_result"
    }
   ],
   "source": [
    "g"
   ]
  },
  {
   "cell_type": "code",
   "execution_count": 41,
   "id": "ea5a3ca7",
   "metadata": {},
   "outputs": [
    {
     "data": {
      "text/plain": [
       "[0, 4, 5]"
      ]
     },
     "execution_count": 41,
     "metadata": {},
     "output_type": "execute_result"
    }
   ],
   "source": [
    "g.get_neighbors(3)"
   ]
  },
  {
   "cell_type": "code",
   "execution_count": 42,
   "id": "ba686b16",
   "metadata": {},
   "outputs": [],
   "source": [
    "g.add_edge(3,1,5)"
   ]
  },
  {
   "cell_type": "code",
   "execution_count": 43,
   "id": "37910d05",
   "metadata": {},
   "outputs": [
    {
     "name": "stdout",
     "output_type": "stream",
     "text": [
      "visitei 3\n",
      "visitei 0\n",
      "visitei 1\n",
      "visitei 2\n",
      "visitei 4\n",
      "visitei 5\n",
      "visitei 6\n",
      "visitei 7\n",
      "\n",
      "visitei 2\n",
      "visitei 1\n",
      "visitei 0\n",
      "visitei 3\n",
      "visitei 4\n",
      "visitei 5\n",
      "visitei 6\n",
      "visitei 7\n"
     ]
    }
   ],
   "source": [
    "def dfs(g, a, visited=None):\n",
    "    if visited is None:\n",
    "        visited = [0] * len(g)\n",
    "    print(f\"visitei {a}\")\n",
    "    visited[a] = 1\n",
    "    for v in g.get_neighbors(a):\n",
    "        if not visited[v]:\n",
    "            dfs(g, v, visited)\n",
    "    return\n",
    "dfs(g, 3)\n",
    "# 4: [4, 3, 0, 1, 2, 5, 6, 7]\n",
    "print()\n",
    "dfs(g, 2)"
   ]
  },
  {
   "cell_type": "code",
   "execution_count": 44,
   "id": "f1f63af6",
   "metadata": {},
   "outputs": [],
   "source": [
    "g.remove_edge(0,3)"
   ]
  },
  {
   "cell_type": "code",
   "execution_count": 64,
   "id": "8baa0129",
   "metadata": {},
   "outputs": [
    {
     "data": {
      "text/plain": [
       "[0, 1, 0, 0, 0, 0, 0, 0]\n",
       "[1, 0, 1, 5, 0, 0, 0, 0]\n",
       "[0, 1, 0, 0, 0, 0, 0, 0]\n",
       "[0, 5, 0, 0, 1, 1, 0, 0]\n",
       "[0, 0, 0, 1, 0, 1, 0, 1]\n",
       "[0, 0, 0, 1, 1, 0, 1, 1]\n",
       "[0, 0, 0, 0, 0, 1, 0, 1]\n",
       "[0, 0, 0, 0, 1, 1, 1, 0]"
      ]
     },
     "execution_count": 64,
     "metadata": {},
     "output_type": "execute_result"
    }
   ],
   "source": [
    "g"
   ]
  }
 ],
 "metadata": {
  "kernelspec": {
   "display_name": "Python 3",
   "language": "python",
   "name": "python3"
  },
  "language_info": {
   "codemirror_mode": {
    "name": "ipython",
    "version": 3
   },
   "file_extension": ".py",
   "mimetype": "text/x-python",
   "name": "python",
   "nbconvert_exporter": "python",
   "pygments_lexer": "ipython3",
   "version": "3.8.8"
  }
 },
 "nbformat": 4,
 "nbformat_minor": 5
}
