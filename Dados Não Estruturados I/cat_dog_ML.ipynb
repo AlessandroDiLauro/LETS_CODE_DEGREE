{
 "cells": [
  {
   "cell_type": "code",
   "execution_count": 1,
   "metadata": {},
   "outputs": [],
   "source": [
    "#conda install -c conda-forge keras-preprocessing"
   ]
  },
  {
   "cell_type": "code",
   "execution_count": 1,
   "metadata": {},
   "outputs": [],
   "source": [
    "import numpy as np\n",
    "import matplotlib.pyplot as plt\n",
    "from matplotlib.image import imread\n",
    "import os\n",
    "from tensorflow.keras.preprocessing.image import load_img\n",
    "from tensorflow.keras.preprocessing.image import img_to_array\n",
    "import seaborn as sns\n",
    "import random\n",
    "from sklearn.ensemble import RandomForestClassifier\n",
    "from mlxtend.plotting import plot_confusion_matrix\n",
    "from sklearn.metrics import classification_report, confusion_matrix, roc_auc_score, roc_curve,ConfusionMatrixDisplay "
   ]
  },
  {
   "cell_type": "code",
   "execution_count": 2,
   "metadata": {},
   "outputs": [],
   "source": [
    "def clf_metrics(modelo, X, y, cutoff=0.5, label_metrica=\"\", print_plot=True):\n",
    "    \n",
    "    proba_1 = number_rf.predict_proba(X)[:, 1]\n",
    "    y_pred = np.where(proba_1 >= cutoff, 1, 0)\n",
    "    \n",
    "    if print_plot:\n",
    "        \n",
    "        print(f\"Métricas de avaliação de {label_metrica}\")\n",
    "    \n",
    "        ConfusionMatrixDisplay.from_predictions(y, y_pred)\n",
    "        plt.show()\n",
    "    \n",
    "        print(classification_report(y, y_pred))\n",
    "    \n",
    "    return classification_report(y, y_pred, output_dict=True)"
   ]
  },
  {
   "cell_type": "code",
   "execution_count": 3,
   "metadata": {},
   "outputs": [],
   "source": [
    "import pandas as pd\n"
   ]
  },
  {
   "cell_type": "code",
   "execution_count": 4,
   "metadata": {},
   "outputs": [],
   "source": [
    "folder_dog = 'train/DOG'\n",
    "folder_cat = 'train/CAT'\n",
    "folder_dog_test = 'test/DOG'\n",
    "folder_cat_test = 'test/CAT'"
   ]
  },
  {
   "cell_type": "code",
   "execution_count": 5,
   "metadata": {},
   "outputs": [
    {
     "name": "stderr",
     "output_type": "stream",
     "text": [
      "C:\\Users\\Usuario\\anaconda3\\lib\\site-packages\\PIL\\TiffImagePlugin.py:793: UserWarning: Truncated File Read\n",
      "  warnings.warn(str(msg))\n"
     ]
    }
   ],
   "source": [
    "dog_train = list()\n",
    "for file in os.listdir(folder_dog):\n",
    "    photo = load_img(folder_dog + '/' +file, target_size=(64, 64))\n",
    "    photo = img_to_array(photo)\n",
    "    dog_train.append(photo)"
   ]
  },
  {
   "cell_type": "code",
   "execution_count": 6,
   "metadata": {},
   "outputs": [],
   "source": [
    "cat_train = list()\n",
    "for file in os.listdir(folder_cat):\n",
    "    photo_cat = load_img(folder_cat + '/' +file, target_size=(64, 64))\n",
    "    photo_cat = img_to_array(photo_cat)\n",
    "    cat_train.append(photo_cat)"
   ]
  },
  {
   "cell_type": "code",
   "execution_count": 6,
   "metadata": {},
   "outputs": [],
   "source": [
    "cat_train = np.asarray(cat_train)"
   ]
  },
  {
   "cell_type": "code",
   "execution_count": 7,
   "metadata": {},
   "outputs": [],
   "source": [
    "dog_train = np.asarray(dog_train)"
   ]
  },
  {
   "cell_type": "code",
   "execution_count": 8,
   "metadata": {},
   "outputs": [
    {
     "data": {
      "text/plain": [
       "(9372, 64, 64, 3)"
      ]
     },
     "execution_count": 8,
     "metadata": {},
     "output_type": "execute_result"
    }
   ],
   "source": [
    "dog_train.shape"
   ]
  },
  {
   "cell_type": "code",
   "execution_count": 9,
   "metadata": {},
   "outputs": [
    {
     "data": {
      "text/plain": [
       "(9371, 64, 64, 3)"
      ]
     },
     "execution_count": 9,
     "metadata": {},
     "output_type": "execute_result"
    }
   ],
   "source": [
    "cat_train.shape"
   ]
  },
  {
   "cell_type": "code",
   "execution_count": 10,
   "metadata": {},
   "outputs": [],
   "source": [
    "X_train = np.concatenate((dog_train, cat_train), axis=0)"
   ]
  },
  {
   "cell_type": "code",
   "execution_count": 11,
   "metadata": {},
   "outputs": [
    {
     "data": {
      "text/plain": [
       "(18743, 64, 64, 3)"
      ]
     },
     "execution_count": 11,
     "metadata": {},
     "output_type": "execute_result"
    }
   ],
   "source": [
    "X_train.shape"
   ]
  },
  {
   "cell_type": "code",
   "execution_count": 12,
   "metadata": {},
   "outputs": [],
   "source": [
    "label_dog_train = list()\n",
    "for i in range(len(dog_train)):\n",
    "    label_dog_train.append(0)"
   ]
  },
  {
   "cell_type": "code",
   "execution_count": 13,
   "metadata": {},
   "outputs": [],
   "source": [
    "label_cat_train = list()\n",
    "for i in range(len(cat_train)):\n",
    "    label_cat_train.append(1)"
   ]
  },
  {
   "cell_type": "code",
   "execution_count": 14,
   "metadata": {},
   "outputs": [],
   "source": [
    "label_dog_train = np.asarray(label_dog_train)\n",
    "label_cat_train= np.asarray(label_cat_train)"
   ]
  },
  {
   "cell_type": "code",
   "execution_count": 15,
   "metadata": {},
   "outputs": [
    {
     "data": {
      "text/plain": [
       "(9371,)"
      ]
     },
     "execution_count": 15,
     "metadata": {},
     "output_type": "execute_result"
    }
   ],
   "source": [
    "label_cat_train.shape"
   ]
  },
  {
   "cell_type": "code",
   "execution_count": 16,
   "metadata": {},
   "outputs": [
    {
     "data": {
      "text/plain": [
       "(9372,)"
      ]
     },
     "execution_count": 16,
     "metadata": {},
     "output_type": "execute_result"
    }
   ],
   "source": [
    "label_dog_train.shape"
   ]
  },
  {
   "cell_type": "code",
   "execution_count": 17,
   "metadata": {},
   "outputs": [],
   "source": [
    "y_train = np.concatenate((label_dog_train, label_cat_train), axis=0)"
   ]
  },
  {
   "cell_type": "code",
   "execution_count": 18,
   "metadata": {},
   "outputs": [
    {
     "data": {
      "text/plain": [
       "(18743,)"
      ]
     },
     "execution_count": 18,
     "metadata": {},
     "output_type": "execute_result"
    }
   ],
   "source": [
    "y_train.shape"
   ]
  },
  {
   "cell_type": "code",
   "execution_count": 19,
   "metadata": {},
   "outputs": [
    {
     "data": {
      "text/plain": [
       "9371"
      ]
     },
     "execution_count": 19,
     "metadata": {},
     "output_type": "execute_result"
    }
   ],
   "source": [
    "y_train.sum()"
   ]
  },
  {
   "cell_type": "code",
   "execution_count": 20,
   "metadata": {},
   "outputs": [],
   "source": [
    "dog_test = list()\n",
    "for file in os.listdir(folder_dog_test):\n",
    "    photo_dog_test = load_img(folder_dog_test + '/' +file, target_size=(64, 64))\n",
    "    photo_dog_test = img_to_array(photo_dog_test)\n",
    "    dog_test.append(photo_dog_test)"
   ]
  },
  {
   "cell_type": "code",
   "execution_count": 21,
   "metadata": {},
   "outputs": [],
   "source": [
    "cat_test = list()\n",
    "for file in os.listdir(folder_cat_test):\n",
    "    photo_cat_test = load_img(folder_cat_test + '/' +file, target_size=(64, 64))\n",
    "    photo_cat_test = img_to_array(photo_cat_test)\n",
    "    cat_test.append(photo_cat)"
   ]
  },
  {
   "cell_type": "code",
   "execution_count": 22,
   "metadata": {},
   "outputs": [],
   "source": [
    "dog_test = np.asarray(dog_test)\n",
    "cat_test = np.asarray(cat_test)"
   ]
  },
  {
   "cell_type": "code",
   "execution_count": 23,
   "metadata": {},
   "outputs": [],
   "source": [
    "X_test = np.concatenate((dog_test, cat_test), axis=0)"
   ]
  },
  {
   "cell_type": "code",
   "execution_count": 24,
   "metadata": {},
   "outputs": [
    {
     "data": {
      "text/plain": [
       "(6251, 64, 64, 3)"
      ]
     },
     "execution_count": 24,
     "metadata": {},
     "output_type": "execute_result"
    }
   ],
   "source": [
    "X_test.shape"
   ]
  },
  {
   "cell_type": "code",
   "execution_count": 25,
   "metadata": {},
   "outputs": [],
   "source": [
    "label_dog_test = list()\n",
    "for i in range(len(dog_test)):\n",
    "    label_dog_test.append(0)"
   ]
  },
  {
   "cell_type": "code",
   "execution_count": 26,
   "metadata": {},
   "outputs": [],
   "source": [
    "label_cat_test = list()\n",
    "for i in range(len(cat_test)):\n",
    "    label_cat_test.append(1)"
   ]
  },
  {
   "cell_type": "code",
   "execution_count": 27,
   "metadata": {},
   "outputs": [],
   "source": [
    "label_dog_test = np.asarray(label_dog_test)\n",
    "label_cat_test= np.asarray(label_cat_test)"
   ]
  },
  {
   "cell_type": "code",
   "execution_count": 28,
   "metadata": {},
   "outputs": [
    {
     "data": {
      "text/plain": [
       "(3125,)"
      ]
     },
     "execution_count": 28,
     "metadata": {},
     "output_type": "execute_result"
    }
   ],
   "source": [
    "label_dog_test.shape"
   ]
  },
  {
   "cell_type": "code",
   "execution_count": 29,
   "metadata": {},
   "outputs": [
    {
     "data": {
      "text/plain": [
       "(3126,)"
      ]
     },
     "execution_count": 29,
     "metadata": {},
     "output_type": "execute_result"
    }
   ],
   "source": [
    "label_cat_test.shape"
   ]
  },
  {
   "cell_type": "code",
   "execution_count": 30,
   "metadata": {},
   "outputs": [],
   "source": [
    "y_test = np.concatenate((label_dog_test, label_cat_test), axis=0)"
   ]
  },
  {
   "cell_type": "code",
   "execution_count": 31,
   "metadata": {},
   "outputs": [
    {
     "data": {
      "text/plain": [
       "(6251,)"
      ]
     },
     "execution_count": 31,
     "metadata": {},
     "output_type": "execute_result"
    }
   ],
   "source": [
    "y_test.shape"
   ]
  },
  {
   "cell_type": "code",
   "execution_count": 32,
   "metadata": {},
   "outputs": [
    {
     "data": {
      "text/plain": [
       "3126"
      ]
     },
     "execution_count": 32,
     "metadata": {},
     "output_type": "execute_result"
    }
   ],
   "source": [
    "y_test.sum()"
   ]
  },
  {
   "cell_type": "code",
   "execution_count": 33,
   "metadata": {},
   "outputs": [],
   "source": [
    "X_train = X_train/255.0\n",
    "X_test = X_test/255.0"
   ]
  },
  {
   "cell_type": "code",
   "execution_count": 34,
   "metadata": {},
   "outputs": [
    {
     "name": "stdout",
     "output_type": "stream",
     "text": [
      "(18743, 12288)\n",
      "\n",
      "(6251, 12288)\n"
     ]
    }
   ],
   "source": [
    "X_train_rd = X_train.reshape(18743, -1)\n",
    "X_test_rd = X_test.reshape(6251, -1)\n",
    "print(X_train_rd.shape)\n",
    "print()\n",
    "print(X_test_rd.shape)"
   ]
  },
  {
   "cell_type": "code",
   "execution_count": 35,
   "metadata": {},
   "outputs": [],
   "source": [
    "number_rf = RandomForestClassifier()\n",
    "\n",
    "number_rf.fit(X_train_rd, y_train)\n",
    "\n",
    "y_pred_rf = number_rf.predict(X_test_rd)"
   ]
  },
  {
   "cell_type": "code",
   "execution_count": 89,
   "metadata": {},
   "outputs": [],
   "source": [
    "y_pred_rf = number_rf.predict(X_test_rd)"
   ]
  },
  {
   "cell_type": "code",
   "execution_count": 90,
   "metadata": {},
   "outputs": [
    {
     "name": "stdout",
     "output_type": "stream",
     "text": [
      "              precision    recall  f1-score   support\n",
      "\n",
      "           0       1.00      0.64      0.78      3125\n",
      "           1       0.73      1.00      0.85      3126\n",
      "\n",
      "    accuracy                           0.82      6251\n",
      "   macro avg       0.87      0.82      0.81      6251\n",
      "weighted avg       0.87      0.82      0.81      6251\n",
      "\n"
     ]
    }
   ],
   "source": [
    "print(classification_report(y_test, y_pred_rf))"
   ]
  },
  {
   "cell_type": "code",
   "execution_count": 91,
   "metadata": {},
   "outputs": [
    {
     "name": "stdout",
     "output_type": "stream",
     "text": [
      "Matriz de confusão\n"
     ]
    },
    {
     "data": {
      "image/png": "[encoded data removed]",
      "text/plain": [
       "<Figure size 432x288 with 1 Axes>"
      ]
     },
     "metadata": {
      "needs_background": "light"
     },
     "output_type": "display_data"
    }
   ],
   "source": [
    "cm = confusion_matrix(y_test, y_pred_rf)\n",
    "\n",
    "print(\"Matriz de confusão\")\n",
    "\n",
    "plot_confusion_matrix(conf_mat=cm)\n",
    "plt.show()"
   ]
  },
  {
   "cell_type": "code",
   "execution_count": 92,
   "metadata": {},
   "outputs": [],
   "source": [
    "y_prob_rf = number_rf.predict_proba(X_test_rd)\n",
    "y_prob_rf = y_prob_rf[:, 1]"
   ]
  },
  {
   "cell_type": "code",
   "execution_count": 93,
   "metadata": {},
   "outputs": [
    {
     "data": {
      "image/png": "[encoded data removed]",
      "text/plain": [
       "<Figure size 432x288 with 1 Axes>"
      ]
     },
     "metadata": {
      "needs_background": "light"
     },
     "output_type": "display_data"
    }
   ],
   "source": [
    "fper, tper, thresholds = roc_curve(y_test, y_prob_rf, pos_label=1)\n",
    "plt.plot(fper, tper, color = 'red', label = 'ROC')\n",
    "plt.plot([0,1], [0,1], color='green', linestyle='--')\n",
    "plt.xlabel('False Positive Rate')\n",
    "plt.ylabel('True Positive Rate')\n",
    "plt.title('ROC CURVE')\n",
    "plt.legend()\n",
    "plt.show()"
   ]
  },
  {
   "cell_type": "code",
   "execution_count": 94,
   "metadata": {},
   "outputs": [
    {
     "name": "stdout",
     "output_type": "stream",
     "text": [
      "AUC: 1.000\n"
     ]
    }
   ],
   "source": [
    "auc = roc_auc_score(y_test, y_prob_rf)\n",
    "\n",
    "print('AUC: %.3f' % auc)"
   ]
  },
  {
   "cell_type": "code",
   "execution_count": 95,
   "metadata": {},
   "outputs": [
    {
     "data": {
      "text/plain": [
       "array([0., 0., 0., 0., 0., 0., 0., 0., 0., 0., 0., 0., 0., 0., 0., 0., 0.,\n",
       "       0., 0., 0., 0., 0., 0., 0., 0., 0., 0., 0., 0., 0., 0., 0., 0., 0.,\n",
       "       0., 0., 0., 0., 0., 0., 1., 1., 1., 1., 1., 1., 1., 1., 1., 1., 1.,\n",
       "       1., 1., 1., 1., 1., 1., 1., 1., 1., 1., 1., 1., 1., 1., 1., 1., 1.,\n",
       "       1., 1., 1., 1., 1., 1., 1., 1., 1., 1.])"
      ]
     },
     "execution_count": 95,
     "metadata": {},
     "output_type": "execute_result"
    }
   ],
   "source": [
    "np.round(fper)"
   ]
  },
  {
   "cell_type": "code",
   "execution_count": 97,
   "metadata": {},
   "outputs": [
    {
     "data": {
      "text/plain": [
       "array([0., 1., 1., 1., 1., 1., 1., 1., 1., 1., 1., 1., 1., 1., 1., 1., 1.,\n",
       "       1., 1., 1., 1., 1., 1., 1., 1., 1., 1., 1., 1., 1., 1., 1., 1., 1.,\n",
       "       1., 1., 1., 1., 1., 1., 1., 1., 1., 1., 1., 1., 1., 1., 1., 1., 1.,\n",
       "       1., 1., 1., 1., 1., 1., 1., 1., 1., 1., 1., 1., 1., 1., 1., 1., 1.,\n",
       "       1., 1., 1., 1., 1., 1., 1., 1., 1., 1.])"
      ]
     },
     "execution_count": 97,
     "metadata": {},
     "output_type": "execute_result"
    }
   ],
   "source": [
    "np.round(tper)"
   ]
  },
  {
   "cell_type": "code",
   "execution_count": 98,
   "metadata": {},
   "outputs": [
    {
     "data": {
      "text/plain": [
       "array([1.87      , 0.87      , 0.8       , 0.79      , 0.78      ,\n",
       "       0.77      , 0.76      , 0.75      , 0.74      , 0.73      ,\n",
       "       0.72      , 0.71      , 0.7       , 0.69      , 0.68      ,\n",
       "       0.67      , 0.66      , 0.65      , 0.64      , 0.63      ,\n",
       "       0.62      , 0.61      , 0.6       , 0.59      , 0.58      ,\n",
       "       0.57      , 0.56      , 0.55      , 0.542     , 0.54      ,\n",
       "       0.53      , 0.525     , 0.52      , 0.51      , 0.5       ,\n",
       "       0.49      , 0.485     , 0.48      , 0.47      , 0.46333333,\n",
       "       0.46      , 0.45      , 0.44      , 0.43      , 0.42      ,\n",
       "       0.41      , 0.4       , 0.395     , 0.38      , 0.37      ,\n",
       "       0.36      , 0.35      , 0.34      , 0.335     , 0.33      ,\n",
       "       0.32      , 0.31      , 0.3       , 0.29      , 0.28      ,\n",
       "       0.27      , 0.26      , 0.25      , 0.24      , 0.23      ,\n",
       "       0.22      , 0.21      , 0.2       , 0.19      , 0.17      ,\n",
       "       0.16      , 0.15      , 0.14      , 0.13      , 0.12      ,\n",
       "       0.11      , 0.1       , 0.06      ])"
      ]
     },
     "execution_count": 98,
     "metadata": {},
     "output_type": "execute_result"
    }
   ],
   "source": [
    "thresholds"
   ]
  },
  {
   "cell_type": "code",
   "execution_count": 87,
   "metadata": {
    "collapsed": true
   },
   "outputs": [
    {
     "name": "stdout",
     "output_type": "stream",
     "text": [
      "\n",
      "################################################################################\n",
      "                         Modelo logit com cutoff = 0.1                          \n",
      "################################################################################\n",
      "\n",
      "Métricas de avaliação de teste\n"
     ]
    },
    {
     "data": {
      "image/png": "[encoded data removed]",
      "text/plain": [
       "<Figure size 432x288 with 2 Axes>"
      ]
     },
     "metadata": {
      "needs_background": "light"
     },
     "output_type": "display_data"
    },
    {
     "name": "stdout",
     "output_type": "stream",
     "text": [
      "              precision    recall  f1-score   support\n",
      "\n",
      "           0       1.00      0.00      0.00      3125\n",
      "           1       0.50      1.00      0.67      3126\n",
      "\n",
      "    accuracy                           0.50      6251\n",
      "   macro avg       0.75      0.50      0.33      6251\n",
      "weighted avg       0.75      0.50      0.33      6251\n",
      "\n",
      "\n",
      "################################################################################\n",
      "                 Modelo logit com cutoff = 0.15000000000000002                  \n",
      "################################################################################\n",
      "\n",
      "Métricas de avaliação de teste\n"
     ]
    },
    {
     "data": {
      "image/png": "[encoded data removed]",
      "text/plain": [
       "<Figure size 432x288 with 2 Axes>"
      ]
     },
     "metadata": {
      "needs_background": "light"
     },
     "output_type": "display_data"
    },
    {
     "name": "stdout",
     "output_type": "stream",
     "text": [
      "              precision    recall  f1-score   support\n",
      "\n",
      "           0       1.00      0.01      0.01      3125\n",
      "           1       0.50      1.00      0.67      3126\n",
      "\n",
      "    accuracy                           0.50      6251\n",
      "   macro avg       0.75      0.50      0.34      6251\n",
      "weighted avg       0.75      0.50      0.34      6251\n",
      "\n",
      "\n",
      "################################################################################\n",
      "                 Modelo logit com cutoff = 0.20000000000000004                  \n",
      "################################################################################\n",
      "\n",
      "Métricas de avaliação de teste\n"
     ]
    },
    {
     "data": {
      "image/png": "[encoded data removed]",
      "text/plain": [
       "<Figure size 432x288 with 2 Axes>"
      ]
     },
     "metadata": {
      "needs_background": "light"
     },
     "output_type": "display_data"
    },
    {
     "name": "stdout",
     "output_type": "stream",
     "text": [
      "              precision    recall  f1-score   support\n",
      "\n",
      "           0       1.00      0.02      0.04      3125\n",
      "           1       0.51      1.00      0.67      3126\n",
      "\n",
      "    accuracy                           0.51      6251\n",
      "   macro avg       0.75      0.51      0.35      6251\n",
      "weighted avg       0.75      0.51      0.35      6251\n",
      "\n",
      "\n",
      "################################################################################\n",
      "                 Modelo logit com cutoff = 0.25000000000000006                  \n",
      "################################################################################\n",
      "\n",
      "Métricas de avaliação de teste\n"
     ]
    },
    {
     "data": {
      "image/png": "[encoded data removed]",
      "text/plain": [
       "<Figure size 432x288 with 2 Axes>"
      ]
     },
     "metadata": {
      "needs_background": "light"
     },
     "output_type": "display_data"
    },
    {
     "name": "stdout",
     "output_type": "stream",
     "text": [
      "              precision    recall  f1-score   support\n",
      "\n",
      "           0       1.00      0.05      0.09      3125\n",
      "           1       0.51      1.00      0.68      3126\n",
      "\n",
      "    accuracy                           0.52      6251\n",
      "   macro avg       0.76      0.52      0.38      6251\n",
      "weighted avg       0.76      0.52      0.38      6251\n",
      "\n",
      "\n",
      "################################################################################\n",
      "                 Modelo logit com cutoff = 0.30000000000000004                  \n",
      "################################################################################\n",
      "\n",
      "Métricas de avaliação de teste\n"
     ]
    },
    {
     "data": {
      "image/png": "[encoded data removed]",
      "text/plain": [
       "<Figure size 432x288 with 2 Axes>"
      ]
     },
     "metadata": {
      "needs_background": "light"
     },
     "output_type": "display_data"
    },
    {
     "name": "stdout",
     "output_type": "stream",
     "text": [
      "              precision    recall  f1-score   support\n",
      "\n",
      "           0       1.00      0.11      0.19      3125\n",
      "           1       0.53      1.00      0.69      3126\n",
      "\n",
      "    accuracy                           0.55      6251\n",
      "   macro avg       0.76      0.55      0.44      6251\n",
      "weighted avg       0.76      0.55      0.44      6251\n",
      "\n",
      "\n",
      "################################################################################\n",
      "                  Modelo logit com cutoff = 0.3500000000000001                  \n",
      "################################################################################\n",
      "\n",
      "Métricas de avaliação de teste\n"
     ]
    },
    {
     "data": {
      "image/png": "[encoded data removed]",
      "text/plain": [
       "<Figure size 432x288 with 2 Axes>"
      ]
     },
     "metadata": {
      "needs_background": "light"
     },
     "output_type": "display_data"
    },
    {
     "name": "stdout",
     "output_type": "stream",
     "text": [
      "              precision    recall  f1-score   support\n",
      "\n",
      "           0       1.00      0.19      0.33      3125\n",
      "           1       0.55      1.00      0.71      3126\n",
      "\n",
      "    accuracy                           0.60      6251\n",
      "   macro avg       0.78      0.60      0.52      6251\n",
      "weighted avg       0.78      0.60      0.52      6251\n",
      "\n",
      "\n",
      "################################################################################\n",
      "                 Modelo logit com cutoff = 0.40000000000000013                  \n",
      "################################################################################\n",
      "\n",
      "Métricas de avaliação de teste\n"
     ]
    },
    {
     "data": {
      "image/png": "[encoded data removed]",
      "text/plain": [
       "<Figure size 432x288 with 2 Axes>"
      ]
     },
     "metadata": {
      "needs_background": "light"
     },
     "output_type": "display_data"
    },
    {
     "name": "stdout",
     "output_type": "stream",
     "text": [
      "              precision    recall  f1-score   support\n",
      "\n",
      "           0       1.00      0.32      0.48      3125\n",
      "           1       0.59      1.00      0.75      3126\n",
      "\n",
      "    accuracy                           0.66      6251\n",
      "   macro avg       0.80      0.66      0.61      6251\n",
      "weighted avg       0.80      0.66      0.61      6251\n",
      "\n",
      "\n",
      "################################################################################\n",
      "                 Modelo logit com cutoff = 0.45000000000000007                  \n",
      "################################################################################\n",
      "\n",
      "Métricas de avaliação de teste\n"
     ]
    },
    {
     "data": {
      "image/png": "[encoded data removed]",
      "text/plain": [
       "<Figure size 432x288 with 2 Axes>"
      ]
     },
     "metadata": {
      "needs_background": "light"
     },
     "output_type": "display_data"
    },
    {
     "name": "stdout",
     "output_type": "stream",
     "text": [
      "              precision    recall  f1-score   support\n",
      "\n",
      "           0       1.00      0.47      0.64      3125\n",
      "           1       0.65      1.00      0.79      3126\n",
      "\n",
      "    accuracy                           0.74      6251\n",
      "   macro avg       0.83      0.74      0.72      6251\n",
      "weighted avg       0.83      0.74      0.72      6251\n",
      "\n",
      "\n",
      "################################################################################\n",
      "                  Modelo logit com cutoff = 0.5000000000000001                  \n",
      "################################################################################\n",
      "\n",
      "Métricas de avaliação de teste\n"
     ]
    },
    {
     "data": {
      "image/png": "[encoded data removed]",
      "text/plain": [
       "<Figure size 432x288 with 2 Axes>"
      ]
     },
     "metadata": {
      "needs_background": "light"
     },
     "output_type": "display_data"
    },
    {
     "name": "stdout",
     "output_type": "stream",
     "text": [
      "              precision    recall  f1-score   support\n",
      "\n",
      "           0       1.00      0.64      0.78      3125\n",
      "           1       0.73      1.00      0.85      3126\n",
      "\n",
      "    accuracy                           0.82      6251\n",
      "   macro avg       0.87      0.82      0.81      6251\n",
      "weighted avg       0.87      0.82      0.81      6251\n",
      "\n",
      "\n",
      "################################################################################\n",
      "                  Modelo logit com cutoff = 0.5500000000000002                  \n",
      "################################################################################\n",
      "\n",
      "Métricas de avaliação de teste\n"
     ]
    },
    {
     "data": {
      "image/png": "[encoded data removed]",
      "text/plain": [
       "<Figure size 432x288 with 2 Axes>"
      ]
     },
     "metadata": {
      "needs_background": "light"
     },
     "output_type": "display_data"
    },
    {
     "name": "stdout",
     "output_type": "stream",
     "text": [
      "              precision    recall  f1-score   support\n",
      "\n",
      "           0       1.00      0.79      0.88      3125\n",
      "           1       0.82      1.00      0.90      3126\n",
      "\n",
      "    accuracy                           0.89      6251\n",
      "   macro avg       0.91      0.89      0.89      6251\n",
      "weighted avg       0.91      0.89      0.89      6251\n",
      "\n",
      "\n",
      "################################################################################\n",
      "                  Modelo logit com cutoff = 0.6000000000000002                  \n",
      "################################################################################\n",
      "\n",
      "Métricas de avaliação de teste\n"
     ]
    },
    {
     "data": {
      "image/png": "[encoded data removed]",
      "text/plain": [
       "<Figure size 432x288 with 2 Axes>"
      ]
     },
     "metadata": {
      "needs_background": "light"
     },
     "output_type": "display_data"
    },
    {
     "name": "stdout",
     "output_type": "stream",
     "text": [
      "              precision    recall  f1-score   support\n",
      "\n",
      "           0       1.00      0.89      0.94      3125\n",
      "           1       0.90      1.00      0.95      3126\n",
      "\n",
      "    accuracy                           0.95      6251\n",
      "   macro avg       0.95      0.95      0.95      6251\n",
      "weighted avg       0.95      0.95      0.95      6251\n",
      "\n",
      "\n",
      "################################################################################\n",
      "                  Modelo logit com cutoff = 0.6500000000000001                  \n",
      "################################################################################\n",
      "\n",
      "Métricas de avaliação de teste\n"
     ]
    },
    {
     "data": {
      "image/png": "[encoded data removed]",
      "text/plain": [
       "<Figure size 432x288 with 2 Axes>"
      ]
     },
     "metadata": {
      "needs_background": "light"
     },
     "output_type": "display_data"
    },
    {
     "name": "stdout",
     "output_type": "stream",
     "text": [
      "              precision    recall  f1-score   support\n",
      "\n",
      "           0       1.00      0.96      0.98      3125\n",
      "           1       0.96      1.00      0.98      3126\n",
      "\n",
      "    accuracy                           0.98      6251\n",
      "   macro avg       0.98      0.98      0.98      6251\n",
      "weighted avg       0.98      0.98      0.98      6251\n",
      "\n",
      "\n",
      "################################################################################\n",
      "                  Modelo logit com cutoff = 0.7000000000000002                  \n",
      "################################################################################\n",
      "\n",
      "Métricas de avaliação de teste\n"
     ]
    },
    {
     "data": {
      "image/png": "[encoded data removed]",
      "text/plain": [
       "<Figure size 432x288 with 2 Axes>"
      ]
     },
     "metadata": {
      "needs_background": "light"
     },
     "output_type": "display_data"
    },
    {
     "name": "stdout",
     "output_type": "stream",
     "text": [
      "              precision    recall  f1-score   support\n",
      "\n",
      "           0       1.00      0.99      0.99      3125\n",
      "           1       0.99      1.00      0.99      3126\n",
      "\n",
      "    accuracy                           0.99      6251\n",
      "   macro avg       0.99      0.99      0.99      6251\n",
      "weighted avg       0.99      0.99      0.99      6251\n",
      "\n",
      "\n",
      "################################################################################\n",
      "                  Modelo logit com cutoff = 0.7500000000000002                  \n",
      "################################################################################\n",
      "\n",
      "Métricas de avaliação de teste\n"
     ]
    },
    {
     "data": {
      "image/png": "[encoded data removed]",
      "text/plain": [
       "<Figure size 432x288 with 2 Axes>"
      ]
     },
     "metadata": {
      "needs_background": "light"
     },
     "output_type": "display_data"
    },
    {
     "name": "stdout",
     "output_type": "stream",
     "text": [
      "              precision    recall  f1-score   support\n",
      "\n",
      "           0       1.00      1.00      1.00      3125\n",
      "           1       1.00      1.00      1.00      3126\n",
      "\n",
      "    accuracy                           1.00      6251\n",
      "   macro avg       1.00      1.00      1.00      6251\n",
      "weighted avg       1.00      1.00      1.00      6251\n",
      "\n",
      "\n",
      "################################################################################\n",
      "                  Modelo logit com cutoff = 0.8000000000000002                  \n",
      "################################################################################\n",
      "\n",
      "Métricas de avaliação de teste\n"
     ]
    },
    {
     "data": {
      "image/png": "[encoded data removed]",
      "text/plain": [
       "<Figure size 432x288 with 2 Axes>"
      ]
     },
     "metadata": {
      "needs_background": "light"
     },
     "output_type": "display_data"
    },
    {
     "name": "stdout",
     "output_type": "stream",
     "text": [
      "              precision    recall  f1-score   support\n",
      "\n",
      "           0       1.00      1.00      1.00      3125\n",
      "           1       1.00      1.00      1.00      3126\n",
      "\n",
      "    accuracy                           1.00      6251\n",
      "   macro avg       1.00      1.00      1.00      6251\n",
      "weighted avg       1.00      1.00      1.00      6251\n",
      "\n",
      "\n",
      "################################################################################\n",
      "                  Modelo logit com cutoff = 0.8500000000000002                  \n",
      "################################################################################\n",
      "\n",
      "Métricas de avaliação de teste\n"
     ]
    },
    {
     "data": {
      "image/png": "[encoded data removed]",
      "text/plain": [
       "<Figure size 432x288 with 2 Axes>"
      ]
     },
     "metadata": {
      "needs_background": "light"
     },
     "output_type": "display_data"
    },
    {
     "name": "stdout",
     "output_type": "stream",
     "text": [
      "              precision    recall  f1-score   support\n",
      "\n",
      "           0       1.00      1.00      1.00      3125\n",
      "           1       1.00      1.00      1.00      3126\n",
      "\n",
      "    accuracy                           1.00      6251\n",
      "   macro avg       1.00      1.00      1.00      6251\n",
      "weighted avg       1.00      1.00      1.00      6251\n",
      "\n",
      "\n",
      "################################################################################\n",
      "                  Modelo logit com cutoff = 0.9000000000000002                  \n",
      "################################################################################\n",
      "\n",
      "Métricas de avaliação de teste\n"
     ]
    },
    {
     "data": {
      "image/png": "[encoded data removed]",
      "text/plain": [
       "<Figure size 432x288 with 2 Axes>"
      ]
     },
     "metadata": {
      "needs_background": "light"
     },
     "output_type": "display_data"
    },
    {
     "name": "stderr",
     "output_type": "stream",
     "text": [
      "C:\\Users\\Usuario\\anaconda3\\lib\\site-packages\\sklearn\\metrics\\_classification.py:1318: UndefinedMetricWarning: Precision and F-score are ill-defined and being set to 0.0 in labels with no predicted samples. Use `zero_division` parameter to control this behavior.\n",
      "  _warn_prf(average, modifier, msg_start, len(result))\n",
      "C:\\Users\\Usuario\\anaconda3\\lib\\site-packages\\sklearn\\metrics\\_classification.py:1318: UndefinedMetricWarning: Precision and F-score are ill-defined and being set to 0.0 in labels with no predicted samples. Use `zero_division` parameter to control this behavior.\n",
      "  _warn_prf(average, modifier, msg_start, len(result))\n",
      "C:\\Users\\Usuario\\anaconda3\\lib\\site-packages\\sklearn\\metrics\\_classification.py:1318: UndefinedMetricWarning: Precision and F-score are ill-defined and being set to 0.0 in labels with no predicted samples. Use `zero_division` parameter to control this behavior.\n",
      "  _warn_prf(average, modifier, msg_start, len(result))\n",
      "C:\\Users\\Usuario\\anaconda3\\lib\\site-packages\\sklearn\\metrics\\_classification.py:1318: UndefinedMetricWarning: Precision and F-score are ill-defined and being set to 0.0 in labels with no predicted samples. Use `zero_division` parameter to control this behavior.\n",
      "  _warn_prf(average, modifier, msg_start, len(result))\n",
      "C:\\Users\\Usuario\\anaconda3\\lib\\site-packages\\sklearn\\metrics\\_classification.py:1318: UndefinedMetricWarning: Precision and F-score are ill-defined and being set to 0.0 in labels with no predicted samples. Use `zero_division` parameter to control this behavior.\n",
      "  _warn_prf(average, modifier, msg_start, len(result))\n",
      "C:\\Users\\Usuario\\anaconda3\\lib\\site-packages\\sklearn\\metrics\\_classification.py:1318: UndefinedMetricWarning: Precision and F-score are ill-defined and being set to 0.0 in labels with no predicted samples. Use `zero_division` parameter to control this behavior.\n",
      "  _warn_prf(average, modifier, msg_start, len(result))\n"
     ]
    },
    {
     "name": "stdout",
     "output_type": "stream",
     "text": [
      "              precision    recall  f1-score   support\n",
      "\n",
      "           0       0.50      1.00      0.67      3125\n",
      "           1       0.00      0.00      0.00      3126\n",
      "\n",
      "    accuracy                           0.50      6251\n",
      "   macro avg       0.25      0.50      0.33      6251\n",
      "weighted avg       0.25      0.50      0.33      6251\n",
      "\n",
      "\n",
      "################################################################################\n",
      "                  Modelo logit com cutoff = 0.9500000000000003                  \n",
      "################################################################################\n",
      "\n",
      "Métricas de avaliação de teste\n"
     ]
    },
    {
     "data": {
      "image/png": "[encoded data removed]",
      "text/plain": [
       "<Figure size 432x288 with 2 Axes>"
      ]
     },
     "metadata": {
      "needs_background": "light"
     },
     "output_type": "display_data"
    },
    {
     "name": "stdout",
     "output_type": "stream",
     "text": [
      "              precision    recall  f1-score   support\n",
      "\n",
      "           0       0.50      1.00      0.67      3125\n",
      "           1       0.00      0.00      0.00      3126\n",
      "\n",
      "    accuracy                           0.50      6251\n",
      "   macro avg       0.25      0.50      0.33      6251\n",
      "weighted avg       0.25      0.50      0.33      6251\n",
      "\n"
     ]
    },
    {
     "name": "stderr",
     "output_type": "stream",
     "text": [
      "C:\\Users\\Usuario\\anaconda3\\lib\\site-packages\\sklearn\\metrics\\_classification.py:1318: UndefinedMetricWarning: Precision and F-score are ill-defined and being set to 0.0 in labels with no predicted samples. Use `zero_division` parameter to control this behavior.\n",
      "  _warn_prf(average, modifier, msg_start, len(result))\n",
      "C:\\Users\\Usuario\\anaconda3\\lib\\site-packages\\sklearn\\metrics\\_classification.py:1318: UndefinedMetricWarning: Precision and F-score are ill-defined and being set to 0.0 in labels with no predicted samples. Use `zero_division` parameter to control this behavior.\n",
      "  _warn_prf(average, modifier, msg_start, len(result))\n",
      "C:\\Users\\Usuario\\anaconda3\\lib\\site-packages\\sklearn\\metrics\\_classification.py:1318: UndefinedMetricWarning: Precision and F-score are ill-defined and being set to 0.0 in labels with no predicted samples. Use `zero_division` parameter to control this behavior.\n",
      "  _warn_prf(average, modifier, msg_start, len(result))\n",
      "C:\\Users\\Usuario\\anaconda3\\lib\\site-packages\\sklearn\\metrics\\_classification.py:1318: UndefinedMetricWarning: Precision and F-score are ill-defined and being set to 0.0 in labels with no predicted samples. Use `zero_division` parameter to control this behavior.\n",
      "  _warn_prf(average, modifier, msg_start, len(result))\n",
      "C:\\Users\\Usuario\\anaconda3\\lib\\site-packages\\sklearn\\metrics\\_classification.py:1318: UndefinedMetricWarning: Precision and F-score are ill-defined and being set to 0.0 in labels with no predicted samples. Use `zero_division` parameter to control this behavior.\n",
      "  _warn_prf(average, modifier, msg_start, len(result))\n",
      "C:\\Users\\Usuario\\anaconda3\\lib\\site-packages\\sklearn\\metrics\\_classification.py:1318: UndefinedMetricWarning: Precision and F-score are ill-defined and being set to 0.0 in labels with no predicted samples. Use `zero_division` parameter to control this behavior.\n",
      "  _warn_prf(average, modifier, msg_start, len(result))\n"
     ]
    }
   ],
   "source": [
    "# começamos com dois dfs vazios, e vamos preenchendo abaixo\n",
    "# (com os concats)\n",
    "df_results_train = pd.DataFrame()\n",
    "df_results_test = pd.DataFrame()\n",
    "\n",
    "cutoff_list = np.arange(0.1, 1, 0.05)\n",
    "\n",
    "for cutoff in cutoff_list:\n",
    "    \n",
    "    print()\n",
    "    print(\"#\"*80)\n",
    "    print(f\"Modelo logit com cutoff = {cutoff}\".center(80))\n",
    "    print(\"#\"*80)\n",
    "    print()\n",
    "    \n",
    "    # ============================================\n",
    "    \n",
    "    cr_train = clf_metrics(number_rf, X_train_rd, y_train, label_metrica=\"treino\", cutoff=cutoff, print_plot=False)\n",
    "    df_cr_train = pd.DataFrame(cr_train)\n",
    "\n",
    "    # o .iloc[:-1, :] é pra excluir o \"support\" (pode trazer tb caso queira)\n",
    "    df_melt = df_cr_train.iloc[:-1, :].reset_index(drop=False).melt(id_vars='index', var_name=\"type\")\n",
    "    df_melt['cutoff'] = cutoff\n",
    "\n",
    "    # corrigindo os dados de acurácia\n",
    "    accuracy = df_melt.query(\"type == 'accuracy'\").copy()\n",
    "    accuracy[\"index\"] = \"accuracy\"\n",
    "\n",
    "    df_melt = df_melt.drop(index=accuracy.index)\n",
    "    df_melt = pd.concat([df_melt, accuracy.iloc[[0], :]]).reset_index(drop=False)\n",
    "\n",
    "    # pivotando\n",
    "    df_pivot = df_melt.pivot(columns=['type', 'index'], values='value', index='cutoff')\n",
    "    \n",
    "    df_results_train = pd.concat([df_results_train, df_pivot])\n",
    "            \n",
    "    # ============================================\n",
    "    \n",
    "    cr_test = clf_metrics(number_rf, X_test_rd, y_test, label_metrica=\"teste\", cutoff=cutoff)\n",
    "    df_cr_test = pd.DataFrame(cr_test)\n",
    "    \n",
    "    # o .iloc[:-1, :] é pra excluir o \"support\" (pode trazer tb caso queira)\n",
    "    df_melt = df_cr_test.iloc[:-1, :].reset_index(drop=False).melt(id_vars='index', var_name=\"type\")\n",
    "    df_melt['cutoff'] = cutoff\n",
    "\n",
    "    # corrigindo os dados de acurácia\n",
    "    accuracy = df_melt.query(\"type == 'accuracy'\").copy()\n",
    "    accuracy[\"index\"] = \"accuracy\"\n",
    "\n",
    "    df_melt = df_melt.drop(index=accuracy.index)\n",
    "    df_melt = pd.concat([df_melt, accuracy.iloc[[0], :]]).reset_index(drop=False)\n",
    "\n",
    "    # pivotando\n",
    "    df_pivot = df_melt.pivot(columns=['type', 'index'], values='value', index='cutoff')\n",
    "    \n",
    "    df_results_test = pd.concat([df_results_test, df_pivot])\n",
    "    \n",
    "    # ============================================"
   ]
  },
  {
   "cell_type": "code",
   "execution_count": 107,
   "metadata": {
    "collapsed": true
   },
   "outputs": [
    {
     "data": {
      "text/html": [
       "<div>\n",
       "<style scoped>\n",
       "    .dataframe tbody tr th:only-of-type {\n",
       "        vertical-align: middle;\n",
       "    }\n",
       "\n",
       "    .dataframe tbody tr th {\n",
       "        vertical-align: top;\n",
       "    }\n",
       "\n",
       "    .dataframe thead tr th {\n",
       "        text-align: left;\n",
       "    }\n",
       "\n",
       "    .dataframe thead tr:last-of-type th {\n",
       "        text-align: right;\n",
       "    }\n",
       "</style>\n",
       "<table border=\"1\" class=\"dataframe\">\n",
       "  <thead>\n",
       "    <tr>\n",
       "      <th>type</th>\n",
       "      <th colspan=\"3\" halign=\"left\">0</th>\n",
       "      <th colspan=\"3\" halign=\"left\">1</th>\n",
       "      <th colspan=\"3\" halign=\"left\">macro avg</th>\n",
       "      <th colspan=\"3\" halign=\"left\">weighted avg</th>\n",
       "      <th>accuracy</th>\n",
       "    </tr>\n",
       "    <tr>\n",
       "      <th>index</th>\n",
       "      <th>precision</th>\n",
       "      <th>recall</th>\n",
       "      <th>f1-score</th>\n",
       "      <th>precision</th>\n",
       "      <th>recall</th>\n",
       "      <th>f1-score</th>\n",
       "      <th>precision</th>\n",
       "      <th>recall</th>\n",
       "      <th>f1-score</th>\n",
       "      <th>precision</th>\n",
       "      <th>recall</th>\n",
       "      <th>f1-score</th>\n",
       "      <th>accuracy</th>\n",
       "    </tr>\n",
       "    <tr>\n",
       "      <th>cutoff</th>\n",
       "      <th></th>\n",
       "      <th></th>\n",
       "      <th></th>\n",
       "      <th></th>\n",
       "      <th></th>\n",
       "      <th></th>\n",
       "      <th></th>\n",
       "      <th></th>\n",
       "      <th></th>\n",
       "      <th></th>\n",
       "      <th></th>\n",
       "      <th></th>\n",
       "      <th></th>\n",
       "    </tr>\n",
       "  </thead>\n",
       "  <tbody>\n",
       "    <tr>\n",
       "      <th>0.85</th>\n",
       "      <td>1.00000</td>\n",
       "      <td>1.00000</td>\n",
       "      <td>1.000000</td>\n",
       "      <td>1.000000</td>\n",
       "      <td>1.0</td>\n",
       "      <td>1.000000</td>\n",
       "      <td>1.000000</td>\n",
       "      <td>1.00000</td>\n",
       "      <td>1.000000</td>\n",
       "      <td>1.000000</td>\n",
       "      <td>1.000000</td>\n",
       "      <td>1.000000</td>\n",
       "      <td>1.000000</td>\n",
       "    </tr>\n",
       "    <tr>\n",
       "      <th>0.80</th>\n",
       "      <td>1.00000</td>\n",
       "      <td>0.99936</td>\n",
       "      <td>0.999680</td>\n",
       "      <td>0.999361</td>\n",
       "      <td>1.0</td>\n",
       "      <td>0.999680</td>\n",
       "      <td>0.999680</td>\n",
       "      <td>0.99968</td>\n",
       "      <td>0.999680</td>\n",
       "      <td>0.999680</td>\n",
       "      <td>0.999680</td>\n",
       "      <td>0.999680</td>\n",
       "      <td>0.999680</td>\n",
       "    </tr>\n",
       "    <tr>\n",
       "      <th>0.75</th>\n",
       "      <td>1.00000</td>\n",
       "      <td>0.99584</td>\n",
       "      <td>0.997916</td>\n",
       "      <td>0.995859</td>\n",
       "      <td>1.0</td>\n",
       "      <td>0.997925</td>\n",
       "      <td>0.997929</td>\n",
       "      <td>0.99792</td>\n",
       "      <td>0.997920</td>\n",
       "      <td>0.997929</td>\n",
       "      <td>0.997920</td>\n",
       "      <td>0.997920</td>\n",
       "      <td>0.997920</td>\n",
       "    </tr>\n",
       "    <tr>\n",
       "      <th>0.70</th>\n",
       "      <td>1.00000</td>\n",
       "      <td>0.98528</td>\n",
       "      <td>0.992585</td>\n",
       "      <td>0.985498</td>\n",
       "      <td>1.0</td>\n",
       "      <td>0.992696</td>\n",
       "      <td>0.992749</td>\n",
       "      <td>0.99264</td>\n",
       "      <td>0.992641</td>\n",
       "      <td>0.992748</td>\n",
       "      <td>0.992641</td>\n",
       "      <td>0.992641</td>\n",
       "      <td>0.992641</td>\n",
       "    </tr>\n",
       "    <tr>\n",
       "      <th>0.65</th>\n",
       "      <td>1.00000</td>\n",
       "      <td>0.95776</td>\n",
       "      <td>0.978424</td>\n",
       "      <td>0.959484</td>\n",
       "      <td>1.0</td>\n",
       "      <td>0.979323</td>\n",
       "      <td>0.979742</td>\n",
       "      <td>0.97888</td>\n",
       "      <td>0.978874</td>\n",
       "      <td>0.979739</td>\n",
       "      <td>0.978883</td>\n",
       "      <td>0.978874</td>\n",
       "      <td>0.978883</td>\n",
       "    </tr>\n",
       "    <tr>\n",
       "      <th>0.60</th>\n",
       "      <td>1.00000</td>\n",
       "      <td>0.89440</td>\n",
       "      <td>0.944257</td>\n",
       "      <td>0.904514</td>\n",
       "      <td>1.0</td>\n",
       "      <td>0.949863</td>\n",
       "      <td>0.952257</td>\n",
       "      <td>0.94720</td>\n",
       "      <td>0.947060</td>\n",
       "      <td>0.952249</td>\n",
       "      <td>0.947208</td>\n",
       "      <td>0.947060</td>\n",
       "      <td>0.947208</td>\n",
       "    </tr>\n",
       "    <tr>\n",
       "      <th>0.55</th>\n",
       "      <td>1.00000</td>\n",
       "      <td>0.78528</td>\n",
       "      <td>0.879728</td>\n",
       "      <td>0.823282</td>\n",
       "      <td>1.0</td>\n",
       "      <td>0.903077</td>\n",
       "      <td>0.911641</td>\n",
       "      <td>0.89264</td>\n",
       "      <td>0.891402</td>\n",
       "      <td>0.911627</td>\n",
       "      <td>0.892657</td>\n",
       "      <td>0.891404</td>\n",
       "      <td>0.892657</td>\n",
       "    </tr>\n",
       "    <tr>\n",
       "      <th>0.50</th>\n",
       "      <td>1.00000</td>\n",
       "      <td>0.63872</td>\n",
       "      <td>0.779535</td>\n",
       "      <td>0.734665</td>\n",
       "      <td>1.0</td>\n",
       "      <td>0.847040</td>\n",
       "      <td>0.867333</td>\n",
       "      <td>0.81936</td>\n",
       "      <td>0.813287</td>\n",
       "      <td>0.867311</td>\n",
       "      <td>0.819389</td>\n",
       "      <td>0.813293</td>\n",
       "      <td>0.819389</td>\n",
       "    </tr>\n",
       "    <tr>\n",
       "      <th>0.45</th>\n",
       "      <td>1.00000</td>\n",
       "      <td>0.47104</td>\n",
       "      <td>0.640418</td>\n",
       "      <td>0.654112</td>\n",
       "      <td>1.0</td>\n",
       "      <td>0.790892</td>\n",
       "      <td>0.827056</td>\n",
       "      <td>0.73552</td>\n",
       "      <td>0.715655</td>\n",
       "      <td>0.827028</td>\n",
       "      <td>0.735562</td>\n",
       "      <td>0.715667</td>\n",
       "      <td>0.735562</td>\n",
       "    </tr>\n",
       "    <tr>\n",
       "      <th>0.40</th>\n",
       "      <td>1.00000</td>\n",
       "      <td>0.31584</td>\n",
       "      <td>0.480058</td>\n",
       "      <td>0.593845</td>\n",
       "      <td>1.0</td>\n",
       "      <td>0.745173</td>\n",
       "      <td>0.796922</td>\n",
       "      <td>0.65792</td>\n",
       "      <td>0.612616</td>\n",
       "      <td>0.796890</td>\n",
       "      <td>0.657975</td>\n",
       "      <td>0.612637</td>\n",
       "      <td>0.657975</td>\n",
       "    </tr>\n",
       "    <tr>\n",
       "      <th>0.35</th>\n",
       "      <td>1.00000</td>\n",
       "      <td>0.19456</td>\n",
       "      <td>0.325743</td>\n",
       "      <td>0.553961</td>\n",
       "      <td>1.0</td>\n",
       "      <td>0.712966</td>\n",
       "      <td>0.776980</td>\n",
       "      <td>0.59728</td>\n",
       "      <td>0.519355</td>\n",
       "      <td>0.776945</td>\n",
       "      <td>0.597344</td>\n",
       "      <td>0.519386</td>\n",
       "      <td>0.597344</td>\n",
       "    </tr>\n",
       "    <tr>\n",
       "      <th>0.30</th>\n",
       "      <td>1.00000</td>\n",
       "      <td>0.10528</td>\n",
       "      <td>0.190504</td>\n",
       "      <td>0.527862</td>\n",
       "      <td>1.0</td>\n",
       "      <td>0.690981</td>\n",
       "      <td>0.763931</td>\n",
       "      <td>0.55264</td>\n",
       "      <td>0.440743</td>\n",
       "      <td>0.763893</td>\n",
       "      <td>0.552712</td>\n",
       "      <td>0.440783</td>\n",
       "      <td>0.552712</td>\n",
       "    </tr>\n",
       "    <tr>\n",
       "      <th>0.25</th>\n",
       "      <td>1.00000</td>\n",
       "      <td>0.04768</td>\n",
       "      <td>0.091020</td>\n",
       "      <td>0.512291</td>\n",
       "      <td>1.0</td>\n",
       "      <td>0.677503</td>\n",
       "      <td>0.756146</td>\n",
       "      <td>0.52384</td>\n",
       "      <td>0.384262</td>\n",
       "      <td>0.756107</td>\n",
       "      <td>0.523916</td>\n",
       "      <td>0.384309</td>\n",
       "      <td>0.523916</td>\n",
       "    </tr>\n",
       "    <tr>\n",
       "      <th>0.20</th>\n",
       "      <td>1.00000</td>\n",
       "      <td>0.01952</td>\n",
       "      <td>0.038293</td>\n",
       "      <td>0.505008</td>\n",
       "      <td>1.0</td>\n",
       "      <td>0.671103</td>\n",
       "      <td>0.752504</td>\n",
       "      <td>0.50976</td>\n",
       "      <td>0.354698</td>\n",
       "      <td>0.752464</td>\n",
       "      <td>0.509838</td>\n",
       "      <td>0.354749</td>\n",
       "      <td>0.509838</td>\n",
       "    </tr>\n",
       "    <tr>\n",
       "      <th>0.15</th>\n",
       "      <td>1.00000</td>\n",
       "      <td>0.00704</td>\n",
       "      <td>0.013982</td>\n",
       "      <td>0.501846</td>\n",
       "      <td>1.0</td>\n",
       "      <td>0.668306</td>\n",
       "      <td>0.750923</td>\n",
       "      <td>0.50352</td>\n",
       "      <td>0.341144</td>\n",
       "      <td>0.750883</td>\n",
       "      <td>0.503599</td>\n",
       "      <td>0.341196</td>\n",
       "      <td>0.503599</td>\n",
       "    </tr>\n",
       "    <tr>\n",
       "      <th>0.10</th>\n",
       "      <td>1.00000</td>\n",
       "      <td>0.00064</td>\n",
       "      <td>0.001279</td>\n",
       "      <td>0.500240</td>\n",
       "      <td>1.0</td>\n",
       "      <td>0.666880</td>\n",
       "      <td>0.750120</td>\n",
       "      <td>0.50032</td>\n",
       "      <td>0.334080</td>\n",
       "      <td>0.750080</td>\n",
       "      <td>0.500400</td>\n",
       "      <td>0.334133</td>\n",
       "      <td>0.500400</td>\n",
       "    </tr>\n",
       "    <tr>\n",
       "      <th>0.90</th>\n",
       "      <td>0.49992</td>\n",
       "      <td>1.00000</td>\n",
       "      <td>0.666596</td>\n",
       "      <td>0.000000</td>\n",
       "      <td>0.0</td>\n",
       "      <td>0.000000</td>\n",
       "      <td>0.249960</td>\n",
       "      <td>0.50000</td>\n",
       "      <td>0.333298</td>\n",
       "      <td>0.249920</td>\n",
       "      <td>0.499920</td>\n",
       "      <td>0.333244</td>\n",
       "      <td>0.499920</td>\n",
       "    </tr>\n",
       "    <tr>\n",
       "      <th>0.95</th>\n",
       "      <td>0.49992</td>\n",
       "      <td>1.00000</td>\n",
       "      <td>0.666596</td>\n",
       "      <td>0.000000</td>\n",
       "      <td>0.0</td>\n",
       "      <td>0.000000</td>\n",
       "      <td>0.249960</td>\n",
       "      <td>0.50000</td>\n",
       "      <td>0.333298</td>\n",
       "      <td>0.249920</td>\n",
       "      <td>0.499920</td>\n",
       "      <td>0.333244</td>\n",
       "      <td>0.499920</td>\n",
       "    </tr>\n",
       "  </tbody>\n",
       "</table>\n",
       "</div>"
      ],
      "text/plain": [
       "type           0                            1                  macro avg  \\\n",
       "index  precision   recall  f1-score precision recall  f1-score precision   \n",
       "cutoff                                                                     \n",
       "0.85     1.00000  1.00000  1.000000  1.000000    1.0  1.000000  1.000000   \n",
       "0.80     1.00000  0.99936  0.999680  0.999361    1.0  0.999680  0.999680   \n",
       "0.75     1.00000  0.99584  0.997916  0.995859    1.0  0.997925  0.997929   \n",
       "0.70     1.00000  0.98528  0.992585  0.985498    1.0  0.992696  0.992749   \n",
       "0.65     1.00000  0.95776  0.978424  0.959484    1.0  0.979323  0.979742   \n",
       "0.60     1.00000  0.89440  0.944257  0.904514    1.0  0.949863  0.952257   \n",
       "0.55     1.00000  0.78528  0.879728  0.823282    1.0  0.903077  0.911641   \n",
       "0.50     1.00000  0.63872  0.779535  0.734665    1.0  0.847040  0.867333   \n",
       "0.45     1.00000  0.47104  0.640418  0.654112    1.0  0.790892  0.827056   \n",
       "0.40     1.00000  0.31584  0.480058  0.593845    1.0  0.745173  0.796922   \n",
       "0.35     1.00000  0.19456  0.325743  0.553961    1.0  0.712966  0.776980   \n",
       "0.30     1.00000  0.10528  0.190504  0.527862    1.0  0.690981  0.763931   \n",
       "0.25     1.00000  0.04768  0.091020  0.512291    1.0  0.677503  0.756146   \n",
       "0.20     1.00000  0.01952  0.038293  0.505008    1.0  0.671103  0.752504   \n",
       "0.15     1.00000  0.00704  0.013982  0.501846    1.0  0.668306  0.750923   \n",
       "0.10     1.00000  0.00064  0.001279  0.500240    1.0  0.666880  0.750120   \n",
       "0.90     0.49992  1.00000  0.666596  0.000000    0.0  0.000000  0.249960   \n",
       "0.95     0.49992  1.00000  0.666596  0.000000    0.0  0.000000  0.249960   \n",
       "\n",
       "type                      weighted avg                      accuracy  \n",
       "index    recall  f1-score    precision    recall  f1-score  accuracy  \n",
       "cutoff                                                                \n",
       "0.85    1.00000  1.000000     1.000000  1.000000  1.000000  1.000000  \n",
       "0.80    0.99968  0.999680     0.999680  0.999680  0.999680  0.999680  \n",
       "0.75    0.99792  0.997920     0.997929  0.997920  0.997920  0.997920  \n",
       "0.70    0.99264  0.992641     0.992748  0.992641  0.992641  0.992641  \n",
       "0.65    0.97888  0.978874     0.979739  0.978883  0.978874  0.978883  \n",
       "0.60    0.94720  0.947060     0.952249  0.947208  0.947060  0.947208  \n",
       "0.55    0.89264  0.891402     0.911627  0.892657  0.891404  0.892657  \n",
       "0.50    0.81936  0.813287     0.867311  0.819389  0.813293  0.819389  \n",
       "0.45    0.73552  0.715655     0.827028  0.735562  0.715667  0.735562  \n",
       "0.40    0.65792  0.612616     0.796890  0.657975  0.612637  0.657975  \n",
       "0.35    0.59728  0.519355     0.776945  0.597344  0.519386  0.597344  \n",
       "0.30    0.55264  0.440743     0.763893  0.552712  0.440783  0.552712  \n",
       "0.25    0.52384  0.384262     0.756107  0.523916  0.384309  0.523916  \n",
       "0.20    0.50976  0.354698     0.752464  0.509838  0.354749  0.509838  \n",
       "0.15    0.50352  0.341144     0.750883  0.503599  0.341196  0.503599  \n",
       "0.10    0.50032  0.334080     0.750080  0.500400  0.334133  0.500400  \n",
       "0.90    0.50000  0.333298     0.249920  0.499920  0.333244  0.499920  \n",
       "0.95    0.50000  0.333298     0.249920  0.499920  0.333244  0.499920  "
      ]
     },
     "execution_count": 107,
     "metadata": {},
     "output_type": "execute_result"
    }
   ],
   "source": [
    "df_results_test.sort_values(('1', 'f1-score'), ascending=False)"
   ]
  },
  {
   "cell_type": "markdown",
   "metadata": {},
   "source": [
    "### Avaliação dos Dados de treino"
   ]
  },
  {
   "cell_type": "code",
   "execution_count": 41,
   "metadata": {},
   "outputs": [],
   "source": [
    "y_pred_rf = number_rf.predict(X_train_rd)"
   ]
  },
  {
   "cell_type": "code",
   "execution_count": 42,
   "metadata": {},
   "outputs": [
    {
     "name": "stdout",
     "output_type": "stream",
     "text": [
      "              precision    recall  f1-score   support\n",
      "\n",
      "           0       1.00      1.00      1.00      9372\n",
      "           1       1.00      1.00      1.00      9371\n",
      "\n",
      "    accuracy                           1.00     18743\n",
      "   macro avg       1.00      1.00      1.00     18743\n",
      "weighted avg       1.00      1.00      1.00     18743\n",
      "\n"
     ]
    }
   ],
   "source": [
    "print(classification_report(y_train, y_pred_rf))"
   ]
  },
  {
   "cell_type": "code",
   "execution_count": 43,
   "metadata": {},
   "outputs": [
    {
     "name": "stdout",
     "output_type": "stream",
     "text": [
      "Matriz de confusão\n"
     ]
    },
    {
     "data": {
      "image/png": "[encoded data removed]",
      "text/plain": [
       "<Figure size 432x288 with 1 Axes>"
      ]
     },
     "metadata": {
      "needs_background": "light"
     },
     "output_type": "display_data"
    }
   ],
   "source": [
    "cm = confusion_matrix(y_train, y_pred_rf)\n",
    "\n",
    "print(\"Matriz de confusão\")\n",
    "\n",
    "plot_confusion_matrix(conf_mat=cm)\n",
    "plt.show()"
   ]
  },
  {
   "cell_type": "code",
   "execution_count": 63,
   "metadata": {},
   "outputs": [],
   "source": [
    "y_prob_rf = number_rf.predict_proba(X_train_rd)[:, 1]\n"
   ]
  },
  {
   "cell_type": "code",
   "execution_count": 64,
   "metadata": {},
   "outputs": [
    {
     "data": {
      "image/png": "[encoded data removed]",
      "text/plain": [
       "<Figure size 432x288 with 1 Axes>"
      ]
     },
     "metadata": {
      "needs_background": "light"
     },
     "output_type": "display_data"
    }
   ],
   "source": [
    "fper, tper, thresholds = roc_curve(y_train, y_prob_rf, pos_label=1)\n",
    "plt.plot(fper, tper, color = 'red', label = 'ROC')\n",
    "plt.plot([0,1], [0,1], color='green', linestyle='--')\n",
    "plt.xlabel('False Positive Rate')\n",
    "plt.ylabel('True Positive Rate')\n",
    "plt.title('ROC CURVE')\n",
    "plt.legend()\n",
    "plt.show()"
   ]
  },
  {
   "cell_type": "code",
   "execution_count": 70,
   "metadata": {},
   "outputs": [
    {
     "data": {
      "text/plain": [
       "array([0., 0., 0., 0., 0., 0., 0., 0., 0., 0., 0., 0., 0., 0., 0., 0., 0.,\n",
       "       0., 0., 0., 0., 0., 0., 0., 0., 0., 0., 0., 0., 0., 0., 0., 0., 0.,\n",
       "       0., 0., 0., 0., 0., 0., 0., 0., 0., 0., 0., 0., 0., 0., 0., 0., 0.,\n",
       "       0., 0., 0., 0., 0., 0., 0., 0., 0., 0., 0., 0., 0., 0., 0., 0., 0.,\n",
       "       0., 0., 0., 0., 0., 1., 1., 1., 1., 1., 1., 1., 1., 1., 1., 1., 1.,\n",
       "       1., 1., 1., 1., 1., 1., 1., 1., 1.])"
      ]
     },
     "execution_count": 70,
     "metadata": {},
     "output_type": "execute_result"
    }
   ],
   "source": [
    "np.round(fper)"
   ]
  },
  {
   "cell_type": "code",
   "execution_count": 71,
   "metadata": {},
   "outputs": [
    {
     "data": {
      "text/plain": [
       "array([0., 0., 0., 0., 0., 0., 0., 0., 0., 0., 0., 0., 0., 0., 0., 0., 0.,\n",
       "       0., 0., 1., 1., 1., 1., 1., 1., 1., 1., 1., 1., 1., 1., 1., 1., 1.,\n",
       "       1., 1., 1., 1., 1., 1., 1., 1., 1., 1., 1., 1., 1., 1., 1., 1., 1.,\n",
       "       1., 1., 1., 1., 1., 1., 1., 1., 1., 1., 1., 1., 1., 1., 1., 1., 1.,\n",
       "       1., 1., 1., 1., 1., 1., 1., 1., 1., 1., 1., 1., 1., 1., 1., 1., 1.,\n",
       "       1., 1., 1., 1., 1., 1., 1., 1., 1.])"
      ]
     },
     "execution_count": 71,
     "metadata": {},
     "output_type": "execute_result"
    }
   ],
   "source": [
    "np.round(tper)"
   ]
  },
  {
   "cell_type": "code",
   "execution_count": 69,
   "metadata": {},
   "outputs": [
    {
     "data": {
      "text/plain": [
       "array([2.        , 1.        , 0.99      , 0.98      , 0.97      ,\n",
       "       0.96      , 0.95      , 0.94      , 0.93      , 0.92      ,\n",
       "       0.91      , 0.9       , 0.89      , 0.88      , 0.87      ,\n",
       "       0.8675    , 0.86      , 0.85333333, 0.85      , 0.84      ,\n",
       "       0.835     , 0.83      , 0.82      , 0.81333333, 0.81      ,\n",
       "       0.8       , 0.795     , 0.79      , 0.785     , 0.78      ,\n",
       "       0.775     , 0.77      , 0.7675    , 0.76      , 0.75      ,\n",
       "       0.74      , 0.73416667, 0.73      , 0.72      , 0.71      ,\n",
       "       0.7       , 0.69      , 0.68      , 0.67      , 0.66      ,\n",
       "       0.65      , 0.6       , 0.55583333, 0.38      , 0.36      ,\n",
       "       0.35      , 0.34      , 0.33      , 0.32      , 0.31      ,\n",
       "       0.3       , 0.29      , 0.28      , 0.27      , 0.26      ,\n",
       "       0.25      , 0.24      , 0.23      , 0.22      , 0.21      ,\n",
       "       0.20333333, 0.2       , 0.19533333, 0.19333333, 0.19166667,\n",
       "       0.19      , 0.18      , 0.1725    , 0.17      , 0.16      ,\n",
       "       0.15666667, 0.155     , 0.15333333, 0.15      , 0.14283333,\n",
       "       0.14      , 0.13      , 0.12      , 0.11      , 0.1       ,\n",
       "       0.09      , 0.08      , 0.07      , 0.06      , 0.05      ,\n",
       "       0.04      , 0.03      , 0.02      , 0.01      ])"
      ]
     },
     "execution_count": 69,
     "metadata": {},
     "output_type": "execute_result"
    }
   ],
   "source": [
    "thresholds"
   ]
  },
  {
   "cell_type": "code",
   "execution_count": null,
   "metadata": {},
   "outputs": [],
   "source": []
  },
  {
   "cell_type": "code",
   "execution_count": null,
   "metadata": {},
   "outputs": [],
   "source": []
  },
  {
   "cell_type": "code",
   "execution_count": null,
   "metadata": {},
   "outputs": [],
   "source": [
    "from sklearn.linear_model import LogisticRegression\n",
    "\n",
    "log = LogisticRegression()\n",
    "log.fit(X_train_rd, y_train)\n",
    "y_pred_log = log.predict(X_test_rd)"
   ]
  },
  {
   "cell_type": "code",
   "execution_count": null,
   "metadata": {},
   "outputs": [],
   "source": [
    "print(classification_report(y_test, y_pred_log))"
   ]
  },
  {
   "cell_type": "code",
   "execution_count": null,
   "metadata": {},
   "outputs": [],
   "source": [
    "cm_log = confusion_matrix(y_test, y_pred_log)\n",
    "\n",
    "print(\"Matriz de confusão\")\n",
    "\n",
    "plot_confusion_matrix(conf_mat=cm_log)\n",
    "plt.show()"
   ]
  },
  {
   "cell_type": "code",
   "execution_count": null,
   "metadata": {},
   "outputs": [],
   "source": [
    "y_prob_log = log.predict_proba(X_test_rd)\n",
    "y_prob_log = y_prob_log[:, 1]"
   ]
  },
  {
   "cell_type": "code",
   "execution_count": null,
   "metadata": {},
   "outputs": [],
   "source": [
    "y_prob_log"
   ]
  },
  {
   "cell_type": "code",
   "execution_count": null,
   "metadata": {},
   "outputs": [],
   "source": [
    "fp, tp, thresholds = roc_curve(y_test, y_prob_log)\n",
    "plt.plot(fp, tp, color = 'red', label = 'ROC')\n",
    "plt.plot([0,1], [0,1], color='green', linestyle='--')\n",
    "plt.xlabel('False Positive Rate')\n",
    "plt.ylabel('True Positive Rate')\n",
    "plt.title('ROC CURVE')\n",
    "plt.legend()\n",
    "plt.show()"
   ]
  },
  {
   "cell_type": "code",
   "execution_count": null,
   "metadata": {},
   "outputs": [],
   "source": [
    "fp"
   ]
  },
  {
   "cell_type": "code",
   "execution_count": null,
   "metadata": {},
   "outputs": [],
   "source": [
    "thresholds"
   ]
  },
  {
   "cell_type": "code",
   "execution_count": null,
   "metadata": {},
   "outputs": [],
   "source": [
    "auc_log = roc_auc_score(y_test, y_prob_log)\n",
    "\n",
    "print('AUC: %.3f' % auc_log)"
   ]
  },
  {
   "cell_type": "code",
   "execution_count": null,
   "metadata": {},
   "outputs": [],
   "source": [
    "from sklearn.tree import DecisionTreeClassifier\n",
    "\n",
    "tree = DecisionTreeClassifier(max_depth=30)\n",
    "tree.fit(X_train_rd, y_train)\n",
    "y_pred_tree = tree.predict(X_test_rd)"
   ]
  },
  {
   "cell_type": "code",
   "execution_count": null,
   "metadata": {},
   "outputs": [],
   "source": [
    "print(classification_report(y_test, y_pred_tree))"
   ]
  },
  {
   "cell_type": "code",
   "execution_count": null,
   "metadata": {},
   "outputs": [],
   "source": [
    "cm_tree = confusion_matrix(y_test, y_pred_tree)\n",
    "\n",
    "print(\"Matriz de confusão\")\n",
    "\n",
    "plot_confusion_matrix(conf_mat=cm_tree)\n",
    "plt.show()"
   ]
  }
 ],
 "metadata": {
  "kernelspec": {
   "display_name": "Python 3",
   "language": "python",
   "name": "python3"
  },
  "language_info": {
   "codemirror_mode": {
    "name": "ipython",
    "version": 3
   },
   "file_extension": ".py",
   "mimetype": "text/x-python",
   "name": "python",
   "nbconvert_exporter": "python",
   "pygments_lexer": "ipython3",
   "version": "3.8.8"
  },
  "vscode": {
   "interpreter": {
    "hash": "ad2bdc8ecc057115af97d19610ffacc2b4e99fae6737bb82f5d7fb13d2f2c186"
   }
  }
 },
 "nbformat": 4,
 "nbformat_minor": 2
}
