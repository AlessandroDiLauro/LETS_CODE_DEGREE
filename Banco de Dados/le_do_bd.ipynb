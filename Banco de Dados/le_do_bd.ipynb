{
 "cells": [
  {
   "cell_type": "code",
   "execution_count": 2,
   "metadata": {},
   "outputs": [
    {
     "name": "stdout",
     "output_type": "stream",
     "text": [
      "Collecting psycopg2\n",
      "  Downloading psycopg2-2.9.3-cp38-cp38-win_amd64.whl (1.1 MB)\n",
      "Installing collected packages: psycopg2\n",
      "Successfully installed psycopg2-2.9.3\n",
      "Note: you may need to restart the kernel to use updated packages.\n"
     ]
    }
   ],
   "source": [
    "pip install psycopg2"
   ]
  },
  {
   "cell_type": "code",
   "execution_count": 3,
   "metadata": {},
   "outputs": [],
   "source": [
    "import psycopg2"
   ]
  },
  {
   "cell_type": "code",
   "execution_count": 21,
   "metadata": {},
   "outputs": [],
   "source": [
    "DB_HOST = 'localhost'\n",
    "DB_USER = 'postgres'\n",
    "DB_PW = 'ale04051972'\n",
    "DB_PORT = '5432'\n",
    "DB_NAME = 'clinica'"
   ]
  },
  {
   "cell_type": "code",
   "execution_count": 18,
   "metadata": {},
   "outputs": [],
   "source": [
    "class Livraria:\n",
    "    \"\"\"\"\"\"\n",
    "    def __init__(self, DB_HOST, DB_USER, DB_PW, DB_PORT, DB_NAME):\n",
    "        self.dbhost = DB_HOST\n",
    "        self.dbuser = DB_USER\n",
    "        self.dbpw = DB_PW\n",
    "        self.dbport = DB_PORT\n",
    "        self.dbname = DB_NAME\n",
    "        self.conn = None\n",
    "    \n",
    "    def connect(self):\n",
    "        try:\n",
    "            self.conn = psycopg2.connect(\n",
    "                host = self.dbhost,\n",
    "                user = self.dbuser,\n",
    "                password = self.dbpw,\n",
    "                port = self.dbport,\n",
    "                dbname = self.dbname\n",
    "            )\n",
    "        except psycopg2.DatabaseError as e:\n",
    "            raise(e)\n",
    "        finally:\n",
    "            print(\"Conexão realizada.\")\n",
    "    \n",
    "    def select_rows(self, query):\n",
    "        self.connect()\n",
    "        with self.conn.cursor() as cur:\n",
    "            cur.execute(query)\n",
    "            rows = [row for row in cur.fetchall()]\n",
    "            cur.close()\n",
    "            return rows\n",
    "        self.close()\n",
    "    \n",
    "    def update_rows(self, query):\n",
    "        self.connect()\n",
    "        with self.conn.cursor() as cur:\n",
    "            cur.execute(query)\n",
    "            self.conn.commit()\n",
    "            cur.close()\n",
    "            return f'{cur.rowcount} registro(s) atualizado(s)'\n",
    "    \n",
    "    def insert_rows(self, query):\n",
    "        return self.update_rows(query)"
   ]
  },
  {
   "cell_type": "code",
   "execution_count": 19,
   "metadata": {},
   "outputs": [],
   "source": [
    "livraria = Livraria(DB_HOST = DB_HOST, \n",
    "                    DB_USER = DB_USER,\n",
    "                    DB_PW = DB_PW,\n",
    "                    DB_PORT = DB_PORT,\n",
    "                    DB_NAME = DB_NAME)"
   ]
  },
  {
   "cell_type": "code",
   "execution_count": 20,
   "metadata": {},
   "outputs": [
    {
     "name": "stdout",
     "output_type": "stream",
     "text": [
      "Conexão realizada.\n"
     ]
    },
    {
     "data": {
      "text/plain": [
       "[(1, Decimal('1'), 30),\n",
       " (2, Decimal('1'), 50),\n",
       " (3, Decimal('2'), 40),\n",
       " (4, Decimal('2'), 25),\n",
       " (5, Decimal('2'), 55)]"
      ]
     },
     "execution_count": 20,
     "metadata": {},
     "output_type": "execute_result"
    }
   ],
   "source": [
    "query = 'SELECT * FROM ambulatorios;'\n",
    "livraria.select_rows(query=query)"
   ]
  },
  {
   "cell_type": "code",
   "execution_count": 22,
   "metadata": {},
   "outputs": [
    {
     "name": "stdout",
     "output_type": "stream",
     "text": [
      "Conexão realizada.\n"
     ]
    },
    {
     "data": {
      "text/plain": [
       "[(1, 'Dayanna', 40, 'Nutrição            ', '10000100000', 'Varginha', 1),\n",
       " (2, 'Maria', 42, 'Traumatologia       ', '10000100001', 'Varginha', 2),\n",
       " (3, 'Pedro', 51, 'Pediatria           ', '10000100002', 'Varginha', 3),\n",
       " (4, 'Carlos', 28, 'Ortopedia           ', '10000100003', 'Lavras', 4),\n",
       " (5, 'Marcia', 33, 'Neurologia          ', '10000100004', 'Belo Horizonte', 5),\n",
       " (6, 'Michael', 32, 'Teste               ', '12345678901', 'Varginha', 1)]"
      ]
     },
     "execution_count": 22,
     "metadata": {},
     "output_type": "execute_result"
    }
   ],
   "source": [
    "query = 'SELECT * FROM medicos;'\n",
    "livraria.select_rows(query=query)"
   ]
  },
  {
   "cell_type": "code",
   "execution_count": null,
   "metadata": {},
   "outputs": [],
   "source": []
  }
 ],
 "metadata": {
  "interpreter": {
   "hash": "676525672a798c31b40e210b45baac237a1f609a09a1a0e4c9c7e7c2fc5b9855"
  },
  "kernelspec": {
   "display_name": "Python 3",
   "language": "python",
   "name": "python3"
  },
  "language_info": {
   "codemirror_mode": {
    "name": "ipython",
    "version": 3
   },
   "file_extension": ".py",
   "mimetype": "text/x-python",
   "name": "python",
   "nbconvert_exporter": "python",
   "pygments_lexer": "ipython3",
   "version": "3.8.8"
  }
 },
 "nbformat": 4,
 "nbformat_minor": 2
}
