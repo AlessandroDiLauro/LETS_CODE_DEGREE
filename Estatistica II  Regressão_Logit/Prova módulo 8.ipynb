{
 "cells": [
  {
   "cell_type": "markdown",
   "metadata": {},
   "source": [
    "# Prova módulo 8 - Estatística 2\n",
    "\n",
    "_____\n",
    "_____\n",
    "_____"
   ]
  },
  {
   "cell_type": "markdown",
   "metadata": {},
   "source": [
    "**1) Julgue a afirmativa a seguir como verdadeira ou falsa, justificando sua resposta se a afirmativa for falsa**\n",
    "\n",
    "Há situações em que a resolução de um problema de negócio demanda o desenvolvimento de um modelo preditivo. Nestes casos, é comum seguirmos uma abordagem data-driven, comumente apoiada por técnicas de aprendizagem de máquina. \n",
    "\n",
    "Neste contexto, podemos dizer que um modelo de machine learning nada mais é do que uma representação matemática do problema sob análise (ou de alguns de seus aspectos), construído teoricamente a partir dos princípios fundamentais que regem este problema.\n",
    "\n",
    "() Verdadeiro\n",
    "\n",
    "(X) Falso aboragem data-driven coletamos amostras do universo de interesse para que tiremos conclusões esta abordagem é muito mais dependente da estatística.\n"
   ]
  },
  {
   "cell_type": "markdown",
   "metadata": {},
   "source": [
    "__________\n",
    "__________"
   ]
  },
  {
   "cell_type": "markdown",
   "metadata": {},
   "source": [
    "**2) Julgue a afirmativa a seguir como verdadeira ou falsa, justificando sua resposta se a afirmativa for falsa**\n",
    "\n",
    "Utilizamos uma abordagem data-driven, baseada em aprendizagem de máquina, em problemas tais que:\n",
    "\n",
    "- Existe um padrão a ser descoberto (que assumimos ser o processo teórico $\\mathcal{F}$ que rege o problema);\n",
    "- Uma descrição teórica não é praticável;\n",
    "- Existam dados coletados sobre o problema, isto é, amostras geradas pelo proceso teórico $\\mathcal{F}$.\n",
    "\n",
    "(X) Verdadeiro\n",
    "\n",
    "( ) Falso\n"
   ]
  },
  {
   "cell_type": "markdown",
   "metadata": {},
   "source": [
    "__________\n",
    "__________"
   ]
  },
  {
   "cell_type": "markdown",
   "metadata": {},
   "source": [
    "**3) Julgue a afirmativa a seguir como verdadeira ou falsa, justificando sua resposta se a afirmativa for falsa**\n",
    "\n",
    "Para aferir a capacidade de generalização de um modelo supervisionado, é muito importante que o volume de dados original seja separado nas amostras de treino e de teste. \n",
    "\n",
    "O modelo é treinado utilizando os dados de treino; e os dados de teste são utilizados ao fim do processo, para avaliar sua performance em dados não vistos em treinamento, estimando, assim, sua capacidade de generalização.\n",
    "\n",
    "(X) Verdadeiro\n",
    "\n",
    "( ) Falso\n"
   ]
  },
  {
   "cell_type": "markdown",
   "metadata": {},
   "source": [
    "__________\n",
    "__________"
   ]
  },
  {
   "cell_type": "markdown",
   "metadata": {},
   "source": [
    "**4) Considere a figura a seguir, sobre o famoso tradeoff *viés/variância* (*bias/variance*):**\n",
    "\n",
    "<img src=https://www.learnopencv.com/wp-content/uploads/2017/02/Bias-Variance-Tradeoff-In-Machine-Learning-1.png width=400>\n",
    "\n",
    "Sobre este tradeoff, avalie as afirmativas a seguir como verdadeiras ou falsas:\n",
    "\n",
    "- 1 - Dizemos que um modelo tem **alto viés** (bias), se ele sofre de **underfitting**, isto é, se a diferença entre os erros de treino e teste/validação é pequena, e ambos erros são grandes. Este fenômeno tende a ocorrer quando a hipótese não é capaz de capturar corretamente os padrões refletidos na amostra de treino.\n",
    "\n",
    "- 2 - Dizemos que um modelo tem **alta variância** (variance), se ele sofre de **overfitting**, isto é, se a diferença entre os erros de treino e teste/validação é muito grande, sendo os erros de teste/validação muito maiores que os erros de treino. Este fenômeno tende a ocorrer quando a hipótese é tão complexa, que se torna capaz de capturar até mesmo as particularidades (ruídos) da base de treino, perdendo, assim, poder de generalização.\n",
    "\n",
    "Julgando as afirmativas 1 e 2, temos, respectivamente:\n",
    "\n",
    "(X) Verdadeiro / Verdadeiro\n",
    "\n",
    "( ) Falso / Verdadeiro\n",
    "\n",
    "( ) Verdadeiro / Falso\n",
    "\n",
    "( ) Falso / Falso\n"
   ]
  },
  {
   "cell_type": "markdown",
   "metadata": {},
   "source": [
    "__________\n",
    "__________"
   ]
  },
  {
   "cell_type": "markdown",
   "metadata": {},
   "source": [
    "**5) Considere a figura a seguir, sobre métricas de avaliação de problemas de classificação:**\n",
    "\n",
    "<img src=https://upload.wikimedia.org/wikipedia/commons/thumb/2/26/Precisionrecall.svg/1200px-Precisionrecall.svg.png width=200>\n",
    "\n",
    "Neste contexto, julgue a afirmativa a seguir como verdadeira ou falsa, justificando sua resposta se a afirmativa for falsa:\n",
    "\n",
    "Em um sistema/teste de detecção de doenças extremamente contagiosas, é muito importante que o modelo consiga capturar corretamente todas as pessoas que estão de fato doentes, mesmo que isso implique em indicar erroneamente que algumas pessoas saudáveis estão doentes. \n",
    "\n",
    "Ou seja, em um sistema desses, é importante que os **falsos negativos** sejam minimizados; portanto, o objetivo é **maximizar** a métrica **precision**.\n",
    "\n",
    "( ) Verdadeiro\n",
    "\n",
    "(X) Falso\n",
    "Maximizar Recall minimiza os falsos negativos, Maximizar Precision minimiza os falsos positivos"
   ]
  },
  {
   "cell_type": "markdown",
   "metadata": {},
   "source": [
    "__________\n",
    "__________"
   ]
  },
  {
   "cell_type": "markdown",
   "metadata": {},
   "source": [
    "**6) Julgue a afirmativa a seguir como verdadeira ou falsa, justificando sua resposta se a afirmativa for falsa**\n",
    "\n",
    "O método de regressão linear é capaz de gerar, unicamente, hipóteses lineares, pelo fato de ser linear nas features. \n",
    "\n",
    "Por este motivo, é impossível, por exemplo, que um modelo construído com o método de regressão linear descreva bem um conjunto de dados que são quadráticos, independente do tipo de pré-processamento que for aplicado às features.\n",
    "\n",
    "( ) Verdadeiro\n",
    "\n",
    "(X) Falso O modelo é linear nos parâmetros, não nas features. O termo quadrático que incluímos pode ser considerado como uma nova feature linear.\n"
   ]
  },
  {
   "cell_type": "markdown",
   "metadata": {},
   "source": [
    "__________\n",
    "__________"
   ]
  },
  {
   "cell_type": "markdown",
   "metadata": {},
   "source": [
    "**7) Julgue a afirmativa a seguir como verdadeira ou falsa, justificando sua resposta se a afirmativa for falsa**\n",
    "\n",
    "No método de regressão logística aplicado à classificação binária, modelamos explicitamente a probabilidade de uma dada observação pertencer a uma das classes (comumente a classe 1), isto é, $P(y=1 \\mid \\vec{x})$. \n",
    "\n",
    "No entanto, a decisão final de classificação é tomada ao escolhermos um threshold (cutoff), que corta a probabilidade modelada em duas regiões, cada uma referente a uma das classes. \n",
    "\n",
    "Ex.: caso escolhamos um threshold de 0.5, temos que se $P(y=1 \\mid \\vec{x}) > 0.5$, atribuímos $\\hat{y} = 1$ para a observação $\\vec{x}$; caso contrário, $\\hat{y}=0$.\n",
    "\n",
    "(X) Verdadeiro\n",
    "\n",
    "() Falso \n"
   ]
  },
  {
   "cell_type": "markdown",
   "metadata": {},
   "source": [
    "__________\n",
    "__________"
   ]
  },
  {
   "cell_type": "markdown",
   "metadata": {},
   "source": [
    "**8) Julgue as afirmativas a seguir como verdadeiras ou falsas, justificando sua resposta para as afirmativas falsas, se houver alguma**\n",
    "\n",
    "> - 1 - Com a aplicação de técnicas de regularização, overfitting é evitado a partir da redução do espaço de hipóteses acessível;\n",
    "\n",
    "> - 2 - A regularização L1 (lasso), pode implementar feature selection, ao efetivamente zerar os parâmetros referentes a determinadas features;\n",
    "\n",
    "> - 3 - A regularização L2 (ridge), pode implementar feature selection, ao efetivamente zerar os parâmetros referentes a determinadas features;\n",
    "\n",
    "\n",
    "Julgando as afirmativas 1, 2 e 3, temos, respectivamente:\n",
    "\n",
    "(X) Verdadeiro / Verdadeiro / Falso Ridge não efetua feature selection, mas pode minimizar feature\n",
    "\n",
    "( ) Verdadeiro / Verdadeiro / Verdadeiro\n",
    "\n",
    "( ) Verdadeiro / Falso / Verdadeiro\n",
    "\n",
    "( ) Falso / Falso / Falso\n"
   ]
  },
  {
   "cell_type": "markdown",
   "metadata": {},
   "source": [
    "__________\n",
    "__________"
   ]
  },
  {
   "cell_type": "markdown",
   "metadata": {},
   "source": [
    "**9) Considere as associações, e determine quais estão corretas**\n",
    "\n",
    "O scikit-learn é uma biblioteca que conta com diversas ferramentas que auxiliam em diversas etapas do processo de modelagem: desde a separação dos dados, até o treinamento e avaliação de modelos.\n",
    "\n",
    "A biblioteca foi construída em uma estrutura bem unificada, organizada e modularizada. Por exemplo, é comum que determinadas ferramentas estejam em submódulos específicos! \n",
    "\n",
    "Sobre isso, considere a associação a seguir entre classes/funções e submódulos (considere a versão mais recente do sklearn!):\n",
    "\n",
    "- 1 - `LogisticRegression`, `LinearRegression`, `ElasticNet`, estão no submódulo `sklearn.linear_model` <br><br>\n",
    "\n",
    "- 2 - `PolynomialFeatures`, `StandardScaler`, `MinMaxScaler` estão no submódulo `sklearn.preprocessing` <br><br>\n",
    "\n",
    "- 3 - `f1_score`, `classification_report`, `confusion_matrix`, estão no submódulo `sklearn.metrics` <br><br>\n",
    "\n",
    "- 4 - `PolynomialFeatures`, `train_test_split`, `MinMaxScaler` estão no submódulo `sklearn.preprocessing` <br><br>\n",
    "\n",
    "Assinale a alternativa que contém **apenas associações corretas**:\n",
    "\n",
    "( ) 1, 2, 3, 4\n",
    "\n",
    "( ) 2, 4\n",
    "\n",
    "(X) 1, 2, 3\n",
    "\n",
    "( ) 1, 3, 4\n"
   ]
  },
  {
   "cell_type": "markdown",
   "metadata": {},
   "source": [
    "__________\n",
    "__________"
   ]
  },
  {
   "cell_type": "markdown",
   "metadata": {},
   "source": [
    "**10) Vamos treinar e avaliar um modelo!**\n",
    "\n",
    "Considere o dataset a seguir (**use exatamente o mesmo código!**):\n"
   ]
  },
  {
   "cell_type": "code",
   "execution_count": 1,
   "metadata": {
    "ExecuteTime": {
     "end_time": "2022-05-04T21:57:43.275557Z",
     "start_time": "2022-05-04T21:57:41.339318Z"
    }
   },
   "outputs": [],
   "source": [
    "import pandas as pd\n",
    "import numpy as np\n",
    "from sklearn.datasets import make_regression\n",
    "from sklearn.model_selection import train_test_split\n",
    "\n",
    "X, y = make_regression(n_samples = 400,\n",
    "                       n_features = 5, n_informative = 3, \n",
    "                       noise = 25,\n",
    "                       random_state = 42)\n",
    "\n",
    "X_train, X_test, y_train, y_test = train_test_split(X, y, test_size=0.3, random_state=42)"
   ]
  },
  {
   "cell_type": "code",
   "execution_count": 2,
   "metadata": {},
   "outputs": [],
   "source": [
    "from sklearn.linear_model import LinearRegression"
   ]
  },
  {
   "cell_type": "code",
   "execution_count": 3,
   "metadata": {},
   "outputs": [
    {
     "data": {
      "text/plain": [
       "LinearRegression()"
      ]
     },
     "execution_count": 3,
     "metadata": {},
     "output_type": "execute_result"
    }
   ],
   "source": [
    "reglin = LinearRegression()\n",
    "\n",
    "reglin.fit(X_train, y_train)"
   ]
  },
  {
   "cell_type": "code",
   "execution_count": 4,
   "metadata": {},
   "outputs": [],
   "source": [
    "y_pred = reglin.predict(X_test)"
   ]
  },
  {
   "cell_type": "code",
   "execution_count": 5,
   "metadata": {},
   "outputs": [],
   "source": [
    "y_pred_train = reglin.predict(X_train)"
   ]
  },
  {
   "cell_type": "code",
   "execution_count": 6,
   "metadata": {},
   "outputs": [],
   "source": [
    "from sklearn.metrics import mean_absolute_error"
   ]
  },
  {
   "cell_type": "code",
   "execution_count": 7,
   "metadata": {},
   "outputs": [],
   "source": [
    "mae_test = mean_absolute_error(y_test, y_pred)"
   ]
  },
  {
   "cell_type": "code",
   "execution_count": 8,
   "metadata": {},
   "outputs": [],
   "source": [
    "mae_train = mean_absolute_error(y_train, y_pred_train)"
   ]
  },
  {
   "cell_type": "code",
   "execution_count": 9,
   "metadata": {},
   "outputs": [
    {
     "data": {
      "text/plain": [
       "18.981822066557715"
      ]
     },
     "execution_count": 9,
     "metadata": {},
     "output_type": "execute_result"
    }
   ],
   "source": [
    "mae_train"
   ]
  },
  {
   "cell_type": "code",
   "execution_count": 10,
   "metadata": {},
   "outputs": [
    {
     "data": {
      "text/plain": [
       "19.861718146310462"
      ]
     },
     "execution_count": 10,
     "metadata": {},
     "output_type": "execute_result"
    }
   ],
   "source": [
    "mae_test"
   ]
  },
  {
   "cell_type": "code",
   "execution_count": 11,
   "metadata": {},
   "outputs": [
    {
     "data": {
      "text/plain": [
       "-0.8798960797527471"
      ]
     },
     "execution_count": 11,
     "metadata": {},
     "output_type": "execute_result"
    }
   ],
   "source": [
    "mae_train - mae_test"
   ]
  },
  {
   "cell_type": "code",
   "execution_count": 12,
   "metadata": {},
   "outputs": [
    {
     "data": {
      "text/plain": [
       "0.8798960797527471"
      ]
     },
     "execution_count": 12,
     "metadata": {},
     "output_type": "execute_result"
    }
   ],
   "source": [
    "mae_test - mae_train"
   ]
  },
  {
   "cell_type": "code",
   "execution_count": null,
   "metadata": {},
   "outputs": [],
   "source": []
  },
  {
   "cell_type": "markdown",
   "metadata": {},
   "source": [
    "Ao treinar e avaliar um modelo de regressão linear (todos os hiperparâmetros default), qual é a diferença entra o **erro absoluto médio (MAE)**, calculado nas bases de teste e treino?"
   ]
  },
  {
   "cell_type": "markdown",
   "metadata": {},
   "source": [
    "( ) 2.56\n",
    "\n",
    "(X) 0.88\n",
    "\n",
    "( ) Impossível de calcular esta métrica para os dados disponibilizados\n",
    "\n",
    "( ) 0\n",
    "\n",
    "( ) -3.14"
   ]
  },
  {
   "cell_type": "code",
   "execution_count": null,
   "metadata": {},
   "outputs": [],
   "source": []
  }
 ],
 "metadata": {
  "kernelspec": {
   "display_name": "Python 3",
   "language": "python",
   "name": "python3"
  },
  "language_info": {
   "codemirror_mode": {
    "name": "ipython",
    "version": 3
   },
   "file_extension": ".py",
   "mimetype": "text/x-python",
   "name": "python",
   "nbconvert_exporter": "python",
   "pygments_lexer": "ipython3",
   "version": "3.8.8"
  }
 },
 "nbformat": 4,
 "nbformat_minor": 4
}
