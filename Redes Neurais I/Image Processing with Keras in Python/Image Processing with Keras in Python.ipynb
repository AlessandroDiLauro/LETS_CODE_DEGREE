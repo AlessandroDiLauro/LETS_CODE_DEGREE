{
 "cells": [
  {
   "cell_type": "code",
   "execution_count": 1,
   "id": "ab2f549e",
   "metadata": {},
   "outputs": [],
   "source": [
    "import tensorflow as tf\n",
    "from tensorflow import keras\n",
    "from tensorflow.keras import datasets\n",
    "import matplotlib.pyplot as plt\n",
    "import numpy as np\n",
    "from sklearn.preprocessing import OneHotEncoder\n",
    "from sklearn.model_selection import train_test_split\n",
    "from sklearn.metrics import confusion_matrix\n",
    "from sklearn.metrics import accuracy_score"
   ]
  },
  {
   "cell_type": "code",
   "execution_count": 6,
   "id": "e21a4a8a",
   "metadata": {},
   "outputs": [],
   "source": [
    "#tf.keras.datasets.fashion_mnist.load_data()"
   ]
  },
  {
   "cell_type": "code",
   "execution_count": 7,
   "id": "71a0b797",
   "metadata": {},
   "outputs": [],
   "source": [
    "(x_train, y_train), (x_test, y_test) = datasets.fashion_mnist.load_data()"
   ]
  },
  {
   "cell_type": "code",
   "execution_count": 8,
   "id": "9bee0205",
   "metadata": {},
   "outputs": [],
   "source": [
    "# Imports components from Keras\n",
    "from keras.models import Sequential\n",
    "from keras.layers import Dense\n",
    "\n",
    "# Initializes a sequential model\n",
    "model = Sequential()\n",
    "\n",
    "# First layer\n",
    "model.add(Dense(10, activation='relu', input_shape=(784,)))\n",
    "\n",
    "# Second layer\n",
    "model.add(Dense(10, activation='relu'))\n",
    "\n",
    "# Output layer\n",
    "model.add(Dense(10, activation='softmax'))"
   ]
  },
  {
   "cell_type": "code",
   "execution_count": 9,
   "id": "0eeef6ae",
   "metadata": {},
   "outputs": [],
   "source": [
    "# Compile the model\n",
    "model.compile(optimizer='adam', \n",
    "           loss='sparse_categorical_crossentropy', \n",
    "           metrics=['accuracy'])"
   ]
  },
  {
   "cell_type": "code",
   "execution_count": 10,
   "id": "758f6c7c",
   "metadata": {},
   "outputs": [
    {
     "data": {
      "text/plain": [
       "(60000, 28, 28)"
      ]
     },
     "execution_count": 10,
     "metadata": {},
     "output_type": "execute_result"
    }
   ],
   "source": [
    "x_train.shape"
   ]
  },
  {
   "cell_type": "code",
   "execution_count": 11,
   "id": "d10b339b",
   "metadata": {},
   "outputs": [
    {
     "data": {
      "text/plain": [
       "(10000, 28, 28)"
      ]
     },
     "execution_count": 11,
     "metadata": {},
     "output_type": "execute_result"
    }
   ],
   "source": [
    "x_test.shape"
   ]
  },
  {
   "cell_type": "code",
   "execution_count": 12,
   "id": "40672645",
   "metadata": {},
   "outputs": [
    {
     "data": {
      "image/png": "[encoded data removed]",
      "text/plain": [
       "<Figure size 432x288 with 1 Axes>"
      ]
     },
     "metadata": {
      "needs_background": "light"
     },
     "output_type": "display_data"
    }
   ],
   "source": [
    "# pick a sample to plot\n",
    "sample = 10\n",
    "image = x_train[sample]\n",
    "\n",
    "# plot the sample\n",
    "fig = plt.figure\n",
    "plt.imshow(image)\n",
    "plt.show()"
   ]
  },
  {
   "cell_type": "code",
   "execution_count": 13,
   "id": "4a6bbf60",
   "metadata": {},
   "outputs": [
    {
     "data": {
      "text/plain": [
       "array([0, 1, 2, 3, 4, 5, 6, 7, 8, 9], dtype=uint8)"
      ]
     },
     "execution_count": 13,
     "metadata": {},
     "output_type": "execute_result"
    }
   ],
   "source": [
    "np.unique(y_train)"
   ]
  },
  {
   "cell_type": "code",
   "execution_count": 14,
   "id": "35b80779",
   "metadata": {},
   "outputs": [
    {
     "name": "stdout",
     "output_type": "stream",
     "text": [
      "Epoch 1/3\n",
      "1500/1500 [==============================] - 8s 5ms/step - loss: 2.3504 - accuracy: 0.1443 - val_loss: 2.1710 - val_accuracy: 0.1488\n",
      "Epoch 2/3\n",
      "1500/1500 [==============================] - 7s 4ms/step - loss: 1.9863 - accuracy: 0.2010 - val_loss: 1.7568 - val_accuracy: 0.2654\n",
      "Epoch 3/3\n",
      "1500/1500 [==============================] - 7s 4ms/step - loss: 1.6954 - accuracy: 0.2707 - val_loss: 1.6642 - val_accuracy: 0.2842\n"
     ]
    },
    {
     "data": {
      "text/plain": [
       "<keras.callbacks.History at 0x2891efad6d0>"
      ]
     },
     "execution_count": 14,
     "metadata": {},
     "output_type": "execute_result"
    }
   ],
   "source": [
    "# Reshape the data to two-dimensional array\n",
    "train_data = x_train.reshape((60000, 784))\n",
    "train_labels = y_train\n",
    "# Fit the model\n",
    "model.fit(train_data, train_labels, validation_split=0.2, epochs=3)"
   ]
  },
  {
   "cell_type": "code",
   "execution_count": 15,
   "id": "9e302383",
   "metadata": {},
   "outputs": [
    {
     "name": "stdout",
     "output_type": "stream",
     "text": [
      "313/313 [==============================] - 1s 3ms/step - loss: 1.6584 - accuracy: 0.2894\n"
     ]
    },
    {
     "data": {
      "text/plain": [
       "[1.6583818197250366, 0.28940001130104065]"
      ]
     },
     "execution_count": 15,
     "metadata": {},
     "output_type": "execute_result"
    }
   ],
   "source": [
    "# Reshape test data\n",
    "test_data = x_test.reshape((10000,784))\n",
    "test_labels = y_test\n",
    "\n",
    "# Evaluate the model\n",
    "model.evaluate(test_data, test_labels)"
   ]
  },
  {
   "cell_type": "markdown",
   "id": "c7a6a094",
   "metadata": {},
   "source": [
    "### Using Convolutions"
   ]
  },
  {
   "cell_type": "markdown",
   "id": "c64302fc",
   "metadata": {},
   "source": [
    "### One dimensional convolutions"
   ]
  },
  {
   "cell_type": "code",
   "execution_count": 21,
   "id": "16fc0419",
   "metadata": {},
   "outputs": [
    {
     "name": "stdout",
     "output_type": "stream",
     "text": [
      "[ 1 -1  1 -1  1 -1  1 -1  0  0]\n"
     ]
    }
   ],
   "source": [
    "array = np.array([1, 0, 1, 0, 1, 0, 1, 0, 1, 0])\n",
    "kernel = np.array([1, -1, 0])\n",
    "conv = np.array([0, 0, 0, 0, 0, 0, 0, 0, 0, 0])\n",
    "\n",
    "# Output array\n",
    "for ii in range(8):\n",
    "    conv[ii] = (kernel * array[ii:ii+3]).sum()\n",
    "\n",
    "# Print conv\n",
    "print(conv)"
   ]
  },
  {
   "cell_type": "markdown",
   "id": "d7ccceaf",
   "metadata": {},
   "source": [
    "### Image convolutions"
   ]
  },
  {
   "cell_type": "code",
   "execution_count": 22,
   "id": "06885b43",
   "metadata": {},
   "outputs": [],
   "source": [
    "im = x_train[sample]"
   ]
  },
  {
   "cell_type": "code",
   "execution_count": 23,
   "id": "021a29cf",
   "metadata": {
    "scrolled": true
   },
   "outputs": [
    {
     "name": "stdout",
     "output_type": "stream",
     "text": [
      "[[0.000e+00 0.000e+00 0.000e+00 0.000e+00 2.180e+02 5.510e+02 7.600e+02\n",
      "  9.470e+02 1.028e+03 9.420e+02 8.500e+02 7.730e+02 6.680e+02 5.830e+02\n",
      "  6.970e+02 7.870e+02 8.500e+02 9.060e+02 1.028e+03 8.940e+02 6.270e+02\n",
      "  3.970e+02 3.400e+01 0.000e+00 0.000e+00 0.000e+00 0.000e+00 0.000e+00]\n",
      " [0.000e+00 0.000e+00 0.000e+00 6.600e+01 3.860e+02 7.220e+02 9.050e+02\n",
      "  9.190e+02 9.250e+02 9.880e+02 1.024e+03 1.003e+03 9.030e+02 8.640e+02\n",
      "  8.930e+02 9.930e+02 9.560e+02 9.750e+02 9.200e+02 9.410e+02 8.840e+02\n",
      "  5.720e+02 2.340e+02 0.000e+00 0.000e+00 0.000e+00 0.000e+00 0.000e+00]\n",
      " [0.000e+00 0.000e+00 0.000e+00 1.350e+02 5.150e+02 7.800e+02 8.140e+02\n",
      "  8.650e+02 8.840e+02 9.030e+02 9.340e+02 9.520e+02 9.350e+02 8.880e+02\n",
      "  9.340e+02 9.420e+02 9.310e+02 9.070e+02 9.160e+02 8.630e+02 8.620e+02\n",
      "  7.440e+02 3.540e+02 5.900e+01 0.000e+00 0.000e+00 0.000e+00 0.000e+00]\n",
      " [0.000e+00 0.000e+00 0.000e+00 1.630e+02 6.180e+02 7.670e+02 7.820e+02\n",
      "  8.510e+02 8.830e+02 8.860e+02 8.960e+02 8.880e+02 8.890e+02 8.840e+02\n",
      "  8.990e+02 9.140e+02 9.190e+02 9.290e+02 9.030e+02 8.620e+02 8.410e+02\n",
      "  8.050e+02 5.110e+02 1.200e+02 0.000e+00 0.000e+00 0.000e+00 0.000e+00]\n",
      " [0.000e+00 0.000e+00 2.000e+00 2.120e+02 6.610e+02 7.680e+02 7.590e+02\n",
      "  8.120e+02 8.770e+02 9.120e+02 9.130e+02 9.030e+02 9.020e+02 9.010e+02\n",
      "  9.020e+02 9.240e+02 9.460e+02 9.530e+02 9.240e+02 8.930e+02 8.490e+02\n",
      "  8.360e+02 6.350e+02 1.580e+02 0.000e+00 0.000e+00 0.000e+00 0.000e+00]\n",
      " [0.000e+00 0.000e+00 3.500e+01 2.730e+02 7.120e+02 7.710e+02 7.320e+02\n",
      "  7.510e+02 8.460e+02 8.910e+02 9.100e+02 9.120e+02 9.110e+02 9.040e+02\n",
      "  8.950e+02 9.120e+02 9.300e+02 9.360e+02 9.160e+02 8.490e+02 8.220e+02\n",
      "  8.410e+02 6.700e+02 2.060e+02 0.000e+00 0.000e+00 0.000e+00 0.000e+00]\n",
      " [0.000e+00 0.000e+00 5.900e+01 3.430e+02 7.040e+02 7.790e+02 7.680e+02\n",
      "  6.890e+02 7.340e+02 8.190e+02 8.400e+02 8.510e+02 8.510e+02 8.380e+02\n",
      "  8.330e+02 8.350e+02 8.680e+02 8.650e+02 8.020e+02 8.270e+02 8.040e+02\n",
      "  7.900e+02 7.000e+02 2.480e+02 2.100e+01 0.000e+00 0.000e+00 0.000e+00]\n",
      " [0.000e+00 0.000e+00 7.900e+01 3.830e+02 7.110e+02 8.970e+02 8.830e+02\n",
      "  7.600e+02 6.710e+02 7.750e+02 7.960e+02 8.120e+02 8.070e+02 7.900e+02\n",
      "  7.870e+02 8.080e+02 8.400e+02 8.340e+02 8.000e+02 8.530e+02 9.290e+02\n",
      "  8.740e+02 7.170e+02 3.560e+02 6.100e+01 0.000e+00 0.000e+00 0.000e+00]\n",
      " [0.000e+00 0.000e+00 1.000e+02 3.360e+02 6.580e+02 9.610e+02 8.870e+02\n",
      "  7.820e+02 7.430e+02 7.640e+02 8.020e+02 7.980e+02 7.890e+02 7.920e+02\n",
      "  7.940e+02 8.140e+02 8.680e+02 8.570e+02 8.370e+02 7.730e+02 9.510e+02\n",
      "  9.240e+02 6.540e+02 3.410e+02 1.080e+02 0.000e+00 0.000e+00 0.000e+00]\n",
      " [0.000e+00 0.000e+00 0.000e+00 1.310e+02 3.620e+02 4.580e+02 5.730e+02\n",
      "  5.640e+02 7.450e+02 8.040e+02 7.870e+02 7.830e+02 7.940e+02 7.960e+02\n",
      "  8.020e+02 8.140e+02 8.480e+02 9.220e+02 7.220e+02 5.230e+02 5.490e+02\n",
      "  4.990e+02 3.380e+02 1.150e+02 0.000e+00 0.000e+00 0.000e+00 0.000e+00]\n",
      " [0.000e+00 0.000e+00 0.000e+00 1.000e+00 3.400e+01 1.790e+02 1.100e+02\n",
      "  4.320e+02 7.560e+02 8.230e+02 7.760e+02 7.880e+02 7.930e+02 8.040e+02\n",
      "  8.130e+02 8.040e+02 8.260e+02 8.990e+02 7.700e+02 2.080e+02 1.320e+02\n",
      "  1.620e+02 1.000e+01 0.000e+00 0.000e+00 0.000e+00 0.000e+00 0.000e+00]\n",
      " [0.000e+00 0.000e+00 1.000e+00 4.000e+00 9.000e+00 9.000e+00 4.200e+01\n",
      "  3.190e+02 7.320e+02 7.990e+02 7.880e+02 7.900e+02 7.990e+02 8.020e+02\n",
      "  8.150e+02 8.080e+02 8.100e+02 8.880e+02 7.720e+02 2.050e+02 3.000e+00\n",
      "  7.000e+00 6.000e+00 3.000e+00 0.000e+00 0.000e+00 0.000e+00 0.000e+00]\n",
      " [0.000e+00 0.000e+00 0.000e+00 1.000e+00 4.000e+00 1.000e+01 2.600e+01\n",
      "  2.670e+02 6.980e+02 7.920e+02 7.890e+02 7.960e+02 8.020e+02 8.060e+02\n",
      "  8.150e+02 8.160e+02 8.140e+02 8.680e+02 7.330e+02 2.000e+02 1.000e+00\n",
      "  6.000e+00 4.000e+00 0.000e+00 0.000e+00 0.000e+00 0.000e+00 0.000e+00]\n",
      " [0.000e+00 0.000e+00 0.000e+00 0.000e+00 4.000e+00 9.000e+00 3.400e+01\n",
      "  2.830e+02 6.890e+02 7.890e+02 7.900e+02 8.080e+02 8.030e+02 8.120e+02\n",
      "  8.160e+02 8.280e+02 8.220e+02 8.270e+02 6.880e+02 1.900e+02 2.000e+00\n",
      "  6.000e+00 2.000e+00 0.000e+00 0.000e+00 0.000e+00 0.000e+00 0.000e+00]\n",
      " [0.000e+00 0.000e+00 0.000e+00 0.000e+00 4.000e+00 1.100e+01 6.100e+01\n",
      "  3.670e+02 7.100e+02 7.930e+02 8.150e+02 8.050e+02 8.210e+02 8.080e+02\n",
      "  8.180e+02 8.300e+02 8.290e+02 8.210e+02 6.880e+02 2.400e+02 3.100e+01\n",
      "  1.000e+01 3.000e+00 0.000e+00 0.000e+00 0.000e+00 0.000e+00 0.000e+00]\n",
      " [0.000e+00 0.000e+00 0.000e+00 0.000e+00 3.000e+00 8.000e+00 1.170e+02\n",
      "  4.810e+02 7.590e+02 8.100e+02 8.220e+02 8.180e+02 8.210e+02 8.150e+02\n",
      "  8.190e+02 8.340e+02 8.340e+02 8.230e+02 7.190e+02 3.380e+02 5.500e+01\n",
      "  1.200e+01 5.000e+00 0.000e+00 0.000e+00 0.000e+00 0.000e+00 0.000e+00]\n",
      " [0.000e+00 0.000e+00 0.000e+00 0.000e+00 3.000e+00 4.000e+00 1.540e+02\n",
      "  5.910e+02 7.980e+02 8.230e+02 8.370e+02 8.210e+02 8.420e+02 8.240e+02\n",
      "  8.180e+02 8.490e+02 8.310e+02 8.280e+02 7.570e+02 4.380e+02 9.300e+01\n",
      "  1.100e+01 4.000e+00 0.000e+00 0.000e+00 0.000e+00 0.000e+00 0.000e+00]\n",
      " [0.000e+00 0.000e+00 0.000e+00 2.000e+00 5.000e+00 7.000e+00 1.930e+02\n",
      "  6.400e+02 8.310e+02 8.300e+02 8.490e+02 8.240e+02 8.570e+02 8.350e+02\n",
      "  8.250e+02 8.480e+02 8.430e+02 8.210e+02 7.970e+02 5.470e+02 1.300e+02\n",
      "  6.000e+00 3.000e+00 0.000e+00 0.000e+00 0.000e+00 0.000e+00 0.000e+00]\n",
      " [0.000e+00 0.000e+00 0.000e+00 3.000e+00 9.000e+00 2.100e+01 2.210e+02\n",
      "  6.790e+02 8.210e+02 8.450e+02 8.510e+02 8.260e+02 8.670e+02 8.500e+02\n",
      "  8.300e+02 8.570e+02 8.570e+02 8.340e+02 8.320e+02 6.200e+02 1.690e+02\n",
      "  3.000e+00 4.000e+00 1.000e+00 0.000e+00 0.000e+00 0.000e+00 0.000e+00]\n",
      " [0.000e+00 0.000e+00 0.000e+00 4.000e+00 1.100e+01 5.100e+01 3.170e+02\n",
      "  7.160e+02 8.390e+02 8.630e+02 8.630e+02 8.360e+02 8.850e+02 8.730e+02\n",
      "  8.410e+02 8.610e+02 8.790e+02 8.500e+02 8.250e+02 6.590e+02 1.830e+02\n",
      "  8.000e+00 8.000e+00 3.000e+00 0.000e+00 0.000e+00 0.000e+00 0.000e+00]\n",
      " [0.000e+00 0.000e+00 0.000e+00 4.000e+00 1.200e+01 9.100e+01 4.190e+02\n",
      "  7.810e+02 8.500e+02 8.810e+02 8.750e+02 8.410e+02 9.070e+02 8.950e+02\n",
      "  8.500e+02 8.550e+02 9.150e+02 8.710e+02 8.380e+02 6.800e+02 2.350e+02\n",
      "  2.400e+01 1.100e+01 4.000e+00 0.000e+00 0.000e+00 0.000e+00 0.000e+00]\n",
      " [0.000e+00 0.000e+00 0.000e+00 4.000e+00 1.300e+01 1.090e+02 5.170e+02\n",
      "  8.100e+02 8.580e+02 9.100e+02 8.690e+02 8.500e+02 9.160e+02 9.240e+02\n",
      "  8.440e+02 8.530e+02 9.480e+02 9.090e+02 8.510e+02 7.210e+02 2.920e+02\n",
      "  4.800e+01 1.300e+01 4.000e+00 0.000e+00 0.000e+00 0.000e+00 0.000e+00]\n",
      " [0.000e+00 0.000e+00 0.000e+00 5.000e+00 1.400e+01 1.430e+02 5.590e+02\n",
      "  8.380e+02 8.680e+02 9.160e+02 8.620e+02 8.440e+02 9.460e+02 9.580e+02\n",
      "  8.520e+02 8.530e+02 9.790e+02 9.390e+02 8.630e+02 7.450e+02 3.290e+02\n",
      "  6.200e+01 1.600e+01 5.000e+00 0.000e+00 0.000e+00 0.000e+00 0.000e+00]\n",
      " [0.000e+00 0.000e+00 0.000e+00 5.000e+00 1.500e+01 1.400e+02 5.760e+02\n",
      "  8.280e+02 8.700e+02 9.030e+02 8.330e+02 8.480e+02 9.820e+02 9.990e+02\n",
      "  8.570e+02 8.500e+02 9.880e+02 9.490e+02 8.650e+02 7.450e+02 3.360e+02\n",
      "  6.300e+01 1.700e+01 7.000e+00 0.000e+00 0.000e+00 0.000e+00 0.000e+00]\n",
      " [0.000e+00 0.000e+00 0.000e+00 5.000e+00 1.500e+01 1.340e+02 6.020e+02\n",
      "  8.330e+02 8.690e+02 8.990e+02 8.380e+02 8.840e+02 1.008e+03 1.029e+03\n",
      "  8.700e+02 8.750e+02 1.026e+03 9.460e+02 8.750e+02 7.420e+02 3.210e+02\n",
      "  5.300e+01 1.700e+01 5.000e+00 0.000e+00 0.000e+00 0.000e+00 0.000e+00]\n",
      " [0.000e+00 0.000e+00 0.000e+00 0.000e+00 0.000e+00 0.000e+00 0.000e+00\n",
      "  0.000e+00 0.000e+00 0.000e+00 0.000e+00 0.000e+00 0.000e+00 0.000e+00\n",
      "  0.000e+00 0.000e+00 0.000e+00 0.000e+00 0.000e+00 0.000e+00 0.000e+00\n",
      "  0.000e+00 0.000e+00 0.000e+00 0.000e+00 0.000e+00 0.000e+00 0.000e+00]\n",
      " [0.000e+00 0.000e+00 0.000e+00 0.000e+00 0.000e+00 0.000e+00 0.000e+00\n",
      "  0.000e+00 0.000e+00 0.000e+00 0.000e+00 0.000e+00 0.000e+00 0.000e+00\n",
      "  0.000e+00 0.000e+00 0.000e+00 0.000e+00 0.000e+00 0.000e+00 0.000e+00\n",
      "  0.000e+00 0.000e+00 0.000e+00 0.000e+00 0.000e+00 0.000e+00 0.000e+00]\n",
      " [0.000e+00 0.000e+00 0.000e+00 0.000e+00 0.000e+00 0.000e+00 0.000e+00\n",
      "  0.000e+00 0.000e+00 0.000e+00 0.000e+00 0.000e+00 0.000e+00 0.000e+00\n",
      "  0.000e+00 0.000e+00 0.000e+00 0.000e+00 0.000e+00 0.000e+00 0.000e+00\n",
      "  0.000e+00 0.000e+00 0.000e+00 0.000e+00 0.000e+00 0.000e+00 0.000e+00]]\n"
     ]
    }
   ],
   "source": [
    "kernel = np.array([[0, 1, 0], [1, 1, 1], [0, 1, 0]])\n",
    "result = np.zeros(im.shape)\n",
    "\n",
    "# Output array\n",
    "for ii in range(im.shape[0] - 3):\n",
    "    for jj in range(im.shape[1] - 3):\n",
    "        result[ii, jj] = (im[ii:ii+3, jj:jj+3] * kernel).sum()\n",
    "\n",
    "# Print result\n",
    "print(result)"
   ]
  },
  {
   "cell_type": "markdown",
   "id": "d3ef8f81",
   "metadata": {},
   "source": [
    "### Implementing image convolutions in Keras"
   ]
  },
  {
   "cell_type": "markdown",
   "id": "14eb12ee",
   "metadata": {},
   "source": [
    "### Convolutional network for image classification"
   ]
  },
  {
   "cell_type": "code",
   "execution_count": 24,
   "id": "8b8bc15a",
   "metadata": {},
   "outputs": [],
   "source": [
    "# Import the necessary components from Keras\n",
    "from keras.models import Sequential\n",
    "from keras.layers import Dense, Conv2D, Flatten\n",
    "\n",
    "# Initialize the model object\n",
    "model = Sequential()\n",
    "\n",
    "# Add a convolutional layer\n",
    "model.add(Conv2D(10, kernel_size=3, activation='relu', \n",
    "               input_shape=(28,28,1)))\n",
    "\n",
    "# Flatten the output of the convolutional layer\n",
    "model.add(Flatten())\n",
    "# Add an output layer for the 3 categories\n",
    "model.add(Dense(10, activation='softmax'))"
   ]
  },
  {
   "cell_type": "code",
   "execution_count": 25,
   "id": "f54a3492",
   "metadata": {},
   "outputs": [
    {
     "name": "stdout",
     "output_type": "stream",
     "text": [
      "Epoch 1/3\n",
      "4800/4800 [==============================] - 28s 6ms/step - loss: 0.9010 - accuracy: 0.8226 - val_loss: 0.4102 - val_accuracy: 0.8550\n",
      "Epoch 2/3\n",
      "4800/4800 [==============================] - 29s 6ms/step - loss: 0.3697 - accuracy: 0.8679 - val_loss: 0.4225 - val_accuracy: 0.8560\n",
      "Epoch 3/3\n",
      "4800/4800 [==============================] - 29s 6ms/step - loss: 0.3278 - accuracy: 0.8806 - val_loss: 0.4350 - val_accuracy: 0.8626\n"
     ]
    },
    {
     "data": {
      "text/plain": [
       "<keras.callbacks.History at 0x28921729190>"
      ]
     },
     "execution_count": 25,
     "metadata": {},
     "output_type": "execute_result"
    }
   ],
   "source": [
    "# Compile the model \n",
    "model.compile(optimizer='adam', \n",
    "              loss='sparse_categorical_crossentropy', \n",
    "              metrics=['accuracy'])\n",
    "\n",
    "# Fit the model on a training set\n",
    "model.fit(x_train, y_train, \n",
    "          validation_split=.2, \n",
    "          epochs=3, batch_size=10)"
   ]
  },
  {
   "cell_type": "code",
   "execution_count": 26,
   "id": "9f377a39",
   "metadata": {},
   "outputs": [
    {
     "name": "stdout",
     "output_type": "stream",
     "text": [
      "1000/1000 [==============================] - 4s 4ms/step - loss: 0.4569 - accuracy: 0.8563\n"
     ]
    },
    {
     "data": {
      "text/plain": [
       "[0.45686185359954834, 0.8562999963760376]"
      ]
     },
     "execution_count": 26,
     "metadata": {},
     "output_type": "execute_result"
    }
   ],
   "source": [
    "# Evaluate the model on separate test data\n",
    "model.evaluate(x_test,y_test, batch_size=10)"
   ]
  },
  {
   "cell_type": "code",
   "execution_count": 27,
   "id": "fb18883e",
   "metadata": {},
   "outputs": [],
   "source": [
    "# Initialize the model\n",
    "model1 = Sequential()\n",
    "\n",
    "# Add the convolutional layer\n",
    "model1.add(Conv2D(10, kernel_size=3, activation='relu', \n",
    "                 input_shape=(28,28,1), \n",
    "                 padding='same'))\n",
    "\n",
    "# Feed into output layer\n",
    "model1.add(Flatten())\n",
    "model1.add(Dense(10, activation='softmax'))"
   ]
  },
  {
   "cell_type": "code",
   "execution_count": 28,
   "id": "344f833a",
   "metadata": {},
   "outputs": [],
   "source": [
    "# Initialize the model\n",
    "model2 = Sequential()\n",
    "\n",
    "# Add the convolutional layer\n",
    "model2.add(Conv2D(10, kernel_size=3, activation='relu', \n",
    "              input_shape=(28,28,1), \n",
    "              strides=2))\n",
    "\n",
    "# Feed into output layer\n",
    "model2.add(Flatten())\n",
    "model2.add(Dense(10, activation='softmax'))"
   ]
  },
  {
   "cell_type": "code",
   "execution_count": null,
   "id": "61acb817",
   "metadata": {},
   "outputs": [],
   "source": [
    "# Compile the model \n",
    "model1.compile(optimizer='adam', \n",
    "              loss='sparse_categorical_crossentropy', \n",
    "              metrics=['accuracy'])\n",
    "\n",
    "# Fit the model on a training set\n",
    "model1.fit(x_train, y_train, \n",
    "          validation_split=.2, \n",
    "          epochs=10, batch_size=10)"
   ]
  },
  {
   "cell_type": "code",
   "execution_count": null,
   "id": "a9d2b126",
   "metadata": {},
   "outputs": [],
   "source": [
    "# Compile the model \n",
    "model2.compile(optimizer='adam', \n",
    "              loss='sparse_categorical_crossentropy', \n",
    "              metrics=['accuracy'])\n",
    "\n",
    "# Fit the model on a training set\n",
    "model2.fit(x_train, y_train, \n",
    "          validation_split=.2, \n",
    "          epochs=10, batch_size=10)"
   ]
  },
  {
   "cell_type": "markdown",
   "id": "8b4c19d5",
   "metadata": {},
   "source": [
    "### Deep learning network"
   ]
  },
  {
   "cell_type": "code",
   "execution_count": null,
   "id": "e4fd816e",
   "metadata": {},
   "outputs": [],
   "source": [
    "from keras.models import Sequential\n",
    "from keras.layers import Dense, Conv2D, Flatten\n",
    "\n",
    "model = Sequential()\n",
    "\n",
    "# Add a convolutional layer (15 units)\n",
    "model.add(Conv2D(15, kernel_size=2, activation='relu', \n",
    "               input_shape=(28,28,1)))\n",
    "\n",
    "\n",
    "# Add another convolutional layer (5 units)\n",
    "model.add(Conv2D(5, kernel_size=2, activation='relu', \n",
    "               ))\n",
    "\n",
    "# Flatten and feed to output layer\n",
    "model.add(Flatten())\n",
    "model.add(Dense(10, activation='softmax'))"
   ]
  },
  {
   "cell_type": "code",
   "execution_count": null,
   "id": "be6b2580",
   "metadata": {},
   "outputs": [],
   "source": [
    "# Compile model\n",
    "model.compile(optimizer='adam', \n",
    "              loss='sparse_categorical_crossentropy', \n",
    "              metrics=['accuracy'])\n",
    "\n",
    "# Fit the model to training data \n",
    "model.fit(x_train, y_train, \n",
    "          validation_split=0.2, \n",
    "          epochs=3, batch_size=10)\n",
    "\n",
    "# Evaluate the model on test data\n",
    "model.evaluate(x_test, y_test, batch_size=10)"
   ]
  },
  {
   "cell_type": "markdown",
   "id": "0d32849f",
   "metadata": {},
   "source": [
    "### Pooling operations"
   ]
  },
  {
   "cell_type": "code",
   "execution_count": 37,
   "id": "434caf4d",
   "metadata": {},
   "outputs": [],
   "source": [
    "from keras.layers import Dense, Conv2D, Flatten, MaxPool2D"
   ]
  },
  {
   "cell_type": "code",
   "execution_count": 30,
   "id": "8d618ca8",
   "metadata": {},
   "outputs": [
    {
     "data": {
      "text/plain": [
       "'3.8.8'"
      ]
     },
     "execution_count": 30,
     "metadata": {},
     "output_type": "execute_result"
    }
   ],
   "source": [
    "import platform \n",
    "platform.python_version()"
   ]
  },
  {
   "cell_type": "code",
   "execution_count": 34,
   "id": "63bece07",
   "metadata": {},
   "outputs": [],
   "source": [
    "#!jupyter --version"
   ]
  },
  {
   "cell_type": "code",
   "execution_count": 42,
   "id": "8039843e",
   "metadata": {},
   "outputs": [],
   "source": [
    "model = Sequential()"
   ]
  },
  {
   "cell_type": "code",
   "execution_count": 43,
   "id": "8b1adeba",
   "metadata": {},
   "outputs": [
    {
     "name": "stdout",
     "output_type": "stream",
     "text": [
      "Model: \"sequential_6\"\n",
      "_________________________________________________________________\n",
      " Layer (type)                Output Shape              Param #   \n",
      "=================================================================\n",
      " conv2d_7 (Conv2D)           (None, 27, 27, 15)        75        \n",
      "                                                                 \n",
      " max_pooling2d_1 (MaxPooling  (None, 13, 13, 15)       0         \n",
      " 2D)                                                             \n",
      "                                                                 \n",
      " conv2d_8 (Conv2D)           (None, 12, 12, 5)         305       \n",
      "                                                                 \n",
      " flatten_5 (Flatten)         (None, 720)               0         \n",
      "                                                                 \n",
      " dense_8 (Dense)             (None, 10)                7210      \n",
      "                                                                 \n",
      "=================================================================\n",
      "Total params: 7,590\n",
      "Trainable params: 7,590\n",
      "Non-trainable params: 0\n",
      "_________________________________________________________________\n"
     ]
    }
   ],
   "source": [
    "# Add a convolutional layer\n",
    "model.add(Conv2D(15, kernel_size=2, activation='relu', \n",
    "                 input_shape=(28,28,1)))\n",
    "\n",
    "# Add a pooling operation\n",
    "model.add(MaxPool2D(2))\n",
    "\n",
    "# Add another convolutional layer\n",
    "model.add(Conv2D(5, kernel_size=2, activation='relu'))\n",
    "\n",
    "# Flatten and feed to output layer\n",
    "model.add(Flatten())\n",
    "model.add(Dense(10, activation='softmax'))\n",
    "model.summary()"
   ]
  },
  {
   "cell_type": "code",
   "execution_count": 53,
   "id": "72d7020c",
   "metadata": {},
   "outputs": [
    {
     "name": "stdout",
     "output_type": "stream",
     "text": [
      "Epoch 1/3\n",
      "4800/4800 [==============================] - 22s 5ms/step - loss: 0.2850 - accuracy: 0.8950 - val_loss: 0.3641 - val_accuracy: 0.8723\n",
      "Epoch 2/3\n",
      "4800/4800 [==============================] - 21s 4ms/step - loss: 0.2826 - accuracy: 0.8946 - val_loss: 0.3454 - val_accuracy: 0.8799\n",
      "Epoch 3/3\n",
      "4800/4800 [==============================] - 21s 4ms/step - loss: 0.2801 - accuracy: 0.8975 - val_loss: 0.3511 - val_accuracy: 0.8809\n",
      "1000/1000 [==============================] - 3s 2ms/step - loss: 0.3696 - accuracy: 0.8703\n"
     ]
    },
    {
     "data": {
      "text/plain": [
       "[0.3696213662624359, 0.8702999949455261]"
      ]
     },
     "execution_count": 53,
     "metadata": {},
     "output_type": "execute_result"
    }
   ],
   "source": [
    "# Compile the model\n",
    "model.compile(optimizer='adam', \n",
    "              loss='sparse_categorical_crossentropy', \n",
    "              metrics=['accuracy'])\n",
    "\n",
    "# Fit to training data\n",
    "model.fit(x_train, y_train, epochs=3, validation_split=.2, batch_size=10)\n",
    "\n",
    "# Evaluate on test data \n",
    "model.evaluate(x_test,y_test,batch_size=10)"
   ]
  },
  {
   "cell_type": "markdown",
   "id": "8c5c01ee",
   "metadata": {},
   "source": [
    "### Improving Deep Convolutional Networks"
   ]
  },
  {
   "cell_type": "code",
   "execution_count": 52,
   "id": "62b2d122",
   "metadata": {},
   "outputs": [],
   "source": [
    "from keras.callbacks import ModelCheckpoint"
   ]
  },
  {
   "cell_type": "code",
   "execution_count": 54,
   "id": "b988902f",
   "metadata": {},
   "outputs": [
    {
     "name": "stdout",
     "output_type": "stream",
     "text": [
      "Epoch 1/3\n",
      "4800/4800 [==============================] - 26s 5ms/step - loss: 0.2769 - accuracy: 0.8980 - val_loss: 0.3573 - val_accuracy: 0.8791\n",
      "Epoch 2/3\n",
      "4800/4800 [==============================] - 27s 6ms/step - loss: 0.2760 - accuracy: 0.8990 - val_loss: 0.3546 - val_accuracy: 0.8778\n",
      "Epoch 3/3\n",
      "4800/4800 [==============================] - 26s 5ms/step - loss: 0.2733 - accuracy: 0.8980 - val_loss: 0.3787 - val_accuracy: 0.8729\n"
     ]
    },
    {
     "data": {
      "image/png": "[encoded data removed]",
      "text/plain": [
       "<Figure size 432x288 with 1 Axes>"
      ]
     },
     "metadata": {
      "needs_background": "light"
     },
     "output_type": "display_data"
    }
   ],
   "source": [
    "import matplotlib.pyplot as plt\n",
    "\n",
    "\n",
    "# This checkpoint object will store the model parameters \n",
    "# in the file \"weights.hdf5\"\n",
    "checkpoint = ModelCheckpoint('weights.hdf5', monitor='val_loss',\n",
    "                             save_best_only=True)\n",
    "\n",
    "\n",
    "# Train the model and store the training object\n",
    "training = model.fit(x_train, y_train, epochs=3, validation_split=.2, \n",
    "                     batch_size=10,callbacks=checkpoint)\n",
    "\n",
    "# Extract the history from the training object\n",
    "history = training.history\n",
    "\n",
    "# Plot the training loss \n",
    "plt.plot(history['loss'])\n",
    "# Plot the validation loss\n",
    "plt.plot(history['val_loss'])\n",
    "\n",
    "# Show the figure\n",
    "plt.show()"
   ]
  },
  {
   "cell_type": "code",
   "execution_count": 55,
   "id": "87266ba7",
   "metadata": {},
   "outputs": [
    {
     "name": "stdout",
     "output_type": "stream",
     "text": [
      "1/1 [==============================] - 0s 154ms/step\n"
     ]
    },
    {
     "data": {
      "text/plain": [
       "array([[6.53528447e-12, 1.54705570e-15, 1.97289376e-17, 3.26585663e-17,\n",
       "        2.85731200e-18, 4.14673013e-06, 2.63374942e-15, 1.99982896e-04,\n",
       "        8.77647111e-09, 9.99795854e-01],\n",
       "       [6.01104421e-06, 1.05261520e-11, 9.80118275e-01, 1.67510689e-06,\n",
       "        5.88848488e-04, 7.67550411e-13, 1.92853045e-02, 4.61875651e-18,\n",
       "        1.92672385e-08, 3.18672938e-15],\n",
       "       [2.50636352e-11, 1.00000000e+00, 1.30912208e-13, 7.67774200e-09,\n",
       "        6.19149487e-09, 5.21256697e-17, 4.64845731e-11, 7.79628894e-19,\n",
       "        1.33728681e-13, 1.29243675e-14]], dtype=float32)"
      ]
     },
     "execution_count": 55,
     "metadata": {},
     "output_type": "execute_result"
    }
   ],
   "source": [
    "# Load the weights from file\n",
    "model.load_weights('weights.hdf5')\n",
    "\n",
    "# Predict from the first three images in the test data\n",
    "model.predict(x_test[:3])"
   ]
  },
  {
   "cell_type": "code",
   "execution_count": 56,
   "id": "2716c91b",
   "metadata": {},
   "outputs": [
    {
     "data": {
      "text/plain": [
       "[<keras.layers.convolutional.conv2d.Conv2D at 0x28921cf6790>,\n",
       " <keras.layers.pooling.max_pooling2d.MaxPooling2D at 0x28921b47cd0>,\n",
       " <keras.layers.convolutional.conv2d.Conv2D at 0x28921b2eee0>,\n",
       " <keras.layers.reshaping.flatten.Flatten at 0x28921918ca0>,\n",
       " <keras.layers.core.dense.Dense at 0x28921cd36a0>]"
      ]
     },
     "execution_count": 56,
     "metadata": {},
     "output_type": "execute_result"
    }
   ],
   "source": [
    "model.layers"
   ]
  },
  {
   "cell_type": "markdown",
   "id": "24469696",
   "metadata": {},
   "source": [
    "### Interpreting the model"
   ]
  },
  {
   "cell_type": "code",
   "execution_count": 57,
   "id": "75e787cc",
   "metadata": {},
   "outputs": [
    {
     "name": "stdout",
     "output_type": "stream",
     "text": [
      "[[-0.20860876 -0.06567431]\n",
      " [-0.01584157  0.05897301]]\n"
     ]
    }
   ],
   "source": [
    "# Load the weights into the model\n",
    "model.load_weights('weights.hdf5')\n",
    "\n",
    "# Get the first convolutional layer from the model\n",
    "c1 = model.layers[0]\n",
    "\n",
    "# Get the weights of the first convolutional layer\n",
    "weights1 = c1.get_weights()\n",
    "\n",
    "# Pull out the first channel of the first kernel in the first layer\n",
    "kernel = weights1[0][...,0, 0]\n",
    "print(kernel)"
   ]
  },
  {
   "cell_type": "code",
   "execution_count": 60,
   "id": "1363bb7e",
   "metadata": {},
   "outputs": [],
   "source": [
    "def convolution(image, kernel):\n",
    "    kernel = kernel - kernel.mean()\n",
    "    result = np.zeros(image.shape)\n",
    "\n",
    "    for ii in range(image.shape[0]-2):\n",
    "        for jj in range(image.shape[1]-2):\n",
    "            result[ii, jj] = np.sum(image[ii:ii+2, jj:jj+2] * kernel)\n",
    "\n",
    "    return result"
   ]
  },
  {
   "cell_type": "code",
   "execution_count": 62,
   "id": "f22defee",
   "metadata": {},
   "outputs": [
    {
     "data": {
      "text/plain": [
       "<function __main__.convolution(image, kernel)>"
      ]
     },
     "execution_count": 62,
     "metadata": {},
     "output_type": "execute_result"
    }
   ],
   "source": [
    "convolution"
   ]
  },
  {
   "cell_type": "code",
   "execution_count": 78,
   "id": "cfb9b0d4",
   "metadata": {},
   "outputs": [
    {
     "data": {
      "image/png": "[encoded data removed]",
      "text/plain": [
       "<Figure size 432x288 with 1 Axes>"
      ]
     },
     "metadata": {
      "needs_background": "light"
     },
     "output_type": "display_data"
    }
   ],
   "source": [
    "image = x_test[0]\n",
    "\n",
    "# plot the sample\n",
    "fig = plt.figure\n",
    "plt.imshow(image)\n",
    "plt.show()"
   ]
  },
  {
   "cell_type": "code",
   "execution_count": 79,
   "id": "4bbb4e1e",
   "metadata": {},
   "outputs": [
    {
     "data": {
      "image/png": "[encoded data removed]",
      "text/plain": [
       "<Figure size 432x288 with 1 Axes>"
      ]
     },
     "metadata": {
      "needs_background": "light"
     },
     "output_type": "display_data"
    }
   ],
   "source": [
    "import matplotlib.pyplot as plt\n",
    "\n",
    "# Convolve with the fourth image in test_data\n",
    "out = convolution(x_test[0], kernel)\n",
    "\n",
    "# Visualize the result\n",
    "plt.imshow(out)\n",
    "plt.show()"
   ]
  },
  {
   "cell_type": "code",
   "execution_count": null,
   "id": "58260240",
   "metadata": {},
   "outputs": [],
   "source": []
  }
 ],
 "metadata": {
  "kernelspec": {
   "display_name": "Python 3",
   "language": "python",
   "name": "python3"
  },
  "language_info": {
   "codemirror_mode": {
    "name": "ipython",
    "version": 3
   },
   "file_extension": ".py",
   "mimetype": "text/x-python",
   "name": "python",
   "nbconvert_exporter": "python",
   "pygments_lexer": "ipython3",
   "version": "3.8.8"
  }
 },
 "nbformat": 4,
 "nbformat_minor": 5
}
