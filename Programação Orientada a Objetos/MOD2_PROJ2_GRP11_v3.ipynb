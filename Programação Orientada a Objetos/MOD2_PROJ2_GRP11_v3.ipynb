{
 "cells": [
  {
   "cell_type": "markdown",
   "metadata": {
    "id": "-qQCaKb9c2TV"
   },
   "source": [
    "## Entidades envolvidas\n",
    "\n",
    "Podemos imaginar as seguintes entidades envolvidas na eleição:\n",
    "\n",
    "* **Morador**: representa cada uma das pessoas que moram no prédio. Possui um nome, um Apartamento e é capaz de depositar um voto em um Candidato em uma Urna.\n",
    "* **Candidato**: é um tipo especial de Morador. Possui tudo o que o morador possui, mas também possui um número que será usado para representá-lo na Urna e uma contagem individual de votos.\n",
    "* **Apartamento**: representa cada uma das unidades do prédio. Possui uma lista de moradores e um status indicando se ele já votou ou não. Cada apartamento tem direito a exatamente 1 voto. Se a sua filha já votou, você não pode mais votar!\n",
    "* **Urna**: coleciona votos. Ela possui uma coleção de candidatos e uma coleção de moradores (lembrando que o candidato também conta como morador!). Ela armazena a quantidade de votos de cada candidato e é capaz de incrementar essa quantidade ao receber um voto novo. Ela também possui uma coleção de apartamentos e é capaz de determinar quais apartamentos já votaram (mas não qual apartamento votou em cada candidato - o voto é secreto). Quando o último apartamento votar, ela publica os resultados e declara o vencedor.\n",
    "\n",
    "Vamos pensar juntos em meios de implementar cada uma das classes.  \n",
    "\n",
    "### Morador\n",
    "\n",
    "A classe mais básica de nossa eleição, representando cada uma das pessoas que habitam no condomínio. O morador obrigatoriamente possui um nome e um Apartamento.\n",
    "\n",
    "Seu construtor pode ou não receber uma string contendo o nome, e pode ou não receber um objeto Apartamento. Caso ele não receba um nome, deverá solicitar a digitação de um através do input. Caso ele não receba um objeto Apartamento, deverá pedir por input o número do apartamento e criar o objeto.\n",
    "\n",
    "O nome e apartamento digitados ou recebidos deverão se tornar atributos do objeto.\n",
    "\n",
    "Nosso objeto também deverá possuir um método para votar. Ele deverá receber um objeto Urna e pode receber um número inteiro correspondente ao número de um candidato ou, caso não receba, irá ler o número pelo teclado. Ela deverá primeiro verificar se o seu apartamento já votou, e caso não tenha, ela irá chamar o método de acrescentar voto na Urna, informando o número de seu candidato e passando seu objeto apartamento. Caso contrário, ela exibirá uma mensagem alertando que esse apartamento já votou.\n",
    "\n",
    "### Candidato\n",
    "\n",
    "Objetos da classe Candidato são, necessariamente, moradores. Eles possuem as mesmas informações e as mesmas ações que um morador. O que isso significa em programação orientada a objeto?\n",
    "\n",
    "Ele possui outros dois atributos: o seu número que será usado para identificá-lo na Urna e sua contagem de votos. Ambos devem ser inicializados com valor 0. \n",
    "\n",
    "Ele deve oferecer métodos para que seu número seja configurado (quando cadastrarmos o candidato na Urna, ela irá fornecer um número para ele), bem como para que sua contagem de votos seja atualizada (ao final da votação, a Urna irá atualizar a contagem de todos os candidatos).\n",
    "\n",
    "### Apartamento\n",
    "\n",
    "Objetos da classe Apartamento irão agregar objetos Morador. Isso significa que um de seus atributos será uma lista de moradores. Quando um Apartamento é criado, sua lista começará vazia. O Apartamento deve oferecer métodos para adicionar moradores novos (recebe um objeto Morador e adiciona à lista) e para visualizar seus moradores.\n",
    "\n",
    "Cada apartamento tem direito a exatamente um voto na eleição para síndico. Portanto, cada objeto também deve ter um atributo indicando se aquele apartamento já votou ou não. A classe deve fornecer meios para que a esse atributo possa ser atualizado, pois quando um morador votar, a urna irá alterar esse atributo registrando que o apartamento já votou.\n",
    "\n",
    "### Urna\n",
    "A classe mais complexa do projeto. Ela é responsável por boa parte da lógica da nossa eleição.\n",
    "\n",
    "Seu construtor deverá criar como atributos uma coleção de apartamentos e outra de candidatos - escolha a estrutura de dados que julgar mais adequada.\n",
    "\n",
    "A classe deve fornecer métodos que permitam o cadastro de apartamentos (recebendo como parâmetro objetos Apartamento já existentes) e candidatos (idem). Ao receber um candidato para cadastro, ela deverá gerar um número **único** para representar esse candidato na eleição e irá ajustar esse atributo diretamente no objeto candidato.\n",
    "\n",
    "Ela também deve ter um método para receber um voto, que deve receber um objeto apartamento e o número de um candidato. Ela deve atualizar a contagem de voto do candidato cujo número foi recebido, e marcar aquele apartamento como já votado. Se o apartamento que votou era o último que ainda podia votar, a urna deve imediatamente imprimir os resultados.\n",
    "\n",
    "Bole uma maneira que a urna possa sinalizar para o programa principal se ela já encerrou a votação ou não.\n",
    "\n",
    "## O programa principal\n",
    "\n",
    "Seu programa principal terá 3 etapas - fique à vontade para modularizar essas etapas com o auxílio de funções, ou mesmo utilizar outras classes se julgar necessário.\n",
    "\n",
    "* Cadastro: o programa deverá ler informações sobre cada pessoa e ir criando os objetos Morador/Candidato e Apartamento correspondentes. Lembre-se de sempre perguntar se a próxima pessoa a ser lida é ou não candidata para decidir a melhor forma de instanciá-la no sistema.\n",
    "\n",
    "* Configuração: o programa deverá utilizar as informações obtidas na etapa anterior para criar uma urna.\n",
    "\n",
    "* Votação: o programa ficará em loop permitindo que diferentes moradores votem (ou tentem votar). Nessa etapa, o programa deve ser capaz de identificar qual o morador votando e utilizar os métodos criados previamente para realizar o voto. Quando a classe Urna informar que a votação acabou, o loop deve ser encerrado.\n",
    "\n",
    "## Dicas\n",
    "\n",
    "* Métodos mágicos: no mínimo uma _representação imprimível_ dos objetos de cada classe seria desejável para facilitar a sua vida. No caso de um morador, podemos imprimir seu nome e número do apartamento. No caso de um candidato, poderíamos incluir o número da urna. No caso do apartamento, seria legal imprimir todos os moradores. E no caso da urna, podemos ter dois casos: antes da votação acabar, apenas a lista de apartamentos que já votou deveria ser impressa. Após o término da votação, ela deveria imprimir quantos votos cada candidato recebeu e qual deles venceu.\n",
    "\n",
    "* Arquivos e testes: note que vocês sempre foram orientados a passar dados por parâmetros **ou** digitá-los. Se você bolar um esquema inteligente com arquivos em formato padronizado (como CSV) e organizar direitinho seu programa principal, você consegue gerar um único arquivo com todos os moradores e suas respectivas informações (número do apartamento, se é ou não candidato e em quem gostaria de votar) e automatizar completamente as etapas do seu programa.\n",
    "\n",
    "* Segurança adicional: atualmente, cada apartamento armazena a informação se já votou ou não. Mas e se o apartamento pudesse alterar essa informação e enganar a urna? Você pode colocar uma camada redundante de segurança fazendo com que a urna TAMBÉM controle quais apartamentos já votaram. Mesmo que o apartamento diga que não votou, se a urna está registrando que ele votou, então um hipotético segundo voto deve ser recusado. Veja se consegue pensar em outras possíveis falhas de segurança em potencial no programa. Lembre-se sempre de pensar do ponto de vista de uma classe e \"desconfiar\" das outras.\n",
    "\n",
    "* Criatividade: os enunciados trazem o **mínimo** que você precisa fazer para que o seu programa funcione como foi planejado. Isso não impede que você crie outros métodos, acrescente informações que possam ser úteis e até mesmo crie outras classes para modelar melhor outros fatores que poderiam ser considerados na organização da sua eleição.\n",
    "\n",
    "## Bônus: representação visual dos votos\n",
    "\n",
    "A função abaixo gera um gráfico de barras mostrando quantos votos cada candidato teve! Cole-a em sua classe Urna e faça os devidos ajustes para que ela use os atributos da Urna ao invés dos parâmetros utilizados. \n",
    "\n",
    "O programinha na célula seguinte apenas ilustra o funcionamento da função.\n"
   ]
  },
  {
   "cell_type": "code",
   "execution_count": 1,
   "metadata": {
    "id": "oC3DJ7EjXLSr"
   },
   "outputs": [],
   "source": [
    "# Com a finalidade de automatizar os testes e evitar digitarmos input por input,\n",
    "# criaremos 2 arquivos CSVs que irão representar 2 momentos do exercício em questão.\n",
    "\n",
    "# O primeiro momento é formação do condomínio, com os moradores e candidatos à eleição.\n",
    "# Neste primeiro ponto, utlizaremos um CSV com 3 colunas:\n",
    "# coluna 1 - Apartamento (apto) = com o número do apartamento \n",
    "# coluna 2 - Nome = nome do morador daquele apto.\n",
    "# coluna 3 - Candidato = um flag para identificar caso o morador seja candidato na eleição do condomínio\n",
    "# Dessa forma, será possível automatizar a criação dos objetos moradores e \n",
    "# candidatos e atrelá-los a um apto.\n",
    "\n",
    "# Considerando que o condomínio está constituído, o segundo momento é o início da votação.\n",
    "# Neste ponto, utilizaremos outro CSV com 3 colunas também, simulando o dia de votação:\n",
    "# coluna 1 - Apartamento (apto) = número do apartamento que está votando, para garantir que não haverá 2 votos do mesmo apto.\n",
    "# coluna 2 - Nome = nome do morador daquele apto, para registrar quem daquele apto votou.\n",
    "# coluna 3 - Candidato ID = o ID do candidato que deseja votar.\n",
    "# coluna 4 - Candidato Nome = o Nome do candidato que deseja votar."
   ]
  },
  {
   "cell_type": "markdown",
   "metadata": {
    "id": "rwek0huueAQs"
   },
   "source": [
    "# Classe Condomínio"
   ]
  },
  {
   "cell_type": "code",
   "execution_count": 2,
   "metadata": {
    "id": "vBx2youxFnuT"
   },
   "outputs": [],
   "source": [
    "# biblioteca que auxiliará na construção inicial do dicionário\n",
    "# from collections import defaultdict  # >> talvez não precise mais.\n",
    "\n",
    "class Condominio:\n",
    "    \n",
    "    def __init__(self):\n",
    "        \"\"\"Classe para criação do condomínio.\n",
    "        Terá toda relação de moradores por apto.\n",
    "        \"\"\"\n",
    "        #self.dict_apartamento = defaultdict(list)\n",
    "        self.dict_apartamento = {}\n",
    "        \n",
    "\n",
    "    def adiciona_apartamento(self, numero_apartamento, nome, candidato):\n",
    "        \"\"\"Método para adicionar moradores no condomínio.\n",
    "\n",
    "        Args:\n",
    "            numero_apartamento (int): Número do apto do morador. Será passado como atributo para construção dos objetos Morador ou Candidato.\n",
    "            nome (str): Nome do morador. Será passado como atributo para construção dos objetos Morador ou Candidato.\n",
    "            candidato (bool): [description]. Se o morador é candidadto ou não nas eleições.\n",
    "\n",
    "        Returns:\n",
    "            obj: objeto Morador ou Candidato\n",
    "            bool: True caso o objeto retornado seja Candidato\n",
    "        \"\"\"\n",
    "        # este flag será usado no programa principal para, a cada nova adição de morador,\n",
    "        # caso ele seja também candidato, chamar o método \"cadastra_candadato\" da classe Urna\n",
    "        \n",
    "        # >>>  talvez não precise deste flag.... na verificação podemos usar o isinstance(morador, Candidato)\n",
    "        flg_candidato = False\n",
    "        # primeiramente verifica se o apto já existe no dicionário condomínio\n",
    "        if(numero_apartamento not in self.dict_apartamento):\n",
    "            # caso não exista, ele criar o apto como chave e o padrão de entrada do valor\n",
    "            # definimos um padrão do valor como uma lista de 2 elementos, onde:\n",
    "            # índice 0 = boleano, identificando se o apto já possui um candidato cadastrado (True) ou não (False)\n",
    "            # índice 1 = uma lista dos moradores daquele apto\n",
    "            self.dict_apartamento[numero_apartamento] = [False,[]]\n",
    "        \n",
    "        # verifica se o nome já existe naquele apto\n",
    "        if(nome not in self.dict_apartamento[numero_apartamento]): \n",
    "            # se não existe, verifica se está sendo cadastrado candidato ou \"apenas\" um morador\n",
    "            if(candidato == \"Sim\" and self.dict_apartamento[numero_apartamento][0] == False):\n",
    "                # só irá criar objeto Candidato caso já não exista um candidato no apto\n",
    "                morador = Candidato(nome = nome, apartamento = numero_apartamento)\n",
    "                # flag do índice zero como True para não permitir cadastro de novo candidato neste apto\n",
    "                self.dict_apartamento[numero_apartamento][0] = True\n",
    "                flg_candidato = True\n",
    "            else:\n",
    "                # caso o cadastro seja de morador ou caso haja uma segunda tentativa de cadastro\n",
    "                # de candidato no mesmo apto, será craido um objeto Morador\n",
    "                morador = Morador(nome = nome, apartamento = numero_apartamento)                \n",
    "        \n",
    "        # adiciona na lista de moradores (índice = 1) daquele apto (chave od dicionário)\n",
    "        self.dict_apartamento[numero_apartamento][1].append(morador)\n",
    "        # este return será usado no programa principal quando a adição for de um Candidato        \n",
    "        return morador,flg_candidato"
   ]
  },
  {
   "cell_type": "markdown",
   "metadata": {
    "id": "Chjo9gdYeN1Z"
   },
   "source": [
    "# Classe Morador"
   ]
  },
  {
   "cell_type": "code",
   "execution_count": 3,
   "metadata": {
    "id": "Zskhgkb3d70w"
   },
   "outputs": [],
   "source": [
    "class Morador:\n",
    "    \n",
    "    def __init__(self, nome, apartamento):\n",
    "        \"\"\"Classe para criação do morador \"básico\" do condomínio.\n",
    "\n",
    "        Args:\n",
    "            nome (str): Nome do morador. Não permitirá 2 nomes iguais no mesmo apto.\n",
    "            apartamento (int): Apartamento do morador.\n",
    "        \"\"\"\n",
    "        self.nome = nome\n",
    "        self.apartamento = apartamento\n",
    "      \n",
    "           \n",
    "    def __repr__(self):        \n",
    "        return f\"apartamento:{self.apartamento}, nome:{self.nome}\""
   ]
  },
  {
   "cell_type": "markdown",
   "metadata": {
    "id": "9vtsd7weeUER"
   },
   "source": [
    "# Classe Candidato"
   ]
  },
  {
   "cell_type": "code",
   "execution_count": 4,
   "metadata": {
    "id": "kxgGHD-pd8KG"
   },
   "outputs": [],
   "source": [
    "class Candidato(Morador):\n",
    "  \n",
    "    def __init__(self, nome, apartamento):\n",
    "        \"\"\"Classe para criação do morador que também é candidato.\n",
    "        É uma classe filha da classe Morador.\n",
    "\n",
    "        Args:\n",
    "            nome (str): Nome do morador. Será passado para a classe Morador.\n",
    "            apartamento (int): Apto do morador. Será passado para a classe Morador.\n",
    "        \"\"\"\n",
    "        super().__init__(nome, apartamento)\n",
    "        # Criado como None, mas será autalizado pelo método da Urna depois.\n",
    "        self.__id_candidato = None  # >>> renomear para id_candidato\n",
    "        # Criado como zero, receberá atualização do método da Urna depois.\n",
    "        self.__qtd_votos = 0\n",
    "\n",
    "    @staticmethod\n",
    "    def atualiza_id(candidato, urna, id_candidato):\n",
    "        if isinstance(urna, Urna):\n",
    "            candidato.__id_candidato = id_candidato\n",
    "\n",
    "    @staticmethod\n",
    "    def atualiza_votos(candidato, urna, qtde_votos):\n",
    "        if isinstance(urna, Urna):\n",
    "            candidato.__qtd_votos = qtde_votos"
   ]
  },
  {
   "cell_type": "markdown",
   "metadata": {
    "id": "DheDklDEebm3"
   },
   "source": [
    "# Classe Urna"
   ]
  },
  {
   "cell_type": "code",
   "execution_count": 5,
   "metadata": {
    "id": "pyKztt8Iej2m"
   },
   "outputs": [],
   "source": [
    "class Urna:\n",
    "\n",
    "    def __init__(self):\n",
    "        \"\"\"Classe para criação da Urna.\n",
    "        Será responsável pela gestão da eleição.\n",
    "        Cadastro dos candidatos.\n",
    "        Apuração dos votos e resultado final.\n",
    "\n",
    "        Args:\n",
    "            dict_condominio (dict): Precisa receber o dicionário do condomínio para,\n",
    "            ao final das votações, verificar quais aptos não votaram.\n",
    "        \"\"\"\n",
    "        self.dict_condominio = None\n",
    "        # contabilizar votos por candidato\n",
    "        self.dict_voto_candidato = {}\n",
    "        # registrar aptos votantes e não permitir 2 votos do mesmo apto\n",
    "        self.dict_status_ap = {}\n",
    "        # contabilizar tipos de votos\n",
    "        self.dict_conta_status = {\"válido\":0, \"nulo\":0, \"branco\":0, \"abstenção\":0}\n",
    "        # gerar o id único para cada candidato\n",
    "        self.id_candidato = 0\n",
    "        \n",
    "\n",
    "    def atualiza_base(self, df_condominio):\n",
    "        self.df_condominio = df_condominio\n",
    "    \n",
    "    \n",
    "    def cadastra_candidato(self, candidato):\n",
    "        \"\"\"Método para cadastro dos candidadtos do condomínio.\n",
    "\n",
    "        Args:\n",
    "            candidato (obj): objeto Candidato. Importante para retornar para objeto o ID criado.\n",
    "        \"\"\"\n",
    "        # contador para gerar números únicos de IDs\n",
    "        self.id_candidato += 10\n",
    "        # inicializar o contador de votos com zero\n",
    "        # self.dict_voto_candidato[candidato.id_candidato] = 0    \n",
    "        self.dict_voto_candidato[(self.id_candidato, candidato.nome)] = 0\n",
    "        return candidato, self.id_candidato\n",
    "        \n",
    "    \n",
    "    def imprimi_votos(self):\n",
    "        \"\"\"Retorna lista de votos por candidato\n",
    "        \"\"\"\n",
    "        return self.dict_voto_candidato\n",
    "\n",
    "\n",
    "    def registra_voto(self, numero_apartamento, morador, id_candidato, candidato_nome):\n",
    "        \"\"\"Método para registro dos votos dos moradores.\n",
    "\n",
    "        Args:\n",
    "            numero_apartamento (int): Número do apto do morador que está votando\n",
    "            morador (obj): objeto Morador. Para verificar se o morador é realmente do apto informado.\n",
    "            id_candidato (int): Número ID do Candidato votado. Caso seja inexistente, será considerado voto Nulo.\n",
    "            candidato_nome (str): Nome do Candidato votado.\n",
    "\n",
    "        Returns:\n",
    "            bool: Confirmando registro de votação.\n",
    "        \"\"\"\n",
    "        # primeiro verifica se o morador realmente é daquele apto informado\n",
    "        if(morador in self.dict_condominio[numero_apartamento][1]):\n",
    "            # verifica se já não houve alguma votação de morador do mesmo apto\n",
    "            # e também se o apto realmente existe\n",
    "            if((numero_apartamento not in self.dict_status_ap) and (numero_apartamento in self.dict_condominio)):\n",
    "                # verifica se o ID do candidato existe\n",
    "                if( (id_candidato, candidato_nome) in self.dict_voto_candidato.keys()):\n",
    "                    # caso exista, soma um voto para candidato\n",
    "                    self.dict_voto_candidato[(id_candidato, candidato_nome)] += 1\n",
    "                    # identifica que apto já votou\n",
    "                    self.dict_status_ap[numero_apartamento] = True\n",
    "                    # contabiliza como voto válido \n",
    "                    self.dict_conta_status[\"válido\"] += 1\n",
    "                # caso ID não exista, verifica se morador votou em branco\n",
    "                elif(id_candidato == 999):\n",
    "                    self.dict_status_ap[numero_apartamento] = True\n",
    "                    self.dict_conta_status[\"branco\"] += 1    \n",
    "                # caso contrário, registra voto Nulo\n",
    "                else:\n",
    "                    self.dict_status_ap[numero_apartamento] = True\n",
    "                    self.dict_conta_status[\"nulo\"] += 1\n",
    "\n",
    "        return True\n",
    "    \n",
    "\n",
    "    def finaliza_urna(self):\n",
    "        # verificar quais aptos que estão no condomínio não estão presentes no dicionário de votação\n",
    "        aptos_nao_votaram = [ apto for apto in self.dict_condominio.keys() if apto not in self.dict_status_ap.keys() ]\n",
    "        abstencao = len(aptos_nao_votaram)\n",
    "        # atualiza a quantidade para status \"abstenção\"\n",
    "        self.dict_conta_status[\"abstenção\"] = abstencao\n",
    "        # classificando os candidatos por ordem decrescente dos votos\n",
    "        voto_ordenado = sorted(self.dict_voto_candidato.items(), key=lambda x: x[1], reverse=True)\n",
    "        # separando informações em 2 listas, para facilitar input do gráfico \n",
    "        candidato = [ k for k,v in voto_ordenado]\n",
    "        votos = [ v for k,v in voto_ordenado]\n",
    "\n",
    "        return candidato, votos"
   ]
  },
  {
   "cell_type": "markdown",
   "metadata": {
    "id": "VKgWCB5Ueu6U"
   },
   "source": [
    "# Programa Principal"
   ]
  },
  {
   "cell_type": "code",
   "execution_count": 6,
   "metadata": {
    "id": "Br716dlWelL3"
   },
   "outputs": [],
   "source": [
    "#importação do csv\n",
    "import pandas as pd"
   ]
  },
  {
   "cell_type": "code",
   "execution_count": 7,
   "metadata": {
    "id": "pxa_H5Lyr48-"
   },
   "outputs": [],
   "source": [
    "#importa planilha de casos de uso\n",
    "df_condominio = pd.read_excel('condominio.xlsx')\n",
    "df_votos = pd.read_excel('votos.xlsx')"
   ]
  },
  {
   "cell_type": "code",
   "execution_count": 8,
   "metadata": {
    "id": "5HgYkqE2kdI4"
   },
   "outputs": [
    {
     "data": {
      "text/html": [
       "<div>\n",
       "<style scoped>\n",
       "    .dataframe tbody tr th:only-of-type {\n",
       "        vertical-align: middle;\n",
       "    }\n",
       "\n",
       "    .dataframe tbody tr th {\n",
       "        vertical-align: top;\n",
       "    }\n",
       "\n",
       "    .dataframe thead th {\n",
       "        text-align: right;\n",
       "    }\n",
       "</style>\n",
       "<table border=\"1\" class=\"dataframe\">\n",
       "  <thead>\n",
       "    <tr style=\"text-align: right;\">\n",
       "      <th></th>\n",
       "      <th>Apartamento</th>\n",
       "      <th>Nome</th>\n",
       "      <th>Candidato</th>\n",
       "      <th>Unnamed: 3</th>\n",
       "      <th>Unnamed: 4</th>\n",
       "      <th>Unnamed: 5</th>\n",
       "    </tr>\n",
       "  </thead>\n",
       "  <tbody>\n",
       "    <tr>\n",
       "      <th>0</th>\n",
       "      <td>101</td>\n",
       "      <td>Alice</td>\n",
       "      <td>Sim</td>\n",
       "      <td>NaN</td>\n",
       "      <td>NaN</td>\n",
       "      <td>NaN</td>\n",
       "    </tr>\n",
       "    <tr>\n",
       "      <th>1</th>\n",
       "      <td>101</td>\n",
       "      <td>Arthur</td>\n",
       "      <td>Sim</td>\n",
       "      <td>NaN</td>\n",
       "      <td>Alice</td>\n",
       "      <td>10.0</td>\n",
       "    </tr>\n",
       "    <tr>\n",
       "      <th>2</th>\n",
       "      <td>101</td>\n",
       "      <td>Helena</td>\n",
       "      <td>Nao</td>\n",
       "      <td>NaN</td>\n",
       "      <td>Julia</td>\n",
       "      <td>20.0</td>\n",
       "    </tr>\n",
       "    <tr>\n",
       "      <th>3</th>\n",
       "      <td>102</td>\n",
       "      <td>Bernardo</td>\n",
       "      <td>Nao</td>\n",
       "      <td>NaN</td>\n",
       "      <td>Gabriel</td>\n",
       "      <td>30.0</td>\n",
       "    </tr>\n",
       "    <tr>\n",
       "      <th>4</th>\n",
       "      <td>102</td>\n",
       "      <td>Isabela</td>\n",
       "      <td>Nao</td>\n",
       "      <td>NaN</td>\n",
       "      <td>Alessandro</td>\n",
       "      <td>40.0</td>\n",
       "    </tr>\n",
       "  </tbody>\n",
       "</table>\n",
       "</div>"
      ],
      "text/plain": [
       "   Apartamento      Nome Candidato  Unnamed: 3  Unnamed: 4  Unnamed: 5\n",
       "0          101     Alice       Sim         NaN         NaN         NaN\n",
       "1          101    Arthur       Sim         NaN       Alice        10.0\n",
       "2          101    Helena       Nao         NaN       Julia        20.0\n",
       "3          102  Bernardo       Nao         NaN     Gabriel        30.0\n",
       "4          102   Isabela       Nao         NaN  Alessandro        40.0"
      ]
     },
     "execution_count": 8,
     "metadata": {},
     "output_type": "execute_result"
    }
   ],
   "source": [
    "#for i, row in df_condominio.iterrows():\n",
    "#    print(row[\"Apartamento\"], row[\"Nome\"], row[\"Candidato\"])\n",
    "df_condominio.head()"
   ]
  },
  {
   "cell_type": "code",
   "execution_count": 9,
   "metadata": {
    "id": "ZfITr2S6r7uO"
   },
   "outputs": [],
   "source": [
    "# chamar as bibliotecas das classes ???\n",
    "condominio = Condominio()\n",
    "urna = Urna()\n",
    "\n",
    "# O primeiro momento: formação do condomínio. -----------------------------------------------\n",
    "def construir_condominio(df_condominio):\n",
    "    for i, row in df_condominio.iterrows():\n",
    "        candidato, flg_candidato = condominio.adiciona_apartamento(row[\"Apartamento\"], row[\"Nome\"], row[\"Candidato\"])\n",
    "        if flg_candidato == True:\n",
    "            candidato, id_candidato = urna.cadastra_candidato(candidato)\n",
    "            Candidato.atualiza_id(candidato, urna, id_candidato)\n",
    "\n",
    "# Segundo momento: votação. -----------------------------------------------------------------\n",
    "\n",
    "\n",
    "\n",
    "# Finalizando. ------------------------------------------------------------------------------\n",
    "\n"
   ]
  },
  {
   "cell_type": "code",
   "execution_count": 10,
   "metadata": {
    "id": "OUks0_gPfjdK",
    "outputId": "b29e031c-96df-4339-d787-f6bf036c06d3"
   },
   "outputs": [
    {
     "data": {
      "text/plain": [
       "{}"
      ]
     },
     "execution_count": 10,
     "metadata": {},
     "output_type": "execute_result"
    }
   ],
   "source": [
    "#construir_condominio(df_condominio)\n",
    "condominio.dict_apartamento"
   ]
  },
  {
   "cell_type": "code",
   "execution_count": 11,
   "metadata": {},
   "outputs": [],
   "source": [
    "# Pessoal atribuindo condominio.dict_apartamento a urna.dict_condominio\n",
    "######################\n",
    "#######################\n",
    "#######################\n",
    " \n",
    "    \n",
    "urna.dict_condominio = condominio.dict_apartamento"
   ]
  },
  {
   "cell_type": "code",
   "execution_count": 12,
   "metadata": {},
   "outputs": [],
   "source": [
    "construir_condominio(df_condominio)"
   ]
  },
  {
   "cell_type": "code",
   "execution_count": 13,
   "metadata": {},
   "outputs": [],
   "source": [
    "for i, row in df_votos.iterrows():\n",
    "    for morador in urna.dict_condominio[row[\"Apartamento\"]][1]:\n",
    "        if morador.nome == row[\"Nome\"]:\n",
    "            urna.registra_voto(row[\"Apartamento\"], morador, row[\"Voto ID\"], row['Voto Nome'])"
   ]
  },
  {
   "cell_type": "code",
   "execution_count": 14,
   "metadata": {},
   "outputs": [
    {
     "data": {
      "text/plain": [
       "{(10, 'Alice'): 2, (20, 'Julia'): 0, (30, 'Gabriel'): 1, (40, 'Alessandro'): 5}"
      ]
     },
     "execution_count": 14,
     "metadata": {},
     "output_type": "execute_result"
    }
   ],
   "source": [
    "urna.dict_voto_candidato"
   ]
  },
  {
   "cell_type": "code",
   "execution_count": 15,
   "metadata": {},
   "outputs": [
    {
     "data": {
      "text/plain": [
       "([(40, 'Alessandro'), (10, 'Alice'), (30, 'Gabriel'), (20, 'Julia')],\n",
       " [5, 2, 1, 0])"
      ]
     },
     "execution_count": 15,
     "metadata": {},
     "output_type": "execute_result"
    }
   ],
   "source": [
    "urna.finaliza_urna()"
   ]
  },
  {
   "cell_type": "code",
   "execution_count": 16,
   "metadata": {},
   "outputs": [
    {
     "data": {
      "text/plain": [
       "{101: True,\n",
       " 102: True,\n",
       " 104: True,\n",
       " 105: True,\n",
       " 106: True,\n",
       " 107: True,\n",
       " 108: True,\n",
       " 109: True,\n",
       " 110: True}"
      ]
     },
     "execution_count": 16,
     "metadata": {},
     "output_type": "execute_result"
    }
   ],
   "source": [
    "urna.dict_status_ap "
   ]
  },
  {
   "cell_type": "code",
   "execution_count": 17,
   "metadata": {},
   "outputs": [
    {
     "data": {
      "text/plain": [
       "{'válido': 8, 'nulo': 0, 'branco': 1, 'abstenção': 1}"
      ]
     },
     "execution_count": 17,
     "metadata": {},
     "output_type": "execute_result"
    }
   ],
   "source": [
    "urna.dict_conta_status"
   ]
  },
  {
   "cell_type": "code",
   "execution_count": null,
   "metadata": {},
   "outputs": [],
   "source": []
  },
  {
   "cell_type": "code",
   "execution_count": 18,
   "metadata": {
    "id": "th-Tnw_7elQB"
   },
   "outputs": [],
   "source": [
    "import matplotlib.pyplot as plt\n",
    "\n",
    "def graficoVotos(candidatos, votos):\n",
    "    plt.bar(candidatos, votos)\n",
    "    plt.title('Resultado das eleições')\n",
    "    plt.xlabel('Candidatos')\n",
    "    plt.ylabel('Votos')\n",
    "    "
   ]
  },
  {
   "cell_type": "code",
   "execution_count": 19,
   "metadata": {},
   "outputs": [
    {
     "data": {
      "text/plain": [
       "([(40, 'Alessandro'), (10, 'Alice'), (30, 'Gabriel'), (20, 'Julia')],\n",
       " [5, 2, 1, 0])"
      ]
     },
     "execution_count": 19,
     "metadata": {},
     "output_type": "execute_result"
    }
   ],
   "source": [
    "urna.finaliza_urna()"
   ]
  },
  {
   "cell_type": "code",
   "execution_count": 20,
   "metadata": {},
   "outputs": [],
   "source": [
    "candidatos = [urna.finaliza_urna()[0][n][1] for n in range(len(urna.finaliza_urna()[0]))]\n",
    "    "
   ]
  },
  {
   "cell_type": "code",
   "execution_count": 21,
   "metadata": {},
   "outputs": [
    {
     "data": {
      "text/plain": [
       "['Alessandro', 'Alice', 'Gabriel', 'Julia']"
      ]
     },
     "execution_count": 21,
     "metadata": {},
     "output_type": "execute_result"
    }
   ],
   "source": [
    "candidatos"
   ]
  },
  {
   "cell_type": "code",
   "execution_count": 22,
   "metadata": {},
   "outputs": [],
   "source": [
    "votos = urna.finaliza_urna()[1]"
   ]
  },
  {
   "cell_type": "code",
   "execution_count": 23,
   "metadata": {},
   "outputs": [
    {
     "data": {
      "image/png": "[encoded data removed]",
      "text/plain": [
       "<Figure size 432x288 with 1 Axes>"
      ]
     },
     "metadata": {
      "needs_background": "light"
     },
     "output_type": "display_data"
    }
   ],
   "source": [
    "graficoVotos(candidatos, votos)"
   ]
  },
  {
   "cell_type": "code",
   "execution_count": 24,
   "metadata": {},
   "outputs": [
    {
     "data": {
      "text/plain": [
       "{'válido': 8, 'nulo': 0, 'branco': 1, 'abstenção': 1}"
      ]
     },
     "execution_count": 24,
     "metadata": {},
     "output_type": "execute_result"
    }
   ],
   "source": [
    "urna.dict_conta_status"
   ]
  },
  {
   "cell_type": "code",
   "execution_count": 25,
   "metadata": {},
   "outputs": [],
   "source": [
    "votos_validade = list(urna.dict_conta_status.keys())"
   ]
  },
  {
   "cell_type": "code",
   "execution_count": 26,
   "metadata": {},
   "outputs": [
    {
     "data": {
      "text/plain": [
       "['válido', 'nulo', 'branco', 'abstenção']"
      ]
     },
     "execution_count": 26,
     "metadata": {},
     "output_type": "execute_result"
    }
   ],
   "source": [
    "votos_validade"
   ]
  },
  {
   "cell_type": "code",
   "execution_count": 27,
   "metadata": {},
   "outputs": [],
   "source": [
    "validacao = list(urna.dict_conta_status.values())"
   ]
  },
  {
   "cell_type": "code",
   "execution_count": 28,
   "metadata": {},
   "outputs": [
    {
     "data": {
      "image/png": "[encoded data removed]",
      "text/plain": [
       "<Figure size 432x288 with 1 Axes>"
      ]
     },
     "metadata": {
      "needs_background": "light"
     },
     "output_type": "display_data"
    }
   ],
   "source": [
    "graficoVotos(votos_validade, validacao)"
   ]
  },
  {
   "cell_type": "code",
   "execution_count": null,
   "metadata": {},
   "outputs": [],
   "source": []
  }
 ],
 "metadata": {
  "colab": {
   "collapsed_sections": [],
   "name": "MOD2_PROJ2_GRP11_v3.ipynb",
   "provenance": [
    {
     "file_id": "1dKWDyMNvpJzU5BXX3JMWrZHUhRjJKAQD",
     "timestamp": 1637799049111
    }
   ]
  },
  "kernelspec": {
   "display_name": "Python 3",
   "language": "python",
   "name": "python3"
  },
  "language_info": {
   "codemirror_mode": {
    "name": "ipython",
    "version": 3
   },
   "file_extension": ".py",
   "mimetype": "text/x-python",
   "name": "python",
   "nbconvert_exporter": "python",
   "pygments_lexer": "ipython3",
   "version": "3.8.8"
  }
 },
 "nbformat": 4,
 "nbformat_minor": 1
}
